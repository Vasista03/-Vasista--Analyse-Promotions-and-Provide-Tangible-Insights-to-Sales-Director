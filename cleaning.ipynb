{
 "cells": [
  {
   "cell_type": "code",
   "execution_count": 1,
   "id": "1eeee24f",
   "metadata": {},
   "outputs": [],
   "source": [
    "import numpy as np\n",
    "import pandas as pd"
   ]
  },
  {
   "cell_type": "code",
   "execution_count": 7,
   "id": "cfcfc902",
   "metadata": {},
   "outputs": [],
   "source": [
    "campaign_data = pd.read_csv('./dataset/dim_campaigns.csv')\n",
    "product_data=pd.read_csv('./dataset/dim_products.csv')\n",
    "stores_data=pd.read_csv('./dataset/dim_stores.csv')\n",
    "\n",
    "event_data=pd.read_csv('./dataset/fact_events.csv')"
   ]
  },
  {
   "cell_type": "code",
   "execution_count": 9,
   "id": "3ceee919",
   "metadata": {},
   "outputs": [
    {
     "name": "stdout",
     "output_type": "stream",
     "text": [
      "<class 'pandas.core.frame.DataFrame'>\n",
      "RangeIndex: 2 entries, 0 to 1\n",
      "Data columns (total 4 columns):\n",
      " #   Column         Non-Null Count  Dtype \n",
      "---  ------         --------------  ----- \n",
      " 0   campaign_id    2 non-null      object\n",
      " 1   campaign_name  2 non-null      object\n",
      " 2   start_date     2 non-null      object\n",
      " 3   end_date       2 non-null      object\n",
      "dtypes: object(4)\n",
      "memory usage: 196.0+ bytes\n"
     ]
    },
    {
     "data": {
      "application/vnd.microsoft.datawrangler.viewer.v0+json": {
       "columns": [
        {
         "name": "index",
         "rawType": "int64",
         "type": "integer"
        },
        {
         "name": "campaign_id",
         "rawType": "object",
         "type": "string"
        },
        {
         "name": "campaign_name",
         "rawType": "object",
         "type": "string"
        },
        {
         "name": "start_date",
         "rawType": "object",
         "type": "string"
        },
        {
         "name": "end_date",
         "rawType": "object",
         "type": "string"
        }
       ],
       "ref": "31e91034-d4cf-4b1a-8539-3f21e8986298",
       "rows": [
        [
         "0",
         "CAMP_DIW_01",
         "Diwali",
         "12-11-2023",
         "18-11-2023"
        ],
        [
         "1",
         "CAMP_SAN_01",
         "Sankranti",
         "10-01-2024",
         "16-01-2024"
        ]
       ],
       "shape": {
        "columns": 4,
        "rows": 2
       }
      },
      "text/html": [
       "<div>\n",
       "<style scoped>\n",
       "    .dataframe tbody tr th:only-of-type {\n",
       "        vertical-align: middle;\n",
       "    }\n",
       "\n",
       "    .dataframe tbody tr th {\n",
       "        vertical-align: top;\n",
       "    }\n",
       "\n",
       "    .dataframe thead th {\n",
       "        text-align: right;\n",
       "    }\n",
       "</style>\n",
       "<table border=\"1\" class=\"dataframe\">\n",
       "  <thead>\n",
       "    <tr style=\"text-align: right;\">\n",
       "      <th></th>\n",
       "      <th>campaign_id</th>\n",
       "      <th>campaign_name</th>\n",
       "      <th>start_date</th>\n",
       "      <th>end_date</th>\n",
       "    </tr>\n",
       "  </thead>\n",
       "  <tbody>\n",
       "    <tr>\n",
       "      <th>0</th>\n",
       "      <td>CAMP_DIW_01</td>\n",
       "      <td>Diwali</td>\n",
       "      <td>12-11-2023</td>\n",
       "      <td>18-11-2023</td>\n",
       "    </tr>\n",
       "    <tr>\n",
       "      <th>1</th>\n",
       "      <td>CAMP_SAN_01</td>\n",
       "      <td>Sankranti</td>\n",
       "      <td>10-01-2024</td>\n",
       "      <td>16-01-2024</td>\n",
       "    </tr>\n",
       "  </tbody>\n",
       "</table>\n",
       "</div>"
      ],
      "text/plain": [
       "   campaign_id campaign_name  start_date    end_date\n",
       "0  CAMP_DIW_01        Diwali  12-11-2023  18-11-2023\n",
       "1  CAMP_SAN_01     Sankranti  10-01-2024  16-01-2024"
      ]
     },
     "execution_count": 9,
     "metadata": {},
     "output_type": "execute_result"
    }
   ],
   "source": [
    "campaign_data.info()\n",
    "\n",
    "campaign_data.head()"
   ]
  },
  {
   "cell_type": "code",
   "execution_count": null,
   "id": "e622deeb",
   "metadata": {},
   "outputs": [
    {
     "name": "stdout",
     "output_type": "stream",
     "text": [
      "<class 'pandas.core.frame.DataFrame'>\n",
      "RangeIndex: 15 entries, 0 to 14\n",
      "Data columns (total 3 columns):\n",
      " #   Column        Non-Null Count  Dtype \n",
      "---  ------        --------------  ----- \n",
      " 0   product_code  15 non-null     object\n",
      " 1   product_name  15 non-null     object\n",
      " 2   category      15 non-null     object\n",
      "dtypes: object(3)\n",
      "memory usage: 492.0+ bytes\n"
     ]
    },
    {
     "data": {
      "application/vnd.microsoft.datawrangler.viewer.v0+json": {
       "columns": [
        {
         "name": "index",
         "rawType": "int64",
         "type": "integer"
        },
        {
         "name": "product_code",
         "rawType": "object",
         "type": "string"
        },
        {
         "name": "product_name",
         "rawType": "object",
         "type": "string"
        },
        {
         "name": "category",
         "rawType": "object",
         "type": "string"
        }
       ],
       "ref": "253507f8-6177-4384-8a96-7b462aabf49b",
       "rows": [
        [
         "0",
         "P01",
         "Atliq_Masoor_Dal (1KG)",
         "Grocery & Staples"
        ],
        [
         "1",
         "P02",
         "Atliq_Sonamasuri_Rice (10KG)",
         "Grocery & Staples"
        ],
        [
         "2",
         "P03",
         "Atliq_Suflower_Oil (1L)",
         "Grocery & Staples"
        ],
        [
         "3",
         "P04",
         "Atliq_Farm_Chakki_Atta (1KG)",
         "Grocery & Staples"
        ],
        [
         "4",
         "P05",
         "Atliq_Scrub_Sponge_For_Dishwash",
         "Home Care"
        ]
       ],
       "shape": {
        "columns": 3,
        "rows": 5
       }
      },
      "text/html": [
       "<div>\n",
       "<style scoped>\n",
       "    .dataframe tbody tr th:only-of-type {\n",
       "        vertical-align: middle;\n",
       "    }\n",
       "\n",
       "    .dataframe tbody tr th {\n",
       "        vertical-align: top;\n",
       "    }\n",
       "\n",
       "    .dataframe thead th {\n",
       "        text-align: right;\n",
       "    }\n",
       "</style>\n",
       "<table border=\"1\" class=\"dataframe\">\n",
       "  <thead>\n",
       "    <tr style=\"text-align: right;\">\n",
       "      <th></th>\n",
       "      <th>product_code</th>\n",
       "      <th>product_name</th>\n",
       "      <th>category</th>\n",
       "    </tr>\n",
       "  </thead>\n",
       "  <tbody>\n",
       "    <tr>\n",
       "      <th>0</th>\n",
       "      <td>P01</td>\n",
       "      <td>Atliq_Masoor_Dal (1KG)</td>\n",
       "      <td>Grocery &amp; Staples</td>\n",
       "    </tr>\n",
       "    <tr>\n",
       "      <th>1</th>\n",
       "      <td>P02</td>\n",
       "      <td>Atliq_Sonamasuri_Rice (10KG)</td>\n",
       "      <td>Grocery &amp; Staples</td>\n",
       "    </tr>\n",
       "    <tr>\n",
       "      <th>2</th>\n",
       "      <td>P03</td>\n",
       "      <td>Atliq_Suflower_Oil (1L)</td>\n",
       "      <td>Grocery &amp; Staples</td>\n",
       "    </tr>\n",
       "    <tr>\n",
       "      <th>3</th>\n",
       "      <td>P04</td>\n",
       "      <td>Atliq_Farm_Chakki_Atta (1KG)</td>\n",
       "      <td>Grocery &amp; Staples</td>\n",
       "    </tr>\n",
       "    <tr>\n",
       "      <th>4</th>\n",
       "      <td>P05</td>\n",
       "      <td>Atliq_Scrub_Sponge_For_Dishwash</td>\n",
       "      <td>Home Care</td>\n",
       "    </tr>\n",
       "  </tbody>\n",
       "</table>\n",
       "</div>"
      ],
      "text/plain": [
       "  product_code                     product_name           category\n",
       "0          P01           Atliq_Masoor_Dal (1KG)  Grocery & Staples\n",
       "1          P02     Atliq_Sonamasuri_Rice (10KG)  Grocery & Staples\n",
       "2          P03          Atliq_Suflower_Oil (1L)  Grocery & Staples\n",
       "3          P04     Atliq_Farm_Chakki_Atta (1KG)  Grocery & Staples\n",
       "4          P05  Atliq_Scrub_Sponge_For_Dishwash          Home Care"
      ]
     },
     "execution_count": 10,
     "metadata": {},
     "output_type": "execute_result"
    }
   ],
   "source": [
    "product_data.info()\n",
    "\n",
    "product_data.head()"
   ]
  },
  {
   "cell_type": "code",
   "execution_count": 11,
   "id": "64807e0a",
   "metadata": {},
   "outputs": [
    {
     "name": "stdout",
     "output_type": "stream",
     "text": [
      "<class 'pandas.core.frame.DataFrame'>\n",
      "RangeIndex: 50 entries, 0 to 49\n",
      "Data columns (total 2 columns):\n",
      " #   Column    Non-Null Count  Dtype \n",
      "---  ------    --------------  ----- \n",
      " 0   store_id  50 non-null     object\n",
      " 1   city      50 non-null     object\n",
      "dtypes: object(2)\n",
      "memory usage: 932.0+ bytes\n"
     ]
    },
    {
     "data": {
      "application/vnd.microsoft.datawrangler.viewer.v0+json": {
       "columns": [
        {
         "name": "index",
         "rawType": "int64",
         "type": "integer"
        },
        {
         "name": "store_id",
         "rawType": "object",
         "type": "string"
        },
        {
         "name": "city",
         "rawType": "object",
         "type": "string"
        }
       ],
       "ref": "15354355-ac27-4196-9842-e059394fd70d",
       "rows": [
        [
         "0",
         "STTRV-0",
         "Trivandrum"
        ],
        [
         "1",
         "STMDU-3",
         "Madurai"
        ],
        [
         "2",
         "STHYD-6",
         "Hyderabad"
        ],
        [
         "3",
         "STVSK-1",
         "Visakhapatnam"
        ],
        [
         "4",
         "STCBE-3",
         "Coimbatore"
        ]
       ],
       "shape": {
        "columns": 2,
        "rows": 5
       }
      },
      "text/html": [
       "<div>\n",
       "<style scoped>\n",
       "    .dataframe tbody tr th:only-of-type {\n",
       "        vertical-align: middle;\n",
       "    }\n",
       "\n",
       "    .dataframe tbody tr th {\n",
       "        vertical-align: top;\n",
       "    }\n",
       "\n",
       "    .dataframe thead th {\n",
       "        text-align: right;\n",
       "    }\n",
       "</style>\n",
       "<table border=\"1\" class=\"dataframe\">\n",
       "  <thead>\n",
       "    <tr style=\"text-align: right;\">\n",
       "      <th></th>\n",
       "      <th>store_id</th>\n",
       "      <th>city</th>\n",
       "    </tr>\n",
       "  </thead>\n",
       "  <tbody>\n",
       "    <tr>\n",
       "      <th>0</th>\n",
       "      <td>STTRV-0</td>\n",
       "      <td>Trivandrum</td>\n",
       "    </tr>\n",
       "    <tr>\n",
       "      <th>1</th>\n",
       "      <td>STMDU-3</td>\n",
       "      <td>Madurai</td>\n",
       "    </tr>\n",
       "    <tr>\n",
       "      <th>2</th>\n",
       "      <td>STHYD-6</td>\n",
       "      <td>Hyderabad</td>\n",
       "    </tr>\n",
       "    <tr>\n",
       "      <th>3</th>\n",
       "      <td>STVSK-1</td>\n",
       "      <td>Visakhapatnam</td>\n",
       "    </tr>\n",
       "    <tr>\n",
       "      <th>4</th>\n",
       "      <td>STCBE-3</td>\n",
       "      <td>Coimbatore</td>\n",
       "    </tr>\n",
       "  </tbody>\n",
       "</table>\n",
       "</div>"
      ],
      "text/plain": [
       "  store_id           city\n",
       "0  STTRV-0     Trivandrum\n",
       "1  STMDU-3        Madurai\n",
       "2  STHYD-6      Hyderabad\n",
       "3  STVSK-1  Visakhapatnam\n",
       "4  STCBE-3     Coimbatore"
      ]
     },
     "execution_count": 11,
     "metadata": {},
     "output_type": "execute_result"
    }
   ],
   "source": [
    "stores_data.info()\n",
    "stores_data.head()"
   ]
  },
  {
   "cell_type": "code",
   "execution_count": 12,
   "id": "097f4e95",
   "metadata": {},
   "outputs": [
    {
     "name": "stdout",
     "output_type": "stream",
     "text": [
      "<class 'pandas.core.frame.DataFrame'>\n",
      "RangeIndex: 1500 entries, 0 to 1499\n",
      "Data columns (total 8 columns):\n",
      " #   Column                       Non-Null Count  Dtype \n",
      "---  ------                       --------------  ----- \n",
      " 0   event_id                     1500 non-null   object\n",
      " 1   store_id                     1500 non-null   object\n",
      " 2   campaign_id                  1500 non-null   object\n",
      " 3   product_code                 1500 non-null   object\n",
      " 4   base_price                   1500 non-null   int64 \n",
      " 5   promo_type                   1500 non-null   object\n",
      " 6   quantity_sold(before_promo)  1500 non-null   int64 \n",
      " 7   quantity_sold(after_promo)   1500 non-null   int64 \n",
      "dtypes: int64(3), object(5)\n",
      "memory usage: 93.9+ KB\n"
     ]
    },
    {
     "data": {
      "application/vnd.microsoft.datawrangler.viewer.v0+json": {
       "columns": [
        {
         "name": "index",
         "rawType": "int64",
         "type": "integer"
        },
        {
         "name": "event_id",
         "rawType": "object",
         "type": "string"
        },
        {
         "name": "store_id",
         "rawType": "object",
         "type": "string"
        },
        {
         "name": "campaign_id",
         "rawType": "object",
         "type": "string"
        },
        {
         "name": "product_code",
         "rawType": "object",
         "type": "string"
        },
        {
         "name": "base_price",
         "rawType": "int64",
         "type": "integer"
        },
        {
         "name": "promo_type",
         "rawType": "object",
         "type": "string"
        },
        {
         "name": "quantity_sold(before_promo)",
         "rawType": "int64",
         "type": "integer"
        },
        {
         "name": "quantity_sold(after_promo)",
         "rawType": "int64",
         "type": "integer"
        }
       ],
       "ref": "6a2b303f-c6e4-4918-8fc0-bad1096145de",
       "rows": [
        [
         "0",
         "7f650b",
         "STCBE-2",
         "CAMP_SAN_01",
         "P11",
         "190",
         "50% OFF",
         "34",
         "52"
        ],
        [
         "1",
         "a21f91",
         "STBLR-8",
         "CAMP_DIW_01",
         "P03",
         "156",
         "25% OFF",
         "393",
         "322"
        ],
        [
         "2",
         "78bc80",
         "STVJD-0",
         "CAMP_SAN_01",
         "P07",
         "300",
         "BOGOF",
         "22",
         "85"
        ],
        [
         "3",
         "a1503f",
         "STCBE-1",
         "CAMP_DIW_01",
         "P15",
         "3000",
         "500 Cashback",
         "329",
         "1000"
        ],
        [
         "4",
         "1091cf",
         "STBLR-6",
         "CAMP_DIW_01",
         "P05",
         "55",
         "25% OFF",
         "108",
         "93"
        ]
       ],
       "shape": {
        "columns": 8,
        "rows": 5
       }
      },
      "text/html": [
       "<div>\n",
       "<style scoped>\n",
       "    .dataframe tbody tr th:only-of-type {\n",
       "        vertical-align: middle;\n",
       "    }\n",
       "\n",
       "    .dataframe tbody tr th {\n",
       "        vertical-align: top;\n",
       "    }\n",
       "\n",
       "    .dataframe thead th {\n",
       "        text-align: right;\n",
       "    }\n",
       "</style>\n",
       "<table border=\"1\" class=\"dataframe\">\n",
       "  <thead>\n",
       "    <tr style=\"text-align: right;\">\n",
       "      <th></th>\n",
       "      <th>event_id</th>\n",
       "      <th>store_id</th>\n",
       "      <th>campaign_id</th>\n",
       "      <th>product_code</th>\n",
       "      <th>base_price</th>\n",
       "      <th>promo_type</th>\n",
       "      <th>quantity_sold(before_promo)</th>\n",
       "      <th>quantity_sold(after_promo)</th>\n",
       "    </tr>\n",
       "  </thead>\n",
       "  <tbody>\n",
       "    <tr>\n",
       "      <th>0</th>\n",
       "      <td>7f650b</td>\n",
       "      <td>STCBE-2</td>\n",
       "      <td>CAMP_SAN_01</td>\n",
       "      <td>P11</td>\n",
       "      <td>190</td>\n",
       "      <td>50% OFF</td>\n",
       "      <td>34</td>\n",
       "      <td>52</td>\n",
       "    </tr>\n",
       "    <tr>\n",
       "      <th>1</th>\n",
       "      <td>a21f91</td>\n",
       "      <td>STBLR-8</td>\n",
       "      <td>CAMP_DIW_01</td>\n",
       "      <td>P03</td>\n",
       "      <td>156</td>\n",
       "      <td>25% OFF</td>\n",
       "      <td>393</td>\n",
       "      <td>322</td>\n",
       "    </tr>\n",
       "    <tr>\n",
       "      <th>2</th>\n",
       "      <td>78bc80</td>\n",
       "      <td>STVJD-0</td>\n",
       "      <td>CAMP_SAN_01</td>\n",
       "      <td>P07</td>\n",
       "      <td>300</td>\n",
       "      <td>BOGOF</td>\n",
       "      <td>22</td>\n",
       "      <td>85</td>\n",
       "    </tr>\n",
       "    <tr>\n",
       "      <th>3</th>\n",
       "      <td>a1503f</td>\n",
       "      <td>STCBE-1</td>\n",
       "      <td>CAMP_DIW_01</td>\n",
       "      <td>P15</td>\n",
       "      <td>3000</td>\n",
       "      <td>500 Cashback</td>\n",
       "      <td>329</td>\n",
       "      <td>1000</td>\n",
       "    </tr>\n",
       "    <tr>\n",
       "      <th>4</th>\n",
       "      <td>1091cf</td>\n",
       "      <td>STBLR-6</td>\n",
       "      <td>CAMP_DIW_01</td>\n",
       "      <td>P05</td>\n",
       "      <td>55</td>\n",
       "      <td>25% OFF</td>\n",
       "      <td>108</td>\n",
       "      <td>93</td>\n",
       "    </tr>\n",
       "  </tbody>\n",
       "</table>\n",
       "</div>"
      ],
      "text/plain": [
       "  event_id store_id  campaign_id product_code  base_price    promo_type  \\\n",
       "0   7f650b  STCBE-2  CAMP_SAN_01          P11         190       50% OFF   \n",
       "1   a21f91  STBLR-8  CAMP_DIW_01          P03         156       25% OFF   \n",
       "2   78bc80  STVJD-0  CAMP_SAN_01          P07         300         BOGOF   \n",
       "3   a1503f  STCBE-1  CAMP_DIW_01          P15        3000  500 Cashback   \n",
       "4   1091cf  STBLR-6  CAMP_DIW_01          P05          55       25% OFF   \n",
       "\n",
       "   quantity_sold(before_promo)  quantity_sold(after_promo)  \n",
       "0                           34                          52  \n",
       "1                          393                         322  \n",
       "2                           22                          85  \n",
       "3                          329                        1000  \n",
       "4                          108                          93  "
      ]
     },
     "execution_count": 12,
     "metadata": {},
     "output_type": "execute_result"
    }
   ],
   "source": [
    "event_data.info()\n",
    "event_data.head()"
   ]
  },
  {
   "cell_type": "code",
   "execution_count": null,
   "id": "bc2744ae",
   "metadata": {},
   "outputs": [],
   "source": []
  }
 ],
 "metadata": {
  "kernelspec": {
   "display_name": "Python 3",
   "language": "python",
   "name": "python3"
  },
  "language_info": {
   "codemirror_mode": {
    "name": "ipython",
    "version": 3
   },
   "file_extension": ".py",
   "mimetype": "text/x-python",
   "name": "python",
   "nbconvert_exporter": "python",
   "pygments_lexer": "ipython3",
   "version": "3.13.2"
  }
 },
 "nbformat": 4,
 "nbformat_minor": 5
}
