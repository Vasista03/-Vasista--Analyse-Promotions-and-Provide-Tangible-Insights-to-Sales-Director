{
 "cells": [
  {
   "cell_type": "code",
   "execution_count": 136,
   "id": "1eeee24f",
   "metadata": {},
   "outputs": [],
   "source": [
    "import numpy as np\n",
    "import pandas as pd\n",
    "from datetime import datetime\n",
    "import plotly.express as px"
   ]
  },
  {
   "cell_type": "code",
   "execution_count": 137,
   "id": "cfcfc902",
   "metadata": {},
   "outputs": [],
   "source": [
    "campaign_data = pd.read_csv('./dataset/dim_campaigns.csv')\n",
    "product_data=pd.read_csv('./dataset/dim_products.csv')\n",
    "stores_data=pd.read_csv('./dataset/dim_stores.csv')\n",
    "\n",
    "event_data=pd.read_csv('./dataset/fact_events.csv')"
   ]
  },
  {
   "cell_type": "code",
   "execution_count": 138,
   "id": "3ceee919",
   "metadata": {},
   "outputs": [
    {
     "name": "stdout",
     "output_type": "stream",
     "text": [
      "<class 'pandas.core.frame.DataFrame'>\n",
      "RangeIndex: 2 entries, 0 to 1\n",
      "Data columns (total 4 columns):\n",
      " #   Column         Non-Null Count  Dtype \n",
      "---  ------         --------------  ----- \n",
      " 0   campaign_id    2 non-null      object\n",
      " 1   campaign_name  2 non-null      object\n",
      " 2   start_date     2 non-null      object\n",
      " 3   end_date       2 non-null      object\n",
      "dtypes: object(4)\n",
      "memory usage: 196.0+ bytes\n"
     ]
    },
    {
     "data": {
      "application/vnd.microsoft.datawrangler.viewer.v0+json": {
       "columns": [
        {
         "name": "index",
         "rawType": "int64",
         "type": "integer"
        },
        {
         "name": "campaign_id",
         "rawType": "object",
         "type": "string"
        },
        {
         "name": "campaign_name",
         "rawType": "object",
         "type": "string"
        },
        {
         "name": "start_date",
         "rawType": "object",
         "type": "string"
        },
        {
         "name": "end_date",
         "rawType": "object",
         "type": "string"
        }
       ],
       "ref": "d80e6356-bba4-47ff-bba0-b268328d52c1",
       "rows": [
        [
         "0",
         "CAMP_DIW_01",
         "Diwali",
         "12-11-2023",
         "18-11-2023"
        ],
        [
         "1",
         "CAMP_SAN_01",
         "Sankranti",
         "10-01-2024",
         "16-01-2024"
        ]
       ],
       "shape": {
        "columns": 4,
        "rows": 2
       }
      },
      "text/html": [
       "<div>\n",
       "<style scoped>\n",
       "    .dataframe tbody tr th:only-of-type {\n",
       "        vertical-align: middle;\n",
       "    }\n",
       "\n",
       "    .dataframe tbody tr th {\n",
       "        vertical-align: top;\n",
       "    }\n",
       "\n",
       "    .dataframe thead th {\n",
       "        text-align: right;\n",
       "    }\n",
       "</style>\n",
       "<table border=\"1\" class=\"dataframe\">\n",
       "  <thead>\n",
       "    <tr style=\"text-align: right;\">\n",
       "      <th></th>\n",
       "      <th>campaign_id</th>\n",
       "      <th>campaign_name</th>\n",
       "      <th>start_date</th>\n",
       "      <th>end_date</th>\n",
       "    </tr>\n",
       "  </thead>\n",
       "  <tbody>\n",
       "    <tr>\n",
       "      <th>0</th>\n",
       "      <td>CAMP_DIW_01</td>\n",
       "      <td>Diwali</td>\n",
       "      <td>12-11-2023</td>\n",
       "      <td>18-11-2023</td>\n",
       "    </tr>\n",
       "    <tr>\n",
       "      <th>1</th>\n",
       "      <td>CAMP_SAN_01</td>\n",
       "      <td>Sankranti</td>\n",
       "      <td>10-01-2024</td>\n",
       "      <td>16-01-2024</td>\n",
       "    </tr>\n",
       "  </tbody>\n",
       "</table>\n",
       "</div>"
      ],
      "text/plain": [
       "   campaign_id campaign_name  start_date    end_date\n",
       "0  CAMP_DIW_01        Diwali  12-11-2023  18-11-2023\n",
       "1  CAMP_SAN_01     Sankranti  10-01-2024  16-01-2024"
      ]
     },
     "execution_count": 138,
     "metadata": {},
     "output_type": "execute_result"
    }
   ],
   "source": [
    "campaign_data.info()\n",
    "\n",
    "campaign_data.head()"
   ]
  },
  {
   "cell_type": "code",
   "execution_count": 139,
   "id": "17b27014",
   "metadata": {},
   "outputs": [
    {
     "name": "stdout",
     "output_type": "stream",
     "text": [
      "<class 'str'>\n",
      "<class 'pandas.core.series.Series'>\n"
     ]
    }
   ],
   "source": [
    "#checking the datatype of the date columns\n",
    "\n",
    "print(type(campaign_data.start_date[0]))\n",
    "print(type( campaign_data.end_date))"
   ]
  },
  {
   "cell_type": "code",
   "execution_count": 140,
   "id": "6e1e10e4",
   "metadata": {},
   "outputs": [
    {
     "name": "stdout",
     "output_type": "stream",
     "text": [
      "<class 'pandas._libs.tslibs.timestamps.Timestamp'>\n",
      "<class 'pandas._libs.tslibs.timestamps.Timestamp'>\n"
     ]
    }
   ],
   "source": [
    "#changing the datatype of the date columns to datetime\n",
    "campaign_data['start_date'] = campaign_data['start_date'].apply(pd.to_datetime, format = \"%d-%m-%Y\")\n",
    "campaign_data['end_date'] = campaign_data['end_date'].apply(pd.to_datetime, format = \"%d-%m-%Y\")\n",
    "print(type(campaign_data.start_date[0]))\n",
    "print(type( campaign_data.end_date[1]))"
   ]
  },
  {
   "cell_type": "code",
   "execution_count": 141,
   "id": "77ddf845",
   "metadata": {},
   "outputs": [
    {
     "name": "stdout",
     "output_type": "stream",
     "text": [
      "<class 'pandas.core.frame.DataFrame'>\n",
      "RangeIndex: 2 entries, 0 to 1\n",
      "Data columns (total 4 columns):\n",
      " #   Column         Non-Null Count  Dtype         \n",
      "---  ------         --------------  -----         \n",
      " 0   campaign_id    2 non-null      object        \n",
      " 1   campaign_name  2 non-null      object        \n",
      " 2   start_date     2 non-null      datetime64[ns]\n",
      " 3   end_date       2 non-null      datetime64[ns]\n",
      "dtypes: datetime64[ns](2), object(2)\n",
      "memory usage: 196.0+ bytes\n"
     ]
    },
    {
     "data": {
      "application/vnd.microsoft.datawrangler.viewer.v0+json": {
       "columns": [
        {
         "name": "index",
         "rawType": "int64",
         "type": "integer"
        },
        {
         "name": "campaign_id",
         "rawType": "object",
         "type": "string"
        },
        {
         "name": "campaign_name",
         "rawType": "object",
         "type": "string"
        },
        {
         "name": "start_date",
         "rawType": "datetime64[ns]",
         "type": "datetime"
        },
        {
         "name": "end_date",
         "rawType": "datetime64[ns]",
         "type": "datetime"
        }
       ],
       "ref": "f8cca205-a0c7-42b7-8d6a-d1b792858ec5",
       "rows": [
        [
         "0",
         "CAMP_DIW_01",
         "Diwali",
         "2023-11-12 00:00:00",
         "2023-11-18 00:00:00"
        ],
        [
         "1",
         "CAMP_SAN_01",
         "Sankranti",
         "2024-01-10 00:00:00",
         "2024-01-16 00:00:00"
        ]
       ],
       "shape": {
        "columns": 4,
        "rows": 2
       }
      },
      "text/html": [
       "<div>\n",
       "<style scoped>\n",
       "    .dataframe tbody tr th:only-of-type {\n",
       "        vertical-align: middle;\n",
       "    }\n",
       "\n",
       "    .dataframe tbody tr th {\n",
       "        vertical-align: top;\n",
       "    }\n",
       "\n",
       "    .dataframe thead th {\n",
       "        text-align: right;\n",
       "    }\n",
       "</style>\n",
       "<table border=\"1\" class=\"dataframe\">\n",
       "  <thead>\n",
       "    <tr style=\"text-align: right;\">\n",
       "      <th></th>\n",
       "      <th>campaign_id</th>\n",
       "      <th>campaign_name</th>\n",
       "      <th>start_date</th>\n",
       "      <th>end_date</th>\n",
       "    </tr>\n",
       "  </thead>\n",
       "  <tbody>\n",
       "    <tr>\n",
       "      <th>0</th>\n",
       "      <td>CAMP_DIW_01</td>\n",
       "      <td>Diwali</td>\n",
       "      <td>2023-11-12</td>\n",
       "      <td>2023-11-18</td>\n",
       "    </tr>\n",
       "    <tr>\n",
       "      <th>1</th>\n",
       "      <td>CAMP_SAN_01</td>\n",
       "      <td>Sankranti</td>\n",
       "      <td>2024-01-10</td>\n",
       "      <td>2024-01-16</td>\n",
       "    </tr>\n",
       "  </tbody>\n",
       "</table>\n",
       "</div>"
      ],
      "text/plain": [
       "   campaign_id campaign_name start_date   end_date\n",
       "0  CAMP_DIW_01        Diwali 2023-11-12 2023-11-18\n",
       "1  CAMP_SAN_01     Sankranti 2024-01-10 2024-01-16"
      ]
     },
     "execution_count": 141,
     "metadata": {},
     "output_type": "execute_result"
    }
   ],
   "source": [
    "campaign_data.info()\n",
    "campaign_data.head()"
   ]
  },
  {
   "cell_type": "code",
   "execution_count": 142,
   "id": "e622deeb",
   "metadata": {},
   "outputs": [
    {
     "name": "stdout",
     "output_type": "stream",
     "text": [
      "<class 'pandas.core.frame.DataFrame'>\n",
      "RangeIndex: 15 entries, 0 to 14\n",
      "Data columns (total 3 columns):\n",
      " #   Column        Non-Null Count  Dtype \n",
      "---  ------        --------------  ----- \n",
      " 0   product_code  15 non-null     object\n",
      " 1   product_name  15 non-null     object\n",
      " 2   category      15 non-null     object\n",
      "dtypes: object(3)\n",
      "memory usage: 492.0+ bytes\n"
     ]
    },
    {
     "data": {
      "application/vnd.microsoft.datawrangler.viewer.v0+json": {
       "columns": [
        {
         "name": "index",
         "rawType": "int64",
         "type": "integer"
        },
        {
         "name": "product_code",
         "rawType": "object",
         "type": "string"
        },
        {
         "name": "product_name",
         "rawType": "object",
         "type": "string"
        },
        {
         "name": "category",
         "rawType": "object",
         "type": "string"
        }
       ],
       "ref": "c5c34138-fd66-4289-9d85-6597e604a319",
       "rows": [
        [
         "0",
         "P01",
         "Atliq_Masoor_Dal (1KG)",
         "Grocery & Staples"
        ],
        [
         "1",
         "P02",
         "Atliq_Sonamasuri_Rice (10KG)",
         "Grocery & Staples"
        ],
        [
         "2",
         "P03",
         "Atliq_Suflower_Oil (1L)",
         "Grocery & Staples"
        ],
        [
         "3",
         "P04",
         "Atliq_Farm_Chakki_Atta (1KG)",
         "Grocery & Staples"
        ],
        [
         "4",
         "P05",
         "Atliq_Scrub_Sponge_For_Dishwash",
         "Home Care"
        ]
       ],
       "shape": {
        "columns": 3,
        "rows": 5
       }
      },
      "text/html": [
       "<div>\n",
       "<style scoped>\n",
       "    .dataframe tbody tr th:only-of-type {\n",
       "        vertical-align: middle;\n",
       "    }\n",
       "\n",
       "    .dataframe tbody tr th {\n",
       "        vertical-align: top;\n",
       "    }\n",
       "\n",
       "    .dataframe thead th {\n",
       "        text-align: right;\n",
       "    }\n",
       "</style>\n",
       "<table border=\"1\" class=\"dataframe\">\n",
       "  <thead>\n",
       "    <tr style=\"text-align: right;\">\n",
       "      <th></th>\n",
       "      <th>product_code</th>\n",
       "      <th>product_name</th>\n",
       "      <th>category</th>\n",
       "    </tr>\n",
       "  </thead>\n",
       "  <tbody>\n",
       "    <tr>\n",
       "      <th>0</th>\n",
       "      <td>P01</td>\n",
       "      <td>Atliq_Masoor_Dal (1KG)</td>\n",
       "      <td>Grocery &amp; Staples</td>\n",
       "    </tr>\n",
       "    <tr>\n",
       "      <th>1</th>\n",
       "      <td>P02</td>\n",
       "      <td>Atliq_Sonamasuri_Rice (10KG)</td>\n",
       "      <td>Grocery &amp; Staples</td>\n",
       "    </tr>\n",
       "    <tr>\n",
       "      <th>2</th>\n",
       "      <td>P03</td>\n",
       "      <td>Atliq_Suflower_Oil (1L)</td>\n",
       "      <td>Grocery &amp; Staples</td>\n",
       "    </tr>\n",
       "    <tr>\n",
       "      <th>3</th>\n",
       "      <td>P04</td>\n",
       "      <td>Atliq_Farm_Chakki_Atta (1KG)</td>\n",
       "      <td>Grocery &amp; Staples</td>\n",
       "    </tr>\n",
       "    <tr>\n",
       "      <th>4</th>\n",
       "      <td>P05</td>\n",
       "      <td>Atliq_Scrub_Sponge_For_Dishwash</td>\n",
       "      <td>Home Care</td>\n",
       "    </tr>\n",
       "  </tbody>\n",
       "</table>\n",
       "</div>"
      ],
      "text/plain": [
       "  product_code                     product_name           category\n",
       "0          P01           Atliq_Masoor_Dal (1KG)  Grocery & Staples\n",
       "1          P02     Atliq_Sonamasuri_Rice (10KG)  Grocery & Staples\n",
       "2          P03          Atliq_Suflower_Oil (1L)  Grocery & Staples\n",
       "3          P04     Atliq_Farm_Chakki_Atta (1KG)  Grocery & Staples\n",
       "4          P05  Atliq_Scrub_Sponge_For_Dishwash          Home Care"
      ]
     },
     "execution_count": 142,
     "metadata": {},
     "output_type": "execute_result"
    }
   ],
   "source": [
    "product_data.info()\n",
    "\n",
    "product_data.head()"
   ]
  },
  {
   "cell_type": "code",
   "execution_count": 143,
   "id": "64807e0a",
   "metadata": {},
   "outputs": [
    {
     "name": "stdout",
     "output_type": "stream",
     "text": [
      "<class 'pandas.core.frame.DataFrame'>\n",
      "RangeIndex: 50 entries, 0 to 49\n",
      "Data columns (total 2 columns):\n",
      " #   Column    Non-Null Count  Dtype \n",
      "---  ------    --------------  ----- \n",
      " 0   store_id  50 non-null     object\n",
      " 1   city      50 non-null     object\n",
      "dtypes: object(2)\n",
      "memory usage: 932.0+ bytes\n"
     ]
    },
    {
     "data": {
      "application/vnd.microsoft.datawrangler.viewer.v0+json": {
       "columns": [
        {
         "name": "index",
         "rawType": "int64",
         "type": "integer"
        },
        {
         "name": "store_id",
         "rawType": "object",
         "type": "string"
        },
        {
         "name": "city",
         "rawType": "object",
         "type": "string"
        }
       ],
       "ref": "ef938430-9fe5-423a-addb-c6d70846255b",
       "rows": [
        [
         "0",
         "STTRV-0",
         "Trivandrum"
        ],
        [
         "1",
         "STMDU-3",
         "Madurai"
        ],
        [
         "2",
         "STHYD-6",
         "Hyderabad"
        ],
        [
         "3",
         "STVSK-1",
         "Visakhapatnam"
        ],
        [
         "4",
         "STCBE-3",
         "Coimbatore"
        ]
       ],
       "shape": {
        "columns": 2,
        "rows": 5
       }
      },
      "text/html": [
       "<div>\n",
       "<style scoped>\n",
       "    .dataframe tbody tr th:only-of-type {\n",
       "        vertical-align: middle;\n",
       "    }\n",
       "\n",
       "    .dataframe tbody tr th {\n",
       "        vertical-align: top;\n",
       "    }\n",
       "\n",
       "    .dataframe thead th {\n",
       "        text-align: right;\n",
       "    }\n",
       "</style>\n",
       "<table border=\"1\" class=\"dataframe\">\n",
       "  <thead>\n",
       "    <tr style=\"text-align: right;\">\n",
       "      <th></th>\n",
       "      <th>store_id</th>\n",
       "      <th>city</th>\n",
       "    </tr>\n",
       "  </thead>\n",
       "  <tbody>\n",
       "    <tr>\n",
       "      <th>0</th>\n",
       "      <td>STTRV-0</td>\n",
       "      <td>Trivandrum</td>\n",
       "    </tr>\n",
       "    <tr>\n",
       "      <th>1</th>\n",
       "      <td>STMDU-3</td>\n",
       "      <td>Madurai</td>\n",
       "    </tr>\n",
       "    <tr>\n",
       "      <th>2</th>\n",
       "      <td>STHYD-6</td>\n",
       "      <td>Hyderabad</td>\n",
       "    </tr>\n",
       "    <tr>\n",
       "      <th>3</th>\n",
       "      <td>STVSK-1</td>\n",
       "      <td>Visakhapatnam</td>\n",
       "    </tr>\n",
       "    <tr>\n",
       "      <th>4</th>\n",
       "      <td>STCBE-3</td>\n",
       "      <td>Coimbatore</td>\n",
       "    </tr>\n",
       "  </tbody>\n",
       "</table>\n",
       "</div>"
      ],
      "text/plain": [
       "  store_id           city\n",
       "0  STTRV-0     Trivandrum\n",
       "1  STMDU-3        Madurai\n",
       "2  STHYD-6      Hyderabad\n",
       "3  STVSK-1  Visakhapatnam\n",
       "4  STCBE-3     Coimbatore"
      ]
     },
     "execution_count": 143,
     "metadata": {},
     "output_type": "execute_result"
    }
   ],
   "source": [
    "stores_data.info()\n",
    "stores_data.head()"
   ]
  },
  {
   "cell_type": "code",
   "execution_count": 144,
   "id": "097f4e95",
   "metadata": {},
   "outputs": [
    {
     "name": "stdout",
     "output_type": "stream",
     "text": [
      "<class 'pandas.core.frame.DataFrame'>\n",
      "RangeIndex: 1500 entries, 0 to 1499\n",
      "Data columns (total 8 columns):\n",
      " #   Column                       Non-Null Count  Dtype \n",
      "---  ------                       --------------  ----- \n",
      " 0   event_id                     1500 non-null   object\n",
      " 1   store_id                     1500 non-null   object\n",
      " 2   campaign_id                  1500 non-null   object\n",
      " 3   product_code                 1500 non-null   object\n",
      " 4   base_price                   1500 non-null   int64 \n",
      " 5   promo_type                   1500 non-null   object\n",
      " 6   quantity_sold(before_promo)  1500 non-null   int64 \n",
      " 7   quantity_sold(after_promo)   1500 non-null   int64 \n",
      "dtypes: int64(3), object(5)\n",
      "memory usage: 93.9+ KB\n"
     ]
    },
    {
     "data": {
      "application/vnd.microsoft.datawrangler.viewer.v0+json": {
       "columns": [
        {
         "name": "index",
         "rawType": "object",
         "type": "string"
        },
        {
         "name": "base_price",
         "rawType": "float64",
         "type": "float"
        },
        {
         "name": "quantity_sold(before_promo)",
         "rawType": "float64",
         "type": "float"
        },
        {
         "name": "quantity_sold(after_promo)",
         "rawType": "float64",
         "type": "float"
        }
       ],
       "ref": "0853273e-6561-4454-b56a-501971cbe52d",
       "rows": [
        [
         "count",
         "1500.0",
         "1500.0",
         "1500.0"
        ],
        [
         "mean",
         "551.9666666666667",
         "139.36666666666667",
         "290.31533333333334"
        ],
        [
         "std",
         "741.3949531389565",
         "131.59682888455382",
         "363.44441270384016"
        ],
        [
         "min",
         "50.0",
         "10.0",
         "9.0"
        ],
        [
         "25%",
         "110.0",
         "45.0",
         "74.0"
        ],
        [
         "50%",
         "295.0",
         "78.0",
         "163.0"
        ],
        [
         "75%",
         "860.0",
         "217.25",
         "337.0"
        ],
        [
         "max",
         "3000.0",
         "642.0",
         "2067.0"
        ]
       ],
       "shape": {
        "columns": 3,
        "rows": 8
       }
      },
      "text/html": [
       "<div>\n",
       "<style scoped>\n",
       "    .dataframe tbody tr th:only-of-type {\n",
       "        vertical-align: middle;\n",
       "    }\n",
       "\n",
       "    .dataframe tbody tr th {\n",
       "        vertical-align: top;\n",
       "    }\n",
       "\n",
       "    .dataframe thead th {\n",
       "        text-align: right;\n",
       "    }\n",
       "</style>\n",
       "<table border=\"1\" class=\"dataframe\">\n",
       "  <thead>\n",
       "    <tr style=\"text-align: right;\">\n",
       "      <th></th>\n",
       "      <th>base_price</th>\n",
       "      <th>quantity_sold(before_promo)</th>\n",
       "      <th>quantity_sold(after_promo)</th>\n",
       "    </tr>\n",
       "  </thead>\n",
       "  <tbody>\n",
       "    <tr>\n",
       "      <th>count</th>\n",
       "      <td>1500.000000</td>\n",
       "      <td>1500.000000</td>\n",
       "      <td>1500.000000</td>\n",
       "    </tr>\n",
       "    <tr>\n",
       "      <th>mean</th>\n",
       "      <td>551.966667</td>\n",
       "      <td>139.366667</td>\n",
       "      <td>290.315333</td>\n",
       "    </tr>\n",
       "    <tr>\n",
       "      <th>std</th>\n",
       "      <td>741.394953</td>\n",
       "      <td>131.596829</td>\n",
       "      <td>363.444413</td>\n",
       "    </tr>\n",
       "    <tr>\n",
       "      <th>min</th>\n",
       "      <td>50.000000</td>\n",
       "      <td>10.000000</td>\n",
       "      <td>9.000000</td>\n",
       "    </tr>\n",
       "    <tr>\n",
       "      <th>25%</th>\n",
       "      <td>110.000000</td>\n",
       "      <td>45.000000</td>\n",
       "      <td>74.000000</td>\n",
       "    </tr>\n",
       "    <tr>\n",
       "      <th>50%</th>\n",
       "      <td>295.000000</td>\n",
       "      <td>78.000000</td>\n",
       "      <td>163.000000</td>\n",
       "    </tr>\n",
       "    <tr>\n",
       "      <th>75%</th>\n",
       "      <td>860.000000</td>\n",
       "      <td>217.250000</td>\n",
       "      <td>337.000000</td>\n",
       "    </tr>\n",
       "    <tr>\n",
       "      <th>max</th>\n",
       "      <td>3000.000000</td>\n",
       "      <td>642.000000</td>\n",
       "      <td>2067.000000</td>\n",
       "    </tr>\n",
       "  </tbody>\n",
       "</table>\n",
       "</div>"
      ],
      "text/plain": [
       "        base_price  quantity_sold(before_promo)  quantity_sold(after_promo)\n",
       "count  1500.000000                  1500.000000                 1500.000000\n",
       "mean    551.966667                   139.366667                  290.315333\n",
       "std     741.394953                   131.596829                  363.444413\n",
       "min      50.000000                    10.000000                    9.000000\n",
       "25%     110.000000                    45.000000                   74.000000\n",
       "50%     295.000000                    78.000000                  163.000000\n",
       "75%     860.000000                   217.250000                  337.000000\n",
       "max    3000.000000                   642.000000                 2067.000000"
      ]
     },
     "execution_count": 144,
     "metadata": {},
     "output_type": "execute_result"
    }
   ],
   "source": [
    "event_data.info()\n",
    "event_data.head()\n",
    "event_data.describe()"
   ]
  },
  {
   "cell_type": "markdown",
   "id": "d3c2adc3",
   "metadata": {},
   "source": [
    "We can see that on average the quantity after being sold are more by around 150 units after promotions, in paticular the maximum units sold are a lot higher."
   ]
  },
  {
   "cell_type": "code",
   "execution_count": 145,
   "id": "11fba17f",
   "metadata": {},
   "outputs": [],
   "source": [
    "import plotly.graph_objects as go\n"
   ]
  },
  {
   "cell_type": "code",
   "execution_count": 146,
   "id": "531f2d34",
   "metadata": {},
   "outputs": [
    {
     "data": {
      "application/vnd.plotly.v1+json": {
       "config": {
        "plotlyServerURL": "https://plot.ly"
       },
       "data": [
        {
         "line": {
          "color": "blue",
          "shape": "spline",
          "width": 3
         },
         "marker": {
          "size": 7,
          "symbol": "circle"
         },
         "mode": "lines+markers",
         "name": "Before Promo",
         "type": "scatter",
         "x": {
          "bdata": "MgA3AD4AQQBaAG4AnACsAL4AyAAiASwBXgFyAZ8BXAP8A6YEuAs=",
          "dtype": "i2"
         },
         "y": {
          "bdata": "mpmZmZkZPECPwvUoXM9MQOxRuB6FS1NAAAAAAADgWECPwvUoXI9KQNejcD0Kd1BAcT0K16PQckBmZmZmZkZwQClcj8L1SEpACtejcD1SdEAAAAAAAGhxQPYoXI/C9UZAzczMzMycVEDNzMzMzAR3QClcj8L1CEpAKVyPwvVMd0DsUbgehStQQKRwPQrXA0VASOF6FK7fa0A=",
          "dtype": "f8"
         }
        },
        {
         "line": {
          "color": "red",
          "shape": "spline",
          "width": 3
         },
         "marker": {
          "size": 7,
          "symbol": "diamond"
         },
         "mode": "lines+markers",
         "name": "After Promo",
         "type": "scatter",
         "x": {
          "bdata": "MgA3AD4AQQBaAG4AnACsAL4AyAAiASwBXgFyAZ8BXAP8A6YEuAs=",
          "dtype": "i2"
         },
         "y": {
          "bdata": "4XoUrkfhNkDNzMzMzOxIQDMzMzMzs1lAUrgehethYEBcj8L1KNxFQLgehetRmFVA9ihcj8KdcEDD9Shcj1Z3QK5H4XoUjlFAzczMzMwek0BmZmZmZoZuQD0K16NwZWRAFK5H4Xq0ckBmZmZmZpaVQFyPwvUoXEZAzczMzMyigEAzMzMzM5ttQMP1KFyP0mJAZmZmZma+g0A=",
          "dtype": "f8"
         }
        }
       ],
       "layout": {
        "font": {
         "size": 14
        },
        "height": 500,
        "hovermode": "x unified",
        "legend": {
         "title": {
          "text": "Legend"
         }
        },
        "template": {
         "data": {
          "bar": [
           {
            "error_x": {
             "color": "#2a3f5f"
            },
            "error_y": {
             "color": "#2a3f5f"
            },
            "marker": {
             "line": {
              "color": "white",
              "width": 0.5
             },
             "pattern": {
              "fillmode": "overlay",
              "size": 10,
              "solidity": 0.2
             }
            },
            "type": "bar"
           }
          ],
          "barpolar": [
           {
            "marker": {
             "line": {
              "color": "white",
              "width": 0.5
             },
             "pattern": {
              "fillmode": "overlay",
              "size": 10,
              "solidity": 0.2
             }
            },
            "type": "barpolar"
           }
          ],
          "carpet": [
           {
            "aaxis": {
             "endlinecolor": "#2a3f5f",
             "gridcolor": "#C8D4E3",
             "linecolor": "#C8D4E3",
             "minorgridcolor": "#C8D4E3",
             "startlinecolor": "#2a3f5f"
            },
            "baxis": {
             "endlinecolor": "#2a3f5f",
             "gridcolor": "#C8D4E3",
             "linecolor": "#C8D4E3",
             "minorgridcolor": "#C8D4E3",
             "startlinecolor": "#2a3f5f"
            },
            "type": "carpet"
           }
          ],
          "choropleth": [
           {
            "colorbar": {
             "outlinewidth": 0,
             "ticks": ""
            },
            "type": "choropleth"
           }
          ],
          "contour": [
           {
            "colorbar": {
             "outlinewidth": 0,
             "ticks": ""
            },
            "colorscale": [
             [
              0,
              "#0d0887"
             ],
             [
              0.1111111111111111,
              "#46039f"
             ],
             [
              0.2222222222222222,
              "#7201a8"
             ],
             [
              0.3333333333333333,
              "#9c179e"
             ],
             [
              0.4444444444444444,
              "#bd3786"
             ],
             [
              0.5555555555555556,
              "#d8576b"
             ],
             [
              0.6666666666666666,
              "#ed7953"
             ],
             [
              0.7777777777777778,
              "#fb9f3a"
             ],
             [
              0.8888888888888888,
              "#fdca26"
             ],
             [
              1,
              "#f0f921"
             ]
            ],
            "type": "contour"
           }
          ],
          "contourcarpet": [
           {
            "colorbar": {
             "outlinewidth": 0,
             "ticks": ""
            },
            "type": "contourcarpet"
           }
          ],
          "heatmap": [
           {
            "colorbar": {
             "outlinewidth": 0,
             "ticks": ""
            },
            "colorscale": [
             [
              0,
              "#0d0887"
             ],
             [
              0.1111111111111111,
              "#46039f"
             ],
             [
              0.2222222222222222,
              "#7201a8"
             ],
             [
              0.3333333333333333,
              "#9c179e"
             ],
             [
              0.4444444444444444,
              "#bd3786"
             ],
             [
              0.5555555555555556,
              "#d8576b"
             ],
             [
              0.6666666666666666,
              "#ed7953"
             ],
             [
              0.7777777777777778,
              "#fb9f3a"
             ],
             [
              0.8888888888888888,
              "#fdca26"
             ],
             [
              1,
              "#f0f921"
             ]
            ],
            "type": "heatmap"
           }
          ],
          "histogram": [
           {
            "marker": {
             "pattern": {
              "fillmode": "overlay",
              "size": 10,
              "solidity": 0.2
             }
            },
            "type": "histogram"
           }
          ],
          "histogram2d": [
           {
            "colorbar": {
             "outlinewidth": 0,
             "ticks": ""
            },
            "colorscale": [
             [
              0,
              "#0d0887"
             ],
             [
              0.1111111111111111,
              "#46039f"
             ],
             [
              0.2222222222222222,
              "#7201a8"
             ],
             [
              0.3333333333333333,
              "#9c179e"
             ],
             [
              0.4444444444444444,
              "#bd3786"
             ],
             [
              0.5555555555555556,
              "#d8576b"
             ],
             [
              0.6666666666666666,
              "#ed7953"
             ],
             [
              0.7777777777777778,
              "#fb9f3a"
             ],
             [
              0.8888888888888888,
              "#fdca26"
             ],
             [
              1,
              "#f0f921"
             ]
            ],
            "type": "histogram2d"
           }
          ],
          "histogram2dcontour": [
           {
            "colorbar": {
             "outlinewidth": 0,
             "ticks": ""
            },
            "colorscale": [
             [
              0,
              "#0d0887"
             ],
             [
              0.1111111111111111,
              "#46039f"
             ],
             [
              0.2222222222222222,
              "#7201a8"
             ],
             [
              0.3333333333333333,
              "#9c179e"
             ],
             [
              0.4444444444444444,
              "#bd3786"
             ],
             [
              0.5555555555555556,
              "#d8576b"
             ],
             [
              0.6666666666666666,
              "#ed7953"
             ],
             [
              0.7777777777777778,
              "#fb9f3a"
             ],
             [
              0.8888888888888888,
              "#fdca26"
             ],
             [
              1,
              "#f0f921"
             ]
            ],
            "type": "histogram2dcontour"
           }
          ],
          "mesh3d": [
           {
            "colorbar": {
             "outlinewidth": 0,
             "ticks": ""
            },
            "type": "mesh3d"
           }
          ],
          "parcoords": [
           {
            "line": {
             "colorbar": {
              "outlinewidth": 0,
              "ticks": ""
             }
            },
            "type": "parcoords"
           }
          ],
          "pie": [
           {
            "automargin": true,
            "type": "pie"
           }
          ],
          "scatter": [
           {
            "fillpattern": {
             "fillmode": "overlay",
             "size": 10,
             "solidity": 0.2
            },
            "type": "scatter"
           }
          ],
          "scatter3d": [
           {
            "line": {
             "colorbar": {
              "outlinewidth": 0,
              "ticks": ""
             }
            },
            "marker": {
             "colorbar": {
              "outlinewidth": 0,
              "ticks": ""
             }
            },
            "type": "scatter3d"
           }
          ],
          "scattercarpet": [
           {
            "marker": {
             "colorbar": {
              "outlinewidth": 0,
              "ticks": ""
             }
            },
            "type": "scattercarpet"
           }
          ],
          "scattergeo": [
           {
            "marker": {
             "colorbar": {
              "outlinewidth": 0,
              "ticks": ""
             }
            },
            "type": "scattergeo"
           }
          ],
          "scattergl": [
           {
            "marker": {
             "colorbar": {
              "outlinewidth": 0,
              "ticks": ""
             }
            },
            "type": "scattergl"
           }
          ],
          "scattermap": [
           {
            "marker": {
             "colorbar": {
              "outlinewidth": 0,
              "ticks": ""
             }
            },
            "type": "scattermap"
           }
          ],
          "scattermapbox": [
           {
            "marker": {
             "colorbar": {
              "outlinewidth": 0,
              "ticks": ""
             }
            },
            "type": "scattermapbox"
           }
          ],
          "scatterpolar": [
           {
            "marker": {
             "colorbar": {
              "outlinewidth": 0,
              "ticks": ""
             }
            },
            "type": "scatterpolar"
           }
          ],
          "scatterpolargl": [
           {
            "marker": {
             "colorbar": {
              "outlinewidth": 0,
              "ticks": ""
             }
            },
            "type": "scatterpolargl"
           }
          ],
          "scatterternary": [
           {
            "marker": {
             "colorbar": {
              "outlinewidth": 0,
              "ticks": ""
             }
            },
            "type": "scatterternary"
           }
          ],
          "surface": [
           {
            "colorbar": {
             "outlinewidth": 0,
             "ticks": ""
            },
            "colorscale": [
             [
              0,
              "#0d0887"
             ],
             [
              0.1111111111111111,
              "#46039f"
             ],
             [
              0.2222222222222222,
              "#7201a8"
             ],
             [
              0.3333333333333333,
              "#9c179e"
             ],
             [
              0.4444444444444444,
              "#bd3786"
             ],
             [
              0.5555555555555556,
              "#d8576b"
             ],
             [
              0.6666666666666666,
              "#ed7953"
             ],
             [
              0.7777777777777778,
              "#fb9f3a"
             ],
             [
              0.8888888888888888,
              "#fdca26"
             ],
             [
              1,
              "#f0f921"
             ]
            ],
            "type": "surface"
           }
          ],
          "table": [
           {
            "cells": {
             "fill": {
              "color": "#EBF0F8"
             },
             "line": {
              "color": "white"
             }
            },
            "header": {
             "fill": {
              "color": "#C8D4E3"
             },
             "line": {
              "color": "white"
             }
            },
            "type": "table"
           }
          ]
         },
         "layout": {
          "annotationdefaults": {
           "arrowcolor": "#2a3f5f",
           "arrowhead": 0,
           "arrowwidth": 1
          },
          "autotypenumbers": "strict",
          "coloraxis": {
           "colorbar": {
            "outlinewidth": 0,
            "ticks": ""
           }
          },
          "colorscale": {
           "diverging": [
            [
             0,
             "#8e0152"
            ],
            [
             0.1,
             "#c51b7d"
            ],
            [
             0.2,
             "#de77ae"
            ],
            [
             0.3,
             "#f1b6da"
            ],
            [
             0.4,
             "#fde0ef"
            ],
            [
             0.5,
             "#f7f7f7"
            ],
            [
             0.6,
             "#e6f5d0"
            ],
            [
             0.7,
             "#b8e186"
            ],
            [
             0.8,
             "#7fbc41"
            ],
            [
             0.9,
             "#4d9221"
            ],
            [
             1,
             "#276419"
            ]
           ],
           "sequential": [
            [
             0,
             "#0d0887"
            ],
            [
             0.1111111111111111,
             "#46039f"
            ],
            [
             0.2222222222222222,
             "#7201a8"
            ],
            [
             0.3333333333333333,
             "#9c179e"
            ],
            [
             0.4444444444444444,
             "#bd3786"
            ],
            [
             0.5555555555555556,
             "#d8576b"
            ],
            [
             0.6666666666666666,
             "#ed7953"
            ],
            [
             0.7777777777777778,
             "#fb9f3a"
            ],
            [
             0.8888888888888888,
             "#fdca26"
            ],
            [
             1,
             "#f0f921"
            ]
           ],
           "sequentialminus": [
            [
             0,
             "#0d0887"
            ],
            [
             0.1111111111111111,
             "#46039f"
            ],
            [
             0.2222222222222222,
             "#7201a8"
            ],
            [
             0.3333333333333333,
             "#9c179e"
            ],
            [
             0.4444444444444444,
             "#bd3786"
            ],
            [
             0.5555555555555556,
             "#d8576b"
            ],
            [
             0.6666666666666666,
             "#ed7953"
            ],
            [
             0.7777777777777778,
             "#fb9f3a"
            ],
            [
             0.8888888888888888,
             "#fdca26"
            ],
            [
             1,
             "#f0f921"
            ]
           ]
          },
          "colorway": [
           "#636efa",
           "#EF553B",
           "#00cc96",
           "#ab63fa",
           "#FFA15A",
           "#19d3f3",
           "#FF6692",
           "#B6E880",
           "#FF97FF",
           "#FECB52"
          ],
          "font": {
           "color": "#2a3f5f"
          },
          "geo": {
           "bgcolor": "white",
           "lakecolor": "white",
           "landcolor": "white",
           "showlakes": true,
           "showland": true,
           "subunitcolor": "#C8D4E3"
          },
          "hoverlabel": {
           "align": "left"
          },
          "hovermode": "closest",
          "mapbox": {
           "style": "light"
          },
          "paper_bgcolor": "white",
          "plot_bgcolor": "white",
          "polar": {
           "angularaxis": {
            "gridcolor": "#EBF0F8",
            "linecolor": "#EBF0F8",
            "ticks": ""
           },
           "bgcolor": "white",
           "radialaxis": {
            "gridcolor": "#EBF0F8",
            "linecolor": "#EBF0F8",
            "ticks": ""
           }
          },
          "scene": {
           "xaxis": {
            "backgroundcolor": "white",
            "gridcolor": "#DFE8F3",
            "gridwidth": 2,
            "linecolor": "#EBF0F8",
            "showbackground": true,
            "ticks": "",
            "zerolinecolor": "#EBF0F8"
           },
           "yaxis": {
            "backgroundcolor": "white",
            "gridcolor": "#DFE8F3",
            "gridwidth": 2,
            "linecolor": "#EBF0F8",
            "showbackground": true,
            "ticks": "",
            "zerolinecolor": "#EBF0F8"
           },
           "zaxis": {
            "backgroundcolor": "white",
            "gridcolor": "#DFE8F3",
            "gridwidth": 2,
            "linecolor": "#EBF0F8",
            "showbackground": true,
            "ticks": "",
            "zerolinecolor": "#EBF0F8"
           }
          },
          "shapedefaults": {
           "line": {
            "color": "#2a3f5f"
           }
          },
          "ternary": {
           "aaxis": {
            "gridcolor": "#DFE8F3",
            "linecolor": "#A2B1C6",
            "ticks": ""
           },
           "baxis": {
            "gridcolor": "#DFE8F3",
            "linecolor": "#A2B1C6",
            "ticks": ""
           },
           "bgcolor": "white",
           "caxis": {
            "gridcolor": "#DFE8F3",
            "linecolor": "#A2B1C6",
            "ticks": ""
           }
          },
          "title": {
           "x": 0.05
          },
          "xaxis": {
           "automargin": true,
           "gridcolor": "#EBF0F8",
           "linecolor": "#EBF0F8",
           "ticks": "",
           "title": {
            "standoff": 15
           },
           "zerolinecolor": "#EBF0F8",
           "zerolinewidth": 2
          },
          "yaxis": {
           "automargin": true,
           "gridcolor": "#EBF0F8",
           "linecolor": "#EBF0F8",
           "ticks": "",
           "title": {
            "standoff": 15
           },
           "zerolinecolor": "#EBF0F8",
           "zerolinewidth": 2
          }
         }
        },
        "title": {
         "text": "Base Price vs Average Quantity Sold (Before & After Promo)"
        },
        "width": 900,
        "xaxis": {
         "title": {
          "text": "Base Price"
         }
        },
        "yaxis": {
         "title": {
          "text": "Average Quantity Sold"
         }
        }
       }
      }
     },
     "metadata": {},
     "output_type": "display_data"
    }
   ],
   "source": [
    "agg_df = event_data.groupby('base_price', as_index=False).agg({\n",
    "    'quantity_sold(before_promo)': 'mean',\n",
    "    'quantity_sold(after_promo)': 'mean'\n",
    "})\n",
    "\n",
    "\n",
    "agg_df = agg_df.sort_values('base_price')\n",
    "\n",
    "fig = go.Figure()\n",
    "\n",
    "fig.add_trace(go.Scatter(\n",
    "    x=agg_df['base_price'],\n",
    "    y=agg_df['quantity_sold(before_promo)'],\n",
    "    mode='lines+markers',\n",
    "    name='Before Promo',\n",
    "    line=dict(color='blue', width=3, shape='spline'),\n",
    "    marker=dict(size=7, symbol='circle')\n",
    "))\n",
    "\n",
    "fig.add_trace(go.Scatter(\n",
    "    x=agg_df['base_price'],\n",
    "    y=agg_df['quantity_sold(after_promo)'],\n",
    "    mode='lines+markers',\n",
    "    name='After Promo',\n",
    "    line=dict(color='red', width=3, shape='spline'),\n",
    "    marker=dict(size=7, symbol='diamond')\n",
    "))\n",
    "\n",
    "# Layout polish\n",
    "fig.update_layout(\n",
    "    title='Base Price vs Average Quantity Sold (Before & After Promo)',\n",
    "    xaxis_title='Base Price',\n",
    "    yaxis_title='Average Quantity Sold',\n",
    "    template='plotly_white',\n",
    "    legend_title='Legend',\n",
    "    hovermode='x unified',\n",
    "    font=dict(size=14),\n",
    "    width=900,\n",
    "    height=500\n",
    ")\n",
    "\n",
    "fig.show()"
   ]
  },
  {
   "cell_type": "markdown",
   "id": "57926d1e",
   "metadata": {},
   "source": [
    "Here we can see that "
   ]
  },
  {
   "cell_type": "code",
   "execution_count": 147,
   "id": "e98484b5",
   "metadata": {},
   "outputs": [
    {
     "data": {
      "application/vnd.plotly.v1+json": {
       "config": {
        "plotlyServerURL": "https://plot.ly"
       },
       "data": [
        {
         "bingroup": "x",
         "histfunc": "sum",
         "hovertemplate": "promo_type=%{x}<br>sum of quantity_sold(after_promo)=%{y}<extra></extra>",
         "legendgroup": "",
         "marker": {
          "color": "#636efa",
          "pattern": {
           "shape": ""
          }
         },
         "name": "",
         "orientation": "v",
         "showlegend": false,
         "type": "histogram",
         "x": [
          "50% OFF",
          "25% OFF",
          "BOGOF",
          "500 Cashback",
          "25% OFF",
          "50% OFF",
          "25% OFF",
          "BOGOF",
          "BOGOF",
          "BOGOF",
          "25% OFF",
          "500 Cashback",
          "50% OFF",
          "25% OFF",
          "33% OFF",
          "BOGOF",
          "25% OFF",
          "33% OFF",
          "25% OFF",
          "BOGOF",
          "BOGOF",
          "BOGOF",
          "50% OFF",
          "33% OFF",
          "BOGOF",
          "25% OFF",
          "500 Cashback",
          "BOGOF",
          "BOGOF",
          "50% OFF",
          "33% OFF",
          "25% OFF",
          "25% OFF",
          "BOGOF",
          "BOGOF",
          "33% OFF",
          "BOGOF",
          "25% OFF",
          "BOGOF",
          "BOGOF",
          "BOGOF",
          "500 Cashback",
          "BOGOF",
          "BOGOF",
          "25% OFF",
          "BOGOF",
          "50% OFF",
          "25% OFF",
          "33% OFF",
          "25% OFF",
          "33% OFF",
          "BOGOF",
          "BOGOF",
          "25% OFF",
          "BOGOF",
          "33% OFF",
          "25% OFF",
          "50% OFF",
          "25% OFF",
          "25% OFF",
          "25% OFF",
          "25% OFF",
          "25% OFF",
          "25% OFF",
          "500 Cashback",
          "25% OFF",
          "25% OFF",
          "25% OFF",
          "25% OFF",
          "BOGOF",
          "500 Cashback",
          "25% OFF",
          "25% OFF",
          "25% OFF",
          "50% OFF",
          "BOGOF",
          "25% OFF",
          "25% OFF",
          "50% OFF",
          "25% OFF",
          "33% OFF",
          "BOGOF",
          "BOGOF",
          "50% OFF",
          "BOGOF",
          "33% OFF",
          "BOGOF",
          "25% OFF",
          "25% OFF",
          "BOGOF",
          "BOGOF",
          "25% OFF",
          "500 Cashback",
          "33% OFF",
          "25% OFF",
          "25% OFF",
          "500 Cashback",
          "BOGOF",
          "25% OFF",
          "500 Cashback",
          "25% OFF",
          "500 Cashback",
          "BOGOF",
          "BOGOF",
          "BOGOF",
          "BOGOF",
          "33% OFF",
          "BOGOF",
          "25% OFF",
          "33% OFF",
          "33% OFF",
          "25% OFF",
          "25% OFF",
          "BOGOF",
          "BOGOF",
          "50% OFF",
          "50% OFF",
          "BOGOF",
          "50% OFF",
          "25% OFF",
          "BOGOF",
          "25% OFF",
          "BOGOF",
          "50% OFF",
          "BOGOF",
          "33% OFF",
          "BOGOF",
          "33% OFF",
          "25% OFF",
          "50% OFF",
          "BOGOF",
          "50% OFF",
          "33% OFF",
          "25% OFF",
          "25% OFF",
          "BOGOF",
          "33% OFF",
          "BOGOF",
          "500 Cashback",
          "BOGOF",
          "BOGOF",
          "50% OFF",
          "BOGOF",
          "BOGOF",
          "BOGOF",
          "BOGOF",
          "25% OFF",
          "BOGOF",
          "50% OFF",
          "BOGOF",
          "BOGOF",
          "25% OFF",
          "25% OFF",
          "BOGOF",
          "500 Cashback",
          "25% OFF",
          "50% OFF",
          "BOGOF",
          "50% OFF",
          "BOGOF",
          "25% OFF",
          "BOGOF",
          "25% OFF",
          "25% OFF",
          "50% OFF",
          "25% OFF",
          "50% OFF",
          "50% OFF",
          "50% OFF",
          "25% OFF",
          "BOGOF",
          "50% OFF",
          "25% OFF",
          "50% OFF",
          "BOGOF",
          "50% OFF",
          "BOGOF",
          "33% OFF",
          "BOGOF",
          "BOGOF",
          "25% OFF",
          "25% OFF",
          "BOGOF",
          "BOGOF",
          "BOGOF",
          "50% OFF",
          "50% OFF",
          "25% OFF",
          "BOGOF",
          "50% OFF",
          "33% OFF",
          "50% OFF",
          "25% OFF",
          "BOGOF",
          "33% OFF",
          "BOGOF",
          "33% OFF",
          "25% OFF",
          "BOGOF",
          "BOGOF",
          "BOGOF",
          "25% OFF",
          "25% OFF",
          "33% OFF",
          "BOGOF",
          "25% OFF",
          "25% OFF",
          "BOGOF",
          "25% OFF",
          "33% OFF",
          "25% OFF",
          "BOGOF",
          "50% OFF",
          "BOGOF",
          "500 Cashback",
          "BOGOF",
          "33% OFF",
          "BOGOF",
          "50% OFF",
          "25% OFF",
          "50% OFF",
          "25% OFF",
          "33% OFF",
          "33% OFF",
          "25% OFF",
          "33% OFF",
          "50% OFF",
          "500 Cashback",
          "25% OFF",
          "25% OFF",
          "25% OFF",
          "BOGOF",
          "BOGOF",
          "50% OFF",
          "25% OFF",
          "BOGOF",
          "BOGOF",
          "50% OFF",
          "25% OFF",
          "BOGOF",
          "33% OFF",
          "50% OFF",
          "BOGOF",
          "BOGOF",
          "BOGOF",
          "BOGOF",
          "33% OFF",
          "500 Cashback",
          "50% OFF",
          "BOGOF",
          "25% OFF",
          "50% OFF",
          "33% OFF",
          "50% OFF",
          "25% OFF",
          "50% OFF",
          "50% OFF",
          "33% OFF",
          "50% OFF",
          "BOGOF",
          "BOGOF",
          "25% OFF",
          "25% OFF",
          "50% OFF",
          "33% OFF",
          "BOGOF",
          "25% OFF",
          "25% OFF",
          "33% OFF",
          "BOGOF",
          "33% OFF",
          "25% OFF",
          "25% OFF",
          "25% OFF",
          "BOGOF",
          "BOGOF",
          "BOGOF",
          "50% OFF",
          "33% OFF",
          "25% OFF",
          "33% OFF",
          "BOGOF",
          "BOGOF",
          "BOGOF",
          "50% OFF",
          "50% OFF",
          "25% OFF",
          "50% OFF",
          "500 Cashback",
          "25% OFF",
          "33% OFF",
          "500 Cashback",
          "25% OFF",
          "25% OFF",
          "BOGOF",
          "50% OFF",
          "BOGOF",
          "25% OFF",
          "33% OFF",
          "BOGOF",
          "33% OFF",
          "25% OFF",
          "50% OFF",
          "33% OFF",
          "33% OFF",
          "BOGOF",
          "BOGOF",
          "25% OFF",
          "50% OFF",
          "BOGOF",
          "25% OFF",
          "BOGOF",
          "33% OFF",
          "33% OFF",
          "BOGOF",
          "BOGOF",
          "BOGOF",
          "50% OFF",
          "BOGOF",
          "50% OFF",
          "BOGOF",
          "BOGOF",
          "25% OFF",
          "25% OFF",
          "50% OFF",
          "33% OFF",
          "500 Cashback",
          "500 Cashback",
          "BOGOF",
          "25% OFF",
          "25% OFF",
          "33% OFF",
          "BOGOF",
          "33% OFF",
          "BOGOF",
          "BOGOF",
          "BOGOF",
          "25% OFF",
          "50% OFF",
          "33% OFF",
          "BOGOF",
          "50% OFF",
          "25% OFF",
          "33% OFF",
          "33% OFF",
          "33% OFF",
          "25% OFF",
          "BOGOF",
          "BOGOF",
          "50% OFF",
          "BOGOF",
          "33% OFF",
          "500 Cashback",
          "BOGOF",
          "BOGOF",
          "33% OFF",
          "25% OFF",
          "BOGOF",
          "50% OFF",
          "50% OFF",
          "25% OFF",
          "BOGOF",
          "33% OFF",
          "25% OFF",
          "50% OFF",
          "33% OFF",
          "33% OFF",
          "25% OFF",
          "BOGOF",
          "BOGOF",
          "33% OFF",
          "BOGOF",
          "25% OFF",
          "25% OFF",
          "BOGOF",
          "50% OFF",
          "33% OFF",
          "50% OFF",
          "BOGOF",
          "50% OFF",
          "50% OFF",
          "500 Cashback",
          "BOGOF",
          "25% OFF",
          "500 Cashback",
          "33% OFF",
          "50% OFF",
          "BOGOF",
          "25% OFF",
          "BOGOF",
          "25% OFF",
          "33% OFF",
          "25% OFF",
          "33% OFF",
          "33% OFF",
          "25% OFF",
          "BOGOF",
          "25% OFF",
          "50% OFF",
          "25% OFF",
          "50% OFF",
          "33% OFF",
          "50% OFF",
          "25% OFF",
          "50% OFF",
          "33% OFF",
          "25% OFF",
          "25% OFF",
          "500 Cashback",
          "25% OFF",
          "BOGOF",
          "BOGOF",
          "33% OFF",
          "50% OFF",
          "50% OFF",
          "25% OFF",
          "BOGOF",
          "BOGOF",
          "BOGOF",
          "BOGOF",
          "25% OFF",
          "BOGOF",
          "25% OFF",
          "BOGOF",
          "50% OFF",
          "25% OFF",
          "50% OFF",
          "25% OFF",
          "50% OFF",
          "BOGOF",
          "25% OFF",
          "BOGOF",
          "33% OFF",
          "33% OFF",
          "BOGOF",
          "BOGOF",
          "25% OFF",
          "25% OFF",
          "25% OFF",
          "33% OFF",
          "25% OFF",
          "BOGOF",
          "25% OFF",
          "50% OFF",
          "25% OFF",
          "50% OFF",
          "33% OFF",
          "50% OFF",
          "BOGOF",
          "BOGOF",
          "BOGOF",
          "BOGOF",
          "50% OFF",
          "33% OFF",
          "50% OFF",
          "25% OFF",
          "BOGOF",
          "BOGOF",
          "BOGOF",
          "50% OFF",
          "500 Cashback",
          "BOGOF",
          "BOGOF",
          "BOGOF",
          "25% OFF",
          "500 Cashback",
          "BOGOF",
          "25% OFF",
          "50% OFF",
          "50% OFF",
          "50% OFF",
          "BOGOF",
          "50% OFF",
          "25% OFF",
          "50% OFF",
          "50% OFF",
          "BOGOF",
          "50% OFF",
          "25% OFF",
          "50% OFF",
          "50% OFF",
          "BOGOF",
          "33% OFF",
          "50% OFF",
          "25% OFF",
          "25% OFF",
          "500 Cashback",
          "50% OFF",
          "BOGOF",
          "BOGOF",
          "BOGOF",
          "33% OFF",
          "BOGOF",
          "25% OFF",
          "BOGOF",
          "BOGOF",
          "BOGOF",
          "500 Cashback",
          "50% OFF",
          "25% OFF",
          "25% OFF",
          "BOGOF",
          "50% OFF",
          "BOGOF",
          "25% OFF",
          "BOGOF",
          "50% OFF",
          "50% OFF",
          "BOGOF",
          "33% OFF",
          "25% OFF",
          "500 Cashback",
          "BOGOF",
          "500 Cashback",
          "33% OFF",
          "33% OFF",
          "50% OFF",
          "25% OFF",
          "25% OFF",
          "25% OFF",
          "25% OFF",
          "25% OFF",
          "25% OFF",
          "BOGOF",
          "BOGOF",
          "25% OFF",
          "BOGOF",
          "500 Cashback",
          "50% OFF",
          "BOGOF",
          "50% OFF",
          "500 Cashback",
          "50% OFF",
          "50% OFF",
          "500 Cashback",
          "BOGOF",
          "25% OFF",
          "500 Cashback",
          "BOGOF",
          "BOGOF",
          "25% OFF",
          "BOGOF",
          "33% OFF",
          "33% OFF",
          "50% OFF",
          "33% OFF",
          "BOGOF",
          "33% OFF",
          "25% OFF",
          "25% OFF",
          "500 Cashback",
          "BOGOF",
          "25% OFF",
          "25% OFF",
          "50% OFF",
          "33% OFF",
          "25% OFF",
          "33% OFF",
          "500 Cashback",
          "500 Cashback",
          "33% OFF",
          "BOGOF",
          "BOGOF",
          "50% OFF",
          "BOGOF",
          "BOGOF",
          "50% OFF",
          "25% OFF",
          "50% OFF",
          "500 Cashback",
          "25% OFF",
          "BOGOF",
          "25% OFF",
          "500 Cashback",
          "50% OFF",
          "BOGOF",
          "25% OFF",
          "BOGOF",
          "BOGOF",
          "500 Cashback",
          "50% OFF",
          "25% OFF",
          "50% OFF",
          "BOGOF",
          "50% OFF",
          "25% OFF",
          "25% OFF",
          "BOGOF",
          "50% OFF",
          "50% OFF",
          "500 Cashback",
          "50% OFF",
          "BOGOF",
          "25% OFF",
          "25% OFF",
          "BOGOF",
          "BOGOF",
          "25% OFF",
          "50% OFF",
          "50% OFF",
          "BOGOF",
          "25% OFF",
          "50% OFF",
          "50% OFF",
          "BOGOF",
          "25% OFF",
          "BOGOF",
          "33% OFF",
          "25% OFF",
          "BOGOF",
          "BOGOF",
          "BOGOF",
          "BOGOF",
          "33% OFF",
          "33% OFF",
          "33% OFF",
          "BOGOF",
          "25% OFF",
          "33% OFF",
          "500 Cashback",
          "BOGOF",
          "BOGOF",
          "25% OFF",
          "500 Cashback",
          "BOGOF",
          "500 Cashback",
          "500 Cashback",
          "BOGOF",
          "BOGOF",
          "25% OFF",
          "25% OFF",
          "BOGOF",
          "BOGOF",
          "25% OFF",
          "33% OFF",
          "25% OFF",
          "BOGOF",
          "25% OFF",
          "BOGOF",
          "BOGOF",
          "50% OFF",
          "50% OFF",
          "500 Cashback",
          "BOGOF",
          "33% OFF",
          "BOGOF",
          "BOGOF",
          "25% OFF",
          "BOGOF",
          "BOGOF",
          "BOGOF",
          "500 Cashback",
          "25% OFF",
          "25% OFF",
          "50% OFF",
          "50% OFF",
          "500 Cashback",
          "50% OFF",
          "BOGOF",
          "BOGOF",
          "50% OFF",
          "BOGOF",
          "BOGOF",
          "BOGOF",
          "25% OFF",
          "BOGOF",
          "25% OFF",
          "50% OFF",
          "25% OFF",
          "BOGOF",
          "BOGOF",
          "BOGOF",
          "33% OFF",
          "500 Cashback",
          "BOGOF",
          "BOGOF",
          "BOGOF",
          "25% OFF",
          "500 Cashback",
          "50% OFF",
          "BOGOF",
          "50% OFF",
          "500 Cashback",
          "25% OFF",
          "25% OFF",
          "BOGOF",
          "33% OFF",
          "BOGOF",
          "50% OFF",
          "25% OFF",
          "50% OFF",
          "BOGOF",
          "BOGOF",
          "BOGOF",
          "33% OFF",
          "500 Cashback",
          "50% OFF",
          "33% OFF",
          "BOGOF",
          "500 Cashback",
          "25% OFF",
          "BOGOF",
          "25% OFF",
          "25% OFF",
          "25% OFF",
          "33% OFF",
          "BOGOF",
          "BOGOF",
          "BOGOF",
          "BOGOF",
          "50% OFF",
          "BOGOF",
          "BOGOF",
          "BOGOF",
          "BOGOF",
          "BOGOF",
          "50% OFF",
          "BOGOF",
          "BOGOF",
          "BOGOF",
          "50% OFF",
          "BOGOF",
          "33% OFF",
          "BOGOF",
          "25% OFF",
          "BOGOF",
          "50% OFF",
          "500 Cashback",
          "500 Cashback",
          "50% OFF",
          "33% OFF",
          "BOGOF",
          "50% OFF",
          "BOGOF",
          "25% OFF",
          "50% OFF",
          "50% OFF",
          "50% OFF",
          "50% OFF",
          "33% OFF",
          "BOGOF",
          "25% OFF",
          "BOGOF",
          "33% OFF",
          "25% OFF",
          "BOGOF",
          "BOGOF",
          "BOGOF",
          "50% OFF",
          "25% OFF",
          "25% OFF",
          "BOGOF",
          "25% OFF",
          "50% OFF",
          "50% OFF",
          "BOGOF",
          "50% OFF",
          "50% OFF",
          "25% OFF",
          "33% OFF",
          "50% OFF",
          "33% OFF",
          "500 Cashback",
          "50% OFF",
          "50% OFF",
          "BOGOF",
          "500 Cashback",
          "BOGOF",
          "25% OFF",
          "25% OFF",
          "25% OFF",
          "50% OFF",
          "BOGOF",
          "33% OFF",
          "BOGOF",
          "25% OFF",
          "BOGOF",
          "25% OFF",
          "33% OFF",
          "BOGOF",
          "33% OFF",
          "33% OFF",
          "BOGOF",
          "25% OFF",
          "25% OFF",
          "25% OFF",
          "33% OFF",
          "33% OFF",
          "50% OFF",
          "33% OFF",
          "BOGOF",
          "33% OFF",
          "50% OFF",
          "25% OFF",
          "500 Cashback",
          "50% OFF",
          "BOGOF",
          "25% OFF",
          "50% OFF",
          "BOGOF",
          "25% OFF",
          "33% OFF",
          "50% OFF",
          "50% OFF",
          "33% OFF",
          "50% OFF",
          "33% OFF",
          "25% OFF",
          "25% OFF",
          "BOGOF",
          "BOGOF",
          "33% OFF",
          "50% OFF",
          "BOGOF",
          "25% OFF",
          "50% OFF",
          "50% OFF",
          "25% OFF",
          "BOGOF",
          "50% OFF",
          "33% OFF",
          "50% OFF",
          "BOGOF",
          "25% OFF",
          "25% OFF",
          "25% OFF",
          "25% OFF",
          "BOGOF",
          "25% OFF",
          "33% OFF",
          "33% OFF",
          "25% OFF",
          "25% OFF",
          "50% OFF",
          "BOGOF",
          "50% OFF",
          "500 Cashback",
          "25% OFF",
          "50% OFF",
          "BOGOF",
          "50% OFF",
          "BOGOF",
          "50% OFF",
          "BOGOF",
          "50% OFF",
          "BOGOF",
          "BOGOF",
          "33% OFF",
          "50% OFF",
          "33% OFF",
          "500 Cashback",
          "50% OFF",
          "50% OFF",
          "BOGOF",
          "25% OFF",
          "BOGOF",
          "33% OFF",
          "50% OFF",
          "25% OFF",
          "25% OFF",
          "25% OFF",
          "BOGOF",
          "BOGOF",
          "BOGOF",
          "BOGOF",
          "25% OFF",
          "25% OFF",
          "25% OFF",
          "BOGOF",
          "BOGOF",
          "50% OFF",
          "25% OFF",
          "BOGOF",
          "50% OFF",
          "BOGOF",
          "BOGOF",
          "BOGOF",
          "25% OFF",
          "50% OFF",
          "BOGOF",
          "BOGOF",
          "50% OFF",
          "BOGOF",
          "BOGOF",
          "25% OFF",
          "50% OFF",
          "33% OFF",
          "500 Cashback",
          "50% OFF",
          "500 Cashback",
          "BOGOF",
          "BOGOF",
          "BOGOF",
          "25% OFF",
          "25% OFF",
          "500 Cashback",
          "25% OFF",
          "50% OFF",
          "50% OFF",
          "BOGOF",
          "25% OFF",
          "50% OFF",
          "50% OFF",
          "25% OFF",
          "25% OFF",
          "50% OFF",
          "BOGOF",
          "BOGOF",
          "BOGOF",
          "25% OFF",
          "25% OFF",
          "50% OFF",
          "25% OFF",
          "500 Cashback",
          "50% OFF",
          "BOGOF",
          "33% OFF",
          "BOGOF",
          "BOGOF",
          "50% OFF",
          "BOGOF",
          "BOGOF",
          "500 Cashback",
          "BOGOF",
          "50% OFF",
          "50% OFF",
          "25% OFF",
          "25% OFF",
          "25% OFF",
          "25% OFF",
          "33% OFF",
          "25% OFF",
          "50% OFF",
          "BOGOF",
          "25% OFF",
          "50% OFF",
          "33% OFF",
          "25% OFF",
          "50% OFF",
          "25% OFF",
          "50% OFF",
          "50% OFF",
          "BOGOF",
          "25% OFF",
          "500 Cashback",
          "25% OFF",
          "50% OFF",
          "BOGOF",
          "25% OFF",
          "50% OFF",
          "BOGOF",
          "BOGOF",
          "50% OFF",
          "25% OFF",
          "BOGOF",
          "BOGOF",
          "25% OFF",
          "33% OFF",
          "BOGOF",
          "25% OFF",
          "BOGOF",
          "25% OFF",
          "33% OFF",
          "33% OFF",
          "25% OFF",
          "33% OFF",
          "25% OFF",
          "25% OFF",
          "50% OFF",
          "25% OFF",
          "50% OFF",
          "50% OFF",
          "50% OFF",
          "33% OFF",
          "50% OFF",
          "25% OFF",
          "BOGOF",
          "BOGOF",
          "50% OFF",
          "BOGOF",
          "25% OFF",
          "BOGOF",
          "BOGOF",
          "33% OFF",
          "25% OFF",
          "500 Cashback",
          "33% OFF",
          "50% OFF",
          "500 Cashback",
          "25% OFF",
          "50% OFF",
          "33% OFF",
          "BOGOF",
          "500 Cashback",
          "500 Cashback",
          "BOGOF",
          "33% OFF",
          "500 Cashback",
          "BOGOF",
          "25% OFF",
          "500 Cashback",
          "50% OFF",
          "BOGOF",
          "BOGOF",
          "33% OFF",
          "33% OFF",
          "25% OFF",
          "33% OFF",
          "50% OFF",
          "25% OFF",
          "25% OFF",
          "50% OFF",
          "BOGOF",
          "BOGOF",
          "BOGOF",
          "25% OFF",
          "25% OFF",
          "33% OFF",
          "BOGOF",
          "BOGOF",
          "33% OFF",
          "BOGOF",
          "50% OFF",
          "BOGOF",
          "500 Cashback",
          "33% OFF",
          "500 Cashback",
          "25% OFF",
          "BOGOF",
          "33% OFF",
          "33% OFF",
          "33% OFF",
          "33% OFF",
          "BOGOF",
          "BOGOF",
          "33% OFF",
          "33% OFF",
          "33% OFF",
          "25% OFF",
          "BOGOF",
          "33% OFF",
          "25% OFF",
          "25% OFF",
          "BOGOF",
          "25% OFF",
          "50% OFF",
          "25% OFF",
          "BOGOF",
          "25% OFF",
          "25% OFF",
          "50% OFF",
          "BOGOF",
          "BOGOF",
          "50% OFF",
          "50% OFF",
          "25% OFF",
          "BOGOF",
          "500 Cashback",
          "50% OFF",
          "BOGOF",
          "BOGOF",
          "50% OFF",
          "50% OFF",
          "25% OFF",
          "33% OFF",
          "BOGOF",
          "BOGOF",
          "50% OFF",
          "50% OFF",
          "50% OFF",
          "BOGOF",
          "25% OFF",
          "BOGOF",
          "33% OFF",
          "25% OFF",
          "50% OFF",
          "BOGOF",
          "BOGOF",
          "BOGOF",
          "BOGOF",
          "50% OFF",
          "50% OFF",
          "BOGOF",
          "33% OFF",
          "50% OFF",
          "BOGOF",
          "50% OFF",
          "BOGOF",
          "25% OFF",
          "BOGOF",
          "33% OFF",
          "BOGOF",
          "BOGOF",
          "25% OFF",
          "25% OFF",
          "BOGOF",
          "500 Cashback",
          "BOGOF",
          "50% OFF",
          "BOGOF",
          "33% OFF",
          "BOGOF",
          "BOGOF",
          "50% OFF",
          "25% OFF",
          "25% OFF",
          "50% OFF",
          "50% OFF",
          "50% OFF",
          "25% OFF",
          "25% OFF",
          "50% OFF",
          "BOGOF",
          "50% OFF",
          "500 Cashback",
          "25% OFF",
          "500 Cashback",
          "50% OFF",
          "25% OFF",
          "33% OFF",
          "BOGOF",
          "500 Cashback",
          "25% OFF",
          "25% OFF",
          "25% OFF",
          "25% OFF",
          "33% OFF",
          "BOGOF",
          "BOGOF",
          "25% OFF",
          "25% OFF",
          "BOGOF",
          "25% OFF",
          "25% OFF",
          "25% OFF",
          "25% OFF",
          "BOGOF",
          "25% OFF",
          "25% OFF",
          "25% OFF",
          "BOGOF",
          "25% OFF",
          "BOGOF",
          "BOGOF",
          "25% OFF",
          "50% OFF",
          "25% OFF",
          "25% OFF",
          "50% OFF",
          "BOGOF",
          "BOGOF",
          "25% OFF",
          "BOGOF",
          "25% OFF",
          "BOGOF",
          "500 Cashback",
          "50% OFF",
          "BOGOF",
          "BOGOF",
          "50% OFF",
          "25% OFF",
          "BOGOF",
          "BOGOF",
          "25% OFF",
          "500 Cashback",
          "25% OFF",
          "50% OFF",
          "BOGOF",
          "33% OFF",
          "BOGOF",
          "50% OFF",
          "33% OFF",
          "25% OFF",
          "25% OFF",
          "500 Cashback",
          "25% OFF",
          "500 Cashback",
          "50% OFF",
          "500 Cashback",
          "25% OFF",
          "50% OFF",
          "BOGOF",
          "25% OFF",
          "BOGOF",
          "33% OFF",
          "BOGOF",
          "50% OFF",
          "33% OFF",
          "33% OFF",
          "25% OFF",
          "25% OFF",
          "BOGOF",
          "33% OFF",
          "BOGOF",
          "BOGOF",
          "25% OFF",
          "BOGOF",
          "33% OFF",
          "50% OFF",
          "25% OFF",
          "25% OFF",
          "BOGOF",
          "BOGOF",
          "33% OFF",
          "BOGOF",
          "500 Cashback",
          "500 Cashback",
          "50% OFF",
          "25% OFF",
          "BOGOF",
          "50% OFF",
          "BOGOF",
          "33% OFF",
          "BOGOF",
          "500 Cashback",
          "BOGOF",
          "25% OFF",
          "33% OFF",
          "500 Cashback",
          "BOGOF",
          "BOGOF",
          "50% OFF",
          "50% OFF",
          "50% OFF",
          "BOGOF",
          "500 Cashback",
          "50% OFF",
          "BOGOF",
          "BOGOF",
          "BOGOF",
          "BOGOF",
          "50% OFF",
          "50% OFF",
          "25% OFF",
          "50% OFF",
          "BOGOF",
          "33% OFF",
          "25% OFF",
          "33% OFF",
          "BOGOF",
          "BOGOF",
          "BOGOF",
          "50% OFF",
          "50% OFF",
          "BOGOF",
          "500 Cashback",
          "25% OFF",
          "BOGOF",
          "BOGOF",
          "50% OFF",
          "500 Cashback",
          "50% OFF",
          "BOGOF",
          "BOGOF",
          "25% OFF",
          "25% OFF",
          "25% OFF",
          "BOGOF",
          "25% OFF",
          "50% OFF",
          "BOGOF",
          "500 Cashback",
          "33% OFF",
          "33% OFF",
          "25% OFF",
          "BOGOF",
          "33% OFF",
          "50% OFF",
          "25% OFF",
          "50% OFF",
          "50% OFF",
          "25% OFF",
          "50% OFF",
          "33% OFF",
          "BOGOF",
          "50% OFF",
          "50% OFF",
          "25% OFF",
          "33% OFF",
          "BOGOF",
          "BOGOF",
          "BOGOF",
          "25% OFF",
          "50% OFF",
          "BOGOF",
          "BOGOF",
          "25% OFF",
          "BOGOF",
          "25% OFF",
          "50% OFF",
          "50% OFF",
          "BOGOF",
          "33% OFF",
          "50% OFF",
          "25% OFF",
          "BOGOF",
          "33% OFF",
          "50% OFF",
          "BOGOF",
          "33% OFF",
          "BOGOF",
          "50% OFF",
          "50% OFF",
          "BOGOF",
          "33% OFF",
          "25% OFF",
          "BOGOF",
          "BOGOF",
          "33% OFF",
          "25% OFF",
          "25% OFF",
          "25% OFF",
          "33% OFF",
          "25% OFF",
          "50% OFF",
          "BOGOF",
          "25% OFF",
          "25% OFF",
          "25% OFF",
          "33% OFF",
          "25% OFF",
          "25% OFF",
          "50% OFF",
          "BOGOF",
          "25% OFF",
          "25% OFF",
          "50% OFF",
          "BOGOF",
          "25% OFF",
          "BOGOF",
          "25% OFF",
          "BOGOF",
          "BOGOF",
          "500 Cashback",
          "BOGOF",
          "BOGOF",
          "BOGOF",
          "BOGOF",
          "BOGOF",
          "50% OFF",
          "25% OFF",
          "50% OFF",
          "25% OFF",
          "25% OFF",
          "25% OFF",
          "25% OFF",
          "33% OFF",
          "33% OFF",
          "25% OFF",
          "50% OFF",
          "25% OFF",
          "BOGOF",
          "BOGOF",
          "33% OFF",
          "500 Cashback",
          "BOGOF",
          "25% OFF",
          "BOGOF",
          "50% OFF",
          "500 Cashback",
          "25% OFF",
          "BOGOF",
          "50% OFF",
          "25% OFF",
          "25% OFF",
          "25% OFF",
          "500 Cashback",
          "25% OFF",
          "25% OFF",
          "BOGOF",
          "50% OFF",
          "33% OFF",
          "50% OFF",
          "25% OFF",
          "BOGOF",
          "33% OFF",
          "BOGOF",
          "50% OFF",
          "33% OFF",
          "BOGOF",
          "50% OFF",
          "25% OFF",
          "25% OFF",
          "25% OFF",
          "33% OFF",
          "BOGOF",
          "25% OFF",
          "BOGOF",
          "25% OFF",
          "BOGOF",
          "25% OFF",
          "BOGOF",
          "50% OFF",
          "BOGOF",
          "BOGOF",
          "BOGOF",
          "50% OFF",
          "33% OFF",
          "33% OFF",
          "BOGOF",
          "33% OFF",
          "25% OFF",
          "500 Cashback",
          "33% OFF",
          "50% OFF",
          "BOGOF",
          "25% OFF",
          "BOGOF",
          "BOGOF",
          "BOGOF",
          "BOGOF",
          "500 Cashback",
          "33% OFF",
          "BOGOF",
          "50% OFF",
          "BOGOF",
          "50% OFF",
          "25% OFF",
          "50% OFF",
          "25% OFF",
          "25% OFF",
          "33% OFF",
          "25% OFF",
          "BOGOF",
          "25% OFF",
          "BOGOF",
          "BOGOF",
          "BOGOF",
          "25% OFF",
          "BOGOF",
          "25% OFF",
          "500 Cashback",
          "25% OFF",
          "33% OFF",
          "33% OFF",
          "BOGOF",
          "25% OFF",
          "BOGOF",
          "BOGOF",
          "25% OFF",
          "BOGOF",
          "50% OFF",
          "25% OFF",
          "BOGOF",
          "BOGOF",
          "50% OFF",
          "25% OFF",
          "25% OFF",
          "BOGOF",
          "25% OFF",
          "25% OFF",
          "BOGOF",
          "50% OFF",
          "33% OFF",
          "BOGOF",
          "BOGOF",
          "BOGOF",
          "BOGOF",
          "50% OFF",
          "25% OFF",
          "BOGOF",
          "33% OFF",
          "33% OFF",
          "25% OFF",
          "BOGOF",
          "25% OFF",
          "25% OFF",
          "50% OFF",
          "33% OFF",
          "33% OFF",
          "50% OFF",
          "BOGOF",
          "50% OFF",
          "500 Cashback",
          "50% OFF",
          "33% OFF",
          "33% OFF",
          "50% OFF",
          "33% OFF",
          "BOGOF",
          "50% OFF",
          "50% OFF",
          "33% OFF",
          "50% OFF",
          "BOGOF",
          "BOGOF",
          "BOGOF",
          "BOGOF",
          "50% OFF",
          "25% OFF",
          "25% OFF",
          "500 Cashback",
          "BOGOF",
          "25% OFF",
          "25% OFF",
          "50% OFF",
          "25% OFF",
          "50% OFF",
          "BOGOF",
          "50% OFF"
         ],
         "xaxis": "x",
         "y": {
          "bdata": "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",
          "dtype": "i2"
         },
         "yaxis": "y"
        }
       ],
       "layout": {
        "barmode": "relative",
        "legend": {
         "tracegroupgap": 0
        },
        "template": {
         "data": {
          "bar": [
           {
            "error_x": {
             "color": "#2a3f5f"
            },
            "error_y": {
             "color": "#2a3f5f"
            },
            "marker": {
             "line": {
              "color": "#E5ECF6",
              "width": 0.5
             },
             "pattern": {
              "fillmode": "overlay",
              "size": 10,
              "solidity": 0.2
             }
            },
            "type": "bar"
           }
          ],
          "barpolar": [
           {
            "marker": {
             "line": {
              "color": "#E5ECF6",
              "width": 0.5
             },
             "pattern": {
              "fillmode": "overlay",
              "size": 10,
              "solidity": 0.2
             }
            },
            "type": "barpolar"
           }
          ],
          "carpet": [
           {
            "aaxis": {
             "endlinecolor": "#2a3f5f",
             "gridcolor": "white",
             "linecolor": "white",
             "minorgridcolor": "white",
             "startlinecolor": "#2a3f5f"
            },
            "baxis": {
             "endlinecolor": "#2a3f5f",
             "gridcolor": "white",
             "linecolor": "white",
             "minorgridcolor": "white",
             "startlinecolor": "#2a3f5f"
            },
            "type": "carpet"
           }
          ],
          "choropleth": [
           {
            "colorbar": {
             "outlinewidth": 0,
             "ticks": ""
            },
            "type": "choropleth"
           }
          ],
          "contour": [
           {
            "colorbar": {
             "outlinewidth": 0,
             "ticks": ""
            },
            "colorscale": [
             [
              0,
              "#0d0887"
             ],
             [
              0.1111111111111111,
              "#46039f"
             ],
             [
              0.2222222222222222,
              "#7201a8"
             ],
             [
              0.3333333333333333,
              "#9c179e"
             ],
             [
              0.4444444444444444,
              "#bd3786"
             ],
             [
              0.5555555555555556,
              "#d8576b"
             ],
             [
              0.6666666666666666,
              "#ed7953"
             ],
             [
              0.7777777777777778,
              "#fb9f3a"
             ],
             [
              0.8888888888888888,
              "#fdca26"
             ],
             [
              1,
              "#f0f921"
             ]
            ],
            "type": "contour"
           }
          ],
          "contourcarpet": [
           {
            "colorbar": {
             "outlinewidth": 0,
             "ticks": ""
            },
            "type": "contourcarpet"
           }
          ],
          "heatmap": [
           {
            "colorbar": {
             "outlinewidth": 0,
             "ticks": ""
            },
            "colorscale": [
             [
              0,
              "#0d0887"
             ],
             [
              0.1111111111111111,
              "#46039f"
             ],
             [
              0.2222222222222222,
              "#7201a8"
             ],
             [
              0.3333333333333333,
              "#9c179e"
             ],
             [
              0.4444444444444444,
              "#bd3786"
             ],
             [
              0.5555555555555556,
              "#d8576b"
             ],
             [
              0.6666666666666666,
              "#ed7953"
             ],
             [
              0.7777777777777778,
              "#fb9f3a"
             ],
             [
              0.8888888888888888,
              "#fdca26"
             ],
             [
              1,
              "#f0f921"
             ]
            ],
            "type": "heatmap"
           }
          ],
          "histogram": [
           {
            "marker": {
             "pattern": {
              "fillmode": "overlay",
              "size": 10,
              "solidity": 0.2
             }
            },
            "type": "histogram"
           }
          ],
          "histogram2d": [
           {
            "colorbar": {
             "outlinewidth": 0,
             "ticks": ""
            },
            "colorscale": [
             [
              0,
              "#0d0887"
             ],
             [
              0.1111111111111111,
              "#46039f"
             ],
             [
              0.2222222222222222,
              "#7201a8"
             ],
             [
              0.3333333333333333,
              "#9c179e"
             ],
             [
              0.4444444444444444,
              "#bd3786"
             ],
             [
              0.5555555555555556,
              "#d8576b"
             ],
             [
              0.6666666666666666,
              "#ed7953"
             ],
             [
              0.7777777777777778,
              "#fb9f3a"
             ],
             [
              0.8888888888888888,
              "#fdca26"
             ],
             [
              1,
              "#f0f921"
             ]
            ],
            "type": "histogram2d"
           }
          ],
          "histogram2dcontour": [
           {
            "colorbar": {
             "outlinewidth": 0,
             "ticks": ""
            },
            "colorscale": [
             [
              0,
              "#0d0887"
             ],
             [
              0.1111111111111111,
              "#46039f"
             ],
             [
              0.2222222222222222,
              "#7201a8"
             ],
             [
              0.3333333333333333,
              "#9c179e"
             ],
             [
              0.4444444444444444,
              "#bd3786"
             ],
             [
              0.5555555555555556,
              "#d8576b"
             ],
             [
              0.6666666666666666,
              "#ed7953"
             ],
             [
              0.7777777777777778,
              "#fb9f3a"
             ],
             [
              0.8888888888888888,
              "#fdca26"
             ],
             [
              1,
              "#f0f921"
             ]
            ],
            "type": "histogram2dcontour"
           }
          ],
          "mesh3d": [
           {
            "colorbar": {
             "outlinewidth": 0,
             "ticks": ""
            },
            "type": "mesh3d"
           }
          ],
          "parcoords": [
           {
            "line": {
             "colorbar": {
              "outlinewidth": 0,
              "ticks": ""
             }
            },
            "type": "parcoords"
           }
          ],
          "pie": [
           {
            "automargin": true,
            "type": "pie"
           }
          ],
          "scatter": [
           {
            "fillpattern": {
             "fillmode": "overlay",
             "size": 10,
             "solidity": 0.2
            },
            "type": "scatter"
           }
          ],
          "scatter3d": [
           {
            "line": {
             "colorbar": {
              "outlinewidth": 0,
              "ticks": ""
             }
            },
            "marker": {
             "colorbar": {
              "outlinewidth": 0,
              "ticks": ""
             }
            },
            "type": "scatter3d"
           }
          ],
          "scattercarpet": [
           {
            "marker": {
             "colorbar": {
              "outlinewidth": 0,
              "ticks": ""
             }
            },
            "type": "scattercarpet"
           }
          ],
          "scattergeo": [
           {
            "marker": {
             "colorbar": {
              "outlinewidth": 0,
              "ticks": ""
             }
            },
            "type": "scattergeo"
           }
          ],
          "scattergl": [
           {
            "marker": {
             "colorbar": {
              "outlinewidth": 0,
              "ticks": ""
             }
            },
            "type": "scattergl"
           }
          ],
          "scattermap": [
           {
            "marker": {
             "colorbar": {
              "outlinewidth": 0,
              "ticks": ""
             }
            },
            "type": "scattermap"
           }
          ],
          "scattermapbox": [
           {
            "marker": {
             "colorbar": {
              "outlinewidth": 0,
              "ticks": ""
             }
            },
            "type": "scattermapbox"
           }
          ],
          "scatterpolar": [
           {
            "marker": {
             "colorbar": {
              "outlinewidth": 0,
              "ticks": ""
             }
            },
            "type": "scatterpolar"
           }
          ],
          "scatterpolargl": [
           {
            "marker": {
             "colorbar": {
              "outlinewidth": 0,
              "ticks": ""
             }
            },
            "type": "scatterpolargl"
           }
          ],
          "scatterternary": [
           {
            "marker": {
             "colorbar": {
              "outlinewidth": 0,
              "ticks": ""
             }
            },
            "type": "scatterternary"
           }
          ],
          "surface": [
           {
            "colorbar": {
             "outlinewidth": 0,
             "ticks": ""
            },
            "colorscale": [
             [
              0,
              "#0d0887"
             ],
             [
              0.1111111111111111,
              "#46039f"
             ],
             [
              0.2222222222222222,
              "#7201a8"
             ],
             [
              0.3333333333333333,
              "#9c179e"
             ],
             [
              0.4444444444444444,
              "#bd3786"
             ],
             [
              0.5555555555555556,
              "#d8576b"
             ],
             [
              0.6666666666666666,
              "#ed7953"
             ],
             [
              0.7777777777777778,
              "#fb9f3a"
             ],
             [
              0.8888888888888888,
              "#fdca26"
             ],
             [
              1,
              "#f0f921"
             ]
            ],
            "type": "surface"
           }
          ],
          "table": [
           {
            "cells": {
             "fill": {
              "color": "#EBF0F8"
             },
             "line": {
              "color": "white"
             }
            },
            "header": {
             "fill": {
              "color": "#C8D4E3"
             },
             "line": {
              "color": "white"
             }
            },
            "type": "table"
           }
          ]
         },
         "layout": {
          "annotationdefaults": {
           "arrowcolor": "#2a3f5f",
           "arrowhead": 0,
           "arrowwidth": 1
          },
          "autotypenumbers": "strict",
          "coloraxis": {
           "colorbar": {
            "outlinewidth": 0,
            "ticks": ""
           }
          },
          "colorscale": {
           "diverging": [
            [
             0,
             "#8e0152"
            ],
            [
             0.1,
             "#c51b7d"
            ],
            [
             0.2,
             "#de77ae"
            ],
            [
             0.3,
             "#f1b6da"
            ],
            [
             0.4,
             "#fde0ef"
            ],
            [
             0.5,
             "#f7f7f7"
            ],
            [
             0.6,
             "#e6f5d0"
            ],
            [
             0.7,
             "#b8e186"
            ],
            [
             0.8,
             "#7fbc41"
            ],
            [
             0.9,
             "#4d9221"
            ],
            [
             1,
             "#276419"
            ]
           ],
           "sequential": [
            [
             0,
             "#0d0887"
            ],
            [
             0.1111111111111111,
             "#46039f"
            ],
            [
             0.2222222222222222,
             "#7201a8"
            ],
            [
             0.3333333333333333,
             "#9c179e"
            ],
            [
             0.4444444444444444,
             "#bd3786"
            ],
            [
             0.5555555555555556,
             "#d8576b"
            ],
            [
             0.6666666666666666,
             "#ed7953"
            ],
            [
             0.7777777777777778,
             "#fb9f3a"
            ],
            [
             0.8888888888888888,
             "#fdca26"
            ],
            [
             1,
             "#f0f921"
            ]
           ],
           "sequentialminus": [
            [
             0,
             "#0d0887"
            ],
            [
             0.1111111111111111,
             "#46039f"
            ],
            [
             0.2222222222222222,
             "#7201a8"
            ],
            [
             0.3333333333333333,
             "#9c179e"
            ],
            [
             0.4444444444444444,
             "#bd3786"
            ],
            [
             0.5555555555555556,
             "#d8576b"
            ],
            [
             0.6666666666666666,
             "#ed7953"
            ],
            [
             0.7777777777777778,
             "#fb9f3a"
            ],
            [
             0.8888888888888888,
             "#fdca26"
            ],
            [
             1,
             "#f0f921"
            ]
           ]
          },
          "colorway": [
           "#636efa",
           "#EF553B",
           "#00cc96",
           "#ab63fa",
           "#FFA15A",
           "#19d3f3",
           "#FF6692",
           "#B6E880",
           "#FF97FF",
           "#FECB52"
          ],
          "font": {
           "color": "#2a3f5f"
          },
          "geo": {
           "bgcolor": "white",
           "lakecolor": "white",
           "landcolor": "#E5ECF6",
           "showlakes": true,
           "showland": true,
           "subunitcolor": "white"
          },
          "hoverlabel": {
           "align": "left"
          },
          "hovermode": "closest",
          "mapbox": {
           "style": "light"
          },
          "paper_bgcolor": "white",
          "plot_bgcolor": "#E5ECF6",
          "polar": {
           "angularaxis": {
            "gridcolor": "white",
            "linecolor": "white",
            "ticks": ""
           },
           "bgcolor": "#E5ECF6",
           "radialaxis": {
            "gridcolor": "white",
            "linecolor": "white",
            "ticks": ""
           }
          },
          "scene": {
           "xaxis": {
            "backgroundcolor": "#E5ECF6",
            "gridcolor": "white",
            "gridwidth": 2,
            "linecolor": "white",
            "showbackground": true,
            "ticks": "",
            "zerolinecolor": "white"
           },
           "yaxis": {
            "backgroundcolor": "#E5ECF6",
            "gridcolor": "white",
            "gridwidth": 2,
            "linecolor": "white",
            "showbackground": true,
            "ticks": "",
            "zerolinecolor": "white"
           },
           "zaxis": {
            "backgroundcolor": "#E5ECF6",
            "gridcolor": "white",
            "gridwidth": 2,
            "linecolor": "white",
            "showbackground": true,
            "ticks": "",
            "zerolinecolor": "white"
           }
          },
          "shapedefaults": {
           "line": {
            "color": "#2a3f5f"
           }
          },
          "ternary": {
           "aaxis": {
            "gridcolor": "white",
            "linecolor": "white",
            "ticks": ""
           },
           "baxis": {
            "gridcolor": "white",
            "linecolor": "white",
            "ticks": ""
           },
           "bgcolor": "#E5ECF6",
           "caxis": {
            "gridcolor": "white",
            "linecolor": "white",
            "ticks": ""
           }
          },
          "title": {
           "x": 0.05
          },
          "xaxis": {
           "automargin": true,
           "gridcolor": "white",
           "linecolor": "white",
           "ticks": "",
           "title": {
            "standoff": 15
           },
           "zerolinecolor": "white",
           "zerolinewidth": 2
          },
          "yaxis": {
           "automargin": true,
           "gridcolor": "white",
           "linecolor": "white",
           "ticks": "",
           "title": {
            "standoff": 15
           },
           "zerolinecolor": "white",
           "zerolinewidth": 2
          }
         }
        },
        "title": {
         "text": "Distribution of Promotion Types"
        },
        "xaxis": {
         "anchor": "y",
         "domain": [
          0,
          1
         ],
         "title": {
          "text": "promo_type"
         }
        },
        "yaxis": {
         "anchor": "x",
         "domain": [
          0,
          1
         ],
         "title": {
          "text": "sum of quantity_sold(after_promo)"
         }
        }
       }
      }
     },
     "metadata": {},
     "output_type": "display_data"
    }
   ],
   "source": [
    "fig=px.histogram(event_data,x='promo_type',title='Distribution of Promotion Types',y='quantity_sold(after_promo)')\n",
    "fig.show()"
   ]
  },
  {
   "cell_type": "code",
   "execution_count": 148,
   "id": "4db9491a",
   "metadata": {},
   "outputs": [
    {
     "data": {
      "application/vnd.microsoft.datawrangler.viewer.v0+json": {
       "columns": [
        {
         "name": "index",
         "rawType": "int64",
         "type": "integer"
        },
        {
         "name": "event_id",
         "rawType": "object",
         "type": "string"
        },
        {
         "name": "store_id",
         "rawType": "object",
         "type": "string"
        },
        {
         "name": "campaign_id",
         "rawType": "object",
         "type": "string"
        },
        {
         "name": "product_code",
         "rawType": "object",
         "type": "string"
        },
        {
         "name": "base_price",
         "rawType": "int64",
         "type": "integer"
        },
        {
         "name": "promo_type",
         "rawType": "object",
         "type": "string"
        },
        {
         "name": "quantity_sold(before_promo)",
         "rawType": "int64",
         "type": "integer"
        },
        {
         "name": "quantity_sold(after_promo)",
         "rawType": "int64",
         "type": "integer"
        },
        {
         "name": "city",
         "rawType": "object",
         "type": "string"
        }
       ],
       "ref": "2646d545-763a-42fd-ac55-439ae6cc2b70",
       "rows": [
        [
         "0",
         "7f650b",
         "STCBE-2",
         "CAMP_SAN_01",
         "P11",
         "190",
         "50% OFF",
         "34",
         "52",
         "Coimbatore"
        ],
        [
         "1",
         "a21f91",
         "STBLR-8",
         "CAMP_DIW_01",
         "P03",
         "156",
         "25% OFF",
         "393",
         "322",
         "Bengaluru"
        ],
        [
         "2",
         "78bc80",
         "STVJD-0",
         "CAMP_SAN_01",
         "P07",
         "300",
         "BOGOF",
         "22",
         "85",
         "Vijayawada"
        ],
        [
         "3",
         "a1503f",
         "STCBE-1",
         "CAMP_DIW_01",
         "P15",
         "3000",
         "500 Cashback",
         "329",
         "1000",
         "Coimbatore"
        ],
        [
         "4",
         "1091cf",
         "STBLR-6",
         "CAMP_DIW_01",
         "P05",
         "55",
         "25% OFF",
         "108",
         "93",
         "Bengaluru"
        ],
        [
         "5",
         "8.02E+96",
         "STBLR-4",
         "CAMP_DIW_01",
         "P11",
         "190",
         "50% OFF",
         "91",
         "116",
         "Bengaluru"
        ],
        [
         "6",
         "73d86f",
         "STVSK-2",
         "CAMP_SAN_01",
         "P10",
         "50",
         "25% OFF",
         "31",
         "26",
         "Visakhapatnam"
        ],
        [
         "7",
         "fe3560",
         "STHYD-4",
         "CAMP_DIW_01",
         "P13",
         "350",
         "BOGOF",
         "73",
         "245",
         "Hyderabad"
        ],
        [
         "8",
         "6b2afc",
         "STCBE-4",
         "CAMP_SAN_01",
         "P08",
         "1190",
         "BOGOF",
         "30",
         "79",
         "Coimbatore"
        ],
        [
         "9",
         "ce5851",
         "STMDU-2",
         "CAMP_SAN_01",
         "P03",
         "200",
         "BOGOF",
         "318",
         "1265",
         "Madurai"
        ],
        [
         "10",
         "dd6685",
         "STMYS-2",
         "CAMP_DIW_01",
         "P06",
         "415",
         "25% OFF",
         "78",
         "70",
         "Mysuru"
        ],
        [
         "11",
         "8f25a6",
         "STHYD-6",
         "CAMP_SAN_01",
         "P15",
         "3000",
         "500 Cashback",
         "126",
         "302",
         "Hyderabad"
        ],
        [
         "12",
         "5c3c33",
         "STCHE-6",
         "CAMP_DIW_01",
         "P12",
         "62",
         "50% OFF",
         "154",
         "207",
         "Chennai"
        ],
        [
         "13",
         "d290a1",
         "STBLR-3",
         "CAMP_DIW_01",
         "P04",
         "290",
         "25% OFF",
         "343",
         "270",
         "Bengaluru"
        ],
        [
         "14",
         "635862",
         "STVSK-4",
         "CAMP_SAN_01",
         "P02",
         "860",
         "33% OFF",
         "348",
         "480",
         "Visakhapatnam"
        ],
        [
         "15",
         "c0ecb5",
         "STCHE-2",
         "CAMP_SAN_01",
         "P07",
         "300",
         "BOGOF",
         "43",
         "167",
         "Chennai"
        ],
        [
         "16",
         "182caa",
         "STCHE-5",
         "CAMP_SAN_01",
         "P06",
         "415",
         "25% OFF",
         "39",
         "33",
         "Chennai"
        ],
        [
         "17",
         "c4db5b",
         "STTRV-0",
         "CAMP_DIW_01",
         "P01",
         "172",
         "33% OFF",
         "164",
         "236",
         "Trivandrum"
        ],
        [
         "18",
         "94f48c",
         "STVSK-1",
         "CAMP_SAN_01",
         "P06",
         "415",
         "25% OFF",
         "22",
         "16",
         "Visakhapatnam"
        ],
        [
         "19",
         "7ef92f",
         "STHYD-5",
         "CAMP_SAN_01",
         "P07",
         "300",
         "BOGOF",
         "55",
         "213",
         "Hyderabad"
        ],
        [
         "20",
         "0f422c",
         "STBLR-0",
         "CAMP_DIW_01",
         "P14",
         "1020",
         "BOGOF",
         "42",
         "168",
         "Bengaluru"
        ],
        [
         "21",
         "1e9a06",
         "STCHE-4",
         "CAMP_DIW_01",
         "P13",
         "350",
         "BOGOF",
         "84",
         "338",
         "Chennai"
        ],
        [
         "22",
         "02ebe9",
         "STBLR-8",
         "CAMP_DIW_01",
         "P11",
         "190",
         "50% OFF",
         "66",
         "88",
         "Bengaluru"
        ],
        [
         "23",
         "260ff2",
         "STMYS-2",
         "CAMP_SAN_01",
         "P01",
         "172",
         "33% OFF",
         "204",
         "291",
         "Mysuru"
        ],
        [
         "24",
         "7fc923",
         "STTRV-0",
         "CAMP_SAN_01",
         "P08",
         "1190",
         "BOGOF",
         "19",
         "74",
         "Trivandrum"
        ],
        [
         "25",
         "b08c12",
         "STMDU-3",
         "CAMP_DIW_01",
         "P03",
         "156",
         "25% OFF",
         "227",
         "202",
         "Madurai"
        ],
        [
         "26",
         "ca7298",
         "STCBE-2",
         "CAMP_SAN_01",
         "P15",
         "3000",
         "500 Cashback",
         "85",
         "228",
         "Coimbatore"
        ],
        [
         "27",
         "bf33ae",
         "STMYS-0",
         "CAMP_DIW_01",
         "P14",
         "1020",
         "BOGOF",
         "59",
         "182",
         "Mysuru"
        ],
        [
         "28",
         "35fb5b",
         "STCBE-2",
         "CAMP_DIW_01",
         "P13",
         "350",
         "BOGOF",
         "50",
         "190",
         "Coimbatore"
        ],
        [
         "29",
         "def6ff",
         "STMDU-0",
         "CAMP_DIW_01",
         "P11",
         "190",
         "50% OFF",
         "70",
         "89",
         "Madurai"
        ],
        [
         "30",
         "2f3e5d",
         "STCHE-2",
         "CAMP_SAN_01",
         "P01",
         "172",
         "33% OFF",
         "333",
         "402",
         "Chennai"
        ],
        [
         "31",
         "ca3893",
         "STMYS-1",
         "CAMP_SAN_01",
         "P09",
         "90",
         "25% OFF",
         "52",
         "39",
         "Mysuru"
        ],
        [
         "32",
         "922e6a",
         "STBLR-8",
         "CAMP_SAN_01",
         "P05",
         "55",
         "25% OFF",
         "34",
         "24",
         "Bengaluru"
        ],
        [
         "33",
         "4f0587",
         "STMDU-0",
         "CAMP_SAN_01",
         "P08",
         "1190",
         "BOGOF",
         "33",
         "136",
         "Madurai"
        ],
        [
         "34",
         "fa5b45",
         "STVJD-1",
         "CAMP_SAN_01",
         "P08",
         "1190",
         "BOGOF",
         "27",
         "109",
         "Vijayawada"
        ],
        [
         "35",
         "df45ee",
         "STHYD-3",
         "CAMP_DIW_01",
         "P01",
         "172",
         "33% OFF",
         "309",
         "534",
         "Hyderabad"
        ],
        [
         "36",
         "f3ac85",
         "STBLR-5",
         "CAMP_SAN_01",
         "P03",
         "200",
         "BOGOF",
         "348",
         "1350",
         "Bengaluru"
        ],
        [
         "37",
         "292ca5",
         "STHYD-2",
         "CAMP_DIW_01",
         "P04",
         "290",
         "25% OFF",
         "287",
         "220",
         "Hyderabad"
        ],
        [
         "38",
         "620715",
         "STMYS-3",
         "CAMP_SAN_01",
         "P03",
         "200",
         "BOGOF",
         "340",
         "1485",
         "Mysuru"
        ],
        [
         "39",
         "7e9777",
         "STVJD-1",
         "CAMP_DIW_01",
         "P08",
         "1190",
         "BOGOF",
         "24",
         "82",
         "Vijayawada"
        ],
        [
         "40",
         "761785",
         "STBLR-4",
         "CAMP_SAN_01",
         "P14",
         "1020",
         "BOGOF",
         "121",
         "474",
         "Bengaluru"
        ],
        [
         "41",
         "eb3bea",
         "STVSK-2",
         "CAMP_SAN_01",
         "P15",
         "3000",
         "500 Cashback",
         "109",
         "238",
         "Visakhapatnam"
        ],
        [
         "42",
         "276150",
         "STCBE-3",
         "CAMP_SAN_01",
         "P07",
         "300",
         "BOGOF",
         "33",
         "128",
         "Coimbatore"
        ],
        [
         "43",
         "3beb46",
         "STMYS-2",
         "CAMP_SAN_01",
         "P13",
         "350",
         "BOGOF",
         "81",
         "208",
         "Mysuru"
        ],
        [
         "44",
         "47af00",
         "STVJD-1",
         "CAMP_DIW_01",
         "P03",
         "156",
         "25% OFF",
         "183",
         "150",
         "Vijayawada"
        ],
        [
         "45",
         "627200",
         "STCBE-4",
         "CAMP_DIW_01",
         "P14",
         "1020",
         "BOGOF",
         "36",
         "111",
         "Coimbatore"
        ],
        [
         "46",
         "bc8315",
         "STHYD-1",
         "CAMP_DIW_01",
         "P12",
         "62",
         "50% OFF",
         "122",
         "135",
         "Hyderabad"
        ],
        [
         "47",
         "1f083a",
         "STVJD-0",
         "CAMP_SAN_01",
         "P06",
         "415",
         "25% OFF",
         "16",
         "14",
         "Vijayawada"
        ],
        [
         "48",
         "c1e0b6",
         "STCHE-6",
         "CAMP_SAN_01",
         "P01",
         "172",
         "33% OFF",
         "273",
         "379",
         "Chennai"
        ],
        [
         "49",
         "f60d93",
         "STCBE-0",
         "CAMP_DIW_01",
         "P05",
         "55",
         "25% OFF",
         "78",
         "75",
         "Coimbatore"
        ]
       ],
       "shape": {
        "columns": 9,
        "rows": 1500
       }
      },
      "text/html": [
       "<div>\n",
       "<style scoped>\n",
       "    .dataframe tbody tr th:only-of-type {\n",
       "        vertical-align: middle;\n",
       "    }\n",
       "\n",
       "    .dataframe tbody tr th {\n",
       "        vertical-align: top;\n",
       "    }\n",
       "\n",
       "    .dataframe thead th {\n",
       "        text-align: right;\n",
       "    }\n",
       "</style>\n",
       "<table border=\"1\" class=\"dataframe\">\n",
       "  <thead>\n",
       "    <tr style=\"text-align: right;\">\n",
       "      <th></th>\n",
       "      <th>event_id</th>\n",
       "      <th>store_id</th>\n",
       "      <th>campaign_id</th>\n",
       "      <th>product_code</th>\n",
       "      <th>base_price</th>\n",
       "      <th>promo_type</th>\n",
       "      <th>quantity_sold(before_promo)</th>\n",
       "      <th>quantity_sold(after_promo)</th>\n",
       "      <th>city</th>\n",
       "    </tr>\n",
       "  </thead>\n",
       "  <tbody>\n",
       "    <tr>\n",
       "      <th>0</th>\n",
       "      <td>7f650b</td>\n",
       "      <td>STCBE-2</td>\n",
       "      <td>CAMP_SAN_01</td>\n",
       "      <td>P11</td>\n",
       "      <td>190</td>\n",
       "      <td>50% OFF</td>\n",
       "      <td>34</td>\n",
       "      <td>52</td>\n",
       "      <td>Coimbatore</td>\n",
       "    </tr>\n",
       "    <tr>\n",
       "      <th>1</th>\n",
       "      <td>a21f91</td>\n",
       "      <td>STBLR-8</td>\n",
       "      <td>CAMP_DIW_01</td>\n",
       "      <td>P03</td>\n",
       "      <td>156</td>\n",
       "      <td>25% OFF</td>\n",
       "      <td>393</td>\n",
       "      <td>322</td>\n",
       "      <td>Bengaluru</td>\n",
       "    </tr>\n",
       "    <tr>\n",
       "      <th>2</th>\n",
       "      <td>78bc80</td>\n",
       "      <td>STVJD-0</td>\n",
       "      <td>CAMP_SAN_01</td>\n",
       "      <td>P07</td>\n",
       "      <td>300</td>\n",
       "      <td>BOGOF</td>\n",
       "      <td>22</td>\n",
       "      <td>85</td>\n",
       "      <td>Vijayawada</td>\n",
       "    </tr>\n",
       "    <tr>\n",
       "      <th>3</th>\n",
       "      <td>a1503f</td>\n",
       "      <td>STCBE-1</td>\n",
       "      <td>CAMP_DIW_01</td>\n",
       "      <td>P15</td>\n",
       "      <td>3000</td>\n",
       "      <td>500 Cashback</td>\n",
       "      <td>329</td>\n",
       "      <td>1000</td>\n",
       "      <td>Coimbatore</td>\n",
       "    </tr>\n",
       "    <tr>\n",
       "      <th>4</th>\n",
       "      <td>1091cf</td>\n",
       "      <td>STBLR-6</td>\n",
       "      <td>CAMP_DIW_01</td>\n",
       "      <td>P05</td>\n",
       "      <td>55</td>\n",
       "      <td>25% OFF</td>\n",
       "      <td>108</td>\n",
       "      <td>93</td>\n",
       "      <td>Bengaluru</td>\n",
       "    </tr>\n",
       "    <tr>\n",
       "      <th>...</th>\n",
       "      <td>...</td>\n",
       "      <td>...</td>\n",
       "      <td>...</td>\n",
       "      <td>...</td>\n",
       "      <td>...</td>\n",
       "      <td>...</td>\n",
       "      <td>...</td>\n",
       "      <td>...</td>\n",
       "      <td>...</td>\n",
       "    </tr>\n",
       "    <tr>\n",
       "      <th>1495</th>\n",
       "      <td>1e8961</td>\n",
       "      <td>STBLR-3</td>\n",
       "      <td>CAMP_SAN_01</td>\n",
       "      <td>P12</td>\n",
       "      <td>62</td>\n",
       "      <td>50% OFF</td>\n",
       "      <td>61</td>\n",
       "      <td>84</td>\n",
       "      <td>Bengaluru</td>\n",
       "    </tr>\n",
       "    <tr>\n",
       "      <th>1496</th>\n",
       "      <td>f957f1</td>\n",
       "      <td>STMDU-1</td>\n",
       "      <td>CAMP_SAN_01</td>\n",
       "      <td>P10</td>\n",
       "      <td>50</td>\n",
       "      <td>25% OFF</td>\n",
       "      <td>22</td>\n",
       "      <td>18</td>\n",
       "      <td>Madurai</td>\n",
       "    </tr>\n",
       "    <tr>\n",
       "      <th>1497</th>\n",
       "      <td>a9ae21</td>\n",
       "      <td>STCBE-0</td>\n",
       "      <td>CAMP_DIW_01</td>\n",
       "      <td>P12</td>\n",
       "      <td>62</td>\n",
       "      <td>50% OFF</td>\n",
       "      <td>80</td>\n",
       "      <td>119</td>\n",
       "      <td>Coimbatore</td>\n",
       "    </tr>\n",
       "    <tr>\n",
       "      <th>1498</th>\n",
       "      <td>e5d28d</td>\n",
       "      <td>STVSK-0</td>\n",
       "      <td>CAMP_SAN_01</td>\n",
       "      <td>P13</td>\n",
       "      <td>350</td>\n",
       "      <td>BOGOF</td>\n",
       "      <td>73</td>\n",
       "      <td>282</td>\n",
       "      <td>Visakhapatnam</td>\n",
       "    </tr>\n",
       "    <tr>\n",
       "      <th>1499</th>\n",
       "      <td>4d22d1</td>\n",
       "      <td>STBLR-9</td>\n",
       "      <td>CAMP_SAN_01</td>\n",
       "      <td>P12</td>\n",
       "      <td>62</td>\n",
       "      <td>50% OFF</td>\n",
       "      <td>52</td>\n",
       "      <td>73</td>\n",
       "      <td>Bengaluru</td>\n",
       "    </tr>\n",
       "  </tbody>\n",
       "</table>\n",
       "<p>1500 rows × 9 columns</p>\n",
       "</div>"
      ],
      "text/plain": [
       "     event_id store_id  campaign_id product_code  base_price    promo_type  \\\n",
       "0      7f650b  STCBE-2  CAMP_SAN_01          P11         190       50% OFF   \n",
       "1      a21f91  STBLR-8  CAMP_DIW_01          P03         156       25% OFF   \n",
       "2      78bc80  STVJD-0  CAMP_SAN_01          P07         300         BOGOF   \n",
       "3      a1503f  STCBE-1  CAMP_DIW_01          P15        3000  500 Cashback   \n",
       "4      1091cf  STBLR-6  CAMP_DIW_01          P05          55       25% OFF   \n",
       "...       ...      ...          ...          ...         ...           ...   \n",
       "1495   1e8961  STBLR-3  CAMP_SAN_01          P12          62       50% OFF   \n",
       "1496   f957f1  STMDU-1  CAMP_SAN_01          P10          50       25% OFF   \n",
       "1497   a9ae21  STCBE-0  CAMP_DIW_01          P12          62       50% OFF   \n",
       "1498   e5d28d  STVSK-0  CAMP_SAN_01          P13         350         BOGOF   \n",
       "1499   4d22d1  STBLR-9  CAMP_SAN_01          P12          62       50% OFF   \n",
       "\n",
       "      quantity_sold(before_promo)  quantity_sold(after_promo)           city  \n",
       "0                              34                          52     Coimbatore  \n",
       "1                             393                         322      Bengaluru  \n",
       "2                              22                          85     Vijayawada  \n",
       "3                             329                        1000     Coimbatore  \n",
       "4                             108                          93      Bengaluru  \n",
       "...                           ...                         ...            ...  \n",
       "1495                           61                          84      Bengaluru  \n",
       "1496                           22                          18        Madurai  \n",
       "1497                           80                         119     Coimbatore  \n",
       "1498                           73                         282  Visakhapatnam  \n",
       "1499                           52                          73      Bengaluru  \n",
       "\n",
       "[1500 rows x 9 columns]"
      ]
     },
     "execution_count": 148,
     "metadata": {},
     "output_type": "execute_result"
    }
   ],
   "source": [
    "if 'city' in event_data.columns:\n",
    "    event_data = event_data.drop(columns=['city'])\n",
    "\n",
    "event_data = event_data.merge(\n",
    "    stores_data[['store_id', 'city']],\n",
    "    on='store_id',\n",
    "    how='left'\n",
    ")\n",
    "event_data\n"
   ]
  },
  {
   "cell_type": "code",
   "execution_count": 149,
   "id": "115a118d",
   "metadata": {},
   "outputs": [
    {
     "ename": "KeyError",
     "evalue": "\"['city_y'] not found in axis\"",
     "output_type": "error",
     "traceback": [
      "\u001b[31m---------------------------------------------------------------------------\u001b[39m",
      "\u001b[31mKeyError\u001b[39m                                  Traceback (most recent call last)",
      "\u001b[36mCell\u001b[39m\u001b[36m \u001b[39m\u001b[32mIn[149]\u001b[39m\u001b[32m, line 8\u001b[39m\n\u001b[32m      5\u001b[39m     event_data = event_data.drop(columns=[\u001b[33m'\u001b[39m\u001b[33mcity_x\u001b[39m\u001b[33m'\u001b[39m])\n\u001b[32m      6\u001b[39m     \u001b[38;5;28;01mreturn\u001b[39;00m event_data\n\u001b[32m----> \u001b[39m\u001b[32m8\u001b[39m event_data_clean = \u001b[43mclean_data\u001b[49m\u001b[43m(\u001b[49m\u001b[43mevent_data\u001b[49m\u001b[43m.\u001b[49m\u001b[43mcopy\u001b[49m\u001b[43m(\u001b[49m\u001b[43m)\u001b[49m\u001b[43m)\u001b[49m\n\u001b[32m      9\u001b[39m event_data_clean.head()\n",
      "\u001b[36mCell\u001b[39m\u001b[36m \u001b[39m\u001b[32mIn[149]\u001b[39m\u001b[32m, line 3\u001b[39m, in \u001b[36mclean_data\u001b[39m\u001b[34m(event_data)\u001b[39m\n\u001b[32m      1\u001b[39m \u001b[38;5;28;01mdef\u001b[39;00m\u001b[38;5;250m \u001b[39m\u001b[34mclean_data\u001b[39m(event_data):\n\u001b[32m      2\u001b[39m     \u001b[38;5;66;03m# Drop column: 'city_y'\u001b[39;00m\n\u001b[32m----> \u001b[39m\u001b[32m3\u001b[39m     event_data = \u001b[43mevent_data\u001b[49m\u001b[43m.\u001b[49m\u001b[43mdrop\u001b[49m\u001b[43m(\u001b[49m\u001b[43mcolumns\u001b[49m\u001b[43m=\u001b[49m\u001b[43m[\u001b[49m\u001b[33;43m'\u001b[39;49m\u001b[33;43mcity_y\u001b[39;49m\u001b[33;43m'\u001b[39;49m\u001b[43m]\u001b[49m\u001b[43m)\u001b[49m\n\u001b[32m      4\u001b[39m     \u001b[38;5;66;03m# Drop column: 'city_x'\u001b[39;00m\n\u001b[32m      5\u001b[39m     event_data = event_data.drop(columns=[\u001b[33m'\u001b[39m\u001b[33mcity_x\u001b[39m\u001b[33m'\u001b[39m])\n",
      "\u001b[36mFile \u001b[39m\u001b[32mc:\\Users\\Sravanthi\\AppData\\Local\\Programs\\Python\\Python313\\Lib\\site-packages\\pandas\\core\\frame.py:5588\u001b[39m, in \u001b[36mDataFrame.drop\u001b[39m\u001b[34m(self, labels, axis, index, columns, level, inplace, errors)\u001b[39m\n\u001b[32m   5440\u001b[39m \u001b[38;5;28;01mdef\u001b[39;00m\u001b[38;5;250m \u001b[39m\u001b[34mdrop\u001b[39m(\n\u001b[32m   5441\u001b[39m     \u001b[38;5;28mself\u001b[39m,\n\u001b[32m   5442\u001b[39m     labels: IndexLabel | \u001b[38;5;28;01mNone\u001b[39;00m = \u001b[38;5;28;01mNone\u001b[39;00m,\n\u001b[32m   (...)\u001b[39m\u001b[32m   5449\u001b[39m     errors: IgnoreRaise = \u001b[33m\"\u001b[39m\u001b[33mraise\u001b[39m\u001b[33m\"\u001b[39m,\n\u001b[32m   5450\u001b[39m ) -> DataFrame | \u001b[38;5;28;01mNone\u001b[39;00m:\n\u001b[32m   5451\u001b[39m \u001b[38;5;250m    \u001b[39m\u001b[33;03m\"\"\"\u001b[39;00m\n\u001b[32m   5452\u001b[39m \u001b[33;03m    Drop specified labels from rows or columns.\u001b[39;00m\n\u001b[32m   5453\u001b[39m \n\u001b[32m   (...)\u001b[39m\u001b[32m   5586\u001b[39m \u001b[33;03m            weight  1.0     0.8\u001b[39;00m\n\u001b[32m   5587\u001b[39m \u001b[33;03m    \"\"\"\u001b[39;00m\n\u001b[32m-> \u001b[39m\u001b[32m5588\u001b[39m     \u001b[38;5;28;01mreturn\u001b[39;00m \u001b[38;5;28;43msuper\u001b[39;49m\u001b[43m(\u001b[49m\u001b[43m)\u001b[49m\u001b[43m.\u001b[49m\u001b[43mdrop\u001b[49m\u001b[43m(\u001b[49m\n\u001b[32m   5589\u001b[39m \u001b[43m        \u001b[49m\u001b[43mlabels\u001b[49m\u001b[43m=\u001b[49m\u001b[43mlabels\u001b[49m\u001b[43m,\u001b[49m\n\u001b[32m   5590\u001b[39m \u001b[43m        \u001b[49m\u001b[43maxis\u001b[49m\u001b[43m=\u001b[49m\u001b[43maxis\u001b[49m\u001b[43m,\u001b[49m\n\u001b[32m   5591\u001b[39m \u001b[43m        \u001b[49m\u001b[43mindex\u001b[49m\u001b[43m=\u001b[49m\u001b[43mindex\u001b[49m\u001b[43m,\u001b[49m\n\u001b[32m   5592\u001b[39m \u001b[43m        \u001b[49m\u001b[43mcolumns\u001b[49m\u001b[43m=\u001b[49m\u001b[43mcolumns\u001b[49m\u001b[43m,\u001b[49m\n\u001b[32m   5593\u001b[39m \u001b[43m        \u001b[49m\u001b[43mlevel\u001b[49m\u001b[43m=\u001b[49m\u001b[43mlevel\u001b[49m\u001b[43m,\u001b[49m\n\u001b[32m   5594\u001b[39m \u001b[43m        \u001b[49m\u001b[43minplace\u001b[49m\u001b[43m=\u001b[49m\u001b[43minplace\u001b[49m\u001b[43m,\u001b[49m\n\u001b[32m   5595\u001b[39m \u001b[43m        \u001b[49m\u001b[43merrors\u001b[49m\u001b[43m=\u001b[49m\u001b[43merrors\u001b[49m\u001b[43m,\u001b[49m\n\u001b[32m   5596\u001b[39m \u001b[43m    \u001b[49m\u001b[43m)\u001b[49m\n",
      "\u001b[36mFile \u001b[39m\u001b[32mc:\\Users\\Sravanthi\\AppData\\Local\\Programs\\Python\\Python313\\Lib\\site-packages\\pandas\\core\\generic.py:4807\u001b[39m, in \u001b[36mNDFrame.drop\u001b[39m\u001b[34m(self, labels, axis, index, columns, level, inplace, errors)\u001b[39m\n\u001b[32m   4805\u001b[39m \u001b[38;5;28;01mfor\u001b[39;00m axis, labels \u001b[38;5;129;01min\u001b[39;00m axes.items():\n\u001b[32m   4806\u001b[39m     \u001b[38;5;28;01mif\u001b[39;00m labels \u001b[38;5;129;01mis\u001b[39;00m \u001b[38;5;129;01mnot\u001b[39;00m \u001b[38;5;28;01mNone\u001b[39;00m:\n\u001b[32m-> \u001b[39m\u001b[32m4807\u001b[39m         obj = \u001b[43mobj\u001b[49m\u001b[43m.\u001b[49m\u001b[43m_drop_axis\u001b[49m\u001b[43m(\u001b[49m\u001b[43mlabels\u001b[49m\u001b[43m,\u001b[49m\u001b[43m \u001b[49m\u001b[43maxis\u001b[49m\u001b[43m,\u001b[49m\u001b[43m \u001b[49m\u001b[43mlevel\u001b[49m\u001b[43m=\u001b[49m\u001b[43mlevel\u001b[49m\u001b[43m,\u001b[49m\u001b[43m \u001b[49m\u001b[43merrors\u001b[49m\u001b[43m=\u001b[49m\u001b[43merrors\u001b[49m\u001b[43m)\u001b[49m\n\u001b[32m   4809\u001b[39m \u001b[38;5;28;01mif\u001b[39;00m inplace:\n\u001b[32m   4810\u001b[39m     \u001b[38;5;28mself\u001b[39m._update_inplace(obj)\n",
      "\u001b[36mFile \u001b[39m\u001b[32mc:\\Users\\Sravanthi\\AppData\\Local\\Programs\\Python\\Python313\\Lib\\site-packages\\pandas\\core\\generic.py:4849\u001b[39m, in \u001b[36mNDFrame._drop_axis\u001b[39m\u001b[34m(self, labels, axis, level, errors, only_slice)\u001b[39m\n\u001b[32m   4847\u001b[39m         new_axis = axis.drop(labels, level=level, errors=errors)\n\u001b[32m   4848\u001b[39m     \u001b[38;5;28;01melse\u001b[39;00m:\n\u001b[32m-> \u001b[39m\u001b[32m4849\u001b[39m         new_axis = \u001b[43maxis\u001b[49m\u001b[43m.\u001b[49m\u001b[43mdrop\u001b[49m\u001b[43m(\u001b[49m\u001b[43mlabels\u001b[49m\u001b[43m,\u001b[49m\u001b[43m \u001b[49m\u001b[43merrors\u001b[49m\u001b[43m=\u001b[49m\u001b[43merrors\u001b[49m\u001b[43m)\u001b[49m\n\u001b[32m   4850\u001b[39m     indexer = axis.get_indexer(new_axis)\n\u001b[32m   4852\u001b[39m \u001b[38;5;66;03m# Case for non-unique axis\u001b[39;00m\n\u001b[32m   4853\u001b[39m \u001b[38;5;28;01melse\u001b[39;00m:\n",
      "\u001b[36mFile \u001b[39m\u001b[32mc:\\Users\\Sravanthi\\AppData\\Local\\Programs\\Python\\Python313\\Lib\\site-packages\\pandas\\core\\indexes\\base.py:7136\u001b[39m, in \u001b[36mIndex.drop\u001b[39m\u001b[34m(self, labels, errors)\u001b[39m\n\u001b[32m   7134\u001b[39m \u001b[38;5;28;01mif\u001b[39;00m mask.any():\n\u001b[32m   7135\u001b[39m     \u001b[38;5;28;01mif\u001b[39;00m errors != \u001b[33m\"\u001b[39m\u001b[33mignore\u001b[39m\u001b[33m\"\u001b[39m:\n\u001b[32m-> \u001b[39m\u001b[32m7136\u001b[39m         \u001b[38;5;28;01mraise\u001b[39;00m \u001b[38;5;167;01mKeyError\u001b[39;00m(\u001b[33mf\u001b[39m\u001b[33m\"\u001b[39m\u001b[38;5;132;01m{\u001b[39;00mlabels[mask].tolist()\u001b[38;5;132;01m}\u001b[39;00m\u001b[33m not found in axis\u001b[39m\u001b[33m\"\u001b[39m)\n\u001b[32m   7137\u001b[39m     indexer = indexer[~mask]\n\u001b[32m   7138\u001b[39m \u001b[38;5;28;01mreturn\u001b[39;00m \u001b[38;5;28mself\u001b[39m.delete(indexer)\n",
      "\u001b[31mKeyError\u001b[39m: \"['city_y'] not found in axis\""
     ]
    }
   ],
   "source": [
    "def clean_data(event_data):\n",
    "    # Drop column: 'city_y'\n",
    "    event_data = event_data.drop(columns=['city_y'])\n",
    "    # Drop column: 'city_x'\n",
    "    event_data = event_data.drop(columns=['city_x'])\n",
    "    return event_data\n",
    "\n",
    "event_data_clean = clean_data(event_data.copy())\n",
    "event_data_clean.head()"
   ]
  },
  {
   "cell_type": "code",
   "execution_count": 150,
   "id": "5b0722cb",
   "metadata": {},
   "outputs": [
    {
     "data": {
      "application/vnd.microsoft.datawrangler.viewer.v0+json": {
       "columns": [
        {
         "name": "index",
         "rawType": "int64",
         "type": "integer"
        },
        {
         "name": "event_id",
         "rawType": "object",
         "type": "string"
        },
        {
         "name": "store_id",
         "rawType": "object",
         "type": "string"
        },
        {
         "name": "campaign_id",
         "rawType": "object",
         "type": "string"
        },
        {
         "name": "product_code",
         "rawType": "object",
         "type": "string"
        },
        {
         "name": "base_price",
         "rawType": "int64",
         "type": "integer"
        },
        {
         "name": "promo_type",
         "rawType": "object",
         "type": "string"
        },
        {
         "name": "quantity_sold(before_promo)",
         "rawType": "int64",
         "type": "integer"
        },
        {
         "name": "quantity_sold(after_promo)",
         "rawType": "int64",
         "type": "integer"
        },
        {
         "name": "city",
         "rawType": "object",
         "type": "string"
        },
        {
         "name": "total_quantity_sold",
         "rawType": "int64",
         "type": "integer"
        }
       ],
       "ref": "f62ab62d-c38d-439f-8091-bf361fe4e0e0",
       "rows": [
        [
         "0",
         "7f650b",
         "STCBE-2",
         "CAMP_SAN_01",
         "P11",
         "190",
         "50% OFF",
         "34",
         "52",
         "Coimbatore",
         "86"
        ],
        [
         "1",
         "a21f91",
         "STBLR-8",
         "CAMP_DIW_01",
         "P03",
         "156",
         "25% OFF",
         "393",
         "322",
         "Bengaluru",
         "715"
        ],
        [
         "2",
         "78bc80",
         "STVJD-0",
         "CAMP_SAN_01",
         "P07",
         "300",
         "BOGOF",
         "22",
         "85",
         "Vijayawada",
         "107"
        ],
        [
         "3",
         "a1503f",
         "STCBE-1",
         "CAMP_DIW_01",
         "P15",
         "3000",
         "500 Cashback",
         "329",
         "1000",
         "Coimbatore",
         "1329"
        ],
        [
         "4",
         "1091cf",
         "STBLR-6",
         "CAMP_DIW_01",
         "P05",
         "55",
         "25% OFF",
         "108",
         "93",
         "Bengaluru",
         "201"
        ]
       ],
       "shape": {
        "columns": 10,
        "rows": 5
       }
      },
      "text/html": [
       "<div>\n",
       "<style scoped>\n",
       "    .dataframe tbody tr th:only-of-type {\n",
       "        vertical-align: middle;\n",
       "    }\n",
       "\n",
       "    .dataframe tbody tr th {\n",
       "        vertical-align: top;\n",
       "    }\n",
       "\n",
       "    .dataframe thead th {\n",
       "        text-align: right;\n",
       "    }\n",
       "</style>\n",
       "<table border=\"1\" class=\"dataframe\">\n",
       "  <thead>\n",
       "    <tr style=\"text-align: right;\">\n",
       "      <th></th>\n",
       "      <th>event_id</th>\n",
       "      <th>store_id</th>\n",
       "      <th>campaign_id</th>\n",
       "      <th>product_code</th>\n",
       "      <th>base_price</th>\n",
       "      <th>promo_type</th>\n",
       "      <th>quantity_sold(before_promo)</th>\n",
       "      <th>quantity_sold(after_promo)</th>\n",
       "      <th>city</th>\n",
       "      <th>total_quantity_sold</th>\n",
       "    </tr>\n",
       "  </thead>\n",
       "  <tbody>\n",
       "    <tr>\n",
       "      <th>0</th>\n",
       "      <td>7f650b</td>\n",
       "      <td>STCBE-2</td>\n",
       "      <td>CAMP_SAN_01</td>\n",
       "      <td>P11</td>\n",
       "      <td>190</td>\n",
       "      <td>50% OFF</td>\n",
       "      <td>34</td>\n",
       "      <td>52</td>\n",
       "      <td>Coimbatore</td>\n",
       "      <td>86</td>\n",
       "    </tr>\n",
       "    <tr>\n",
       "      <th>1</th>\n",
       "      <td>a21f91</td>\n",
       "      <td>STBLR-8</td>\n",
       "      <td>CAMP_DIW_01</td>\n",
       "      <td>P03</td>\n",
       "      <td>156</td>\n",
       "      <td>25% OFF</td>\n",
       "      <td>393</td>\n",
       "      <td>322</td>\n",
       "      <td>Bengaluru</td>\n",
       "      <td>715</td>\n",
       "    </tr>\n",
       "    <tr>\n",
       "      <th>2</th>\n",
       "      <td>78bc80</td>\n",
       "      <td>STVJD-0</td>\n",
       "      <td>CAMP_SAN_01</td>\n",
       "      <td>P07</td>\n",
       "      <td>300</td>\n",
       "      <td>BOGOF</td>\n",
       "      <td>22</td>\n",
       "      <td>85</td>\n",
       "      <td>Vijayawada</td>\n",
       "      <td>107</td>\n",
       "    </tr>\n",
       "    <tr>\n",
       "      <th>3</th>\n",
       "      <td>a1503f</td>\n",
       "      <td>STCBE-1</td>\n",
       "      <td>CAMP_DIW_01</td>\n",
       "      <td>P15</td>\n",
       "      <td>3000</td>\n",
       "      <td>500 Cashback</td>\n",
       "      <td>329</td>\n",
       "      <td>1000</td>\n",
       "      <td>Coimbatore</td>\n",
       "      <td>1329</td>\n",
       "    </tr>\n",
       "    <tr>\n",
       "      <th>4</th>\n",
       "      <td>1091cf</td>\n",
       "      <td>STBLR-6</td>\n",
       "      <td>CAMP_DIW_01</td>\n",
       "      <td>P05</td>\n",
       "      <td>55</td>\n",
       "      <td>25% OFF</td>\n",
       "      <td>108</td>\n",
       "      <td>93</td>\n",
       "      <td>Bengaluru</td>\n",
       "      <td>201</td>\n",
       "    </tr>\n",
       "  </tbody>\n",
       "</table>\n",
       "</div>"
      ],
      "text/plain": [
       "  event_id store_id  campaign_id product_code  base_price    promo_type  \\\n",
       "0   7f650b  STCBE-2  CAMP_SAN_01          P11         190       50% OFF   \n",
       "1   a21f91  STBLR-8  CAMP_DIW_01          P03         156       25% OFF   \n",
       "2   78bc80  STVJD-0  CAMP_SAN_01          P07         300         BOGOF   \n",
       "3   a1503f  STCBE-1  CAMP_DIW_01          P15        3000  500 Cashback   \n",
       "4   1091cf  STBLR-6  CAMP_DIW_01          P05          55       25% OFF   \n",
       "\n",
       "   quantity_sold(before_promo)  quantity_sold(after_promo)        city  \\\n",
       "0                           34                          52  Coimbatore   \n",
       "1                          393                         322   Bengaluru   \n",
       "2                           22                          85  Vijayawada   \n",
       "3                          329                        1000  Coimbatore   \n",
       "4                          108                          93   Bengaluru   \n",
       "\n",
       "   total_quantity_sold  \n",
       "0                   86  \n",
       "1                  715  \n",
       "2                  107  \n",
       "3                 1329  \n",
       "4                  201  "
      ]
     },
     "execution_count": 150,
     "metadata": {},
     "output_type": "execute_result"
    }
   ],
   "source": [
    "total_quantity_sold = event_data_clean['quantity_sold(before_promo)'] + event_data_clean['quantity_sold(after_promo)']\n",
    "event_data_clean['total_quantity_sold'] = total_quantity_sold\n",
    "event_data_clean.head()\n"
   ]
  },
  {
   "cell_type": "code",
   "execution_count": 151,
   "id": "5711f74e",
   "metadata": {},
   "outputs": [
    {
     "name": "stdout",
     "output_type": "stream",
     "text": [
      "['Coimbatore' 'Bengaluru' 'Vijayawada' 'Visakhapatnam' 'Hyderabad'\n",
      " 'Madurai' 'Mysuru' 'Chennai' 'Trivandrum' 'Mangalore']\n"
     ]
    }
   ],
   "source": [
    "print(event_data_clean.city.unique())"
   ]
  },
  {
   "cell_type": "code",
   "execution_count": 152,
   "id": "ecb807ec",
   "metadata": {},
   "outputs": [
    {
     "data": {
      "application/vnd.microsoft.datawrangler.viewer.v0+json": {
       "columns": [
        {
         "name": "index",
         "rawType": "int64",
         "type": "integer"
        },
        {
         "name": "name_of_city",
         "rawType": "object",
         "type": "string"
        },
        {
         "name": "state_code",
         "rawType": "int64",
         "type": "integer"
        },
        {
         "name": "state_name",
         "rawType": "object",
         "type": "string"
        },
        {
         "name": "dist_code",
         "rawType": "int64",
         "type": "integer"
        },
        {
         "name": "population_total",
         "rawType": "int64",
         "type": "integer"
        },
        {
         "name": "population_male",
         "rawType": "int64",
         "type": "integer"
        },
        {
         "name": "population_female",
         "rawType": "int64",
         "type": "integer"
        },
        {
         "name": "0-6_population_total",
         "rawType": "int64",
         "type": "integer"
        },
        {
         "name": "0-6_population_male",
         "rawType": "int64",
         "type": "integer"
        },
        {
         "name": "0-6_population_female",
         "rawType": "int64",
         "type": "integer"
        },
        {
         "name": "literates_total",
         "rawType": "int64",
         "type": "integer"
        },
        {
         "name": "literates_male",
         "rawType": "int64",
         "type": "integer"
        },
        {
         "name": "literates_female",
         "rawType": "int64",
         "type": "integer"
        },
        {
         "name": "sex_ratio",
         "rawType": "int64",
         "type": "integer"
        },
        {
         "name": "child_sex_ratio",
         "rawType": "int64",
         "type": "integer"
        },
        {
         "name": "effective_literacy_rate_total",
         "rawType": "float64",
         "type": "float"
        },
        {
         "name": "effective_literacy_rate_male",
         "rawType": "float64",
         "type": "float"
        },
        {
         "name": "effective_literacy_rate_female",
         "rawType": "float64",
         "type": "float"
        },
        {
         "name": "location",
         "rawType": "object",
         "type": "string"
        },
        {
         "name": "total_graduates",
         "rawType": "int64",
         "type": "integer"
        },
        {
         "name": "male_graduates",
         "rawType": "int64",
         "type": "integer"
        },
        {
         "name": "female_graduates",
         "rawType": "int64",
         "type": "integer"
        }
       ],
       "ref": "9d0a2b94-d587-4e4c-8a70-554d09f56675",
       "rows": [
        [
         "0",
         "Abohar ",
         "3",
         "PUNJAB",
         "9",
         "145238",
         "76840",
         "68398",
         "15870",
         "8587",
         "7283",
         "103319",
         "58347",
         "44972",
         "890",
         "848",
         "79.86",
         "85.49",
         "73.59",
         "30.1452928,74.1993043",
         "16287",
         "8612",
         "7675"
        ],
        [
         "1",
         "Achalpur ",
         "27",
         "MAHARASHTRA",
         "7",
         "112293",
         "58256",
         "54037",
         "11810",
         "6186",
         "5624",
         "92433",
         "49347",
         "43086",
         "928",
         "909",
         "91.99",
         "94.77",
         "89.0",
         "21.257584,77.5086754",
         "8863",
         "5269",
         "3594"
        ],
        [
         "2",
         "Adilabad ",
         "28",
         "ANDHRA PRADESH",
         "1",
         "117388",
         "59232",
         "58156",
         "13103",
         "6731",
         "6372",
         "83955",
         "46295",
         "37660",
         "982",
         "947",
         "80.51",
         "88.18",
         "72.73",
         "19.0809075,79.560344",
         "10565",
         "6797",
         "3768"
        ],
        [
         "3",
         "Adityapur ",
         "20",
         "JHARKHAND",
         "24",
         "173988",
         "91495",
         "82493",
         "23042",
         "12063",
         "10979",
         "125985",
         "71470",
         "54515",
         "902",
         "910",
         "83.46",
         "89.98",
         "76.23",
         "22.7834741,86.1576889",
         "19225",
         "12189",
         "7036"
        ],
        [
         "4",
         "Adoni ",
         "28",
         "ANDHRA PRADESH",
         "21",
         "166537",
         "82743",
         "83794",
         "18406",
         "9355",
         "9051",
         "101292",
         "56203",
         "45089",
         "1013",
         "968",
         "68.38",
         "76.58",
         "60.33",
         "15.6322227,77.2728368",
         "11902",
         "7871",
         "4031"
        ]
       ],
       "shape": {
        "columns": 22,
        "rows": 5
       }
      },
      "text/html": [
       "<div>\n",
       "<style scoped>\n",
       "    .dataframe tbody tr th:only-of-type {\n",
       "        vertical-align: middle;\n",
       "    }\n",
       "\n",
       "    .dataframe tbody tr th {\n",
       "        vertical-align: top;\n",
       "    }\n",
       "\n",
       "    .dataframe thead th {\n",
       "        text-align: right;\n",
       "    }\n",
       "</style>\n",
       "<table border=\"1\" class=\"dataframe\">\n",
       "  <thead>\n",
       "    <tr style=\"text-align: right;\">\n",
       "      <th></th>\n",
       "      <th>name_of_city</th>\n",
       "      <th>state_code</th>\n",
       "      <th>state_name</th>\n",
       "      <th>dist_code</th>\n",
       "      <th>population_total</th>\n",
       "      <th>population_male</th>\n",
       "      <th>population_female</th>\n",
       "      <th>0-6_population_total</th>\n",
       "      <th>0-6_population_male</th>\n",
       "      <th>0-6_population_female</th>\n",
       "      <th>...</th>\n",
       "      <th>literates_female</th>\n",
       "      <th>sex_ratio</th>\n",
       "      <th>child_sex_ratio</th>\n",
       "      <th>effective_literacy_rate_total</th>\n",
       "      <th>effective_literacy_rate_male</th>\n",
       "      <th>effective_literacy_rate_female</th>\n",
       "      <th>location</th>\n",
       "      <th>total_graduates</th>\n",
       "      <th>male_graduates</th>\n",
       "      <th>female_graduates</th>\n",
       "    </tr>\n",
       "  </thead>\n",
       "  <tbody>\n",
       "    <tr>\n",
       "      <th>0</th>\n",
       "      <td>Abohar</td>\n",
       "      <td>3</td>\n",
       "      <td>PUNJAB</td>\n",
       "      <td>9</td>\n",
       "      <td>145238</td>\n",
       "      <td>76840</td>\n",
       "      <td>68398</td>\n",
       "      <td>15870</td>\n",
       "      <td>8587</td>\n",
       "      <td>7283</td>\n",
       "      <td>...</td>\n",
       "      <td>44972</td>\n",
       "      <td>890</td>\n",
       "      <td>848</td>\n",
       "      <td>79.86</td>\n",
       "      <td>85.49</td>\n",
       "      <td>73.59</td>\n",
       "      <td>30.1452928,74.1993043</td>\n",
       "      <td>16287</td>\n",
       "      <td>8612</td>\n",
       "      <td>7675</td>\n",
       "    </tr>\n",
       "    <tr>\n",
       "      <th>1</th>\n",
       "      <td>Achalpur</td>\n",
       "      <td>27</td>\n",
       "      <td>MAHARASHTRA</td>\n",
       "      <td>7</td>\n",
       "      <td>112293</td>\n",
       "      <td>58256</td>\n",
       "      <td>54037</td>\n",
       "      <td>11810</td>\n",
       "      <td>6186</td>\n",
       "      <td>5624</td>\n",
       "      <td>...</td>\n",
       "      <td>43086</td>\n",
       "      <td>928</td>\n",
       "      <td>909</td>\n",
       "      <td>91.99</td>\n",
       "      <td>94.77</td>\n",
       "      <td>89.00</td>\n",
       "      <td>21.257584,77.5086754</td>\n",
       "      <td>8863</td>\n",
       "      <td>5269</td>\n",
       "      <td>3594</td>\n",
       "    </tr>\n",
       "    <tr>\n",
       "      <th>2</th>\n",
       "      <td>Adilabad</td>\n",
       "      <td>28</td>\n",
       "      <td>ANDHRA PRADESH</td>\n",
       "      <td>1</td>\n",
       "      <td>117388</td>\n",
       "      <td>59232</td>\n",
       "      <td>58156</td>\n",
       "      <td>13103</td>\n",
       "      <td>6731</td>\n",
       "      <td>6372</td>\n",
       "      <td>...</td>\n",
       "      <td>37660</td>\n",
       "      <td>982</td>\n",
       "      <td>947</td>\n",
       "      <td>80.51</td>\n",
       "      <td>88.18</td>\n",
       "      <td>72.73</td>\n",
       "      <td>19.0809075,79.560344</td>\n",
       "      <td>10565</td>\n",
       "      <td>6797</td>\n",
       "      <td>3768</td>\n",
       "    </tr>\n",
       "    <tr>\n",
       "      <th>3</th>\n",
       "      <td>Adityapur</td>\n",
       "      <td>20</td>\n",
       "      <td>JHARKHAND</td>\n",
       "      <td>24</td>\n",
       "      <td>173988</td>\n",
       "      <td>91495</td>\n",
       "      <td>82493</td>\n",
       "      <td>23042</td>\n",
       "      <td>12063</td>\n",
       "      <td>10979</td>\n",
       "      <td>...</td>\n",
       "      <td>54515</td>\n",
       "      <td>902</td>\n",
       "      <td>910</td>\n",
       "      <td>83.46</td>\n",
       "      <td>89.98</td>\n",
       "      <td>76.23</td>\n",
       "      <td>22.7834741,86.1576889</td>\n",
       "      <td>19225</td>\n",
       "      <td>12189</td>\n",
       "      <td>7036</td>\n",
       "    </tr>\n",
       "    <tr>\n",
       "      <th>4</th>\n",
       "      <td>Adoni</td>\n",
       "      <td>28</td>\n",
       "      <td>ANDHRA PRADESH</td>\n",
       "      <td>21</td>\n",
       "      <td>166537</td>\n",
       "      <td>82743</td>\n",
       "      <td>83794</td>\n",
       "      <td>18406</td>\n",
       "      <td>9355</td>\n",
       "      <td>9051</td>\n",
       "      <td>...</td>\n",
       "      <td>45089</td>\n",
       "      <td>1013</td>\n",
       "      <td>968</td>\n",
       "      <td>68.38</td>\n",
       "      <td>76.58</td>\n",
       "      <td>60.33</td>\n",
       "      <td>15.6322227,77.2728368</td>\n",
       "      <td>11902</td>\n",
       "      <td>7871</td>\n",
       "      <td>4031</td>\n",
       "    </tr>\n",
       "  </tbody>\n",
       "</table>\n",
       "<p>5 rows × 22 columns</p>\n",
       "</div>"
      ],
      "text/plain": [
       "  name_of_city  state_code      state_name  dist_code  population_total  \\\n",
       "0      Abohar            3          PUNJAB          9            145238   \n",
       "1    Achalpur           27     MAHARASHTRA          7            112293   \n",
       "2    Adilabad           28  ANDHRA PRADESH          1            117388   \n",
       "3   Adityapur           20       JHARKHAND         24            173988   \n",
       "4       Adoni           28  ANDHRA PRADESH         21            166537   \n",
       "\n",
       "   population_male  population_female  0-6_population_total  \\\n",
       "0            76840              68398                 15870   \n",
       "1            58256              54037                 11810   \n",
       "2            59232              58156                 13103   \n",
       "3            91495              82493                 23042   \n",
       "4            82743              83794                 18406   \n",
       "\n",
       "   0-6_population_male  0-6_population_female  ...  literates_female  \\\n",
       "0                 8587                   7283  ...             44972   \n",
       "1                 6186                   5624  ...             43086   \n",
       "2                 6731                   6372  ...             37660   \n",
       "3                12063                  10979  ...             54515   \n",
       "4                 9355                   9051  ...             45089   \n",
       "\n",
       "   sex_ratio  child_sex_ratio  effective_literacy_rate_total  \\\n",
       "0        890              848                          79.86   \n",
       "1        928              909                          91.99   \n",
       "2        982              947                          80.51   \n",
       "3        902              910                          83.46   \n",
       "4       1013              968                          68.38   \n",
       "\n",
       "   effective_literacy_rate_male  effective_literacy_rate_female  \\\n",
       "0                         85.49                           73.59   \n",
       "1                         94.77                           89.00   \n",
       "2                         88.18                           72.73   \n",
       "3                         89.98                           76.23   \n",
       "4                         76.58                           60.33   \n",
       "\n",
       "                location  total_graduates male_graduates  female_graduates  \n",
       "0  30.1452928,74.1993043            16287           8612              7675  \n",
       "1   21.257584,77.5086754             8863           5269              3594  \n",
       "2   19.0809075,79.560344            10565           6797              3768  \n",
       "3  22.7834741,86.1576889            19225          12189              7036  \n",
       "4  15.6322227,77.2728368            11902           7871              4031  \n",
       "\n",
       "[5 rows x 22 columns]"
      ]
     },
     "execution_count": 152,
     "metadata": {},
     "output_type": "execute_result"
    }
   ],
   "source": [
    "# Load your event data and city coordinates data\n",
    "city_coords = pd.read_csv('./dataset/Indian_cities.csv')\n",
    "city_coords.head()\n"
   ]
  },
  {
   "cell_type": "code",
   "execution_count": 193,
   "id": "86f570e9",
   "metadata": {},
   "outputs": [],
   "source": [
    "# --- Step 1: Fix city names in city_coords ---\n",
    "city_name_map = {\n",
    "    \"mysore\": \"Mysuru\",\n",
    "    \"bangalore\": \"Bengaluru\",\n",
    "    \"bengalooru\": \"Bengaluru\",\n",
    "    \"thiruvananthapuram\": \"Trivandrum\",\n",
    "    \"trivandram\": \"Trivandrum\",\n",
    "    \"greater hyderabad\": \"Hyderabad\",\n",
    "    \"hyderabad city\": \"Hyderabad\",\n",
    "    \"madras\": \"Chennai\",\n",
    "    \"coimbatore city\": \"Coimbatore\",\n",
    "    \"vijayawada town\": \"Vijayawada\",\n",
    "    \"visakhapatnam city\": \"Visakhapatnam\",\n",
    "    \"madurai city\": \"Madurai\",\n",
    "    \"mangalore city\": \"Mangalore\"\n",
    "}\n",
    "\n",
    "city_coords['name_of_city'] = city_coords['name_of_city'].replace(city_name_map)\n",
    "\n"
   ]
  },
  {
   "cell_type": "code",
   "execution_count": 194,
   "id": "50fdad11",
   "metadata": {},
   "outputs": [],
   "source": [
    "# --- Step 2: Merge city coordinates with event data ---\n",
    "merged_data = pd.merge(\n",
    "    event_data_clean, \n",
    "    city_coords[['name_of_city', 'location']], \n",
    "    left_on='city', \n",
    "    right_on='name_of_city', \n",
    "    how='left'\n",
    ")\n"
   ]
  },
  {
   "cell_type": "code",
   "execution_count": 195,
   "id": "ab05913a",
   "metadata": {},
   "outputs": [
    {
     "name": "stdout",
     "output_type": "stream",
     "text": [
      "['coimbatore' 'bengaluru' 'vijayawada' 'visakhapatnam' 'hyderabad'\n",
      " 'madurai' 'mysuru' 'chennai' 'trivandrum' 'mangalore']\n"
     ]
    }
   ],
   "source": [
    "print(event_data_clean['city'].unique())\n",
    "\n"
   ]
  },
  {
   "cell_type": "code",
   "execution_count": 196,
   "id": "fab106cb",
   "metadata": {},
   "outputs": [
    {
     "name": "stdout",
     "output_type": "stream",
     "text": [
      "['abohar' 'achalpur' 'adilabad' 'adityapur' 'adoni' 'agartala' 'agra'\n",
      " 'ahmadabad' 'ahmadnagar' 'aizawl' 'ajmer' 'akbarpur' 'akola' 'alandur'\n",
      " 'alappuzha' 'aligarh' 'allahabad' 'alwar' 'ambala' 'ambala sadar'\n",
      " 'ambarnath' 'ambattur' 'ambikapur' 'ambur' 'amravati' 'amreli' 'amritsar'\n",
      " 'amroha' 'anand' 'anantapur' 'anantnag' 'arrah' 'asansol'\n",
      " 'ashoknagar kalyangarh' 'aurangabad' 'avadi' 'azamgarh' 'badlapur'\n",
      " 'bagaha' 'bagalkot' 'bahadurgarh' 'baharampur' 'bahraich' 'baidyabati'\n",
      " 'baleshwar town' 'ballia' 'bally' 'bally city' 'balurghat' 'banda'\n",
      " 'bankura' 'bansberia' 'banswara' 'baran' 'baranagar' 'barasat' 'baraut'\n",
      " 'barddhaman' 'bareilly' 'baripada town' 'barnala' 'barrackpur' 'barshi'\n",
      " 'basirhat' 'basti' 'batala' 'bathinda' 'beawar' 'begusarai' 'belgaum'\n",
      " 'bellary' 'bengaluru' 'bettiah' 'betul' 'bhadrak' 'bhadravati'\n",
      " 'bhadreswar' 'bhagalpur' 'bhalswa jahangir pur' 'bharatpur' 'bharuch'\n",
      " 'bhatpara' 'bhavnagar' 'bhilai nagar' 'bhilwara' 'bhimavaram' 'bhind'\n",
      " 'bhiwadi' 'bhiwandi' 'bhiwani' 'bhopal' 'bhubaneswar town' 'bhuj'\n",
      " 'bhusawal' 'bid' 'bidar' 'bidhan nagar' 'biharsharif' 'bijapur' 'bikaner'\n",
      " 'bilaspur' 'bokaro steel city' 'bongaon' 'botad' 'brahmapur town'\n",
      " 'budaun' 'bulandshahr' 'bundi' 'burari' 'burhanpur' 'buxar' 'champdani'\n",
      " 'chandannagar' 'chandausi' 'chandigarh' 'chandrapur' 'chapra' 'chas'\n",
      " 'chennai' 'chhattarpur' 'chhindwara' 'chikmagalur' 'chilakaluripet'\n",
      " 'chitradurga' 'chittaurgarh' 'chittoor' 'churu' 'coimbatore' 'cuddalore'\n",
      " 'cuttack' 'dabgram' 'dallo pura' 'damoh' 'darbhanga' 'darjiling' 'datia'\n",
      " 'davanagere' 'deesa' 'dehradun' 'dehri' 'delhi' 'delhi cantonment'\n",
      " 'deoghar' 'deoli' 'deoria' 'dewas' 'dhanbad' 'dharmavaram' 'dhaulpur'\n",
      " 'dhule' 'dibrugarh' 'dimapur' 'dinapur nizamat' 'dindigul' 'dum dum'\n",
      " 'durg' 'durgapur' 'eluru' 'english bazar' 'erode' 'etah' 'etawah'\n",
      " 'faizabad' 'faridabad' 'farrukhabad-cum-fatehgarh' 'fatehpur' 'firozabad'\n",
      " 'firozpur' 'gadag-betigeri' 'gandhidham' 'gandhinagar' 'ganganagar'\n",
      " 'gangapur city' 'gangawati' 'gaya' 'ghazipur' 'giridih' 'godhra'\n",
      " 'gokal pur' 'gonda' 'gondal' 'gondiya' 'gorakhpur' 'hyderabad'\n",
      " 'greater mumbai' 'greater noida' 'gudivada' 'gulbarga' 'guna' 'guntakal'\n",
      " 'guntur' 'gurgaon' 'guwahati' 'gwalior' 'habra' 'hajipur' 'haldia'\n",
      " 'haldwani-cum-kathgodam' 'halisahar' 'hanumangarh' 'haora' 'hapur'\n",
      " 'hardoi' 'hardwar' 'hassan' 'hastsal' 'hathras' 'hazaribag' 'hindaun'\n",
      " 'hindupur' 'hinganghat' 'hisar' 'hoshangabad' 'hoshiarpur' 'hospet'\n",
      " 'hosur' 'hubli-dharwad' 'hugli-chinsurah' 'ichalkaranji' 'imphal'\n",
      " 'indore' 'jabalpur' 'jagadhri' 'jagdalpur' 'jaipur' 'jalandhar' 'jalgaon'\n",
      " 'jalna' 'jalpaiguri' 'jamalpur' 'jammu' 'jamnagar' 'jamshedpur' 'jamuria'\n",
      " 'jaunpur' 'jehanabad' 'jetpur navagadh' 'jhansi' 'jhunjhunun' 'jind'\n",
      " 'jodhpur' 'junagadh' 'kadapa' 'kaithal' 'kakinada' 'kalol' 'kalyani'\n",
      " 'kamarhati' 'kancheepuram' 'kanchrapara' 'kanpur' 'kanpur city'\n",
      " 'karaikkudi' 'karawal nagar' 'karimnagar' 'karnal' 'kasganj' 'kashipur'\n",
      " 'katihar' 'khammam' 'khandwa' 'khanna' 'kharagpur' 'khardaha' 'khargone'\n",
      " 'khora' 'khurja' 'kirari suleman nagar' 'kishanganj' 'kishangarh' 'kochi'\n",
      " 'kolar' 'kolhapur' 'kolkata' 'kollam' 'korba' 'kota' 'kozhikode'\n",
      " 'krishnanagar' 'kulti' 'kumbakonam' 'kurichi' 'kurnool' 'lakhimpur'\n",
      " 'lalitpur' 'latur' 'loni' 'lucknow' 'ludhiana' 'machilipatnam'\n",
      " 'madanapalle' 'madavaram' 'madhyamgram' 'madurai' 'mahbubnagar'\n",
      " 'mahesana' 'maheshtala' 'mainpuri' 'malegaon' 'malerkotla' 'mandoli'\n",
      " 'mandsaur' 'mandya' 'mangalore' 'mango' 'mathura' 'maunath bhanjan'\n",
      " 'medinipur' 'meerut' 'mira bhayander' 'miryalaguda'\n",
      " 'mirzapur-cum-vindhyachal' 'modinagar' 'moga' 'moradabad' 'morena'\n",
      " 'morvi' 'motihari' 'mughalsarai' 'muktsar' 'munger' 'murwara'\n",
      " 'mustafabad' 'muzaffarnagar' 'muzaffarpur' 'mysuru' 'nabadwip' 'nadiad'\n",
      " 'nagaon' 'nagapattinam' 'nagaur' 'nagda' 'nagercoil' 'nagpur' 'naihati'\n",
      " 'nalgonda' 'nanded waghala' 'nandurbar' 'nandyal' 'nangloi jat'\n",
      " 'narasaraopet' 'nashik' 'navi mumbai' 'navi mumbai panvel raigarh'\n",
      " 'navsari' 'neemuch' 'nellore' 'new delhi' 'neyveli' 'nizamabad' 'noida'\n",
      " 'north barrackpur' 'north dum dum' 'ongole' 'orai' 'osmanabad'\n",
      " 'ozhukarai' 'palakkad' 'palanpur' 'pali' 'pallavaram' 'palwal'\n",
      " 'panchkula' 'panihati' 'panipat' 'panvel' 'parbhani' 'patan' 'pathankot'\n",
      " 'patiala' 'patna' 'pilibhit' 'pimpri chinchwad' 'pithampur' 'porbandar'\n",
      " 'port blair' 'proddatur' 'puducherry' 'pudukkottai' 'pune' 'puri'\n",
      " 'purnia' 'puruliya' 'rae bareli' 'raichur' 'raiganj' 'raigarh' 'raipur'\n",
      " 'rajahmundry' 'rajapalayam' 'rajarhat gopalpur' 'rajkot' 'rajnandgaon'\n",
      " 'rajpur sonarpur' 'ramagundam' 'rampur' 'ranchi' 'ranibennur' 'raniganj'\n",
      " 'ratlam' 'raurkela industrial township' 'raurkela town' 'rewa' 'rewari'\n",
      " 'rishra' 'robertson pet' 'rohtak' 'roorkee' 'rudrapur' 's.a.s. nagar'\n",
      " 'sagar' 'saharanpur' 'saharsa' 'salem' 'sambalpur' 'sambhal'\n",
      " 'sangli miraj kupwad' 'santipur' 'sasaram' 'satara' 'satna'\n",
      " 'sawai madhopur' 'secunderabad' 'sehore' 'seoni' 'serampore'\n",
      " 'shahjahanpur' 'shamli' 'shikohabad' 'shillong' 'shimla' 'shimoga'\n",
      " 'shivpuri' 'sikar' 'silchar' 'siliguri' 'singrauli' 'sirsa' 'sitapur'\n",
      " 'siwan' 'solapur' 'sonipat' 'south dum dum' 'srikakulam' 'srinagar'\n",
      " 'sujangarh' 'sultan pur majra' 'sultanpur' 'surat'\n",
      " 'surendranagar dudhrej' 'suryapet' 'tadepalligudem' 'tadpatri' 'tambaram'\n",
      " 'tenali' 'thane' 'thanesar' 'thanjavur' 'trivandrum' 'thoothukkudi'\n",
      " 'thrissur' 'tiruchirappalli' 'tirunelveli' 'tirupati' 'tiruppur'\n",
      " 'tiruvannamalai' 'tiruvottiyur' 'titagarh' 'tonk' 'tumkur' 'udaipur'\n",
      " 'udgir' 'udupi' 'ujjain' 'ulhasnagar' 'uluberia' 'unnao'\n",
      " 'uttarpara kotrung' 'vadodara' 'valsad' 'varanasi' 'vasai virar city'\n",
      " 'vellore' 'veraval' 'vidisha' 'vijayawada' 'visakhapatnam' 'vizianagaram'\n",
      " 'warangal' 'wardha' 'yamunanagar' 'yavatmal']\n"
     ]
    }
   ],
   "source": [
    "print(city_coords['name_of_city'].unique())"
   ]
  },
  {
   "cell_type": "code",
   "execution_count": 197,
   "id": "6a90d822",
   "metadata": {},
   "outputs": [],
   "source": [
    "event_data_clean['city'] = event_data_clean['city'].str.strip().str.lower()\n",
    "city_coords['name_of_city'] = city_coords['name_of_city'].str.strip().str.lower()\n"
   ]
  },
  {
   "cell_type": "code",
   "execution_count": 198,
   "id": "55c82a80",
   "metadata": {},
   "outputs": [],
   "source": [
    "# --- Step 3: Aggregate total quantity sold per city ---\n",
    "city_sales = merged_data.groupby(\n",
    "    ['city', 'location'], \n",
    "    as_index=False\n",
    ")['total_quantity_sold'].sum()\n"
   ]
  },
  {
   "cell_type": "code",
   "execution_count": 199,
   "id": "bf8307f1",
   "metadata": {},
   "outputs": [
    {
     "data": {
      "application/vnd.microsoft.datawrangler.viewer.v0+json": {
       "columns": [
        {
         "name": "index",
         "rawType": "int64",
         "type": "integer"
        },
        {
         "name": "city",
         "rawType": "object",
         "type": "string"
        },
        {
         "name": "location",
         "rawType": "object",
         "type": "string"
        },
        {
         "name": "total_quantity_sold",
         "rawType": "int64",
         "type": "integer"
        },
        {
         "name": "lat",
         "rawType": "float64",
         "type": "float"
        },
        {
         "name": "lng",
         "rawType": "float64",
         "type": "float"
        }
       ],
       "ref": "ec5cd1db-228c-4cc7-befd-b819128c9403",
       "rows": [
        [
         "0",
         "bengaluru",
         "12.9716,77.5946",
         "154312",
         "12.9716",
         "77.5946"
        ],
        [
         "1",
         "chennai",
         "13.0826802,80.2707184",
         "122778",
         "13.0826802",
         "80.2707184"
        ],
        [
         "2",
         "coimbatore",
         "11.0168445,76.9558321",
         "57050",
         "11.0168445",
         "76.9558321"
        ],
        [
         "3",
         "hyderabad",
         "17.3850,78.4867",
         "103762",
         "17.385",
         "78.4867"
        ],
        [
         "4",
         "madurai",
         "9.9252007,78.1197754",
         "45627",
         "9.9252007",
         "78.1197754"
        ],
        [
         "5",
         "mangalore",
         "12.9141417,74.8559568",
         "22458",
         "12.9141417",
         "74.8559568"
        ],
        [
         "6",
         "mysuru",
         "12.2958104,76.6393805",
         "56039",
         "12.2958104",
         "76.6393805"
        ],
        [
         "7",
         "trivandrum",
         "8.5241391,76.9366376",
         "15003",
         "8.5241391",
         "76.9366376"
        ],
        [
         "8",
         "vijayawada",
         "16.5061743,80.6480153",
         "16403",
         "16.5061743",
         "80.6480153"
        ],
        [
         "9",
         "visakhapatnam",
         "17.6868,83.2185",
         "51091",
         "17.6868",
         "83.2185"
        ]
       ],
       "shape": {
        "columns": 5,
        "rows": 10
       }
      },
      "text/html": [
       "<div>\n",
       "<style scoped>\n",
       "    .dataframe tbody tr th:only-of-type {\n",
       "        vertical-align: middle;\n",
       "    }\n",
       "\n",
       "    .dataframe tbody tr th {\n",
       "        vertical-align: top;\n",
       "    }\n",
       "\n",
       "    .dataframe thead th {\n",
       "        text-align: right;\n",
       "    }\n",
       "</style>\n",
       "<table border=\"1\" class=\"dataframe\">\n",
       "  <thead>\n",
       "    <tr style=\"text-align: right;\">\n",
       "      <th></th>\n",
       "      <th>city</th>\n",
       "      <th>location</th>\n",
       "      <th>total_quantity_sold</th>\n",
       "      <th>lat</th>\n",
       "      <th>lng</th>\n",
       "    </tr>\n",
       "  </thead>\n",
       "  <tbody>\n",
       "    <tr>\n",
       "      <th>0</th>\n",
       "      <td>bengaluru</td>\n",
       "      <td>12.9716,77.5946</td>\n",
       "      <td>154312</td>\n",
       "      <td>12.971600</td>\n",
       "      <td>77.594600</td>\n",
       "    </tr>\n",
       "    <tr>\n",
       "      <th>1</th>\n",
       "      <td>chennai</td>\n",
       "      <td>13.0826802,80.2707184</td>\n",
       "      <td>122778</td>\n",
       "      <td>13.082680</td>\n",
       "      <td>80.270718</td>\n",
       "    </tr>\n",
       "    <tr>\n",
       "      <th>2</th>\n",
       "      <td>coimbatore</td>\n",
       "      <td>11.0168445,76.9558321</td>\n",
       "      <td>57050</td>\n",
       "      <td>11.016844</td>\n",
       "      <td>76.955832</td>\n",
       "    </tr>\n",
       "    <tr>\n",
       "      <th>3</th>\n",
       "      <td>hyderabad</td>\n",
       "      <td>17.3850,78.4867</td>\n",
       "      <td>103762</td>\n",
       "      <td>17.385000</td>\n",
       "      <td>78.486700</td>\n",
       "    </tr>\n",
       "    <tr>\n",
       "      <th>4</th>\n",
       "      <td>madurai</td>\n",
       "      <td>9.9252007,78.1197754</td>\n",
       "      <td>45627</td>\n",
       "      <td>9.925201</td>\n",
       "      <td>78.119775</td>\n",
       "    </tr>\n",
       "    <tr>\n",
       "      <th>5</th>\n",
       "      <td>mangalore</td>\n",
       "      <td>12.9141417,74.8559568</td>\n",
       "      <td>22458</td>\n",
       "      <td>12.914142</td>\n",
       "      <td>74.855957</td>\n",
       "    </tr>\n",
       "    <tr>\n",
       "      <th>6</th>\n",
       "      <td>mysuru</td>\n",
       "      <td>12.2958104,76.6393805</td>\n",
       "      <td>56039</td>\n",
       "      <td>12.295810</td>\n",
       "      <td>76.639381</td>\n",
       "    </tr>\n",
       "    <tr>\n",
       "      <th>7</th>\n",
       "      <td>trivandrum</td>\n",
       "      <td>8.5241391,76.9366376</td>\n",
       "      <td>15003</td>\n",
       "      <td>8.524139</td>\n",
       "      <td>76.936638</td>\n",
       "    </tr>\n",
       "    <tr>\n",
       "      <th>8</th>\n",
       "      <td>vijayawada</td>\n",
       "      <td>16.5061743,80.6480153</td>\n",
       "      <td>16403</td>\n",
       "      <td>16.506174</td>\n",
       "      <td>80.648015</td>\n",
       "    </tr>\n",
       "    <tr>\n",
       "      <th>9</th>\n",
       "      <td>visakhapatnam</td>\n",
       "      <td>17.6868,83.2185</td>\n",
       "      <td>51091</td>\n",
       "      <td>17.686800</td>\n",
       "      <td>83.218500</td>\n",
       "    </tr>\n",
       "  </tbody>\n",
       "</table>\n",
       "</div>"
      ],
      "text/plain": [
       "            city               location  total_quantity_sold        lat  \\\n",
       "0      bengaluru        12.9716,77.5946               154312  12.971600   \n",
       "1        chennai  13.0826802,80.2707184               122778  13.082680   \n",
       "2     coimbatore  11.0168445,76.9558321                57050  11.016844   \n",
       "3      hyderabad        17.3850,78.4867               103762  17.385000   \n",
       "4        madurai   9.9252007,78.1197754                45627   9.925201   \n",
       "5      mangalore  12.9141417,74.8559568                22458  12.914142   \n",
       "6         mysuru  12.2958104,76.6393805                56039  12.295810   \n",
       "7     trivandrum   8.5241391,76.9366376                15003   8.524139   \n",
       "8     vijayawada  16.5061743,80.6480153                16403  16.506174   \n",
       "9  visakhapatnam        17.6868,83.2185                51091  17.686800   \n",
       "\n",
       "         lng  \n",
       "0  77.594600  \n",
       "1  80.270718  \n",
       "2  76.955832  \n",
       "3  78.486700  \n",
       "4  78.119775  \n",
       "5  74.855957  \n",
       "6  76.639381  \n",
       "7  76.936638  \n",
       "8  80.648015  \n",
       "9  83.218500  "
      ]
     },
     "execution_count": 199,
     "metadata": {},
     "output_type": "execute_result"
    }
   ],
   "source": [
    "city_sales[['lat', 'lng']] = city_sales['location'].str.split(',', expand=True).astype(float)\n",
    "city_sales\n",
    "#split the location column into lat and lng"
   ]
  },
  {
   "cell_type": "code",
   "execution_count": 200,
   "id": "f4f7fc4a",
   "metadata": {},
   "outputs": [],
   "source": [
    "# --- Step 4: Plot the bubble map for India ---\n",
    "fig = px.scatter_geo(\n",
    "    city_sales,\n",
    "    lat='lat',\n",
    "    lon='lng',\n",
    "    scope='asia',  # zooms in on Asia; we'll focus on India\n",
    "    hover_name='city',\n",
    "    size='total_quantity_sold',\n",
    "    projection='natural earth',\n",
    "    title='Total Sales per City in India',\n",
    "    size_max=40  # adjust max bubble size\n",
    ")"
   ]
  },
  {
   "cell_type": "code",
   "execution_count": 201,
   "id": "b701f0e3",
   "metadata": {},
   "outputs": [
    {
     "data": {
      "application/vnd.plotly.v1+json": {
       "config": {
        "plotlyServerURL": "https://plot.ly"
       },
       "data": [
        {
         "geo": "geo",
         "hovertemplate": "<b>%{hovertext}</b><br><br>total_quantity_sold=%{marker.size}<br>lat=%{lat}<br>lng=%{lon}<extra></extra>",
         "hovertext": [
          "bengaluru",
          "chennai",
          "coimbatore",
          "hyderabad",
          "madurai",
          "mangalore",
          "mysuru",
          "trivandrum",
          "vijayawada",
          "visakhapatnam"
         ],
         "lat": {
          "bdata": "U5YhjnXxKUCxDSYPVSoqQCU8odefCCZAw/UoXI9iMUD9ePnns9kjQNfRgmEK1ClAJKLzdXSXKEAYHMr1WwwhQGGTkKOUgTBAj+TyH9KvMUA=",
          "dtype": "f8"
         },
         "legendgroup": "",
         "lon": {
          "bdata": "54wo7Q1mU0A7m0RzUxFUQON9ZlosPVNApb3BFyafU0Bhd3BmqodTQHyyB//HtlJAz0wwnOsoU0ANDdXe8TtTQLAzKhV5KVRARIts5/vNVEA=",
          "dtype": "f8"
         },
         "marker": {
          "color": "#636efa",
          "size": {
           "bdata": "yFoCAJrfAQDa3gAAUpUBADuyAAC6VwAA59oAAJs6AAATQAAAk8cAAA==",
           "dtype": "i4"
          },
          "sizemode": "area",
          "sizeref": 96.445,
          "symbol": "circle"
         },
         "mode": "markers",
         "name": "",
         "showlegend": false,
         "type": "scattergeo"
        }
       ],
       "layout": {
        "geo": {
         "center": {},
         "countrycolor": "Black",
         "domain": {
          "x": [
           0,
           1
          ],
          "y": [
           0,
           1
          ]
         },
         "lataxis": {
          "range": [
           6,
           38
          ]
         },
         "lonaxis": {
          "range": [
           68,
           98
          ]
         },
         "projection": {
          "type": "natural earth"
         },
         "scope": "asia",
         "showcountries": true,
         "showsubunits": true,
         "subunitcolor": "Gray"
        },
        "legend": {
         "itemsizing": "constant",
         "tracegroupgap": 0
        },
        "template": {
         "data": {
          "bar": [
           {
            "error_x": {
             "color": "#2a3f5f"
            },
            "error_y": {
             "color": "#2a3f5f"
            },
            "marker": {
             "line": {
              "color": "#E5ECF6",
              "width": 0.5
             },
             "pattern": {
              "fillmode": "overlay",
              "size": 10,
              "solidity": 0.2
             }
            },
            "type": "bar"
           }
          ],
          "barpolar": [
           {
            "marker": {
             "line": {
              "color": "#E5ECF6",
              "width": 0.5
             },
             "pattern": {
              "fillmode": "overlay",
              "size": 10,
              "solidity": 0.2
             }
            },
            "type": "barpolar"
           }
          ],
          "carpet": [
           {
            "aaxis": {
             "endlinecolor": "#2a3f5f",
             "gridcolor": "white",
             "linecolor": "white",
             "minorgridcolor": "white",
             "startlinecolor": "#2a3f5f"
            },
            "baxis": {
             "endlinecolor": "#2a3f5f",
             "gridcolor": "white",
             "linecolor": "white",
             "minorgridcolor": "white",
             "startlinecolor": "#2a3f5f"
            },
            "type": "carpet"
           }
          ],
          "choropleth": [
           {
            "colorbar": {
             "outlinewidth": 0,
             "ticks": ""
            },
            "type": "choropleth"
           }
          ],
          "contour": [
           {
            "colorbar": {
             "outlinewidth": 0,
             "ticks": ""
            },
            "colorscale": [
             [
              0,
              "#0d0887"
             ],
             [
              0.1111111111111111,
              "#46039f"
             ],
             [
              0.2222222222222222,
              "#7201a8"
             ],
             [
              0.3333333333333333,
              "#9c179e"
             ],
             [
              0.4444444444444444,
              "#bd3786"
             ],
             [
              0.5555555555555556,
              "#d8576b"
             ],
             [
              0.6666666666666666,
              "#ed7953"
             ],
             [
              0.7777777777777778,
              "#fb9f3a"
             ],
             [
              0.8888888888888888,
              "#fdca26"
             ],
             [
              1,
              "#f0f921"
             ]
            ],
            "type": "contour"
           }
          ],
          "contourcarpet": [
           {
            "colorbar": {
             "outlinewidth": 0,
             "ticks": ""
            },
            "type": "contourcarpet"
           }
          ],
          "heatmap": [
           {
            "colorbar": {
             "outlinewidth": 0,
             "ticks": ""
            },
            "colorscale": [
             [
              0,
              "#0d0887"
             ],
             [
              0.1111111111111111,
              "#46039f"
             ],
             [
              0.2222222222222222,
              "#7201a8"
             ],
             [
              0.3333333333333333,
              "#9c179e"
             ],
             [
              0.4444444444444444,
              "#bd3786"
             ],
             [
              0.5555555555555556,
              "#d8576b"
             ],
             [
              0.6666666666666666,
              "#ed7953"
             ],
             [
              0.7777777777777778,
              "#fb9f3a"
             ],
             [
              0.8888888888888888,
              "#fdca26"
             ],
             [
              1,
              "#f0f921"
             ]
            ],
            "type": "heatmap"
           }
          ],
          "histogram": [
           {
            "marker": {
             "pattern": {
              "fillmode": "overlay",
              "size": 10,
              "solidity": 0.2
             }
            },
            "type": "histogram"
           }
          ],
          "histogram2d": [
           {
            "colorbar": {
             "outlinewidth": 0,
             "ticks": ""
            },
            "colorscale": [
             [
              0,
              "#0d0887"
             ],
             [
              0.1111111111111111,
              "#46039f"
             ],
             [
              0.2222222222222222,
              "#7201a8"
             ],
             [
              0.3333333333333333,
              "#9c179e"
             ],
             [
              0.4444444444444444,
              "#bd3786"
             ],
             [
              0.5555555555555556,
              "#d8576b"
             ],
             [
              0.6666666666666666,
              "#ed7953"
             ],
             [
              0.7777777777777778,
              "#fb9f3a"
             ],
             [
              0.8888888888888888,
              "#fdca26"
             ],
             [
              1,
              "#f0f921"
             ]
            ],
            "type": "histogram2d"
           }
          ],
          "histogram2dcontour": [
           {
            "colorbar": {
             "outlinewidth": 0,
             "ticks": ""
            },
            "colorscale": [
             [
              0,
              "#0d0887"
             ],
             [
              0.1111111111111111,
              "#46039f"
             ],
             [
              0.2222222222222222,
              "#7201a8"
             ],
             [
              0.3333333333333333,
              "#9c179e"
             ],
             [
              0.4444444444444444,
              "#bd3786"
             ],
             [
              0.5555555555555556,
              "#d8576b"
             ],
             [
              0.6666666666666666,
              "#ed7953"
             ],
             [
              0.7777777777777778,
              "#fb9f3a"
             ],
             [
              0.8888888888888888,
              "#fdca26"
             ],
             [
              1,
              "#f0f921"
             ]
            ],
            "type": "histogram2dcontour"
           }
          ],
          "mesh3d": [
           {
            "colorbar": {
             "outlinewidth": 0,
             "ticks": ""
            },
            "type": "mesh3d"
           }
          ],
          "parcoords": [
           {
            "line": {
             "colorbar": {
              "outlinewidth": 0,
              "ticks": ""
             }
            },
            "type": "parcoords"
           }
          ],
          "pie": [
           {
            "automargin": true,
            "type": "pie"
           }
          ],
          "scatter": [
           {
            "fillpattern": {
             "fillmode": "overlay",
             "size": 10,
             "solidity": 0.2
            },
            "type": "scatter"
           }
          ],
          "scatter3d": [
           {
            "line": {
             "colorbar": {
              "outlinewidth": 0,
              "ticks": ""
             }
            },
            "marker": {
             "colorbar": {
              "outlinewidth": 0,
              "ticks": ""
             }
            },
            "type": "scatter3d"
           }
          ],
          "scattercarpet": [
           {
            "marker": {
             "colorbar": {
              "outlinewidth": 0,
              "ticks": ""
             }
            },
            "type": "scattercarpet"
           }
          ],
          "scattergeo": [
           {
            "marker": {
             "colorbar": {
              "outlinewidth": 0,
              "ticks": ""
             }
            },
            "type": "scattergeo"
           }
          ],
          "scattergl": [
           {
            "marker": {
             "colorbar": {
              "outlinewidth": 0,
              "ticks": ""
             }
            },
            "type": "scattergl"
           }
          ],
          "scattermap": [
           {
            "marker": {
             "colorbar": {
              "outlinewidth": 0,
              "ticks": ""
             }
            },
            "type": "scattermap"
           }
          ],
          "scattermapbox": [
           {
            "marker": {
             "colorbar": {
              "outlinewidth": 0,
              "ticks": ""
             }
            },
            "type": "scattermapbox"
           }
          ],
          "scatterpolar": [
           {
            "marker": {
             "colorbar": {
              "outlinewidth": 0,
              "ticks": ""
             }
            },
            "type": "scatterpolar"
           }
          ],
          "scatterpolargl": [
           {
            "marker": {
             "colorbar": {
              "outlinewidth": 0,
              "ticks": ""
             }
            },
            "type": "scatterpolargl"
           }
          ],
          "scatterternary": [
           {
            "marker": {
             "colorbar": {
              "outlinewidth": 0,
              "ticks": ""
             }
            },
            "type": "scatterternary"
           }
          ],
          "surface": [
           {
            "colorbar": {
             "outlinewidth": 0,
             "ticks": ""
            },
            "colorscale": [
             [
              0,
              "#0d0887"
             ],
             [
              0.1111111111111111,
              "#46039f"
             ],
             [
              0.2222222222222222,
              "#7201a8"
             ],
             [
              0.3333333333333333,
              "#9c179e"
             ],
             [
              0.4444444444444444,
              "#bd3786"
             ],
             [
              0.5555555555555556,
              "#d8576b"
             ],
             [
              0.6666666666666666,
              "#ed7953"
             ],
             [
              0.7777777777777778,
              "#fb9f3a"
             ],
             [
              0.8888888888888888,
              "#fdca26"
             ],
             [
              1,
              "#f0f921"
             ]
            ],
            "type": "surface"
           }
          ],
          "table": [
           {
            "cells": {
             "fill": {
              "color": "#EBF0F8"
             },
             "line": {
              "color": "white"
             }
            },
            "header": {
             "fill": {
              "color": "#C8D4E3"
             },
             "line": {
              "color": "white"
             }
            },
            "type": "table"
           }
          ]
         },
         "layout": {
          "annotationdefaults": {
           "arrowcolor": "#2a3f5f",
           "arrowhead": 0,
           "arrowwidth": 1
          },
          "autotypenumbers": "strict",
          "coloraxis": {
           "colorbar": {
            "outlinewidth": 0,
            "ticks": ""
           }
          },
          "colorscale": {
           "diverging": [
            [
             0,
             "#8e0152"
            ],
            [
             0.1,
             "#c51b7d"
            ],
            [
             0.2,
             "#de77ae"
            ],
            [
             0.3,
             "#f1b6da"
            ],
            [
             0.4,
             "#fde0ef"
            ],
            [
             0.5,
             "#f7f7f7"
            ],
            [
             0.6,
             "#e6f5d0"
            ],
            [
             0.7,
             "#b8e186"
            ],
            [
             0.8,
             "#7fbc41"
            ],
            [
             0.9,
             "#4d9221"
            ],
            [
             1,
             "#276419"
            ]
           ],
           "sequential": [
            [
             0,
             "#0d0887"
            ],
            [
             0.1111111111111111,
             "#46039f"
            ],
            [
             0.2222222222222222,
             "#7201a8"
            ],
            [
             0.3333333333333333,
             "#9c179e"
            ],
            [
             0.4444444444444444,
             "#bd3786"
            ],
            [
             0.5555555555555556,
             "#d8576b"
            ],
            [
             0.6666666666666666,
             "#ed7953"
            ],
            [
             0.7777777777777778,
             "#fb9f3a"
            ],
            [
             0.8888888888888888,
             "#fdca26"
            ],
            [
             1,
             "#f0f921"
            ]
           ],
           "sequentialminus": [
            [
             0,
             "#0d0887"
            ],
            [
             0.1111111111111111,
             "#46039f"
            ],
            [
             0.2222222222222222,
             "#7201a8"
            ],
            [
             0.3333333333333333,
             "#9c179e"
            ],
            [
             0.4444444444444444,
             "#bd3786"
            ],
            [
             0.5555555555555556,
             "#d8576b"
            ],
            [
             0.6666666666666666,
             "#ed7953"
            ],
            [
             0.7777777777777778,
             "#fb9f3a"
            ],
            [
             0.8888888888888888,
             "#fdca26"
            ],
            [
             1,
             "#f0f921"
            ]
           ]
          },
          "colorway": [
           "#636efa",
           "#EF553B",
           "#00cc96",
           "#ab63fa",
           "#FFA15A",
           "#19d3f3",
           "#FF6692",
           "#B6E880",
           "#FF97FF",
           "#FECB52"
          ],
          "font": {
           "color": "#2a3f5f"
          },
          "geo": {
           "bgcolor": "white",
           "lakecolor": "white",
           "landcolor": "#E5ECF6",
           "showlakes": true,
           "showland": true,
           "subunitcolor": "white"
          },
          "hoverlabel": {
           "align": "left"
          },
          "hovermode": "closest",
          "mapbox": {
           "style": "light"
          },
          "paper_bgcolor": "white",
          "plot_bgcolor": "#E5ECF6",
          "polar": {
           "angularaxis": {
            "gridcolor": "white",
            "linecolor": "white",
            "ticks": ""
           },
           "bgcolor": "#E5ECF6",
           "radialaxis": {
            "gridcolor": "white",
            "linecolor": "white",
            "ticks": ""
           }
          },
          "scene": {
           "xaxis": {
            "backgroundcolor": "#E5ECF6",
            "gridcolor": "white",
            "gridwidth": 2,
            "linecolor": "white",
            "showbackground": true,
            "ticks": "",
            "zerolinecolor": "white"
           },
           "yaxis": {
            "backgroundcolor": "#E5ECF6",
            "gridcolor": "white",
            "gridwidth": 2,
            "linecolor": "white",
            "showbackground": true,
            "ticks": "",
            "zerolinecolor": "white"
           },
           "zaxis": {
            "backgroundcolor": "#E5ECF6",
            "gridcolor": "white",
            "gridwidth": 2,
            "linecolor": "white",
            "showbackground": true,
            "ticks": "",
            "zerolinecolor": "white"
           }
          },
          "shapedefaults": {
           "line": {
            "color": "#2a3f5f"
           }
          },
          "ternary": {
           "aaxis": {
            "gridcolor": "white",
            "linecolor": "white",
            "ticks": ""
           },
           "baxis": {
            "gridcolor": "white",
            "linecolor": "white",
            "ticks": ""
           },
           "bgcolor": "#E5ECF6",
           "caxis": {
            "gridcolor": "white",
            "linecolor": "white",
            "ticks": ""
           }
          },
          "title": {
           "x": 0.05
          },
          "xaxis": {
           "automargin": true,
           "gridcolor": "white",
           "linecolor": "white",
           "ticks": "",
           "title": {
            "standoff": 15
           },
           "zerolinecolor": "white",
           "zerolinewidth": 2
          },
          "yaxis": {
           "automargin": true,
           "gridcolor": "white",
           "linecolor": "white",
           "ticks": "",
           "title": {
            "standoff": 15
           },
           "zerolinecolor": "white",
           "zerolinewidth": 2
          }
         }
        },
        "title": {
         "text": "Total Sales per City in India"
        }
       }
      }
     },
     "metadata": {},
     "output_type": "display_data"
    }
   ],
   "source": [
    "fig.update_geos(\n",
    "    showcountries=True, countrycolor=\"Black\",\n",
    "    showsubunits=True, subunitcolor=\"Gray\",\n",
    "    lataxis_range=[6, 38], lonaxis_range=[68, 98]  # India lat/lon bounds\n",
    ")\n",
    "\n",
    "fig.show()"
   ]
  }
 ],
 "metadata": {
  "kernelspec": {
   "display_name": "Python 3",
   "language": "python",
   "name": "python3"
  },
  "language_info": {
   "codemirror_mode": {
    "name": "ipython",
    "version": 3
   },
   "file_extension": ".py",
   "mimetype": "text/x-python",
   "name": "python",
   "nbconvert_exporter": "python",
   "pygments_lexer": "ipython3",
   "version": "3.13.2"
  }
 },
 "nbformat": 4,
 "nbformat_minor": 5
}
