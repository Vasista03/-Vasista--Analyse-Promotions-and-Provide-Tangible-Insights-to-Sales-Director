{
 "cells": [
  {
   "cell_type": "code",
   "execution_count": 24,
   "id": "1eeee24f",
   "metadata": {},
   "outputs": [],
   "source": [
    "import numpy as np\n",
    "import pandas as pd\n",
    "from datetime import datetime\n",
    "import plotly.express as px"
   ]
  },
  {
   "cell_type": "code",
   "execution_count": 25,
   "id": "cfcfc902",
   "metadata": {},
   "outputs": [],
   "source": [
    "campaign_data = pd.read_csv('./data/dim_campaigns.csv')\n",
    "product_data=pd.read_csv('./data/dim_products.csv')\n",
    "stores_data=pd.read_csv('./data/dim_stores.csv')\n",
    "\n",
    "event_data=pd.read_csv('./data/fact_events.csv')"
   ]
  },
  {
   "cell_type": "code",
   "execution_count": 26,
   "id": "3ceee919",
   "metadata": {},
   "outputs": [
    {
     "name": "stdout",
     "output_type": "stream",
     "text": [
      "<class 'pandas.core.frame.DataFrame'>\n",
      "RangeIndex: 2 entries, 0 to 1\n",
      "Data columns (total 4 columns):\n",
      " #   Column         Non-Null Count  Dtype \n",
      "---  ------         --------------  ----- \n",
      " 0   campaign_id    2 non-null      object\n",
      " 1   campaign_name  2 non-null      object\n",
      " 2   start_date     2 non-null      object\n",
      " 3   end_date       2 non-null      object\n",
      "dtypes: object(4)\n",
      "memory usage: 196.0+ bytes\n"
     ]
    },
    {
     "data": {
      "application/vnd.microsoft.datawrangler.viewer.v0+json": {
       "columns": [
        {
         "name": "index",
         "rawType": "int64",
         "type": "integer"
        },
        {
         "name": "campaign_id",
         "rawType": "object",
         "type": "string"
        },
        {
         "name": "campaign_name",
         "rawType": "object",
         "type": "string"
        },
        {
         "name": "start_date",
         "rawType": "object",
         "type": "string"
        },
        {
         "name": "end_date",
         "rawType": "object",
         "type": "string"
        }
       ],
       "ref": "a8a15773-105c-419a-91fe-450f348014f2",
       "rows": [
        [
         "0",
         "CAMP_DIW_01",
         "Diwali",
         "12-11-2023",
         "18-11-2023"
        ],
        [
         "1",
         "CAMP_SAN_01",
         "Sankranti",
         "10-01-2024",
         "16-01-2024"
        ]
       ],
       "shape": {
        "columns": 4,
        "rows": 2
       }
      },
      "text/html": [
       "<div>\n",
       "<style scoped>\n",
       "    .dataframe tbody tr th:only-of-type {\n",
       "        vertical-align: middle;\n",
       "    }\n",
       "\n",
       "    .dataframe tbody tr th {\n",
       "        vertical-align: top;\n",
       "    }\n",
       "\n",
       "    .dataframe thead th {\n",
       "        text-align: right;\n",
       "    }\n",
       "</style>\n",
       "<table border=\"1\" class=\"dataframe\">\n",
       "  <thead>\n",
       "    <tr style=\"text-align: right;\">\n",
       "      <th></th>\n",
       "      <th>campaign_id</th>\n",
       "      <th>campaign_name</th>\n",
       "      <th>start_date</th>\n",
       "      <th>end_date</th>\n",
       "    </tr>\n",
       "  </thead>\n",
       "  <tbody>\n",
       "    <tr>\n",
       "      <th>0</th>\n",
       "      <td>CAMP_DIW_01</td>\n",
       "      <td>Diwali</td>\n",
       "      <td>12-11-2023</td>\n",
       "      <td>18-11-2023</td>\n",
       "    </tr>\n",
       "    <tr>\n",
       "      <th>1</th>\n",
       "      <td>CAMP_SAN_01</td>\n",
       "      <td>Sankranti</td>\n",
       "      <td>10-01-2024</td>\n",
       "      <td>16-01-2024</td>\n",
       "    </tr>\n",
       "  </tbody>\n",
       "</table>\n",
       "</div>"
      ],
      "text/plain": [
       "   campaign_id campaign_name  start_date    end_date\n",
       "0  CAMP_DIW_01        Diwali  12-11-2023  18-11-2023\n",
       "1  CAMP_SAN_01     Sankranti  10-01-2024  16-01-2024"
      ]
     },
     "execution_count": 26,
     "metadata": {},
     "output_type": "execute_result"
    }
   ],
   "source": [
    "campaign_data.info()\n",
    "\n",
    "campaign_data.head()"
   ]
  },
  {
   "cell_type": "code",
   "execution_count": 27,
   "id": "17b27014",
   "metadata": {},
   "outputs": [
    {
     "name": "stdout",
     "output_type": "stream",
     "text": [
      "<class 'str'>\n",
      "<class 'pandas.core.series.Series'>\n"
     ]
    }
   ],
   "source": [
    "#checking the datatype of the date columns\n",
    "\n",
    "print(type(campaign_data.start_date[0]))\n",
    "print(type( campaign_data.end_date))"
   ]
  },
  {
   "cell_type": "code",
   "execution_count": 28,
   "id": "6e1e10e4",
   "metadata": {},
   "outputs": [
    {
     "name": "stdout",
     "output_type": "stream",
     "text": [
      "<class 'pandas._libs.tslibs.timestamps.Timestamp'>\n",
      "<class 'pandas._libs.tslibs.timestamps.Timestamp'>\n"
     ]
    }
   ],
   "source": [
    "#changing the datatype of the date columns to datetime\n",
    "campaign_data['start_date'] = campaign_data['start_date'].apply(pd.to_datetime, format = \"%d-%m-%Y\")\n",
    "campaign_data['end_date'] = campaign_data['end_date'].apply(pd.to_datetime, format = \"%d-%m-%Y\")\n",
    "print(type(campaign_data.start_date[0]))\n",
    "print(type( campaign_data.end_date[1]))"
   ]
  },
  {
   "cell_type": "code",
   "execution_count": 29,
   "id": "77ddf845",
   "metadata": {},
   "outputs": [
    {
     "name": "stdout",
     "output_type": "stream",
     "text": [
      "<class 'pandas.core.frame.DataFrame'>\n",
      "RangeIndex: 2 entries, 0 to 1\n",
      "Data columns (total 4 columns):\n",
      " #   Column         Non-Null Count  Dtype         \n",
      "---  ------         --------------  -----         \n",
      " 0   campaign_id    2 non-null      object        \n",
      " 1   campaign_name  2 non-null      object        \n",
      " 2   start_date     2 non-null      datetime64[ns]\n",
      " 3   end_date       2 non-null      datetime64[ns]\n",
      "dtypes: datetime64[ns](2), object(2)\n",
      "memory usage: 196.0+ bytes\n"
     ]
    },
    {
     "data": {
      "application/vnd.microsoft.datawrangler.viewer.v0+json": {
       "columns": [
        {
         "name": "index",
         "rawType": "int64",
         "type": "integer"
        },
        {
         "name": "campaign_id",
         "rawType": "object",
         "type": "string"
        },
        {
         "name": "campaign_name",
         "rawType": "object",
         "type": "string"
        },
        {
         "name": "start_date",
         "rawType": "datetime64[ns]",
         "type": "datetime"
        },
        {
         "name": "end_date",
         "rawType": "datetime64[ns]",
         "type": "datetime"
        }
       ],
       "ref": "55357b26-3aa3-4e1d-876a-f85c73162ae7",
       "rows": [
        [
         "0",
         "CAMP_DIW_01",
         "Diwali",
         "2023-11-12 00:00:00",
         "2023-11-18 00:00:00"
        ],
        [
         "1",
         "CAMP_SAN_01",
         "Sankranti",
         "2024-01-10 00:00:00",
         "2024-01-16 00:00:00"
        ]
       ],
       "shape": {
        "columns": 4,
        "rows": 2
       }
      },
      "text/html": [
       "<div>\n",
       "<style scoped>\n",
       "    .dataframe tbody tr th:only-of-type {\n",
       "        vertical-align: middle;\n",
       "    }\n",
       "\n",
       "    .dataframe tbody tr th {\n",
       "        vertical-align: top;\n",
       "    }\n",
       "\n",
       "    .dataframe thead th {\n",
       "        text-align: right;\n",
       "    }\n",
       "</style>\n",
       "<table border=\"1\" class=\"dataframe\">\n",
       "  <thead>\n",
       "    <tr style=\"text-align: right;\">\n",
       "      <th></th>\n",
       "      <th>campaign_id</th>\n",
       "      <th>campaign_name</th>\n",
       "      <th>start_date</th>\n",
       "      <th>end_date</th>\n",
       "    </tr>\n",
       "  </thead>\n",
       "  <tbody>\n",
       "    <tr>\n",
       "      <th>0</th>\n",
       "      <td>CAMP_DIW_01</td>\n",
       "      <td>Diwali</td>\n",
       "      <td>2023-11-12</td>\n",
       "      <td>2023-11-18</td>\n",
       "    </tr>\n",
       "    <tr>\n",
       "      <th>1</th>\n",
       "      <td>CAMP_SAN_01</td>\n",
       "      <td>Sankranti</td>\n",
       "      <td>2024-01-10</td>\n",
       "      <td>2024-01-16</td>\n",
       "    </tr>\n",
       "  </tbody>\n",
       "</table>\n",
       "</div>"
      ],
      "text/plain": [
       "   campaign_id campaign_name start_date   end_date\n",
       "0  CAMP_DIW_01        Diwali 2023-11-12 2023-11-18\n",
       "1  CAMP_SAN_01     Sankranti 2024-01-10 2024-01-16"
      ]
     },
     "execution_count": 29,
     "metadata": {},
     "output_type": "execute_result"
    }
   ],
   "source": [
    "campaign_data.info()\n",
    "campaign_data.head()"
   ]
  },
  {
   "cell_type": "code",
   "execution_count": 30,
   "id": "e622deeb",
   "metadata": {},
   "outputs": [
    {
     "name": "stdout",
     "output_type": "stream",
     "text": [
      "<class 'pandas.core.frame.DataFrame'>\n",
      "RangeIndex: 15 entries, 0 to 14\n",
      "Data columns (total 3 columns):\n",
      " #   Column        Non-Null Count  Dtype \n",
      "---  ------        --------------  ----- \n",
      " 0   product_code  15 non-null     object\n",
      " 1   product_name  15 non-null     object\n",
      " 2   category      15 non-null     object\n",
      "dtypes: object(3)\n",
      "memory usage: 492.0+ bytes\n"
     ]
    },
    {
     "data": {
      "application/vnd.microsoft.datawrangler.viewer.v0+json": {
       "columns": [
        {
         "name": "index",
         "rawType": "int64",
         "type": "integer"
        },
        {
         "name": "product_code",
         "rawType": "object",
         "type": "string"
        },
        {
         "name": "product_name",
         "rawType": "object",
         "type": "string"
        },
        {
         "name": "category",
         "rawType": "object",
         "type": "string"
        }
       ],
       "ref": "412c55c6-11a0-4642-a300-de3aed3cc263",
       "rows": [
        [
         "0",
         "P01",
         "Atliq_Masoor_Dal (1KG)",
         "Grocery & Staples"
        ],
        [
         "1",
         "P02",
         "Atliq_Sonamasuri_Rice (10KG)",
         "Grocery & Staples"
        ],
        [
         "2",
         "P03",
         "Atliq_Suflower_Oil (1L)",
         "Grocery & Staples"
        ],
        [
         "3",
         "P04",
         "Atliq_Farm_Chakki_Atta (1KG)",
         "Grocery & Staples"
        ],
        [
         "4",
         "P05",
         "Atliq_Scrub_Sponge_For_Dishwash",
         "Home Care"
        ]
       ],
       "shape": {
        "columns": 3,
        "rows": 5
       }
      },
      "text/html": [
       "<div>\n",
       "<style scoped>\n",
       "    .dataframe tbody tr th:only-of-type {\n",
       "        vertical-align: middle;\n",
       "    }\n",
       "\n",
       "    .dataframe tbody tr th {\n",
       "        vertical-align: top;\n",
       "    }\n",
       "\n",
       "    .dataframe thead th {\n",
       "        text-align: right;\n",
       "    }\n",
       "</style>\n",
       "<table border=\"1\" class=\"dataframe\">\n",
       "  <thead>\n",
       "    <tr style=\"text-align: right;\">\n",
       "      <th></th>\n",
       "      <th>product_code</th>\n",
       "      <th>product_name</th>\n",
       "      <th>category</th>\n",
       "    </tr>\n",
       "  </thead>\n",
       "  <tbody>\n",
       "    <tr>\n",
       "      <th>0</th>\n",
       "      <td>P01</td>\n",
       "      <td>Atliq_Masoor_Dal (1KG)</td>\n",
       "      <td>Grocery &amp; Staples</td>\n",
       "    </tr>\n",
       "    <tr>\n",
       "      <th>1</th>\n",
       "      <td>P02</td>\n",
       "      <td>Atliq_Sonamasuri_Rice (10KG)</td>\n",
       "      <td>Grocery &amp; Staples</td>\n",
       "    </tr>\n",
       "    <tr>\n",
       "      <th>2</th>\n",
       "      <td>P03</td>\n",
       "      <td>Atliq_Suflower_Oil (1L)</td>\n",
       "      <td>Grocery &amp; Staples</td>\n",
       "    </tr>\n",
       "    <tr>\n",
       "      <th>3</th>\n",
       "      <td>P04</td>\n",
       "      <td>Atliq_Farm_Chakki_Atta (1KG)</td>\n",
       "      <td>Grocery &amp; Staples</td>\n",
       "    </tr>\n",
       "    <tr>\n",
       "      <th>4</th>\n",
       "      <td>P05</td>\n",
       "      <td>Atliq_Scrub_Sponge_For_Dishwash</td>\n",
       "      <td>Home Care</td>\n",
       "    </tr>\n",
       "  </tbody>\n",
       "</table>\n",
       "</div>"
      ],
      "text/plain": [
       "  product_code                     product_name           category\n",
       "0          P01           Atliq_Masoor_Dal (1KG)  Grocery & Staples\n",
       "1          P02     Atliq_Sonamasuri_Rice (10KG)  Grocery & Staples\n",
       "2          P03          Atliq_Suflower_Oil (1L)  Grocery & Staples\n",
       "3          P04     Atliq_Farm_Chakki_Atta (1KG)  Grocery & Staples\n",
       "4          P05  Atliq_Scrub_Sponge_For_Dishwash          Home Care"
      ]
     },
     "execution_count": 30,
     "metadata": {},
     "output_type": "execute_result"
    }
   ],
   "source": [
    "product_data.info()\n",
    "\n",
    "product_data.head()"
   ]
  },
  {
   "cell_type": "code",
   "execution_count": 31,
   "id": "64807e0a",
   "metadata": {},
   "outputs": [
    {
     "name": "stdout",
     "output_type": "stream",
     "text": [
      "<class 'pandas.core.frame.DataFrame'>\n",
      "RangeIndex: 50 entries, 0 to 49\n",
      "Data columns (total 2 columns):\n",
      " #   Column    Non-Null Count  Dtype \n",
      "---  ------    --------------  ----- \n",
      " 0   store_id  50 non-null     object\n",
      " 1   city      50 non-null     object\n",
      "dtypes: object(2)\n",
      "memory usage: 932.0+ bytes\n"
     ]
    },
    {
     "data": {
      "application/vnd.microsoft.datawrangler.viewer.v0+json": {
       "columns": [
        {
         "name": "index",
         "rawType": "int64",
         "type": "integer"
        },
        {
         "name": "store_id",
         "rawType": "object",
         "type": "string"
        },
        {
         "name": "city",
         "rawType": "object",
         "type": "string"
        }
       ],
       "ref": "d697a1cf-64d8-4f53-bbd9-305227ca9289",
       "rows": [
        [
         "0",
         "STTRV-0",
         "Trivandrum"
        ],
        [
         "1",
         "STMDU-3",
         "Madurai"
        ],
        [
         "2",
         "STHYD-6",
         "Hyderabad"
        ],
        [
         "3",
         "STVSK-1",
         "Visakhapatnam"
        ],
        [
         "4",
         "STCBE-3",
         "Coimbatore"
        ]
       ],
       "shape": {
        "columns": 2,
        "rows": 5
       }
      },
      "text/html": [
       "<div>\n",
       "<style scoped>\n",
       "    .dataframe tbody tr th:only-of-type {\n",
       "        vertical-align: middle;\n",
       "    }\n",
       "\n",
       "    .dataframe tbody tr th {\n",
       "        vertical-align: top;\n",
       "    }\n",
       "\n",
       "    .dataframe thead th {\n",
       "        text-align: right;\n",
       "    }\n",
       "</style>\n",
       "<table border=\"1\" class=\"dataframe\">\n",
       "  <thead>\n",
       "    <tr style=\"text-align: right;\">\n",
       "      <th></th>\n",
       "      <th>store_id</th>\n",
       "      <th>city</th>\n",
       "    </tr>\n",
       "  </thead>\n",
       "  <tbody>\n",
       "    <tr>\n",
       "      <th>0</th>\n",
       "      <td>STTRV-0</td>\n",
       "      <td>Trivandrum</td>\n",
       "    </tr>\n",
       "    <tr>\n",
       "      <th>1</th>\n",
       "      <td>STMDU-3</td>\n",
       "      <td>Madurai</td>\n",
       "    </tr>\n",
       "    <tr>\n",
       "      <th>2</th>\n",
       "      <td>STHYD-6</td>\n",
       "      <td>Hyderabad</td>\n",
       "    </tr>\n",
       "    <tr>\n",
       "      <th>3</th>\n",
       "      <td>STVSK-1</td>\n",
       "      <td>Visakhapatnam</td>\n",
       "    </tr>\n",
       "    <tr>\n",
       "      <th>4</th>\n",
       "      <td>STCBE-3</td>\n",
       "      <td>Coimbatore</td>\n",
       "    </tr>\n",
       "  </tbody>\n",
       "</table>\n",
       "</div>"
      ],
      "text/plain": [
       "  store_id           city\n",
       "0  STTRV-0     Trivandrum\n",
       "1  STMDU-3        Madurai\n",
       "2  STHYD-6      Hyderabad\n",
       "3  STVSK-1  Visakhapatnam\n",
       "4  STCBE-3     Coimbatore"
      ]
     },
     "execution_count": 31,
     "metadata": {},
     "output_type": "execute_result"
    }
   ],
   "source": [
    "stores_data.info()\n",
    "stores_data.head()"
   ]
  },
  {
   "cell_type": "code",
   "execution_count": 32,
   "id": "097f4e95",
   "metadata": {},
   "outputs": [
    {
     "name": "stdout",
     "output_type": "stream",
     "text": [
      "<class 'pandas.core.frame.DataFrame'>\n",
      "RangeIndex: 1500 entries, 0 to 1499\n",
      "Data columns (total 11 columns):\n",
      " #   Column                       Non-Null Count  Dtype  \n",
      "---  ------                       --------------  -----  \n",
      " 0   event_id                     1500 non-null   object \n",
      " 1   store_id                     1500 non-null   object \n",
      " 2   campaign_id                  1500 non-null   object \n",
      " 3   product_code                 1500 non-null   object \n",
      " 4   base_price                   1500 non-null   int64  \n",
      " 5   promo_type                   1500 non-null   object \n",
      " 6   quantity_sold(before_promo)  1500 non-null   int64  \n",
      " 7   quantity_sold(after_promo)   1500 non-null   int64  \n",
      " 8   Unnamed: 8                   0 non-null      float64\n",
      " 9   Unnamed: 9                   0 non-null      float64\n",
      " 10  Unnamed: 10                  0 non-null      float64\n",
      "dtypes: float64(3), int64(3), object(5)\n",
      "memory usage: 129.0+ KB\n"
     ]
    },
    {
     "data": {
      "application/vnd.microsoft.datawrangler.viewer.v0+json": {
       "columns": [
        {
         "name": "index",
         "rawType": "object",
         "type": "string"
        },
        {
         "name": "base_price",
         "rawType": "float64",
         "type": "float"
        },
        {
         "name": "quantity_sold(before_promo)",
         "rawType": "float64",
         "type": "float"
        },
        {
         "name": "quantity_sold(after_promo)",
         "rawType": "float64",
         "type": "float"
        },
        {
         "name": "Unnamed: 8",
         "rawType": "float64",
         "type": "float"
        },
        {
         "name": "Unnamed: 9",
         "rawType": "float64",
         "type": "float"
        },
        {
         "name": "Unnamed: 10",
         "rawType": "float64",
         "type": "float"
        }
       ],
       "ref": "52c9fa11-0bf4-42ee-ac79-77c063b96031",
       "rows": [
        [
         "count",
         "1500.0",
         "1500.0",
         "1500.0",
         "0.0",
         "0.0",
         "0.0"
        ],
        [
         "mean",
         "551.9666666666667",
         "139.36666666666667",
         "290.31533333333334",
         null,
         null,
         null
        ],
        [
         "std",
         "741.3949531389565",
         "131.59682888455382",
         "363.44441270384016",
         null,
         null,
         null
        ],
        [
         "min",
         "50.0",
         "10.0",
         "9.0",
         null,
         null,
         null
        ],
        [
         "25%",
         "110.0",
         "45.0",
         "74.0",
         null,
         null,
         null
        ],
        [
         "50%",
         "295.0",
         "78.0",
         "163.0",
         null,
         null,
         null
        ],
        [
         "75%",
         "860.0",
         "217.25",
         "337.0",
         null,
         null,
         null
        ],
        [
         "max",
         "3000.0",
         "642.0",
         "2067.0",
         null,
         null,
         null
        ]
       ],
       "shape": {
        "columns": 6,
        "rows": 8
       }
      },
      "text/html": [
       "<div>\n",
       "<style scoped>\n",
       "    .dataframe tbody tr th:only-of-type {\n",
       "        vertical-align: middle;\n",
       "    }\n",
       "\n",
       "    .dataframe tbody tr th {\n",
       "        vertical-align: top;\n",
       "    }\n",
       "\n",
       "    .dataframe thead th {\n",
       "        text-align: right;\n",
       "    }\n",
       "</style>\n",
       "<table border=\"1\" class=\"dataframe\">\n",
       "  <thead>\n",
       "    <tr style=\"text-align: right;\">\n",
       "      <th></th>\n",
       "      <th>base_price</th>\n",
       "      <th>quantity_sold(before_promo)</th>\n",
       "      <th>quantity_sold(after_promo)</th>\n",
       "      <th>Unnamed: 8</th>\n",
       "      <th>Unnamed: 9</th>\n",
       "      <th>Unnamed: 10</th>\n",
       "    </tr>\n",
       "  </thead>\n",
       "  <tbody>\n",
       "    <tr>\n",
       "      <th>count</th>\n",
       "      <td>1500.000000</td>\n",
       "      <td>1500.000000</td>\n",
       "      <td>1500.000000</td>\n",
       "      <td>0.0</td>\n",
       "      <td>0.0</td>\n",
       "      <td>0.0</td>\n",
       "    </tr>\n",
       "    <tr>\n",
       "      <th>mean</th>\n",
       "      <td>551.966667</td>\n",
       "      <td>139.366667</td>\n",
       "      <td>290.315333</td>\n",
       "      <td>NaN</td>\n",
       "      <td>NaN</td>\n",
       "      <td>NaN</td>\n",
       "    </tr>\n",
       "    <tr>\n",
       "      <th>std</th>\n",
       "      <td>741.394953</td>\n",
       "      <td>131.596829</td>\n",
       "      <td>363.444413</td>\n",
       "      <td>NaN</td>\n",
       "      <td>NaN</td>\n",
       "      <td>NaN</td>\n",
       "    </tr>\n",
       "    <tr>\n",
       "      <th>min</th>\n",
       "      <td>50.000000</td>\n",
       "      <td>10.000000</td>\n",
       "      <td>9.000000</td>\n",
       "      <td>NaN</td>\n",
       "      <td>NaN</td>\n",
       "      <td>NaN</td>\n",
       "    </tr>\n",
       "    <tr>\n",
       "      <th>25%</th>\n",
       "      <td>110.000000</td>\n",
       "      <td>45.000000</td>\n",
       "      <td>74.000000</td>\n",
       "      <td>NaN</td>\n",
       "      <td>NaN</td>\n",
       "      <td>NaN</td>\n",
       "    </tr>\n",
       "    <tr>\n",
       "      <th>50%</th>\n",
       "      <td>295.000000</td>\n",
       "      <td>78.000000</td>\n",
       "      <td>163.000000</td>\n",
       "      <td>NaN</td>\n",
       "      <td>NaN</td>\n",
       "      <td>NaN</td>\n",
       "    </tr>\n",
       "    <tr>\n",
       "      <th>75%</th>\n",
       "      <td>860.000000</td>\n",
       "      <td>217.250000</td>\n",
       "      <td>337.000000</td>\n",
       "      <td>NaN</td>\n",
       "      <td>NaN</td>\n",
       "      <td>NaN</td>\n",
       "    </tr>\n",
       "    <tr>\n",
       "      <th>max</th>\n",
       "      <td>3000.000000</td>\n",
       "      <td>642.000000</td>\n",
       "      <td>2067.000000</td>\n",
       "      <td>NaN</td>\n",
       "      <td>NaN</td>\n",
       "      <td>NaN</td>\n",
       "    </tr>\n",
       "  </tbody>\n",
       "</table>\n",
       "</div>"
      ],
      "text/plain": [
       "        base_price  quantity_sold(before_promo)  quantity_sold(after_promo)  \\\n",
       "count  1500.000000                  1500.000000                 1500.000000   \n",
       "mean    551.966667                   139.366667                  290.315333   \n",
       "std     741.394953                   131.596829                  363.444413   \n",
       "min      50.000000                    10.000000                    9.000000   \n",
       "25%     110.000000                    45.000000                   74.000000   \n",
       "50%     295.000000                    78.000000                  163.000000   \n",
       "75%     860.000000                   217.250000                  337.000000   \n",
       "max    3000.000000                   642.000000                 2067.000000   \n",
       "\n",
       "       Unnamed: 8  Unnamed: 9  Unnamed: 10  \n",
       "count         0.0         0.0          0.0  \n",
       "mean          NaN         NaN          NaN  \n",
       "std           NaN         NaN          NaN  \n",
       "min           NaN         NaN          NaN  \n",
       "25%           NaN         NaN          NaN  \n",
       "50%           NaN         NaN          NaN  \n",
       "75%           NaN         NaN          NaN  \n",
       "max           NaN         NaN          NaN  "
      ]
     },
     "execution_count": 32,
     "metadata": {},
     "output_type": "execute_result"
    }
   ],
   "source": [
    "event_data.info()\n",
    "event_data.head()\n",
    "event_data.describe()"
   ]
  },
  {
   "cell_type": "markdown",
   "id": "d3c2adc3",
   "metadata": {},
   "source": [
    "We can see that on average the quantity after being sold are more by around 150 units after promotions, in paticular the maximum units sold are a lot higher."
   ]
  },
  {
   "cell_type": "code",
   "execution_count": 33,
   "id": "11fba17f",
   "metadata": {},
   "outputs": [],
   "source": [
    "import plotly.graph_objects as go\n"
   ]
  },
  {
   "cell_type": "code",
   "execution_count": 34,
   "id": "531f2d34",
   "metadata": {},
   "outputs": [
    {
     "data": {
      "application/vnd.plotly.v1+json": {
       "config": {
        "plotlyServerURL": "https://plot.ly"
       },
       "data": [
        {
         "line": {
          "color": "blue",
          "shape": "spline",
          "width": 3
         },
         "marker": {
          "size": 7,
          "symbol": "circle"
         },
         "mode": "lines+markers",
         "name": "Before Promo",
         "type": "scatter",
         "x": {
          "bdata": "MgA3AD4AQQBaAG4AnACsAL4AyAAiASwBXgFyAZ8BXAP8A6YEuAs=",
          "dtype": "i2"
         },
         "y": {
          "bdata": "mpmZmZkZPECPwvUoXM9MQOxRuB6FS1NAAAAAAADgWECPwvUoXI9KQNejcD0Kd1BAcT0K16PQckBmZmZmZkZwQClcj8L1SEpACtejcD1SdEAAAAAAAGhxQPYoXI/C9UZAzczMzMycVEDNzMzMzAR3QClcj8L1CEpAKVyPwvVMd0DsUbgehStQQKRwPQrXA0VASOF6FK7fa0A=",
          "dtype": "f8"
         }
        },
        {
         "line": {
          "color": "red",
          "shape": "spline",
          "width": 3
         },
         "marker": {
          "size": 7,
          "symbol": "diamond"
         },
         "mode": "lines+markers",
         "name": "After Promo",
         "type": "scatter",
         "x": {
          "bdata": "MgA3AD4AQQBaAG4AnACsAL4AyAAiASwBXgFyAZ8BXAP8A6YEuAs=",
          "dtype": "i2"
         },
         "y": {
          "bdata": "4XoUrkfhNkDNzMzMzOxIQDMzMzMzs1lAUrgehethYEBcj8L1KNxFQLgehetRmFVA9ihcj8KdcEDD9Shcj1Z3QK5H4XoUjlFAzczMzMwek0BmZmZmZoZuQD0K16NwZWRAFK5H4Xq0ckBmZmZmZpaVQFyPwvUoXEZAzczMzMyigEAzMzMzM5ttQMP1KFyP0mJAZmZmZma+g0A=",
          "dtype": "f8"
         }
        }
       ],
       "layout": {
        "font": {
         "size": 14
        },
        "height": 500,
        "hovermode": "x unified",
        "legend": {
         "title": {
          "text": "Legend"
         }
        },
        "template": {
         "data": {
          "bar": [
           {
            "error_x": {
             "color": "#2a3f5f"
            },
            "error_y": {
             "color": "#2a3f5f"
            },
            "marker": {
             "line": {
              "color": "white",
              "width": 0.5
             },
             "pattern": {
              "fillmode": "overlay",
              "size": 10,
              "solidity": 0.2
             }
            },
            "type": "bar"
           }
          ],
          "barpolar": [
           {
            "marker": {
             "line": {
              "color": "white",
              "width": 0.5
             },
             "pattern": {
              "fillmode": "overlay",
              "size": 10,
              "solidity": 0.2
             }
            },
            "type": "barpolar"
           }
          ],
          "carpet": [
           {
            "aaxis": {
             "endlinecolor": "#2a3f5f",
             "gridcolor": "#C8D4E3",
             "linecolor": "#C8D4E3",
             "minorgridcolor": "#C8D4E3",
             "startlinecolor": "#2a3f5f"
            },
            "baxis": {
             "endlinecolor": "#2a3f5f",
             "gridcolor": "#C8D4E3",
             "linecolor": "#C8D4E3",
             "minorgridcolor": "#C8D4E3",
             "startlinecolor": "#2a3f5f"
            },
            "type": "carpet"
           }
          ],
          "choropleth": [
           {
            "colorbar": {
             "outlinewidth": 0,
             "ticks": ""
            },
            "type": "choropleth"
           }
          ],
          "contour": [
           {
            "colorbar": {
             "outlinewidth": 0,
             "ticks": ""
            },
            "colorscale": [
             [
              0,
              "#0d0887"
             ],
             [
              0.1111111111111111,
              "#46039f"
             ],
             [
              0.2222222222222222,
              "#7201a8"
             ],
             [
              0.3333333333333333,
              "#9c179e"
             ],
             [
              0.4444444444444444,
              "#bd3786"
             ],
             [
              0.5555555555555556,
              "#d8576b"
             ],
             [
              0.6666666666666666,
              "#ed7953"
             ],
             [
              0.7777777777777778,
              "#fb9f3a"
             ],
             [
              0.8888888888888888,
              "#fdca26"
             ],
             [
              1,
              "#f0f921"
             ]
            ],
            "type": "contour"
           }
          ],
          "contourcarpet": [
           {
            "colorbar": {
             "outlinewidth": 0,
             "ticks": ""
            },
            "type": "contourcarpet"
           }
          ],
          "heatmap": [
           {
            "colorbar": {
             "outlinewidth": 0,
             "ticks": ""
            },
            "colorscale": [
             [
              0,
              "#0d0887"
             ],
             [
              0.1111111111111111,
              "#46039f"
             ],
             [
              0.2222222222222222,
              "#7201a8"
             ],
             [
              0.3333333333333333,
              "#9c179e"
             ],
             [
              0.4444444444444444,
              "#bd3786"
             ],
             [
              0.5555555555555556,
              "#d8576b"
             ],
             [
              0.6666666666666666,
              "#ed7953"
             ],
             [
              0.7777777777777778,
              "#fb9f3a"
             ],
             [
              0.8888888888888888,
              "#fdca26"
             ],
             [
              1,
              "#f0f921"
             ]
            ],
            "type": "heatmap"
           }
          ],
          "histogram": [
           {
            "marker": {
             "pattern": {
              "fillmode": "overlay",
              "size": 10,
              "solidity": 0.2
             }
            },
            "type": "histogram"
           }
          ],
          "histogram2d": [
           {
            "colorbar": {
             "outlinewidth": 0,
             "ticks": ""
            },
            "colorscale": [
             [
              0,
              "#0d0887"
             ],
             [
              0.1111111111111111,
              "#46039f"
             ],
             [
              0.2222222222222222,
              "#7201a8"
             ],
             [
              0.3333333333333333,
              "#9c179e"
             ],
             [
              0.4444444444444444,
              "#bd3786"
             ],
             [
              0.5555555555555556,
              "#d8576b"
             ],
             [
              0.6666666666666666,
              "#ed7953"
             ],
             [
              0.7777777777777778,
              "#fb9f3a"
             ],
             [
              0.8888888888888888,
              "#fdca26"
             ],
             [
              1,
              "#f0f921"
             ]
            ],
            "type": "histogram2d"
           }
          ],
          "histogram2dcontour": [
           {
            "colorbar": {
             "outlinewidth": 0,
             "ticks": ""
            },
            "colorscale": [
             [
              0,
              "#0d0887"
             ],
             [
              0.1111111111111111,
              "#46039f"
             ],
             [
              0.2222222222222222,
              "#7201a8"
             ],
             [
              0.3333333333333333,
              "#9c179e"
             ],
             [
              0.4444444444444444,
              "#bd3786"
             ],
             [
              0.5555555555555556,
              "#d8576b"
             ],
             [
              0.6666666666666666,
              "#ed7953"
             ],
             [
              0.7777777777777778,
              "#fb9f3a"
             ],
             [
              0.8888888888888888,
              "#fdca26"
             ],
             [
              1,
              "#f0f921"
             ]
            ],
            "type": "histogram2dcontour"
           }
          ],
          "mesh3d": [
           {
            "colorbar": {
             "outlinewidth": 0,
             "ticks": ""
            },
            "type": "mesh3d"
           }
          ],
          "parcoords": [
           {
            "line": {
             "colorbar": {
              "outlinewidth": 0,
              "ticks": ""
             }
            },
            "type": "parcoords"
           }
          ],
          "pie": [
           {
            "automargin": true,
            "type": "pie"
           }
          ],
          "scatter": [
           {
            "fillpattern": {
             "fillmode": "overlay",
             "size": 10,
             "solidity": 0.2
            },
            "type": "scatter"
           }
          ],
          "scatter3d": [
           {
            "line": {
             "colorbar": {
              "outlinewidth": 0,
              "ticks": ""
             }
            },
            "marker": {
             "colorbar": {
              "outlinewidth": 0,
              "ticks": ""
             }
            },
            "type": "scatter3d"
           }
          ],
          "scattercarpet": [
           {
            "marker": {
             "colorbar": {
              "outlinewidth": 0,
              "ticks": ""
             }
            },
            "type": "scattercarpet"
           }
          ],
          "scattergeo": [
           {
            "marker": {
             "colorbar": {
              "outlinewidth": 0,
              "ticks": ""
             }
            },
            "type": "scattergeo"
           }
          ],
          "scattergl": [
           {
            "marker": {
             "colorbar": {
              "outlinewidth": 0,
              "ticks": ""
             }
            },
            "type": "scattergl"
           }
          ],
          "scattermap": [
           {
            "marker": {
             "colorbar": {
              "outlinewidth": 0,
              "ticks": ""
             }
            },
            "type": "scattermap"
           }
          ],
          "scattermapbox": [
           {
            "marker": {
             "colorbar": {
              "outlinewidth": 0,
              "ticks": ""
             }
            },
            "type": "scattermapbox"
           }
          ],
          "scatterpolar": [
           {
            "marker": {
             "colorbar": {
              "outlinewidth": 0,
              "ticks": ""
             }
            },
            "type": "scatterpolar"
           }
          ],
          "scatterpolargl": [
           {
            "marker": {
             "colorbar": {
              "outlinewidth": 0,
              "ticks": ""
             }
            },
            "type": "scatterpolargl"
           }
          ],
          "scatterternary": [
           {
            "marker": {
             "colorbar": {
              "outlinewidth": 0,
              "ticks": ""
             }
            },
            "type": "scatterternary"
           }
          ],
          "surface": [
           {
            "colorbar": {
             "outlinewidth": 0,
             "ticks": ""
            },
            "colorscale": [
             [
              0,
              "#0d0887"
             ],
             [
              0.1111111111111111,
              "#46039f"
             ],
             [
              0.2222222222222222,
              "#7201a8"
             ],
             [
              0.3333333333333333,
              "#9c179e"
             ],
             [
              0.4444444444444444,
              "#bd3786"
             ],
             [
              0.5555555555555556,
              "#d8576b"
             ],
             [
              0.6666666666666666,
              "#ed7953"
             ],
             [
              0.7777777777777778,
              "#fb9f3a"
             ],
             [
              0.8888888888888888,
              "#fdca26"
             ],
             [
              1,
              "#f0f921"
             ]
            ],
            "type": "surface"
           }
          ],
          "table": [
           {
            "cells": {
             "fill": {
              "color": "#EBF0F8"
             },
             "line": {
              "color": "white"
             }
            },
            "header": {
             "fill": {
              "color": "#C8D4E3"
             },
             "line": {
              "color": "white"
             }
            },
            "type": "table"
           }
          ]
         },
         "layout": {
          "annotationdefaults": {
           "arrowcolor": "#2a3f5f",
           "arrowhead": 0,
           "arrowwidth": 1
          },
          "autotypenumbers": "strict",
          "coloraxis": {
           "colorbar": {
            "outlinewidth": 0,
            "ticks": ""
           }
          },
          "colorscale": {
           "diverging": [
            [
             0,
             "#8e0152"
            ],
            [
             0.1,
             "#c51b7d"
            ],
            [
             0.2,
             "#de77ae"
            ],
            [
             0.3,
             "#f1b6da"
            ],
            [
             0.4,
             "#fde0ef"
            ],
            [
             0.5,
             "#f7f7f7"
            ],
            [
             0.6,
             "#e6f5d0"
            ],
            [
             0.7,
             "#b8e186"
            ],
            [
             0.8,
             "#7fbc41"
            ],
            [
             0.9,
             "#4d9221"
            ],
            [
             1,
             "#276419"
            ]
           ],
           "sequential": [
            [
             0,
             "#0d0887"
            ],
            [
             0.1111111111111111,
             "#46039f"
            ],
            [
             0.2222222222222222,
             "#7201a8"
            ],
            [
             0.3333333333333333,
             "#9c179e"
            ],
            [
             0.4444444444444444,
             "#bd3786"
            ],
            [
             0.5555555555555556,
             "#d8576b"
            ],
            [
             0.6666666666666666,
             "#ed7953"
            ],
            [
             0.7777777777777778,
             "#fb9f3a"
            ],
            [
             0.8888888888888888,
             "#fdca26"
            ],
            [
             1,
             "#f0f921"
            ]
           ],
           "sequentialminus": [
            [
             0,
             "#0d0887"
            ],
            [
             0.1111111111111111,
             "#46039f"
            ],
            [
             0.2222222222222222,
             "#7201a8"
            ],
            [
             0.3333333333333333,
             "#9c179e"
            ],
            [
             0.4444444444444444,
             "#bd3786"
            ],
            [
             0.5555555555555556,
             "#d8576b"
            ],
            [
             0.6666666666666666,
             "#ed7953"
            ],
            [
             0.7777777777777778,
             "#fb9f3a"
            ],
            [
             0.8888888888888888,
             "#fdca26"
            ],
            [
             1,
             "#f0f921"
            ]
           ]
          },
          "colorway": [
           "#636efa",
           "#EF553B",
           "#00cc96",
           "#ab63fa",
           "#FFA15A",
           "#19d3f3",
           "#FF6692",
           "#B6E880",
           "#FF97FF",
           "#FECB52"
          ],
          "font": {
           "color": "#2a3f5f"
          },
          "geo": {
           "bgcolor": "white",
           "lakecolor": "white",
           "landcolor": "white",
           "showlakes": true,
           "showland": true,
           "subunitcolor": "#C8D4E3"
          },
          "hoverlabel": {
           "align": "left"
          },
          "hovermode": "closest",
          "mapbox": {
           "style": "light"
          },
          "paper_bgcolor": "white",
          "plot_bgcolor": "white",
          "polar": {
           "angularaxis": {
            "gridcolor": "#EBF0F8",
            "linecolor": "#EBF0F8",
            "ticks": ""
           },
           "bgcolor": "white",
           "radialaxis": {
            "gridcolor": "#EBF0F8",
            "linecolor": "#EBF0F8",
            "ticks": ""
           }
          },
          "scene": {
           "xaxis": {
            "backgroundcolor": "white",
            "gridcolor": "#DFE8F3",
            "gridwidth": 2,
            "linecolor": "#EBF0F8",
            "showbackground": true,
            "ticks": "",
            "zerolinecolor": "#EBF0F8"
           },
           "yaxis": {
            "backgroundcolor": "white",
            "gridcolor": "#DFE8F3",
            "gridwidth": 2,
            "linecolor": "#EBF0F8",
            "showbackground": true,
            "ticks": "",
            "zerolinecolor": "#EBF0F8"
           },
           "zaxis": {
            "backgroundcolor": "white",
            "gridcolor": "#DFE8F3",
            "gridwidth": 2,
            "linecolor": "#EBF0F8",
            "showbackground": true,
            "ticks": "",
            "zerolinecolor": "#EBF0F8"
           }
          },
          "shapedefaults": {
           "line": {
            "color": "#2a3f5f"
           }
          },
          "ternary": {
           "aaxis": {
            "gridcolor": "#DFE8F3",
            "linecolor": "#A2B1C6",
            "ticks": ""
           },
           "baxis": {
            "gridcolor": "#DFE8F3",
            "linecolor": "#A2B1C6",
            "ticks": ""
           },
           "bgcolor": "white",
           "caxis": {
            "gridcolor": "#DFE8F3",
            "linecolor": "#A2B1C6",
            "ticks": ""
           }
          },
          "title": {
           "x": 0.05
          },
          "xaxis": {
           "automargin": true,
           "gridcolor": "#EBF0F8",
           "linecolor": "#EBF0F8",
           "ticks": "",
           "title": {
            "standoff": 15
           },
           "zerolinecolor": "#EBF0F8",
           "zerolinewidth": 2
          },
          "yaxis": {
           "automargin": true,
           "gridcolor": "#EBF0F8",
           "linecolor": "#EBF0F8",
           "ticks": "",
           "title": {
            "standoff": 15
           },
           "zerolinecolor": "#EBF0F8",
           "zerolinewidth": 2
          }
         }
        },
        "title": {
         "text": "Base Price vs Average Quantity Sold (Before & After Promo)"
        },
        "width": 900,
        "xaxis": {
         "title": {
          "text": "Base Price"
         }
        },
        "yaxis": {
         "title": {
          "text": "Average Quantity Sold"
         }
        }
       }
      }
     },
     "metadata": {},
     "output_type": "display_data"
    }
   ],
   "source": [
    "agg_df = event_data.groupby('base_price', as_index=False).agg({\n",
    "    'quantity_sold(before_promo)': 'mean',\n",
    "    'quantity_sold(after_promo)': 'mean'\n",
    "})\n",
    "\n",
    "\n",
    "agg_df = agg_df.sort_values('base_price')\n",
    "\n",
    "fig = go.Figure()\n",
    "\n",
    "fig.add_trace(go.Scatter(\n",
    "    x=agg_df['base_price'],\n",
    "    y=agg_df['quantity_sold(before_promo)'],\n",
    "    mode='lines+markers',\n",
    "    name='Before Promo',\n",
    "    line=dict(color='blue', width=3, shape='spline'),\n",
    "    marker=dict(size=7, symbol='circle')\n",
    "))\n",
    "\n",
    "fig.add_trace(go.Scatter(\n",
    "    x=agg_df['base_price'],\n",
    "    y=agg_df['quantity_sold(after_promo)'],\n",
    "    mode='lines+markers',\n",
    "    name='After Promo',\n",
    "    line=dict(color='red', width=3, shape='spline'),\n",
    "    marker=dict(size=7, symbol='diamond')\n",
    "))\n",
    "\n",
    "# Layout polish\n",
    "fig.update_layout(\n",
    "    title='Base Price vs Average Quantity Sold (Before & After Promo)',\n",
    "    xaxis_title='Base Price',\n",
    "    yaxis_title='Average Quantity Sold',\n",
    "    template='plotly_white',\n",
    "    legend_title='Legend',\n",
    "    hovermode='x unified',\n",
    "    font=dict(size=14),\n",
    "    width=900,\n",
    "    height=500\n",
    ")\n",
    "\n",
    "fig.show()"
   ]
  },
  {
   "cell_type": "markdown",
   "id": "57926d1e",
   "metadata": {},
   "source": [
    "Low-priced items (~₹200)\n",
    "\n",
    "Experienced massive sales lift during promotions.\n",
    "\n",
    "Likely benefited from high price sensitivity and impulse purchases.\n",
    "\n",
    "Mid-priced items (~₹600–₹1000)\n",
    "\n",
    "Showed only a slight increase in quantity sold.\n",
    "\n",
    "Indicates moderate responsiveness to the same promotions.\n",
    "\n",
    "High-priced items (~₹1190 and above)\n",
    "\n",
    "Sales increased gradually with higher prices.\n",
    "\n",
    "Promotions work, but the lift is less steep compared to lower-priced items.\n",
    "\n",
    "Overall trend\n",
    "\n",
    "Promotions are most effective for low-priced, high-velocity items.\n",
    "\n",
    "Mid-range products may need stronger or different promotion types to drive noticeable lift.\n",
    "\n",
    "High-end products respond slowly, possibly requiring premium-targeted offers or longer campaign durations.\n",
    "\n",
    "Insight for sales strategy\n",
    "\n",
    "Focus on aggressive promotions for cheaper items to maximize volume.\n",
    "\n",
    "Consider tailored promotions for mid- and high-priced products to optimize incremental revenue."
   ]
  },
  {
   "cell_type": "code",
   "execution_count": 35,
   "id": "271ebcd5",
   "metadata": {},
   "outputs": [
    {
     "data": {
      "application/vnd.plotly.v1+json": {
       "config": {
        "plotlyServerURL": "https://plot.ly"
       },
       "data": [
        {
         "alignmentgroup": "True",
         "hovertemplate": "Promo Phase=quantity_sold(before_promo)<br>promo_type=%{x}<br>Total Quantity Sold=%{y}<extra></extra>",
         "legendgroup": "quantity_sold(before_promo)",
         "marker": {
          "color": "#636efa",
          "pattern": {
           "shape": ""
          }
         },
         "name": "quantity_sold(before_promo)",
         "offsetgroup": "quantity_sold(before_promo)",
         "orientation": "v",
         "showlegend": true,
         "textposition": "auto",
         "texttemplate": "%{y}",
         "type": "bar",
         "x": [
          "25% OFF",
          "33% OFF",
          "50% OFF",
          "500 Cashback",
          "BOGOF"
         ],
         "xaxis": "x",
         "y": {
          "bdata": "56sAAFn3AAD7UgAAG1cAAETjAAA=",
          "dtype": "i4"
         },
         "yaxis": "y"
        },
        {
         "alignmentgroup": "True",
         "hovertemplate": "Promo Phase=quantity_sold(after_promo)<br>promo_type=%{x}<br>Total Quantity Sold=%{y}<extra></extra>",
         "legendgroup": "quantity_sold(after_promo)",
         "marker": {
          "color": "#EF553B",
          "pattern": {
           "shape": ""
          }
         },
         "name": "quantity_sold(after_promo)",
         "offsetgroup": "quantity_sold(after_promo)",
         "orientation": "v",
         "showlegend": true,
         "textposition": "auto",
         "texttemplate": "%{y}",
         "type": "bar",
         "x": [
          "25% OFF",
          "33% OFF",
          "50% OFF",
          "500 Cashback",
          "BOGOF"
         ],
         "xaxis": "x",
         "y": {
          "bdata": "kpUAANBhAQAObgAAzPYAANVIAwA=",
          "dtype": "i4"
         },
         "yaxis": "y"
        }
       ],
       "layout": {
        "barmode": "group",
        "legend": {
         "title": {
          "text": "Promo Phase"
         },
         "tracegroupgap": 0
        },
        "template": {
         "data": {
          "bar": [
           {
            "error_x": {
             "color": "#f2f5fa"
            },
            "error_y": {
             "color": "#f2f5fa"
            },
            "marker": {
             "line": {
              "color": "rgb(17,17,17)",
              "width": 0.5
             },
             "pattern": {
              "fillmode": "overlay",
              "size": 10,
              "solidity": 0.2
             }
            },
            "type": "bar"
           }
          ],
          "barpolar": [
           {
            "marker": {
             "line": {
              "color": "rgb(17,17,17)",
              "width": 0.5
             },
             "pattern": {
              "fillmode": "overlay",
              "size": 10,
              "solidity": 0.2
             }
            },
            "type": "barpolar"
           }
          ],
          "carpet": [
           {
            "aaxis": {
             "endlinecolor": "#A2B1C6",
             "gridcolor": "#506784",
             "linecolor": "#506784",
             "minorgridcolor": "#506784",
             "startlinecolor": "#A2B1C6"
            },
            "baxis": {
             "endlinecolor": "#A2B1C6",
             "gridcolor": "#506784",
             "linecolor": "#506784",
             "minorgridcolor": "#506784",
             "startlinecolor": "#A2B1C6"
            },
            "type": "carpet"
           }
          ],
          "choropleth": [
           {
            "colorbar": {
             "outlinewidth": 0,
             "ticks": ""
            },
            "type": "choropleth"
           }
          ],
          "contour": [
           {
            "colorbar": {
             "outlinewidth": 0,
             "ticks": ""
            },
            "colorscale": [
             [
              0,
              "#0d0887"
             ],
             [
              0.1111111111111111,
              "#46039f"
             ],
             [
              0.2222222222222222,
              "#7201a8"
             ],
             [
              0.3333333333333333,
              "#9c179e"
             ],
             [
              0.4444444444444444,
              "#bd3786"
             ],
             [
              0.5555555555555556,
              "#d8576b"
             ],
             [
              0.6666666666666666,
              "#ed7953"
             ],
             [
              0.7777777777777778,
              "#fb9f3a"
             ],
             [
              0.8888888888888888,
              "#fdca26"
             ],
             [
              1,
              "#f0f921"
             ]
            ],
            "type": "contour"
           }
          ],
          "contourcarpet": [
           {
            "colorbar": {
             "outlinewidth": 0,
             "ticks": ""
            },
            "type": "contourcarpet"
           }
          ],
          "heatmap": [
           {
            "colorbar": {
             "outlinewidth": 0,
             "ticks": ""
            },
            "colorscale": [
             [
              0,
              "#0d0887"
             ],
             [
              0.1111111111111111,
              "#46039f"
             ],
             [
              0.2222222222222222,
              "#7201a8"
             ],
             [
              0.3333333333333333,
              "#9c179e"
             ],
             [
              0.4444444444444444,
              "#bd3786"
             ],
             [
              0.5555555555555556,
              "#d8576b"
             ],
             [
              0.6666666666666666,
              "#ed7953"
             ],
             [
              0.7777777777777778,
              "#fb9f3a"
             ],
             [
              0.8888888888888888,
              "#fdca26"
             ],
             [
              1,
              "#f0f921"
             ]
            ],
            "type": "heatmap"
           }
          ],
          "histogram": [
           {
            "marker": {
             "pattern": {
              "fillmode": "overlay",
              "size": 10,
              "solidity": 0.2
             }
            },
            "type": "histogram"
           }
          ],
          "histogram2d": [
           {
            "colorbar": {
             "outlinewidth": 0,
             "ticks": ""
            },
            "colorscale": [
             [
              0,
              "#0d0887"
             ],
             [
              0.1111111111111111,
              "#46039f"
             ],
             [
              0.2222222222222222,
              "#7201a8"
             ],
             [
              0.3333333333333333,
              "#9c179e"
             ],
             [
              0.4444444444444444,
              "#bd3786"
             ],
             [
              0.5555555555555556,
              "#d8576b"
             ],
             [
              0.6666666666666666,
              "#ed7953"
             ],
             [
              0.7777777777777778,
              "#fb9f3a"
             ],
             [
              0.8888888888888888,
              "#fdca26"
             ],
             [
              1,
              "#f0f921"
             ]
            ],
            "type": "histogram2d"
           }
          ],
          "histogram2dcontour": [
           {
            "colorbar": {
             "outlinewidth": 0,
             "ticks": ""
            },
            "colorscale": [
             [
              0,
              "#0d0887"
             ],
             [
              0.1111111111111111,
              "#46039f"
             ],
             [
              0.2222222222222222,
              "#7201a8"
             ],
             [
              0.3333333333333333,
              "#9c179e"
             ],
             [
              0.4444444444444444,
              "#bd3786"
             ],
             [
              0.5555555555555556,
              "#d8576b"
             ],
             [
              0.6666666666666666,
              "#ed7953"
             ],
             [
              0.7777777777777778,
              "#fb9f3a"
             ],
             [
              0.8888888888888888,
              "#fdca26"
             ],
             [
              1,
              "#f0f921"
             ]
            ],
            "type": "histogram2dcontour"
           }
          ],
          "mesh3d": [
           {
            "colorbar": {
             "outlinewidth": 0,
             "ticks": ""
            },
            "type": "mesh3d"
           }
          ],
          "parcoords": [
           {
            "line": {
             "colorbar": {
              "outlinewidth": 0,
              "ticks": ""
             }
            },
            "type": "parcoords"
           }
          ],
          "pie": [
           {
            "automargin": true,
            "type": "pie"
           }
          ],
          "scatter": [
           {
            "marker": {
             "line": {
              "color": "#283442"
             }
            },
            "type": "scatter"
           }
          ],
          "scatter3d": [
           {
            "line": {
             "colorbar": {
              "outlinewidth": 0,
              "ticks": ""
             }
            },
            "marker": {
             "colorbar": {
              "outlinewidth": 0,
              "ticks": ""
             }
            },
            "type": "scatter3d"
           }
          ],
          "scattercarpet": [
           {
            "marker": {
             "colorbar": {
              "outlinewidth": 0,
              "ticks": ""
             }
            },
            "type": "scattercarpet"
           }
          ],
          "scattergeo": [
           {
            "marker": {
             "colorbar": {
              "outlinewidth": 0,
              "ticks": ""
             }
            },
            "type": "scattergeo"
           }
          ],
          "scattergl": [
           {
            "marker": {
             "line": {
              "color": "#283442"
             }
            },
            "type": "scattergl"
           }
          ],
          "scattermap": [
           {
            "marker": {
             "colorbar": {
              "outlinewidth": 0,
              "ticks": ""
             }
            },
            "type": "scattermap"
           }
          ],
          "scattermapbox": [
           {
            "marker": {
             "colorbar": {
              "outlinewidth": 0,
              "ticks": ""
             }
            },
            "type": "scattermapbox"
           }
          ],
          "scatterpolar": [
           {
            "marker": {
             "colorbar": {
              "outlinewidth": 0,
              "ticks": ""
             }
            },
            "type": "scatterpolar"
           }
          ],
          "scatterpolargl": [
           {
            "marker": {
             "colorbar": {
              "outlinewidth": 0,
              "ticks": ""
             }
            },
            "type": "scatterpolargl"
           }
          ],
          "scatterternary": [
           {
            "marker": {
             "colorbar": {
              "outlinewidth": 0,
              "ticks": ""
             }
            },
            "type": "scatterternary"
           }
          ],
          "surface": [
           {
            "colorbar": {
             "outlinewidth": 0,
             "ticks": ""
            },
            "colorscale": [
             [
              0,
              "#0d0887"
             ],
             [
              0.1111111111111111,
              "#46039f"
             ],
             [
              0.2222222222222222,
              "#7201a8"
             ],
             [
              0.3333333333333333,
              "#9c179e"
             ],
             [
              0.4444444444444444,
              "#bd3786"
             ],
             [
              0.5555555555555556,
              "#d8576b"
             ],
             [
              0.6666666666666666,
              "#ed7953"
             ],
             [
              0.7777777777777778,
              "#fb9f3a"
             ],
             [
              0.8888888888888888,
              "#fdca26"
             ],
             [
              1,
              "#f0f921"
             ]
            ],
            "type": "surface"
           }
          ],
          "table": [
           {
            "cells": {
             "fill": {
              "color": "#506784"
             },
             "line": {
              "color": "rgb(17,17,17)"
             }
            },
            "header": {
             "fill": {
              "color": "#2a3f5f"
             },
             "line": {
              "color": "rgb(17,17,17)"
             }
            },
            "type": "table"
           }
          ]
         },
         "layout": {
          "annotationdefaults": {
           "arrowcolor": "#f2f5fa",
           "arrowhead": 0,
           "arrowwidth": 1
          },
          "autotypenumbers": "strict",
          "coloraxis": {
           "colorbar": {
            "outlinewidth": 0,
            "ticks": ""
           }
          },
          "colorscale": {
           "diverging": [
            [
             0,
             "#8e0152"
            ],
            [
             0.1,
             "#c51b7d"
            ],
            [
             0.2,
             "#de77ae"
            ],
            [
             0.3,
             "#f1b6da"
            ],
            [
             0.4,
             "#fde0ef"
            ],
            [
             0.5,
             "#f7f7f7"
            ],
            [
             0.6,
             "#e6f5d0"
            ],
            [
             0.7,
             "#b8e186"
            ],
            [
             0.8,
             "#7fbc41"
            ],
            [
             0.9,
             "#4d9221"
            ],
            [
             1,
             "#276419"
            ]
           ],
           "sequential": [
            [
             0,
             "#0d0887"
            ],
            [
             0.1111111111111111,
             "#46039f"
            ],
            [
             0.2222222222222222,
             "#7201a8"
            ],
            [
             0.3333333333333333,
             "#9c179e"
            ],
            [
             0.4444444444444444,
             "#bd3786"
            ],
            [
             0.5555555555555556,
             "#d8576b"
            ],
            [
             0.6666666666666666,
             "#ed7953"
            ],
            [
             0.7777777777777778,
             "#fb9f3a"
            ],
            [
             0.8888888888888888,
             "#fdca26"
            ],
            [
             1,
             "#f0f921"
            ]
           ],
           "sequentialminus": [
            [
             0,
             "#0d0887"
            ],
            [
             0.1111111111111111,
             "#46039f"
            ],
            [
             0.2222222222222222,
             "#7201a8"
            ],
            [
             0.3333333333333333,
             "#9c179e"
            ],
            [
             0.4444444444444444,
             "#bd3786"
            ],
            [
             0.5555555555555556,
             "#d8576b"
            ],
            [
             0.6666666666666666,
             "#ed7953"
            ],
            [
             0.7777777777777778,
             "#fb9f3a"
            ],
            [
             0.8888888888888888,
             "#fdca26"
            ],
            [
             1,
             "#f0f921"
            ]
           ]
          },
          "colorway": [
           "#636efa",
           "#EF553B",
           "#00cc96",
           "#ab63fa",
           "#FFA15A",
           "#19d3f3",
           "#FF6692",
           "#B6E880",
           "#FF97FF",
           "#FECB52"
          ],
          "font": {
           "color": "#f2f5fa"
          },
          "geo": {
           "bgcolor": "rgb(17,17,17)",
           "lakecolor": "rgb(17,17,17)",
           "landcolor": "rgb(17,17,17)",
           "showlakes": true,
           "showland": true,
           "subunitcolor": "#506784"
          },
          "hoverlabel": {
           "align": "left"
          },
          "hovermode": "closest",
          "mapbox": {
           "style": "dark"
          },
          "paper_bgcolor": "rgb(17,17,17)",
          "plot_bgcolor": "rgb(17,17,17)",
          "polar": {
           "angularaxis": {
            "gridcolor": "#506784",
            "linecolor": "#506784",
            "ticks": ""
           },
           "bgcolor": "rgb(17,17,17)",
           "radialaxis": {
            "gridcolor": "#506784",
            "linecolor": "#506784",
            "ticks": ""
           }
          },
          "scene": {
           "xaxis": {
            "backgroundcolor": "rgb(17,17,17)",
            "gridcolor": "#506784",
            "gridwidth": 2,
            "linecolor": "#506784",
            "showbackground": true,
            "ticks": "",
            "zerolinecolor": "#C8D4E3"
           },
           "yaxis": {
            "backgroundcolor": "rgb(17,17,17)",
            "gridcolor": "#506784",
            "gridwidth": 2,
            "linecolor": "#506784",
            "showbackground": true,
            "ticks": "",
            "zerolinecolor": "#C8D4E3"
           },
           "zaxis": {
            "backgroundcolor": "rgb(17,17,17)",
            "gridcolor": "#506784",
            "gridwidth": 2,
            "linecolor": "#506784",
            "showbackground": true,
            "ticks": "",
            "zerolinecolor": "#C8D4E3"
           }
          },
          "shapedefaults": {
           "line": {
            "color": "#f2f5fa"
           }
          },
          "sliderdefaults": {
           "bgcolor": "#C8D4E3",
           "bordercolor": "rgb(17,17,17)",
           "borderwidth": 1,
           "tickwidth": 0
          },
          "ternary": {
           "aaxis": {
            "gridcolor": "#506784",
            "linecolor": "#506784",
            "ticks": ""
           },
           "baxis": {
            "gridcolor": "#506784",
            "linecolor": "#506784",
            "ticks": ""
           },
           "bgcolor": "rgb(17,17,17)",
           "caxis": {
            "gridcolor": "#506784",
            "linecolor": "#506784",
            "ticks": ""
           }
          },
          "title": {
           "x": 0.05
          },
          "updatemenudefaults": {
           "bgcolor": "#506784",
           "borderwidth": 0
          },
          "xaxis": {
           "automargin": true,
           "gridcolor": "#283442",
           "linecolor": "#506784",
           "ticks": "",
           "title": {
            "standoff": 15
           },
           "zerolinecolor": "#283442",
           "zerolinewidth": 2
          },
          "yaxis": {
           "automargin": true,
           "gridcolor": "#283442",
           "linecolor": "#506784",
           "ticks": "",
           "title": {
            "standoff": 15
           },
           "zerolinecolor": "#283442",
           "zerolinewidth": 2
          }
         }
        },
        "title": {
         "text": "Comparison of Quantity Sold Before vs After Promotions by Promo Type",
         "x": 0.5
        },
        "xaxis": {
         "anchor": "y",
         "domain": [
          0,
          1
         ],
         "title": {
          "text": "Promotion Type"
         }
        },
        "yaxis": {
         "anchor": "x",
         "domain": [
          0,
          1
         ],
         "title": {
          "text": "Total Quantity Sold"
         }
        }
       }
      }
     },
     "metadata": {},
     "output_type": "display_data"
    }
   ],
   "source": [
    "# Aggregate total quantity sold before and after promo for each promo type\n",
    "promo_summary = event_data.groupby('promo_type', as_index=False).agg({\n",
    "    'quantity_sold(before_promo)': 'sum',\n",
    "    'quantity_sold(after_promo)': 'sum'\n",
    "})\n",
    "\n",
    "# Melt into long format for grouped bar chart\n",
    "promo_melted = promo_summary.melt(\n",
    "    id_vars='promo_type',\n",
    "    value_vars=['quantity_sold(before_promo)', 'quantity_sold(after_promo)'],\n",
    "    var_name='Promo Phase',\n",
    "    value_name='Total Quantity Sold'\n",
    ")\n",
    "\n",
    "# Create grouped bar chart\n",
    "fig = px.bar(\n",
    "    promo_melted,\n",
    "    x='promo_type',\n",
    "    y='Total Quantity Sold',\n",
    "    color='Promo Phase',\n",
    "    barmode='group',\n",
    "    title='Comparison of Quantity Sold Before vs After Promotions by Promo Type',\n",
    "    text_auto=True\n",
    ")\n",
    "\n",
    "fig.update_layout(\n",
    "    xaxis_title='Promotion Type',\n",
    "    yaxis_title='Total Quantity Sold',\n",
    "    title_x=0.5,\n",
    "    template='plotly_dark'\n",
    ")\n",
    "\n",
    "fig.show()\n"
   ]
  },
  {
   "cell_type": "markdown",
   "id": "063bbff6",
   "metadata": {},
   "source": [
    "BOGOF Promotion:\n",
    "\n",
    "Achieved the highest increase in sales.\n",
    "\n",
    "Sales more than tripled, with an increment of 157.073 units compared to before promotion.\n",
    "\n",
    "500 Cashback Promotion:\n",
    "\n",
    "Also showed a significant increase, roughly tripling sales for the item.\n",
    "\n",
    "33% Off and 50% Off Promotions:\n",
    "\n",
    "Sales increased moderately, but the lift was not as substantial as BOGOF or 500 Cashback.\n",
    "\n",
    "25% Off Promotion:\n",
    "\n",
    "Sales performance was disappointing.\n",
    "\n",
    "The promotion actually reduced the quantity sold compared to pre-promo sales.\n",
    "\n",
    "Overall Insight:\n",
    "\n",
    "BOGOF and high-value Cashback promotions are highly effective for driving volume.\n",
    "\n",
    "Simple percentage discounts (especially lower ones like 25%) may not always incentivize customers effectively."
   ]
  },
  {
   "cell_type": "markdown",
   "id": "0cdc3000",
   "metadata": {},
   "source": [
    "“Cashback” promos mainly target products priced above ₹1,000 .\n",
    "\n",
    "“25% off and 50% off” is applied to low-range grocery products.\n",
    "\n",
    "\"33% off\" targets mid-range products ( only two products).\n",
    "\n",
    "“BOGOF” focuses on low-value and mid-value fast-moving items.\n",
    "\n",
    "You might find under-promoted premium items or over-discounted low-margin SKUs."
   ]
  },
  {
   "cell_type": "code",
   "execution_count": 36,
   "id": "4db9491a",
   "metadata": {},
   "outputs": [
    {
     "data": {
      "application/vnd.microsoft.datawrangler.viewer.v0+json": {
       "columns": [
        {
         "name": "index",
         "rawType": "int64",
         "type": "integer"
        },
        {
         "name": "event_id",
         "rawType": "object",
         "type": "string"
        },
        {
         "name": "store_id",
         "rawType": "object",
         "type": "string"
        },
        {
         "name": "campaign_id",
         "rawType": "object",
         "type": "string"
        },
        {
         "name": "product_code",
         "rawType": "object",
         "type": "string"
        },
        {
         "name": "base_price",
         "rawType": "int64",
         "type": "integer"
        },
        {
         "name": "promo_type",
         "rawType": "object",
         "type": "string"
        },
        {
         "name": "quantity_sold(before_promo)",
         "rawType": "int64",
         "type": "integer"
        },
        {
         "name": "quantity_sold(after_promo)",
         "rawType": "int64",
         "type": "integer"
        },
        {
         "name": "Unnamed: 8",
         "rawType": "float64",
         "type": "float"
        },
        {
         "name": "Unnamed: 9",
         "rawType": "float64",
         "type": "float"
        },
        {
         "name": "Unnamed: 10",
         "rawType": "float64",
         "type": "float"
        },
        {
         "name": "city",
         "rawType": "object",
         "type": "string"
        }
       ],
       "ref": "574090a4-33ce-4bff-9898-4e42f7598592",
       "rows": [
        [
         "0",
         "7f650b",
         "STCBE-2",
         "CAMP_SAN_01",
         "P11",
         "190",
         "50% OFF",
         "34",
         "52",
         null,
         null,
         null,
         "Coimbatore"
        ],
        [
         "1",
         "a21f91",
         "STBLR-8",
         "CAMP_DIW_01",
         "P03",
         "156",
         "25% OFF",
         "393",
         "322",
         null,
         null,
         null,
         "Bengaluru"
        ],
        [
         "2",
         "78bc80",
         "STVJD-0",
         "CAMP_SAN_01",
         "P07",
         "300",
         "BOGOF",
         "22",
         "85",
         null,
         null,
         null,
         "Vijayawada"
        ],
        [
         "3",
         "a1503f",
         "STCBE-1",
         "CAMP_DIW_01",
         "P15",
         "3000",
         "500 Cashback",
         "329",
         "1000",
         null,
         null,
         null,
         "Coimbatore"
        ],
        [
         "4",
         "1091cf",
         "STBLR-6",
         "CAMP_DIW_01",
         "P05",
         "55",
         "25% OFF",
         "108",
         "93",
         null,
         null,
         null,
         "Bengaluru"
        ],
        [
         "5",
         "8.02E+96",
         "STBLR-4",
         "CAMP_DIW_01",
         "P11",
         "190",
         "50% OFF",
         "91",
         "116",
         null,
         null,
         null,
         "Bengaluru"
        ],
        [
         "6",
         "73d86f",
         "STVSK-2",
         "CAMP_SAN_01",
         "P10",
         "50",
         "25% OFF",
         "31",
         "26",
         null,
         null,
         null,
         "Visakhapatnam"
        ],
        [
         "7",
         "fe3560",
         "STHYD-4",
         "CAMP_DIW_01",
         "P13",
         "350",
         "BOGOF",
         "73",
         "245",
         null,
         null,
         null,
         "Hyderabad"
        ],
        [
         "8",
         "6b2afc",
         "STCBE-4",
         "CAMP_SAN_01",
         "P08",
         "1190",
         "BOGOF",
         "30",
         "79",
         null,
         null,
         null,
         "Coimbatore"
        ],
        [
         "9",
         "ce5851",
         "STMDU-2",
         "CAMP_SAN_01",
         "P03",
         "200",
         "BOGOF",
         "318",
         "1265",
         null,
         null,
         null,
         "Madurai"
        ],
        [
         "10",
         "dd6685",
         "STMYS-2",
         "CAMP_DIW_01",
         "P06",
         "415",
         "25% OFF",
         "78",
         "70",
         null,
         null,
         null,
         "Mysuru"
        ],
        [
         "11",
         "8f25a6",
         "STHYD-6",
         "CAMP_SAN_01",
         "P15",
         "3000",
         "500 Cashback",
         "126",
         "302",
         null,
         null,
         null,
         "Hyderabad"
        ],
        [
         "12",
         "5c3c33",
         "STCHE-6",
         "CAMP_DIW_01",
         "P12",
         "62",
         "50% OFF",
         "154",
         "207",
         null,
         null,
         null,
         "Chennai"
        ],
        [
         "13",
         "d290a1",
         "STBLR-3",
         "CAMP_DIW_01",
         "P04",
         "290",
         "25% OFF",
         "343",
         "270",
         null,
         null,
         null,
         "Bengaluru"
        ],
        [
         "14",
         "635862",
         "STVSK-4",
         "CAMP_SAN_01",
         "P02",
         "860",
         "33% OFF",
         "348",
         "480",
         null,
         null,
         null,
         "Visakhapatnam"
        ],
        [
         "15",
         "c0ecb5",
         "STCHE-2",
         "CAMP_SAN_01",
         "P07",
         "300",
         "BOGOF",
         "43",
         "167",
         null,
         null,
         null,
         "Chennai"
        ],
        [
         "16",
         "182caa",
         "STCHE-5",
         "CAMP_SAN_01",
         "P06",
         "415",
         "25% OFF",
         "39",
         "33",
         null,
         null,
         null,
         "Chennai"
        ],
        [
         "17",
         "c4db5b",
         "STTRV-0",
         "CAMP_DIW_01",
         "P01",
         "172",
         "33% OFF",
         "164",
         "236",
         null,
         null,
         null,
         "Trivandrum"
        ],
        [
         "18",
         "94f48c",
         "STVSK-1",
         "CAMP_SAN_01",
         "P06",
         "415",
         "25% OFF",
         "22",
         "16",
         null,
         null,
         null,
         "Visakhapatnam"
        ],
        [
         "19",
         "7ef92f",
         "STHYD-5",
         "CAMP_SAN_01",
         "P07",
         "300",
         "BOGOF",
         "55",
         "213",
         null,
         null,
         null,
         "Hyderabad"
        ],
        [
         "20",
         "0f422c",
         "STBLR-0",
         "CAMP_DIW_01",
         "P14",
         "1020",
         "BOGOF",
         "42",
         "168",
         null,
         null,
         null,
         "Bengaluru"
        ],
        [
         "21",
         "1e9a06",
         "STCHE-4",
         "CAMP_DIW_01",
         "P13",
         "350",
         "BOGOF",
         "84",
         "338",
         null,
         null,
         null,
         "Chennai"
        ],
        [
         "22",
         "02ebe9",
         "STBLR-8",
         "CAMP_DIW_01",
         "P11",
         "190",
         "50% OFF",
         "66",
         "88",
         null,
         null,
         null,
         "Bengaluru"
        ],
        [
         "23",
         "260ff2",
         "STMYS-2",
         "CAMP_SAN_01",
         "P01",
         "172",
         "33% OFF",
         "204",
         "291",
         null,
         null,
         null,
         "Mysuru"
        ],
        [
         "24",
         "7fc923",
         "STTRV-0",
         "CAMP_SAN_01",
         "P08",
         "1190",
         "BOGOF",
         "19",
         "74",
         null,
         null,
         null,
         "Trivandrum"
        ],
        [
         "25",
         "b08c12",
         "STMDU-3",
         "CAMP_DIW_01",
         "P03",
         "156",
         "25% OFF",
         "227",
         "202",
         null,
         null,
         null,
         "Madurai"
        ],
        [
         "26",
         "ca7298",
         "STCBE-2",
         "CAMP_SAN_01",
         "P15",
         "3000",
         "500 Cashback",
         "85",
         "228",
         null,
         null,
         null,
         "Coimbatore"
        ],
        [
         "27",
         "bf33ae",
         "STMYS-0",
         "CAMP_DIW_01",
         "P14",
         "1020",
         "BOGOF",
         "59",
         "182",
         null,
         null,
         null,
         "Mysuru"
        ],
        [
         "28",
         "35fb5b",
         "STCBE-2",
         "CAMP_DIW_01",
         "P13",
         "350",
         "BOGOF",
         "50",
         "190",
         null,
         null,
         null,
         "Coimbatore"
        ],
        [
         "29",
         "def6ff",
         "STMDU-0",
         "CAMP_DIW_01",
         "P11",
         "190",
         "50% OFF",
         "70",
         "89",
         null,
         null,
         null,
         "Madurai"
        ],
        [
         "30",
         "2f3e5d",
         "STCHE-2",
         "CAMP_SAN_01",
         "P01",
         "172",
         "33% OFF",
         "333",
         "402",
         null,
         null,
         null,
         "Chennai"
        ],
        [
         "31",
         "ca3893",
         "STMYS-1",
         "CAMP_SAN_01",
         "P09",
         "90",
         "25% OFF",
         "52",
         "39",
         null,
         null,
         null,
         "Mysuru"
        ],
        [
         "32",
         "922e6a",
         "STBLR-8",
         "CAMP_SAN_01",
         "P05",
         "55",
         "25% OFF",
         "34",
         "24",
         null,
         null,
         null,
         "Bengaluru"
        ],
        [
         "33",
         "4f0587",
         "STMDU-0",
         "CAMP_SAN_01",
         "P08",
         "1190",
         "BOGOF",
         "33",
         "136",
         null,
         null,
         null,
         "Madurai"
        ],
        [
         "34",
         "fa5b45",
         "STVJD-1",
         "CAMP_SAN_01",
         "P08",
         "1190",
         "BOGOF",
         "27",
         "109",
         null,
         null,
         null,
         "Vijayawada"
        ],
        [
         "35",
         "df45ee",
         "STHYD-3",
         "CAMP_DIW_01",
         "P01",
         "172",
         "33% OFF",
         "309",
         "534",
         null,
         null,
         null,
         "Hyderabad"
        ],
        [
         "36",
         "f3ac85",
         "STBLR-5",
         "CAMP_SAN_01",
         "P03",
         "200",
         "BOGOF",
         "348",
         "1350",
         null,
         null,
         null,
         "Bengaluru"
        ],
        [
         "37",
         "292ca5",
         "STHYD-2",
         "CAMP_DIW_01",
         "P04",
         "290",
         "25% OFF",
         "287",
         "220",
         null,
         null,
         null,
         "Hyderabad"
        ],
        [
         "38",
         "620715",
         "STMYS-3",
         "CAMP_SAN_01",
         "P03",
         "200",
         "BOGOF",
         "340",
         "1485",
         null,
         null,
         null,
         "Mysuru"
        ],
        [
         "39",
         "7e9777",
         "STVJD-1",
         "CAMP_DIW_01",
         "P08",
         "1190",
         "BOGOF",
         "24",
         "82",
         null,
         null,
         null,
         "Vijayawada"
        ],
        [
         "40",
         "761785",
         "STBLR-4",
         "CAMP_SAN_01",
         "P14",
         "1020",
         "BOGOF",
         "121",
         "474",
         null,
         null,
         null,
         "Bengaluru"
        ],
        [
         "41",
         "eb3bea",
         "STVSK-2",
         "CAMP_SAN_01",
         "P15",
         "3000",
         "500 Cashback",
         "109",
         "238",
         null,
         null,
         null,
         "Visakhapatnam"
        ],
        [
         "42",
         "276150",
         "STCBE-3",
         "CAMP_SAN_01",
         "P07",
         "300",
         "BOGOF",
         "33",
         "128",
         null,
         null,
         null,
         "Coimbatore"
        ],
        [
         "43",
         "3beb46",
         "STMYS-2",
         "CAMP_SAN_01",
         "P13",
         "350",
         "BOGOF",
         "81",
         "208",
         null,
         null,
         null,
         "Mysuru"
        ],
        [
         "44",
         "47af00",
         "STVJD-1",
         "CAMP_DIW_01",
         "P03",
         "156",
         "25% OFF",
         "183",
         "150",
         null,
         null,
         null,
         "Vijayawada"
        ],
        [
         "45",
         "627200",
         "STCBE-4",
         "CAMP_DIW_01",
         "P14",
         "1020",
         "BOGOF",
         "36",
         "111",
         null,
         null,
         null,
         "Coimbatore"
        ],
        [
         "46",
         "bc8315",
         "STHYD-1",
         "CAMP_DIW_01",
         "P12",
         "62",
         "50% OFF",
         "122",
         "135",
         null,
         null,
         null,
         "Hyderabad"
        ],
        [
         "47",
         "1f083a",
         "STVJD-0",
         "CAMP_SAN_01",
         "P06",
         "415",
         "25% OFF",
         "16",
         "14",
         null,
         null,
         null,
         "Vijayawada"
        ],
        [
         "48",
         "c1e0b6",
         "STCHE-6",
         "CAMP_SAN_01",
         "P01",
         "172",
         "33% OFF",
         "273",
         "379",
         null,
         null,
         null,
         "Chennai"
        ],
        [
         "49",
         "f60d93",
         "STCBE-0",
         "CAMP_DIW_01",
         "P05",
         "55",
         "25% OFF",
         "78",
         "75",
         null,
         null,
         null,
         "Coimbatore"
        ]
       ],
       "shape": {
        "columns": 12,
        "rows": 1500
       }
      },
      "text/html": [
       "<div>\n",
       "<style scoped>\n",
       "    .dataframe tbody tr th:only-of-type {\n",
       "        vertical-align: middle;\n",
       "    }\n",
       "\n",
       "    .dataframe tbody tr th {\n",
       "        vertical-align: top;\n",
       "    }\n",
       "\n",
       "    .dataframe thead th {\n",
       "        text-align: right;\n",
       "    }\n",
       "</style>\n",
       "<table border=\"1\" class=\"dataframe\">\n",
       "  <thead>\n",
       "    <tr style=\"text-align: right;\">\n",
       "      <th></th>\n",
       "      <th>event_id</th>\n",
       "      <th>store_id</th>\n",
       "      <th>campaign_id</th>\n",
       "      <th>product_code</th>\n",
       "      <th>base_price</th>\n",
       "      <th>promo_type</th>\n",
       "      <th>quantity_sold(before_promo)</th>\n",
       "      <th>quantity_sold(after_promo)</th>\n",
       "      <th>Unnamed: 8</th>\n",
       "      <th>Unnamed: 9</th>\n",
       "      <th>Unnamed: 10</th>\n",
       "      <th>city</th>\n",
       "    </tr>\n",
       "  </thead>\n",
       "  <tbody>\n",
       "    <tr>\n",
       "      <th>0</th>\n",
       "      <td>7f650b</td>\n",
       "      <td>STCBE-2</td>\n",
       "      <td>CAMP_SAN_01</td>\n",
       "      <td>P11</td>\n",
       "      <td>190</td>\n",
       "      <td>50% OFF</td>\n",
       "      <td>34</td>\n",
       "      <td>52</td>\n",
       "      <td>NaN</td>\n",
       "      <td>NaN</td>\n",
       "      <td>NaN</td>\n",
       "      <td>Coimbatore</td>\n",
       "    </tr>\n",
       "    <tr>\n",
       "      <th>1</th>\n",
       "      <td>a21f91</td>\n",
       "      <td>STBLR-8</td>\n",
       "      <td>CAMP_DIW_01</td>\n",
       "      <td>P03</td>\n",
       "      <td>156</td>\n",
       "      <td>25% OFF</td>\n",
       "      <td>393</td>\n",
       "      <td>322</td>\n",
       "      <td>NaN</td>\n",
       "      <td>NaN</td>\n",
       "      <td>NaN</td>\n",
       "      <td>Bengaluru</td>\n",
       "    </tr>\n",
       "    <tr>\n",
       "      <th>2</th>\n",
       "      <td>78bc80</td>\n",
       "      <td>STVJD-0</td>\n",
       "      <td>CAMP_SAN_01</td>\n",
       "      <td>P07</td>\n",
       "      <td>300</td>\n",
       "      <td>BOGOF</td>\n",
       "      <td>22</td>\n",
       "      <td>85</td>\n",
       "      <td>NaN</td>\n",
       "      <td>NaN</td>\n",
       "      <td>NaN</td>\n",
       "      <td>Vijayawada</td>\n",
       "    </tr>\n",
       "    <tr>\n",
       "      <th>3</th>\n",
       "      <td>a1503f</td>\n",
       "      <td>STCBE-1</td>\n",
       "      <td>CAMP_DIW_01</td>\n",
       "      <td>P15</td>\n",
       "      <td>3000</td>\n",
       "      <td>500 Cashback</td>\n",
       "      <td>329</td>\n",
       "      <td>1000</td>\n",
       "      <td>NaN</td>\n",
       "      <td>NaN</td>\n",
       "      <td>NaN</td>\n",
       "      <td>Coimbatore</td>\n",
       "    </tr>\n",
       "    <tr>\n",
       "      <th>4</th>\n",
       "      <td>1091cf</td>\n",
       "      <td>STBLR-6</td>\n",
       "      <td>CAMP_DIW_01</td>\n",
       "      <td>P05</td>\n",
       "      <td>55</td>\n",
       "      <td>25% OFF</td>\n",
       "      <td>108</td>\n",
       "      <td>93</td>\n",
       "      <td>NaN</td>\n",
       "      <td>NaN</td>\n",
       "      <td>NaN</td>\n",
       "      <td>Bengaluru</td>\n",
       "    </tr>\n",
       "    <tr>\n",
       "      <th>...</th>\n",
       "      <td>...</td>\n",
       "      <td>...</td>\n",
       "      <td>...</td>\n",
       "      <td>...</td>\n",
       "      <td>...</td>\n",
       "      <td>...</td>\n",
       "      <td>...</td>\n",
       "      <td>...</td>\n",
       "      <td>...</td>\n",
       "      <td>...</td>\n",
       "      <td>...</td>\n",
       "      <td>...</td>\n",
       "    </tr>\n",
       "    <tr>\n",
       "      <th>1495</th>\n",
       "      <td>1e8961</td>\n",
       "      <td>STBLR-3</td>\n",
       "      <td>CAMP_SAN_01</td>\n",
       "      <td>P12</td>\n",
       "      <td>62</td>\n",
       "      <td>50% OFF</td>\n",
       "      <td>61</td>\n",
       "      <td>84</td>\n",
       "      <td>NaN</td>\n",
       "      <td>NaN</td>\n",
       "      <td>NaN</td>\n",
       "      <td>Bengaluru</td>\n",
       "    </tr>\n",
       "    <tr>\n",
       "      <th>1496</th>\n",
       "      <td>f957f1</td>\n",
       "      <td>STMDU-1</td>\n",
       "      <td>CAMP_SAN_01</td>\n",
       "      <td>P10</td>\n",
       "      <td>50</td>\n",
       "      <td>25% OFF</td>\n",
       "      <td>22</td>\n",
       "      <td>18</td>\n",
       "      <td>NaN</td>\n",
       "      <td>NaN</td>\n",
       "      <td>NaN</td>\n",
       "      <td>Madurai</td>\n",
       "    </tr>\n",
       "    <tr>\n",
       "      <th>1497</th>\n",
       "      <td>a9ae21</td>\n",
       "      <td>STCBE-0</td>\n",
       "      <td>CAMP_DIW_01</td>\n",
       "      <td>P12</td>\n",
       "      <td>62</td>\n",
       "      <td>50% OFF</td>\n",
       "      <td>80</td>\n",
       "      <td>119</td>\n",
       "      <td>NaN</td>\n",
       "      <td>NaN</td>\n",
       "      <td>NaN</td>\n",
       "      <td>Coimbatore</td>\n",
       "    </tr>\n",
       "    <tr>\n",
       "      <th>1498</th>\n",
       "      <td>e5d28d</td>\n",
       "      <td>STVSK-0</td>\n",
       "      <td>CAMP_SAN_01</td>\n",
       "      <td>P13</td>\n",
       "      <td>350</td>\n",
       "      <td>BOGOF</td>\n",
       "      <td>73</td>\n",
       "      <td>282</td>\n",
       "      <td>NaN</td>\n",
       "      <td>NaN</td>\n",
       "      <td>NaN</td>\n",
       "      <td>Visakhapatnam</td>\n",
       "    </tr>\n",
       "    <tr>\n",
       "      <th>1499</th>\n",
       "      <td>4d22d1</td>\n",
       "      <td>STBLR-9</td>\n",
       "      <td>CAMP_SAN_01</td>\n",
       "      <td>P12</td>\n",
       "      <td>62</td>\n",
       "      <td>50% OFF</td>\n",
       "      <td>52</td>\n",
       "      <td>73</td>\n",
       "      <td>NaN</td>\n",
       "      <td>NaN</td>\n",
       "      <td>NaN</td>\n",
       "      <td>Bengaluru</td>\n",
       "    </tr>\n",
       "  </tbody>\n",
       "</table>\n",
       "<p>1500 rows × 12 columns</p>\n",
       "</div>"
      ],
      "text/plain": [
       "     event_id store_id  campaign_id product_code  base_price    promo_type  \\\n",
       "0      7f650b  STCBE-2  CAMP_SAN_01          P11         190       50% OFF   \n",
       "1      a21f91  STBLR-8  CAMP_DIW_01          P03         156       25% OFF   \n",
       "2      78bc80  STVJD-0  CAMP_SAN_01          P07         300         BOGOF   \n",
       "3      a1503f  STCBE-1  CAMP_DIW_01          P15        3000  500 Cashback   \n",
       "4      1091cf  STBLR-6  CAMP_DIW_01          P05          55       25% OFF   \n",
       "...       ...      ...          ...          ...         ...           ...   \n",
       "1495   1e8961  STBLR-3  CAMP_SAN_01          P12          62       50% OFF   \n",
       "1496   f957f1  STMDU-1  CAMP_SAN_01          P10          50       25% OFF   \n",
       "1497   a9ae21  STCBE-0  CAMP_DIW_01          P12          62       50% OFF   \n",
       "1498   e5d28d  STVSK-0  CAMP_SAN_01          P13         350         BOGOF   \n",
       "1499   4d22d1  STBLR-9  CAMP_SAN_01          P12          62       50% OFF   \n",
       "\n",
       "      quantity_sold(before_promo)  quantity_sold(after_promo)  Unnamed: 8  \\\n",
       "0                              34                          52         NaN   \n",
       "1                             393                         322         NaN   \n",
       "2                              22                          85         NaN   \n",
       "3                             329                        1000         NaN   \n",
       "4                             108                          93         NaN   \n",
       "...                           ...                         ...         ...   \n",
       "1495                           61                          84         NaN   \n",
       "1496                           22                          18         NaN   \n",
       "1497                           80                         119         NaN   \n",
       "1498                           73                         282         NaN   \n",
       "1499                           52                          73         NaN   \n",
       "\n",
       "      Unnamed: 9  Unnamed: 10           city  \n",
       "0            NaN          NaN     Coimbatore  \n",
       "1            NaN          NaN      Bengaluru  \n",
       "2            NaN          NaN     Vijayawada  \n",
       "3            NaN          NaN     Coimbatore  \n",
       "4            NaN          NaN      Bengaluru  \n",
       "...          ...          ...            ...  \n",
       "1495         NaN          NaN      Bengaluru  \n",
       "1496         NaN          NaN        Madurai  \n",
       "1497         NaN          NaN     Coimbatore  \n",
       "1498         NaN          NaN  Visakhapatnam  \n",
       "1499         NaN          NaN      Bengaluru  \n",
       "\n",
       "[1500 rows x 12 columns]"
      ]
     },
     "execution_count": 36,
     "metadata": {},
     "output_type": "execute_result"
    }
   ],
   "source": [
    "if 'city' in event_data.columns:\n",
    "    event_data = event_data.drop(columns=['city'])\n",
    "\n",
    "event_data = event_data.merge(\n",
    "    stores_data[['store_id', 'city']],\n",
    "    on='store_id',\n",
    "    how='left'\n",
    ")\n",
    "event_data\n"
   ]
  },
  {
   "cell_type": "code",
   "execution_count": 37,
   "id": "055296d4",
   "metadata": {},
   "outputs": [
    {
     "data": {
      "application/vnd.microsoft.datawrangler.viewer.v0+json": {
       "columns": [
        {
         "name": "index",
         "rawType": "int64",
         "type": "integer"
        },
        {
         "name": "event_id",
         "rawType": "object",
         "type": "string"
        },
        {
         "name": "store_id",
         "rawType": "object",
         "type": "string"
        },
        {
         "name": "campaign_id",
         "rawType": "object",
         "type": "string"
        },
        {
         "name": "product_code",
         "rawType": "object",
         "type": "string"
        },
        {
         "name": "base_price",
         "rawType": "int64",
         "type": "integer"
        },
        {
         "name": "promo_type",
         "rawType": "object",
         "type": "string"
        },
        {
         "name": "quantity_sold(before_promo)",
         "rawType": "int64",
         "type": "integer"
        },
        {
         "name": "quantity_sold(after_promo)",
         "rawType": "int64",
         "type": "integer"
        },
        {
         "name": "Unnamed: 8",
         "rawType": "float64",
         "type": "float"
        },
        {
         "name": "Unnamed: 9",
         "rawType": "float64",
         "type": "float"
        },
        {
         "name": "Unnamed: 10",
         "rawType": "float64",
         "type": "float"
        },
        {
         "name": "city",
         "rawType": "object",
         "type": "string"
        },
        {
         "name": "total_quantity_sold",
         "rawType": "int64",
         "type": "integer"
        }
       ],
       "ref": "21c8d2c8-b409-41db-af50-882d6cf298a4",
       "rows": [
        [
         "0",
         "7f650b",
         "STCBE-2",
         "CAMP_SAN_01",
         "P11",
         "190",
         "50% OFF",
         "34",
         "52",
         null,
         null,
         null,
         "Coimbatore",
         "86"
        ],
        [
         "1",
         "a21f91",
         "STBLR-8",
         "CAMP_DIW_01",
         "P03",
         "156",
         "25% OFF",
         "393",
         "322",
         null,
         null,
         null,
         "Bengaluru",
         "715"
        ],
        [
         "2",
         "78bc80",
         "STVJD-0",
         "CAMP_SAN_01",
         "P07",
         "300",
         "BOGOF",
         "22",
         "85",
         null,
         null,
         null,
         "Vijayawada",
         "107"
        ],
        [
         "3",
         "a1503f",
         "STCBE-1",
         "CAMP_DIW_01",
         "P15",
         "3000",
         "500 Cashback",
         "329",
         "1000",
         null,
         null,
         null,
         "Coimbatore",
         "1329"
        ],
        [
         "4",
         "1091cf",
         "STBLR-6",
         "CAMP_DIW_01",
         "P05",
         "55",
         "25% OFF",
         "108",
         "93",
         null,
         null,
         null,
         "Bengaluru",
         "201"
        ]
       ],
       "shape": {
        "columns": 13,
        "rows": 5
       }
      },
      "text/html": [
       "<div>\n",
       "<style scoped>\n",
       "    .dataframe tbody tr th:only-of-type {\n",
       "        vertical-align: middle;\n",
       "    }\n",
       "\n",
       "    .dataframe tbody tr th {\n",
       "        vertical-align: top;\n",
       "    }\n",
       "\n",
       "    .dataframe thead th {\n",
       "        text-align: right;\n",
       "    }\n",
       "</style>\n",
       "<table border=\"1\" class=\"dataframe\">\n",
       "  <thead>\n",
       "    <tr style=\"text-align: right;\">\n",
       "      <th></th>\n",
       "      <th>event_id</th>\n",
       "      <th>store_id</th>\n",
       "      <th>campaign_id</th>\n",
       "      <th>product_code</th>\n",
       "      <th>base_price</th>\n",
       "      <th>promo_type</th>\n",
       "      <th>quantity_sold(before_promo)</th>\n",
       "      <th>quantity_sold(after_promo)</th>\n",
       "      <th>Unnamed: 8</th>\n",
       "      <th>Unnamed: 9</th>\n",
       "      <th>Unnamed: 10</th>\n",
       "      <th>city</th>\n",
       "      <th>total_quantity_sold</th>\n",
       "    </tr>\n",
       "  </thead>\n",
       "  <tbody>\n",
       "    <tr>\n",
       "      <th>0</th>\n",
       "      <td>7f650b</td>\n",
       "      <td>STCBE-2</td>\n",
       "      <td>CAMP_SAN_01</td>\n",
       "      <td>P11</td>\n",
       "      <td>190</td>\n",
       "      <td>50% OFF</td>\n",
       "      <td>34</td>\n",
       "      <td>52</td>\n",
       "      <td>NaN</td>\n",
       "      <td>NaN</td>\n",
       "      <td>NaN</td>\n",
       "      <td>Coimbatore</td>\n",
       "      <td>86</td>\n",
       "    </tr>\n",
       "    <tr>\n",
       "      <th>1</th>\n",
       "      <td>a21f91</td>\n",
       "      <td>STBLR-8</td>\n",
       "      <td>CAMP_DIW_01</td>\n",
       "      <td>P03</td>\n",
       "      <td>156</td>\n",
       "      <td>25% OFF</td>\n",
       "      <td>393</td>\n",
       "      <td>322</td>\n",
       "      <td>NaN</td>\n",
       "      <td>NaN</td>\n",
       "      <td>NaN</td>\n",
       "      <td>Bengaluru</td>\n",
       "      <td>715</td>\n",
       "    </tr>\n",
       "    <tr>\n",
       "      <th>2</th>\n",
       "      <td>78bc80</td>\n",
       "      <td>STVJD-0</td>\n",
       "      <td>CAMP_SAN_01</td>\n",
       "      <td>P07</td>\n",
       "      <td>300</td>\n",
       "      <td>BOGOF</td>\n",
       "      <td>22</td>\n",
       "      <td>85</td>\n",
       "      <td>NaN</td>\n",
       "      <td>NaN</td>\n",
       "      <td>NaN</td>\n",
       "      <td>Vijayawada</td>\n",
       "      <td>107</td>\n",
       "    </tr>\n",
       "    <tr>\n",
       "      <th>3</th>\n",
       "      <td>a1503f</td>\n",
       "      <td>STCBE-1</td>\n",
       "      <td>CAMP_DIW_01</td>\n",
       "      <td>P15</td>\n",
       "      <td>3000</td>\n",
       "      <td>500 Cashback</td>\n",
       "      <td>329</td>\n",
       "      <td>1000</td>\n",
       "      <td>NaN</td>\n",
       "      <td>NaN</td>\n",
       "      <td>NaN</td>\n",
       "      <td>Coimbatore</td>\n",
       "      <td>1329</td>\n",
       "    </tr>\n",
       "    <tr>\n",
       "      <th>4</th>\n",
       "      <td>1091cf</td>\n",
       "      <td>STBLR-6</td>\n",
       "      <td>CAMP_DIW_01</td>\n",
       "      <td>P05</td>\n",
       "      <td>55</td>\n",
       "      <td>25% OFF</td>\n",
       "      <td>108</td>\n",
       "      <td>93</td>\n",
       "      <td>NaN</td>\n",
       "      <td>NaN</td>\n",
       "      <td>NaN</td>\n",
       "      <td>Bengaluru</td>\n",
       "      <td>201</td>\n",
       "    </tr>\n",
       "  </tbody>\n",
       "</table>\n",
       "</div>"
      ],
      "text/plain": [
       "  event_id store_id  campaign_id product_code  base_price    promo_type  \\\n",
       "0   7f650b  STCBE-2  CAMP_SAN_01          P11         190       50% OFF   \n",
       "1   a21f91  STBLR-8  CAMP_DIW_01          P03         156       25% OFF   \n",
       "2   78bc80  STVJD-0  CAMP_SAN_01          P07         300         BOGOF   \n",
       "3   a1503f  STCBE-1  CAMP_DIW_01          P15        3000  500 Cashback   \n",
       "4   1091cf  STBLR-6  CAMP_DIW_01          P05          55       25% OFF   \n",
       "\n",
       "   quantity_sold(before_promo)  quantity_sold(after_promo)  Unnamed: 8  \\\n",
       "0                           34                          52         NaN   \n",
       "1                          393                         322         NaN   \n",
       "2                           22                          85         NaN   \n",
       "3                          329                        1000         NaN   \n",
       "4                          108                          93         NaN   \n",
       "\n",
       "   Unnamed: 9  Unnamed: 10        city  total_quantity_sold  \n",
       "0         NaN          NaN  Coimbatore                   86  \n",
       "1         NaN          NaN   Bengaluru                  715  \n",
       "2         NaN          NaN  Vijayawada                  107  \n",
       "3         NaN          NaN  Coimbatore                 1329  \n",
       "4         NaN          NaN   Bengaluru                  201  "
      ]
     },
     "execution_count": 37,
     "metadata": {},
     "output_type": "execute_result"
    }
   ],
   "source": [
    "def clean_data(event_data):\n",
    "    # Drop column: 'city_y'\n",
    "    event_data = event_data.drop(columns=['city_y'])\n",
    "    # Drop column: 'city_x'\n",
    "    event_data = event_data.drop(columns=['city_x'])\n",
    "    return event_data\n",
    "\n",
    "event_data_clean = event_data.copy()\n",
    "\n",
    "total_quantity_sold = event_data_clean['quantity_sold(before_promo)'] + event_data_clean['quantity_sold(after_promo)']\n",
    "event_data_clean['total_quantity_sold'] = total_quantity_sold\n",
    "event_data_clean.head()\n"
   ]
  },
  {
   "cell_type": "code",
   "execution_count": 38,
   "id": "5b0722cb",
   "metadata": {},
   "outputs": [
    {
     "data": {
      "application/vnd.microsoft.datawrangler.viewer.v0+json": {
       "columns": [
        {
         "name": "index",
         "rawType": "int64",
         "type": "integer"
        },
        {
         "name": "event_id",
         "rawType": "object",
         "type": "string"
        },
        {
         "name": "store_id",
         "rawType": "object",
         "type": "string"
        },
        {
         "name": "campaign_id",
         "rawType": "object",
         "type": "string"
        },
        {
         "name": "product_code",
         "rawType": "object",
         "type": "string"
        },
        {
         "name": "base_price",
         "rawType": "int64",
         "type": "integer"
        },
        {
         "name": "promo_type",
         "rawType": "object",
         "type": "string"
        },
        {
         "name": "quantity_sold(before_promo)",
         "rawType": "int64",
         "type": "integer"
        },
        {
         "name": "quantity_sold(after_promo)",
         "rawType": "int64",
         "type": "integer"
        },
        {
         "name": "Unnamed: 8",
         "rawType": "float64",
         "type": "float"
        },
        {
         "name": "Unnamed: 9",
         "rawType": "float64",
         "type": "float"
        },
        {
         "name": "Unnamed: 10",
         "rawType": "float64",
         "type": "float"
        },
        {
         "name": "city",
         "rawType": "object",
         "type": "string"
        },
        {
         "name": "total_quantity_sold",
         "rawType": "int64",
         "type": "integer"
        }
       ],
       "ref": "6c8dbf79-de39-40db-b275-244adc62eaca",
       "rows": [
        [
         "0",
         "7f650b",
         "STCBE-2",
         "CAMP_SAN_01",
         "P11",
         "190",
         "50% OFF",
         "34",
         "52",
         null,
         null,
         null,
         "Coimbatore",
         "86"
        ],
        [
         "1",
         "a21f91",
         "STBLR-8",
         "CAMP_DIW_01",
         "P03",
         "156",
         "25% OFF",
         "393",
         "322",
         null,
         null,
         null,
         "Bengaluru",
         "715"
        ],
        [
         "2",
         "78bc80",
         "STVJD-0",
         "CAMP_SAN_01",
         "P07",
         "300",
         "BOGOF",
         "22",
         "85",
         null,
         null,
         null,
         "Vijayawada",
         "107"
        ],
        [
         "3",
         "a1503f",
         "STCBE-1",
         "CAMP_DIW_01",
         "P15",
         "3000",
         "500 Cashback",
         "329",
         "1000",
         null,
         null,
         null,
         "Coimbatore",
         "1329"
        ],
        [
         "4",
         "1091cf",
         "STBLR-6",
         "CAMP_DIW_01",
         "P05",
         "55",
         "25% OFF",
         "108",
         "93",
         null,
         null,
         null,
         "Bengaluru",
         "201"
        ]
       ],
       "shape": {
        "columns": 13,
        "rows": 5
       }
      },
      "text/html": [
       "<div>\n",
       "<style scoped>\n",
       "    .dataframe tbody tr th:only-of-type {\n",
       "        vertical-align: middle;\n",
       "    }\n",
       "\n",
       "    .dataframe tbody tr th {\n",
       "        vertical-align: top;\n",
       "    }\n",
       "\n",
       "    .dataframe thead th {\n",
       "        text-align: right;\n",
       "    }\n",
       "</style>\n",
       "<table border=\"1\" class=\"dataframe\">\n",
       "  <thead>\n",
       "    <tr style=\"text-align: right;\">\n",
       "      <th></th>\n",
       "      <th>event_id</th>\n",
       "      <th>store_id</th>\n",
       "      <th>campaign_id</th>\n",
       "      <th>product_code</th>\n",
       "      <th>base_price</th>\n",
       "      <th>promo_type</th>\n",
       "      <th>quantity_sold(before_promo)</th>\n",
       "      <th>quantity_sold(after_promo)</th>\n",
       "      <th>Unnamed: 8</th>\n",
       "      <th>Unnamed: 9</th>\n",
       "      <th>Unnamed: 10</th>\n",
       "      <th>city</th>\n",
       "      <th>total_quantity_sold</th>\n",
       "    </tr>\n",
       "  </thead>\n",
       "  <tbody>\n",
       "    <tr>\n",
       "      <th>0</th>\n",
       "      <td>7f650b</td>\n",
       "      <td>STCBE-2</td>\n",
       "      <td>CAMP_SAN_01</td>\n",
       "      <td>P11</td>\n",
       "      <td>190</td>\n",
       "      <td>50% OFF</td>\n",
       "      <td>34</td>\n",
       "      <td>52</td>\n",
       "      <td>NaN</td>\n",
       "      <td>NaN</td>\n",
       "      <td>NaN</td>\n",
       "      <td>Coimbatore</td>\n",
       "      <td>86</td>\n",
       "    </tr>\n",
       "    <tr>\n",
       "      <th>1</th>\n",
       "      <td>a21f91</td>\n",
       "      <td>STBLR-8</td>\n",
       "      <td>CAMP_DIW_01</td>\n",
       "      <td>P03</td>\n",
       "      <td>156</td>\n",
       "      <td>25% OFF</td>\n",
       "      <td>393</td>\n",
       "      <td>322</td>\n",
       "      <td>NaN</td>\n",
       "      <td>NaN</td>\n",
       "      <td>NaN</td>\n",
       "      <td>Bengaluru</td>\n",
       "      <td>715</td>\n",
       "    </tr>\n",
       "    <tr>\n",
       "      <th>2</th>\n",
       "      <td>78bc80</td>\n",
       "      <td>STVJD-0</td>\n",
       "      <td>CAMP_SAN_01</td>\n",
       "      <td>P07</td>\n",
       "      <td>300</td>\n",
       "      <td>BOGOF</td>\n",
       "      <td>22</td>\n",
       "      <td>85</td>\n",
       "      <td>NaN</td>\n",
       "      <td>NaN</td>\n",
       "      <td>NaN</td>\n",
       "      <td>Vijayawada</td>\n",
       "      <td>107</td>\n",
       "    </tr>\n",
       "    <tr>\n",
       "      <th>3</th>\n",
       "      <td>a1503f</td>\n",
       "      <td>STCBE-1</td>\n",
       "      <td>CAMP_DIW_01</td>\n",
       "      <td>P15</td>\n",
       "      <td>3000</td>\n",
       "      <td>500 Cashback</td>\n",
       "      <td>329</td>\n",
       "      <td>1000</td>\n",
       "      <td>NaN</td>\n",
       "      <td>NaN</td>\n",
       "      <td>NaN</td>\n",
       "      <td>Coimbatore</td>\n",
       "      <td>1329</td>\n",
       "    </tr>\n",
       "    <tr>\n",
       "      <th>4</th>\n",
       "      <td>1091cf</td>\n",
       "      <td>STBLR-6</td>\n",
       "      <td>CAMP_DIW_01</td>\n",
       "      <td>P05</td>\n",
       "      <td>55</td>\n",
       "      <td>25% OFF</td>\n",
       "      <td>108</td>\n",
       "      <td>93</td>\n",
       "      <td>NaN</td>\n",
       "      <td>NaN</td>\n",
       "      <td>NaN</td>\n",
       "      <td>Bengaluru</td>\n",
       "      <td>201</td>\n",
       "    </tr>\n",
       "  </tbody>\n",
       "</table>\n",
       "</div>"
      ],
      "text/plain": [
       "  event_id store_id  campaign_id product_code  base_price    promo_type  \\\n",
       "0   7f650b  STCBE-2  CAMP_SAN_01          P11         190       50% OFF   \n",
       "1   a21f91  STBLR-8  CAMP_DIW_01          P03         156       25% OFF   \n",
       "2   78bc80  STVJD-0  CAMP_SAN_01          P07         300         BOGOF   \n",
       "3   a1503f  STCBE-1  CAMP_DIW_01          P15        3000  500 Cashback   \n",
       "4   1091cf  STBLR-6  CAMP_DIW_01          P05          55       25% OFF   \n",
       "\n",
       "   quantity_sold(before_promo)  quantity_sold(after_promo)  Unnamed: 8  \\\n",
       "0                           34                          52         NaN   \n",
       "1                          393                         322         NaN   \n",
       "2                           22                          85         NaN   \n",
       "3                          329                        1000         NaN   \n",
       "4                          108                          93         NaN   \n",
       "\n",
       "   Unnamed: 9  Unnamed: 10        city  total_quantity_sold  \n",
       "0         NaN          NaN  Coimbatore                   86  \n",
       "1         NaN          NaN   Bengaluru                  715  \n",
       "2         NaN          NaN  Vijayawada                  107  \n",
       "3         NaN          NaN  Coimbatore                 1329  \n",
       "4         NaN          NaN   Bengaluru                  201  "
      ]
     },
     "execution_count": 38,
     "metadata": {},
     "output_type": "execute_result"
    }
   ],
   "source": [
    "total_quantity_sold = event_data_clean['quantity_sold(before_promo)'] + event_data_clean['quantity_sold(after_promo)']\n",
    "event_data_clean['total_quantity_sold'] = total_quantity_sold\n",
    "event_data_clean.head()\n"
   ]
  },
  {
   "cell_type": "code",
   "execution_count": 39,
   "id": "5711f74e",
   "metadata": {},
   "outputs": [
    {
     "name": "stdout",
     "output_type": "stream",
     "text": [
      "['Coimbatore' 'Bengaluru' 'Vijayawada' 'Visakhapatnam' 'Hyderabad'\n",
      " 'Madurai' 'Mysuru' 'Chennai' 'Trivandrum' 'Mangalore']\n"
     ]
    }
   ],
   "source": [
    "print(event_data_clean.city.unique())\n"
   ]
  },
  {
   "cell_type": "code",
   "execution_count": 40,
   "id": "ecb807ec",
   "metadata": {},
   "outputs": [
    {
     "data": {
      "application/vnd.microsoft.datawrangler.viewer.v0+json": {
       "columns": [
        {
         "name": "index",
         "rawType": "int64",
         "type": "integer"
        },
        {
         "name": "name_of_city",
         "rawType": "object",
         "type": "string"
        },
        {
         "name": "state_code",
         "rawType": "int64",
         "type": "integer"
        },
        {
         "name": "state_name",
         "rawType": "object",
         "type": "string"
        },
        {
         "name": "dist_code",
         "rawType": "int64",
         "type": "integer"
        },
        {
         "name": "population_total",
         "rawType": "int64",
         "type": "integer"
        },
        {
         "name": "population_male",
         "rawType": "int64",
         "type": "integer"
        },
        {
         "name": "population_female",
         "rawType": "int64",
         "type": "integer"
        },
        {
         "name": "0-6_population_total",
         "rawType": "int64",
         "type": "integer"
        },
        {
         "name": "0-6_population_male",
         "rawType": "int64",
         "type": "integer"
        },
        {
         "name": "0-6_population_female",
         "rawType": "int64",
         "type": "integer"
        },
        {
         "name": "literates_total",
         "rawType": "int64",
         "type": "integer"
        },
        {
         "name": "literates_male",
         "rawType": "int64",
         "type": "integer"
        },
        {
         "name": "literates_female",
         "rawType": "int64",
         "type": "integer"
        },
        {
         "name": "sex_ratio",
         "rawType": "int64",
         "type": "integer"
        },
        {
         "name": "child_sex_ratio",
         "rawType": "int64",
         "type": "integer"
        },
        {
         "name": "effective_literacy_rate_total",
         "rawType": "float64",
         "type": "float"
        },
        {
         "name": "effective_literacy_rate_male",
         "rawType": "float64",
         "type": "float"
        },
        {
         "name": "effective_literacy_rate_female",
         "rawType": "float64",
         "type": "float"
        },
        {
         "name": "location",
         "rawType": "object",
         "type": "string"
        },
        {
         "name": "total_graduates",
         "rawType": "int64",
         "type": "integer"
        },
        {
         "name": "male_graduates",
         "rawType": "int64",
         "type": "integer"
        },
        {
         "name": "female_graduates",
         "rawType": "int64",
         "type": "integer"
        }
       ],
       "ref": "c695a8bd-060b-40f1-a979-2e18ec9c7275",
       "rows": [
        [
         "0",
         "Abohar ",
         "3",
         "PUNJAB",
         "9",
         "145238",
         "76840",
         "68398",
         "15870",
         "8587",
         "7283",
         "103319",
         "58347",
         "44972",
         "890",
         "848",
         "79.86",
         "85.49",
         "73.59",
         "30.1452928,74.1993043",
         "16287",
         "8612",
         "7675"
        ],
        [
         "1",
         "Achalpur ",
         "27",
         "MAHARASHTRA",
         "7",
         "112293",
         "58256",
         "54037",
         "11810",
         "6186",
         "5624",
         "92433",
         "49347",
         "43086",
         "928",
         "909",
         "91.99",
         "94.77",
         "89.0",
         "21.257584,77.5086754",
         "8863",
         "5269",
         "3594"
        ],
        [
         "2",
         "Adilabad ",
         "28",
         "ANDHRA PRADESH",
         "1",
         "117388",
         "59232",
         "58156",
         "13103",
         "6731",
         "6372",
         "83955",
         "46295",
         "37660",
         "982",
         "947",
         "80.51",
         "88.18",
         "72.73",
         "19.0809075,79.560344",
         "10565",
         "6797",
         "3768"
        ],
        [
         "3",
         "Adityapur ",
         "20",
         "JHARKHAND",
         "24",
         "173988",
         "91495",
         "82493",
         "23042",
         "12063",
         "10979",
         "125985",
         "71470",
         "54515",
         "902",
         "910",
         "83.46",
         "89.98",
         "76.23",
         "22.7834741,86.1576889",
         "19225",
         "12189",
         "7036"
        ],
        [
         "4",
         "Adoni ",
         "28",
         "ANDHRA PRADESH",
         "21",
         "166537",
         "82743",
         "83794",
         "18406",
         "9355",
         "9051",
         "101292",
         "56203",
         "45089",
         "1013",
         "968",
         "68.38",
         "76.58",
         "60.33",
         "15.6322227,77.2728368",
         "11902",
         "7871",
         "4031"
        ]
       ],
       "shape": {
        "columns": 22,
        "rows": 5
       }
      },
      "text/html": [
       "<div>\n",
       "<style scoped>\n",
       "    .dataframe tbody tr th:only-of-type {\n",
       "        vertical-align: middle;\n",
       "    }\n",
       "\n",
       "    .dataframe tbody tr th {\n",
       "        vertical-align: top;\n",
       "    }\n",
       "\n",
       "    .dataframe thead th {\n",
       "        text-align: right;\n",
       "    }\n",
       "</style>\n",
       "<table border=\"1\" class=\"dataframe\">\n",
       "  <thead>\n",
       "    <tr style=\"text-align: right;\">\n",
       "      <th></th>\n",
       "      <th>name_of_city</th>\n",
       "      <th>state_code</th>\n",
       "      <th>state_name</th>\n",
       "      <th>dist_code</th>\n",
       "      <th>population_total</th>\n",
       "      <th>population_male</th>\n",
       "      <th>population_female</th>\n",
       "      <th>0-6_population_total</th>\n",
       "      <th>0-6_population_male</th>\n",
       "      <th>0-6_population_female</th>\n",
       "      <th>...</th>\n",
       "      <th>literates_female</th>\n",
       "      <th>sex_ratio</th>\n",
       "      <th>child_sex_ratio</th>\n",
       "      <th>effective_literacy_rate_total</th>\n",
       "      <th>effective_literacy_rate_male</th>\n",
       "      <th>effective_literacy_rate_female</th>\n",
       "      <th>location</th>\n",
       "      <th>total_graduates</th>\n",
       "      <th>male_graduates</th>\n",
       "      <th>female_graduates</th>\n",
       "    </tr>\n",
       "  </thead>\n",
       "  <tbody>\n",
       "    <tr>\n",
       "      <th>0</th>\n",
       "      <td>Abohar</td>\n",
       "      <td>3</td>\n",
       "      <td>PUNJAB</td>\n",
       "      <td>9</td>\n",
       "      <td>145238</td>\n",
       "      <td>76840</td>\n",
       "      <td>68398</td>\n",
       "      <td>15870</td>\n",
       "      <td>8587</td>\n",
       "      <td>7283</td>\n",
       "      <td>...</td>\n",
       "      <td>44972</td>\n",
       "      <td>890</td>\n",
       "      <td>848</td>\n",
       "      <td>79.86</td>\n",
       "      <td>85.49</td>\n",
       "      <td>73.59</td>\n",
       "      <td>30.1452928,74.1993043</td>\n",
       "      <td>16287</td>\n",
       "      <td>8612</td>\n",
       "      <td>7675</td>\n",
       "    </tr>\n",
       "    <tr>\n",
       "      <th>1</th>\n",
       "      <td>Achalpur</td>\n",
       "      <td>27</td>\n",
       "      <td>MAHARASHTRA</td>\n",
       "      <td>7</td>\n",
       "      <td>112293</td>\n",
       "      <td>58256</td>\n",
       "      <td>54037</td>\n",
       "      <td>11810</td>\n",
       "      <td>6186</td>\n",
       "      <td>5624</td>\n",
       "      <td>...</td>\n",
       "      <td>43086</td>\n",
       "      <td>928</td>\n",
       "      <td>909</td>\n",
       "      <td>91.99</td>\n",
       "      <td>94.77</td>\n",
       "      <td>89.00</td>\n",
       "      <td>21.257584,77.5086754</td>\n",
       "      <td>8863</td>\n",
       "      <td>5269</td>\n",
       "      <td>3594</td>\n",
       "    </tr>\n",
       "    <tr>\n",
       "      <th>2</th>\n",
       "      <td>Adilabad</td>\n",
       "      <td>28</td>\n",
       "      <td>ANDHRA PRADESH</td>\n",
       "      <td>1</td>\n",
       "      <td>117388</td>\n",
       "      <td>59232</td>\n",
       "      <td>58156</td>\n",
       "      <td>13103</td>\n",
       "      <td>6731</td>\n",
       "      <td>6372</td>\n",
       "      <td>...</td>\n",
       "      <td>37660</td>\n",
       "      <td>982</td>\n",
       "      <td>947</td>\n",
       "      <td>80.51</td>\n",
       "      <td>88.18</td>\n",
       "      <td>72.73</td>\n",
       "      <td>19.0809075,79.560344</td>\n",
       "      <td>10565</td>\n",
       "      <td>6797</td>\n",
       "      <td>3768</td>\n",
       "    </tr>\n",
       "    <tr>\n",
       "      <th>3</th>\n",
       "      <td>Adityapur</td>\n",
       "      <td>20</td>\n",
       "      <td>JHARKHAND</td>\n",
       "      <td>24</td>\n",
       "      <td>173988</td>\n",
       "      <td>91495</td>\n",
       "      <td>82493</td>\n",
       "      <td>23042</td>\n",
       "      <td>12063</td>\n",
       "      <td>10979</td>\n",
       "      <td>...</td>\n",
       "      <td>54515</td>\n",
       "      <td>902</td>\n",
       "      <td>910</td>\n",
       "      <td>83.46</td>\n",
       "      <td>89.98</td>\n",
       "      <td>76.23</td>\n",
       "      <td>22.7834741,86.1576889</td>\n",
       "      <td>19225</td>\n",
       "      <td>12189</td>\n",
       "      <td>7036</td>\n",
       "    </tr>\n",
       "    <tr>\n",
       "      <th>4</th>\n",
       "      <td>Adoni</td>\n",
       "      <td>28</td>\n",
       "      <td>ANDHRA PRADESH</td>\n",
       "      <td>21</td>\n",
       "      <td>166537</td>\n",
       "      <td>82743</td>\n",
       "      <td>83794</td>\n",
       "      <td>18406</td>\n",
       "      <td>9355</td>\n",
       "      <td>9051</td>\n",
       "      <td>...</td>\n",
       "      <td>45089</td>\n",
       "      <td>1013</td>\n",
       "      <td>968</td>\n",
       "      <td>68.38</td>\n",
       "      <td>76.58</td>\n",
       "      <td>60.33</td>\n",
       "      <td>15.6322227,77.2728368</td>\n",
       "      <td>11902</td>\n",
       "      <td>7871</td>\n",
       "      <td>4031</td>\n",
       "    </tr>\n",
       "  </tbody>\n",
       "</table>\n",
       "<p>5 rows × 22 columns</p>\n",
       "</div>"
      ],
      "text/plain": [
       "  name_of_city  state_code      state_name  dist_code  population_total  \\\n",
       "0      Abohar            3          PUNJAB          9            145238   \n",
       "1    Achalpur           27     MAHARASHTRA          7            112293   \n",
       "2    Adilabad           28  ANDHRA PRADESH          1            117388   \n",
       "3   Adityapur           20       JHARKHAND         24            173988   \n",
       "4       Adoni           28  ANDHRA PRADESH         21            166537   \n",
       "\n",
       "   population_male  population_female  0-6_population_total  \\\n",
       "0            76840              68398                 15870   \n",
       "1            58256              54037                 11810   \n",
       "2            59232              58156                 13103   \n",
       "3            91495              82493                 23042   \n",
       "4            82743              83794                 18406   \n",
       "\n",
       "   0-6_population_male  0-6_population_female  ...  literates_female  \\\n",
       "0                 8587                   7283  ...             44972   \n",
       "1                 6186                   5624  ...             43086   \n",
       "2                 6731                   6372  ...             37660   \n",
       "3                12063                  10979  ...             54515   \n",
       "4                 9355                   9051  ...             45089   \n",
       "\n",
       "   sex_ratio  child_sex_ratio  effective_literacy_rate_total  \\\n",
       "0        890              848                          79.86   \n",
       "1        928              909                          91.99   \n",
       "2        982              947                          80.51   \n",
       "3        902              910                          83.46   \n",
       "4       1013              968                          68.38   \n",
       "\n",
       "   effective_literacy_rate_male  effective_literacy_rate_female  \\\n",
       "0                         85.49                           73.59   \n",
       "1                         94.77                           89.00   \n",
       "2                         88.18                           72.73   \n",
       "3                         89.98                           76.23   \n",
       "4                         76.58                           60.33   \n",
       "\n",
       "                location  total_graduates male_graduates  female_graduates  \n",
       "0  30.1452928,74.1993043            16287           8612              7675  \n",
       "1   21.257584,77.5086754             8863           5269              3594  \n",
       "2   19.0809075,79.560344            10565           6797              3768  \n",
       "3  22.7834741,86.1576889            19225          12189              7036  \n",
       "4  15.6322227,77.2728368            11902           7871              4031  \n",
       "\n",
       "[5 rows x 22 columns]"
      ]
     },
     "execution_count": 40,
     "metadata": {},
     "output_type": "execute_result"
    }
   ],
   "source": [
    "# Load your event data and city coordinates data\n",
    "city_coords = pd.read_csv('./Indian_cities.csv')\n",
    "city_coords.head()\n"
   ]
  },
  {
   "cell_type": "code",
   "execution_count": 41,
   "id": "86f570e9",
   "metadata": {},
   "outputs": [],
   "source": [
    "# --- Step 1: Fix city names in city_coords ---\n",
    "# Normalise both datasets before mapping\n",
    "event_data_clean['city'] = event_data_clean['city'].str.strip().str.lower()\n",
    "city_coords['name_of_city'] = city_coords['name_of_city'].str.strip().str.lower()\n",
    "\n",
    "# Comprehensive mapping for South Indian cities\n",
    "city_name_map = {\n",
    "    \"mysore\": \"mysuru\",\n",
    "    \"mysuru city\": \"mysuru\",\n",
    "    \"bangalore\": \"bengaluru\",\n",
    "    \"bengalooru\": \"bengaluru\",\n",
    "    \"bengaluru city\": \"bengaluru\",\n",
    "    \"greater hyderabad\": \"hyderabad\",\n",
    "    \"hyderabad city\": \"hyderabad\",\n",
    "    \"secunderabad\": \"hyderabad\",\n",
    "    \"thiruvananthapuram\": \"trivandrum\",\n",
    "    \"trivandram\": \"trivandrum\",\n",
    "    \"trivandrum city\": \"trivandrum\",\n",
    "    \"madras\": \"chennai\",\n",
    "    \"chennai city\": \"chennai\",\n",
    "    \"coimbatore city\": \"coimbatore\",\n",
    "    \"coimbatore north\": \"coimbatore\",\n",
    "    \"coimbatore south\": \"coimbatore\",\n",
    "    \"vijayawada town\": \"vijayawada\",\n",
    "    \"vijaywada\": \"vijayawada\",\n",
    "    \"visakhapatnam city\": \"visakhapatnam\",\n",
    "    \"vizag\": \"visakhapatnam\",\n",
    "    \"madurai city\": \"madurai\",\n",
    "    \"mangalore city\": \"mangalore\",\n",
    "    \"mangaluru\": \"mangalore\"\n",
    "}\n",
    "\n",
    "# Apply the mapping\n",
    "event_data_clean['city'] = event_data_clean['city'].replace(city_name_map)\n",
    "city_coords['name_of_city'] = city_coords['name_of_city'].replace(city_name_map)\n"
   ]
  },
  {
   "cell_type": "code",
   "execution_count": 42,
   "id": "7a68cb3c",
   "metadata": {},
   "outputs": [],
   "source": [
    "# --- Step 2: Drop duplicates caused by merging same-city variants ---\n",
    "city_coords = city_coords.drop_duplicates(subset='name_of_city', keep='first').reset_index(drop=True)\n"
   ]
  },
  {
   "cell_type": "code",
   "execution_count": 43,
   "id": "50fdad11",
   "metadata": {},
   "outputs": [
    {
     "data": {
      "application/vnd.microsoft.datawrangler.viewer.v0+json": {
       "columns": [
        {
         "name": "index",
         "rawType": "int64",
         "type": "integer"
        },
        {
         "name": "event_id",
         "rawType": "object",
         "type": "string"
        },
        {
         "name": "store_id",
         "rawType": "object",
         "type": "string"
        },
        {
         "name": "campaign_id",
         "rawType": "object",
         "type": "string"
        },
        {
         "name": "product_code",
         "rawType": "object",
         "type": "string"
        },
        {
         "name": "base_price",
         "rawType": "int64",
         "type": "integer"
        },
        {
         "name": "promo_type",
         "rawType": "object",
         "type": "string"
        },
        {
         "name": "quantity_sold(before_promo)",
         "rawType": "int64",
         "type": "integer"
        },
        {
         "name": "quantity_sold(after_promo)",
         "rawType": "int64",
         "type": "integer"
        },
        {
         "name": "Unnamed: 8",
         "rawType": "float64",
         "type": "float"
        },
        {
         "name": "Unnamed: 9",
         "rawType": "float64",
         "type": "float"
        },
        {
         "name": "Unnamed: 10",
         "rawType": "float64",
         "type": "float"
        },
        {
         "name": "city",
         "rawType": "object",
         "type": "string"
        },
        {
         "name": "total_quantity_sold",
         "rawType": "int64",
         "type": "integer"
        },
        {
         "name": "name_of_city",
         "rawType": "object",
         "type": "string"
        },
        {
         "name": "location",
         "rawType": "object",
         "type": "string"
        }
       ],
       "ref": "67545d1b-7361-4e3e-8567-ad19a8367ef3",
       "rows": [
        [
         "0",
         "7f650b",
         "STCBE-2",
         "CAMP_SAN_01",
         "P11",
         "190",
         "50% OFF",
         "34",
         "52",
         null,
         null,
         null,
         "coimbatore",
         "86",
         "coimbatore",
         "11.0168445,76.9558321"
        ],
        [
         "1",
         "a21f91",
         "STBLR-8",
         "CAMP_DIW_01",
         "P03",
         "156",
         "25% OFF",
         "393",
         "322",
         null,
         null,
         null,
         "bengaluru",
         "715",
         "bengaluru",
         "12.9716,77.5946"
        ],
        [
         "2",
         "78bc80",
         "STVJD-0",
         "CAMP_SAN_01",
         "P07",
         "300",
         "BOGOF",
         "22",
         "85",
         null,
         null,
         null,
         "vijayawada",
         "107",
         "vijayawada",
         "16.5061743,80.6480153"
        ],
        [
         "3",
         "a1503f",
         "STCBE-1",
         "CAMP_DIW_01",
         "P15",
         "3000",
         "500 Cashback",
         "329",
         "1000",
         null,
         null,
         null,
         "coimbatore",
         "1329",
         "coimbatore",
         "11.0168445,76.9558321"
        ],
        [
         "4",
         "1091cf",
         "STBLR-6",
         "CAMP_DIW_01",
         "P05",
         "55",
         "25% OFF",
         "108",
         "93",
         null,
         null,
         null,
         "bengaluru",
         "201",
         "bengaluru",
         "12.9716,77.5946"
        ],
        [
         "5",
         "8.02E+96",
         "STBLR-4",
         "CAMP_DIW_01",
         "P11",
         "190",
         "50% OFF",
         "91",
         "116",
         null,
         null,
         null,
         "bengaluru",
         "207",
         "bengaluru",
         "12.9716,77.5946"
        ],
        [
         "6",
         "73d86f",
         "STVSK-2",
         "CAMP_SAN_01",
         "P10",
         "50",
         "25% OFF",
         "31",
         "26",
         null,
         null,
         null,
         "visakhapatnam",
         "57",
         "visakhapatnam",
         "17.6868,83.2185"
        ],
        [
         "7",
         "fe3560",
         "STHYD-4",
         "CAMP_DIW_01",
         "P13",
         "350",
         "BOGOF",
         "73",
         "245",
         null,
         null,
         null,
         "hyderabad",
         "318",
         "hyderabad",
         "17.3850,78.4867"
        ],
        [
         "8",
         "6b2afc",
         "STCBE-4",
         "CAMP_SAN_01",
         "P08",
         "1190",
         "BOGOF",
         "30",
         "79",
         null,
         null,
         null,
         "coimbatore",
         "109",
         "coimbatore",
         "11.0168445,76.9558321"
        ],
        [
         "9",
         "ce5851",
         "STMDU-2",
         "CAMP_SAN_01",
         "P03",
         "200",
         "BOGOF",
         "318",
         "1265",
         null,
         null,
         null,
         "madurai",
         "1583",
         "madurai",
         "9.9252007,78.1197754"
        ],
        [
         "10",
         "dd6685",
         "STMYS-2",
         "CAMP_DIW_01",
         "P06",
         "415",
         "25% OFF",
         "78",
         "70",
         null,
         null,
         null,
         "mysuru",
         "148",
         "mysuru",
         "12.2958104,76.6393805"
        ],
        [
         "11",
         "8f25a6",
         "STHYD-6",
         "CAMP_SAN_01",
         "P15",
         "3000",
         "500 Cashback",
         "126",
         "302",
         null,
         null,
         null,
         "hyderabad",
         "428",
         "hyderabad",
         "17.3850,78.4867"
        ],
        [
         "12",
         "5c3c33",
         "STCHE-6",
         "CAMP_DIW_01",
         "P12",
         "62",
         "50% OFF",
         "154",
         "207",
         null,
         null,
         null,
         "chennai",
         "361",
         "chennai",
         "13.0826802,80.2707184"
        ],
        [
         "13",
         "d290a1",
         "STBLR-3",
         "CAMP_DIW_01",
         "P04",
         "290",
         "25% OFF",
         "343",
         "270",
         null,
         null,
         null,
         "bengaluru",
         "613",
         "bengaluru",
         "12.9716,77.5946"
        ],
        [
         "14",
         "635862",
         "STVSK-4",
         "CAMP_SAN_01",
         "P02",
         "860",
         "33% OFF",
         "348",
         "480",
         null,
         null,
         null,
         "visakhapatnam",
         "828",
         "visakhapatnam",
         "17.6868,83.2185"
        ],
        [
         "15",
         "c0ecb5",
         "STCHE-2",
         "CAMP_SAN_01",
         "P07",
         "300",
         "BOGOF",
         "43",
         "167",
         null,
         null,
         null,
         "chennai",
         "210",
         "chennai",
         "13.0826802,80.2707184"
        ],
        [
         "16",
         "182caa",
         "STCHE-5",
         "CAMP_SAN_01",
         "P06",
         "415",
         "25% OFF",
         "39",
         "33",
         null,
         null,
         null,
         "chennai",
         "72",
         "chennai",
         "13.0826802,80.2707184"
        ],
        [
         "17",
         "c4db5b",
         "STTRV-0",
         "CAMP_DIW_01",
         "P01",
         "172",
         "33% OFF",
         "164",
         "236",
         null,
         null,
         null,
         "trivandrum",
         "400",
         "trivandrum",
         "8.5241391,76.9366376"
        ],
        [
         "18",
         "94f48c",
         "STVSK-1",
         "CAMP_SAN_01",
         "P06",
         "415",
         "25% OFF",
         "22",
         "16",
         null,
         null,
         null,
         "visakhapatnam",
         "38",
         "visakhapatnam",
         "17.6868,83.2185"
        ],
        [
         "19",
         "7ef92f",
         "STHYD-5",
         "CAMP_SAN_01",
         "P07",
         "300",
         "BOGOF",
         "55",
         "213",
         null,
         null,
         null,
         "hyderabad",
         "268",
         "hyderabad",
         "17.3850,78.4867"
        ],
        [
         "20",
         "0f422c",
         "STBLR-0",
         "CAMP_DIW_01",
         "P14",
         "1020",
         "BOGOF",
         "42",
         "168",
         null,
         null,
         null,
         "bengaluru",
         "210",
         "bengaluru",
         "12.9716,77.5946"
        ],
        [
         "21",
         "1e9a06",
         "STCHE-4",
         "CAMP_DIW_01",
         "P13",
         "350",
         "BOGOF",
         "84",
         "338",
         null,
         null,
         null,
         "chennai",
         "422",
         "chennai",
         "13.0826802,80.2707184"
        ],
        [
         "22",
         "02ebe9",
         "STBLR-8",
         "CAMP_DIW_01",
         "P11",
         "190",
         "50% OFF",
         "66",
         "88",
         null,
         null,
         null,
         "bengaluru",
         "154",
         "bengaluru",
         "12.9716,77.5946"
        ],
        [
         "23",
         "260ff2",
         "STMYS-2",
         "CAMP_SAN_01",
         "P01",
         "172",
         "33% OFF",
         "204",
         "291",
         null,
         null,
         null,
         "mysuru",
         "495",
         "mysuru",
         "12.2958104,76.6393805"
        ],
        [
         "24",
         "7fc923",
         "STTRV-0",
         "CAMP_SAN_01",
         "P08",
         "1190",
         "BOGOF",
         "19",
         "74",
         null,
         null,
         null,
         "trivandrum",
         "93",
         "trivandrum",
         "8.5241391,76.9366376"
        ],
        [
         "25",
         "b08c12",
         "STMDU-3",
         "CAMP_DIW_01",
         "P03",
         "156",
         "25% OFF",
         "227",
         "202",
         null,
         null,
         null,
         "madurai",
         "429",
         "madurai",
         "9.9252007,78.1197754"
        ],
        [
         "26",
         "ca7298",
         "STCBE-2",
         "CAMP_SAN_01",
         "P15",
         "3000",
         "500 Cashback",
         "85",
         "228",
         null,
         null,
         null,
         "coimbatore",
         "313",
         "coimbatore",
         "11.0168445,76.9558321"
        ],
        [
         "27",
         "bf33ae",
         "STMYS-0",
         "CAMP_DIW_01",
         "P14",
         "1020",
         "BOGOF",
         "59",
         "182",
         null,
         null,
         null,
         "mysuru",
         "241",
         "mysuru",
         "12.2958104,76.6393805"
        ],
        [
         "28",
         "35fb5b",
         "STCBE-2",
         "CAMP_DIW_01",
         "P13",
         "350",
         "BOGOF",
         "50",
         "190",
         null,
         null,
         null,
         "coimbatore",
         "240",
         "coimbatore",
         "11.0168445,76.9558321"
        ],
        [
         "29",
         "def6ff",
         "STMDU-0",
         "CAMP_DIW_01",
         "P11",
         "190",
         "50% OFF",
         "70",
         "89",
         null,
         null,
         null,
         "madurai",
         "159",
         "madurai",
         "9.9252007,78.1197754"
        ],
        [
         "30",
         "2f3e5d",
         "STCHE-2",
         "CAMP_SAN_01",
         "P01",
         "172",
         "33% OFF",
         "333",
         "402",
         null,
         null,
         null,
         "chennai",
         "735",
         "chennai",
         "13.0826802,80.2707184"
        ],
        [
         "31",
         "ca3893",
         "STMYS-1",
         "CAMP_SAN_01",
         "P09",
         "90",
         "25% OFF",
         "52",
         "39",
         null,
         null,
         null,
         "mysuru",
         "91",
         "mysuru",
         "12.2958104,76.6393805"
        ],
        [
         "32",
         "922e6a",
         "STBLR-8",
         "CAMP_SAN_01",
         "P05",
         "55",
         "25% OFF",
         "34",
         "24",
         null,
         null,
         null,
         "bengaluru",
         "58",
         "bengaluru",
         "12.9716,77.5946"
        ],
        [
         "33",
         "4f0587",
         "STMDU-0",
         "CAMP_SAN_01",
         "P08",
         "1190",
         "BOGOF",
         "33",
         "136",
         null,
         null,
         null,
         "madurai",
         "169",
         "madurai",
         "9.9252007,78.1197754"
        ],
        [
         "34",
         "fa5b45",
         "STVJD-1",
         "CAMP_SAN_01",
         "P08",
         "1190",
         "BOGOF",
         "27",
         "109",
         null,
         null,
         null,
         "vijayawada",
         "136",
         "vijayawada",
         "16.5061743,80.6480153"
        ],
        [
         "35",
         "df45ee",
         "STHYD-3",
         "CAMP_DIW_01",
         "P01",
         "172",
         "33% OFF",
         "309",
         "534",
         null,
         null,
         null,
         "hyderabad",
         "843",
         "hyderabad",
         "17.3850,78.4867"
        ],
        [
         "36",
         "f3ac85",
         "STBLR-5",
         "CAMP_SAN_01",
         "P03",
         "200",
         "BOGOF",
         "348",
         "1350",
         null,
         null,
         null,
         "bengaluru",
         "1698",
         "bengaluru",
         "12.9716,77.5946"
        ],
        [
         "37",
         "292ca5",
         "STHYD-2",
         "CAMP_DIW_01",
         "P04",
         "290",
         "25% OFF",
         "287",
         "220",
         null,
         null,
         null,
         "hyderabad",
         "507",
         "hyderabad",
         "17.3850,78.4867"
        ],
        [
         "38",
         "620715",
         "STMYS-3",
         "CAMP_SAN_01",
         "P03",
         "200",
         "BOGOF",
         "340",
         "1485",
         null,
         null,
         null,
         "mysuru",
         "1825",
         "mysuru",
         "12.2958104,76.6393805"
        ],
        [
         "39",
         "7e9777",
         "STVJD-1",
         "CAMP_DIW_01",
         "P08",
         "1190",
         "BOGOF",
         "24",
         "82",
         null,
         null,
         null,
         "vijayawada",
         "106",
         "vijayawada",
         "16.5061743,80.6480153"
        ],
        [
         "40",
         "761785",
         "STBLR-4",
         "CAMP_SAN_01",
         "P14",
         "1020",
         "BOGOF",
         "121",
         "474",
         null,
         null,
         null,
         "bengaluru",
         "595",
         "bengaluru",
         "12.9716,77.5946"
        ],
        [
         "41",
         "eb3bea",
         "STVSK-2",
         "CAMP_SAN_01",
         "P15",
         "3000",
         "500 Cashback",
         "109",
         "238",
         null,
         null,
         null,
         "visakhapatnam",
         "347",
         "visakhapatnam",
         "17.6868,83.2185"
        ],
        [
         "42",
         "276150",
         "STCBE-3",
         "CAMP_SAN_01",
         "P07",
         "300",
         "BOGOF",
         "33",
         "128",
         null,
         null,
         null,
         "coimbatore",
         "161",
         "coimbatore",
         "11.0168445,76.9558321"
        ],
        [
         "43",
         "3beb46",
         "STMYS-2",
         "CAMP_SAN_01",
         "P13",
         "350",
         "BOGOF",
         "81",
         "208",
         null,
         null,
         null,
         "mysuru",
         "289",
         "mysuru",
         "12.2958104,76.6393805"
        ],
        [
         "44",
         "47af00",
         "STVJD-1",
         "CAMP_DIW_01",
         "P03",
         "156",
         "25% OFF",
         "183",
         "150",
         null,
         null,
         null,
         "vijayawada",
         "333",
         "vijayawada",
         "16.5061743,80.6480153"
        ],
        [
         "45",
         "627200",
         "STCBE-4",
         "CAMP_DIW_01",
         "P14",
         "1020",
         "BOGOF",
         "36",
         "111",
         null,
         null,
         null,
         "coimbatore",
         "147",
         "coimbatore",
         "11.0168445,76.9558321"
        ],
        [
         "46",
         "bc8315",
         "STHYD-1",
         "CAMP_DIW_01",
         "P12",
         "62",
         "50% OFF",
         "122",
         "135",
         null,
         null,
         null,
         "hyderabad",
         "257",
         "hyderabad",
         "17.3850,78.4867"
        ],
        [
         "47",
         "1f083a",
         "STVJD-0",
         "CAMP_SAN_01",
         "P06",
         "415",
         "25% OFF",
         "16",
         "14",
         null,
         null,
         null,
         "vijayawada",
         "30",
         "vijayawada",
         "16.5061743,80.6480153"
        ],
        [
         "48",
         "c1e0b6",
         "STCHE-6",
         "CAMP_SAN_01",
         "P01",
         "172",
         "33% OFF",
         "273",
         "379",
         null,
         null,
         null,
         "chennai",
         "652",
         "chennai",
         "13.0826802,80.2707184"
        ],
        [
         "49",
         "f60d93",
         "STCBE-0",
         "CAMP_DIW_01",
         "P05",
         "55",
         "25% OFF",
         "78",
         "75",
         null,
         null,
         null,
         "coimbatore",
         "153",
         "coimbatore",
         "11.0168445,76.9558321"
        ]
       ],
       "shape": {
        "columns": 15,
        "rows": 1500
       }
      },
      "text/html": [
       "<div>\n",
       "<style scoped>\n",
       "    .dataframe tbody tr th:only-of-type {\n",
       "        vertical-align: middle;\n",
       "    }\n",
       "\n",
       "    .dataframe tbody tr th {\n",
       "        vertical-align: top;\n",
       "    }\n",
       "\n",
       "    .dataframe thead th {\n",
       "        text-align: right;\n",
       "    }\n",
       "</style>\n",
       "<table border=\"1\" class=\"dataframe\">\n",
       "  <thead>\n",
       "    <tr style=\"text-align: right;\">\n",
       "      <th></th>\n",
       "      <th>event_id</th>\n",
       "      <th>store_id</th>\n",
       "      <th>campaign_id</th>\n",
       "      <th>product_code</th>\n",
       "      <th>base_price</th>\n",
       "      <th>promo_type</th>\n",
       "      <th>quantity_sold(before_promo)</th>\n",
       "      <th>quantity_sold(after_promo)</th>\n",
       "      <th>Unnamed: 8</th>\n",
       "      <th>Unnamed: 9</th>\n",
       "      <th>Unnamed: 10</th>\n",
       "      <th>city</th>\n",
       "      <th>total_quantity_sold</th>\n",
       "      <th>name_of_city</th>\n",
       "      <th>location</th>\n",
       "    </tr>\n",
       "  </thead>\n",
       "  <tbody>\n",
       "    <tr>\n",
       "      <th>0</th>\n",
       "      <td>7f650b</td>\n",
       "      <td>STCBE-2</td>\n",
       "      <td>CAMP_SAN_01</td>\n",
       "      <td>P11</td>\n",
       "      <td>190</td>\n",
       "      <td>50% OFF</td>\n",
       "      <td>34</td>\n",
       "      <td>52</td>\n",
       "      <td>NaN</td>\n",
       "      <td>NaN</td>\n",
       "      <td>NaN</td>\n",
       "      <td>coimbatore</td>\n",
       "      <td>86</td>\n",
       "      <td>coimbatore</td>\n",
       "      <td>11.0168445,76.9558321</td>\n",
       "    </tr>\n",
       "    <tr>\n",
       "      <th>1</th>\n",
       "      <td>a21f91</td>\n",
       "      <td>STBLR-8</td>\n",
       "      <td>CAMP_DIW_01</td>\n",
       "      <td>P03</td>\n",
       "      <td>156</td>\n",
       "      <td>25% OFF</td>\n",
       "      <td>393</td>\n",
       "      <td>322</td>\n",
       "      <td>NaN</td>\n",
       "      <td>NaN</td>\n",
       "      <td>NaN</td>\n",
       "      <td>bengaluru</td>\n",
       "      <td>715</td>\n",
       "      <td>bengaluru</td>\n",
       "      <td>12.9716,77.5946</td>\n",
       "    </tr>\n",
       "    <tr>\n",
       "      <th>2</th>\n",
       "      <td>78bc80</td>\n",
       "      <td>STVJD-0</td>\n",
       "      <td>CAMP_SAN_01</td>\n",
       "      <td>P07</td>\n",
       "      <td>300</td>\n",
       "      <td>BOGOF</td>\n",
       "      <td>22</td>\n",
       "      <td>85</td>\n",
       "      <td>NaN</td>\n",
       "      <td>NaN</td>\n",
       "      <td>NaN</td>\n",
       "      <td>vijayawada</td>\n",
       "      <td>107</td>\n",
       "      <td>vijayawada</td>\n",
       "      <td>16.5061743,80.6480153</td>\n",
       "    </tr>\n",
       "    <tr>\n",
       "      <th>3</th>\n",
       "      <td>a1503f</td>\n",
       "      <td>STCBE-1</td>\n",
       "      <td>CAMP_DIW_01</td>\n",
       "      <td>P15</td>\n",
       "      <td>3000</td>\n",
       "      <td>500 Cashback</td>\n",
       "      <td>329</td>\n",
       "      <td>1000</td>\n",
       "      <td>NaN</td>\n",
       "      <td>NaN</td>\n",
       "      <td>NaN</td>\n",
       "      <td>coimbatore</td>\n",
       "      <td>1329</td>\n",
       "      <td>coimbatore</td>\n",
       "      <td>11.0168445,76.9558321</td>\n",
       "    </tr>\n",
       "    <tr>\n",
       "      <th>4</th>\n",
       "      <td>1091cf</td>\n",
       "      <td>STBLR-6</td>\n",
       "      <td>CAMP_DIW_01</td>\n",
       "      <td>P05</td>\n",
       "      <td>55</td>\n",
       "      <td>25% OFF</td>\n",
       "      <td>108</td>\n",
       "      <td>93</td>\n",
       "      <td>NaN</td>\n",
       "      <td>NaN</td>\n",
       "      <td>NaN</td>\n",
       "      <td>bengaluru</td>\n",
       "      <td>201</td>\n",
       "      <td>bengaluru</td>\n",
       "      <td>12.9716,77.5946</td>\n",
       "    </tr>\n",
       "    <tr>\n",
       "      <th>...</th>\n",
       "      <td>...</td>\n",
       "      <td>...</td>\n",
       "      <td>...</td>\n",
       "      <td>...</td>\n",
       "      <td>...</td>\n",
       "      <td>...</td>\n",
       "      <td>...</td>\n",
       "      <td>...</td>\n",
       "      <td>...</td>\n",
       "      <td>...</td>\n",
       "      <td>...</td>\n",
       "      <td>...</td>\n",
       "      <td>...</td>\n",
       "      <td>...</td>\n",
       "      <td>...</td>\n",
       "    </tr>\n",
       "    <tr>\n",
       "      <th>1495</th>\n",
       "      <td>1e8961</td>\n",
       "      <td>STBLR-3</td>\n",
       "      <td>CAMP_SAN_01</td>\n",
       "      <td>P12</td>\n",
       "      <td>62</td>\n",
       "      <td>50% OFF</td>\n",
       "      <td>61</td>\n",
       "      <td>84</td>\n",
       "      <td>NaN</td>\n",
       "      <td>NaN</td>\n",
       "      <td>NaN</td>\n",
       "      <td>bengaluru</td>\n",
       "      <td>145</td>\n",
       "      <td>bengaluru</td>\n",
       "      <td>12.9716,77.5946</td>\n",
       "    </tr>\n",
       "    <tr>\n",
       "      <th>1496</th>\n",
       "      <td>f957f1</td>\n",
       "      <td>STMDU-1</td>\n",
       "      <td>CAMP_SAN_01</td>\n",
       "      <td>P10</td>\n",
       "      <td>50</td>\n",
       "      <td>25% OFF</td>\n",
       "      <td>22</td>\n",
       "      <td>18</td>\n",
       "      <td>NaN</td>\n",
       "      <td>NaN</td>\n",
       "      <td>NaN</td>\n",
       "      <td>madurai</td>\n",
       "      <td>40</td>\n",
       "      <td>madurai</td>\n",
       "      <td>9.9252007,78.1197754</td>\n",
       "    </tr>\n",
       "    <tr>\n",
       "      <th>1497</th>\n",
       "      <td>a9ae21</td>\n",
       "      <td>STCBE-0</td>\n",
       "      <td>CAMP_DIW_01</td>\n",
       "      <td>P12</td>\n",
       "      <td>62</td>\n",
       "      <td>50% OFF</td>\n",
       "      <td>80</td>\n",
       "      <td>119</td>\n",
       "      <td>NaN</td>\n",
       "      <td>NaN</td>\n",
       "      <td>NaN</td>\n",
       "      <td>coimbatore</td>\n",
       "      <td>199</td>\n",
       "      <td>coimbatore</td>\n",
       "      <td>11.0168445,76.9558321</td>\n",
       "    </tr>\n",
       "    <tr>\n",
       "      <th>1498</th>\n",
       "      <td>e5d28d</td>\n",
       "      <td>STVSK-0</td>\n",
       "      <td>CAMP_SAN_01</td>\n",
       "      <td>P13</td>\n",
       "      <td>350</td>\n",
       "      <td>BOGOF</td>\n",
       "      <td>73</td>\n",
       "      <td>282</td>\n",
       "      <td>NaN</td>\n",
       "      <td>NaN</td>\n",
       "      <td>NaN</td>\n",
       "      <td>visakhapatnam</td>\n",
       "      <td>355</td>\n",
       "      <td>visakhapatnam</td>\n",
       "      <td>17.6868,83.2185</td>\n",
       "    </tr>\n",
       "    <tr>\n",
       "      <th>1499</th>\n",
       "      <td>4d22d1</td>\n",
       "      <td>STBLR-9</td>\n",
       "      <td>CAMP_SAN_01</td>\n",
       "      <td>P12</td>\n",
       "      <td>62</td>\n",
       "      <td>50% OFF</td>\n",
       "      <td>52</td>\n",
       "      <td>73</td>\n",
       "      <td>NaN</td>\n",
       "      <td>NaN</td>\n",
       "      <td>NaN</td>\n",
       "      <td>bengaluru</td>\n",
       "      <td>125</td>\n",
       "      <td>bengaluru</td>\n",
       "      <td>12.9716,77.5946</td>\n",
       "    </tr>\n",
       "  </tbody>\n",
       "</table>\n",
       "<p>1500 rows × 15 columns</p>\n",
       "</div>"
      ],
      "text/plain": [
       "     event_id store_id  campaign_id product_code  base_price    promo_type  \\\n",
       "0      7f650b  STCBE-2  CAMP_SAN_01          P11         190       50% OFF   \n",
       "1      a21f91  STBLR-8  CAMP_DIW_01          P03         156       25% OFF   \n",
       "2      78bc80  STVJD-0  CAMP_SAN_01          P07         300         BOGOF   \n",
       "3      a1503f  STCBE-1  CAMP_DIW_01          P15        3000  500 Cashback   \n",
       "4      1091cf  STBLR-6  CAMP_DIW_01          P05          55       25% OFF   \n",
       "...       ...      ...          ...          ...         ...           ...   \n",
       "1495   1e8961  STBLR-3  CAMP_SAN_01          P12          62       50% OFF   \n",
       "1496   f957f1  STMDU-1  CAMP_SAN_01          P10          50       25% OFF   \n",
       "1497   a9ae21  STCBE-0  CAMP_DIW_01          P12          62       50% OFF   \n",
       "1498   e5d28d  STVSK-0  CAMP_SAN_01          P13         350         BOGOF   \n",
       "1499   4d22d1  STBLR-9  CAMP_SAN_01          P12          62       50% OFF   \n",
       "\n",
       "      quantity_sold(before_promo)  quantity_sold(after_promo)  Unnamed: 8  \\\n",
       "0                              34                          52         NaN   \n",
       "1                             393                         322         NaN   \n",
       "2                              22                          85         NaN   \n",
       "3                             329                        1000         NaN   \n",
       "4                             108                          93         NaN   \n",
       "...                           ...                         ...         ...   \n",
       "1495                           61                          84         NaN   \n",
       "1496                           22                          18         NaN   \n",
       "1497                           80                         119         NaN   \n",
       "1498                           73                         282         NaN   \n",
       "1499                           52                          73         NaN   \n",
       "\n",
       "      Unnamed: 9  Unnamed: 10           city  total_quantity_sold  \\\n",
       "0            NaN          NaN     coimbatore                   86   \n",
       "1            NaN          NaN      bengaluru                  715   \n",
       "2            NaN          NaN     vijayawada                  107   \n",
       "3            NaN          NaN     coimbatore                 1329   \n",
       "4            NaN          NaN      bengaluru                  201   \n",
       "...          ...          ...            ...                  ...   \n",
       "1495         NaN          NaN      bengaluru                  145   \n",
       "1496         NaN          NaN        madurai                   40   \n",
       "1497         NaN          NaN     coimbatore                  199   \n",
       "1498         NaN          NaN  visakhapatnam                  355   \n",
       "1499         NaN          NaN      bengaluru                  125   \n",
       "\n",
       "       name_of_city               location  \n",
       "0        coimbatore  11.0168445,76.9558321  \n",
       "1         bengaluru        12.9716,77.5946  \n",
       "2        vijayawada  16.5061743,80.6480153  \n",
       "3        coimbatore  11.0168445,76.9558321  \n",
       "4         bengaluru        12.9716,77.5946  \n",
       "...             ...                    ...  \n",
       "1495      bengaluru        12.9716,77.5946  \n",
       "1496        madurai   9.9252007,78.1197754  \n",
       "1497     coimbatore  11.0168445,76.9558321  \n",
       "1498  visakhapatnam        17.6868,83.2185  \n",
       "1499      bengaluru        12.9716,77.5946  \n",
       "\n",
       "[1500 rows x 15 columns]"
      ]
     },
     "execution_count": 43,
     "metadata": {},
     "output_type": "execute_result"
    }
   ],
   "source": [
    "# --- Step 2: Merge city coordinates with event data ---\n",
    "merged_data = pd.merge(\n",
    "    event_data_clean, \n",
    "    city_coords[['name_of_city', 'location']], \n",
    "    left_on='city', \n",
    "    right_on='name_of_city', \n",
    "    how='left'\n",
    ")\n",
    "merged_data"
   ]
  },
  {
   "cell_type": "code",
   "execution_count": 44,
   "id": "55c82a80",
   "metadata": {},
   "outputs": [],
   "source": [
    "# --- Step 3: Aggregate total quantity sold per city ---\n",
    "city_sales = merged_data.groupby(\n",
    "    ['city', 'location'], \n",
    "    as_index=False\n",
    ")['total_quantity_sold'].sum()\n"
   ]
  },
  {
   "cell_type": "code",
   "execution_count": 45,
   "id": "bf8307f1",
   "metadata": {},
   "outputs": [
    {
     "data": {
      "application/vnd.microsoft.datawrangler.viewer.v0+json": {
       "columns": [
        {
         "name": "index",
         "rawType": "int64",
         "type": "integer"
        },
        {
         "name": "city",
         "rawType": "object",
         "type": "string"
        },
        {
         "name": "location",
         "rawType": "object",
         "type": "string"
        },
        {
         "name": "total_quantity_sold",
         "rawType": "int64",
         "type": "integer"
        },
        {
         "name": "lat",
         "rawType": "float64",
         "type": "float"
        },
        {
         "name": "lng",
         "rawType": "float64",
         "type": "float"
        }
       ],
       "ref": "d5aca24e-e8fb-46ff-90b8-cfc292f1d234",
       "rows": [
        [
         "0",
         "bengaluru",
         "12.9716,77.5946",
         "154312",
         "12.9716",
         "77.5946"
        ],
        [
         "1",
         "chennai",
         "13.0826802,80.2707184",
         "122778",
         "13.0826802",
         "80.2707184"
        ],
        [
         "2",
         "coimbatore",
         "11.0168445,76.9558321",
         "57050",
         "11.0168445",
         "76.9558321"
        ],
        [
         "3",
         "hyderabad",
         "17.3850,78.4867",
         "103762",
         "17.385",
         "78.4867"
        ],
        [
         "4",
         "madurai",
         "9.9252007,78.1197754",
         "45627",
         "9.9252007",
         "78.1197754"
        ],
        [
         "5",
         "mangalore",
         "12.9141417,74.8559568",
         "22458",
         "12.9141417",
         "74.8559568"
        ],
        [
         "6",
         "mysuru",
         "12.2958104,76.6393805",
         "56039",
         "12.2958104",
         "76.6393805"
        ],
        [
         "7",
         "trivandrum",
         "8.5241391,76.9366376",
         "15003",
         "8.5241391",
         "76.9366376"
        ],
        [
         "8",
         "vijayawada",
         "16.5061743,80.6480153",
         "16403",
         "16.5061743",
         "80.6480153"
        ],
        [
         "9",
         "visakhapatnam",
         "17.6868,83.2185",
         "51091",
         "17.6868",
         "83.2185"
        ]
       ],
       "shape": {
        "columns": 5,
        "rows": 10
       }
      },
      "text/html": [
       "<div>\n",
       "<style scoped>\n",
       "    .dataframe tbody tr th:only-of-type {\n",
       "        vertical-align: middle;\n",
       "    }\n",
       "\n",
       "    .dataframe tbody tr th {\n",
       "        vertical-align: top;\n",
       "    }\n",
       "\n",
       "    .dataframe thead th {\n",
       "        text-align: right;\n",
       "    }\n",
       "</style>\n",
       "<table border=\"1\" class=\"dataframe\">\n",
       "  <thead>\n",
       "    <tr style=\"text-align: right;\">\n",
       "      <th></th>\n",
       "      <th>city</th>\n",
       "      <th>location</th>\n",
       "      <th>total_quantity_sold</th>\n",
       "      <th>lat</th>\n",
       "      <th>lng</th>\n",
       "    </tr>\n",
       "  </thead>\n",
       "  <tbody>\n",
       "    <tr>\n",
       "      <th>0</th>\n",
       "      <td>bengaluru</td>\n",
       "      <td>12.9716,77.5946</td>\n",
       "      <td>154312</td>\n",
       "      <td>12.971600</td>\n",
       "      <td>77.594600</td>\n",
       "    </tr>\n",
       "    <tr>\n",
       "      <th>1</th>\n",
       "      <td>chennai</td>\n",
       "      <td>13.0826802,80.2707184</td>\n",
       "      <td>122778</td>\n",
       "      <td>13.082680</td>\n",
       "      <td>80.270718</td>\n",
       "    </tr>\n",
       "    <tr>\n",
       "      <th>2</th>\n",
       "      <td>coimbatore</td>\n",
       "      <td>11.0168445,76.9558321</td>\n",
       "      <td>57050</td>\n",
       "      <td>11.016844</td>\n",
       "      <td>76.955832</td>\n",
       "    </tr>\n",
       "    <tr>\n",
       "      <th>3</th>\n",
       "      <td>hyderabad</td>\n",
       "      <td>17.3850,78.4867</td>\n",
       "      <td>103762</td>\n",
       "      <td>17.385000</td>\n",
       "      <td>78.486700</td>\n",
       "    </tr>\n",
       "    <tr>\n",
       "      <th>4</th>\n",
       "      <td>madurai</td>\n",
       "      <td>9.9252007,78.1197754</td>\n",
       "      <td>45627</td>\n",
       "      <td>9.925201</td>\n",
       "      <td>78.119775</td>\n",
       "    </tr>\n",
       "    <tr>\n",
       "      <th>5</th>\n",
       "      <td>mangalore</td>\n",
       "      <td>12.9141417,74.8559568</td>\n",
       "      <td>22458</td>\n",
       "      <td>12.914142</td>\n",
       "      <td>74.855957</td>\n",
       "    </tr>\n",
       "    <tr>\n",
       "      <th>6</th>\n",
       "      <td>mysuru</td>\n",
       "      <td>12.2958104,76.6393805</td>\n",
       "      <td>56039</td>\n",
       "      <td>12.295810</td>\n",
       "      <td>76.639381</td>\n",
       "    </tr>\n",
       "    <tr>\n",
       "      <th>7</th>\n",
       "      <td>trivandrum</td>\n",
       "      <td>8.5241391,76.9366376</td>\n",
       "      <td>15003</td>\n",
       "      <td>8.524139</td>\n",
       "      <td>76.936638</td>\n",
       "    </tr>\n",
       "    <tr>\n",
       "      <th>8</th>\n",
       "      <td>vijayawada</td>\n",
       "      <td>16.5061743,80.6480153</td>\n",
       "      <td>16403</td>\n",
       "      <td>16.506174</td>\n",
       "      <td>80.648015</td>\n",
       "    </tr>\n",
       "    <tr>\n",
       "      <th>9</th>\n",
       "      <td>visakhapatnam</td>\n",
       "      <td>17.6868,83.2185</td>\n",
       "      <td>51091</td>\n",
       "      <td>17.686800</td>\n",
       "      <td>83.218500</td>\n",
       "    </tr>\n",
       "  </tbody>\n",
       "</table>\n",
       "</div>"
      ],
      "text/plain": [
       "            city               location  total_quantity_sold        lat  \\\n",
       "0      bengaluru        12.9716,77.5946               154312  12.971600   \n",
       "1        chennai  13.0826802,80.2707184               122778  13.082680   \n",
       "2     coimbatore  11.0168445,76.9558321                57050  11.016844   \n",
       "3      hyderabad        17.3850,78.4867               103762  17.385000   \n",
       "4        madurai   9.9252007,78.1197754                45627   9.925201   \n",
       "5      mangalore  12.9141417,74.8559568                22458  12.914142   \n",
       "6         mysuru  12.2958104,76.6393805                56039  12.295810   \n",
       "7     trivandrum   8.5241391,76.9366376                15003   8.524139   \n",
       "8     vijayawada  16.5061743,80.6480153                16403  16.506174   \n",
       "9  visakhapatnam        17.6868,83.2185                51091  17.686800   \n",
       "\n",
       "         lng  \n",
       "0  77.594600  \n",
       "1  80.270718  \n",
       "2  76.955832  \n",
       "3  78.486700  \n",
       "4  78.119775  \n",
       "5  74.855957  \n",
       "6  76.639381  \n",
       "7  76.936638  \n",
       "8  80.648015  \n",
       "9  83.218500  "
      ]
     },
     "execution_count": 45,
     "metadata": {},
     "output_type": "execute_result"
    }
   ],
   "source": [
    "city_sales[['lat', 'lng']] = city_sales['location'].str.split(',', expand=True).astype(float)\n",
    "city_sales\n",
    "#split the location column into lat and lng"
   ]
  },
  {
   "cell_type": "code",
   "execution_count": 46,
   "id": "f4f7fc4a",
   "metadata": {},
   "outputs": [],
   "source": [
    "# --- Step 4: Plot the bubble map for India ---\n",
    "fig = px.scatter_geo(\n",
    "    city_sales,\n",
    "    lat='lat',\n",
    "    lon='lng',\n",
    "    scope='asia',  # zooms in on Asia; we'll focus on India\n",
    "    hover_name='city',\n",
    "    size='total_quantity_sold',\n",
    "    projection='natural earth',\n",
    "    title='Total Sales per City in India',\n",
    "    size_max=40  # adjust max bubble size\n",
    ")"
   ]
  },
  {
   "cell_type": "code",
   "execution_count": 47,
   "id": "b701f0e3",
   "metadata": {},
   "outputs": [
    {
     "data": {
      "application/vnd.plotly.v1+json": {
       "config": {
        "plotlyServerURL": "https://plot.ly"
       },
       "data": [
        {
         "geo": "geo",
         "hovertemplate": "<b>%{hovertext}</b><br><br>total_quantity_sold=%{marker.size}<br>lat=%{lat}<br>lng=%{lon}<extra></extra>",
         "hovertext": [
          "bengaluru",
          "chennai",
          "coimbatore",
          "hyderabad",
          "madurai",
          "mangalore",
          "mysuru",
          "trivandrum",
          "vijayawada",
          "visakhapatnam"
         ],
         "lat": {
          "bdata": "U5YhjnXxKUCxDSYPVSoqQCU8odefCCZAw/UoXI9iMUD9ePnns9kjQNfRgmEK1ClAJKLzdXSXKEAYHMr1WwwhQGGTkKOUgTBAj+TyH9KvMUA=",
          "dtype": "f8"
         },
         "legendgroup": "",
         "lon": {
          "bdata": "54wo7Q1mU0A7m0RzUxFUQON9ZlosPVNApb3BFyafU0Bhd3BmqodTQHyyB//HtlJAz0wwnOsoU0ANDdXe8TtTQLAzKhV5KVRARIts5/vNVEA=",
          "dtype": "f8"
         },
         "marker": {
          "color": "#636efa",
          "size": {
           "bdata": "yFoCAJrfAQDa3gAAUpUBADuyAAC6VwAA59oAAJs6AAATQAAAk8cAAA==",
           "dtype": "i4"
          },
          "sizemode": "area",
          "sizeref": 96.445,
          "symbol": "circle"
         },
         "mode": "markers",
         "name": "",
         "showlegend": false,
         "type": "scattergeo"
        }
       ],
       "layout": {
        "geo": {
         "center": {},
         "countrycolor": "Black",
         "domain": {
          "x": [
           0,
           1
          ],
          "y": [
           0,
           1
          ]
         },
         "lataxis": {
          "range": [
           6,
           38
          ]
         },
         "lonaxis": {
          "range": [
           68,
           98
          ]
         },
         "projection": {
          "type": "natural earth"
         },
         "scope": "asia",
         "showcountries": true,
         "showsubunits": true,
         "subunitcolor": "Gray"
        },
        "legend": {
         "itemsizing": "constant",
         "tracegroupgap": 0
        },
        "template": {
         "data": {
          "bar": [
           {
            "error_x": {
             "color": "#2a3f5f"
            },
            "error_y": {
             "color": "#2a3f5f"
            },
            "marker": {
             "line": {
              "color": "#E5ECF6",
              "width": 0.5
             },
             "pattern": {
              "fillmode": "overlay",
              "size": 10,
              "solidity": 0.2
             }
            },
            "type": "bar"
           }
          ],
          "barpolar": [
           {
            "marker": {
             "line": {
              "color": "#E5ECF6",
              "width": 0.5
             },
             "pattern": {
              "fillmode": "overlay",
              "size": 10,
              "solidity": 0.2
             }
            },
            "type": "barpolar"
           }
          ],
          "carpet": [
           {
            "aaxis": {
             "endlinecolor": "#2a3f5f",
             "gridcolor": "white",
             "linecolor": "white",
             "minorgridcolor": "white",
             "startlinecolor": "#2a3f5f"
            },
            "baxis": {
             "endlinecolor": "#2a3f5f",
             "gridcolor": "white",
             "linecolor": "white",
             "minorgridcolor": "white",
             "startlinecolor": "#2a3f5f"
            },
            "type": "carpet"
           }
          ],
          "choropleth": [
           {
            "colorbar": {
             "outlinewidth": 0,
             "ticks": ""
            },
            "type": "choropleth"
           }
          ],
          "contour": [
           {
            "colorbar": {
             "outlinewidth": 0,
             "ticks": ""
            },
            "colorscale": [
             [
              0,
              "#0d0887"
             ],
             [
              0.1111111111111111,
              "#46039f"
             ],
             [
              0.2222222222222222,
              "#7201a8"
             ],
             [
              0.3333333333333333,
              "#9c179e"
             ],
             [
              0.4444444444444444,
              "#bd3786"
             ],
             [
              0.5555555555555556,
              "#d8576b"
             ],
             [
              0.6666666666666666,
              "#ed7953"
             ],
             [
              0.7777777777777778,
              "#fb9f3a"
             ],
             [
              0.8888888888888888,
              "#fdca26"
             ],
             [
              1,
              "#f0f921"
             ]
            ],
            "type": "contour"
           }
          ],
          "contourcarpet": [
           {
            "colorbar": {
             "outlinewidth": 0,
             "ticks": ""
            },
            "type": "contourcarpet"
           }
          ],
          "heatmap": [
           {
            "colorbar": {
             "outlinewidth": 0,
             "ticks": ""
            },
            "colorscale": [
             [
              0,
              "#0d0887"
             ],
             [
              0.1111111111111111,
              "#46039f"
             ],
             [
              0.2222222222222222,
              "#7201a8"
             ],
             [
              0.3333333333333333,
              "#9c179e"
             ],
             [
              0.4444444444444444,
              "#bd3786"
             ],
             [
              0.5555555555555556,
              "#d8576b"
             ],
             [
              0.6666666666666666,
              "#ed7953"
             ],
             [
              0.7777777777777778,
              "#fb9f3a"
             ],
             [
              0.8888888888888888,
              "#fdca26"
             ],
             [
              1,
              "#f0f921"
             ]
            ],
            "type": "heatmap"
           }
          ],
          "histogram": [
           {
            "marker": {
             "pattern": {
              "fillmode": "overlay",
              "size": 10,
              "solidity": 0.2
             }
            },
            "type": "histogram"
           }
          ],
          "histogram2d": [
           {
            "colorbar": {
             "outlinewidth": 0,
             "ticks": ""
            },
            "colorscale": [
             [
              0,
              "#0d0887"
             ],
             [
              0.1111111111111111,
              "#46039f"
             ],
             [
              0.2222222222222222,
              "#7201a8"
             ],
             [
              0.3333333333333333,
              "#9c179e"
             ],
             [
              0.4444444444444444,
              "#bd3786"
             ],
             [
              0.5555555555555556,
              "#d8576b"
             ],
             [
              0.6666666666666666,
              "#ed7953"
             ],
             [
              0.7777777777777778,
              "#fb9f3a"
             ],
             [
              0.8888888888888888,
              "#fdca26"
             ],
             [
              1,
              "#f0f921"
             ]
            ],
            "type": "histogram2d"
           }
          ],
          "histogram2dcontour": [
           {
            "colorbar": {
             "outlinewidth": 0,
             "ticks": ""
            },
            "colorscale": [
             [
              0,
              "#0d0887"
             ],
             [
              0.1111111111111111,
              "#46039f"
             ],
             [
              0.2222222222222222,
              "#7201a8"
             ],
             [
              0.3333333333333333,
              "#9c179e"
             ],
             [
              0.4444444444444444,
              "#bd3786"
             ],
             [
              0.5555555555555556,
              "#d8576b"
             ],
             [
              0.6666666666666666,
              "#ed7953"
             ],
             [
              0.7777777777777778,
              "#fb9f3a"
             ],
             [
              0.8888888888888888,
              "#fdca26"
             ],
             [
              1,
              "#f0f921"
             ]
            ],
            "type": "histogram2dcontour"
           }
          ],
          "mesh3d": [
           {
            "colorbar": {
             "outlinewidth": 0,
             "ticks": ""
            },
            "type": "mesh3d"
           }
          ],
          "parcoords": [
           {
            "line": {
             "colorbar": {
              "outlinewidth": 0,
              "ticks": ""
             }
            },
            "type": "parcoords"
           }
          ],
          "pie": [
           {
            "automargin": true,
            "type": "pie"
           }
          ],
          "scatter": [
           {
            "fillpattern": {
             "fillmode": "overlay",
             "size": 10,
             "solidity": 0.2
            },
            "type": "scatter"
           }
          ],
          "scatter3d": [
           {
            "line": {
             "colorbar": {
              "outlinewidth": 0,
              "ticks": ""
             }
            },
            "marker": {
             "colorbar": {
              "outlinewidth": 0,
              "ticks": ""
             }
            },
            "type": "scatter3d"
           }
          ],
          "scattercarpet": [
           {
            "marker": {
             "colorbar": {
              "outlinewidth": 0,
              "ticks": ""
             }
            },
            "type": "scattercarpet"
           }
          ],
          "scattergeo": [
           {
            "marker": {
             "colorbar": {
              "outlinewidth": 0,
              "ticks": ""
             }
            },
            "type": "scattergeo"
           }
          ],
          "scattergl": [
           {
            "marker": {
             "colorbar": {
              "outlinewidth": 0,
              "ticks": ""
             }
            },
            "type": "scattergl"
           }
          ],
          "scattermap": [
           {
            "marker": {
             "colorbar": {
              "outlinewidth": 0,
              "ticks": ""
             }
            },
            "type": "scattermap"
           }
          ],
          "scattermapbox": [
           {
            "marker": {
             "colorbar": {
              "outlinewidth": 0,
              "ticks": ""
             }
            },
            "type": "scattermapbox"
           }
          ],
          "scatterpolar": [
           {
            "marker": {
             "colorbar": {
              "outlinewidth": 0,
              "ticks": ""
             }
            },
            "type": "scatterpolar"
           }
          ],
          "scatterpolargl": [
           {
            "marker": {
             "colorbar": {
              "outlinewidth": 0,
              "ticks": ""
             }
            },
            "type": "scatterpolargl"
           }
          ],
          "scatterternary": [
           {
            "marker": {
             "colorbar": {
              "outlinewidth": 0,
              "ticks": ""
             }
            },
            "type": "scatterternary"
           }
          ],
          "surface": [
           {
            "colorbar": {
             "outlinewidth": 0,
             "ticks": ""
            },
            "colorscale": [
             [
              0,
              "#0d0887"
             ],
             [
              0.1111111111111111,
              "#46039f"
             ],
             [
              0.2222222222222222,
              "#7201a8"
             ],
             [
              0.3333333333333333,
              "#9c179e"
             ],
             [
              0.4444444444444444,
              "#bd3786"
             ],
             [
              0.5555555555555556,
              "#d8576b"
             ],
             [
              0.6666666666666666,
              "#ed7953"
             ],
             [
              0.7777777777777778,
              "#fb9f3a"
             ],
             [
              0.8888888888888888,
              "#fdca26"
             ],
             [
              1,
              "#f0f921"
             ]
            ],
            "type": "surface"
           }
          ],
          "table": [
           {
            "cells": {
             "fill": {
              "color": "#EBF0F8"
             },
             "line": {
              "color": "white"
             }
            },
            "header": {
             "fill": {
              "color": "#C8D4E3"
             },
             "line": {
              "color": "white"
             }
            },
            "type": "table"
           }
          ]
         },
         "layout": {
          "annotationdefaults": {
           "arrowcolor": "#2a3f5f",
           "arrowhead": 0,
           "arrowwidth": 1
          },
          "autotypenumbers": "strict",
          "coloraxis": {
           "colorbar": {
            "outlinewidth": 0,
            "ticks": ""
           }
          },
          "colorscale": {
           "diverging": [
            [
             0,
             "#8e0152"
            ],
            [
             0.1,
             "#c51b7d"
            ],
            [
             0.2,
             "#de77ae"
            ],
            [
             0.3,
             "#f1b6da"
            ],
            [
             0.4,
             "#fde0ef"
            ],
            [
             0.5,
             "#f7f7f7"
            ],
            [
             0.6,
             "#e6f5d0"
            ],
            [
             0.7,
             "#b8e186"
            ],
            [
             0.8,
             "#7fbc41"
            ],
            [
             0.9,
             "#4d9221"
            ],
            [
             1,
             "#276419"
            ]
           ],
           "sequential": [
            [
             0,
             "#0d0887"
            ],
            [
             0.1111111111111111,
             "#46039f"
            ],
            [
             0.2222222222222222,
             "#7201a8"
            ],
            [
             0.3333333333333333,
             "#9c179e"
            ],
            [
             0.4444444444444444,
             "#bd3786"
            ],
            [
             0.5555555555555556,
             "#d8576b"
            ],
            [
             0.6666666666666666,
             "#ed7953"
            ],
            [
             0.7777777777777778,
             "#fb9f3a"
            ],
            [
             0.8888888888888888,
             "#fdca26"
            ],
            [
             1,
             "#f0f921"
            ]
           ],
           "sequentialminus": [
            [
             0,
             "#0d0887"
            ],
            [
             0.1111111111111111,
             "#46039f"
            ],
            [
             0.2222222222222222,
             "#7201a8"
            ],
            [
             0.3333333333333333,
             "#9c179e"
            ],
            [
             0.4444444444444444,
             "#bd3786"
            ],
            [
             0.5555555555555556,
             "#d8576b"
            ],
            [
             0.6666666666666666,
             "#ed7953"
            ],
            [
             0.7777777777777778,
             "#fb9f3a"
            ],
            [
             0.8888888888888888,
             "#fdca26"
            ],
            [
             1,
             "#f0f921"
            ]
           ]
          },
          "colorway": [
           "#636efa",
           "#EF553B",
           "#00cc96",
           "#ab63fa",
           "#FFA15A",
           "#19d3f3",
           "#FF6692",
           "#B6E880",
           "#FF97FF",
           "#FECB52"
          ],
          "font": {
           "color": "#2a3f5f"
          },
          "geo": {
           "bgcolor": "white",
           "lakecolor": "white",
           "landcolor": "#E5ECF6",
           "showlakes": true,
           "showland": true,
           "subunitcolor": "white"
          },
          "hoverlabel": {
           "align": "left"
          },
          "hovermode": "closest",
          "mapbox": {
           "style": "light"
          },
          "paper_bgcolor": "white",
          "plot_bgcolor": "#E5ECF6",
          "polar": {
           "angularaxis": {
            "gridcolor": "white",
            "linecolor": "white",
            "ticks": ""
           },
           "bgcolor": "#E5ECF6",
           "radialaxis": {
            "gridcolor": "white",
            "linecolor": "white",
            "ticks": ""
           }
          },
          "scene": {
           "xaxis": {
            "backgroundcolor": "#E5ECF6",
            "gridcolor": "white",
            "gridwidth": 2,
            "linecolor": "white",
            "showbackground": true,
            "ticks": "",
            "zerolinecolor": "white"
           },
           "yaxis": {
            "backgroundcolor": "#E5ECF6",
            "gridcolor": "white",
            "gridwidth": 2,
            "linecolor": "white",
            "showbackground": true,
            "ticks": "",
            "zerolinecolor": "white"
           },
           "zaxis": {
            "backgroundcolor": "#E5ECF6",
            "gridcolor": "white",
            "gridwidth": 2,
            "linecolor": "white",
            "showbackground": true,
            "ticks": "",
            "zerolinecolor": "white"
           }
          },
          "shapedefaults": {
           "line": {
            "color": "#2a3f5f"
           }
          },
          "ternary": {
           "aaxis": {
            "gridcolor": "white",
            "linecolor": "white",
            "ticks": ""
           },
           "baxis": {
            "gridcolor": "white",
            "linecolor": "white",
            "ticks": ""
           },
           "bgcolor": "#E5ECF6",
           "caxis": {
            "gridcolor": "white",
            "linecolor": "white",
            "ticks": ""
           }
          },
          "title": {
           "x": 0.05
          },
          "xaxis": {
           "automargin": true,
           "gridcolor": "white",
           "linecolor": "white",
           "ticks": "",
           "title": {
            "standoff": 15
           },
           "zerolinecolor": "white",
           "zerolinewidth": 2
          },
          "yaxis": {
           "automargin": true,
           "gridcolor": "white",
           "linecolor": "white",
           "ticks": "",
           "title": {
            "standoff": 15
           },
           "zerolinecolor": "white",
           "zerolinewidth": 2
          }
         }
        },
        "title": {
         "text": "Total Sales per City in India"
        }
       }
      }
     },
     "metadata": {},
     "output_type": "display_data"
    }
   ],
   "source": [
    "fig.update_geos(\n",
    "    showcountries=True, countrycolor=\"Black\",\n",
    "    showsubunits=True, subunitcolor=\"Gray\",\n",
    "    lataxis_range=[6, 38], lonaxis_range=[68, 98]  # India lat/lon bounds\n",
    ")\n",
    "\n",
    "fig.show()"
   ]
  },
  {
   "cell_type": "code",
   "execution_count": 48,
   "id": "567586ca",
   "metadata": {},
   "outputs": [
    {
     "data": {
      "application/vnd.microsoft.datawrangler.viewer.v0+json": {
       "columns": [
        {
         "name": "index",
         "rawType": "int64",
         "type": "integer"
        },
        {
         "name": "city",
         "rawType": "object",
         "type": "string"
        },
        {
         "name": "location",
         "rawType": "object",
         "type": "string"
        },
        {
         "name": "total_quantity_sold",
         "rawType": "int64",
         "type": "integer"
        },
        {
         "name": "lat",
         "rawType": "float64",
         "type": "float"
        },
        {
         "name": "lng",
         "rawType": "float64",
         "type": "float"
        },
        {
         "name": "quantity_before_promo",
         "rawType": "int64",
         "type": "integer"
        },
        {
         "name": "quantity_after_promo",
         "rawType": "int64",
         "type": "integer"
        }
       ],
       "ref": "970da051-205c-4855-aa4f-a21d089534f2",
       "rows": [
        [
         "0",
         "bengaluru",
         "12.9716,77.5946",
         "154312",
         "12.9716",
         "77.5946",
         "49171",
         "105141"
        ],
        [
         "1",
         "chennai",
         "13.0826802,80.2707184",
         "122778",
         "13.0826802",
         "80.2707184",
         "39505",
         "83273"
        ],
        [
         "2",
         "coimbatore",
         "11.0168445,76.9558321",
         "57050",
         "11.0168445",
         "76.9558321",
         "18150",
         "38900"
        ],
        [
         "3",
         "hyderabad",
         "17.3850,78.4867",
         "103762",
         "17.385",
         "78.4867",
         "34363",
         "69399"
        ],
        [
         "4",
         "madurai",
         "9.9252007,78.1197754",
         "45627",
         "9.9252007",
         "78.1197754",
         "14458",
         "31169"
        ],
        [
         "5",
         "mangalore",
         "12.9141417,74.8559568",
         "22458",
         "12.9141417",
         "74.8559568",
         "7529",
         "14929"
        ],
        [
         "6",
         "mysuru",
         "12.2958104,76.6393805",
         "56039",
         "12.2958104",
         "76.6393805",
         "18569",
         "37470"
        ],
        [
         "7",
         "trivandrum",
         "8.5241391,76.9366376",
         "15003",
         "8.5241391",
         "76.9366376",
         "4833",
         "10170"
        ],
        [
         "8",
         "vijayawada",
         "16.5061743,80.6480153",
         "16403",
         "16.5061743",
         "80.6480153",
         "5297",
         "11106"
        ],
        [
         "9",
         "visakhapatnam",
         "17.6868,83.2185",
         "51091",
         "17.6868",
         "83.2185",
         "17175",
         "33916"
        ]
       ],
       "shape": {
        "columns": 7,
        "rows": 10
       }
      },
      "text/html": [
       "<div>\n",
       "<style scoped>\n",
       "    .dataframe tbody tr th:only-of-type {\n",
       "        vertical-align: middle;\n",
       "    }\n",
       "\n",
       "    .dataframe tbody tr th {\n",
       "        vertical-align: top;\n",
       "    }\n",
       "\n",
       "    .dataframe thead th {\n",
       "        text-align: right;\n",
       "    }\n",
       "</style>\n",
       "<table border=\"1\" class=\"dataframe\">\n",
       "  <thead>\n",
       "    <tr style=\"text-align: right;\">\n",
       "      <th></th>\n",
       "      <th>city</th>\n",
       "      <th>location</th>\n",
       "      <th>total_quantity_sold</th>\n",
       "      <th>lat</th>\n",
       "      <th>lng</th>\n",
       "      <th>quantity_before_promo</th>\n",
       "      <th>quantity_after_promo</th>\n",
       "    </tr>\n",
       "  </thead>\n",
       "  <tbody>\n",
       "    <tr>\n",
       "      <th>0</th>\n",
       "      <td>bengaluru</td>\n",
       "      <td>12.9716,77.5946</td>\n",
       "      <td>154312</td>\n",
       "      <td>12.971600</td>\n",
       "      <td>77.594600</td>\n",
       "      <td>49171</td>\n",
       "      <td>105141</td>\n",
       "    </tr>\n",
       "    <tr>\n",
       "      <th>1</th>\n",
       "      <td>chennai</td>\n",
       "      <td>13.0826802,80.2707184</td>\n",
       "      <td>122778</td>\n",
       "      <td>13.082680</td>\n",
       "      <td>80.270718</td>\n",
       "      <td>39505</td>\n",
       "      <td>83273</td>\n",
       "    </tr>\n",
       "    <tr>\n",
       "      <th>2</th>\n",
       "      <td>coimbatore</td>\n",
       "      <td>11.0168445,76.9558321</td>\n",
       "      <td>57050</td>\n",
       "      <td>11.016844</td>\n",
       "      <td>76.955832</td>\n",
       "      <td>18150</td>\n",
       "      <td>38900</td>\n",
       "    </tr>\n",
       "    <tr>\n",
       "      <th>3</th>\n",
       "      <td>hyderabad</td>\n",
       "      <td>17.3850,78.4867</td>\n",
       "      <td>103762</td>\n",
       "      <td>17.385000</td>\n",
       "      <td>78.486700</td>\n",
       "      <td>34363</td>\n",
       "      <td>69399</td>\n",
       "    </tr>\n",
       "    <tr>\n",
       "      <th>4</th>\n",
       "      <td>madurai</td>\n",
       "      <td>9.9252007,78.1197754</td>\n",
       "      <td>45627</td>\n",
       "      <td>9.925201</td>\n",
       "      <td>78.119775</td>\n",
       "      <td>14458</td>\n",
       "      <td>31169</td>\n",
       "    </tr>\n",
       "    <tr>\n",
       "      <th>5</th>\n",
       "      <td>mangalore</td>\n",
       "      <td>12.9141417,74.8559568</td>\n",
       "      <td>22458</td>\n",
       "      <td>12.914142</td>\n",
       "      <td>74.855957</td>\n",
       "      <td>7529</td>\n",
       "      <td>14929</td>\n",
       "    </tr>\n",
       "    <tr>\n",
       "      <th>6</th>\n",
       "      <td>mysuru</td>\n",
       "      <td>12.2958104,76.6393805</td>\n",
       "      <td>56039</td>\n",
       "      <td>12.295810</td>\n",
       "      <td>76.639381</td>\n",
       "      <td>18569</td>\n",
       "      <td>37470</td>\n",
       "    </tr>\n",
       "    <tr>\n",
       "      <th>7</th>\n",
       "      <td>trivandrum</td>\n",
       "      <td>8.5241391,76.9366376</td>\n",
       "      <td>15003</td>\n",
       "      <td>8.524139</td>\n",
       "      <td>76.936638</td>\n",
       "      <td>4833</td>\n",
       "      <td>10170</td>\n",
       "    </tr>\n",
       "    <tr>\n",
       "      <th>8</th>\n",
       "      <td>vijayawada</td>\n",
       "      <td>16.5061743,80.6480153</td>\n",
       "      <td>16403</td>\n",
       "      <td>16.506174</td>\n",
       "      <td>80.648015</td>\n",
       "      <td>5297</td>\n",
       "      <td>11106</td>\n",
       "    </tr>\n",
       "    <tr>\n",
       "      <th>9</th>\n",
       "      <td>visakhapatnam</td>\n",
       "      <td>17.6868,83.2185</td>\n",
       "      <td>51091</td>\n",
       "      <td>17.686800</td>\n",
       "      <td>83.218500</td>\n",
       "      <td>17175</td>\n",
       "      <td>33916</td>\n",
       "    </tr>\n",
       "  </tbody>\n",
       "</table>\n",
       "</div>"
      ],
      "text/plain": [
       "            city               location  total_quantity_sold        lat  \\\n",
       "0      bengaluru        12.9716,77.5946               154312  12.971600   \n",
       "1        chennai  13.0826802,80.2707184               122778  13.082680   \n",
       "2     coimbatore  11.0168445,76.9558321                57050  11.016844   \n",
       "3      hyderabad        17.3850,78.4867               103762  17.385000   \n",
       "4        madurai   9.9252007,78.1197754                45627   9.925201   \n",
       "5      mangalore  12.9141417,74.8559568                22458  12.914142   \n",
       "6         mysuru  12.2958104,76.6393805                56039  12.295810   \n",
       "7     trivandrum   8.5241391,76.9366376                15003   8.524139   \n",
       "8     vijayawada  16.5061743,80.6480153                16403  16.506174   \n",
       "9  visakhapatnam        17.6868,83.2185                51091  17.686800   \n",
       "\n",
       "         lng  quantity_before_promo  quantity_after_promo  \n",
       "0  77.594600                  49171                105141  \n",
       "1  80.270718                  39505                 83273  \n",
       "2  76.955832                  18150                 38900  \n",
       "3  78.486700                  34363                 69399  \n",
       "4  78.119775                  14458                 31169  \n",
       "5  74.855957                   7529                 14929  \n",
       "6  76.639381                  18569                 37470  \n",
       "7  76.936638                   4833                 10170  \n",
       "8  80.648015                   5297                 11106  \n",
       "9  83.218500                  17175                 33916  "
      ]
     },
     "execution_count": 48,
     "metadata": {},
     "output_type": "execute_result"
    }
   ],
   "source": [
    "# Step 1: Aggregate quantity before and after sale per city\n",
    "city_quantities = event_data_clean.groupby('city', as_index=False)[\n",
    "    ['quantity_sold(before_promo)', 'quantity_sold(after_promo)']\n",
    "].sum()\n",
    "\n",
    "# Optional: rename columns to simpler names\n",
    "city_quantities.rename(columns={\n",
    "    'quantity_sold(before_promo)': 'quantity_before_promo',\n",
    "    'quantity_sold(after_promo)': 'quantity_after_promo'\n",
    "}, inplace=True)\n",
    "\n",
    "# Step 2: Merge with city_sales\n",
    "city_sales = pd.merge(\n",
    "    city_sales,\n",
    "    city_quantities,\n",
    "    on='city',\n",
    "    how='left'\n",
    ")\n",
    "\n",
    "# Check result\n",
    "city_sales\n"
   ]
  },
  {
   "cell_type": "code",
   "execution_count": 49,
   "id": "29e3dcdf",
   "metadata": {},
   "outputs": [
    {
     "data": {
      "application/vnd.plotly.v1+json": {
       "config": {
        "plotlyServerURL": "https://plot.ly"
       },
       "data": [
        {
         "geo": "geo",
         "hovertemplate": "<b>%{hovertext}</b><br><br>quantity_before_promo=%{marker.size}<br>lat=%{lat}<br>lng=%{lon}<extra></extra>",
         "hovertext": [
          "bengaluru",
          "chennai",
          "coimbatore",
          "hyderabad",
          "madurai",
          "mangalore",
          "mysuru",
          "trivandrum",
          "vijayawada",
          "visakhapatnam"
         ],
         "lat": {
          "bdata": "U5YhjnXxKUCxDSYPVSoqQCU8odefCCZAw/UoXI9iMUD9ePnns9kjQNfRgmEK1ClAJKLzdXSXKEAYHMr1WwwhQGGTkKOUgTBAj+TyH9KvMUA=",
          "dtype": "f8"
         },
         "legendgroup": "",
         "lon": {
          "bdata": "54wo7Q1mU0A7m0RzUxFUQON9ZlosPVNApb3BFyafU0Bhd3BmqodTQHyyB//HtlJAz0wwnOsoU0ANDdXe8TtTQLAzKhV5KVRARIts5/vNVEA=",
          "dtype": "f8"
         },
         "marker": {
          "color": "#636efa",
          "size": {
           "bdata": "E8AAAFGaAADmRgAAO4YAAHo4AABpHQAAiUgAAOESAACxFAAAF0MAAA==",
           "dtype": "i4"
          },
          "sizemode": "area",
          "sizeref": 30.731875,
          "symbol": "circle"
         },
         "mode": "markers",
         "name": "",
         "showlegend": false,
         "type": "scattergeo"
        }
       ],
       "layout": {
        "geo": {
         "center": {},
         "countrycolor": "Black",
         "domain": {
          "x": [
           0,
           1
          ],
          "y": [
           0,
           1
          ]
         },
         "lataxis": {
          "range": [
           6,
           38
          ]
         },
         "lonaxis": {
          "range": [
           68,
           98
          ]
         },
         "projection": {
          "type": "natural earth"
         },
         "scope": "asia",
         "showcountries": true,
         "showsubunits": true,
         "subunitcolor": "Gray"
        },
        "legend": {
         "itemsizing": "constant",
         "tracegroupgap": 0
        },
        "template": {
         "data": {
          "bar": [
           {
            "error_x": {
             "color": "#2a3f5f"
            },
            "error_y": {
             "color": "#2a3f5f"
            },
            "marker": {
             "line": {
              "color": "#E5ECF6",
              "width": 0.5
             },
             "pattern": {
              "fillmode": "overlay",
              "size": 10,
              "solidity": 0.2
             }
            },
            "type": "bar"
           }
          ],
          "barpolar": [
           {
            "marker": {
             "line": {
              "color": "#E5ECF6",
              "width": 0.5
             },
             "pattern": {
              "fillmode": "overlay",
              "size": 10,
              "solidity": 0.2
             }
            },
            "type": "barpolar"
           }
          ],
          "carpet": [
           {
            "aaxis": {
             "endlinecolor": "#2a3f5f",
             "gridcolor": "white",
             "linecolor": "white",
             "minorgridcolor": "white",
             "startlinecolor": "#2a3f5f"
            },
            "baxis": {
             "endlinecolor": "#2a3f5f",
             "gridcolor": "white",
             "linecolor": "white",
             "minorgridcolor": "white",
             "startlinecolor": "#2a3f5f"
            },
            "type": "carpet"
           }
          ],
          "choropleth": [
           {
            "colorbar": {
             "outlinewidth": 0,
             "ticks": ""
            },
            "type": "choropleth"
           }
          ],
          "contour": [
           {
            "colorbar": {
             "outlinewidth": 0,
             "ticks": ""
            },
            "colorscale": [
             [
              0,
              "#0d0887"
             ],
             [
              0.1111111111111111,
              "#46039f"
             ],
             [
              0.2222222222222222,
              "#7201a8"
             ],
             [
              0.3333333333333333,
              "#9c179e"
             ],
             [
              0.4444444444444444,
              "#bd3786"
             ],
             [
              0.5555555555555556,
              "#d8576b"
             ],
             [
              0.6666666666666666,
              "#ed7953"
             ],
             [
              0.7777777777777778,
              "#fb9f3a"
             ],
             [
              0.8888888888888888,
              "#fdca26"
             ],
             [
              1,
              "#f0f921"
             ]
            ],
            "type": "contour"
           }
          ],
          "contourcarpet": [
           {
            "colorbar": {
             "outlinewidth": 0,
             "ticks": ""
            },
            "type": "contourcarpet"
           }
          ],
          "heatmap": [
           {
            "colorbar": {
             "outlinewidth": 0,
             "ticks": ""
            },
            "colorscale": [
             [
              0,
              "#0d0887"
             ],
             [
              0.1111111111111111,
              "#46039f"
             ],
             [
              0.2222222222222222,
              "#7201a8"
             ],
             [
              0.3333333333333333,
              "#9c179e"
             ],
             [
              0.4444444444444444,
              "#bd3786"
             ],
             [
              0.5555555555555556,
              "#d8576b"
             ],
             [
              0.6666666666666666,
              "#ed7953"
             ],
             [
              0.7777777777777778,
              "#fb9f3a"
             ],
             [
              0.8888888888888888,
              "#fdca26"
             ],
             [
              1,
              "#f0f921"
             ]
            ],
            "type": "heatmap"
           }
          ],
          "histogram": [
           {
            "marker": {
             "pattern": {
              "fillmode": "overlay",
              "size": 10,
              "solidity": 0.2
             }
            },
            "type": "histogram"
           }
          ],
          "histogram2d": [
           {
            "colorbar": {
             "outlinewidth": 0,
             "ticks": ""
            },
            "colorscale": [
             [
              0,
              "#0d0887"
             ],
             [
              0.1111111111111111,
              "#46039f"
             ],
             [
              0.2222222222222222,
              "#7201a8"
             ],
             [
              0.3333333333333333,
              "#9c179e"
             ],
             [
              0.4444444444444444,
              "#bd3786"
             ],
             [
              0.5555555555555556,
              "#d8576b"
             ],
             [
              0.6666666666666666,
              "#ed7953"
             ],
             [
              0.7777777777777778,
              "#fb9f3a"
             ],
             [
              0.8888888888888888,
              "#fdca26"
             ],
             [
              1,
              "#f0f921"
             ]
            ],
            "type": "histogram2d"
           }
          ],
          "histogram2dcontour": [
           {
            "colorbar": {
             "outlinewidth": 0,
             "ticks": ""
            },
            "colorscale": [
             [
              0,
              "#0d0887"
             ],
             [
              0.1111111111111111,
              "#46039f"
             ],
             [
              0.2222222222222222,
              "#7201a8"
             ],
             [
              0.3333333333333333,
              "#9c179e"
             ],
             [
              0.4444444444444444,
              "#bd3786"
             ],
             [
              0.5555555555555556,
              "#d8576b"
             ],
             [
              0.6666666666666666,
              "#ed7953"
             ],
             [
              0.7777777777777778,
              "#fb9f3a"
             ],
             [
              0.8888888888888888,
              "#fdca26"
             ],
             [
              1,
              "#f0f921"
             ]
            ],
            "type": "histogram2dcontour"
           }
          ],
          "mesh3d": [
           {
            "colorbar": {
             "outlinewidth": 0,
             "ticks": ""
            },
            "type": "mesh3d"
           }
          ],
          "parcoords": [
           {
            "line": {
             "colorbar": {
              "outlinewidth": 0,
              "ticks": ""
             }
            },
            "type": "parcoords"
           }
          ],
          "pie": [
           {
            "automargin": true,
            "type": "pie"
           }
          ],
          "scatter": [
           {
            "fillpattern": {
             "fillmode": "overlay",
             "size": 10,
             "solidity": 0.2
            },
            "type": "scatter"
           }
          ],
          "scatter3d": [
           {
            "line": {
             "colorbar": {
              "outlinewidth": 0,
              "ticks": ""
             }
            },
            "marker": {
             "colorbar": {
              "outlinewidth": 0,
              "ticks": ""
             }
            },
            "type": "scatter3d"
           }
          ],
          "scattercarpet": [
           {
            "marker": {
             "colorbar": {
              "outlinewidth": 0,
              "ticks": ""
             }
            },
            "type": "scattercarpet"
           }
          ],
          "scattergeo": [
           {
            "marker": {
             "colorbar": {
              "outlinewidth": 0,
              "ticks": ""
             }
            },
            "type": "scattergeo"
           }
          ],
          "scattergl": [
           {
            "marker": {
             "colorbar": {
              "outlinewidth": 0,
              "ticks": ""
             }
            },
            "type": "scattergl"
           }
          ],
          "scattermap": [
           {
            "marker": {
             "colorbar": {
              "outlinewidth": 0,
              "ticks": ""
             }
            },
            "type": "scattermap"
           }
          ],
          "scattermapbox": [
           {
            "marker": {
             "colorbar": {
              "outlinewidth": 0,
              "ticks": ""
             }
            },
            "type": "scattermapbox"
           }
          ],
          "scatterpolar": [
           {
            "marker": {
             "colorbar": {
              "outlinewidth": 0,
              "ticks": ""
             }
            },
            "type": "scatterpolar"
           }
          ],
          "scatterpolargl": [
           {
            "marker": {
             "colorbar": {
              "outlinewidth": 0,
              "ticks": ""
             }
            },
            "type": "scatterpolargl"
           }
          ],
          "scatterternary": [
           {
            "marker": {
             "colorbar": {
              "outlinewidth": 0,
              "ticks": ""
             }
            },
            "type": "scatterternary"
           }
          ],
          "surface": [
           {
            "colorbar": {
             "outlinewidth": 0,
             "ticks": ""
            },
            "colorscale": [
             [
              0,
              "#0d0887"
             ],
             [
              0.1111111111111111,
              "#46039f"
             ],
             [
              0.2222222222222222,
              "#7201a8"
             ],
             [
              0.3333333333333333,
              "#9c179e"
             ],
             [
              0.4444444444444444,
              "#bd3786"
             ],
             [
              0.5555555555555556,
              "#d8576b"
             ],
             [
              0.6666666666666666,
              "#ed7953"
             ],
             [
              0.7777777777777778,
              "#fb9f3a"
             ],
             [
              0.8888888888888888,
              "#fdca26"
             ],
             [
              1,
              "#f0f921"
             ]
            ],
            "type": "surface"
           }
          ],
          "table": [
           {
            "cells": {
             "fill": {
              "color": "#EBF0F8"
             },
             "line": {
              "color": "white"
             }
            },
            "header": {
             "fill": {
              "color": "#C8D4E3"
             },
             "line": {
              "color": "white"
             }
            },
            "type": "table"
           }
          ]
         },
         "layout": {
          "annotationdefaults": {
           "arrowcolor": "#2a3f5f",
           "arrowhead": 0,
           "arrowwidth": 1
          },
          "autotypenumbers": "strict",
          "coloraxis": {
           "colorbar": {
            "outlinewidth": 0,
            "ticks": ""
           }
          },
          "colorscale": {
           "diverging": [
            [
             0,
             "#8e0152"
            ],
            [
             0.1,
             "#c51b7d"
            ],
            [
             0.2,
             "#de77ae"
            ],
            [
             0.3,
             "#f1b6da"
            ],
            [
             0.4,
             "#fde0ef"
            ],
            [
             0.5,
             "#f7f7f7"
            ],
            [
             0.6,
             "#e6f5d0"
            ],
            [
             0.7,
             "#b8e186"
            ],
            [
             0.8,
             "#7fbc41"
            ],
            [
             0.9,
             "#4d9221"
            ],
            [
             1,
             "#276419"
            ]
           ],
           "sequential": [
            [
             0,
             "#0d0887"
            ],
            [
             0.1111111111111111,
             "#46039f"
            ],
            [
             0.2222222222222222,
             "#7201a8"
            ],
            [
             0.3333333333333333,
             "#9c179e"
            ],
            [
             0.4444444444444444,
             "#bd3786"
            ],
            [
             0.5555555555555556,
             "#d8576b"
            ],
            [
             0.6666666666666666,
             "#ed7953"
            ],
            [
             0.7777777777777778,
             "#fb9f3a"
            ],
            [
             0.8888888888888888,
             "#fdca26"
            ],
            [
             1,
             "#f0f921"
            ]
           ],
           "sequentialminus": [
            [
             0,
             "#0d0887"
            ],
            [
             0.1111111111111111,
             "#46039f"
            ],
            [
             0.2222222222222222,
             "#7201a8"
            ],
            [
             0.3333333333333333,
             "#9c179e"
            ],
            [
             0.4444444444444444,
             "#bd3786"
            ],
            [
             0.5555555555555556,
             "#d8576b"
            ],
            [
             0.6666666666666666,
             "#ed7953"
            ],
            [
             0.7777777777777778,
             "#fb9f3a"
            ],
            [
             0.8888888888888888,
             "#fdca26"
            ],
            [
             1,
             "#f0f921"
            ]
           ]
          },
          "colorway": [
           "#636efa",
           "#EF553B",
           "#00cc96",
           "#ab63fa",
           "#FFA15A",
           "#19d3f3",
           "#FF6692",
           "#B6E880",
           "#FF97FF",
           "#FECB52"
          ],
          "font": {
           "color": "#2a3f5f"
          },
          "geo": {
           "bgcolor": "white",
           "lakecolor": "white",
           "landcolor": "#E5ECF6",
           "showlakes": true,
           "showland": true,
           "subunitcolor": "white"
          },
          "hoverlabel": {
           "align": "left"
          },
          "hovermode": "closest",
          "mapbox": {
           "style": "light"
          },
          "paper_bgcolor": "white",
          "plot_bgcolor": "#E5ECF6",
          "polar": {
           "angularaxis": {
            "gridcolor": "white",
            "linecolor": "white",
            "ticks": ""
           },
           "bgcolor": "#E5ECF6",
           "radialaxis": {
            "gridcolor": "white",
            "linecolor": "white",
            "ticks": ""
           }
          },
          "scene": {
           "xaxis": {
            "backgroundcolor": "#E5ECF6",
            "gridcolor": "white",
            "gridwidth": 2,
            "linecolor": "white",
            "showbackground": true,
            "ticks": "",
            "zerolinecolor": "white"
           },
           "yaxis": {
            "backgroundcolor": "#E5ECF6",
            "gridcolor": "white",
            "gridwidth": 2,
            "linecolor": "white",
            "showbackground": true,
            "ticks": "",
            "zerolinecolor": "white"
           },
           "zaxis": {
            "backgroundcolor": "#E5ECF6",
            "gridcolor": "white",
            "gridwidth": 2,
            "linecolor": "white",
            "showbackground": true,
            "ticks": "",
            "zerolinecolor": "white"
           }
          },
          "shapedefaults": {
           "line": {
            "color": "#2a3f5f"
           }
          },
          "ternary": {
           "aaxis": {
            "gridcolor": "white",
            "linecolor": "white",
            "ticks": ""
           },
           "baxis": {
            "gridcolor": "white",
            "linecolor": "white",
            "ticks": ""
           },
           "bgcolor": "#E5ECF6",
           "caxis": {
            "gridcolor": "white",
            "linecolor": "white",
            "ticks": ""
           }
          },
          "title": {
           "x": 0.05
          },
          "xaxis": {
           "automargin": true,
           "gridcolor": "white",
           "linecolor": "white",
           "ticks": "",
           "title": {
            "standoff": 15
           },
           "zerolinecolor": "white",
           "zerolinewidth": 2
          },
          "yaxis": {
           "automargin": true,
           "gridcolor": "white",
           "linecolor": "white",
           "ticks": "",
           "title": {
            "standoff": 15
           },
           "zerolinecolor": "white",
           "zerolinewidth": 2
          }
         }
        },
        "title": {
         "text": "Total Sales per City in India BEFORE PROMO"
        }
       }
      }
     },
     "metadata": {},
     "output_type": "display_data"
    }
   ],
   "source": [
    "# --- Step 4: Plot the bubble map for India with quantity before promo ---\n",
    "fig1 = px.scatter_geo(\n",
    "    city_sales,\n",
    "    lat='lat',\n",
    "    lon='lng',\n",
    "    scope='asia',  # zooms in on Asia; we'll focus on India\n",
    "    hover_name='city',\n",
    "    size='quantity_before_promo',\n",
    "    projection='natural earth',\n",
    "    title='Total Sales per City in India BEFORE PROMO',\n",
    "    size_max=40  # adjust max bubble size\n",
    ")\n",
    "fig1.update_geos(\n",
    "    showcountries=True, countrycolor=\"Black\",\n",
    "    showsubunits=True, subunitcolor=\"Gray\",\n",
    "    lataxis_range=[6, 38], lonaxis_range=[68, 98]  # India lat/lon bounds\n",
    ")\n",
    "\n",
    "fig1.show()"
   ]
  },
  {
   "cell_type": "code",
   "execution_count": 50,
   "id": "9abd1cc6",
   "metadata": {},
   "outputs": [
    {
     "data": {
      "application/vnd.plotly.v1+json": {
       "config": {
        "plotlyServerURL": "https://plot.ly"
       },
       "data": [
        {
         "geo": "geo",
         "hovertemplate": "<b>%{hovertext}</b><br><br>quantity_after_promo=%{marker.size}<br>lat=%{lat}<br>lng=%{lon}<extra></extra>",
         "hovertext": [
          "bengaluru",
          "chennai",
          "coimbatore",
          "hyderabad",
          "madurai",
          "mangalore",
          "mysuru",
          "trivandrum",
          "vijayawada",
          "visakhapatnam"
         ],
         "lat": {
          "bdata": "U5YhjnXxKUCxDSYPVSoqQCU8odefCCZAw/UoXI9iMUD9ePnns9kjQNfRgmEK1ClAJKLzdXSXKEAYHMr1WwwhQGGTkKOUgTBAj+TyH9KvMUA=",
          "dtype": "f8"
         },
         "legendgroup": "",
         "lon": {
          "bdata": "54wo7Q1mU0A7m0RzUxFUQON9ZlosPVNApb3BFyafU0Bhd3BmqodTQHyyB//HtlJAz0wwnOsoU0ANDdXe8TtTQLAzKhV5KVRARIts5/vNVEA=",
          "dtype": "f8"
         },
         "marker": {
          "color": "#636efa",
          "size": {
           "bdata": "tZoBAElFAQD0lwAAFw8BAMF5AABROgAAXpIAALonAABiKwAAfIQAAA==",
           "dtype": "i4"
          },
          "sizemode": "area",
          "sizeref": 65.713125,
          "symbol": "circle"
         },
         "mode": "markers",
         "name": "",
         "showlegend": false,
         "type": "scattergeo"
        }
       ],
       "layout": {
        "geo": {
         "center": {},
         "countrycolor": "Black",
         "domain": {
          "x": [
           0,
           1
          ],
          "y": [
           0,
           1
          ]
         },
         "lataxis": {
          "range": [
           6,
           38
          ]
         },
         "lonaxis": {
          "range": [
           68,
           98
          ]
         },
         "projection": {
          "type": "natural earth"
         },
         "scope": "asia",
         "showcountries": true,
         "showsubunits": true,
         "subunitcolor": "Gray"
        },
        "legend": {
         "itemsizing": "constant",
         "tracegroupgap": 0
        },
        "template": {
         "data": {
          "bar": [
           {
            "error_x": {
             "color": "#2a3f5f"
            },
            "error_y": {
             "color": "#2a3f5f"
            },
            "marker": {
             "line": {
              "color": "#E5ECF6",
              "width": 0.5
             },
             "pattern": {
              "fillmode": "overlay",
              "size": 10,
              "solidity": 0.2
             }
            },
            "type": "bar"
           }
          ],
          "barpolar": [
           {
            "marker": {
             "line": {
              "color": "#E5ECF6",
              "width": 0.5
             },
             "pattern": {
              "fillmode": "overlay",
              "size": 10,
              "solidity": 0.2
             }
            },
            "type": "barpolar"
           }
          ],
          "carpet": [
           {
            "aaxis": {
             "endlinecolor": "#2a3f5f",
             "gridcolor": "white",
             "linecolor": "white",
             "minorgridcolor": "white",
             "startlinecolor": "#2a3f5f"
            },
            "baxis": {
             "endlinecolor": "#2a3f5f",
             "gridcolor": "white",
             "linecolor": "white",
             "minorgridcolor": "white",
             "startlinecolor": "#2a3f5f"
            },
            "type": "carpet"
           }
          ],
          "choropleth": [
           {
            "colorbar": {
             "outlinewidth": 0,
             "ticks": ""
            },
            "type": "choropleth"
           }
          ],
          "contour": [
           {
            "colorbar": {
             "outlinewidth": 0,
             "ticks": ""
            },
            "colorscale": [
             [
              0,
              "#0d0887"
             ],
             [
              0.1111111111111111,
              "#46039f"
             ],
             [
              0.2222222222222222,
              "#7201a8"
             ],
             [
              0.3333333333333333,
              "#9c179e"
             ],
             [
              0.4444444444444444,
              "#bd3786"
             ],
             [
              0.5555555555555556,
              "#d8576b"
             ],
             [
              0.6666666666666666,
              "#ed7953"
             ],
             [
              0.7777777777777778,
              "#fb9f3a"
             ],
             [
              0.8888888888888888,
              "#fdca26"
             ],
             [
              1,
              "#f0f921"
             ]
            ],
            "type": "contour"
           }
          ],
          "contourcarpet": [
           {
            "colorbar": {
             "outlinewidth": 0,
             "ticks": ""
            },
            "type": "contourcarpet"
           }
          ],
          "heatmap": [
           {
            "colorbar": {
             "outlinewidth": 0,
             "ticks": ""
            },
            "colorscale": [
             [
              0,
              "#0d0887"
             ],
             [
              0.1111111111111111,
              "#46039f"
             ],
             [
              0.2222222222222222,
              "#7201a8"
             ],
             [
              0.3333333333333333,
              "#9c179e"
             ],
             [
              0.4444444444444444,
              "#bd3786"
             ],
             [
              0.5555555555555556,
              "#d8576b"
             ],
             [
              0.6666666666666666,
              "#ed7953"
             ],
             [
              0.7777777777777778,
              "#fb9f3a"
             ],
             [
              0.8888888888888888,
              "#fdca26"
             ],
             [
              1,
              "#f0f921"
             ]
            ],
            "type": "heatmap"
           }
          ],
          "histogram": [
           {
            "marker": {
             "pattern": {
              "fillmode": "overlay",
              "size": 10,
              "solidity": 0.2
             }
            },
            "type": "histogram"
           }
          ],
          "histogram2d": [
           {
            "colorbar": {
             "outlinewidth": 0,
             "ticks": ""
            },
            "colorscale": [
             [
              0,
              "#0d0887"
             ],
             [
              0.1111111111111111,
              "#46039f"
             ],
             [
              0.2222222222222222,
              "#7201a8"
             ],
             [
              0.3333333333333333,
              "#9c179e"
             ],
             [
              0.4444444444444444,
              "#bd3786"
             ],
             [
              0.5555555555555556,
              "#d8576b"
             ],
             [
              0.6666666666666666,
              "#ed7953"
             ],
             [
              0.7777777777777778,
              "#fb9f3a"
             ],
             [
              0.8888888888888888,
              "#fdca26"
             ],
             [
              1,
              "#f0f921"
             ]
            ],
            "type": "histogram2d"
           }
          ],
          "histogram2dcontour": [
           {
            "colorbar": {
             "outlinewidth": 0,
             "ticks": ""
            },
            "colorscale": [
             [
              0,
              "#0d0887"
             ],
             [
              0.1111111111111111,
              "#46039f"
             ],
             [
              0.2222222222222222,
              "#7201a8"
             ],
             [
              0.3333333333333333,
              "#9c179e"
             ],
             [
              0.4444444444444444,
              "#bd3786"
             ],
             [
              0.5555555555555556,
              "#d8576b"
             ],
             [
              0.6666666666666666,
              "#ed7953"
             ],
             [
              0.7777777777777778,
              "#fb9f3a"
             ],
             [
              0.8888888888888888,
              "#fdca26"
             ],
             [
              1,
              "#f0f921"
             ]
            ],
            "type": "histogram2dcontour"
           }
          ],
          "mesh3d": [
           {
            "colorbar": {
             "outlinewidth": 0,
             "ticks": ""
            },
            "type": "mesh3d"
           }
          ],
          "parcoords": [
           {
            "line": {
             "colorbar": {
              "outlinewidth": 0,
              "ticks": ""
             }
            },
            "type": "parcoords"
           }
          ],
          "pie": [
           {
            "automargin": true,
            "type": "pie"
           }
          ],
          "scatter": [
           {
            "fillpattern": {
             "fillmode": "overlay",
             "size": 10,
             "solidity": 0.2
            },
            "type": "scatter"
           }
          ],
          "scatter3d": [
           {
            "line": {
             "colorbar": {
              "outlinewidth": 0,
              "ticks": ""
             }
            },
            "marker": {
             "colorbar": {
              "outlinewidth": 0,
              "ticks": ""
             }
            },
            "type": "scatter3d"
           }
          ],
          "scattercarpet": [
           {
            "marker": {
             "colorbar": {
              "outlinewidth": 0,
              "ticks": ""
             }
            },
            "type": "scattercarpet"
           }
          ],
          "scattergeo": [
           {
            "marker": {
             "colorbar": {
              "outlinewidth": 0,
              "ticks": ""
             }
            },
            "type": "scattergeo"
           }
          ],
          "scattergl": [
           {
            "marker": {
             "colorbar": {
              "outlinewidth": 0,
              "ticks": ""
             }
            },
            "type": "scattergl"
           }
          ],
          "scattermap": [
           {
            "marker": {
             "colorbar": {
              "outlinewidth": 0,
              "ticks": ""
             }
            },
            "type": "scattermap"
           }
          ],
          "scattermapbox": [
           {
            "marker": {
             "colorbar": {
              "outlinewidth": 0,
              "ticks": ""
             }
            },
            "type": "scattermapbox"
           }
          ],
          "scatterpolar": [
           {
            "marker": {
             "colorbar": {
              "outlinewidth": 0,
              "ticks": ""
             }
            },
            "type": "scatterpolar"
           }
          ],
          "scatterpolargl": [
           {
            "marker": {
             "colorbar": {
              "outlinewidth": 0,
              "ticks": ""
             }
            },
            "type": "scatterpolargl"
           }
          ],
          "scatterternary": [
           {
            "marker": {
             "colorbar": {
              "outlinewidth": 0,
              "ticks": ""
             }
            },
            "type": "scatterternary"
           }
          ],
          "surface": [
           {
            "colorbar": {
             "outlinewidth": 0,
             "ticks": ""
            },
            "colorscale": [
             [
              0,
              "#0d0887"
             ],
             [
              0.1111111111111111,
              "#46039f"
             ],
             [
              0.2222222222222222,
              "#7201a8"
             ],
             [
              0.3333333333333333,
              "#9c179e"
             ],
             [
              0.4444444444444444,
              "#bd3786"
             ],
             [
              0.5555555555555556,
              "#d8576b"
             ],
             [
              0.6666666666666666,
              "#ed7953"
             ],
             [
              0.7777777777777778,
              "#fb9f3a"
             ],
             [
              0.8888888888888888,
              "#fdca26"
             ],
             [
              1,
              "#f0f921"
             ]
            ],
            "type": "surface"
           }
          ],
          "table": [
           {
            "cells": {
             "fill": {
              "color": "#EBF0F8"
             },
             "line": {
              "color": "white"
             }
            },
            "header": {
             "fill": {
              "color": "#C8D4E3"
             },
             "line": {
              "color": "white"
             }
            },
            "type": "table"
           }
          ]
         },
         "layout": {
          "annotationdefaults": {
           "arrowcolor": "#2a3f5f",
           "arrowhead": 0,
           "arrowwidth": 1
          },
          "autotypenumbers": "strict",
          "coloraxis": {
           "colorbar": {
            "outlinewidth": 0,
            "ticks": ""
           }
          },
          "colorscale": {
           "diverging": [
            [
             0,
             "#8e0152"
            ],
            [
             0.1,
             "#c51b7d"
            ],
            [
             0.2,
             "#de77ae"
            ],
            [
             0.3,
             "#f1b6da"
            ],
            [
             0.4,
             "#fde0ef"
            ],
            [
             0.5,
             "#f7f7f7"
            ],
            [
             0.6,
             "#e6f5d0"
            ],
            [
             0.7,
             "#b8e186"
            ],
            [
             0.8,
             "#7fbc41"
            ],
            [
             0.9,
             "#4d9221"
            ],
            [
             1,
             "#276419"
            ]
           ],
           "sequential": [
            [
             0,
             "#0d0887"
            ],
            [
             0.1111111111111111,
             "#46039f"
            ],
            [
             0.2222222222222222,
             "#7201a8"
            ],
            [
             0.3333333333333333,
             "#9c179e"
            ],
            [
             0.4444444444444444,
             "#bd3786"
            ],
            [
             0.5555555555555556,
             "#d8576b"
            ],
            [
             0.6666666666666666,
             "#ed7953"
            ],
            [
             0.7777777777777778,
             "#fb9f3a"
            ],
            [
             0.8888888888888888,
             "#fdca26"
            ],
            [
             1,
             "#f0f921"
            ]
           ],
           "sequentialminus": [
            [
             0,
             "#0d0887"
            ],
            [
             0.1111111111111111,
             "#46039f"
            ],
            [
             0.2222222222222222,
             "#7201a8"
            ],
            [
             0.3333333333333333,
             "#9c179e"
            ],
            [
             0.4444444444444444,
             "#bd3786"
            ],
            [
             0.5555555555555556,
             "#d8576b"
            ],
            [
             0.6666666666666666,
             "#ed7953"
            ],
            [
             0.7777777777777778,
             "#fb9f3a"
            ],
            [
             0.8888888888888888,
             "#fdca26"
            ],
            [
             1,
             "#f0f921"
            ]
           ]
          },
          "colorway": [
           "#636efa",
           "#EF553B",
           "#00cc96",
           "#ab63fa",
           "#FFA15A",
           "#19d3f3",
           "#FF6692",
           "#B6E880",
           "#FF97FF",
           "#FECB52"
          ],
          "font": {
           "color": "#2a3f5f"
          },
          "geo": {
           "bgcolor": "white",
           "lakecolor": "white",
           "landcolor": "#E5ECF6",
           "showlakes": true,
           "showland": true,
           "subunitcolor": "white"
          },
          "hoverlabel": {
           "align": "left"
          },
          "hovermode": "closest",
          "mapbox": {
           "style": "light"
          },
          "paper_bgcolor": "white",
          "plot_bgcolor": "#E5ECF6",
          "polar": {
           "angularaxis": {
            "gridcolor": "white",
            "linecolor": "white",
            "ticks": ""
           },
           "bgcolor": "#E5ECF6",
           "radialaxis": {
            "gridcolor": "white",
            "linecolor": "white",
            "ticks": ""
           }
          },
          "scene": {
           "xaxis": {
            "backgroundcolor": "#E5ECF6",
            "gridcolor": "white",
            "gridwidth": 2,
            "linecolor": "white",
            "showbackground": true,
            "ticks": "",
            "zerolinecolor": "white"
           },
           "yaxis": {
            "backgroundcolor": "#E5ECF6",
            "gridcolor": "white",
            "gridwidth": 2,
            "linecolor": "white",
            "showbackground": true,
            "ticks": "",
            "zerolinecolor": "white"
           },
           "zaxis": {
            "backgroundcolor": "#E5ECF6",
            "gridcolor": "white",
            "gridwidth": 2,
            "linecolor": "white",
            "showbackground": true,
            "ticks": "",
            "zerolinecolor": "white"
           }
          },
          "shapedefaults": {
           "line": {
            "color": "#2a3f5f"
           }
          },
          "ternary": {
           "aaxis": {
            "gridcolor": "white",
            "linecolor": "white",
            "ticks": ""
           },
           "baxis": {
            "gridcolor": "white",
            "linecolor": "white",
            "ticks": ""
           },
           "bgcolor": "#E5ECF6",
           "caxis": {
            "gridcolor": "white",
            "linecolor": "white",
            "ticks": ""
           }
          },
          "title": {
           "x": 0.05
          },
          "xaxis": {
           "automargin": true,
           "gridcolor": "white",
           "linecolor": "white",
           "ticks": "",
           "title": {
            "standoff": 15
           },
           "zerolinecolor": "white",
           "zerolinewidth": 2
          },
          "yaxis": {
           "automargin": true,
           "gridcolor": "white",
           "linecolor": "white",
           "ticks": "",
           "title": {
            "standoff": 15
           },
           "zerolinecolor": "white",
           "zerolinewidth": 2
          }
         }
        },
        "title": {
         "text": "Total Sales per City in India AFTER PROMO"
        }
       }
      }
     },
     "metadata": {},
     "output_type": "display_data"
    }
   ],
   "source": [
    "# --- Step 4: Plot the bubble map for India with quantity after promo ---\n",
    "fig2 = px.scatter_geo(\n",
    "    city_sales,\n",
    "    lat='lat',\n",
    "    lon='lng',\n",
    "    scope='asia',  # zooms in on Asia; we'll focus on India\n",
    "    hover_name='city',\n",
    "    size='quantity_after_promo',\n",
    "    projection='natural earth',\n",
    "    title='Total Sales per City in India AFTER PROMO',\n",
    "    size_max=40  # adjust max bubble size\n",
    ")\n",
    "fig2.update_geos(\n",
    "    showcountries=True, countrycolor=\"Black\",\n",
    "    showsubunits=True, subunitcolor=\"Gray\",\n",
    "    lataxis_range=[6, 38], lonaxis_range=[68, 98]  # India lat/lon bounds\n",
    ")\n",
    "\n",
    "fig2.show()"
   ]
  },
  {
   "cell_type": "code",
   "execution_count": 51,
   "id": "2df08bf2",
   "metadata": {},
   "outputs": [],
   "source": [
    "city_sales\n",
    "city_sales.to_csv('city_sales.csv', index=False)"
   ]
  },
  {
   "cell_type": "markdown",
   "id": "a580ab38",
   "metadata": {},
   "source": [
    "Top-performing cities (highest sales counts):\n",
    "\n",
    "Bengaluru, Hyderabad, Chennai\n",
    "\n",
    "These cities consistently generate the largest number of sales during promotions.\n",
    "\n",
    "Medium-performing cities:\n",
    "\n",
    "Visakhapatnam, Mysuru, Madurai, Coimbatore\n",
    "\n",
    "Sales are moderate but still significant.\n",
    "\n",
    "Low-performing/small cities:\n",
    "\n",
    "Trivandrum, Mangalore, Vijayawada\n",
    "\n",
    "Lower absolute sales counts, likely due to smaller market size or store density.\n",
    "\n",
    "Promotion impact across all cities:\n",
    "\n",
    "Regardless of the initial sales count, all cities at least doubled their sales during promotions compared to before the promotion.\n",
    "\n",
    "This indicates that promotions are effective across markets, even in smaller cities."
   ]
  },
  {
   "cell_type": "code",
   "execution_count": 52,
   "id": "b4765c54",
   "metadata": {},
   "outputs": [
    {
     "data": {
      "application/vnd.microsoft.datawrangler.viewer.v0+json": {
       "columns": [
        {
         "name": "index",
         "rawType": "int64",
         "type": "integer"
        },
        {
         "name": "event_id",
         "rawType": "object",
         "type": "string"
        },
        {
         "name": "store_id",
         "rawType": "object",
         "type": "string"
        },
        {
         "name": "campaign_id",
         "rawType": "object",
         "type": "string"
        },
        {
         "name": "product_code",
         "rawType": "object",
         "type": "string"
        },
        {
         "name": "base_price",
         "rawType": "int64",
         "type": "integer"
        },
        {
         "name": "promo_type",
         "rawType": "object",
         "type": "string"
        },
        {
         "name": "quantity_sold(before_promo)",
         "rawType": "int64",
         "type": "integer"
        },
        {
         "name": "quantity_sold(after_promo)",
         "rawType": "int64",
         "type": "integer"
        },
        {
         "name": "Unnamed: 8",
         "rawType": "float64",
         "type": "float"
        },
        {
         "name": "Unnamed: 9",
         "rawType": "float64",
         "type": "float"
        },
        {
         "name": "Unnamed: 10",
         "rawType": "float64",
         "type": "float"
        },
        {
         "name": "city",
         "rawType": "object",
         "type": "string"
        },
        {
         "name": "total_quantity_sold",
         "rawType": "int64",
         "type": "integer"
        }
       ],
       "ref": "1cd1073e-84bc-4b8e-a5af-2ceb2625a6ba",
       "rows": [
        [
         "0",
         "7f650b",
         "STCBE-2",
         "CAMP_SAN_01",
         "P11",
         "190",
         "50% OFF",
         "34",
         "52",
         null,
         null,
         null,
         "coimbatore",
         "86"
        ],
        [
         "1",
         "a21f91",
         "STBLR-8",
         "CAMP_DIW_01",
         "P03",
         "156",
         "25% OFF",
         "393",
         "322",
         null,
         null,
         null,
         "bengaluru",
         "715"
        ],
        [
         "2",
         "78bc80",
         "STVJD-0",
         "CAMP_SAN_01",
         "P07",
         "300",
         "BOGOF",
         "22",
         "85",
         null,
         null,
         null,
         "vijayawada",
         "107"
        ],
        [
         "3",
         "a1503f",
         "STCBE-1",
         "CAMP_DIW_01",
         "P15",
         "3000",
         "500 Cashback",
         "329",
         "1000",
         null,
         null,
         null,
         "coimbatore",
         "1329"
        ],
        [
         "4",
         "1091cf",
         "STBLR-6",
         "CAMP_DIW_01",
         "P05",
         "55",
         "25% OFF",
         "108",
         "93",
         null,
         null,
         null,
         "bengaluru",
         "201"
        ],
        [
         "5",
         "8.02E+96",
         "STBLR-4",
         "CAMP_DIW_01",
         "P11",
         "190",
         "50% OFF",
         "91",
         "116",
         null,
         null,
         null,
         "bengaluru",
         "207"
        ],
        [
         "6",
         "73d86f",
         "STVSK-2",
         "CAMP_SAN_01",
         "P10",
         "50",
         "25% OFF",
         "31",
         "26",
         null,
         null,
         null,
         "visakhapatnam",
         "57"
        ],
        [
         "7",
         "fe3560",
         "STHYD-4",
         "CAMP_DIW_01",
         "P13",
         "350",
         "BOGOF",
         "73",
         "245",
         null,
         null,
         null,
         "hyderabad",
         "318"
        ],
        [
         "8",
         "6b2afc",
         "STCBE-4",
         "CAMP_SAN_01",
         "P08",
         "1190",
         "BOGOF",
         "30",
         "79",
         null,
         null,
         null,
         "coimbatore",
         "109"
        ],
        [
         "9",
         "ce5851",
         "STMDU-2",
         "CAMP_SAN_01",
         "P03",
         "200",
         "BOGOF",
         "318",
         "1265",
         null,
         null,
         null,
         "madurai",
         "1583"
        ],
        [
         "10",
         "dd6685",
         "STMYS-2",
         "CAMP_DIW_01",
         "P06",
         "415",
         "25% OFF",
         "78",
         "70",
         null,
         null,
         null,
         "mysuru",
         "148"
        ],
        [
         "11",
         "8f25a6",
         "STHYD-6",
         "CAMP_SAN_01",
         "P15",
         "3000",
         "500 Cashback",
         "126",
         "302",
         null,
         null,
         null,
         "hyderabad",
         "428"
        ],
        [
         "12",
         "5c3c33",
         "STCHE-6",
         "CAMP_DIW_01",
         "P12",
         "62",
         "50% OFF",
         "154",
         "207",
         null,
         null,
         null,
         "chennai",
         "361"
        ],
        [
         "13",
         "d290a1",
         "STBLR-3",
         "CAMP_DIW_01",
         "P04",
         "290",
         "25% OFF",
         "343",
         "270",
         null,
         null,
         null,
         "bengaluru",
         "613"
        ],
        [
         "14",
         "635862",
         "STVSK-4",
         "CAMP_SAN_01",
         "P02",
         "860",
         "33% OFF",
         "348",
         "480",
         null,
         null,
         null,
         "visakhapatnam",
         "828"
        ],
        [
         "15",
         "c0ecb5",
         "STCHE-2",
         "CAMP_SAN_01",
         "P07",
         "300",
         "BOGOF",
         "43",
         "167",
         null,
         null,
         null,
         "chennai",
         "210"
        ],
        [
         "16",
         "182caa",
         "STCHE-5",
         "CAMP_SAN_01",
         "P06",
         "415",
         "25% OFF",
         "39",
         "33",
         null,
         null,
         null,
         "chennai",
         "72"
        ],
        [
         "17",
         "c4db5b",
         "STTRV-0",
         "CAMP_DIW_01",
         "P01",
         "172",
         "33% OFF",
         "164",
         "236",
         null,
         null,
         null,
         "trivandrum",
         "400"
        ],
        [
         "18",
         "94f48c",
         "STVSK-1",
         "CAMP_SAN_01",
         "P06",
         "415",
         "25% OFF",
         "22",
         "16",
         null,
         null,
         null,
         "visakhapatnam",
         "38"
        ],
        [
         "19",
         "7ef92f",
         "STHYD-5",
         "CAMP_SAN_01",
         "P07",
         "300",
         "BOGOF",
         "55",
         "213",
         null,
         null,
         null,
         "hyderabad",
         "268"
        ],
        [
         "20",
         "0f422c",
         "STBLR-0",
         "CAMP_DIW_01",
         "P14",
         "1020",
         "BOGOF",
         "42",
         "168",
         null,
         null,
         null,
         "bengaluru",
         "210"
        ],
        [
         "21",
         "1e9a06",
         "STCHE-4",
         "CAMP_DIW_01",
         "P13",
         "350",
         "BOGOF",
         "84",
         "338",
         null,
         null,
         null,
         "chennai",
         "422"
        ],
        [
         "22",
         "02ebe9",
         "STBLR-8",
         "CAMP_DIW_01",
         "P11",
         "190",
         "50% OFF",
         "66",
         "88",
         null,
         null,
         null,
         "bengaluru",
         "154"
        ],
        [
         "23",
         "260ff2",
         "STMYS-2",
         "CAMP_SAN_01",
         "P01",
         "172",
         "33% OFF",
         "204",
         "291",
         null,
         null,
         null,
         "mysuru",
         "495"
        ],
        [
         "24",
         "7fc923",
         "STTRV-0",
         "CAMP_SAN_01",
         "P08",
         "1190",
         "BOGOF",
         "19",
         "74",
         null,
         null,
         null,
         "trivandrum",
         "93"
        ],
        [
         "25",
         "b08c12",
         "STMDU-3",
         "CAMP_DIW_01",
         "P03",
         "156",
         "25% OFF",
         "227",
         "202",
         null,
         null,
         null,
         "madurai",
         "429"
        ],
        [
         "26",
         "ca7298",
         "STCBE-2",
         "CAMP_SAN_01",
         "P15",
         "3000",
         "500 Cashback",
         "85",
         "228",
         null,
         null,
         null,
         "coimbatore",
         "313"
        ],
        [
         "27",
         "bf33ae",
         "STMYS-0",
         "CAMP_DIW_01",
         "P14",
         "1020",
         "BOGOF",
         "59",
         "182",
         null,
         null,
         null,
         "mysuru",
         "241"
        ],
        [
         "28",
         "35fb5b",
         "STCBE-2",
         "CAMP_DIW_01",
         "P13",
         "350",
         "BOGOF",
         "50",
         "190",
         null,
         null,
         null,
         "coimbatore",
         "240"
        ],
        [
         "29",
         "def6ff",
         "STMDU-0",
         "CAMP_DIW_01",
         "P11",
         "190",
         "50% OFF",
         "70",
         "89",
         null,
         null,
         null,
         "madurai",
         "159"
        ],
        [
         "30",
         "2f3e5d",
         "STCHE-2",
         "CAMP_SAN_01",
         "P01",
         "172",
         "33% OFF",
         "333",
         "402",
         null,
         null,
         null,
         "chennai",
         "735"
        ],
        [
         "31",
         "ca3893",
         "STMYS-1",
         "CAMP_SAN_01",
         "P09",
         "90",
         "25% OFF",
         "52",
         "39",
         null,
         null,
         null,
         "mysuru",
         "91"
        ],
        [
         "32",
         "922e6a",
         "STBLR-8",
         "CAMP_SAN_01",
         "P05",
         "55",
         "25% OFF",
         "34",
         "24",
         null,
         null,
         null,
         "bengaluru",
         "58"
        ],
        [
         "33",
         "4f0587",
         "STMDU-0",
         "CAMP_SAN_01",
         "P08",
         "1190",
         "BOGOF",
         "33",
         "136",
         null,
         null,
         null,
         "madurai",
         "169"
        ],
        [
         "34",
         "fa5b45",
         "STVJD-1",
         "CAMP_SAN_01",
         "P08",
         "1190",
         "BOGOF",
         "27",
         "109",
         null,
         null,
         null,
         "vijayawada",
         "136"
        ],
        [
         "35",
         "df45ee",
         "STHYD-3",
         "CAMP_DIW_01",
         "P01",
         "172",
         "33% OFF",
         "309",
         "534",
         null,
         null,
         null,
         "hyderabad",
         "843"
        ],
        [
         "36",
         "f3ac85",
         "STBLR-5",
         "CAMP_SAN_01",
         "P03",
         "200",
         "BOGOF",
         "348",
         "1350",
         null,
         null,
         null,
         "bengaluru",
         "1698"
        ],
        [
         "37",
         "292ca5",
         "STHYD-2",
         "CAMP_DIW_01",
         "P04",
         "290",
         "25% OFF",
         "287",
         "220",
         null,
         null,
         null,
         "hyderabad",
         "507"
        ],
        [
         "38",
         "620715",
         "STMYS-3",
         "CAMP_SAN_01",
         "P03",
         "200",
         "BOGOF",
         "340",
         "1485",
         null,
         null,
         null,
         "mysuru",
         "1825"
        ],
        [
         "39",
         "7e9777",
         "STVJD-1",
         "CAMP_DIW_01",
         "P08",
         "1190",
         "BOGOF",
         "24",
         "82",
         null,
         null,
         null,
         "vijayawada",
         "106"
        ],
        [
         "40",
         "761785",
         "STBLR-4",
         "CAMP_SAN_01",
         "P14",
         "1020",
         "BOGOF",
         "121",
         "474",
         null,
         null,
         null,
         "bengaluru",
         "595"
        ],
        [
         "41",
         "eb3bea",
         "STVSK-2",
         "CAMP_SAN_01",
         "P15",
         "3000",
         "500 Cashback",
         "109",
         "238",
         null,
         null,
         null,
         "visakhapatnam",
         "347"
        ],
        [
         "42",
         "276150",
         "STCBE-3",
         "CAMP_SAN_01",
         "P07",
         "300",
         "BOGOF",
         "33",
         "128",
         null,
         null,
         null,
         "coimbatore",
         "161"
        ],
        [
         "43",
         "3beb46",
         "STMYS-2",
         "CAMP_SAN_01",
         "P13",
         "350",
         "BOGOF",
         "81",
         "208",
         null,
         null,
         null,
         "mysuru",
         "289"
        ],
        [
         "44",
         "47af00",
         "STVJD-1",
         "CAMP_DIW_01",
         "P03",
         "156",
         "25% OFF",
         "183",
         "150",
         null,
         null,
         null,
         "vijayawada",
         "333"
        ],
        [
         "45",
         "627200",
         "STCBE-4",
         "CAMP_DIW_01",
         "P14",
         "1020",
         "BOGOF",
         "36",
         "111",
         null,
         null,
         null,
         "coimbatore",
         "147"
        ],
        [
         "46",
         "bc8315",
         "STHYD-1",
         "CAMP_DIW_01",
         "P12",
         "62",
         "50% OFF",
         "122",
         "135",
         null,
         null,
         null,
         "hyderabad",
         "257"
        ],
        [
         "47",
         "1f083a",
         "STVJD-0",
         "CAMP_SAN_01",
         "P06",
         "415",
         "25% OFF",
         "16",
         "14",
         null,
         null,
         null,
         "vijayawada",
         "30"
        ],
        [
         "48",
         "c1e0b6",
         "STCHE-6",
         "CAMP_SAN_01",
         "P01",
         "172",
         "33% OFF",
         "273",
         "379",
         null,
         null,
         null,
         "chennai",
         "652"
        ],
        [
         "49",
         "f60d93",
         "STCBE-0",
         "CAMP_DIW_01",
         "P05",
         "55",
         "25% OFF",
         "78",
         "75",
         null,
         null,
         null,
         "coimbatore",
         "153"
        ]
       ],
       "shape": {
        "columns": 13,
        "rows": 1500
       }
      },
      "text/html": [
       "<div>\n",
       "<style scoped>\n",
       "    .dataframe tbody tr th:only-of-type {\n",
       "        vertical-align: middle;\n",
       "    }\n",
       "\n",
       "    .dataframe tbody tr th {\n",
       "        vertical-align: top;\n",
       "    }\n",
       "\n",
       "    .dataframe thead th {\n",
       "        text-align: right;\n",
       "    }\n",
       "</style>\n",
       "<table border=\"1\" class=\"dataframe\">\n",
       "  <thead>\n",
       "    <tr style=\"text-align: right;\">\n",
       "      <th></th>\n",
       "      <th>event_id</th>\n",
       "      <th>store_id</th>\n",
       "      <th>campaign_id</th>\n",
       "      <th>product_code</th>\n",
       "      <th>base_price</th>\n",
       "      <th>promo_type</th>\n",
       "      <th>quantity_sold(before_promo)</th>\n",
       "      <th>quantity_sold(after_promo)</th>\n",
       "      <th>Unnamed: 8</th>\n",
       "      <th>Unnamed: 9</th>\n",
       "      <th>Unnamed: 10</th>\n",
       "      <th>city</th>\n",
       "      <th>total_quantity_sold</th>\n",
       "    </tr>\n",
       "  </thead>\n",
       "  <tbody>\n",
       "    <tr>\n",
       "      <th>0</th>\n",
       "      <td>7f650b</td>\n",
       "      <td>STCBE-2</td>\n",
       "      <td>CAMP_SAN_01</td>\n",
       "      <td>P11</td>\n",
       "      <td>190</td>\n",
       "      <td>50% OFF</td>\n",
       "      <td>34</td>\n",
       "      <td>52</td>\n",
       "      <td>NaN</td>\n",
       "      <td>NaN</td>\n",
       "      <td>NaN</td>\n",
       "      <td>coimbatore</td>\n",
       "      <td>86</td>\n",
       "    </tr>\n",
       "    <tr>\n",
       "      <th>1</th>\n",
       "      <td>a21f91</td>\n",
       "      <td>STBLR-8</td>\n",
       "      <td>CAMP_DIW_01</td>\n",
       "      <td>P03</td>\n",
       "      <td>156</td>\n",
       "      <td>25% OFF</td>\n",
       "      <td>393</td>\n",
       "      <td>322</td>\n",
       "      <td>NaN</td>\n",
       "      <td>NaN</td>\n",
       "      <td>NaN</td>\n",
       "      <td>bengaluru</td>\n",
       "      <td>715</td>\n",
       "    </tr>\n",
       "    <tr>\n",
       "      <th>2</th>\n",
       "      <td>78bc80</td>\n",
       "      <td>STVJD-0</td>\n",
       "      <td>CAMP_SAN_01</td>\n",
       "      <td>P07</td>\n",
       "      <td>300</td>\n",
       "      <td>BOGOF</td>\n",
       "      <td>22</td>\n",
       "      <td>85</td>\n",
       "      <td>NaN</td>\n",
       "      <td>NaN</td>\n",
       "      <td>NaN</td>\n",
       "      <td>vijayawada</td>\n",
       "      <td>107</td>\n",
       "    </tr>\n",
       "    <tr>\n",
       "      <th>3</th>\n",
       "      <td>a1503f</td>\n",
       "      <td>STCBE-1</td>\n",
       "      <td>CAMP_DIW_01</td>\n",
       "      <td>P15</td>\n",
       "      <td>3000</td>\n",
       "      <td>500 Cashback</td>\n",
       "      <td>329</td>\n",
       "      <td>1000</td>\n",
       "      <td>NaN</td>\n",
       "      <td>NaN</td>\n",
       "      <td>NaN</td>\n",
       "      <td>coimbatore</td>\n",
       "      <td>1329</td>\n",
       "    </tr>\n",
       "    <tr>\n",
       "      <th>4</th>\n",
       "      <td>1091cf</td>\n",
       "      <td>STBLR-6</td>\n",
       "      <td>CAMP_DIW_01</td>\n",
       "      <td>P05</td>\n",
       "      <td>55</td>\n",
       "      <td>25% OFF</td>\n",
       "      <td>108</td>\n",
       "      <td>93</td>\n",
       "      <td>NaN</td>\n",
       "      <td>NaN</td>\n",
       "      <td>NaN</td>\n",
       "      <td>bengaluru</td>\n",
       "      <td>201</td>\n",
       "    </tr>\n",
       "    <tr>\n",
       "      <th>...</th>\n",
       "      <td>...</td>\n",
       "      <td>...</td>\n",
       "      <td>...</td>\n",
       "      <td>...</td>\n",
       "      <td>...</td>\n",
       "      <td>...</td>\n",
       "      <td>...</td>\n",
       "      <td>...</td>\n",
       "      <td>...</td>\n",
       "      <td>...</td>\n",
       "      <td>...</td>\n",
       "      <td>...</td>\n",
       "      <td>...</td>\n",
       "    </tr>\n",
       "    <tr>\n",
       "      <th>1495</th>\n",
       "      <td>1e8961</td>\n",
       "      <td>STBLR-3</td>\n",
       "      <td>CAMP_SAN_01</td>\n",
       "      <td>P12</td>\n",
       "      <td>62</td>\n",
       "      <td>50% OFF</td>\n",
       "      <td>61</td>\n",
       "      <td>84</td>\n",
       "      <td>NaN</td>\n",
       "      <td>NaN</td>\n",
       "      <td>NaN</td>\n",
       "      <td>bengaluru</td>\n",
       "      <td>145</td>\n",
       "    </tr>\n",
       "    <tr>\n",
       "      <th>1496</th>\n",
       "      <td>f957f1</td>\n",
       "      <td>STMDU-1</td>\n",
       "      <td>CAMP_SAN_01</td>\n",
       "      <td>P10</td>\n",
       "      <td>50</td>\n",
       "      <td>25% OFF</td>\n",
       "      <td>22</td>\n",
       "      <td>18</td>\n",
       "      <td>NaN</td>\n",
       "      <td>NaN</td>\n",
       "      <td>NaN</td>\n",
       "      <td>madurai</td>\n",
       "      <td>40</td>\n",
       "    </tr>\n",
       "    <tr>\n",
       "      <th>1497</th>\n",
       "      <td>a9ae21</td>\n",
       "      <td>STCBE-0</td>\n",
       "      <td>CAMP_DIW_01</td>\n",
       "      <td>P12</td>\n",
       "      <td>62</td>\n",
       "      <td>50% OFF</td>\n",
       "      <td>80</td>\n",
       "      <td>119</td>\n",
       "      <td>NaN</td>\n",
       "      <td>NaN</td>\n",
       "      <td>NaN</td>\n",
       "      <td>coimbatore</td>\n",
       "      <td>199</td>\n",
       "    </tr>\n",
       "    <tr>\n",
       "      <th>1498</th>\n",
       "      <td>e5d28d</td>\n",
       "      <td>STVSK-0</td>\n",
       "      <td>CAMP_SAN_01</td>\n",
       "      <td>P13</td>\n",
       "      <td>350</td>\n",
       "      <td>BOGOF</td>\n",
       "      <td>73</td>\n",
       "      <td>282</td>\n",
       "      <td>NaN</td>\n",
       "      <td>NaN</td>\n",
       "      <td>NaN</td>\n",
       "      <td>visakhapatnam</td>\n",
       "      <td>355</td>\n",
       "    </tr>\n",
       "    <tr>\n",
       "      <th>1499</th>\n",
       "      <td>4d22d1</td>\n",
       "      <td>STBLR-9</td>\n",
       "      <td>CAMP_SAN_01</td>\n",
       "      <td>P12</td>\n",
       "      <td>62</td>\n",
       "      <td>50% OFF</td>\n",
       "      <td>52</td>\n",
       "      <td>73</td>\n",
       "      <td>NaN</td>\n",
       "      <td>NaN</td>\n",
       "      <td>NaN</td>\n",
       "      <td>bengaluru</td>\n",
       "      <td>125</td>\n",
       "    </tr>\n",
       "  </tbody>\n",
       "</table>\n",
       "<p>1500 rows × 13 columns</p>\n",
       "</div>"
      ],
      "text/plain": [
       "     event_id store_id  campaign_id product_code  base_price    promo_type  \\\n",
       "0      7f650b  STCBE-2  CAMP_SAN_01          P11         190       50% OFF   \n",
       "1      a21f91  STBLR-8  CAMP_DIW_01          P03         156       25% OFF   \n",
       "2      78bc80  STVJD-0  CAMP_SAN_01          P07         300         BOGOF   \n",
       "3      a1503f  STCBE-1  CAMP_DIW_01          P15        3000  500 Cashback   \n",
       "4      1091cf  STBLR-6  CAMP_DIW_01          P05          55       25% OFF   \n",
       "...       ...      ...          ...          ...         ...           ...   \n",
       "1495   1e8961  STBLR-3  CAMP_SAN_01          P12          62       50% OFF   \n",
       "1496   f957f1  STMDU-1  CAMP_SAN_01          P10          50       25% OFF   \n",
       "1497   a9ae21  STCBE-0  CAMP_DIW_01          P12          62       50% OFF   \n",
       "1498   e5d28d  STVSK-0  CAMP_SAN_01          P13         350         BOGOF   \n",
       "1499   4d22d1  STBLR-9  CAMP_SAN_01          P12          62       50% OFF   \n",
       "\n",
       "      quantity_sold(before_promo)  quantity_sold(after_promo)  Unnamed: 8  \\\n",
       "0                              34                          52         NaN   \n",
       "1                             393                         322         NaN   \n",
       "2                              22                          85         NaN   \n",
       "3                             329                        1000         NaN   \n",
       "4                             108                          93         NaN   \n",
       "...                           ...                         ...         ...   \n",
       "1495                           61                          84         NaN   \n",
       "1496                           22                          18         NaN   \n",
       "1497                           80                         119         NaN   \n",
       "1498                           73                         282         NaN   \n",
       "1499                           52                          73         NaN   \n",
       "\n",
       "      Unnamed: 9  Unnamed: 10           city  total_quantity_sold  \n",
       "0            NaN          NaN     coimbatore                   86  \n",
       "1            NaN          NaN      bengaluru                  715  \n",
       "2            NaN          NaN     vijayawada                  107  \n",
       "3            NaN          NaN     coimbatore                 1329  \n",
       "4            NaN          NaN      bengaluru                  201  \n",
       "...          ...          ...            ...                  ...  \n",
       "1495         NaN          NaN      bengaluru                  145  \n",
       "1496         NaN          NaN        madurai                   40  \n",
       "1497         NaN          NaN     coimbatore                  199  \n",
       "1498         NaN          NaN  visakhapatnam                  355  \n",
       "1499         NaN          NaN      bengaluru                  125  \n",
       "\n",
       "[1500 rows x 13 columns]"
      ]
     },
     "execution_count": 52,
     "metadata": {},
     "output_type": "execute_result"
    }
   ],
   "source": [
    "event_data_clean"
   ]
  },
  {
   "cell_type": "markdown",
   "id": "df45b721",
   "metadata": {},
   "source": [
    "High potential in top cities:\n",
    "\n",
    "Cities like Bengaluru, Hyderabad, and Chennai are already strong performers.\n",
    "\n",
    "Promotions here could focus on premium products or larger basket sizes, as customers are more responsive.\n",
    "\n",
    "Growth opportunities in medium cities:\n",
    "\n",
    "Visakhapatnam, Mysuru, Madurai, and Coimbatore show medium-level sales, but promotions significantly boost sales.\n",
    "\n",
    "Consider tailored promotions or localized campaigns to further increase market share.\n",
    "\n",
    "Small cities show high responsiveness:\n",
    "\n",
    "Even with lower sales volumes, cities like Trivandrum, Mangalore, and Vijayawada doubled their sales during promotions.\n",
    "\n",
    "Suggests a strong ROI on promotions in smaller markets; could be a testbed for new products or campaigns.\n",
    "\n",
    "Uniform effectiveness of promotions:\n",
    "\n",
    "The fact that all cities at least doubled sales highlights that the promotional strategy is broadly effective, not just in high-volume areas.\n",
    "\n",
    "This could guide future promotional planning, ensuring campaigns reach both large and smaller markets.\n",
    "\n",
    "Segmentation for future campaigns:\n",
    "\n",
    "Segment cities by current sales count and responsiveness:\n",
    "\n",
    "High sales + high responsiveness → upscale, premium-focused promos\n",
    "\n",
    "Medium sales + high responsiveness → targeted, category-specific promos\n",
    "\n",
    "Low sales + high responsiveness → awareness campaigns, entry-level products"
   ]
  },
  {
   "cell_type": "markdown",
   "id": "871af09b",
   "metadata": {},
   "source": [
    "1.list of products with a base price greater than 500 and that are featured\n",
    "in promo type of 'BOGOF' (Buy One Get One Free). This information will help us\n",
    "identify high-value products that are currently being heavily discounted, which\n",
    "can be useful for evaluating our pricing and promotion strategies.\n"
   ]
  },
  {
   "cell_type": "code",
   "execution_count": 53,
   "id": "c6798dd7",
   "metadata": {},
   "outputs": [
    {
     "data": {
      "application/vnd.microsoft.datawrangler.viewer.v0+json": {
       "columns": [
        {
         "name": "index",
         "rawType": "int64",
         "type": "integer"
        },
        {
         "name": "event_id",
         "rawType": "object",
         "type": "string"
        },
        {
         "name": "store_id",
         "rawType": "object",
         "type": "string"
        },
        {
         "name": "campaign_id",
         "rawType": "object",
         "type": "string"
        },
        {
         "name": "product_code",
         "rawType": "object",
         "type": "string"
        },
        {
         "name": "base_price",
         "rawType": "int64",
         "type": "integer"
        },
        {
         "name": "promo_type",
         "rawType": "object",
         "type": "string"
        },
        {
         "name": "quantity_sold(before_promo)",
         "rawType": "int64",
         "type": "integer"
        },
        {
         "name": "quantity_sold(after_promo)",
         "rawType": "int64",
         "type": "integer"
        },
        {
         "name": "Unnamed: 8",
         "rawType": "float64",
         "type": "float"
        },
        {
         "name": "Unnamed: 9",
         "rawType": "float64",
         "type": "float"
        },
        {
         "name": "Unnamed: 10",
         "rawType": "float64",
         "type": "float"
        },
        {
         "name": "city",
         "rawType": "object",
         "type": "string"
        },
        {
         "name": "total_quantity_sold",
         "rawType": "int64",
         "type": "integer"
        },
        {
         "name": "product_name",
         "rawType": "object",
         "type": "string"
        }
       ],
       "ref": "12ab01f1-0a97-4f05-af8c-57c1cba7fbaf",
       "rows": [
        [
         "0",
         "7f650b",
         "STCBE-2",
         "CAMP_SAN_01",
         "P11",
         "190",
         "50% OFF",
         "34",
         "52",
         null,
         null,
         null,
         "coimbatore",
         "86",
         "Atliq_Doodh_Kesar_Body_Lotion (200ML)"
        ],
        [
         "1",
         "a21f91",
         "STBLR-8",
         "CAMP_DIW_01",
         "P03",
         "156",
         "25% OFF",
         "393",
         "322",
         null,
         null,
         null,
         "bengaluru",
         "715",
         "Atliq_Suflower_Oil (1L)"
        ],
        [
         "2",
         "78bc80",
         "STVJD-0",
         "CAMP_SAN_01",
         "P07",
         "300",
         "BOGOF",
         "22",
         "85",
         null,
         null,
         null,
         "vijayawada",
         "107",
         "Atliq_Curtains"
        ],
        [
         "3",
         "a1503f",
         "STCBE-1",
         "CAMP_DIW_01",
         "P15",
         "3000",
         "500 Cashback",
         "329",
         "1000",
         null,
         null,
         null,
         "coimbatore",
         "1329",
         "Atliq_Home_Essential_8_Product_Combo"
        ],
        [
         "4",
         "1091cf",
         "STBLR-6",
         "CAMP_DIW_01",
         "P05",
         "55",
         "25% OFF",
         "108",
         "93",
         null,
         null,
         null,
         "bengaluru",
         "201",
         "Atliq_Scrub_Sponge_For_Dishwash"
        ]
       ],
       "shape": {
        "columns": 14,
        "rows": 5
       }
      },
      "text/html": [
       "<div>\n",
       "<style scoped>\n",
       "    .dataframe tbody tr th:only-of-type {\n",
       "        vertical-align: middle;\n",
       "    }\n",
       "\n",
       "    .dataframe tbody tr th {\n",
       "        vertical-align: top;\n",
       "    }\n",
       "\n",
       "    .dataframe thead th {\n",
       "        text-align: right;\n",
       "    }\n",
       "</style>\n",
       "<table border=\"1\" class=\"dataframe\">\n",
       "  <thead>\n",
       "    <tr style=\"text-align: right;\">\n",
       "      <th></th>\n",
       "      <th>event_id</th>\n",
       "      <th>store_id</th>\n",
       "      <th>campaign_id</th>\n",
       "      <th>product_code</th>\n",
       "      <th>base_price</th>\n",
       "      <th>promo_type</th>\n",
       "      <th>quantity_sold(before_promo)</th>\n",
       "      <th>quantity_sold(after_promo)</th>\n",
       "      <th>Unnamed: 8</th>\n",
       "      <th>Unnamed: 9</th>\n",
       "      <th>Unnamed: 10</th>\n",
       "      <th>city</th>\n",
       "      <th>total_quantity_sold</th>\n",
       "      <th>product_name</th>\n",
       "    </tr>\n",
       "  </thead>\n",
       "  <tbody>\n",
       "    <tr>\n",
       "      <th>0</th>\n",
       "      <td>7f650b</td>\n",
       "      <td>STCBE-2</td>\n",
       "      <td>CAMP_SAN_01</td>\n",
       "      <td>P11</td>\n",
       "      <td>190</td>\n",
       "      <td>50% OFF</td>\n",
       "      <td>34</td>\n",
       "      <td>52</td>\n",
       "      <td>NaN</td>\n",
       "      <td>NaN</td>\n",
       "      <td>NaN</td>\n",
       "      <td>coimbatore</td>\n",
       "      <td>86</td>\n",
       "      <td>Atliq_Doodh_Kesar_Body_Lotion (200ML)</td>\n",
       "    </tr>\n",
       "    <tr>\n",
       "      <th>1</th>\n",
       "      <td>a21f91</td>\n",
       "      <td>STBLR-8</td>\n",
       "      <td>CAMP_DIW_01</td>\n",
       "      <td>P03</td>\n",
       "      <td>156</td>\n",
       "      <td>25% OFF</td>\n",
       "      <td>393</td>\n",
       "      <td>322</td>\n",
       "      <td>NaN</td>\n",
       "      <td>NaN</td>\n",
       "      <td>NaN</td>\n",
       "      <td>bengaluru</td>\n",
       "      <td>715</td>\n",
       "      <td>Atliq_Suflower_Oil (1L)</td>\n",
       "    </tr>\n",
       "    <tr>\n",
       "      <th>2</th>\n",
       "      <td>78bc80</td>\n",
       "      <td>STVJD-0</td>\n",
       "      <td>CAMP_SAN_01</td>\n",
       "      <td>P07</td>\n",
       "      <td>300</td>\n",
       "      <td>BOGOF</td>\n",
       "      <td>22</td>\n",
       "      <td>85</td>\n",
       "      <td>NaN</td>\n",
       "      <td>NaN</td>\n",
       "      <td>NaN</td>\n",
       "      <td>vijayawada</td>\n",
       "      <td>107</td>\n",
       "      <td>Atliq_Curtains</td>\n",
       "    </tr>\n",
       "    <tr>\n",
       "      <th>3</th>\n",
       "      <td>a1503f</td>\n",
       "      <td>STCBE-1</td>\n",
       "      <td>CAMP_DIW_01</td>\n",
       "      <td>P15</td>\n",
       "      <td>3000</td>\n",
       "      <td>500 Cashback</td>\n",
       "      <td>329</td>\n",
       "      <td>1000</td>\n",
       "      <td>NaN</td>\n",
       "      <td>NaN</td>\n",
       "      <td>NaN</td>\n",
       "      <td>coimbatore</td>\n",
       "      <td>1329</td>\n",
       "      <td>Atliq_Home_Essential_8_Product_Combo</td>\n",
       "    </tr>\n",
       "    <tr>\n",
       "      <th>4</th>\n",
       "      <td>1091cf</td>\n",
       "      <td>STBLR-6</td>\n",
       "      <td>CAMP_DIW_01</td>\n",
       "      <td>P05</td>\n",
       "      <td>55</td>\n",
       "      <td>25% OFF</td>\n",
       "      <td>108</td>\n",
       "      <td>93</td>\n",
       "      <td>NaN</td>\n",
       "      <td>NaN</td>\n",
       "      <td>NaN</td>\n",
       "      <td>bengaluru</td>\n",
       "      <td>201</td>\n",
       "      <td>Atliq_Scrub_Sponge_For_Dishwash</td>\n",
       "    </tr>\n",
       "  </tbody>\n",
       "</table>\n",
       "</div>"
      ],
      "text/plain": [
       "  event_id store_id  campaign_id product_code  base_price    promo_type  \\\n",
       "0   7f650b  STCBE-2  CAMP_SAN_01          P11         190       50% OFF   \n",
       "1   a21f91  STBLR-8  CAMP_DIW_01          P03         156       25% OFF   \n",
       "2   78bc80  STVJD-0  CAMP_SAN_01          P07         300         BOGOF   \n",
       "3   a1503f  STCBE-1  CAMP_DIW_01          P15        3000  500 Cashback   \n",
       "4   1091cf  STBLR-6  CAMP_DIW_01          P05          55       25% OFF   \n",
       "\n",
       "   quantity_sold(before_promo)  quantity_sold(after_promo)  Unnamed: 8  \\\n",
       "0                           34                          52         NaN   \n",
       "1                          393                         322         NaN   \n",
       "2                           22                          85         NaN   \n",
       "3                          329                        1000         NaN   \n",
       "4                          108                          93         NaN   \n",
       "\n",
       "   Unnamed: 9  Unnamed: 10        city  total_quantity_sold  \\\n",
       "0         NaN          NaN  coimbatore                   86   \n",
       "1         NaN          NaN   bengaluru                  715   \n",
       "2         NaN          NaN  vijayawada                  107   \n",
       "3         NaN          NaN  coimbatore                 1329   \n",
       "4         NaN          NaN   bengaluru                  201   \n",
       "\n",
       "                            product_name  \n",
       "0  Atliq_Doodh_Kesar_Body_Lotion (200ML)  \n",
       "1                Atliq_Suflower_Oil (1L)  \n",
       "2                         Atliq_Curtains  \n",
       "3   Atliq_Home_Essential_8_Product_Combo  \n",
       "4        Atliq_Scrub_Sponge_For_Dishwash  "
      ]
     },
     "execution_count": 53,
     "metadata": {},
     "output_type": "execute_result"
    }
   ],
   "source": [
    "event_data_clean = pd.merge(\n",
    "    event_data_clean,\n",
    "    product_data[['product_code', 'product_name']],\n",
    "    on='product_code',\n",
    "    how='left'\n",
    ")\n",
    "\n",
    "# Check result\n",
    "event_data_clean.head()"
   ]
  },
  {
   "cell_type": "code",
   "execution_count": 54,
   "id": "2af3a344",
   "metadata": {},
   "outputs": [
    {
     "name": "stdout",
     "output_type": "stream",
     "text": [
      "['Atliq_Double_Bedsheet_set' 'Atliq_waterproof_Immersion_Rod']\n"
     ]
    }
   ],
   "source": [
    "# Filter products with base price > 500 and promo code = 'BOGOF'\n",
    "high_value_bogof = event_data_clean[\n",
    "    (event_data_clean['base_price'] > 500) &\n",
    "    (event_data_clean['promo_type'] == 'BOGOF')\n",
    "][['product_name', 'base_price', 'promo_type']]\n",
    "\n",
    "# View the result\n",
    "print(high_value_bogof['product_name'].unique())"
   ]
  },
  {
   "cell_type": "markdown",
   "id": "0e8abdf0",
   "metadata": {},
   "source": [
    "2.overview of the number of stores in each city.\n",
    "The results will be sorted in descending order of store counts, allowing us to\n",
    "identify the cities with the highest store presence.The report includes two\n",
    "essential fields: city and store count, which will assist in optimizing our retail\n",
    "operations."
   ]
  },
  {
   "cell_type": "code",
   "execution_count": 55,
   "id": "aefa5b56",
   "metadata": {},
   "outputs": [
    {
     "data": {
      "application/vnd.microsoft.datawrangler.viewer.v0+json": {
       "columns": [
        {
         "name": "index",
         "rawType": "int64",
         "type": "integer"
        },
        {
         "name": "city",
         "rawType": "object",
         "type": "string"
        },
        {
         "name": "store_count",
         "rawType": "int64",
         "type": "integer"
        }
       ],
       "ref": "2b0796d2-730c-4ac1-a5a0-278409bf818b",
       "rows": [
        [
         "0",
         "bengaluru",
         "10"
        ],
        [
         "1",
         "chennai",
         "8"
        ],
        [
         "2",
         "hyderabad",
         "7"
        ],
        [
         "3",
         "coimbatore",
         "5"
        ],
        [
         "4",
         "visakhapatnam",
         "5"
        ],
        [
         "5",
         "madurai",
         "4"
        ],
        [
         "6",
         "mysuru",
         "4"
        ],
        [
         "7",
         "mangalore",
         "3"
        ],
        [
         "8",
         "trivandrum",
         "2"
        ],
        [
         "9",
         "vijayawada",
         "2"
        ]
       ],
       "shape": {
        "columns": 2,
        "rows": 10
       }
      },
      "text/html": [
       "<div>\n",
       "<style scoped>\n",
       "    .dataframe tbody tr th:only-of-type {\n",
       "        vertical-align: middle;\n",
       "    }\n",
       "\n",
       "    .dataframe tbody tr th {\n",
       "        vertical-align: top;\n",
       "    }\n",
       "\n",
       "    .dataframe thead th {\n",
       "        text-align: right;\n",
       "    }\n",
       "</style>\n",
       "<table border=\"1\" class=\"dataframe\">\n",
       "  <thead>\n",
       "    <tr style=\"text-align: right;\">\n",
       "      <th></th>\n",
       "      <th>city</th>\n",
       "      <th>store_count</th>\n",
       "    </tr>\n",
       "  </thead>\n",
       "  <tbody>\n",
       "    <tr>\n",
       "      <th>0</th>\n",
       "      <td>bengaluru</td>\n",
       "      <td>10</td>\n",
       "    </tr>\n",
       "    <tr>\n",
       "      <th>1</th>\n",
       "      <td>chennai</td>\n",
       "      <td>8</td>\n",
       "    </tr>\n",
       "    <tr>\n",
       "      <th>2</th>\n",
       "      <td>hyderabad</td>\n",
       "      <td>7</td>\n",
       "    </tr>\n",
       "    <tr>\n",
       "      <th>3</th>\n",
       "      <td>coimbatore</td>\n",
       "      <td>5</td>\n",
       "    </tr>\n",
       "    <tr>\n",
       "      <th>4</th>\n",
       "      <td>visakhapatnam</td>\n",
       "      <td>5</td>\n",
       "    </tr>\n",
       "    <tr>\n",
       "      <th>5</th>\n",
       "      <td>madurai</td>\n",
       "      <td>4</td>\n",
       "    </tr>\n",
       "    <tr>\n",
       "      <th>6</th>\n",
       "      <td>mysuru</td>\n",
       "      <td>4</td>\n",
       "    </tr>\n",
       "    <tr>\n",
       "      <th>7</th>\n",
       "      <td>mangalore</td>\n",
       "      <td>3</td>\n",
       "    </tr>\n",
       "    <tr>\n",
       "      <th>8</th>\n",
       "      <td>trivandrum</td>\n",
       "      <td>2</td>\n",
       "    </tr>\n",
       "    <tr>\n",
       "      <th>9</th>\n",
       "      <td>vijayawada</td>\n",
       "      <td>2</td>\n",
       "    </tr>\n",
       "  </tbody>\n",
       "</table>\n",
       "</div>"
      ],
      "text/plain": [
       "            city  store_count\n",
       "0      bengaluru           10\n",
       "1        chennai            8\n",
       "2      hyderabad            7\n",
       "3     coimbatore            5\n",
       "4  visakhapatnam            5\n",
       "5        madurai            4\n",
       "6         mysuru            4\n",
       "7      mangalore            3\n",
       "8     trivandrum            2\n",
       "9     vijayawada            2"
      ]
     },
     "execution_count": 55,
     "metadata": {},
     "output_type": "execute_result"
    }
   ],
   "source": [
    "# --- Report: Number of stores per city ---\n",
    "store_report = (\n",
    "    event_data_clean.groupby('city', as_index=False)['store_id']\n",
    "    .nunique()\n",
    "    .rename(columns={'store_id': 'store_count'})\n",
    "    .sort_values(by='store_count', ascending=False)\n",
    "    .reset_index(drop=True)\n",
    ")\n",
    "\n",
    "# View the report\n",
    "store_report"
   ]
  },
  {
   "cell_type": "markdown",
   "id": "718638d2",
   "metadata": {},
   "source": [
    "3.Each campaign along with the total revenue generated before and after the campaign? The report includes three key fields:\n",
    "campaign_name, total_revenue (before_promotion), total_revenue(after_promotion). This report should help in evaluating the financial impact of our promotional campaigns. (Display the values in millions)"
   ]
  },
  {
   "cell_type": "code",
   "execution_count": 56,
   "id": "a735de36",
   "metadata": {},
   "outputs": [
    {
     "name": "stdout",
     "output_type": "stream",
     "text": [
      "['50% OFF' '25% OFF' 'BOGOF' '500 Cashback' '33% OFF']\n"
     ]
    }
   ],
   "source": [
    "print(event_data_clean['promo_type'].unique())"
   ]
  },
  {
   "cell_type": "code",
   "execution_count": 57,
   "id": "f889a409",
   "metadata": {},
   "outputs": [],
   "source": [
    "# --- helper: compute promo discount per unit ---\n",
    "def calculate_discount_per_unit(promo, base_price):\n",
    "    if pd.isna(promo) or promo == \"\":\n",
    "        return 0.0\n",
    "    p = str(promo).strip().upper()\n",
    "    if \"BOGOF\" in p or \"50% OFF\" in p:\n",
    "        return base_price * 0.50\n",
    "    if \"25% OFF\" in p:\n",
    "        return base_price * 0.25\n",
    "    if \"33% OFF\" in p:\n",
    "        return base_price * 0.33\n",
    "    if \"CASHBACK\" in p:\n",
    "        # fixed cashback of 500 as requested\n",
    "        return base_price - 500.0\n",
    "    return 0.0"
   ]
  },
  {
   "cell_type": "code",
   "execution_count": 58,
   "id": "2b5ee979",
   "metadata": {},
   "outputs": [],
   "source": [
    "# --- ensure discount and revenue columns exist ---\n",
    "event_data_clean['promo_discount'] = event_data_clean.apply(\n",
    "    lambda r: calculate_discount_per_unit(r.get('promo_type', ''), r.get('base_price', 0.0)),\n",
    "    axis=1\n",
    ")\n",
    "\n",
    "# use exact column names from your dataset (adjust if names differ)\n",
    "q_before_col = 'quantity_sold(before_promo)'\n",
    "q_after_col  = 'quantity_sold(after_promo)'\n",
    "base_col     = 'base_price'\n",
    "\n",
    "event_data_clean['revenue_before_promo'] = (\n",
    "    event_data_clean[q_before_col].fillna(0) * event_data_clean[base_col].fillna(0)\n",
    ")\n",
    "\n",
    "event_data_clean['revenue_after_promo'] = (\n",
    "    event_data_clean[q_after_col].fillna(0) * \n",
    "    (event_data_clean[base_col].fillna(0) - event_data_clean['promo_discount'].fillna(0))\n",
    ")\n"
   ]
  },
  {
   "cell_type": "code",
   "execution_count": 59,
   "id": "936fdb1d",
   "metadata": {},
   "outputs": [],
   "source": [
    "# --- aggregate by campaign ---\n",
    "campaign_revenue = (\n",
    "    event_data_clean.groupby('campaign_id', as_index=True)[\n",
    "        ['revenue_before_promo', 'revenue_after_promo']\n",
    "    ].sum()\n",
    ")"
   ]
  },
  {
   "cell_type": "code",
   "execution_count": 60,
   "id": "6264b224",
   "metadata": {},
   "outputs": [],
   "source": [
    "# --- convert to millions and add change columns ---\n",
    "campaign_revenue = campaign_revenue.assign(\n",
    "    revenue_before_million = (campaign_revenue['revenue_before_promo'] / 1_000_000).round(2),\n",
    "    revenue_after_million  = (campaign_revenue['revenue_after_promo']  / 1_000_000).round(2)\n",
    ")\n",
    "\n",
    "campaign_revenue['revenue_change_million'] = (\n",
    "    (campaign_revenue['revenue_after_million'] - campaign_revenue['revenue_before_million']).round(2)\n",
    ")\n"
   ]
  },
  {
   "cell_type": "code",
   "execution_count": 61,
   "id": "f89e37fb",
   "metadata": {},
   "outputs": [
    {
     "name": "stdout",
     "output_type": "stream",
     "text": [
      "   campaign_id  revenue_before_million  revenue_after_million  \\\n",
      "0  CAMP_DIW_01                   82.57                  58.75   \n",
      "1  CAMP_SAN_01                   58.13                  62.87   \n",
      "\n",
      "   revenue_change_million  \n",
      "0                  -23.82  \n",
      "1                    4.74  \n"
     ]
    }
   ],
   "source": [
    "# --- final report (sorted by revenue_before_million desc) ---\n",
    "report = campaign_revenue[\n",
    "    ['revenue_before_million', 'revenue_after_million', 'revenue_change_million']\n",
    "].sort_values('revenue_before_million', ascending=False).reset_index()\n",
    "\n",
    "print(report)"
   ]
  },
  {
   "cell_type": "markdown",
   "id": "7da33be6",
   "metadata": {},
   "source": [
    "4.The Incremental Sold Quantity (ISU%) for each category during the Diwali campaign. Additionally, provide rankings for the categories based on their ISU%. The report will include three key fields: category, isu%, and rank order.\n"
   ]
  },
  {
   "cell_type": "code",
   "execution_count": 62,
   "id": "b861d97e",
   "metadata": {},
   "outputs": [],
   "source": [
    "import numpy as np\n",
    "import pandas as pd"
   ]
  },
  {
   "cell_type": "code",
   "execution_count": 63,
   "id": "c2669be8",
   "metadata": {},
   "outputs": [],
   "source": [
    "def compute_isu_percent_series(df,\n",
    "                               before_col='quantity_sold(before_promo)',\n",
    "                               after_col='quantity_sold(after_promo)'):\n",
    "    before = df[before_col].fillna(0).astype(float)\n",
    "    after  = df[after_col].fillna(0).astype(float)\n",
    "\n",
    "    # vectorised computation\n",
    "    isu = np.where(\n",
    "        before == 0,\n",
    "        np.where(after == 0, 0.0, np.inf),\n",
    "        ((after - before) / before) * 100.0\n",
    "    )\n",
    "\n",
    "    return pd.Series(isu, index=df.index, name='isu_percent')\n"
   ]
  },
  {
   "cell_type": "code",
   "execution_count": 64,
   "id": "864dc3ab",
   "metadata": {},
   "outputs": [
    {
     "data": {
      "application/vnd.microsoft.datawrangler.viewer.v0+json": {
       "columns": [
        {
         "name": "index",
         "rawType": "int64",
         "type": "integer"
        },
        {
         "name": "event_id",
         "rawType": "object",
         "type": "string"
        },
        {
         "name": "store_id",
         "rawType": "object",
         "type": "string"
        },
        {
         "name": "campaign_id",
         "rawType": "object",
         "type": "string"
        },
        {
         "name": "product_code",
         "rawType": "object",
         "type": "string"
        },
        {
         "name": "base_price",
         "rawType": "int64",
         "type": "integer"
        },
        {
         "name": "promo_type",
         "rawType": "object",
         "type": "string"
        },
        {
         "name": "quantity_sold(before_promo)",
         "rawType": "int64",
         "type": "integer"
        },
        {
         "name": "quantity_sold(after_promo)",
         "rawType": "int64",
         "type": "integer"
        },
        {
         "name": "Unnamed: 8",
         "rawType": "float64",
         "type": "float"
        },
        {
         "name": "Unnamed: 9",
         "rawType": "float64",
         "type": "float"
        },
        {
         "name": "Unnamed: 10",
         "rawType": "float64",
         "type": "float"
        },
        {
         "name": "city",
         "rawType": "object",
         "type": "string"
        },
        {
         "name": "total_quantity_sold",
         "rawType": "int64",
         "type": "integer"
        },
        {
         "name": "product_name",
         "rawType": "object",
         "type": "string"
        },
        {
         "name": "promo_discount",
         "rawType": "float64",
         "type": "float"
        },
        {
         "name": "revenue_before_promo",
         "rawType": "int64",
         "type": "integer"
        },
        {
         "name": "revenue_after_promo",
         "rawType": "float64",
         "type": "float"
        },
        {
         "name": "category",
         "rawType": "object",
         "type": "string"
        }
       ],
       "ref": "e94c86f8-9833-4b01-bb69-67ef401bfdd3",
       "rows": [
        [
         "0",
         "7f650b",
         "STCBE-2",
         "CAMP_SAN_01",
         "P11",
         "190",
         "50% OFF",
         "34",
         "52",
         null,
         null,
         null,
         "coimbatore",
         "86",
         "Atliq_Doodh_Kesar_Body_Lotion (200ML)",
         "95.0",
         "6460",
         "4940.0",
         "Personal Care"
        ],
        [
         "1",
         "a21f91",
         "STBLR-8",
         "CAMP_DIW_01",
         "P03",
         "156",
         "25% OFF",
         "393",
         "322",
         null,
         null,
         null,
         "bengaluru",
         "715",
         "Atliq_Suflower_Oil (1L)",
         "39.0",
         "61308",
         "37674.0",
         "Grocery & Staples"
        ],
        [
         "2",
         "78bc80",
         "STVJD-0",
         "CAMP_SAN_01",
         "P07",
         "300",
         "BOGOF",
         "22",
         "85",
         null,
         null,
         null,
         "vijayawada",
         "107",
         "Atliq_Curtains",
         "150.0",
         "6600",
         "12750.0",
         "Home Care"
        ],
        [
         "3",
         "a1503f",
         "STCBE-1",
         "CAMP_DIW_01",
         "P15",
         "3000",
         "500 Cashback",
         "329",
         "1000",
         null,
         null,
         null,
         "coimbatore",
         "1329",
         "Atliq_Home_Essential_8_Product_Combo",
         "2500.0",
         "987000",
         "500000.0",
         "Combo1"
        ],
        [
         "4",
         "1091cf",
         "STBLR-6",
         "CAMP_DIW_01",
         "P05",
         "55",
         "25% OFF",
         "108",
         "93",
         null,
         null,
         null,
         "bengaluru",
         "201",
         "Atliq_Scrub_Sponge_For_Dishwash",
         "13.75",
         "5940",
         "3836.25",
         "Home Care"
        ],
        [
         "5",
         "8.02E+96",
         "STBLR-4",
         "CAMP_DIW_01",
         "P11",
         "190",
         "50% OFF",
         "91",
         "116",
         null,
         null,
         null,
         "bengaluru",
         "207",
         "Atliq_Doodh_Kesar_Body_Lotion (200ML)",
         "95.0",
         "17290",
         "11020.0",
         "Personal Care"
        ],
        [
         "6",
         "73d86f",
         "STVSK-2",
         "CAMP_SAN_01",
         "P10",
         "50",
         "25% OFF",
         "31",
         "26",
         null,
         null,
         null,
         "visakhapatnam",
         "57",
         "Atliq_Cream_Beauty_Bathing_Soap (125GM)",
         "12.5",
         "1550",
         "975.0",
         "Personal Care"
        ],
        [
         "7",
         "fe3560",
         "STHYD-4",
         "CAMP_DIW_01",
         "P13",
         "350",
         "BOGOF",
         "73",
         "245",
         null,
         null,
         null,
         "hyderabad",
         "318",
         "Atliq_High_Glo_15W_LED_Bulb",
         "175.0",
         "25550",
         "42875.0",
         "Home Appliances"
        ],
        [
         "8",
         "6b2afc",
         "STCBE-4",
         "CAMP_SAN_01",
         "P08",
         "1190",
         "BOGOF",
         "30",
         "79",
         null,
         null,
         null,
         "coimbatore",
         "109",
         "Atliq_Double_Bedsheet_set",
         "595.0",
         "35700",
         "47005.0",
         "Home Care"
        ],
        [
         "9",
         "ce5851",
         "STMDU-2",
         "CAMP_SAN_01",
         "P03",
         "200",
         "BOGOF",
         "318",
         "1265",
         null,
         null,
         null,
         "madurai",
         "1583",
         "Atliq_Suflower_Oil (1L)",
         "100.0",
         "63600",
         "126500.0",
         "Grocery & Staples"
        ],
        [
         "10",
         "dd6685",
         "STMYS-2",
         "CAMP_DIW_01",
         "P06",
         "415",
         "25% OFF",
         "78",
         "70",
         null,
         null,
         null,
         "mysuru",
         "148",
         "Atliq_Fusion_Container_Set_of_3",
         "103.75",
         "32370",
         "21787.5",
         "Home Care"
        ],
        [
         "11",
         "8f25a6",
         "STHYD-6",
         "CAMP_SAN_01",
         "P15",
         "3000",
         "500 Cashback",
         "126",
         "302",
         null,
         null,
         null,
         "hyderabad",
         "428",
         "Atliq_Home_Essential_8_Product_Combo",
         "2500.0",
         "378000",
         "151000.0",
         "Combo1"
        ],
        [
         "12",
         "5c3c33",
         "STCHE-6",
         "CAMP_DIW_01",
         "P12",
         "62",
         "50% OFF",
         "154",
         "207",
         null,
         null,
         null,
         "chennai",
         "361",
         "Atliq_Lime_Cool_Bathing_Bar (125GM)",
         "31.0",
         "9548",
         "6417.0",
         "Personal Care"
        ],
        [
         "13",
         "d290a1",
         "STBLR-3",
         "CAMP_DIW_01",
         "P04",
         "290",
         "25% OFF",
         "343",
         "270",
         null,
         null,
         null,
         "bengaluru",
         "613",
         "Atliq_Farm_Chakki_Atta (1KG)",
         "72.5",
         "99470",
         "58725.0",
         "Grocery & Staples"
        ],
        [
         "14",
         "635862",
         "STVSK-4",
         "CAMP_SAN_01",
         "P02",
         "860",
         "33% OFF",
         "348",
         "480",
         null,
         null,
         null,
         "visakhapatnam",
         "828",
         "Atliq_Sonamasuri_Rice (10KG)",
         "283.8",
         "299280",
         "276576.0",
         "Grocery & Staples"
        ],
        [
         "15",
         "c0ecb5",
         "STCHE-2",
         "CAMP_SAN_01",
         "P07",
         "300",
         "BOGOF",
         "43",
         "167",
         null,
         null,
         null,
         "chennai",
         "210",
         "Atliq_Curtains",
         "150.0",
         "12900",
         "25050.0",
         "Home Care"
        ],
        [
         "16",
         "182caa",
         "STCHE-5",
         "CAMP_SAN_01",
         "P06",
         "415",
         "25% OFF",
         "39",
         "33",
         null,
         null,
         null,
         "chennai",
         "72",
         "Atliq_Fusion_Container_Set_of_3",
         "103.75",
         "16185",
         "10271.25",
         "Home Care"
        ],
        [
         "17",
         "c4db5b",
         "STTRV-0",
         "CAMP_DIW_01",
         "P01",
         "172",
         "33% OFF",
         "164",
         "236",
         null,
         null,
         null,
         "trivandrum",
         "400",
         "Atliq_Masoor_Dal (1KG)",
         "56.760000000000005",
         "28208",
         "27196.64",
         "Grocery & Staples"
        ],
        [
         "18",
         "94f48c",
         "STVSK-1",
         "CAMP_SAN_01",
         "P06",
         "415",
         "25% OFF",
         "22",
         "16",
         null,
         null,
         null,
         "visakhapatnam",
         "38",
         "Atliq_Fusion_Container_Set_of_3",
         "103.75",
         "9130",
         "4980.0",
         "Home Care"
        ],
        [
         "19",
         "7ef92f",
         "STHYD-5",
         "CAMP_SAN_01",
         "P07",
         "300",
         "BOGOF",
         "55",
         "213",
         null,
         null,
         null,
         "hyderabad",
         "268",
         "Atliq_Curtains",
         "150.0",
         "16500",
         "31950.0",
         "Home Care"
        ],
        [
         "20",
         "0f422c",
         "STBLR-0",
         "CAMP_DIW_01",
         "P14",
         "1020",
         "BOGOF",
         "42",
         "168",
         null,
         null,
         null,
         "bengaluru",
         "210",
         "Atliq_waterproof_Immersion_Rod",
         "510.0",
         "42840",
         "85680.0",
         "Home Appliances"
        ],
        [
         "21",
         "1e9a06",
         "STCHE-4",
         "CAMP_DIW_01",
         "P13",
         "350",
         "BOGOF",
         "84",
         "338",
         null,
         null,
         null,
         "chennai",
         "422",
         "Atliq_High_Glo_15W_LED_Bulb",
         "175.0",
         "29400",
         "59150.0",
         "Home Appliances"
        ],
        [
         "22",
         "02ebe9",
         "STBLR-8",
         "CAMP_DIW_01",
         "P11",
         "190",
         "50% OFF",
         "66",
         "88",
         null,
         null,
         null,
         "bengaluru",
         "154",
         "Atliq_Doodh_Kesar_Body_Lotion (200ML)",
         "95.0",
         "12540",
         "8360.0",
         "Personal Care"
        ],
        [
         "23",
         "260ff2",
         "STMYS-2",
         "CAMP_SAN_01",
         "P01",
         "172",
         "33% OFF",
         "204",
         "291",
         null,
         null,
         null,
         "mysuru",
         "495",
         "Atliq_Masoor_Dal (1KG)",
         "56.760000000000005",
         "35088",
         "33534.84",
         "Grocery & Staples"
        ],
        [
         "24",
         "7fc923",
         "STTRV-0",
         "CAMP_SAN_01",
         "P08",
         "1190",
         "BOGOF",
         "19",
         "74",
         null,
         null,
         null,
         "trivandrum",
         "93",
         "Atliq_Double_Bedsheet_set",
         "595.0",
         "22610",
         "44030.0",
         "Home Care"
        ],
        [
         "25",
         "b08c12",
         "STMDU-3",
         "CAMP_DIW_01",
         "P03",
         "156",
         "25% OFF",
         "227",
         "202",
         null,
         null,
         null,
         "madurai",
         "429",
         "Atliq_Suflower_Oil (1L)",
         "39.0",
         "35412",
         "23634.0",
         "Grocery & Staples"
        ],
        [
         "26",
         "ca7298",
         "STCBE-2",
         "CAMP_SAN_01",
         "P15",
         "3000",
         "500 Cashback",
         "85",
         "228",
         null,
         null,
         null,
         "coimbatore",
         "313",
         "Atliq_Home_Essential_8_Product_Combo",
         "2500.0",
         "255000",
         "114000.0",
         "Combo1"
        ],
        [
         "27",
         "bf33ae",
         "STMYS-0",
         "CAMP_DIW_01",
         "P14",
         "1020",
         "BOGOF",
         "59",
         "182",
         null,
         null,
         null,
         "mysuru",
         "241",
         "Atliq_waterproof_Immersion_Rod",
         "510.0",
         "60180",
         "92820.0",
         "Home Appliances"
        ],
        [
         "28",
         "35fb5b",
         "STCBE-2",
         "CAMP_DIW_01",
         "P13",
         "350",
         "BOGOF",
         "50",
         "190",
         null,
         null,
         null,
         "coimbatore",
         "240",
         "Atliq_High_Glo_15W_LED_Bulb",
         "175.0",
         "17500",
         "33250.0",
         "Home Appliances"
        ],
        [
         "29",
         "def6ff",
         "STMDU-0",
         "CAMP_DIW_01",
         "P11",
         "190",
         "50% OFF",
         "70",
         "89",
         null,
         null,
         null,
         "madurai",
         "159",
         "Atliq_Doodh_Kesar_Body_Lotion (200ML)",
         "95.0",
         "13300",
         "8455.0",
         "Personal Care"
        ],
        [
         "30",
         "2f3e5d",
         "STCHE-2",
         "CAMP_SAN_01",
         "P01",
         "172",
         "33% OFF",
         "333",
         "402",
         null,
         null,
         null,
         "chennai",
         "735",
         "Atliq_Masoor_Dal (1KG)",
         "56.760000000000005",
         "57276",
         "46326.479999999996",
         "Grocery & Staples"
        ],
        [
         "31",
         "ca3893",
         "STMYS-1",
         "CAMP_SAN_01",
         "P09",
         "90",
         "25% OFF",
         "52",
         "39",
         null,
         null,
         null,
         "mysuru",
         "91",
         "Atliq_Body_Milk_Nourishing_Lotion (120ML)",
         "22.5",
         "4680",
         "2632.5",
         "Personal Care"
        ],
        [
         "32",
         "922e6a",
         "STBLR-8",
         "CAMP_SAN_01",
         "P05",
         "55",
         "25% OFF",
         "34",
         "24",
         null,
         null,
         null,
         "bengaluru",
         "58",
         "Atliq_Scrub_Sponge_For_Dishwash",
         "13.75",
         "1870",
         "990.0",
         "Home Care"
        ],
        [
         "33",
         "4f0587",
         "STMDU-0",
         "CAMP_SAN_01",
         "P08",
         "1190",
         "BOGOF",
         "33",
         "136",
         null,
         null,
         null,
         "madurai",
         "169",
         "Atliq_Double_Bedsheet_set",
         "595.0",
         "39270",
         "80920.0",
         "Home Care"
        ],
        [
         "34",
         "fa5b45",
         "STVJD-1",
         "CAMP_SAN_01",
         "P08",
         "1190",
         "BOGOF",
         "27",
         "109",
         null,
         null,
         null,
         "vijayawada",
         "136",
         "Atliq_Double_Bedsheet_set",
         "595.0",
         "32130",
         "64855.0",
         "Home Care"
        ],
        [
         "35",
         "df45ee",
         "STHYD-3",
         "CAMP_DIW_01",
         "P01",
         "172",
         "33% OFF",
         "309",
         "534",
         null,
         null,
         null,
         "hyderabad",
         "843",
         "Atliq_Masoor_Dal (1KG)",
         "56.760000000000005",
         "53148",
         "61538.159999999996",
         "Grocery & Staples"
        ],
        [
         "36",
         "f3ac85",
         "STBLR-5",
         "CAMP_SAN_01",
         "P03",
         "200",
         "BOGOF",
         "348",
         "1350",
         null,
         null,
         null,
         "bengaluru",
         "1698",
         "Atliq_Suflower_Oil (1L)",
         "100.0",
         "69600",
         "135000.0",
         "Grocery & Staples"
        ],
        [
         "37",
         "292ca5",
         "STHYD-2",
         "CAMP_DIW_01",
         "P04",
         "290",
         "25% OFF",
         "287",
         "220",
         null,
         null,
         null,
         "hyderabad",
         "507",
         "Atliq_Farm_Chakki_Atta (1KG)",
         "72.5",
         "83230",
         "47850.0",
         "Grocery & Staples"
        ],
        [
         "38",
         "620715",
         "STMYS-3",
         "CAMP_SAN_01",
         "P03",
         "200",
         "BOGOF",
         "340",
         "1485",
         null,
         null,
         null,
         "mysuru",
         "1825",
         "Atliq_Suflower_Oil (1L)",
         "100.0",
         "68000",
         "148500.0",
         "Grocery & Staples"
        ],
        [
         "39",
         "7e9777",
         "STVJD-1",
         "CAMP_DIW_01",
         "P08",
         "1190",
         "BOGOF",
         "24",
         "82",
         null,
         null,
         null,
         "vijayawada",
         "106",
         "Atliq_Double_Bedsheet_set",
         "595.0",
         "28560",
         "48790.0",
         "Home Care"
        ],
        [
         "40",
         "761785",
         "STBLR-4",
         "CAMP_SAN_01",
         "P14",
         "1020",
         "BOGOF",
         "121",
         "474",
         null,
         null,
         null,
         "bengaluru",
         "595",
         "Atliq_waterproof_Immersion_Rod",
         "510.0",
         "123420",
         "241740.0",
         "Home Appliances"
        ],
        [
         "41",
         "eb3bea",
         "STVSK-2",
         "CAMP_SAN_01",
         "P15",
         "3000",
         "500 Cashback",
         "109",
         "238",
         null,
         null,
         null,
         "visakhapatnam",
         "347",
         "Atliq_Home_Essential_8_Product_Combo",
         "2500.0",
         "327000",
         "119000.0",
         "Combo1"
        ],
        [
         "42",
         "276150",
         "STCBE-3",
         "CAMP_SAN_01",
         "P07",
         "300",
         "BOGOF",
         "33",
         "128",
         null,
         null,
         null,
         "coimbatore",
         "161",
         "Atliq_Curtains",
         "150.0",
         "9900",
         "19200.0",
         "Home Care"
        ],
        [
         "43",
         "3beb46",
         "STMYS-2",
         "CAMP_SAN_01",
         "P13",
         "350",
         "BOGOF",
         "81",
         "208",
         null,
         null,
         null,
         "mysuru",
         "289",
         "Atliq_High_Glo_15W_LED_Bulb",
         "175.0",
         "28350",
         "36400.0",
         "Home Appliances"
        ],
        [
         "44",
         "47af00",
         "STVJD-1",
         "CAMP_DIW_01",
         "P03",
         "156",
         "25% OFF",
         "183",
         "150",
         null,
         null,
         null,
         "vijayawada",
         "333",
         "Atliq_Suflower_Oil (1L)",
         "39.0",
         "28548",
         "17550.0",
         "Grocery & Staples"
        ],
        [
         "45",
         "627200",
         "STCBE-4",
         "CAMP_DIW_01",
         "P14",
         "1020",
         "BOGOF",
         "36",
         "111",
         null,
         null,
         null,
         "coimbatore",
         "147",
         "Atliq_waterproof_Immersion_Rod",
         "510.0",
         "36720",
         "56610.0",
         "Home Appliances"
        ],
        [
         "46",
         "bc8315",
         "STHYD-1",
         "CAMP_DIW_01",
         "P12",
         "62",
         "50% OFF",
         "122",
         "135",
         null,
         null,
         null,
         "hyderabad",
         "257",
         "Atliq_Lime_Cool_Bathing_Bar (125GM)",
         "31.0",
         "7564",
         "4185.0",
         "Personal Care"
        ],
        [
         "47",
         "1f083a",
         "STVJD-0",
         "CAMP_SAN_01",
         "P06",
         "415",
         "25% OFF",
         "16",
         "14",
         null,
         null,
         null,
         "vijayawada",
         "30",
         "Atliq_Fusion_Container_Set_of_3",
         "103.75",
         "6640",
         "4357.5",
         "Home Care"
        ],
        [
         "48",
         "c1e0b6",
         "STCHE-6",
         "CAMP_SAN_01",
         "P01",
         "172",
         "33% OFF",
         "273",
         "379",
         null,
         null,
         null,
         "chennai",
         "652",
         "Atliq_Masoor_Dal (1KG)",
         "56.760000000000005",
         "46956",
         "43675.96",
         "Grocery & Staples"
        ],
        [
         "49",
         "f60d93",
         "STCBE-0",
         "CAMP_DIW_01",
         "P05",
         "55",
         "25% OFF",
         "78",
         "75",
         null,
         null,
         null,
         "coimbatore",
         "153",
         "Atliq_Scrub_Sponge_For_Dishwash",
         "13.75",
         "4290",
         "3093.75",
         "Home Care"
        ]
       ],
       "shape": {
        "columns": 18,
        "rows": 1500
       }
      },
      "text/html": [
       "<div>\n",
       "<style scoped>\n",
       "    .dataframe tbody tr th:only-of-type {\n",
       "        vertical-align: middle;\n",
       "    }\n",
       "\n",
       "    .dataframe tbody tr th {\n",
       "        vertical-align: top;\n",
       "    }\n",
       "\n",
       "    .dataframe thead th {\n",
       "        text-align: right;\n",
       "    }\n",
       "</style>\n",
       "<table border=\"1\" class=\"dataframe\">\n",
       "  <thead>\n",
       "    <tr style=\"text-align: right;\">\n",
       "      <th></th>\n",
       "      <th>event_id</th>\n",
       "      <th>store_id</th>\n",
       "      <th>campaign_id</th>\n",
       "      <th>product_code</th>\n",
       "      <th>base_price</th>\n",
       "      <th>promo_type</th>\n",
       "      <th>quantity_sold(before_promo)</th>\n",
       "      <th>quantity_sold(after_promo)</th>\n",
       "      <th>Unnamed: 8</th>\n",
       "      <th>Unnamed: 9</th>\n",
       "      <th>Unnamed: 10</th>\n",
       "      <th>city</th>\n",
       "      <th>total_quantity_sold</th>\n",
       "      <th>product_name</th>\n",
       "      <th>promo_discount</th>\n",
       "      <th>revenue_before_promo</th>\n",
       "      <th>revenue_after_promo</th>\n",
       "      <th>category</th>\n",
       "    </tr>\n",
       "  </thead>\n",
       "  <tbody>\n",
       "    <tr>\n",
       "      <th>0</th>\n",
       "      <td>7f650b</td>\n",
       "      <td>STCBE-2</td>\n",
       "      <td>CAMP_SAN_01</td>\n",
       "      <td>P11</td>\n",
       "      <td>190</td>\n",
       "      <td>50% OFF</td>\n",
       "      <td>34</td>\n",
       "      <td>52</td>\n",
       "      <td>NaN</td>\n",
       "      <td>NaN</td>\n",
       "      <td>NaN</td>\n",
       "      <td>coimbatore</td>\n",
       "      <td>86</td>\n",
       "      <td>Atliq_Doodh_Kesar_Body_Lotion (200ML)</td>\n",
       "      <td>95.00</td>\n",
       "      <td>6460</td>\n",
       "      <td>4940.00</td>\n",
       "      <td>Personal Care</td>\n",
       "    </tr>\n",
       "    <tr>\n",
       "      <th>1</th>\n",
       "      <td>a21f91</td>\n",
       "      <td>STBLR-8</td>\n",
       "      <td>CAMP_DIW_01</td>\n",
       "      <td>P03</td>\n",
       "      <td>156</td>\n",
       "      <td>25% OFF</td>\n",
       "      <td>393</td>\n",
       "      <td>322</td>\n",
       "      <td>NaN</td>\n",
       "      <td>NaN</td>\n",
       "      <td>NaN</td>\n",
       "      <td>bengaluru</td>\n",
       "      <td>715</td>\n",
       "      <td>Atliq_Suflower_Oil (1L)</td>\n",
       "      <td>39.00</td>\n",
       "      <td>61308</td>\n",
       "      <td>37674.00</td>\n",
       "      <td>Grocery &amp; Staples</td>\n",
       "    </tr>\n",
       "    <tr>\n",
       "      <th>2</th>\n",
       "      <td>78bc80</td>\n",
       "      <td>STVJD-0</td>\n",
       "      <td>CAMP_SAN_01</td>\n",
       "      <td>P07</td>\n",
       "      <td>300</td>\n",
       "      <td>BOGOF</td>\n",
       "      <td>22</td>\n",
       "      <td>85</td>\n",
       "      <td>NaN</td>\n",
       "      <td>NaN</td>\n",
       "      <td>NaN</td>\n",
       "      <td>vijayawada</td>\n",
       "      <td>107</td>\n",
       "      <td>Atliq_Curtains</td>\n",
       "      <td>150.00</td>\n",
       "      <td>6600</td>\n",
       "      <td>12750.00</td>\n",
       "      <td>Home Care</td>\n",
       "    </tr>\n",
       "    <tr>\n",
       "      <th>3</th>\n",
       "      <td>a1503f</td>\n",
       "      <td>STCBE-1</td>\n",
       "      <td>CAMP_DIW_01</td>\n",
       "      <td>P15</td>\n",
       "      <td>3000</td>\n",
       "      <td>500 Cashback</td>\n",
       "      <td>329</td>\n",
       "      <td>1000</td>\n",
       "      <td>NaN</td>\n",
       "      <td>NaN</td>\n",
       "      <td>NaN</td>\n",
       "      <td>coimbatore</td>\n",
       "      <td>1329</td>\n",
       "      <td>Atliq_Home_Essential_8_Product_Combo</td>\n",
       "      <td>2500.00</td>\n",
       "      <td>987000</td>\n",
       "      <td>500000.00</td>\n",
       "      <td>Combo1</td>\n",
       "    </tr>\n",
       "    <tr>\n",
       "      <th>4</th>\n",
       "      <td>1091cf</td>\n",
       "      <td>STBLR-6</td>\n",
       "      <td>CAMP_DIW_01</td>\n",
       "      <td>P05</td>\n",
       "      <td>55</td>\n",
       "      <td>25% OFF</td>\n",
       "      <td>108</td>\n",
       "      <td>93</td>\n",
       "      <td>NaN</td>\n",
       "      <td>NaN</td>\n",
       "      <td>NaN</td>\n",
       "      <td>bengaluru</td>\n",
       "      <td>201</td>\n",
       "      <td>Atliq_Scrub_Sponge_For_Dishwash</td>\n",
       "      <td>13.75</td>\n",
       "      <td>5940</td>\n",
       "      <td>3836.25</td>\n",
       "      <td>Home Care</td>\n",
       "    </tr>\n",
       "    <tr>\n",
       "      <th>...</th>\n",
       "      <td>...</td>\n",
       "      <td>...</td>\n",
       "      <td>...</td>\n",
       "      <td>...</td>\n",
       "      <td>...</td>\n",
       "      <td>...</td>\n",
       "      <td>...</td>\n",
       "      <td>...</td>\n",
       "      <td>...</td>\n",
       "      <td>...</td>\n",
       "      <td>...</td>\n",
       "      <td>...</td>\n",
       "      <td>...</td>\n",
       "      <td>...</td>\n",
       "      <td>...</td>\n",
       "      <td>...</td>\n",
       "      <td>...</td>\n",
       "      <td>...</td>\n",
       "    </tr>\n",
       "    <tr>\n",
       "      <th>1495</th>\n",
       "      <td>1e8961</td>\n",
       "      <td>STBLR-3</td>\n",
       "      <td>CAMP_SAN_01</td>\n",
       "      <td>P12</td>\n",
       "      <td>62</td>\n",
       "      <td>50% OFF</td>\n",
       "      <td>61</td>\n",
       "      <td>84</td>\n",
       "      <td>NaN</td>\n",
       "      <td>NaN</td>\n",
       "      <td>NaN</td>\n",
       "      <td>bengaluru</td>\n",
       "      <td>145</td>\n",
       "      <td>Atliq_Lime_Cool_Bathing_Bar (125GM)</td>\n",
       "      <td>31.00</td>\n",
       "      <td>3782</td>\n",
       "      <td>2604.00</td>\n",
       "      <td>Personal Care</td>\n",
       "    </tr>\n",
       "    <tr>\n",
       "      <th>1496</th>\n",
       "      <td>f957f1</td>\n",
       "      <td>STMDU-1</td>\n",
       "      <td>CAMP_SAN_01</td>\n",
       "      <td>P10</td>\n",
       "      <td>50</td>\n",
       "      <td>25% OFF</td>\n",
       "      <td>22</td>\n",
       "      <td>18</td>\n",
       "      <td>NaN</td>\n",
       "      <td>NaN</td>\n",
       "      <td>NaN</td>\n",
       "      <td>madurai</td>\n",
       "      <td>40</td>\n",
       "      <td>Atliq_Cream_Beauty_Bathing_Soap (125GM)</td>\n",
       "      <td>12.50</td>\n",
       "      <td>1100</td>\n",
       "      <td>675.00</td>\n",
       "      <td>Personal Care</td>\n",
       "    </tr>\n",
       "    <tr>\n",
       "      <th>1497</th>\n",
       "      <td>a9ae21</td>\n",
       "      <td>STCBE-0</td>\n",
       "      <td>CAMP_DIW_01</td>\n",
       "      <td>P12</td>\n",
       "      <td>62</td>\n",
       "      <td>50% OFF</td>\n",
       "      <td>80</td>\n",
       "      <td>119</td>\n",
       "      <td>NaN</td>\n",
       "      <td>NaN</td>\n",
       "      <td>NaN</td>\n",
       "      <td>coimbatore</td>\n",
       "      <td>199</td>\n",
       "      <td>Atliq_Lime_Cool_Bathing_Bar (125GM)</td>\n",
       "      <td>31.00</td>\n",
       "      <td>4960</td>\n",
       "      <td>3689.00</td>\n",
       "      <td>Personal Care</td>\n",
       "    </tr>\n",
       "    <tr>\n",
       "      <th>1498</th>\n",
       "      <td>e5d28d</td>\n",
       "      <td>STVSK-0</td>\n",
       "      <td>CAMP_SAN_01</td>\n",
       "      <td>P13</td>\n",
       "      <td>350</td>\n",
       "      <td>BOGOF</td>\n",
       "      <td>73</td>\n",
       "      <td>282</td>\n",
       "      <td>NaN</td>\n",
       "      <td>NaN</td>\n",
       "      <td>NaN</td>\n",
       "      <td>visakhapatnam</td>\n",
       "      <td>355</td>\n",
       "      <td>Atliq_High_Glo_15W_LED_Bulb</td>\n",
       "      <td>175.00</td>\n",
       "      <td>25550</td>\n",
       "      <td>49350.00</td>\n",
       "      <td>Home Appliances</td>\n",
       "    </tr>\n",
       "    <tr>\n",
       "      <th>1499</th>\n",
       "      <td>4d22d1</td>\n",
       "      <td>STBLR-9</td>\n",
       "      <td>CAMP_SAN_01</td>\n",
       "      <td>P12</td>\n",
       "      <td>62</td>\n",
       "      <td>50% OFF</td>\n",
       "      <td>52</td>\n",
       "      <td>73</td>\n",
       "      <td>NaN</td>\n",
       "      <td>NaN</td>\n",
       "      <td>NaN</td>\n",
       "      <td>bengaluru</td>\n",
       "      <td>125</td>\n",
       "      <td>Atliq_Lime_Cool_Bathing_Bar (125GM)</td>\n",
       "      <td>31.00</td>\n",
       "      <td>3224</td>\n",
       "      <td>2263.00</td>\n",
       "      <td>Personal Care</td>\n",
       "    </tr>\n",
       "  </tbody>\n",
       "</table>\n",
       "<p>1500 rows × 18 columns</p>\n",
       "</div>"
      ],
      "text/plain": [
       "     event_id store_id  campaign_id product_code  base_price    promo_type  \\\n",
       "0      7f650b  STCBE-2  CAMP_SAN_01          P11         190       50% OFF   \n",
       "1      a21f91  STBLR-8  CAMP_DIW_01          P03         156       25% OFF   \n",
       "2      78bc80  STVJD-0  CAMP_SAN_01          P07         300         BOGOF   \n",
       "3      a1503f  STCBE-1  CAMP_DIW_01          P15        3000  500 Cashback   \n",
       "4      1091cf  STBLR-6  CAMP_DIW_01          P05          55       25% OFF   \n",
       "...       ...      ...          ...          ...         ...           ...   \n",
       "1495   1e8961  STBLR-3  CAMP_SAN_01          P12          62       50% OFF   \n",
       "1496   f957f1  STMDU-1  CAMP_SAN_01          P10          50       25% OFF   \n",
       "1497   a9ae21  STCBE-0  CAMP_DIW_01          P12          62       50% OFF   \n",
       "1498   e5d28d  STVSK-0  CAMP_SAN_01          P13         350         BOGOF   \n",
       "1499   4d22d1  STBLR-9  CAMP_SAN_01          P12          62       50% OFF   \n",
       "\n",
       "      quantity_sold(before_promo)  quantity_sold(after_promo)  Unnamed: 8  \\\n",
       "0                              34                          52         NaN   \n",
       "1                             393                         322         NaN   \n",
       "2                              22                          85         NaN   \n",
       "3                             329                        1000         NaN   \n",
       "4                             108                          93         NaN   \n",
       "...                           ...                         ...         ...   \n",
       "1495                           61                          84         NaN   \n",
       "1496                           22                          18         NaN   \n",
       "1497                           80                         119         NaN   \n",
       "1498                           73                         282         NaN   \n",
       "1499                           52                          73         NaN   \n",
       "\n",
       "      Unnamed: 9  Unnamed: 10           city  total_quantity_sold  \\\n",
       "0            NaN          NaN     coimbatore                   86   \n",
       "1            NaN          NaN      bengaluru                  715   \n",
       "2            NaN          NaN     vijayawada                  107   \n",
       "3            NaN          NaN     coimbatore                 1329   \n",
       "4            NaN          NaN      bengaluru                  201   \n",
       "...          ...          ...            ...                  ...   \n",
       "1495         NaN          NaN      bengaluru                  145   \n",
       "1496         NaN          NaN        madurai                   40   \n",
       "1497         NaN          NaN     coimbatore                  199   \n",
       "1498         NaN          NaN  visakhapatnam                  355   \n",
       "1499         NaN          NaN      bengaluru                  125   \n",
       "\n",
       "                                 product_name  promo_discount  \\\n",
       "0       Atliq_Doodh_Kesar_Body_Lotion (200ML)           95.00   \n",
       "1                     Atliq_Suflower_Oil (1L)           39.00   \n",
       "2                              Atliq_Curtains          150.00   \n",
       "3        Atliq_Home_Essential_8_Product_Combo         2500.00   \n",
       "4             Atliq_Scrub_Sponge_For_Dishwash           13.75   \n",
       "...                                       ...             ...   \n",
       "1495      Atliq_Lime_Cool_Bathing_Bar (125GM)           31.00   \n",
       "1496  Atliq_Cream_Beauty_Bathing_Soap (125GM)           12.50   \n",
       "1497      Atliq_Lime_Cool_Bathing_Bar (125GM)           31.00   \n",
       "1498              Atliq_High_Glo_15W_LED_Bulb          175.00   \n",
       "1499      Atliq_Lime_Cool_Bathing_Bar (125GM)           31.00   \n",
       "\n",
       "      revenue_before_promo  revenue_after_promo           category  \n",
       "0                     6460              4940.00      Personal Care  \n",
       "1                    61308             37674.00  Grocery & Staples  \n",
       "2                     6600             12750.00          Home Care  \n",
       "3                   987000            500000.00             Combo1  \n",
       "4                     5940              3836.25          Home Care  \n",
       "...                    ...                  ...                ...  \n",
       "1495                  3782              2604.00      Personal Care  \n",
       "1496                  1100               675.00      Personal Care  \n",
       "1497                  4960              3689.00      Personal Care  \n",
       "1498                 25550             49350.00    Home Appliances  \n",
       "1499                  3224              2263.00      Personal Care  \n",
       "\n",
       "[1500 rows x 18 columns]"
      ]
     },
     "execution_count": 64,
     "metadata": {},
     "output_type": "execute_result"
    }
   ],
   "source": [
    "# 1) Merge product category into event data (assumes product_data has 'product_code' & 'category')\n",
    "df = event_data_clean.merge(\n",
    "    product_data[['product_code', 'category']],\n",
    "    on='product_code',\n",
    "    how='left'\n",
    ")\n",
    "df"
   ]
  },
  {
   "cell_type": "code",
   "execution_count": 65,
   "id": "72c07e46",
   "metadata": {},
   "outputs": [],
   "source": [
    "Q_BEFORE = 'quantity_sold(before_promo)'\n",
    "Q_AFTER  = 'quantity_sold(after_promo)'\n",
    "DIWALI   = 'CAMP_DIW_01'   # <- use string, not bare name\n",
    "\n",
    "# 1) filter to Diwali\n",
    "df_diwali = df[df['campaign_id'] == DIWALI].copy()\n",
    "\n",
    "# 2) aggregate before/after by category\n",
    "cat_sales = (\n",
    "    df_diwali.groupby('category', as_index=False)\n",
    "    .agg(qty_before=(Q_BEFORE, 'sum'),\n",
    "         qty_after =(Q_AFTER,  'sum'))\n",
    ")\n",
    "\n",
    "# 3) compute ISU% using your function (returns a Series)\n",
    "cat_sales['isu_raw'] = compute_isu_percent_series(cat_sales, before_col='qty_before', after_col='qty_after')\n"
   ]
  },
  {
   "cell_type": "code",
   "execution_count": 66,
   "id": "ea4b9e10",
   "metadata": {},
   "outputs": [
    {
     "data": {
      "application/vnd.microsoft.datawrangler.viewer.v0+json": {
       "columns": [
        {
         "name": "index",
         "rawType": "int64",
         "type": "integer"
        },
        {
         "name": "category",
         "rawType": "object",
         "type": "string"
        },
        {
         "name": "isu%",
         "rawType": "float64",
         "type": "float"
        },
        {
         "name": "rank",
         "rawType": "int64",
         "type": "integer"
        }
       ],
       "ref": "7fbf8e3e-869e-4cfe-a645-94d45732a3d0",
       "rows": [
        [
         "0",
         "Home Appliances",
         "244.23",
         "1"
        ],
        [
         "1",
         "Combo1",
         "202.36",
         "2"
        ],
        [
         "2",
         "Home Care",
         "79.63",
         "3"
        ],
        [
         "3",
         "Personal Care",
         "31.06",
         "4"
        ],
        [
         "4",
         "Grocery & Staples",
         "18.05",
         "5"
        ]
       ],
       "shape": {
        "columns": 3,
        "rows": 5
       }
      },
      "text/html": [
       "<div>\n",
       "<style scoped>\n",
       "    .dataframe tbody tr th:only-of-type {\n",
       "        vertical-align: middle;\n",
       "    }\n",
       "\n",
       "    .dataframe tbody tr th {\n",
       "        vertical-align: top;\n",
       "    }\n",
       "\n",
       "    .dataframe thead th {\n",
       "        text-align: right;\n",
       "    }\n",
       "</style>\n",
       "<table border=\"1\" class=\"dataframe\">\n",
       "  <thead>\n",
       "    <tr style=\"text-align: right;\">\n",
       "      <th></th>\n",
       "      <th>category</th>\n",
       "      <th>isu%</th>\n",
       "      <th>rank</th>\n",
       "    </tr>\n",
       "  </thead>\n",
       "  <tbody>\n",
       "    <tr>\n",
       "      <th>0</th>\n",
       "      <td>Home Appliances</td>\n",
       "      <td>244.23</td>\n",
       "      <td>1</td>\n",
       "    </tr>\n",
       "    <tr>\n",
       "      <th>1</th>\n",
       "      <td>Combo1</td>\n",
       "      <td>202.36</td>\n",
       "      <td>2</td>\n",
       "    </tr>\n",
       "    <tr>\n",
       "      <th>2</th>\n",
       "      <td>Home Care</td>\n",
       "      <td>79.63</td>\n",
       "      <td>3</td>\n",
       "    </tr>\n",
       "    <tr>\n",
       "      <th>3</th>\n",
       "      <td>Personal Care</td>\n",
       "      <td>31.06</td>\n",
       "      <td>4</td>\n",
       "    </tr>\n",
       "    <tr>\n",
       "      <th>4</th>\n",
       "      <td>Grocery &amp; Staples</td>\n",
       "      <td>18.05</td>\n",
       "      <td>5</td>\n",
       "    </tr>\n",
       "  </tbody>\n",
       "</table>\n",
       "</div>"
      ],
      "text/plain": [
       "            category    isu%  rank\n",
       "0    Home Appliances  244.23     1\n",
       "1             Combo1  202.36     2\n",
       "2          Home Care   79.63     3\n",
       "3      Personal Care   31.06     4\n",
       "4  Grocery & Staples   18.05     5"
      ]
     },
     "execution_count": 66,
     "metadata": {},
     "output_type": "execute_result"
    }
   ],
   "source": [
    "# 4) rank (highest ISU% -> rank 1)\n",
    "import numpy as np\n",
    "temp = cat_sales['isu_raw'].replace(np.inf, 1e18)\n",
    "cat_sales['rank'] = temp.rank(method='dense', ascending=False).astype(int)\n",
    "\n",
    "# 5) final report\n",
    "cat_sales['isu%'] = cat_sales['isu_raw'].apply(lambda x: 'Inf (before=0)' if np.isinf(x) else round(x,2))\n",
    "diwali_category_isu_report = cat_sales[['category','isu%','rank']].sort_values('rank').reset_index(drop=True)\n",
    "\n",
    "diwali_category_isu_report"
   ]
  },
  {
   "cell_type": "markdown",
   "id": "548eb9b7",
   "metadata": {},
   "source": [
    "5.Top 5 products, ranked by Incremental Revenue Percentage (IR%), across all campaigns. The report will provide essential information including product name, category, and ir%. This analysis helps identify the most successful products in terms of incremental revenue across our campaigns, assisting in product optimization."
   ]
  },
  {
   "cell_type": "code",
   "execution_count": 67,
   "id": "d56d0909",
   "metadata": {},
   "outputs": [
    {
     "name": "stdout",
     "output_type": "stream",
     "text": [
      "Top 5 Products by Incremental Revenue Percentage (IR%)\n",
      "                      product_name           category        ir%\n",
      "14  Atliq_waterproof_Immersion_Rod    Home Appliances  79.309723\n",
      "4        Atliq_Double_Bedsheet_set          Home Care  79.184558\n",
      "7      Atliq_High_Glo_15W_LED_Bulb    Home Appliances  78.755620\n",
      "2                   Atliq_Curtains          Home Care  78.578537\n",
      "13         Atliq_Suflower_Oil (1L)  Grocery & Staples  26.814698\n"
     ]
    }
   ],
   "source": [
    "# Define columns\n",
    "rev_before_col = 'revenue_before_promo'\n",
    "rev_after_col  = 'revenue_after_promo'\n",
    "\n",
    "# Function to compute Incremental Revenue Percentage (IR%)\n",
    "def compute_ir_percent_series(df,\n",
    "                              before_col='revenue_before_promo',\n",
    "                              after_col='revenue_after_promo'):\n",
    "    before = df[before_col].fillna(0).astype(float)\n",
    "    after  = df[after_col].fillna(0).astype(float)\n",
    "    ir_percent = ((after - before) / before.replace(0, np.nan)) * 100\n",
    "    return ir_percent.fillna(0)\n",
    "\n",
    "# Add IR% to dataframe\n",
    "df['ir%'] = compute_ir_percent_series(df, rev_before_col, rev_after_col)\n",
    "\n",
    "# Generate Top 5 products by IR%\n",
    "top5_ir_products = (\n",
    "    df.groupby(['product_name', 'category'], as_index=False)['ir%']\n",
    "      .mean()\n",
    "      .sort_values(by='ir%', ascending=False)\n",
    "      .head(5)\n",
    ")\n",
    "\n",
    "# Display report\n",
    "print(\"Top 5 Products by Incremental Revenue Percentage (IR%)\")\n",
    "print(top5_ir_products)\n"
   ]
  },
  {
   "cell_type": "code",
   "execution_count": 68,
   "id": "da8cb16c",
   "metadata": {},
   "outputs": [
    {
     "name": "stdout",
     "output_type": "stream",
     "text": [
      "Index(['event_id', 'store_id', 'campaign_id', 'product_code', 'base_price',\n",
      "       'promo_type', 'quantity_sold(before_promo)',\n",
      "       'quantity_sold(after_promo)', 'Unnamed: 8', 'Unnamed: 9', 'Unnamed: 10',\n",
      "       'city', 'total_quantity_sold', 'product_name', 'promo_discount',\n",
      "       'revenue_before_promo', 'revenue_after_promo', 'category', 'ir%'],\n",
      "      dtype='object')\n"
     ]
    }
   ],
   "source": [
    "print(df.columns)"
   ]
  },
  {
   "cell_type": "markdown",
   "id": "efec71e4",
   "metadata": {},
   "source": [
    "Store Performance Analysis:\n",
    "\n",
    "Which are the top 10 stores in terms of Incremental Revenue (IR) generated from the promotions?"
   ]
  },
  {
   "cell_type": "code",
   "execution_count": 69,
   "id": "a3b06068",
   "metadata": {},
   "outputs": [],
   "source": [
    "df['inc_units'] = df['quantity_sold(after_promo)'].fillna(0).astype(float) - df['quantity_sold(before_promo)'].fillna(0).astype(float)\n",
    "df['isu_percent'] = compute_isu_percent_series(df)[1]   # percent\n",
    "df['inc_revenue'] = df['revenue_after_promo'].fillna(0).astype(float) - df['revenue_before_promo'].fillna(0).astype(float)\n",
    "df['ir_percent_calc'] = compute_ir_percent_series(df)[1]  # percent (alternate named column)\n"
   ]
  },
  {
   "cell_type": "code",
   "execution_count": 70,
   "id": "d0fc7d5d",
   "metadata": {},
   "outputs": [
    {
     "name": "stdout",
     "output_type": "stream",
     "text": [
      "Top 10 stores by total incremental revenue (absolute):\n"
     ]
    },
    {
     "data": {
      "application/vnd.microsoft.datawrangler.viewer.v0+json": {
       "columns": [
        {
         "name": "index",
         "rawType": "int64",
         "type": "integer"
        },
        {
         "name": "store_id",
         "rawType": "object",
         "type": "string"
        },
        {
         "name": "city",
         "rawType": "object",
         "type": "string"
        },
        {
         "name": "total_inc_revenue",
         "rawType": "float64",
         "type": "float"
        },
        {
         "name": "avg_ir_percent",
         "rawType": "float64",
         "type": "float"
        },
        {
         "name": "total_inc_units",
         "rawType": "float64",
         "type": "float"
        },
        {
         "name": "n_events",
         "rawType": "int64",
         "type": "integer"
        }
       ],
       "ref": "d41232d3-acbc-48fb-b2cd-dbdf6c3a2bb9",
       "rows": [
        [
         "12",
         "STCBE-2",
         "coimbatore",
         "69103.90000000002",
         "-38.54961832061068",
         "4960.0",
         "30"
        ],
        [
         "7",
         "STBLR-7",
         "bengaluru",
         "-70592.66999999987",
         "-38.54961832061068",
         "6859.0",
         "30"
        ],
        [
         "22",
         "STCHE-7",
         "chennai",
         "-75339.27999999997",
         "-38.54961832061068",
         "6560.0",
         "30"
        ],
        [
         "6",
         "STBLR-6",
         "bengaluru",
         "-113794.70999999993",
         "-38.54961832061068",
         "6573.0",
         "30"
        ],
        [
         "45",
         "STVSK-0",
         "visakhapatnam",
         "-124548.76999999996",
         "-38.54961832061068",
         "4116.0",
         "30"
        ],
        [
         "38",
         "STMYS-1",
         "mysuru",
         "-129896.45999999999",
         "-38.54961832061068",
         "6862.0",
         "30"
        ],
        [
         "42",
         "STTRV-1",
         "trivandrum",
         "-145443.90999999997",
         "-38.54961832061068",
         "2604.0",
         "30"
        ],
        [
         "13",
         "STCBE-3",
         "coimbatore",
         "-146261.58999999997",
         "-38.54961832061068",
         "4171.0",
         "30"
        ],
        [
         "47",
         "STVSK-2",
         "visakhapatnam",
         "-162015.90999999997",
         "-38.54961832061068",
         "3944.0",
         "30"
        ],
        [
         "18",
         "STCHE-3",
         "chennai",
         "-184659.66999999995",
         "-38.54961832061068",
         "6091.0",
         "30"
        ]
       ],
       "shape": {
        "columns": 6,
        "rows": 10
       }
      },
      "text/html": [
       "<div>\n",
       "<style scoped>\n",
       "    .dataframe tbody tr th:only-of-type {\n",
       "        vertical-align: middle;\n",
       "    }\n",
       "\n",
       "    .dataframe tbody tr th {\n",
       "        vertical-align: top;\n",
       "    }\n",
       "\n",
       "    .dataframe thead th {\n",
       "        text-align: right;\n",
       "    }\n",
       "</style>\n",
       "<table border=\"1\" class=\"dataframe\">\n",
       "  <thead>\n",
       "    <tr style=\"text-align: right;\">\n",
       "      <th></th>\n",
       "      <th>store_id</th>\n",
       "      <th>city</th>\n",
       "      <th>total_inc_revenue</th>\n",
       "      <th>avg_ir_percent</th>\n",
       "      <th>total_inc_units</th>\n",
       "      <th>n_events</th>\n",
       "    </tr>\n",
       "  </thead>\n",
       "  <tbody>\n",
       "    <tr>\n",
       "      <th>12</th>\n",
       "      <td>STCBE-2</td>\n",
       "      <td>coimbatore</td>\n",
       "      <td>69103.90</td>\n",
       "      <td>-38.549618</td>\n",
       "      <td>4960.0</td>\n",
       "      <td>30</td>\n",
       "    </tr>\n",
       "    <tr>\n",
       "      <th>7</th>\n",
       "      <td>STBLR-7</td>\n",
       "      <td>bengaluru</td>\n",
       "      <td>-70592.67</td>\n",
       "      <td>-38.549618</td>\n",
       "      <td>6859.0</td>\n",
       "      <td>30</td>\n",
       "    </tr>\n",
       "    <tr>\n",
       "      <th>22</th>\n",
       "      <td>STCHE-7</td>\n",
       "      <td>chennai</td>\n",
       "      <td>-75339.28</td>\n",
       "      <td>-38.549618</td>\n",
       "      <td>6560.0</td>\n",
       "      <td>30</td>\n",
       "    </tr>\n",
       "    <tr>\n",
       "      <th>6</th>\n",
       "      <td>STBLR-6</td>\n",
       "      <td>bengaluru</td>\n",
       "      <td>-113794.71</td>\n",
       "      <td>-38.549618</td>\n",
       "      <td>6573.0</td>\n",
       "      <td>30</td>\n",
       "    </tr>\n",
       "    <tr>\n",
       "      <th>45</th>\n",
       "      <td>STVSK-0</td>\n",
       "      <td>visakhapatnam</td>\n",
       "      <td>-124548.77</td>\n",
       "      <td>-38.549618</td>\n",
       "      <td>4116.0</td>\n",
       "      <td>30</td>\n",
       "    </tr>\n",
       "    <tr>\n",
       "      <th>38</th>\n",
       "      <td>STMYS-1</td>\n",
       "      <td>mysuru</td>\n",
       "      <td>-129896.46</td>\n",
       "      <td>-38.549618</td>\n",
       "      <td>6862.0</td>\n",
       "      <td>30</td>\n",
       "    </tr>\n",
       "    <tr>\n",
       "      <th>42</th>\n",
       "      <td>STTRV-1</td>\n",
       "      <td>trivandrum</td>\n",
       "      <td>-145443.91</td>\n",
       "      <td>-38.549618</td>\n",
       "      <td>2604.0</td>\n",
       "      <td>30</td>\n",
       "    </tr>\n",
       "    <tr>\n",
       "      <th>13</th>\n",
       "      <td>STCBE-3</td>\n",
       "      <td>coimbatore</td>\n",
       "      <td>-146261.59</td>\n",
       "      <td>-38.549618</td>\n",
       "      <td>4171.0</td>\n",
       "      <td>30</td>\n",
       "    </tr>\n",
       "    <tr>\n",
       "      <th>47</th>\n",
       "      <td>STVSK-2</td>\n",
       "      <td>visakhapatnam</td>\n",
       "      <td>-162015.91</td>\n",
       "      <td>-38.549618</td>\n",
       "      <td>3944.0</td>\n",
       "      <td>30</td>\n",
       "    </tr>\n",
       "    <tr>\n",
       "      <th>18</th>\n",
       "      <td>STCHE-3</td>\n",
       "      <td>chennai</td>\n",
       "      <td>-184659.67</td>\n",
       "      <td>-38.549618</td>\n",
       "      <td>6091.0</td>\n",
       "      <td>30</td>\n",
       "    </tr>\n",
       "  </tbody>\n",
       "</table>\n",
       "</div>"
      ],
      "text/plain": [
       "   store_id           city  total_inc_revenue  avg_ir_percent  \\\n",
       "12  STCBE-2     coimbatore           69103.90      -38.549618   \n",
       "7   STBLR-7      bengaluru          -70592.67      -38.549618   \n",
       "22  STCHE-7        chennai          -75339.28      -38.549618   \n",
       "6   STBLR-6      bengaluru         -113794.71      -38.549618   \n",
       "45  STVSK-0  visakhapatnam         -124548.77      -38.549618   \n",
       "38  STMYS-1         mysuru         -129896.46      -38.549618   \n",
       "42  STTRV-1     trivandrum         -145443.91      -38.549618   \n",
       "13  STCBE-3     coimbatore         -146261.59      -38.549618   \n",
       "47  STVSK-2  visakhapatnam         -162015.91      -38.549618   \n",
       "18  STCHE-3        chennai         -184659.67      -38.549618   \n",
       "\n",
       "    total_inc_units  n_events  \n",
       "12           4960.0        30  \n",
       "7            6859.0        30  \n",
       "22           6560.0        30  \n",
       "6            6573.0        30  \n",
       "45           4116.0        30  \n",
       "38           6862.0        30  \n",
       "42           2604.0        30  \n",
       "13           4171.0        30  \n",
       "47           3944.0        30  \n",
       "18           6091.0        30  "
      ]
     },
     "execution_count": 70,
     "metadata": {},
     "output_type": "execute_result"
    }
   ],
   "source": [
    "top10_stores_ir = (\n",
    "    df.groupby(['store_id', 'city'], as_index=False)\n",
    "      .agg(\n",
    "          total_inc_revenue = ('inc_revenue', 'sum'),\n",
    "          avg_ir_percent = ('ir_percent_calc', 'mean'),\n",
    "          total_inc_units = ('inc_units', 'sum'),\n",
    "          n_events = ('event_id', 'nunique')\n",
    "      )\n",
    "      .sort_values(by='total_inc_revenue', ascending=False)\n",
    "      .head(10)\n",
    ")\n",
    "\n",
    "print(\"Top 10 stores by total incremental revenue (absolute):\")\n",
    "top10_stores_ir.head(10)"
   ]
  },
  {
   "cell_type": "markdown",
   "id": "d36a57bd",
   "metadata": {},
   "source": [
    "Bottom 10 stores by Incremental Sold Units (ISU)  (I supply both by absolute inc units and by % change)"
   ]
  },
  {
   "cell_type": "code",
   "execution_count": 71,
   "id": "acd38a1c",
   "metadata": {},
   "outputs": [
    {
     "name": "stdout",
     "output_type": "stream",
     "text": [
      "\n",
      "Bottom 10 stores by total incremental units (absolute):\n",
      "   store_id           city  total_inc_units  avg_isu_percent  \\\n",
      "34  STMLR-0      mangalore           1952.0       -18.066158   \n",
      "48  STVSK-3  visakhapatnam           2209.0       -18.066158   \n",
      "49  STVSK-4  visakhapatnam           2469.0       -18.066158   \n",
      "42  STTRV-1     trivandrum           2604.0       -18.066158   \n",
      "36  STMLR-2      mangalore           2664.0       -18.066158   \n",
      "41  STTRV-0     trivandrum           2733.0       -18.066158   \n",
      "44  STVJD-1     vijayawada           2763.0       -18.066158   \n",
      "35  STMLR-1      mangalore           2784.0       -18.066158   \n",
      "14  STCBE-4     coimbatore           2927.0       -18.066158   \n",
      "43  STVJD-0     vijayawada           3046.0       -18.066158   \n",
      "\n",
      "    total_inc_revenue  n_events  \n",
      "34         -411738.76        30  \n",
      "48         -690603.53        30  \n",
      "49         -671551.89        30  \n",
      "42         -145443.91        30  \n",
      "36         -304415.92        30  \n",
      "41         -217270.58        30  \n",
      "44         -241108.30        30  \n",
      "35         -212936.12        30  \n",
      "14         -648198.05        30  \n",
      "43         -209593.58        30  \n",
      "\n",
      "Bottom 10 stores by average ISU% (percent change):\n",
      "  store_id       city  avg_isu_percent  total_inc_units  total_inc_revenue  \\\n",
      "0  STBLR-0  bengaluru       -18.066158           6487.0         -269016.35   \n",
      "1  STBLR-1  bengaluru       -18.066158           3770.0         -767271.27   \n",
      "2  STBLR-2  bengaluru       -18.066158           4781.0         -403319.22   \n",
      "3  STBLR-3  bengaluru       -18.066158           5777.0         -447926.60   \n",
      "4  STBLR-4  bengaluru       -18.066158           5644.0         -361514.47   \n",
      "5  STBLR-5  bengaluru       -18.066158           5363.0         -487343.19   \n",
      "6  STBLR-6  bengaluru       -18.066158           6573.0         -113794.71   \n",
      "7  STBLR-7  bengaluru       -18.066158           6859.0          -70592.67   \n",
      "8  STBLR-8  bengaluru       -18.066158           5475.0         -483990.32   \n",
      "9  STBLR-9  bengaluru       -18.066158           5241.0         -352071.41   \n",
      "\n",
      "   n_events  \n",
      "0        30  \n",
      "1        30  \n",
      "2        30  \n",
      "3        30  \n",
      "4        30  \n",
      "5        30  \n",
      "6        30  \n",
      "7        30  \n",
      "8        30  \n",
      "9        30  \n"
     ]
    }
   ],
   "source": [
    "bottom10_by_inc_units = (\n",
    "    df.groupby(['store_id', 'city'], as_index=False)\n",
    "      .agg(total_inc_units = ('inc_units', 'sum'),\n",
    "           avg_isu_percent = ('isu_percent', 'mean'),\n",
    "           total_inc_revenue = ('inc_revenue', 'sum'),\n",
    "           n_events = ('event_id', 'nunique'))\n",
    "      .sort_values(by='total_inc_units', ascending=True)\n",
    "      .head(10)\n",
    ")\n",
    "\n",
    "# Bottom 10 by ISU% (average percent change, ascending)\n",
    "bottom10_by_isupercent = (\n",
    "    df.groupby(['store_id', 'city'], as_index=False)\n",
    "      .agg(avg_isu_percent = ('isu_percent', 'mean'),\n",
    "           total_inc_units = ('inc_units', 'sum'),\n",
    "           total_inc_revenue = ('inc_revenue', 'sum'),\n",
    "           n_events = ('event_id', 'nunique'))\n",
    "      .sort_values(by='avg_isu_percent', ascending=True)\n",
    "      .head(10)\n",
    ")\n",
    "\n",
    "print(\"\\nBottom 10 stores by total incremental units (absolute):\")\n",
    "print(bottom10_by_inc_units)\n",
    "\n",
    "print(\"\\nBottom 10 stores by average ISU% (percent change):\")\n",
    "print(bottom10_by_isupercent)\n"
   ]
  },
  {
   "cell_type": "markdown",
   "id": "20863d4c",
   "metadata": {},
   "source": [
    "How does the performance of stores vary by city? Are there any common characteristics among the top-performing stores that could be leveraged across other stores?"
   ]
  },
  {
   "cell_type": "code",
   "execution_count": 72,
   "id": "39795704",
   "metadata": {},
   "outputs": [
    {
     "name": "stdout",
     "output_type": "stream",
     "text": [
      "\n",
      "City-level performance summary:\n",
      "            city  city_total_inc_revenue  city_total_inc_units  \\\n",
      "7     trivandrum              -362714.49                5337.0   \n",
      "8     vijayawada              -450701.88                5809.0   \n",
      "5      mangalore              -929090.80                7400.0   \n",
      "2     coimbatore             -1426792.01               20750.0   \n",
      "4        madurai             -1547123.99               16711.0   \n",
      "9  visakhapatnam             -1991777.96               16741.0   \n",
      "6         mysuru             -2177129.72               18901.0   \n",
      "1        chennai             -2997055.84               43768.0   \n",
      "3      hyderabad             -3437427.51               35036.0   \n",
      "0      bengaluru             -3756840.21               55970.0   \n",
      "\n",
      "   city_avg_ir_percent  city_avg_isu_percent  stores_covered  events_count  \n",
      "7           -38.549618            -18.066158               2            60  \n",
      "8           -38.549618            -18.066158               2            60  \n",
      "5           -38.549618            -18.066158               3            90  \n",
      "2           -38.549618            -18.066158               5           150  \n",
      "4           -38.549618            -18.066158               4           120  \n",
      "9           -38.549618            -18.066158               5           150  \n",
      "6           -38.549618            -18.066158               4           120  \n",
      "1           -38.549618            -18.066158               8           240  \n",
      "3           -38.549618            -18.066158               7           210  \n",
      "0           -38.549618            -18.066158              10           300  \n"
     ]
    }
   ],
   "source": [
    "# City-level summary\n",
    "city_summary = (\n",
    "    df.groupby('city', as_index=False)\n",
    "      .agg(\n",
    "          city_total_inc_revenue = ('inc_revenue', 'sum'),\n",
    "          city_total_inc_units = ('inc_units', 'sum'),\n",
    "          city_avg_ir_percent = ('ir_percent_calc', 'mean'),\n",
    "          city_avg_isu_percent = ('isu_percent', 'mean'),\n",
    "          stores_covered = ('store_id', 'nunique'),\n",
    "          events_count = ('event_id', 'nunique')\n",
    "      )\n",
    "      .sort_values(by='city_total_inc_revenue', ascending=False)\n",
    ")\n",
    "\n",
    "print(\"\\nCity-level performance summary:\")\n",
    "print(city_summary)"
   ]
  },
  {
   "cell_type": "code",
   "execution_count": 73,
   "id": "c53e1ca4",
   "metadata": {},
   "outputs": [
    {
     "name": "stdout",
     "output_type": "stream",
     "text": [
      "\n",
      "Top store characteristics (top stores):\n",
      "  store_id           city  total_inc_revenue  total_inc_units  avg_ir_percent  \\\n",
      "2  STCBE-2     coimbatore           69103.90           4960.0      -38.549618   \n",
      "1  STBLR-7      bengaluru          -70592.67           6859.0      -38.549618   \n",
      "5  STCHE-7        chennai          -75339.28           6560.0      -38.549618   \n",
      "0  STBLR-6      bengaluru         -113794.71           6573.0      -38.549618   \n",
      "8  STVSK-0  visakhapatnam         -124548.77           4116.0      -38.549618   \n",
      "6  STMYS-1         mysuru         -129896.46           6862.0      -38.549618   \n",
      "7  STTRV-1     trivandrum         -145443.91           2604.0      -38.549618   \n",
      "3  STCBE-3     coimbatore         -146261.59           4171.0      -38.549618   \n",
      "9  STVSK-2  visakhapatnam         -162015.91           3944.0      -38.549618   \n",
      "4  STCHE-3        chennai         -184659.67           6091.0      -38.549618   \n",
      "\n",
      "   avg_promo_discount top_promo_type       top_category  avg_base_price  \\\n",
      "2          318.237333          BOGOF  Grocery & Staples      551.966667   \n",
      "1          318.237333          BOGOF  Grocery & Staples      551.966667   \n",
      "5          318.237333          BOGOF  Grocery & Staples      551.966667   \n",
      "0          318.237333          BOGOF  Grocery & Staples      551.966667   \n",
      "8          318.237333          BOGOF  Grocery & Staples      551.966667   \n",
      "6          318.237333          BOGOF  Grocery & Staples      551.966667   \n",
      "7          318.237333          BOGOF  Grocery & Staples      551.966667   \n",
      "3          318.237333          BOGOF  Grocery & Staples      551.966667   \n",
      "9          318.237333          BOGOF  Grocery & Staples      551.966667   \n",
      "4          318.237333          BOGOF  Grocery & Staples      551.966667   \n",
      "\n",
      "   n_products_promoted  n_events  \n",
      "2                   15        30  \n",
      "1                   15        30  \n",
      "5                   15        30  \n",
      "0                   15        30  \n",
      "8                   15        30  \n",
      "6                   15        30  \n",
      "7                   15        30  \n",
      "3                   15        30  \n",
      "9                   15        30  \n",
      "4                   15        30  \n"
     ]
    }
   ],
   "source": [
    "# Identify top-performing stores (top 10 by incremental revenue) and compute their characteristics\n",
    "top_store_ids = top10_stores_ir['store_id'].tolist()\n",
    "top_store_chars = df[df['store_id'].isin(top_store_ids)].groupby('store_id').agg(\n",
    "    city = ('city', 'first'),\n",
    "    total_inc_revenue = ('inc_revenue', 'sum'),\n",
    "    total_inc_units = ('inc_units', 'sum'),\n",
    "    avg_ir_percent = ('ir_percent_calc', 'mean'),\n",
    "    avg_promo_discount = ('promo_discount', 'mean'),\n",
    "    top_promo_type = ('promo_type', lambda s: s.mode().iat[0] if not s.mode().empty else np.nan),\n",
    "    top_category = ('category', lambda s: s.mode().iat[0] if not s.mode().empty else np.nan),\n",
    "    avg_base_price = ('base_price', 'mean'),\n",
    "    n_products_promoted = ('product_code', 'nunique'),\n",
    "    n_events = ('event_id', 'nunique')\n",
    ").reset_index().sort_values('total_inc_revenue', ascending=False)\n",
    "\n",
    "print(\"\\nTop store characteristics (top stores):\")\n",
    "print(top_store_chars)"
   ]
  },
  {
   "cell_type": "code",
   "execution_count": 74,
   "id": "6c1a4f30",
   "metadata": {},
   "outputs": [
    {
     "name": "stdout",
     "output_type": "stream",
     "text": [
      "\n",
      "Bottom store characteristics (bottom stores):\n",
      "  store_id           city  total_inc_revenue  total_inc_units  avg_ir_percent  \\\n",
      "7  STMYS-2         mysuru         -999899.30           3411.0      -38.549618   \n",
      "3  STHYD-1      hyderabad         -849267.73           3187.0      -38.549618   \n",
      "2  STCHE-1        chennai         -823556.36           3281.0      -38.549618   \n",
      "4  STHYD-3      hyderabad         -799944.57           4015.0      -38.549618   \n",
      "0  STBLR-1      bengaluru         -767271.27           3770.0      -38.549618   \n",
      "8  STVSK-3  visakhapatnam         -690603.53           2209.0      -38.549618   \n",
      "9  STVSK-4  visakhapatnam         -671551.89           2469.0      -38.549618   \n",
      "1  STCBE-4     coimbatore         -648198.05           2927.0      -38.549618   \n",
      "6  STMYS-0         mysuru         -580200.94           3344.0      -38.549618   \n",
      "5  STMDU-3        madurai         -499010.30           3950.0      -38.549618   \n",
      "\n",
      "   avg_promo_discount top_promo_type       top_category  avg_base_price  \\\n",
      "7          318.237333          BOGOF  Grocery & Staples      551.966667   \n",
      "3          318.237333          BOGOF  Grocery & Staples      551.966667   \n",
      "2          318.237333          BOGOF  Grocery & Staples      551.966667   \n",
      "4          318.237333          BOGOF  Grocery & Staples      551.966667   \n",
      "0          318.237333          BOGOF  Grocery & Staples      551.966667   \n",
      "8          318.237333          BOGOF  Grocery & Staples      551.966667   \n",
      "9          318.237333          BOGOF  Grocery & Staples      551.966667   \n",
      "1          318.237333          BOGOF  Grocery & Staples      551.966667   \n",
      "6          318.237333          BOGOF  Grocery & Staples      551.966667   \n",
      "5          318.237333          BOGOF  Grocery & Staples      551.966667   \n",
      "\n",
      "   n_products_promoted  n_events  \n",
      "7                   15        30  \n",
      "3                   15        30  \n",
      "2                   15        30  \n",
      "4                   15        30  \n",
      "0                   15        30  \n",
      "8                   15        30  \n",
      "9                   15        30  \n",
      "1                   15        30  \n",
      "6                   15        30  \n",
      "5                   15        30  \n"
     ]
    }
   ],
   "source": [
    "bottom_store_ids = df.groupby('store_id').agg(total_inc_revenue=('inc_revenue','sum')).sort_values('total_inc_revenue', ascending=True).head(10).index.tolist()\n",
    "bottom_store_chars = df[df['store_id'].isin(bottom_store_ids)].groupby('store_id').agg(\n",
    "    city = ('city', 'first'),\n",
    "    total_inc_revenue = ('inc_revenue', 'sum'),\n",
    "    total_inc_units = ('inc_units', 'sum'),\n",
    "    avg_ir_percent = ('ir_percent_calc', 'mean'),\n",
    "    avg_promo_discount = ('promo_discount', 'mean'),\n",
    "    top_promo_type = ('promo_type', lambda s: s.mode().iat[0] if not s.mode().empty else np.nan),\n",
    "    top_category = ('category', lambda s: s.mode().iat[0] if not s.mode().empty else np.nan),\n",
    "    avg_base_price = ('base_price', 'mean'),\n",
    "    n_products_promoted = ('product_code', 'nunique'),\n",
    "    n_events = ('event_id', 'nunique')\n",
    ").reset_index().sort_values('total_inc_revenue')\n",
    "\n",
    "print(\"\\nBottom store characteristics (bottom stores):\")\n",
    "print(bottom_store_chars)"
   ]
  },
  {
   "cell_type": "code",
   "execution_count": 75,
   "id": "6f5c38a9",
   "metadata": {},
   "outputs": [
    {
     "name": "stdout",
     "output_type": "stream",
     "text": [
      "\n",
      "Top vs Bottom mean comparison:\n",
      "    group  mean_total_inc_revenue  mean_avg_ir_percent  \\\n",
      "0     top             -108344.907           -38.549618   \n",
      "1  bottom             -732950.394           -38.549618   \n",
      "\n",
      "   mean_avg_promo_discount  mean_avg_base_price  mean_n_products_promoted  \n",
      "0               318.237333           551.966667                      15.0  \n",
      "1               318.237333           551.966667                      15.0  \n"
     ]
    }
   ],
   "source": [
    "top_vs_bottom_summary = pd.DataFrame({\n",
    "    'group': ['top', 'bottom'],\n",
    "    'mean_total_inc_revenue': [top_store_chars['total_inc_revenue'].mean(), bottom_store_chars['total_inc_revenue'].mean()],\n",
    "    'mean_avg_ir_percent': [top_store_chars['avg_ir_percent'].mean(), bottom_store_chars['avg_ir_percent'].mean()],\n",
    "    'mean_avg_promo_discount': [top_store_chars['avg_promo_discount'].mean(), bottom_store_chars['avg_promo_discount'].mean()],\n",
    "    'mean_avg_base_price': [top_store_chars['avg_base_price'].mean(), bottom_store_chars['avg_base_price'].mean()],\n",
    "    'mean_n_products_promoted': [top_store_chars['n_products_promoted'].mean(), bottom_store_chars['n_products_promoted'].mean()]\n",
    "})\n",
    "\n",
    "print(\"\\nTop vs Bottom mean comparison:\")\n",
    "print(top_vs_bottom_summary)"
   ]
  },
  {
   "cell_type": "code",
   "execution_count": 76,
   "id": "3d0ce1a2",
   "metadata": {},
   "outputs": [
    {
     "data": {
      "application/vnd.microsoft.datawrangler.viewer.v0+json": {
       "columns": [
        {
         "name": "index",
         "rawType": "int64",
         "type": "integer"
        },
        {
         "name": "event_id",
         "rawType": "object",
         "type": "string"
        },
        {
         "name": "store_id",
         "rawType": "object",
         "type": "string"
        },
        {
         "name": "campaign_id",
         "rawType": "object",
         "type": "string"
        },
        {
         "name": "product_code",
         "rawType": "object",
         "type": "string"
        },
        {
         "name": "base_price",
         "rawType": "int64",
         "type": "integer"
        },
        {
         "name": "promo_type",
         "rawType": "object",
         "type": "string"
        },
        {
         "name": "quantity_sold(before_promo)",
         "rawType": "int64",
         "type": "integer"
        },
        {
         "name": "quantity_sold(after_promo)",
         "rawType": "int64",
         "type": "integer"
        },
        {
         "name": "Unnamed: 8",
         "rawType": "float64",
         "type": "float"
        },
        {
         "name": "Unnamed: 9",
         "rawType": "float64",
         "type": "float"
        },
        {
         "name": "Unnamed: 10",
         "rawType": "float64",
         "type": "float"
        },
        {
         "name": "city",
         "rawType": "object",
         "type": "string"
        },
        {
         "name": "total_quantity_sold",
         "rawType": "int64",
         "type": "integer"
        },
        {
         "name": "product_name",
         "rawType": "object",
         "type": "string"
        },
        {
         "name": "promo_discount",
         "rawType": "float64",
         "type": "float"
        },
        {
         "name": "revenue_before_promo",
         "rawType": "int64",
         "type": "integer"
        },
        {
         "name": "revenue_after_promo",
         "rawType": "float64",
         "type": "float"
        },
        {
         "name": "category",
         "rawType": "object",
         "type": "string"
        },
        {
         "name": "ir%",
         "rawType": "float64",
         "type": "float"
        },
        {
         "name": "inc_units",
         "rawType": "float64",
         "type": "float"
        },
        {
         "name": "isu_percent",
         "rawType": "float64",
         "type": "float"
        },
        {
         "name": "inc_revenue",
         "rawType": "float64",
         "type": "float"
        },
        {
         "name": "ir_percent_calc",
         "rawType": "float64",
         "type": "float"
        }
       ],
       "ref": "2e7568e9-d9e0-4e5a-97e1-c7073cd42a23",
       "rows": [
        [
         "0",
         "7f650b",
         "STCBE-2",
         "CAMP_SAN_01",
         "P11",
         "190",
         "50% OFF",
         "34",
         "52",
         null,
         null,
         null,
         "coimbatore",
         "86",
         "Atliq_Doodh_Kesar_Body_Lotion (200ML)",
         "95.0",
         "6460",
         "4940.0",
         "Personal Care",
         "-23.52941176470588",
         "18.0",
         "-18.06615776081425",
         "-1520.0",
         "-38.54961832061068"
        ],
        [
         "1",
         "a21f91",
         "STBLR-8",
         "CAMP_DIW_01",
         "P03",
         "156",
         "25% OFF",
         "393",
         "322",
         null,
         null,
         null,
         "bengaluru",
         "715",
         "Atliq_Suflower_Oil (1L)",
         "39.0",
         "61308",
         "37674.0",
         "Grocery & Staples",
         "-38.54961832061068",
         "-71.0",
         "-18.06615776081425",
         "-23634.0",
         "-38.54961832061068"
        ],
        [
         "2",
         "78bc80",
         "STVJD-0",
         "CAMP_SAN_01",
         "P07",
         "300",
         "BOGOF",
         "22",
         "85",
         null,
         null,
         null,
         "vijayawada",
         "107",
         "Atliq_Curtains",
         "150.0",
         "6600",
         "12750.0",
         "Home Care",
         "93.18181818181817",
         "63.0",
         "-18.06615776081425",
         "6150.0",
         "-38.54961832061068"
        ],
        [
         "3",
         "a1503f",
         "STCBE-1",
         "CAMP_DIW_01",
         "P15",
         "3000",
         "500 Cashback",
         "329",
         "1000",
         null,
         null,
         null,
         "coimbatore",
         "1329",
         "Atliq_Home_Essential_8_Product_Combo",
         "2500.0",
         "987000",
         "500000.0",
         "Combo1",
         "-49.34143870314083",
         "671.0",
         "-18.06615776081425",
         "-487000.0",
         "-38.54961832061068"
        ],
        [
         "4",
         "1091cf",
         "STBLR-6",
         "CAMP_DIW_01",
         "P05",
         "55",
         "25% OFF",
         "108",
         "93",
         null,
         null,
         null,
         "bengaluru",
         "201",
         "Atliq_Scrub_Sponge_For_Dishwash",
         "13.75",
         "5940",
         "3836.25",
         "Home Care",
         "-35.41666666666667",
         "-15.0",
         "-18.06615776081425",
         "-2103.75",
         "-38.54961832061068"
        ],
        [
         "5",
         "8.02E+96",
         "STBLR-4",
         "CAMP_DIW_01",
         "P11",
         "190",
         "50% OFF",
         "91",
         "116",
         null,
         null,
         null,
         "bengaluru",
         "207",
         "Atliq_Doodh_Kesar_Body_Lotion (200ML)",
         "95.0",
         "17290",
         "11020.0",
         "Personal Care",
         "-36.26373626373626",
         "25.0",
         "-18.06615776081425",
         "-6270.0",
         "-38.54961832061068"
        ],
        [
         "6",
         "73d86f",
         "STVSK-2",
         "CAMP_SAN_01",
         "P10",
         "50",
         "25% OFF",
         "31",
         "26",
         null,
         null,
         null,
         "visakhapatnam",
         "57",
         "Atliq_Cream_Beauty_Bathing_Soap (125GM)",
         "12.5",
         "1550",
         "975.0",
         "Personal Care",
         "-37.096774193548384",
         "-5.0",
         "-18.06615776081425",
         "-575.0",
         "-38.54961832061068"
        ],
        [
         "7",
         "fe3560",
         "STHYD-4",
         "CAMP_DIW_01",
         "P13",
         "350",
         "BOGOF",
         "73",
         "245",
         null,
         null,
         null,
         "hyderabad",
         "318",
         "Atliq_High_Glo_15W_LED_Bulb",
         "175.0",
         "25550",
         "42875.0",
         "Home Appliances",
         "67.8082191780822",
         "172.0",
         "-18.06615776081425",
         "17325.0",
         "-38.54961832061068"
        ],
        [
         "8",
         "6b2afc",
         "STCBE-4",
         "CAMP_SAN_01",
         "P08",
         "1190",
         "BOGOF",
         "30",
         "79",
         null,
         null,
         null,
         "coimbatore",
         "109",
         "Atliq_Double_Bedsheet_set",
         "595.0",
         "35700",
         "47005.0",
         "Home Care",
         "31.666666666666664",
         "49.0",
         "-18.06615776081425",
         "11305.0",
         "-38.54961832061068"
        ],
        [
         "9",
         "ce5851",
         "STMDU-2",
         "CAMP_SAN_01",
         "P03",
         "200",
         "BOGOF",
         "318",
         "1265",
         null,
         null,
         null,
         "madurai",
         "1583",
         "Atliq_Suflower_Oil (1L)",
         "100.0",
         "63600",
         "126500.0",
         "Grocery & Staples",
         "98.89937106918238",
         "947.0",
         "-18.06615776081425",
         "62900.0",
         "-38.54961832061068"
        ],
        [
         "10",
         "dd6685",
         "STMYS-2",
         "CAMP_DIW_01",
         "P06",
         "415",
         "25% OFF",
         "78",
         "70",
         null,
         null,
         null,
         "mysuru",
         "148",
         "Atliq_Fusion_Container_Set_of_3",
         "103.75",
         "32370",
         "21787.5",
         "Home Care",
         "-32.69230769230769",
         "-8.0",
         "-18.06615776081425",
         "-10582.5",
         "-38.54961832061068"
        ],
        [
         "11",
         "8f25a6",
         "STHYD-6",
         "CAMP_SAN_01",
         "P15",
         "3000",
         "500 Cashback",
         "126",
         "302",
         null,
         null,
         null,
         "hyderabad",
         "428",
         "Atliq_Home_Essential_8_Product_Combo",
         "2500.0",
         "378000",
         "151000.0",
         "Combo1",
         "-60.05291005291006",
         "176.0",
         "-18.06615776081425",
         "-227000.0",
         "-38.54961832061068"
        ],
        [
         "12",
         "5c3c33",
         "STCHE-6",
         "CAMP_DIW_01",
         "P12",
         "62",
         "50% OFF",
         "154",
         "207",
         null,
         null,
         null,
         "chennai",
         "361",
         "Atliq_Lime_Cool_Bathing_Bar (125GM)",
         "31.0",
         "9548",
         "6417.0",
         "Personal Care",
         "-32.7922077922078",
         "53.0",
         "-18.06615776081425",
         "-3131.0",
         "-38.54961832061068"
        ],
        [
         "13",
         "d290a1",
         "STBLR-3",
         "CAMP_DIW_01",
         "P04",
         "290",
         "25% OFF",
         "343",
         "270",
         null,
         null,
         null,
         "bengaluru",
         "613",
         "Atliq_Farm_Chakki_Atta (1KG)",
         "72.5",
         "99470",
         "58725.0",
         "Grocery & Staples",
         "-40.96209912536443",
         "-73.0",
         "-18.06615776081425",
         "-40745.0",
         "-38.54961832061068"
        ],
        [
         "14",
         "635862",
         "STVSK-4",
         "CAMP_SAN_01",
         "P02",
         "860",
         "33% OFF",
         "348",
         "480",
         null,
         null,
         null,
         "visakhapatnam",
         "828",
         "Atliq_Sonamasuri_Rice (10KG)",
         "283.8",
         "299280",
         "276576.0",
         "Grocery & Staples",
         "-7.586206896551724",
         "132.0",
         "-18.06615776081425",
         "-22704.0",
         "-38.54961832061068"
        ],
        [
         "15",
         "c0ecb5",
         "STCHE-2",
         "CAMP_SAN_01",
         "P07",
         "300",
         "BOGOF",
         "43",
         "167",
         null,
         null,
         null,
         "chennai",
         "210",
         "Atliq_Curtains",
         "150.0",
         "12900",
         "25050.0",
         "Home Care",
         "94.18604651162791",
         "124.0",
         "-18.06615776081425",
         "12150.0",
         "-38.54961832061068"
        ],
        [
         "16",
         "182caa",
         "STCHE-5",
         "CAMP_SAN_01",
         "P06",
         "415",
         "25% OFF",
         "39",
         "33",
         null,
         null,
         null,
         "chennai",
         "72",
         "Atliq_Fusion_Container_Set_of_3",
         "103.75",
         "16185",
         "10271.25",
         "Home Care",
         "-36.53846153846153",
         "-6.0",
         "-18.06615776081425",
         "-5913.75",
         "-38.54961832061068"
        ],
        [
         "17",
         "c4db5b",
         "STTRV-0",
         "CAMP_DIW_01",
         "P01",
         "172",
         "33% OFF",
         "164",
         "236",
         null,
         null,
         null,
         "trivandrum",
         "400",
         "Atliq_Masoor_Dal (1KG)",
         "56.760000000000005",
         "28208",
         "27196.64",
         "Grocery & Staples",
         "-3.5853658536585384",
         "72.0",
         "-18.06615776081425",
         "-1011.3600000000006",
         "-38.54961832061068"
        ],
        [
         "18",
         "94f48c",
         "STVSK-1",
         "CAMP_SAN_01",
         "P06",
         "415",
         "25% OFF",
         "22",
         "16",
         null,
         null,
         null,
         "visakhapatnam",
         "38",
         "Atliq_Fusion_Container_Set_of_3",
         "103.75",
         "9130",
         "4980.0",
         "Home Care",
         "-45.45454545454545",
         "-6.0",
         "-18.06615776081425",
         "-4150.0",
         "-38.54961832061068"
        ],
        [
         "19",
         "7ef92f",
         "STHYD-5",
         "CAMP_SAN_01",
         "P07",
         "300",
         "BOGOF",
         "55",
         "213",
         null,
         null,
         null,
         "hyderabad",
         "268",
         "Atliq_Curtains",
         "150.0",
         "16500",
         "31950.0",
         "Home Care",
         "93.63636363636364",
         "158.0",
         "-18.06615776081425",
         "15450.0",
         "-38.54961832061068"
        ],
        [
         "20",
         "0f422c",
         "STBLR-0",
         "CAMP_DIW_01",
         "P14",
         "1020",
         "BOGOF",
         "42",
         "168",
         null,
         null,
         null,
         "bengaluru",
         "210",
         "Atliq_waterproof_Immersion_Rod",
         "510.0",
         "42840",
         "85680.0",
         "Home Appliances",
         "100.0",
         "126.0",
         "-18.06615776081425",
         "42840.0",
         "-38.54961832061068"
        ],
        [
         "21",
         "1e9a06",
         "STCHE-4",
         "CAMP_DIW_01",
         "P13",
         "350",
         "BOGOF",
         "84",
         "338",
         null,
         null,
         null,
         "chennai",
         "422",
         "Atliq_High_Glo_15W_LED_Bulb",
         "175.0",
         "29400",
         "59150.0",
         "Home Appliances",
         "101.19047619047619",
         "254.0",
         "-18.06615776081425",
         "29750.0",
         "-38.54961832061068"
        ],
        [
         "22",
         "02ebe9",
         "STBLR-8",
         "CAMP_DIW_01",
         "P11",
         "190",
         "50% OFF",
         "66",
         "88",
         null,
         null,
         null,
         "bengaluru",
         "154",
         "Atliq_Doodh_Kesar_Body_Lotion (200ML)",
         "95.0",
         "12540",
         "8360.0",
         "Personal Care",
         "-33.33333333333333",
         "22.0",
         "-18.06615776081425",
         "-4180.0",
         "-38.54961832061068"
        ],
        [
         "23",
         "260ff2",
         "STMYS-2",
         "CAMP_SAN_01",
         "P01",
         "172",
         "33% OFF",
         "204",
         "291",
         null,
         null,
         null,
         "mysuru",
         "495",
         "Atliq_Masoor_Dal (1KG)",
         "56.760000000000005",
         "35088",
         "33534.84",
         "Grocery & Staples",
         "-4.426470588235304",
         "87.0",
         "-18.06615776081425",
         "-1553.1600000000035",
         "-38.54961832061068"
        ],
        [
         "24",
         "7fc923",
         "STTRV-0",
         "CAMP_SAN_01",
         "P08",
         "1190",
         "BOGOF",
         "19",
         "74",
         null,
         null,
         null,
         "trivandrum",
         "93",
         "Atliq_Double_Bedsheet_set",
         "595.0",
         "22610",
         "44030.0",
         "Home Care",
         "94.73684210526315",
         "55.0",
         "-18.06615776081425",
         "21420.0",
         "-38.54961832061068"
        ],
        [
         "25",
         "b08c12",
         "STMDU-3",
         "CAMP_DIW_01",
         "P03",
         "156",
         "25% OFF",
         "227",
         "202",
         null,
         null,
         null,
         "madurai",
         "429",
         "Atliq_Suflower_Oil (1L)",
         "39.0",
         "35412",
         "23634.0",
         "Grocery & Staples",
         "-33.259911894273124",
         "-25.0",
         "-18.06615776081425",
         "-11778.0",
         "-38.54961832061068"
        ],
        [
         "26",
         "ca7298",
         "STCBE-2",
         "CAMP_SAN_01",
         "P15",
         "3000",
         "500 Cashback",
         "85",
         "228",
         null,
         null,
         null,
         "coimbatore",
         "313",
         "Atliq_Home_Essential_8_Product_Combo",
         "2500.0",
         "255000",
         "114000.0",
         "Combo1",
         "-55.294117647058826",
         "143.0",
         "-18.06615776081425",
         "-141000.0",
         "-38.54961832061068"
        ],
        [
         "27",
         "bf33ae",
         "STMYS-0",
         "CAMP_DIW_01",
         "P14",
         "1020",
         "BOGOF",
         "59",
         "182",
         null,
         null,
         null,
         "mysuru",
         "241",
         "Atliq_waterproof_Immersion_Rod",
         "510.0",
         "60180",
         "92820.0",
         "Home Appliances",
         "54.23728813559322",
         "123.0",
         "-18.06615776081425",
         "32640.0",
         "-38.54961832061068"
        ],
        [
         "28",
         "35fb5b",
         "STCBE-2",
         "CAMP_DIW_01",
         "P13",
         "350",
         "BOGOF",
         "50",
         "190",
         null,
         null,
         null,
         "coimbatore",
         "240",
         "Atliq_High_Glo_15W_LED_Bulb",
         "175.0",
         "17500",
         "33250.0",
         "Home Appliances",
         "90.0",
         "140.0",
         "-18.06615776081425",
         "15750.0",
         "-38.54961832061068"
        ],
        [
         "29",
         "def6ff",
         "STMDU-0",
         "CAMP_DIW_01",
         "P11",
         "190",
         "50% OFF",
         "70",
         "89",
         null,
         null,
         null,
         "madurai",
         "159",
         "Atliq_Doodh_Kesar_Body_Lotion (200ML)",
         "95.0",
         "13300",
         "8455.0",
         "Personal Care",
         "-36.42857142857142",
         "19.0",
         "-18.06615776081425",
         "-4845.0",
         "-38.54961832061068"
        ],
        [
         "30",
         "2f3e5d",
         "STCHE-2",
         "CAMP_SAN_01",
         "P01",
         "172",
         "33% OFF",
         "333",
         "402",
         null,
         null,
         null,
         "chennai",
         "735",
         "Atliq_Masoor_Dal (1KG)",
         "56.760000000000005",
         "57276",
         "46326.479999999996",
         "Grocery & Staples",
         "-19.117117117117125",
         "69.0",
         "-18.06615776081425",
         "-10949.520000000004",
         "-38.54961832061068"
        ],
        [
         "31",
         "ca3893",
         "STMYS-1",
         "CAMP_SAN_01",
         "P09",
         "90",
         "25% OFF",
         "52",
         "39",
         null,
         null,
         null,
         "mysuru",
         "91",
         "Atliq_Body_Milk_Nourishing_Lotion (120ML)",
         "22.5",
         "4680",
         "2632.5",
         "Personal Care",
         "-43.75",
         "-13.0",
         "-18.06615776081425",
         "-2047.5",
         "-38.54961832061068"
        ],
        [
         "32",
         "922e6a",
         "STBLR-8",
         "CAMP_SAN_01",
         "P05",
         "55",
         "25% OFF",
         "34",
         "24",
         null,
         null,
         null,
         "bengaluru",
         "58",
         "Atliq_Scrub_Sponge_For_Dishwash",
         "13.75",
         "1870",
         "990.0",
         "Home Care",
         "-47.05882352941176",
         "-10.0",
         "-18.06615776081425",
         "-880.0",
         "-38.54961832061068"
        ],
        [
         "33",
         "4f0587",
         "STMDU-0",
         "CAMP_SAN_01",
         "P08",
         "1190",
         "BOGOF",
         "33",
         "136",
         null,
         null,
         null,
         "madurai",
         "169",
         "Atliq_Double_Bedsheet_set",
         "595.0",
         "39270",
         "80920.0",
         "Home Care",
         "106.06060606060606",
         "103.0",
         "-18.06615776081425",
         "41650.0",
         "-38.54961832061068"
        ],
        [
         "34",
         "fa5b45",
         "STVJD-1",
         "CAMP_SAN_01",
         "P08",
         "1190",
         "BOGOF",
         "27",
         "109",
         null,
         null,
         null,
         "vijayawada",
         "136",
         "Atliq_Double_Bedsheet_set",
         "595.0",
         "32130",
         "64855.0",
         "Home Care",
         "101.85185185185186",
         "82.0",
         "-18.06615776081425",
         "32725.0",
         "-38.54961832061068"
        ],
        [
         "35",
         "df45ee",
         "STHYD-3",
         "CAMP_DIW_01",
         "P01",
         "172",
         "33% OFF",
         "309",
         "534",
         null,
         null,
         null,
         "hyderabad",
         "843",
         "Atliq_Masoor_Dal (1KG)",
         "56.760000000000005",
         "53148",
         "61538.159999999996",
         "Grocery & Staples",
         "15.786407766990285",
         "225.0",
         "-18.06615776081425",
         "8390.159999999996",
         "-38.54961832061068"
        ],
        [
         "36",
         "f3ac85",
         "STBLR-5",
         "CAMP_SAN_01",
         "P03",
         "200",
         "BOGOF",
         "348",
         "1350",
         null,
         null,
         null,
         "bengaluru",
         "1698",
         "Atliq_Suflower_Oil (1L)",
         "100.0",
         "69600",
         "135000.0",
         "Grocery & Staples",
         "93.96551724137932",
         "1002.0",
         "-18.06615776081425",
         "65400.0",
         "-38.54961832061068"
        ],
        [
         "37",
         "292ca5",
         "STHYD-2",
         "CAMP_DIW_01",
         "P04",
         "290",
         "25% OFF",
         "287",
         "220",
         null,
         null,
         null,
         "hyderabad",
         "507",
         "Atliq_Farm_Chakki_Atta (1KG)",
         "72.5",
         "83230",
         "47850.0",
         "Grocery & Staples",
         "-42.508710801393725",
         "-67.0",
         "-18.06615776081425",
         "-35380.0",
         "-38.54961832061068"
        ],
        [
         "38",
         "620715",
         "STMYS-3",
         "CAMP_SAN_01",
         "P03",
         "200",
         "BOGOF",
         "340",
         "1485",
         null,
         null,
         null,
         "mysuru",
         "1825",
         "Atliq_Suflower_Oil (1L)",
         "100.0",
         "68000",
         "148500.0",
         "Grocery & Staples",
         "118.38235294117648",
         "1145.0",
         "-18.06615776081425",
         "80500.0",
         "-38.54961832061068"
        ],
        [
         "39",
         "7e9777",
         "STVJD-1",
         "CAMP_DIW_01",
         "P08",
         "1190",
         "BOGOF",
         "24",
         "82",
         null,
         null,
         null,
         "vijayawada",
         "106",
         "Atliq_Double_Bedsheet_set",
         "595.0",
         "28560",
         "48790.0",
         "Home Care",
         "70.83333333333334",
         "58.0",
         "-18.06615776081425",
         "20230.0",
         "-38.54961832061068"
        ],
        [
         "40",
         "761785",
         "STBLR-4",
         "CAMP_SAN_01",
         "P14",
         "1020",
         "BOGOF",
         "121",
         "474",
         null,
         null,
         null,
         "bengaluru",
         "595",
         "Atliq_waterproof_Immersion_Rod",
         "510.0",
         "123420",
         "241740.0",
         "Home Appliances",
         "95.86776859504133",
         "353.0",
         "-18.06615776081425",
         "118320.0",
         "-38.54961832061068"
        ],
        [
         "41",
         "eb3bea",
         "STVSK-2",
         "CAMP_SAN_01",
         "P15",
         "3000",
         "500 Cashback",
         "109",
         "238",
         null,
         null,
         null,
         "visakhapatnam",
         "347",
         "Atliq_Home_Essential_8_Product_Combo",
         "2500.0",
         "327000",
         "119000.0",
         "Combo1",
         "-63.608562691131496",
         "129.0",
         "-18.06615776081425",
         "-208000.0",
         "-38.54961832061068"
        ],
        [
         "42",
         "276150",
         "STCBE-3",
         "CAMP_SAN_01",
         "P07",
         "300",
         "BOGOF",
         "33",
         "128",
         null,
         null,
         null,
         "coimbatore",
         "161",
         "Atliq_Curtains",
         "150.0",
         "9900",
         "19200.0",
         "Home Care",
         "93.93939393939394",
         "95.0",
         "-18.06615776081425",
         "9300.0",
         "-38.54961832061068"
        ],
        [
         "43",
         "3beb46",
         "STMYS-2",
         "CAMP_SAN_01",
         "P13",
         "350",
         "BOGOF",
         "81",
         "208",
         null,
         null,
         null,
         "mysuru",
         "289",
         "Atliq_High_Glo_15W_LED_Bulb",
         "175.0",
         "28350",
         "36400.0",
         "Home Appliances",
         "28.39506172839506",
         "127.0",
         "-18.06615776081425",
         "8050.0",
         "-38.54961832061068"
        ],
        [
         "44",
         "47af00",
         "STVJD-1",
         "CAMP_DIW_01",
         "P03",
         "156",
         "25% OFF",
         "183",
         "150",
         null,
         null,
         null,
         "vijayawada",
         "333",
         "Atliq_Suflower_Oil (1L)",
         "39.0",
         "28548",
         "17550.0",
         "Grocery & Staples",
         "-38.52459016393443",
         "-33.0",
         "-18.06615776081425",
         "-10998.0",
         "-38.54961832061068"
        ],
        [
         "45",
         "627200",
         "STCBE-4",
         "CAMP_DIW_01",
         "P14",
         "1020",
         "BOGOF",
         "36",
         "111",
         null,
         null,
         null,
         "coimbatore",
         "147",
         "Atliq_waterproof_Immersion_Rod",
         "510.0",
         "36720",
         "56610.0",
         "Home Appliances",
         "54.166666666666664",
         "75.0",
         "-18.06615776081425",
         "19890.0",
         "-38.54961832061068"
        ],
        [
         "46",
         "bc8315",
         "STHYD-1",
         "CAMP_DIW_01",
         "P12",
         "62",
         "50% OFF",
         "122",
         "135",
         null,
         null,
         null,
         "hyderabad",
         "257",
         "Atliq_Lime_Cool_Bathing_Bar (125GM)",
         "31.0",
         "7564",
         "4185.0",
         "Personal Care",
         "-44.67213114754098",
         "13.0",
         "-18.06615776081425",
         "-3379.0",
         "-38.54961832061068"
        ],
        [
         "47",
         "1f083a",
         "STVJD-0",
         "CAMP_SAN_01",
         "P06",
         "415",
         "25% OFF",
         "16",
         "14",
         null,
         null,
         null,
         "vijayawada",
         "30",
         "Atliq_Fusion_Container_Set_of_3",
         "103.75",
         "6640",
         "4357.5",
         "Home Care",
         "-34.375",
         "-2.0",
         "-18.06615776081425",
         "-2282.5",
         "-38.54961832061068"
        ],
        [
         "48",
         "c1e0b6",
         "STCHE-6",
         "CAMP_SAN_01",
         "P01",
         "172",
         "33% OFF",
         "273",
         "379",
         null,
         null,
         null,
         "chennai",
         "652",
         "Atliq_Masoor_Dal (1KG)",
         "56.760000000000005",
         "46956",
         "43675.96",
         "Grocery & Staples",
         "-6.985347985347986",
         "106.0",
         "-18.06615776081425",
         "-3280.040000000001",
         "-38.54961832061068"
        ],
        [
         "49",
         "f60d93",
         "STCBE-0",
         "CAMP_DIW_01",
         "P05",
         "55",
         "25% OFF",
         "78",
         "75",
         null,
         null,
         null,
         "coimbatore",
         "153",
         "Atliq_Scrub_Sponge_For_Dishwash",
         "13.75",
         "4290",
         "3093.75",
         "Home Care",
         "-27.884615384615387",
         "-3.0",
         "-18.06615776081425",
         "-1196.25",
         "-38.54961832061068"
        ]
       ],
       "shape": {
        "columns": 23,
        "rows": 1500
       }
      },
      "text/html": [
       "<div>\n",
       "<style scoped>\n",
       "    .dataframe tbody tr th:only-of-type {\n",
       "        vertical-align: middle;\n",
       "    }\n",
       "\n",
       "    .dataframe tbody tr th {\n",
       "        vertical-align: top;\n",
       "    }\n",
       "\n",
       "    .dataframe thead th {\n",
       "        text-align: right;\n",
       "    }\n",
       "</style>\n",
       "<table border=\"1\" class=\"dataframe\">\n",
       "  <thead>\n",
       "    <tr style=\"text-align: right;\">\n",
       "      <th></th>\n",
       "      <th>event_id</th>\n",
       "      <th>store_id</th>\n",
       "      <th>campaign_id</th>\n",
       "      <th>product_code</th>\n",
       "      <th>base_price</th>\n",
       "      <th>promo_type</th>\n",
       "      <th>quantity_sold(before_promo)</th>\n",
       "      <th>quantity_sold(after_promo)</th>\n",
       "      <th>Unnamed: 8</th>\n",
       "      <th>Unnamed: 9</th>\n",
       "      <th>...</th>\n",
       "      <th>product_name</th>\n",
       "      <th>promo_discount</th>\n",
       "      <th>revenue_before_promo</th>\n",
       "      <th>revenue_after_promo</th>\n",
       "      <th>category</th>\n",
       "      <th>ir%</th>\n",
       "      <th>inc_units</th>\n",
       "      <th>isu_percent</th>\n",
       "      <th>inc_revenue</th>\n",
       "      <th>ir_percent_calc</th>\n",
       "    </tr>\n",
       "  </thead>\n",
       "  <tbody>\n",
       "    <tr>\n",
       "      <th>0</th>\n",
       "      <td>7f650b</td>\n",
       "      <td>STCBE-2</td>\n",
       "      <td>CAMP_SAN_01</td>\n",
       "      <td>P11</td>\n",
       "      <td>190</td>\n",
       "      <td>50% OFF</td>\n",
       "      <td>34</td>\n",
       "      <td>52</td>\n",
       "      <td>NaN</td>\n",
       "      <td>NaN</td>\n",
       "      <td>...</td>\n",
       "      <td>Atliq_Doodh_Kesar_Body_Lotion (200ML)</td>\n",
       "      <td>95.00</td>\n",
       "      <td>6460</td>\n",
       "      <td>4940.00</td>\n",
       "      <td>Personal Care</td>\n",
       "      <td>-23.529412</td>\n",
       "      <td>18.0</td>\n",
       "      <td>-18.066158</td>\n",
       "      <td>-1520.00</td>\n",
       "      <td>-38.549618</td>\n",
       "    </tr>\n",
       "    <tr>\n",
       "      <th>1</th>\n",
       "      <td>a21f91</td>\n",
       "      <td>STBLR-8</td>\n",
       "      <td>CAMP_DIW_01</td>\n",
       "      <td>P03</td>\n",
       "      <td>156</td>\n",
       "      <td>25% OFF</td>\n",
       "      <td>393</td>\n",
       "      <td>322</td>\n",
       "      <td>NaN</td>\n",
       "      <td>NaN</td>\n",
       "      <td>...</td>\n",
       "      <td>Atliq_Suflower_Oil (1L)</td>\n",
       "      <td>39.00</td>\n",
       "      <td>61308</td>\n",
       "      <td>37674.00</td>\n",
       "      <td>Grocery &amp; Staples</td>\n",
       "      <td>-38.549618</td>\n",
       "      <td>-71.0</td>\n",
       "      <td>-18.066158</td>\n",
       "      <td>-23634.00</td>\n",
       "      <td>-38.549618</td>\n",
       "    </tr>\n",
       "    <tr>\n",
       "      <th>2</th>\n",
       "      <td>78bc80</td>\n",
       "      <td>STVJD-0</td>\n",
       "      <td>CAMP_SAN_01</td>\n",
       "      <td>P07</td>\n",
       "      <td>300</td>\n",
       "      <td>BOGOF</td>\n",
       "      <td>22</td>\n",
       "      <td>85</td>\n",
       "      <td>NaN</td>\n",
       "      <td>NaN</td>\n",
       "      <td>...</td>\n",
       "      <td>Atliq_Curtains</td>\n",
       "      <td>150.00</td>\n",
       "      <td>6600</td>\n",
       "      <td>12750.00</td>\n",
       "      <td>Home Care</td>\n",
       "      <td>93.181818</td>\n",
       "      <td>63.0</td>\n",
       "      <td>-18.066158</td>\n",
       "      <td>6150.00</td>\n",
       "      <td>-38.549618</td>\n",
       "    </tr>\n",
       "    <tr>\n",
       "      <th>3</th>\n",
       "      <td>a1503f</td>\n",
       "      <td>STCBE-1</td>\n",
       "      <td>CAMP_DIW_01</td>\n",
       "      <td>P15</td>\n",
       "      <td>3000</td>\n",
       "      <td>500 Cashback</td>\n",
       "      <td>329</td>\n",
       "      <td>1000</td>\n",
       "      <td>NaN</td>\n",
       "      <td>NaN</td>\n",
       "      <td>...</td>\n",
       "      <td>Atliq_Home_Essential_8_Product_Combo</td>\n",
       "      <td>2500.00</td>\n",
       "      <td>987000</td>\n",
       "      <td>500000.00</td>\n",
       "      <td>Combo1</td>\n",
       "      <td>-49.341439</td>\n",
       "      <td>671.0</td>\n",
       "      <td>-18.066158</td>\n",
       "      <td>-487000.00</td>\n",
       "      <td>-38.549618</td>\n",
       "    </tr>\n",
       "    <tr>\n",
       "      <th>4</th>\n",
       "      <td>1091cf</td>\n",
       "      <td>STBLR-6</td>\n",
       "      <td>CAMP_DIW_01</td>\n",
       "      <td>P05</td>\n",
       "      <td>55</td>\n",
       "      <td>25% OFF</td>\n",
       "      <td>108</td>\n",
       "      <td>93</td>\n",
       "      <td>NaN</td>\n",
       "      <td>NaN</td>\n",
       "      <td>...</td>\n",
       "      <td>Atliq_Scrub_Sponge_For_Dishwash</td>\n",
       "      <td>13.75</td>\n",
       "      <td>5940</td>\n",
       "      <td>3836.25</td>\n",
       "      <td>Home Care</td>\n",
       "      <td>-35.416667</td>\n",
       "      <td>-15.0</td>\n",
       "      <td>-18.066158</td>\n",
       "      <td>-2103.75</td>\n",
       "      <td>-38.549618</td>\n",
       "    </tr>\n",
       "    <tr>\n",
       "      <th>...</th>\n",
       "      <td>...</td>\n",
       "      <td>...</td>\n",
       "      <td>...</td>\n",
       "      <td>...</td>\n",
       "      <td>...</td>\n",
       "      <td>...</td>\n",
       "      <td>...</td>\n",
       "      <td>...</td>\n",
       "      <td>...</td>\n",
       "      <td>...</td>\n",
       "      <td>...</td>\n",
       "      <td>...</td>\n",
       "      <td>...</td>\n",
       "      <td>...</td>\n",
       "      <td>...</td>\n",
       "      <td>...</td>\n",
       "      <td>...</td>\n",
       "      <td>...</td>\n",
       "      <td>...</td>\n",
       "      <td>...</td>\n",
       "      <td>...</td>\n",
       "    </tr>\n",
       "    <tr>\n",
       "      <th>1495</th>\n",
       "      <td>1e8961</td>\n",
       "      <td>STBLR-3</td>\n",
       "      <td>CAMP_SAN_01</td>\n",
       "      <td>P12</td>\n",
       "      <td>62</td>\n",
       "      <td>50% OFF</td>\n",
       "      <td>61</td>\n",
       "      <td>84</td>\n",
       "      <td>NaN</td>\n",
       "      <td>NaN</td>\n",
       "      <td>...</td>\n",
       "      <td>Atliq_Lime_Cool_Bathing_Bar (125GM)</td>\n",
       "      <td>31.00</td>\n",
       "      <td>3782</td>\n",
       "      <td>2604.00</td>\n",
       "      <td>Personal Care</td>\n",
       "      <td>-31.147541</td>\n",
       "      <td>23.0</td>\n",
       "      <td>-18.066158</td>\n",
       "      <td>-1178.00</td>\n",
       "      <td>-38.549618</td>\n",
       "    </tr>\n",
       "    <tr>\n",
       "      <th>1496</th>\n",
       "      <td>f957f1</td>\n",
       "      <td>STMDU-1</td>\n",
       "      <td>CAMP_SAN_01</td>\n",
       "      <td>P10</td>\n",
       "      <td>50</td>\n",
       "      <td>25% OFF</td>\n",
       "      <td>22</td>\n",
       "      <td>18</td>\n",
       "      <td>NaN</td>\n",
       "      <td>NaN</td>\n",
       "      <td>...</td>\n",
       "      <td>Atliq_Cream_Beauty_Bathing_Soap (125GM)</td>\n",
       "      <td>12.50</td>\n",
       "      <td>1100</td>\n",
       "      <td>675.00</td>\n",
       "      <td>Personal Care</td>\n",
       "      <td>-38.636364</td>\n",
       "      <td>-4.0</td>\n",
       "      <td>-18.066158</td>\n",
       "      <td>-425.00</td>\n",
       "      <td>-38.549618</td>\n",
       "    </tr>\n",
       "    <tr>\n",
       "      <th>1497</th>\n",
       "      <td>a9ae21</td>\n",
       "      <td>STCBE-0</td>\n",
       "      <td>CAMP_DIW_01</td>\n",
       "      <td>P12</td>\n",
       "      <td>62</td>\n",
       "      <td>50% OFF</td>\n",
       "      <td>80</td>\n",
       "      <td>119</td>\n",
       "      <td>NaN</td>\n",
       "      <td>NaN</td>\n",
       "      <td>...</td>\n",
       "      <td>Atliq_Lime_Cool_Bathing_Bar (125GM)</td>\n",
       "      <td>31.00</td>\n",
       "      <td>4960</td>\n",
       "      <td>3689.00</td>\n",
       "      <td>Personal Care</td>\n",
       "      <td>-25.625000</td>\n",
       "      <td>39.0</td>\n",
       "      <td>-18.066158</td>\n",
       "      <td>-1271.00</td>\n",
       "      <td>-38.549618</td>\n",
       "    </tr>\n",
       "    <tr>\n",
       "      <th>1498</th>\n",
       "      <td>e5d28d</td>\n",
       "      <td>STVSK-0</td>\n",
       "      <td>CAMP_SAN_01</td>\n",
       "      <td>P13</td>\n",
       "      <td>350</td>\n",
       "      <td>BOGOF</td>\n",
       "      <td>73</td>\n",
       "      <td>282</td>\n",
       "      <td>NaN</td>\n",
       "      <td>NaN</td>\n",
       "      <td>...</td>\n",
       "      <td>Atliq_High_Glo_15W_LED_Bulb</td>\n",
       "      <td>175.00</td>\n",
       "      <td>25550</td>\n",
       "      <td>49350.00</td>\n",
       "      <td>Home Appliances</td>\n",
       "      <td>93.150685</td>\n",
       "      <td>209.0</td>\n",
       "      <td>-18.066158</td>\n",
       "      <td>23800.00</td>\n",
       "      <td>-38.549618</td>\n",
       "    </tr>\n",
       "    <tr>\n",
       "      <th>1499</th>\n",
       "      <td>4d22d1</td>\n",
       "      <td>STBLR-9</td>\n",
       "      <td>CAMP_SAN_01</td>\n",
       "      <td>P12</td>\n",
       "      <td>62</td>\n",
       "      <td>50% OFF</td>\n",
       "      <td>52</td>\n",
       "      <td>73</td>\n",
       "      <td>NaN</td>\n",
       "      <td>NaN</td>\n",
       "      <td>...</td>\n",
       "      <td>Atliq_Lime_Cool_Bathing_Bar (125GM)</td>\n",
       "      <td>31.00</td>\n",
       "      <td>3224</td>\n",
       "      <td>2263.00</td>\n",
       "      <td>Personal Care</td>\n",
       "      <td>-29.807692</td>\n",
       "      <td>21.0</td>\n",
       "      <td>-18.066158</td>\n",
       "      <td>-961.00</td>\n",
       "      <td>-38.549618</td>\n",
       "    </tr>\n",
       "  </tbody>\n",
       "</table>\n",
       "<p>1500 rows × 23 columns</p>\n",
       "</div>"
      ],
      "text/plain": [
       "     event_id store_id  campaign_id product_code  base_price    promo_type  \\\n",
       "0      7f650b  STCBE-2  CAMP_SAN_01          P11         190       50% OFF   \n",
       "1      a21f91  STBLR-8  CAMP_DIW_01          P03         156       25% OFF   \n",
       "2      78bc80  STVJD-0  CAMP_SAN_01          P07         300         BOGOF   \n",
       "3      a1503f  STCBE-1  CAMP_DIW_01          P15        3000  500 Cashback   \n",
       "4      1091cf  STBLR-6  CAMP_DIW_01          P05          55       25% OFF   \n",
       "...       ...      ...          ...          ...         ...           ...   \n",
       "1495   1e8961  STBLR-3  CAMP_SAN_01          P12          62       50% OFF   \n",
       "1496   f957f1  STMDU-1  CAMP_SAN_01          P10          50       25% OFF   \n",
       "1497   a9ae21  STCBE-0  CAMP_DIW_01          P12          62       50% OFF   \n",
       "1498   e5d28d  STVSK-0  CAMP_SAN_01          P13         350         BOGOF   \n",
       "1499   4d22d1  STBLR-9  CAMP_SAN_01          P12          62       50% OFF   \n",
       "\n",
       "      quantity_sold(before_promo)  quantity_sold(after_promo)  Unnamed: 8  \\\n",
       "0                              34                          52         NaN   \n",
       "1                             393                         322         NaN   \n",
       "2                              22                          85         NaN   \n",
       "3                             329                        1000         NaN   \n",
       "4                             108                          93         NaN   \n",
       "...                           ...                         ...         ...   \n",
       "1495                           61                          84         NaN   \n",
       "1496                           22                          18         NaN   \n",
       "1497                           80                         119         NaN   \n",
       "1498                           73                         282         NaN   \n",
       "1499                           52                          73         NaN   \n",
       "\n",
       "      Unnamed: 9  ...                             product_name promo_discount  \\\n",
       "0            NaN  ...    Atliq_Doodh_Kesar_Body_Lotion (200ML)          95.00   \n",
       "1            NaN  ...                  Atliq_Suflower_Oil (1L)          39.00   \n",
       "2            NaN  ...                           Atliq_Curtains         150.00   \n",
       "3            NaN  ...     Atliq_Home_Essential_8_Product_Combo        2500.00   \n",
       "4            NaN  ...          Atliq_Scrub_Sponge_For_Dishwash          13.75   \n",
       "...          ...  ...                                      ...            ...   \n",
       "1495         NaN  ...      Atliq_Lime_Cool_Bathing_Bar (125GM)          31.00   \n",
       "1496         NaN  ...  Atliq_Cream_Beauty_Bathing_Soap (125GM)          12.50   \n",
       "1497         NaN  ...      Atliq_Lime_Cool_Bathing_Bar (125GM)          31.00   \n",
       "1498         NaN  ...              Atliq_High_Glo_15W_LED_Bulb         175.00   \n",
       "1499         NaN  ...      Atliq_Lime_Cool_Bathing_Bar (125GM)          31.00   \n",
       "\n",
       "      revenue_before_promo revenue_after_promo           category        ir%  \\\n",
       "0                     6460             4940.00      Personal Care -23.529412   \n",
       "1                    61308            37674.00  Grocery & Staples -38.549618   \n",
       "2                     6600            12750.00          Home Care  93.181818   \n",
       "3                   987000           500000.00             Combo1 -49.341439   \n",
       "4                     5940             3836.25          Home Care -35.416667   \n",
       "...                    ...                 ...                ...        ...   \n",
       "1495                  3782             2604.00      Personal Care -31.147541   \n",
       "1496                  1100              675.00      Personal Care -38.636364   \n",
       "1497                  4960             3689.00      Personal Care -25.625000   \n",
       "1498                 25550            49350.00    Home Appliances  93.150685   \n",
       "1499                  3224             2263.00      Personal Care -29.807692   \n",
       "\n",
       "      inc_units isu_percent  inc_revenue  ir_percent_calc  \n",
       "0          18.0  -18.066158     -1520.00       -38.549618  \n",
       "1         -71.0  -18.066158    -23634.00       -38.549618  \n",
       "2          63.0  -18.066158      6150.00       -38.549618  \n",
       "3         671.0  -18.066158   -487000.00       -38.549618  \n",
       "4         -15.0  -18.066158     -2103.75       -38.549618  \n",
       "...         ...         ...          ...              ...  \n",
       "1495       23.0  -18.066158     -1178.00       -38.549618  \n",
       "1496       -4.0  -18.066158      -425.00       -38.549618  \n",
       "1497       39.0  -18.066158     -1271.00       -38.549618  \n",
       "1498      209.0  -18.066158     23800.00       -38.549618  \n",
       "1499       21.0  -18.066158      -961.00       -38.549618  \n",
       "\n",
       "[1500 rows x 23 columns]"
      ]
     },
     "execution_count": 76,
     "metadata": {},
     "output_type": "execute_result"
    }
   ],
   "source": [
    "df"
   ]
  },
  {
   "cell_type": "markdown",
   "id": "0d04bcde",
   "metadata": {},
   "source": [
    "Which promo types deliver the highest IR% / ISU for each product category?\n",
    "\n",
    "Helps pick the right promo mechanics per category (e.g., bundle vs. percent-off)."
   ]
  },
  {
   "cell_type": "code",
   "execution_count": 77,
   "id": "7a285360",
   "metadata": {},
   "outputs": [
    {
     "name": "stdout",
     "output_type": "stream",
     "text": [
      "=== Top Promo Type per Category by IR% ===\n",
      "         category   promo_type  mean_ir_percent  n_events\n",
      "           Combo1 500 Cashback       -56.304843       100\n",
      "Grocery & Staples        BOGOF        87.228826       100\n",
      "  Home Appliances        BOGOF        79.032672       200\n",
      "        Home Care        BOGOF        78.881547       200\n",
      "    Personal Care      50% OFF       -33.255387       300\n",
      "\n",
      "=== Top Promo Type per Category by ISU% ===\n",
      "         category   promo_type  mean_isu_percent  n_events\n",
      "           Combo1 500 Cashback        -18.066158       100\n",
      "Grocery & Staples      25% OFF        -18.066158       100\n",
      "  Home Appliances        BOGOF        -18.066158       200\n",
      "        Home Care      25% OFF        -18.066158       200\n",
      "    Personal Care      25% OFF        -18.066158       100\n"
     ]
    }
   ],
   "source": [
    "# Aggregate by category and promo type\n",
    "\n",
    "df['ir%'] = pd.to_numeric(df['ir%'], errors='coerce').fillna(0)\n",
    "df['isu_percent'] = pd.to_numeric(df['isu_percent'], errors='coerce').fillna(0)\n",
    "\n",
    "category_promo_perf = df.groupby(['category','promo_type'], as_index=False).agg(\n",
    "    mean_ir_percent=('ir%', 'mean'),\n",
    "    mean_isu_percent=('isu_percent', 'mean'),\n",
    "    n_events=('event_id','nunique')\n",
    ")\n",
    "\n",
    "# Top promo type per category by IR% and ISU%\n",
    "top_promo_ir = category_promo_perf.loc[category_promo_perf.groupby('category')['mean_ir_percent'].idxmax()]\n",
    "top_promo_isu = category_promo_perf.loc[category_promo_perf.groupby('category')['mean_isu_percent'].idxmax()]\n",
    "\n",
    "print(\"=== Top Promo Type per Category by IR% ===\")\n",
    "print(top_promo_ir[['category','promo_type','mean_ir_percent','n_events']].to_string(index=False))\n",
    "\n",
    "print(\"\\n=== Top Promo Type per Category by ISU% ===\")\n",
    "print(top_promo_isu[['category','promo_type','mean_isu_percent','n_events']].to_string(index=False))"
   ]
  },
  {
   "cell_type": "markdown",
   "id": "7e58fc24",
   "metadata": {},
   "source": [
    "Top-performing product-store pairs (granular wins)\n",
    "\n",
    "Identify (product, store) combos that consistently show high IR% across multiple campaigns — roll them out as test cases to similar stores."
   ]
  },
  {
   "cell_type": "code",
   "execution_count": 78,
   "id": "03ef1c25",
   "metadata": {},
   "outputs": [
    {
     "name": "stdout",
     "output_type": "stream",
     "text": [
      "=== Top Product-Store Pairs ===\n",
      "store_id                   product_name  mean_ir_percent  mean_isu_percent  campaigns_count\n",
      " STCHE-7 Atliq_waterproof_Immersion_Rod       112.036036        -18.066158                2\n",
      " STCHE-7      Atliq_Double_Bedsheet_set       111.640212        -18.066158                2\n",
      " STCHE-4    Atliq_High_Glo_15W_LED_Bulb       110.682957        -18.066158                2\n",
      " STMYS-1                 Atliq_Curtains       109.528424        -18.066158                2\n",
      " STCHE-3      Atliq_Double_Bedsheet_set       109.262257        -18.066158                2\n",
      " STCHE-3    Atliq_High_Glo_15W_LED_Bulb       108.401639        -18.066158                2\n",
      " STCHE-7                 Atliq_Curtains       108.224346        -18.066158                2\n",
      " STMYS-1      Atliq_Double_Bedsheet_set       108.057526        -18.066158                2\n",
      " STBLR-6      Atliq_Double_Bedsheet_set       107.859532        -18.066158                2\n",
      " STMYS-3      Atliq_Double_Bedsheet_set       107.226166        -18.066158                2\n"
     ]
    }
   ],
   "source": [
    "# Aggregate by product and store\n",
    "prod_store_perf = df.groupby(['store_id','product_name'], as_index=False).agg(\n",
    "    mean_ir_percent=('ir%', 'mean'),\n",
    "    mean_isu_percent=('isu_percent', 'mean'),\n",
    "    campaigns_count=('campaign_id','nunique')\n",
    ")\n",
    "\n",
    "# Filter for product-store pairs that consistently perform across multiple campaigns\n",
    "# You can adjust min campaigns threshold\n",
    "min_campaigns = 2\n",
    "top_prod_store = prod_store_perf[prod_store_perf['campaigns_count'] >= min_campaigns].sort_values(\n",
    "    'mean_ir_percent', ascending=False\n",
    ").head(20)\n",
    "\n",
    "print(\"=== Top Product-Store Pairs ===\")\n",
    "print(top_prod_store[['store_id','product_name','mean_ir_percent','mean_isu_percent','campaigns_count']].head(10).to_string(index=False))\n"
   ]
  },
  {
   "cell_type": "markdown",
   "id": "2556c279",
   "metadata": {},
   "source": [
    "Incremental revenue per unit of discount (efficiency metric)\n",
    "\n",
    "inc_revenue / promo_discount or inc_revenue / (base_price * discount) to identify most cost-effective promos."
   ]
  },
  {
   "cell_type": "code",
   "execution_count": 79,
   "id": "f6a2fc7e",
   "metadata": {},
   "outputs": [
    {
     "name": "stdout",
     "output_type": "stream",
     "text": [
      "=== Top Promo Efficiency (Incremental Revenue per Unit of Discount) ===\n",
      "           product_name          category promo_type  base_price  promo_discount  inc_revenue  rev_per_discount_unit  rev_per_discount_amount\n",
      "Atliq_Suflower_Oil (1L) Grocery & Staples      BOGOF         200           100.0     101700.0                 1017.0                    508.5\n",
      "Atliq_Suflower_Oil (1L) Grocery & Staples      BOGOF         200           100.0      99900.0                  999.0                    499.5\n",
      "Atliq_Suflower_Oil (1L) Grocery & Staples      BOGOF         200           100.0      95800.0                  958.0                    479.0\n",
      "Atliq_Suflower_Oil (1L) Grocery & Staples      BOGOF         200           100.0      92900.0                  929.0                    464.5\n",
      "Atliq_Suflower_Oil (1L) Grocery & Staples      BOGOF         200           100.0      92100.0                  921.0                    460.5\n",
      "Atliq_Suflower_Oil (1L) Grocery & Staples      BOGOF         200           100.0      91000.0                  910.0                    455.0\n",
      "Atliq_Suflower_Oil (1L) Grocery & Staples      BOGOF         200           100.0      88800.0                  888.0                    444.0\n",
      "Atliq_Suflower_Oil (1L) Grocery & Staples      BOGOF         200           100.0      88000.0                  880.0                    440.0\n",
      "Atliq_Suflower_Oil (1L) Grocery & Staples      BOGOF         200           100.0      87200.0                  872.0                    436.0\n",
      "Atliq_Suflower_Oil (1L) Grocery & Staples      BOGOF         200           100.0      83200.0                  832.0                    416.0\n"
     ]
    }
   ],
   "source": [
    "# Compute incremental revenue\n",
    "df['inc_revenue'] = df['revenue_after_promo'] - df['revenue_before_promo']\n",
    "\n",
    "# Efficiency metrics\n",
    "df['rev_per_discount_unit'] = df['inc_revenue'] / df['promo_discount'].replace(0, pd.NA)\n",
    "df['rev_per_discount_amount'] = df['inc_revenue'] / ((df['base_price'] * df['promo_discount']/100).replace(0, pd.NA))\n",
    "\n",
    "# Top 20 efficient promos\n",
    "top_efficiency = df.sort_values('rev_per_discount_amount', ascending=False).head(20)\n",
    "print(\"=== Top Promo Efficiency (Incremental Revenue per Unit of Discount) ===\")\n",
    "print(top_efficiency[['product_name','category','promo_type','base_price','promo_discount','inc_revenue','rev_per_discount_unit','rev_per_discount_amount']].head(10).to_string(index=False))\n"
   ]
  },
  {
   "cell_type": "markdown",
   "id": "83ecc24e",
   "metadata": {},
   "source": [
    "What are the top 2 promotion types that resulted in the highest Incremental Revenue?"
   ]
  },
  {
   "cell_type": "code",
   "execution_count": 80,
   "id": "64f24963",
   "metadata": {},
   "outputs": [
    {
     "name": "stdout",
     "output_type": "stream",
     "text": [
      "=== Top 2 Promotion Types by Incremental Revenue ===\n",
      "promo_type  incremental_revenue\n",
      "     BOGOF           21694880.0\n",
      "   50% OFF            -726663.5\n"
     ]
    }
   ],
   "source": [
    "# Calculate total incremental revenue per promotion type\n",
    "promo_ir = (\n",
    "    df.groupby('promo_type', as_index=False)\n",
    "      .agg(total_inc_revenue=('revenue_after_promo', 'sum'))\n",
    ")\n",
    "\n",
    "# Compute incremental revenue compared to before promo\n",
    "promo_ir['total_revenue_before'] = (\n",
    "    df.groupby('promo_type')['revenue_before_promo'].sum().values\n",
    ")\n",
    "promo_ir['incremental_revenue'] = promo_ir['total_inc_revenue'] - promo_ir['total_revenue_before']\n",
    "\n",
    "# Top 2 promotion types by Incremental Revenue\n",
    "top2_ir = promo_ir.sort_values('incremental_revenue', ascending=False).head(2)\n",
    "\n",
    "print(\"=== Top 2 Promotion Types by Incremental Revenue ===\")\n",
    "print(top2_ir[['promo_type', 'incremental_revenue']].to_string(index=False))\n"
   ]
  },
  {
   "cell_type": "markdown",
   "id": "4e797588",
   "metadata": {},
   "source": [
    "What are the bottom 2 promotion types in terms of their impact on Incremental Sold Units?"
   ]
  },
  {
   "cell_type": "code",
   "execution_count": 81,
   "id": "15696af8",
   "metadata": {},
   "outputs": [
    {
     "name": "stdout",
     "output_type": "stream",
     "text": [
      "\n",
      "=== Bottom 2 Promotion Types by Incremental Sold Units (ISU%) ===\n",
      "promo_type       isu%\n",
      "   25% OFF -15.401109\n",
      "   50% OFF  33.489225\n"
     ]
    }
   ],
   "source": [
    "# Ensure ISU% column exists — compute if missing\n",
    "if 'isu%' not in df.columns:\n",
    "    df['isu%'] = ((df['quantity_sold(after_promo)'] - df['quantity_sold(before_promo)']) /\n",
    "                  df['quantity_sold(before_promo)'].replace(0, pd.NA)) * 100\n",
    "\n",
    "# Average ISU% by promotion type\n",
    "promo_isu = df.groupby('promo_type', as_index=False)['isu%'].mean()\n",
    "\n",
    "# Bottom 2 promotion types\n",
    "bottom2_isu = promo_isu.sort_values('isu%', ascending=True).head(2)\n",
    "\n",
    "print(\"\\n=== Bottom 2 Promotion Types by Incremental Sold Units (ISU%) ===\")\n",
    "print(bottom2_isu.to_string(index=False))\n"
   ]
  },
  {
   "cell_type": "markdown",
   "id": "64c2047c",
   "metadata": {},
   "source": [
    "Is there a significant difference in the performance of discount-based promotions versus BOGOF (Buy One Get One Free) or cashback promotions?"
   ]
  },
  {
   "cell_type": "code",
   "execution_count": 82,
   "id": "55203296",
   "metadata": {},
   "outputs": [
    {
     "name": "stdout",
     "output_type": "stream",
     "text": [
      "\n",
      "=== Discount vs. Other Promotions Performance ===\n",
      "promo_category  avg_ir_percent  avg_isu_percent\n",
      "         Other        6.184001       106.245445\n"
     ]
    }
   ],
   "source": [
    "# Define promo categories\n",
    "discount_based = ['10% off', '15% off', '20% off', '25% off', '30% off', '50% off']\n",
    "\n",
    "df['promo_category'] = df['promo_type'].apply(\n",
    "    lambda x: 'Discount-based' if x in discount_based else 'Other'\n",
    ")\n",
    "\n",
    "# Compute average IR% and ISU% for each group\n",
    "promo_compare = (\n",
    "    df.groupby('promo_category', as_index=False)\n",
    "      .agg(avg_ir_percent=('ir%', 'mean'),\n",
    "           avg_isu_percent=('isu%', 'mean'))\n",
    ")\n",
    "\n",
    "print(\"\\n=== Discount vs. Other Promotions Performance ===\")\n",
    "print(promo_compare.to_string(index=False))\n"
   ]
  },
  {
   "cell_type": "markdown",
   "id": "b27cab4c",
   "metadata": {},
   "source": [
    "Which promotions strike the best balance between Incremental Sold Units and maintaining healthy margins?"
   ]
  },
  {
   "cell_type": "code",
   "execution_count": 83,
   "id": "f103e3ae",
   "metadata": {},
   "outputs": [
    {
     "name": "stdout",
     "output_type": "stream",
     "text": [
      "\n",
      "=== Promotions with Best Balance (ISU% vs Margin) ===\n",
      "  promo_type  mean_isu_percent  mean_margin_efficiency  balance_score\n",
      "       BOGOF        261.222906               43.360888     152.291897\n",
      "     33% OFF         43.266485               -5.099814      19.083335\n",
      "500 Cashback        162.170939             -138.248672      11.961133\n",
      "     50% OFF         33.489225              -51.566041      -9.038408\n",
      "     25% OFF        -15.401109              -58.637166     -37.019137\n"
     ]
    }
   ],
   "source": [
    "# Compute incremental revenue and margin efficiency\n",
    "df['incremental_revenue'] = df['revenue_after_promo'] - df['revenue_before_promo']\n",
    "df['margin_efficiency'] = (df['incremental_revenue'] / df['revenue_after_promo'].replace(0, pd.NA)) * 100\n",
    "\n",
    "# Aggregate performance per promo type\n",
    "promo_balance = (\n",
    "    df.groupby('promo_type', as_index=False)\n",
    "      .agg(mean_isu_percent=('isu%', 'mean'),\n",
    "           mean_margin_efficiency=('margin_efficiency', 'mean'))\n",
    ")\n",
    "\n",
    "# Rank promos that balance both\n",
    "promo_balance['balance_score'] = (promo_balance['mean_isu_percent'] + promo_balance['mean_margin_efficiency']) / 2\n",
    "top_balanced_promos = promo_balance.sort_values('balance_score', ascending=False).head(5)\n",
    "\n",
    "print(\"\\n=== Promotions with Best Balance (ISU% vs Margin) ===\")\n",
    "print(top_balanced_promos[['promo_type', 'mean_isu_percent', 'mean_margin_efficiency', 'balance_score']].to_string(index=False))\n"
   ]
  },
  {
   "cell_type": "markdown",
   "id": "bd8f95d4",
   "metadata": {},
   "source": [
    "Promo-type ROI by category — Which promo types give the best incremental margin within each product category?\n",
    "Why: A promo type that works overall might fail in specific categories."
   ]
  },
  {
   "cell_type": "code",
   "execution_count": 84,
   "id": "be9096ee",
   "metadata": {},
   "outputs": [
    {
     "name": "stdout",
     "output_type": "stream",
     "text": [
      "=== Promo Type ROI by Category ===\n",
      "         category   promo_type  avg_incremental_margin\n",
      "           Combo1 500 Cashback              -56.304843\n",
      "Grocery & Staples        BOGOF               87.228826\n",
      "Grocery & Staples      33% OFF               -4.011455\n",
      "Grocery & Staples      25% OFF              -34.042430\n",
      "  Home Appliances        BOGOF               79.032672\n",
      "        Home Care        BOGOF               78.881547\n",
      "        Home Care      25% OFF              -36.748201\n",
      "    Personal Care      50% OFF              -33.255387\n",
      "    Personal Care      25% OFF              -38.664494\n"
     ]
    }
   ],
   "source": [
    "# Compute incremental margin (ROI)\n",
    "df['incremental_margin%'] = ((df['revenue_after_promo'] - df['revenue_before_promo']) /\n",
    "                              df['revenue_before_promo'].replace(0, pd.NA)) * 100\n",
    "\n",
    "# Aggregate average incremental margin per category-promo type\n",
    "promo_roi_by_cat = (\n",
    "    df.groupby(['category', 'promo_type'], as_index=False)\n",
    "      .agg(avg_incremental_margin=('incremental_margin%', 'mean'))\n",
    "      .sort_values(['category', 'avg_incremental_margin'], ascending=[True, False])\n",
    ")\n",
    "\n",
    "print(\"=== Promo Type ROI by Category ===\")\n",
    "print(promo_roi_by_cat.head(10).to_string(index=False))\n"
   ]
  },
  {
   "cell_type": "code",
   "execution_count": 85,
   "id": "ea5211c7",
   "metadata": {},
   "outputs": [
    {
     "data": {
      "application/vnd.plotly.v1+json": {
       "config": {
        "plotlyServerURL": "https://plot.ly"
       },
       "data": [
        {
         "alignmentgroup": "True",
         "hovertemplate": "category=Combo1<br>Avg Incremental Margin (%)=%{x}<br>Promotion Type=%{y}<extra></extra>",
         "legendgroup": "Combo1",
         "marker": {
          "color": "#636efa",
          "pattern": {
           "shape": ""
          }
         },
         "name": "Combo1",
         "offsetgroup": "Combo1",
         "orientation": "h",
         "showlegend": true,
         "textposition": "auto",
         "type": "bar",
         "x": {
          "bdata": "O3EQHAUnTMA=",
          "dtype": "f8"
         },
         "xaxis": "x",
         "y": [
          "500 Cashback"
         ],
         "yaxis": "y"
        },
        {
         "alignmentgroup": "True",
         "hovertemplate": "category=Grocery & Staples<br>Avg Incremental Margin (%)=%{x}<br>Promotion Type=%{y}<extra></extra>",
         "legendgroup": "Grocery & Staples",
         "marker": {
          "color": "#EF553B",
          "pattern": {
           "shape": ""
          }
         },
         "name": "Grocery & Staples",
         "offsetgroup": "Grocery & Staples",
         "orientation": "h",
         "showlegend": true,
         "textposition": "auto",
         "type": "bar",
         "x": {
          "bdata": "P6pKFaXOVUCV96zzugsQwKxb6FluBUHA",
          "dtype": "f8"
         },
         "xaxis": "x",
         "y": [
          "BOGOF",
          "33% OFF",
          "25% OFF"
         ],
         "yaxis": "y"
        },
        {
         "alignmentgroup": "True",
         "hovertemplate": "category=Home Appliances<br>Avg Incremental Margin (%)=%{x}<br>Promotion Type=%{y}<extra></extra>",
         "legendgroup": "Home Appliances",
         "marker": {
          "color": "#00cc96",
          "pattern": {
           "shape": ""
          }
         },
         "name": "Home Appliances",
         "offsetgroup": "Home Appliances",
         "orientation": "h",
         "showlegend": true,
         "textposition": "auto",
         "type": "bar",
         "x": {
          "bdata": "qSOKShfCU0A=",
          "dtype": "f8"
         },
         "xaxis": "x",
         "y": [
          "BOGOF"
         ],
         "yaxis": "y"
        },
        {
         "alignmentgroup": "True",
         "hovertemplate": "category=Home Care<br>Avg Incremental Margin (%)=%{x}<br>Promotion Type=%{y}<extra></extra>",
         "legendgroup": "Home Care",
         "marker": {
          "color": "#ab63fa",
          "pattern": {
           "shape": ""
          }
         },
         "name": "Home Care",
         "offsetgroup": "Home Care",
         "orientation": "h",
         "showlegend": true,
         "textposition": "auto",
         "type": "bar",
         "x": {
          "bdata": "aXguRmu4U0BofMQKxV9CwA==",
          "dtype": "f8"
         },
         "xaxis": "x",
         "y": [
          "BOGOF",
          "25% OFF"
         ],
         "yaxis": "y"
        },
        {
         "alignmentgroup": "True",
         "hovertemplate": "category=Personal Care<br>Avg Incremental Margin (%)=%{x}<br>Promotion Type=%{y}<extra></extra>",
         "legendgroup": "Personal Care",
         "marker": {
          "color": "#FFA15A",
          "pattern": {
           "shape": ""
          }
         },
         "name": "Personal Care",
         "offsetgroup": "Personal Care",
         "orientation": "h",
         "showlegend": true,
         "textposition": "auto",
         "type": "bar",
         "x": {
          "bdata": "xXZ7ibCgQMBt38kjDlVDwA==",
          "dtype": "f8"
         },
         "xaxis": "x",
         "y": [
          "50% OFF",
          "25% OFF"
         ],
         "yaxis": "y"
        }
       ],
       "layout": {
        "barmode": "group",
        "legend": {
         "title": {
          "text": "Product Category"
         },
         "tracegroupgap": 0
        },
        "template": {
         "data": {
          "bar": [
           {
            "error_x": {
             "color": "#2a3f5f"
            },
            "error_y": {
             "color": "#2a3f5f"
            },
            "marker": {
             "line": {
              "color": "white",
              "width": 0.5
             },
             "pattern": {
              "fillmode": "overlay",
              "size": 10,
              "solidity": 0.2
             }
            },
            "type": "bar"
           }
          ],
          "barpolar": [
           {
            "marker": {
             "line": {
              "color": "white",
              "width": 0.5
             },
             "pattern": {
              "fillmode": "overlay",
              "size": 10,
              "solidity": 0.2
             }
            },
            "type": "barpolar"
           }
          ],
          "carpet": [
           {
            "aaxis": {
             "endlinecolor": "#2a3f5f",
             "gridcolor": "#C8D4E3",
             "linecolor": "#C8D4E3",
             "minorgridcolor": "#C8D4E3",
             "startlinecolor": "#2a3f5f"
            },
            "baxis": {
             "endlinecolor": "#2a3f5f",
             "gridcolor": "#C8D4E3",
             "linecolor": "#C8D4E3",
             "minorgridcolor": "#C8D4E3",
             "startlinecolor": "#2a3f5f"
            },
            "type": "carpet"
           }
          ],
          "choropleth": [
           {
            "colorbar": {
             "outlinewidth": 0,
             "ticks": ""
            },
            "type": "choropleth"
           }
          ],
          "contour": [
           {
            "colorbar": {
             "outlinewidth": 0,
             "ticks": ""
            },
            "colorscale": [
             [
              0,
              "#0d0887"
             ],
             [
              0.1111111111111111,
              "#46039f"
             ],
             [
              0.2222222222222222,
              "#7201a8"
             ],
             [
              0.3333333333333333,
              "#9c179e"
             ],
             [
              0.4444444444444444,
              "#bd3786"
             ],
             [
              0.5555555555555556,
              "#d8576b"
             ],
             [
              0.6666666666666666,
              "#ed7953"
             ],
             [
              0.7777777777777778,
              "#fb9f3a"
             ],
             [
              0.8888888888888888,
              "#fdca26"
             ],
             [
              1,
              "#f0f921"
             ]
            ],
            "type": "contour"
           }
          ],
          "contourcarpet": [
           {
            "colorbar": {
             "outlinewidth": 0,
             "ticks": ""
            },
            "type": "contourcarpet"
           }
          ],
          "heatmap": [
           {
            "colorbar": {
             "outlinewidth": 0,
             "ticks": ""
            },
            "colorscale": [
             [
              0,
              "#0d0887"
             ],
             [
              0.1111111111111111,
              "#46039f"
             ],
             [
              0.2222222222222222,
              "#7201a8"
             ],
             [
              0.3333333333333333,
              "#9c179e"
             ],
             [
              0.4444444444444444,
              "#bd3786"
             ],
             [
              0.5555555555555556,
              "#d8576b"
             ],
             [
              0.6666666666666666,
              "#ed7953"
             ],
             [
              0.7777777777777778,
              "#fb9f3a"
             ],
             [
              0.8888888888888888,
              "#fdca26"
             ],
             [
              1,
              "#f0f921"
             ]
            ],
            "type": "heatmap"
           }
          ],
          "histogram": [
           {
            "marker": {
             "pattern": {
              "fillmode": "overlay",
              "size": 10,
              "solidity": 0.2
             }
            },
            "type": "histogram"
           }
          ],
          "histogram2d": [
           {
            "colorbar": {
             "outlinewidth": 0,
             "ticks": ""
            },
            "colorscale": [
             [
              0,
              "#0d0887"
             ],
             [
              0.1111111111111111,
              "#46039f"
             ],
             [
              0.2222222222222222,
              "#7201a8"
             ],
             [
              0.3333333333333333,
              "#9c179e"
             ],
             [
              0.4444444444444444,
              "#bd3786"
             ],
             [
              0.5555555555555556,
              "#d8576b"
             ],
             [
              0.6666666666666666,
              "#ed7953"
             ],
             [
              0.7777777777777778,
              "#fb9f3a"
             ],
             [
              0.8888888888888888,
              "#fdca26"
             ],
             [
              1,
              "#f0f921"
             ]
            ],
            "type": "histogram2d"
           }
          ],
          "histogram2dcontour": [
           {
            "colorbar": {
             "outlinewidth": 0,
             "ticks": ""
            },
            "colorscale": [
             [
              0,
              "#0d0887"
             ],
             [
              0.1111111111111111,
              "#46039f"
             ],
             [
              0.2222222222222222,
              "#7201a8"
             ],
             [
              0.3333333333333333,
              "#9c179e"
             ],
             [
              0.4444444444444444,
              "#bd3786"
             ],
             [
              0.5555555555555556,
              "#d8576b"
             ],
             [
              0.6666666666666666,
              "#ed7953"
             ],
             [
              0.7777777777777778,
              "#fb9f3a"
             ],
             [
              0.8888888888888888,
              "#fdca26"
             ],
             [
              1,
              "#f0f921"
             ]
            ],
            "type": "histogram2dcontour"
           }
          ],
          "mesh3d": [
           {
            "colorbar": {
             "outlinewidth": 0,
             "ticks": ""
            },
            "type": "mesh3d"
           }
          ],
          "parcoords": [
           {
            "line": {
             "colorbar": {
              "outlinewidth": 0,
              "ticks": ""
             }
            },
            "type": "parcoords"
           }
          ],
          "pie": [
           {
            "automargin": true,
            "type": "pie"
           }
          ],
          "scatter": [
           {
            "fillpattern": {
             "fillmode": "overlay",
             "size": 10,
             "solidity": 0.2
            },
            "type": "scatter"
           }
          ],
          "scatter3d": [
           {
            "line": {
             "colorbar": {
              "outlinewidth": 0,
              "ticks": ""
             }
            },
            "marker": {
             "colorbar": {
              "outlinewidth": 0,
              "ticks": ""
             }
            },
            "type": "scatter3d"
           }
          ],
          "scattercarpet": [
           {
            "marker": {
             "colorbar": {
              "outlinewidth": 0,
              "ticks": ""
             }
            },
            "type": "scattercarpet"
           }
          ],
          "scattergeo": [
           {
            "marker": {
             "colorbar": {
              "outlinewidth": 0,
              "ticks": ""
             }
            },
            "type": "scattergeo"
           }
          ],
          "scattergl": [
           {
            "marker": {
             "colorbar": {
              "outlinewidth": 0,
              "ticks": ""
             }
            },
            "type": "scattergl"
           }
          ],
          "scattermap": [
           {
            "marker": {
             "colorbar": {
              "outlinewidth": 0,
              "ticks": ""
             }
            },
            "type": "scattermap"
           }
          ],
          "scattermapbox": [
           {
            "marker": {
             "colorbar": {
              "outlinewidth": 0,
              "ticks": ""
             }
            },
            "type": "scattermapbox"
           }
          ],
          "scatterpolar": [
           {
            "marker": {
             "colorbar": {
              "outlinewidth": 0,
              "ticks": ""
             }
            },
            "type": "scatterpolar"
           }
          ],
          "scatterpolargl": [
           {
            "marker": {
             "colorbar": {
              "outlinewidth": 0,
              "ticks": ""
             }
            },
            "type": "scatterpolargl"
           }
          ],
          "scatterternary": [
           {
            "marker": {
             "colorbar": {
              "outlinewidth": 0,
              "ticks": ""
             }
            },
            "type": "scatterternary"
           }
          ],
          "surface": [
           {
            "colorbar": {
             "outlinewidth": 0,
             "ticks": ""
            },
            "colorscale": [
             [
              0,
              "#0d0887"
             ],
             [
              0.1111111111111111,
              "#46039f"
             ],
             [
              0.2222222222222222,
              "#7201a8"
             ],
             [
              0.3333333333333333,
              "#9c179e"
             ],
             [
              0.4444444444444444,
              "#bd3786"
             ],
             [
              0.5555555555555556,
              "#d8576b"
             ],
             [
              0.6666666666666666,
              "#ed7953"
             ],
             [
              0.7777777777777778,
              "#fb9f3a"
             ],
             [
              0.8888888888888888,
              "#fdca26"
             ],
             [
              1,
              "#f0f921"
             ]
            ],
            "type": "surface"
           }
          ],
          "table": [
           {
            "cells": {
             "fill": {
              "color": "#EBF0F8"
             },
             "line": {
              "color": "white"
             }
            },
            "header": {
             "fill": {
              "color": "#C8D4E3"
             },
             "line": {
              "color": "white"
             }
            },
            "type": "table"
           }
          ]
         },
         "layout": {
          "annotationdefaults": {
           "arrowcolor": "#2a3f5f",
           "arrowhead": 0,
           "arrowwidth": 1
          },
          "autotypenumbers": "strict",
          "coloraxis": {
           "colorbar": {
            "outlinewidth": 0,
            "ticks": ""
           }
          },
          "colorscale": {
           "diverging": [
            [
             0,
             "#8e0152"
            ],
            [
             0.1,
             "#c51b7d"
            ],
            [
             0.2,
             "#de77ae"
            ],
            [
             0.3,
             "#f1b6da"
            ],
            [
             0.4,
             "#fde0ef"
            ],
            [
             0.5,
             "#f7f7f7"
            ],
            [
             0.6,
             "#e6f5d0"
            ],
            [
             0.7,
             "#b8e186"
            ],
            [
             0.8,
             "#7fbc41"
            ],
            [
             0.9,
             "#4d9221"
            ],
            [
             1,
             "#276419"
            ]
           ],
           "sequential": [
            [
             0,
             "#0d0887"
            ],
            [
             0.1111111111111111,
             "#46039f"
            ],
            [
             0.2222222222222222,
             "#7201a8"
            ],
            [
             0.3333333333333333,
             "#9c179e"
            ],
            [
             0.4444444444444444,
             "#bd3786"
            ],
            [
             0.5555555555555556,
             "#d8576b"
            ],
            [
             0.6666666666666666,
             "#ed7953"
            ],
            [
             0.7777777777777778,
             "#fb9f3a"
            ],
            [
             0.8888888888888888,
             "#fdca26"
            ],
            [
             1,
             "#f0f921"
            ]
           ],
           "sequentialminus": [
            [
             0,
             "#0d0887"
            ],
            [
             0.1111111111111111,
             "#46039f"
            ],
            [
             0.2222222222222222,
             "#7201a8"
            ],
            [
             0.3333333333333333,
             "#9c179e"
            ],
            [
             0.4444444444444444,
             "#bd3786"
            ],
            [
             0.5555555555555556,
             "#d8576b"
            ],
            [
             0.6666666666666666,
             "#ed7953"
            ],
            [
             0.7777777777777778,
             "#fb9f3a"
            ],
            [
             0.8888888888888888,
             "#fdca26"
            ],
            [
             1,
             "#f0f921"
            ]
           ]
          },
          "colorway": [
           "#636efa",
           "#EF553B",
           "#00cc96",
           "#ab63fa",
           "#FFA15A",
           "#19d3f3",
           "#FF6692",
           "#B6E880",
           "#FF97FF",
           "#FECB52"
          ],
          "font": {
           "color": "#2a3f5f"
          },
          "geo": {
           "bgcolor": "white",
           "lakecolor": "white",
           "landcolor": "white",
           "showlakes": true,
           "showland": true,
           "subunitcolor": "#C8D4E3"
          },
          "hoverlabel": {
           "align": "left"
          },
          "hovermode": "closest",
          "mapbox": {
           "style": "light"
          },
          "paper_bgcolor": "white",
          "plot_bgcolor": "white",
          "polar": {
           "angularaxis": {
            "gridcolor": "#EBF0F8",
            "linecolor": "#EBF0F8",
            "ticks": ""
           },
           "bgcolor": "white",
           "radialaxis": {
            "gridcolor": "#EBF0F8",
            "linecolor": "#EBF0F8",
            "ticks": ""
           }
          },
          "scene": {
           "xaxis": {
            "backgroundcolor": "white",
            "gridcolor": "#DFE8F3",
            "gridwidth": 2,
            "linecolor": "#EBF0F8",
            "showbackground": true,
            "ticks": "",
            "zerolinecolor": "#EBF0F8"
           },
           "yaxis": {
            "backgroundcolor": "white",
            "gridcolor": "#DFE8F3",
            "gridwidth": 2,
            "linecolor": "#EBF0F8",
            "showbackground": true,
            "ticks": "",
            "zerolinecolor": "#EBF0F8"
           },
           "zaxis": {
            "backgroundcolor": "white",
            "gridcolor": "#DFE8F3",
            "gridwidth": 2,
            "linecolor": "#EBF0F8",
            "showbackground": true,
            "ticks": "",
            "zerolinecolor": "#EBF0F8"
           }
          },
          "shapedefaults": {
           "line": {
            "color": "#2a3f5f"
           }
          },
          "ternary": {
           "aaxis": {
            "gridcolor": "#DFE8F3",
            "linecolor": "#A2B1C6",
            "ticks": ""
           },
           "baxis": {
            "gridcolor": "#DFE8F3",
            "linecolor": "#A2B1C6",
            "ticks": ""
           },
           "bgcolor": "white",
           "caxis": {
            "gridcolor": "#DFE8F3",
            "linecolor": "#A2B1C6",
            "ticks": ""
           }
          },
          "title": {
           "x": 0.05
          },
          "xaxis": {
           "automargin": true,
           "gridcolor": "#EBF0F8",
           "linecolor": "#EBF0F8",
           "ticks": "",
           "title": {
            "standoff": 15
           },
           "zerolinecolor": "#EBF0F8",
           "zerolinewidth": 2
          },
          "yaxis": {
           "automargin": true,
           "gridcolor": "#EBF0F8",
           "linecolor": "#EBF0F8",
           "ticks": "",
           "title": {
            "standoff": 15
           },
           "zerolinecolor": "#EBF0F8",
           "zerolinewidth": 2
          }
         }
        },
        "title": {
         "text": "Promo-Type ROI (Incremental Margin %) by Product Category"
        },
        "xaxis": {
         "anchor": "y",
         "domain": [
          0,
          1
         ],
         "title": {
          "text": "Incremental Margin (%)"
         }
        },
        "yaxis": {
         "anchor": "x",
         "domain": [
          0,
          1
         ],
         "title": {
          "text": "Promotion Type"
         }
        }
       }
      }
     },
     "metadata": {},
     "output_type": "display_data"
    }
   ],
   "source": [
    "fig = px.bar(\n",
    "    promo_roi_by_cat,\n",
    "    x='avg_incremental_margin',\n",
    "    y='promo_type',\n",
    "    color='category',\n",
    "    orientation='h',\n",
    "    barmode='group',\n",
    "    title='Promo-Type ROI (Incremental Margin %) by Product Category',\n",
    "    labels={'avg_incremental_margin': 'Avg Incremental Margin (%)', 'promo_type': 'Promotion Type'}\n",
    ")\n",
    "\n",
    "fig.update_layout(\n",
    "    xaxis_title='Incremental Margin (%)',\n",
    "    yaxis_title='Promotion Type',\n",
    "    legend_title='Product Category',\n",
    "    template='plotly_white'\n",
    ")\n",
    "\n",
    "fig.show()\n"
   ]
  },
  {
   "cell_type": "markdown",
   "id": "0b1e3c59",
   "metadata": {},
   "source": [
    "Product and Category Analysis:\n",
    "\n",
    "Which product categories saw the most significant lift in sales from the promotions?"
   ]
  },
  {
   "cell_type": "code",
   "execution_count": 86,
   "id": "9f40a5c4",
   "metadata": {},
   "outputs": [],
   "source": [
    "# Compute Incremental Sold Units (ISU%) and Incremental Revenue (IR%)\n",
    "df['isu%'] = ((df['quantity_sold(after_promo)'] - df['quantity_sold(before_promo)']) /\n",
    "              df['quantity_sold(before_promo)'].replace(0, pd.NA)) * 100\n",
    "df['ir%'] = ((df['revenue_after_promo'] - df['revenue_before_promo']) /\n",
    "             df['revenue_before_promo'].replace(0, pd.NA)) * 100\n",
    "\n",
    "# Aggregate by category\n",
    "cat_lift = (\n",
    "    df.groupby('category', as_index=False)\n",
    "      .agg(avg_isu=('isu%', 'mean'),\n",
    "           avg_ir=('ir%', 'mean'))\n",
    "      .sort_values('avg_isu', ascending=False)\n",
    ")"
   ]
  },
  {
   "cell_type": "code",
   "execution_count": 87,
   "id": "6a06aaac",
   "metadata": {},
   "outputs": [
    {
     "data": {
      "application/vnd.plotly.v1+json": {
       "config": {
        "plotlyServerURL": "https://plot.ly"
       },
       "data": [
        {
         "alignmentgroup": "True",
         "hovertemplate": "Metric=avg_isu<br>Product Category=%{x}<br>Percentage (%)=%{y}<extra></extra>",
         "legendgroup": "avg_isu",
         "marker": {
          "color": "#636efa",
          "pattern": {
           "shape": ""
          }
         },
         "name": "avg_isu",
         "offsetgroup": "avg_isu",
         "orientation": "v",
         "showlegend": true,
         "textposition": "auto",
         "type": "bar",
         "x": [
          "Home Appliances",
          "Combo1",
          "Home Care",
          "Grocery & Staples",
          "Personal Care"
         ],
         "xaxis": "x",
         "y": {
          "bdata": "1BFFpQshcEAoVudVeEVkQJv57JcpQ15Ag2eZ2/HOVUATXFz25I80QA==",
          "dtype": "f8"
         },
         "yaxis": "y"
        },
        {
         "alignmentgroup": "True",
         "hovertemplate": "Metric=avg_ir<br>Product Category=%{x}<br>Percentage (%)=%{y}<extra></extra>",
         "legendgroup": "avg_ir",
         "marker": {
          "color": "#EF553B",
          "pattern": {
           "shape": ""
          }
         },
         "name": "avg_ir",
         "offsetgroup": "avg_ir",
         "orientation": "v",
         "showlegend": true,
         "textposition": "auto",
         "type": "bar",
         "x": [
          "Home Appliances",
          "Combo1",
          "Home Care",
          "Grocery & Staples",
          "Personal Care"
         ],
         "xaxis": "x",
         "y": {
          "bdata": "qSOKShfCU0A7cRAcBSdMwGl0mIERETVA7LrBE+2UJkDvEA/wx01BwA==",
          "dtype": "f8"
         },
         "yaxis": "y"
        }
       ],
       "layout": {
        "barmode": "group",
        "legend": {
         "title": {
          "text": "Metric"
         },
         "tracegroupgap": 0
        },
        "template": {
         "data": {
          "bar": [
           {
            "error_x": {
             "color": "#2a3f5f"
            },
            "error_y": {
             "color": "#2a3f5f"
            },
            "marker": {
             "line": {
              "color": "white",
              "width": 0.5
             },
             "pattern": {
              "fillmode": "overlay",
              "size": 10,
              "solidity": 0.2
             }
            },
            "type": "bar"
           }
          ],
          "barpolar": [
           {
            "marker": {
             "line": {
              "color": "white",
              "width": 0.5
             },
             "pattern": {
              "fillmode": "overlay",
              "size": 10,
              "solidity": 0.2
             }
            },
            "type": "barpolar"
           }
          ],
          "carpet": [
           {
            "aaxis": {
             "endlinecolor": "#2a3f5f",
             "gridcolor": "#C8D4E3",
             "linecolor": "#C8D4E3",
             "minorgridcolor": "#C8D4E3",
             "startlinecolor": "#2a3f5f"
            },
            "baxis": {
             "endlinecolor": "#2a3f5f",
             "gridcolor": "#C8D4E3",
             "linecolor": "#C8D4E3",
             "minorgridcolor": "#C8D4E3",
             "startlinecolor": "#2a3f5f"
            },
            "type": "carpet"
           }
          ],
          "choropleth": [
           {
            "colorbar": {
             "outlinewidth": 0,
             "ticks": ""
            },
            "type": "choropleth"
           }
          ],
          "contour": [
           {
            "colorbar": {
             "outlinewidth": 0,
             "ticks": ""
            },
            "colorscale": [
             [
              0,
              "#0d0887"
             ],
             [
              0.1111111111111111,
              "#46039f"
             ],
             [
              0.2222222222222222,
              "#7201a8"
             ],
             [
              0.3333333333333333,
              "#9c179e"
             ],
             [
              0.4444444444444444,
              "#bd3786"
             ],
             [
              0.5555555555555556,
              "#d8576b"
             ],
             [
              0.6666666666666666,
              "#ed7953"
             ],
             [
              0.7777777777777778,
              "#fb9f3a"
             ],
             [
              0.8888888888888888,
              "#fdca26"
             ],
             [
              1,
              "#f0f921"
             ]
            ],
            "type": "contour"
           }
          ],
          "contourcarpet": [
           {
            "colorbar": {
             "outlinewidth": 0,
             "ticks": ""
            },
            "type": "contourcarpet"
           }
          ],
          "heatmap": [
           {
            "colorbar": {
             "outlinewidth": 0,
             "ticks": ""
            },
            "colorscale": [
             [
              0,
              "#0d0887"
             ],
             [
              0.1111111111111111,
              "#46039f"
             ],
             [
              0.2222222222222222,
              "#7201a8"
             ],
             [
              0.3333333333333333,
              "#9c179e"
             ],
             [
              0.4444444444444444,
              "#bd3786"
             ],
             [
              0.5555555555555556,
              "#d8576b"
             ],
             [
              0.6666666666666666,
              "#ed7953"
             ],
             [
              0.7777777777777778,
              "#fb9f3a"
             ],
             [
              0.8888888888888888,
              "#fdca26"
             ],
             [
              1,
              "#f0f921"
             ]
            ],
            "type": "heatmap"
           }
          ],
          "histogram": [
           {
            "marker": {
             "pattern": {
              "fillmode": "overlay",
              "size": 10,
              "solidity": 0.2
             }
            },
            "type": "histogram"
           }
          ],
          "histogram2d": [
           {
            "colorbar": {
             "outlinewidth": 0,
             "ticks": ""
            },
            "colorscale": [
             [
              0,
              "#0d0887"
             ],
             [
              0.1111111111111111,
              "#46039f"
             ],
             [
              0.2222222222222222,
              "#7201a8"
             ],
             [
              0.3333333333333333,
              "#9c179e"
             ],
             [
              0.4444444444444444,
              "#bd3786"
             ],
             [
              0.5555555555555556,
              "#d8576b"
             ],
             [
              0.6666666666666666,
              "#ed7953"
             ],
             [
              0.7777777777777778,
              "#fb9f3a"
             ],
             [
              0.8888888888888888,
              "#fdca26"
             ],
             [
              1,
              "#f0f921"
             ]
            ],
            "type": "histogram2d"
           }
          ],
          "histogram2dcontour": [
           {
            "colorbar": {
             "outlinewidth": 0,
             "ticks": ""
            },
            "colorscale": [
             [
              0,
              "#0d0887"
             ],
             [
              0.1111111111111111,
              "#46039f"
             ],
             [
              0.2222222222222222,
              "#7201a8"
             ],
             [
              0.3333333333333333,
              "#9c179e"
             ],
             [
              0.4444444444444444,
              "#bd3786"
             ],
             [
              0.5555555555555556,
              "#d8576b"
             ],
             [
              0.6666666666666666,
              "#ed7953"
             ],
             [
              0.7777777777777778,
              "#fb9f3a"
             ],
             [
              0.8888888888888888,
              "#fdca26"
             ],
             [
              1,
              "#f0f921"
             ]
            ],
            "type": "histogram2dcontour"
           }
          ],
          "mesh3d": [
           {
            "colorbar": {
             "outlinewidth": 0,
             "ticks": ""
            },
            "type": "mesh3d"
           }
          ],
          "parcoords": [
           {
            "line": {
             "colorbar": {
              "outlinewidth": 0,
              "ticks": ""
             }
            },
            "type": "parcoords"
           }
          ],
          "pie": [
           {
            "automargin": true,
            "type": "pie"
           }
          ],
          "scatter": [
           {
            "fillpattern": {
             "fillmode": "overlay",
             "size": 10,
             "solidity": 0.2
            },
            "type": "scatter"
           }
          ],
          "scatter3d": [
           {
            "line": {
             "colorbar": {
              "outlinewidth": 0,
              "ticks": ""
             }
            },
            "marker": {
             "colorbar": {
              "outlinewidth": 0,
              "ticks": ""
             }
            },
            "type": "scatter3d"
           }
          ],
          "scattercarpet": [
           {
            "marker": {
             "colorbar": {
              "outlinewidth": 0,
              "ticks": ""
             }
            },
            "type": "scattercarpet"
           }
          ],
          "scattergeo": [
           {
            "marker": {
             "colorbar": {
              "outlinewidth": 0,
              "ticks": ""
             }
            },
            "type": "scattergeo"
           }
          ],
          "scattergl": [
           {
            "marker": {
             "colorbar": {
              "outlinewidth": 0,
              "ticks": ""
             }
            },
            "type": "scattergl"
           }
          ],
          "scattermap": [
           {
            "marker": {
             "colorbar": {
              "outlinewidth": 0,
              "ticks": ""
             }
            },
            "type": "scattermap"
           }
          ],
          "scattermapbox": [
           {
            "marker": {
             "colorbar": {
              "outlinewidth": 0,
              "ticks": ""
             }
            },
            "type": "scattermapbox"
           }
          ],
          "scatterpolar": [
           {
            "marker": {
             "colorbar": {
              "outlinewidth": 0,
              "ticks": ""
             }
            },
            "type": "scatterpolar"
           }
          ],
          "scatterpolargl": [
           {
            "marker": {
             "colorbar": {
              "outlinewidth": 0,
              "ticks": ""
             }
            },
            "type": "scatterpolargl"
           }
          ],
          "scatterternary": [
           {
            "marker": {
             "colorbar": {
              "outlinewidth": 0,
              "ticks": ""
             }
            },
            "type": "scatterternary"
           }
          ],
          "surface": [
           {
            "colorbar": {
             "outlinewidth": 0,
             "ticks": ""
            },
            "colorscale": [
             [
              0,
              "#0d0887"
             ],
             [
              0.1111111111111111,
              "#46039f"
             ],
             [
              0.2222222222222222,
              "#7201a8"
             ],
             [
              0.3333333333333333,
              "#9c179e"
             ],
             [
              0.4444444444444444,
              "#bd3786"
             ],
             [
              0.5555555555555556,
              "#d8576b"
             ],
             [
              0.6666666666666666,
              "#ed7953"
             ],
             [
              0.7777777777777778,
              "#fb9f3a"
             ],
             [
              0.8888888888888888,
              "#fdca26"
             ],
             [
              1,
              "#f0f921"
             ]
            ],
            "type": "surface"
           }
          ],
          "table": [
           {
            "cells": {
             "fill": {
              "color": "#EBF0F8"
             },
             "line": {
              "color": "white"
             }
            },
            "header": {
             "fill": {
              "color": "#C8D4E3"
             },
             "line": {
              "color": "white"
             }
            },
            "type": "table"
           }
          ]
         },
         "layout": {
          "annotationdefaults": {
           "arrowcolor": "#2a3f5f",
           "arrowhead": 0,
           "arrowwidth": 1
          },
          "autotypenumbers": "strict",
          "coloraxis": {
           "colorbar": {
            "outlinewidth": 0,
            "ticks": ""
           }
          },
          "colorscale": {
           "diverging": [
            [
             0,
             "#8e0152"
            ],
            [
             0.1,
             "#c51b7d"
            ],
            [
             0.2,
             "#de77ae"
            ],
            [
             0.3,
             "#f1b6da"
            ],
            [
             0.4,
             "#fde0ef"
            ],
            [
             0.5,
             "#f7f7f7"
            ],
            [
             0.6,
             "#e6f5d0"
            ],
            [
             0.7,
             "#b8e186"
            ],
            [
             0.8,
             "#7fbc41"
            ],
            [
             0.9,
             "#4d9221"
            ],
            [
             1,
             "#276419"
            ]
           ],
           "sequential": [
            [
             0,
             "#0d0887"
            ],
            [
             0.1111111111111111,
             "#46039f"
            ],
            [
             0.2222222222222222,
             "#7201a8"
            ],
            [
             0.3333333333333333,
             "#9c179e"
            ],
            [
             0.4444444444444444,
             "#bd3786"
            ],
            [
             0.5555555555555556,
             "#d8576b"
            ],
            [
             0.6666666666666666,
             "#ed7953"
            ],
            [
             0.7777777777777778,
             "#fb9f3a"
            ],
            [
             0.8888888888888888,
             "#fdca26"
            ],
            [
             1,
             "#f0f921"
            ]
           ],
           "sequentialminus": [
            [
             0,
             "#0d0887"
            ],
            [
             0.1111111111111111,
             "#46039f"
            ],
            [
             0.2222222222222222,
             "#7201a8"
            ],
            [
             0.3333333333333333,
             "#9c179e"
            ],
            [
             0.4444444444444444,
             "#bd3786"
            ],
            [
             0.5555555555555556,
             "#d8576b"
            ],
            [
             0.6666666666666666,
             "#ed7953"
            ],
            [
             0.7777777777777778,
             "#fb9f3a"
            ],
            [
             0.8888888888888888,
             "#fdca26"
            ],
            [
             1,
             "#f0f921"
            ]
           ]
          },
          "colorway": [
           "#636efa",
           "#EF553B",
           "#00cc96",
           "#ab63fa",
           "#FFA15A",
           "#19d3f3",
           "#FF6692",
           "#B6E880",
           "#FF97FF",
           "#FECB52"
          ],
          "font": {
           "color": "#2a3f5f"
          },
          "geo": {
           "bgcolor": "white",
           "lakecolor": "white",
           "landcolor": "white",
           "showlakes": true,
           "showland": true,
           "subunitcolor": "#C8D4E3"
          },
          "hoverlabel": {
           "align": "left"
          },
          "hovermode": "closest",
          "mapbox": {
           "style": "light"
          },
          "paper_bgcolor": "white",
          "plot_bgcolor": "white",
          "polar": {
           "angularaxis": {
            "gridcolor": "#EBF0F8",
            "linecolor": "#EBF0F8",
            "ticks": ""
           },
           "bgcolor": "white",
           "radialaxis": {
            "gridcolor": "#EBF0F8",
            "linecolor": "#EBF0F8",
            "ticks": ""
           }
          },
          "scene": {
           "xaxis": {
            "backgroundcolor": "white",
            "gridcolor": "#DFE8F3",
            "gridwidth": 2,
            "linecolor": "#EBF0F8",
            "showbackground": true,
            "ticks": "",
            "zerolinecolor": "#EBF0F8"
           },
           "yaxis": {
            "backgroundcolor": "white",
            "gridcolor": "#DFE8F3",
            "gridwidth": 2,
            "linecolor": "#EBF0F8",
            "showbackground": true,
            "ticks": "",
            "zerolinecolor": "#EBF0F8"
           },
           "zaxis": {
            "backgroundcolor": "white",
            "gridcolor": "#DFE8F3",
            "gridwidth": 2,
            "linecolor": "#EBF0F8",
            "showbackground": true,
            "ticks": "",
            "zerolinecolor": "#EBF0F8"
           }
          },
          "shapedefaults": {
           "line": {
            "color": "#2a3f5f"
           }
          },
          "ternary": {
           "aaxis": {
            "gridcolor": "#DFE8F3",
            "linecolor": "#A2B1C6",
            "ticks": ""
           },
           "baxis": {
            "gridcolor": "#DFE8F3",
            "linecolor": "#A2B1C6",
            "ticks": ""
           },
           "bgcolor": "white",
           "caxis": {
            "gridcolor": "#DFE8F3",
            "linecolor": "#A2B1C6",
            "ticks": ""
           }
          },
          "title": {
           "x": 0.05
          },
          "xaxis": {
           "automargin": true,
           "gridcolor": "#EBF0F8",
           "linecolor": "#EBF0F8",
           "ticks": "",
           "title": {
            "standoff": 15
           },
           "zerolinecolor": "#EBF0F8",
           "zerolinewidth": 2
          },
          "yaxis": {
           "automargin": true,
           "gridcolor": "#EBF0F8",
           "linecolor": "#EBF0F8",
           "ticks": "",
           "title": {
            "standoff": 15
           },
           "zerolinecolor": "#EBF0F8",
           "zerolinewidth": 2
          }
         }
        },
        "title": {
         "text": "Category-wise Lift in Sales and Revenue After Promotions"
        },
        "xaxis": {
         "anchor": "y",
         "domain": [
          0,
          1
         ],
         "title": {
          "text": "Product Category"
         }
        },
        "yaxis": {
         "anchor": "x",
         "domain": [
          0,
          1
         ],
         "title": {
          "text": "Percentage (%)"
         }
        }
       }
      }
     },
     "metadata": {},
     "output_type": "display_data"
    }
   ],
   "source": [
    "# Visualization: category-wise lift comparison\n",
    "fig = px.bar(\n",
    "    cat_lift,\n",
    "    x='category',\n",
    "    y=['avg_isu', 'avg_ir'],\n",
    "    barmode='group',\n",
    "    title='Category-wise Lift in Sales and Revenue After Promotions',\n",
    "    labels={'value': 'Percentage (%)', 'category': 'Product Category', 'variable': 'Metric'},\n",
    "    template='plotly_white'\n",
    ")\n",
    "fig.show()"
   ]
  },
  {
   "cell_type": "markdown",
   "id": "b16f70c0",
   "metadata": {},
   "source": [
    "Are there specific products that respond exceptionally well or poorly to promotions?"
   ]
  },
  {
   "cell_type": "code",
   "execution_count": 88,
   "id": "d7b9c4fb",
   "metadata": {},
   "outputs": [
    {
     "name": "stdout",
     "output_type": "stream",
     "text": [
      "Top 10 Products (Highest Sales Lift):\n",
      "                            product_name           category     avg_isu  \\\n",
      "14        Atliq_waterproof_Immersion_Rod    Home Appliances  258.619446   \n",
      "4              Atliq_Double_Bedsheet_set          Home Care  258.369116   \n",
      "7            Atliq_High_Glo_15W_LED_Bulb    Home Appliances  257.511240   \n",
      "2                         Atliq_Curtains          Home Care  257.157074   \n",
      "8   Atliq_Home_Essential_8_Product_Combo             Combo1  162.170939   \n",
      "13               Atliq_Suflower_Oil (1L)  Grocery & Staples  131.573776   \n",
      "5           Atliq_Farm_Chakki_Atta (1KG)  Grocery & Staples  130.827303   \n",
      "12          Atliq_Sonamasuri_Rice (10KG)  Grocery & Staples   43.416001   \n",
      "10                Atliq_Masoor_Dal (1KG)  Grocery & Staples   43.116968   \n",
      "9    Atliq_Lime_Cool_Bathing_Bar (125GM)      Personal Care   34.706223   \n",
      "\n",
      "       avg_ir  \n",
      "14  79.309723  \n",
      "4   79.184558  \n",
      "7   78.755620  \n",
      "2   78.578537  \n",
      "8  -56.304843  \n",
      "13  26.814698  \n",
      "5   26.371697  \n",
      "12  -3.911279  \n",
      "10  -4.111632  \n",
      "9  -32.646889  \n",
      "\n",
      "Bottom 10 Products (Lowest/Negative Sales Lift):\n",
      "                                 product_name           category     avg_isu  \\\n",
      "6             Atliq_Fusion_Container_Set_of_3          Home Care  -15.677273   \n",
      "11            Atliq_Scrub_Sponge_For_Dishwash          Home Care  -15.651262   \n",
      "0   Atliq_Body_Milk_Nourishing_Lotion (120ML)      Personal Care    6.493407   \n",
      "1     Atliq_Cream_Beauty_Bathing_Soap (125GM)      Personal Care    6.535276   \n",
      "3       Atliq_Doodh_Kesar_Body_Lotion (200ML)      Personal Care   34.513444   \n",
      "9         Atliq_Lime_Cool_Bathing_Bar (125GM)      Personal Care   34.706223   \n",
      "10                     Atliq_Masoor_Dal (1KG)  Grocery & Staples   43.116968   \n",
      "12               Atliq_Sonamasuri_Rice (10KG)  Grocery & Staples   43.416001   \n",
      "5                Atliq_Farm_Chakki_Atta (1KG)  Grocery & Staples  130.827303   \n",
      "13                    Atliq_Suflower_Oil (1L)  Grocery & Staples  131.573776   \n",
      "\n",
      "       avg_ir  \n",
      "6  -36.757955  \n",
      "11 -36.738446  \n",
      "0  -36.476892  \n",
      "1  -36.563598  \n",
      "3  -32.743278  \n",
      "9  -32.646889  \n",
      "10  -4.111632  \n",
      "12  -3.911279  \n",
      "5   26.371697  \n",
      "13  26.814698  \n"
     ]
    }
   ],
   "source": [
    "# Aggregate performance at the product level\n",
    "prod_perf = (\n",
    "    df.groupby(['product_name', 'category'], as_index=False)\n",
    "      .agg(avg_isu=('isu%', 'mean'),\n",
    "           avg_ir=('ir%', 'mean'))\n",
    ")\n",
    "\n",
    "# Top 10 performers (well-responding)\n",
    "top_products = prod_perf.sort_values('avg_isu', ascending=False).head(10)\n",
    "\n",
    "# Bottom 10 performers (poor response)\n",
    "bottom_products = prod_perf.sort_values('avg_isu', ascending=True).head(10)\n",
    "\n",
    "print(\"Top 10 Products (Highest Sales Lift):\")\n",
    "print(top_products)\n",
    "\n",
    "print(\"\\nBottom 10 Products (Lowest/Negative Sales Lift):\")\n",
    "print(bottom_products)\n"
   ]
  },
  {
   "cell_type": "code",
   "execution_count": 89,
   "id": "ef1ebff3",
   "metadata": {},
   "outputs": [
    {
     "data": {
      "application/vnd.plotly.v1+json": {
       "config": {
        "plotlyServerURL": "https://plot.ly"
       },
       "data": [
        {
         "hovertemplate": "category=Home Appliances<br>product_name=%{x}<br>avg_isu=%{y}<extra></extra>",
         "legendgroup": "Home Appliances",
         "marker": {
          "color": "#636efa",
          "pattern": {
           "shape": ""
          }
         },
         "name": "Home Appliances",
         "orientation": "v",
         "showlegend": true,
         "textposition": "auto",
         "type": "bar",
         "x": [
          "Atliq_waterproof_Immersion_Rod",
          "Atliq_High_Glo_15W_LED_Bulb"
         ],
         "xaxis": "x",
         "y": {
          "bdata": "Vrl8QOkpcEBTag0KLhhwQA==",
          "dtype": "f8"
         },
         "yaxis": "y"
        },
        {
         "hovertemplate": "category=Home Care<br>product_name=%{x}<br>avg_isu=%{y}<extra></extra>",
         "legendgroup": "Home Care",
         "marker": {
          "color": "#EF553B",
          "pattern": {
           "shape": ""
          }
         },
         "name": "Home Care",
         "orientation": "v",
         "showlegend": true,
         "textposition": "auto",
         "type": "bar",
         "x": [
          "Atliq_Double_Bedsheet_set",
          "Atliq_Curtains"
         ],
         "xaxis": "x",
         "y": {
          "bdata": "2M2I5uclcECRqqVfgxJwQA==",
          "dtype": "f8"
         },
         "yaxis": "y"
        },
        {
         "hovertemplate": "category=Combo1<br>product_name=%{x}<br>avg_isu=%{y}<extra></extra>",
         "legendgroup": "Combo1",
         "marker": {
          "color": "#00cc96",
          "pattern": {
           "shape": ""
          }
         },
         "name": "Combo1",
         "orientation": "v",
         "showlegend": true,
         "textposition": "auto",
         "type": "bar",
         "x": [
          "Atliq_Home_Essential_8_Product_Combo"
         ],
         "xaxis": "x",
         "y": {
          "bdata": "KFbnVXhFZEA=",
          "dtype": "f8"
         },
         "yaxis": "y"
        },
        {
         "hovertemplate": "category=Grocery & Staples<br>product_name=%{x}<br>avg_isu=%{y}<extra></extra>",
         "legendgroup": "Grocery & Staples",
         "marker": {
          "color": "#ab63fa",
          "pattern": {
           "shape": ""
          }
         },
         "name": "Grocery & Staples",
         "orientation": "v",
         "showlegend": true,
         "textposition": "auto",
         "type": "bar",
         "x": [
          "Atliq_Suflower_Oil (1L)",
          "Atliq_Farm_Chakki_Atta (1KG)",
          "Atliq_Sonamasuri_Rice (10KG)",
          "Atliq_Masoor_Dal (1KG)"
         ],
         "xaxis": "x",
         "y": {
          "bdata": "xFK+XlxyYECW4z5DeVpgQH8yFIc/tUVAKjDCzfiORUA=",
          "dtype": "f8"
         },
         "yaxis": "y"
        },
        {
         "hovertemplate": "category=Personal Care<br>product_name=%{x}<br>avg_isu=%{y}<extra></extra>",
         "legendgroup": "Personal Care",
         "marker": {
          "color": "#FFA15A",
          "pattern": {
           "shape": ""
          }
         },
         "name": "Personal Care",
         "orientation": "v",
         "showlegend": true,
         "textposition": "auto",
         "type": "bar",
         "x": [
          "Atliq_Lime_Cool_Bathing_Bar (125GM)"
         ],
         "xaxis": "x",
         "y": {
          "bdata": "pvpvgGVaQUA=",
          "dtype": "f8"
         },
         "yaxis": "y"
        }
       ],
       "layout": {
        "barmode": "relative",
        "legend": {
         "title": {
          "text": "category"
         },
         "tracegroupgap": 0
        },
        "template": {
         "data": {
          "bar": [
           {
            "error_x": {
             "color": "#2a3f5f"
            },
            "error_y": {
             "color": "#2a3f5f"
            },
            "marker": {
             "line": {
              "color": "white",
              "width": 0.5
             },
             "pattern": {
              "fillmode": "overlay",
              "size": 10,
              "solidity": 0.2
             }
            },
            "type": "bar"
           }
          ],
          "barpolar": [
           {
            "marker": {
             "line": {
              "color": "white",
              "width": 0.5
             },
             "pattern": {
              "fillmode": "overlay",
              "size": 10,
              "solidity": 0.2
             }
            },
            "type": "barpolar"
           }
          ],
          "carpet": [
           {
            "aaxis": {
             "endlinecolor": "#2a3f5f",
             "gridcolor": "#C8D4E3",
             "linecolor": "#C8D4E3",
             "minorgridcolor": "#C8D4E3",
             "startlinecolor": "#2a3f5f"
            },
            "baxis": {
             "endlinecolor": "#2a3f5f",
             "gridcolor": "#C8D4E3",
             "linecolor": "#C8D4E3",
             "minorgridcolor": "#C8D4E3",
             "startlinecolor": "#2a3f5f"
            },
            "type": "carpet"
           }
          ],
          "choropleth": [
           {
            "colorbar": {
             "outlinewidth": 0,
             "ticks": ""
            },
            "type": "choropleth"
           }
          ],
          "contour": [
           {
            "colorbar": {
             "outlinewidth": 0,
             "ticks": ""
            },
            "colorscale": [
             [
              0,
              "#0d0887"
             ],
             [
              0.1111111111111111,
              "#46039f"
             ],
             [
              0.2222222222222222,
              "#7201a8"
             ],
             [
              0.3333333333333333,
              "#9c179e"
             ],
             [
              0.4444444444444444,
              "#bd3786"
             ],
             [
              0.5555555555555556,
              "#d8576b"
             ],
             [
              0.6666666666666666,
              "#ed7953"
             ],
             [
              0.7777777777777778,
              "#fb9f3a"
             ],
             [
              0.8888888888888888,
              "#fdca26"
             ],
             [
              1,
              "#f0f921"
             ]
            ],
            "type": "contour"
           }
          ],
          "contourcarpet": [
           {
            "colorbar": {
             "outlinewidth": 0,
             "ticks": ""
            },
            "type": "contourcarpet"
           }
          ],
          "heatmap": [
           {
            "colorbar": {
             "outlinewidth": 0,
             "ticks": ""
            },
            "colorscale": [
             [
              0,
              "#0d0887"
             ],
             [
              0.1111111111111111,
              "#46039f"
             ],
             [
              0.2222222222222222,
              "#7201a8"
             ],
             [
              0.3333333333333333,
              "#9c179e"
             ],
             [
              0.4444444444444444,
              "#bd3786"
             ],
             [
              0.5555555555555556,
              "#d8576b"
             ],
             [
              0.6666666666666666,
              "#ed7953"
             ],
             [
              0.7777777777777778,
              "#fb9f3a"
             ],
             [
              0.8888888888888888,
              "#fdca26"
             ],
             [
              1,
              "#f0f921"
             ]
            ],
            "type": "heatmap"
           }
          ],
          "histogram": [
           {
            "marker": {
             "pattern": {
              "fillmode": "overlay",
              "size": 10,
              "solidity": 0.2
             }
            },
            "type": "histogram"
           }
          ],
          "histogram2d": [
           {
            "colorbar": {
             "outlinewidth": 0,
             "ticks": ""
            },
            "colorscale": [
             [
              0,
              "#0d0887"
             ],
             [
              0.1111111111111111,
              "#46039f"
             ],
             [
              0.2222222222222222,
              "#7201a8"
             ],
             [
              0.3333333333333333,
              "#9c179e"
             ],
             [
              0.4444444444444444,
              "#bd3786"
             ],
             [
              0.5555555555555556,
              "#d8576b"
             ],
             [
              0.6666666666666666,
              "#ed7953"
             ],
             [
              0.7777777777777778,
              "#fb9f3a"
             ],
             [
              0.8888888888888888,
              "#fdca26"
             ],
             [
              1,
              "#f0f921"
             ]
            ],
            "type": "histogram2d"
           }
          ],
          "histogram2dcontour": [
           {
            "colorbar": {
             "outlinewidth": 0,
             "ticks": ""
            },
            "colorscale": [
             [
              0,
              "#0d0887"
             ],
             [
              0.1111111111111111,
              "#46039f"
             ],
             [
              0.2222222222222222,
              "#7201a8"
             ],
             [
              0.3333333333333333,
              "#9c179e"
             ],
             [
              0.4444444444444444,
              "#bd3786"
             ],
             [
              0.5555555555555556,
              "#d8576b"
             ],
             [
              0.6666666666666666,
              "#ed7953"
             ],
             [
              0.7777777777777778,
              "#fb9f3a"
             ],
             [
              0.8888888888888888,
              "#fdca26"
             ],
             [
              1,
              "#f0f921"
             ]
            ],
            "type": "histogram2dcontour"
           }
          ],
          "mesh3d": [
           {
            "colorbar": {
             "outlinewidth": 0,
             "ticks": ""
            },
            "type": "mesh3d"
           }
          ],
          "parcoords": [
           {
            "line": {
             "colorbar": {
              "outlinewidth": 0,
              "ticks": ""
             }
            },
            "type": "parcoords"
           }
          ],
          "pie": [
           {
            "automargin": true,
            "type": "pie"
           }
          ],
          "scatter": [
           {
            "fillpattern": {
             "fillmode": "overlay",
             "size": 10,
             "solidity": 0.2
            },
            "type": "scatter"
           }
          ],
          "scatter3d": [
           {
            "line": {
             "colorbar": {
              "outlinewidth": 0,
              "ticks": ""
             }
            },
            "marker": {
             "colorbar": {
              "outlinewidth": 0,
              "ticks": ""
             }
            },
            "type": "scatter3d"
           }
          ],
          "scattercarpet": [
           {
            "marker": {
             "colorbar": {
              "outlinewidth": 0,
              "ticks": ""
             }
            },
            "type": "scattercarpet"
           }
          ],
          "scattergeo": [
           {
            "marker": {
             "colorbar": {
              "outlinewidth": 0,
              "ticks": ""
             }
            },
            "type": "scattergeo"
           }
          ],
          "scattergl": [
           {
            "marker": {
             "colorbar": {
              "outlinewidth": 0,
              "ticks": ""
             }
            },
            "type": "scattergl"
           }
          ],
          "scattermap": [
           {
            "marker": {
             "colorbar": {
              "outlinewidth": 0,
              "ticks": ""
             }
            },
            "type": "scattermap"
           }
          ],
          "scattermapbox": [
           {
            "marker": {
             "colorbar": {
              "outlinewidth": 0,
              "ticks": ""
             }
            },
            "type": "scattermapbox"
           }
          ],
          "scatterpolar": [
           {
            "marker": {
             "colorbar": {
              "outlinewidth": 0,
              "ticks": ""
             }
            },
            "type": "scatterpolar"
           }
          ],
          "scatterpolargl": [
           {
            "marker": {
             "colorbar": {
              "outlinewidth": 0,
              "ticks": ""
             }
            },
            "type": "scatterpolargl"
           }
          ],
          "scatterternary": [
           {
            "marker": {
             "colorbar": {
              "outlinewidth": 0,
              "ticks": ""
             }
            },
            "type": "scatterternary"
           }
          ],
          "surface": [
           {
            "colorbar": {
             "outlinewidth": 0,
             "ticks": ""
            },
            "colorscale": [
             [
              0,
              "#0d0887"
             ],
             [
              0.1111111111111111,
              "#46039f"
             ],
             [
              0.2222222222222222,
              "#7201a8"
             ],
             [
              0.3333333333333333,
              "#9c179e"
             ],
             [
              0.4444444444444444,
              "#bd3786"
             ],
             [
              0.5555555555555556,
              "#d8576b"
             ],
             [
              0.6666666666666666,
              "#ed7953"
             ],
             [
              0.7777777777777778,
              "#fb9f3a"
             ],
             [
              0.8888888888888888,
              "#fdca26"
             ],
             [
              1,
              "#f0f921"
             ]
            ],
            "type": "surface"
           }
          ],
          "table": [
           {
            "cells": {
             "fill": {
              "color": "#EBF0F8"
             },
             "line": {
              "color": "white"
             }
            },
            "header": {
             "fill": {
              "color": "#C8D4E3"
             },
             "line": {
              "color": "white"
             }
            },
            "type": "table"
           }
          ]
         },
         "layout": {
          "annotationdefaults": {
           "arrowcolor": "#2a3f5f",
           "arrowhead": 0,
           "arrowwidth": 1
          },
          "autotypenumbers": "strict",
          "coloraxis": {
           "colorbar": {
            "outlinewidth": 0,
            "ticks": ""
           }
          },
          "colorscale": {
           "diverging": [
            [
             0,
             "#8e0152"
            ],
            [
             0.1,
             "#c51b7d"
            ],
            [
             0.2,
             "#de77ae"
            ],
            [
             0.3,
             "#f1b6da"
            ],
            [
             0.4,
             "#fde0ef"
            ],
            [
             0.5,
             "#f7f7f7"
            ],
            [
             0.6,
             "#e6f5d0"
            ],
            [
             0.7,
             "#b8e186"
            ],
            [
             0.8,
             "#7fbc41"
            ],
            [
             0.9,
             "#4d9221"
            ],
            [
             1,
             "#276419"
            ]
           ],
           "sequential": [
            [
             0,
             "#0d0887"
            ],
            [
             0.1111111111111111,
             "#46039f"
            ],
            [
             0.2222222222222222,
             "#7201a8"
            ],
            [
             0.3333333333333333,
             "#9c179e"
            ],
            [
             0.4444444444444444,
             "#bd3786"
            ],
            [
             0.5555555555555556,
             "#d8576b"
            ],
            [
             0.6666666666666666,
             "#ed7953"
            ],
            [
             0.7777777777777778,
             "#fb9f3a"
            ],
            [
             0.8888888888888888,
             "#fdca26"
            ],
            [
             1,
             "#f0f921"
            ]
           ],
           "sequentialminus": [
            [
             0,
             "#0d0887"
            ],
            [
             0.1111111111111111,
             "#46039f"
            ],
            [
             0.2222222222222222,
             "#7201a8"
            ],
            [
             0.3333333333333333,
             "#9c179e"
            ],
            [
             0.4444444444444444,
             "#bd3786"
            ],
            [
             0.5555555555555556,
             "#d8576b"
            ],
            [
             0.6666666666666666,
             "#ed7953"
            ],
            [
             0.7777777777777778,
             "#fb9f3a"
            ],
            [
             0.8888888888888888,
             "#fdca26"
            ],
            [
             1,
             "#f0f921"
            ]
           ]
          },
          "colorway": [
           "#636efa",
           "#EF553B",
           "#00cc96",
           "#ab63fa",
           "#FFA15A",
           "#19d3f3",
           "#FF6692",
           "#B6E880",
           "#FF97FF",
           "#FECB52"
          ],
          "font": {
           "color": "#2a3f5f"
          },
          "geo": {
           "bgcolor": "white",
           "lakecolor": "white",
           "landcolor": "white",
           "showlakes": true,
           "showland": true,
           "subunitcolor": "#C8D4E3"
          },
          "hoverlabel": {
           "align": "left"
          },
          "hovermode": "closest",
          "mapbox": {
           "style": "light"
          },
          "paper_bgcolor": "white",
          "plot_bgcolor": "white",
          "polar": {
           "angularaxis": {
            "gridcolor": "#EBF0F8",
            "linecolor": "#EBF0F8",
            "ticks": ""
           },
           "bgcolor": "white",
           "radialaxis": {
            "gridcolor": "#EBF0F8",
            "linecolor": "#EBF0F8",
            "ticks": ""
           }
          },
          "scene": {
           "xaxis": {
            "backgroundcolor": "white",
            "gridcolor": "#DFE8F3",
            "gridwidth": 2,
            "linecolor": "#EBF0F8",
            "showbackground": true,
            "ticks": "",
            "zerolinecolor": "#EBF0F8"
           },
           "yaxis": {
            "backgroundcolor": "white",
            "gridcolor": "#DFE8F3",
            "gridwidth": 2,
            "linecolor": "#EBF0F8",
            "showbackground": true,
            "ticks": "",
            "zerolinecolor": "#EBF0F8"
           },
           "zaxis": {
            "backgroundcolor": "white",
            "gridcolor": "#DFE8F3",
            "gridwidth": 2,
            "linecolor": "#EBF0F8",
            "showbackground": true,
            "ticks": "",
            "zerolinecolor": "#EBF0F8"
           }
          },
          "shapedefaults": {
           "line": {
            "color": "#2a3f5f"
           }
          },
          "ternary": {
           "aaxis": {
            "gridcolor": "#DFE8F3",
            "linecolor": "#A2B1C6",
            "ticks": ""
           },
           "baxis": {
            "gridcolor": "#DFE8F3",
            "linecolor": "#A2B1C6",
            "ticks": ""
           },
           "bgcolor": "white",
           "caxis": {
            "gridcolor": "#DFE8F3",
            "linecolor": "#A2B1C6",
            "ticks": ""
           }
          },
          "title": {
           "x": 0.05
          },
          "xaxis": {
           "automargin": true,
           "gridcolor": "#EBF0F8",
           "linecolor": "#EBF0F8",
           "ticks": "",
           "title": {
            "standoff": 15
           },
           "zerolinecolor": "#EBF0F8",
           "zerolinewidth": 2
          },
          "yaxis": {
           "automargin": true,
           "gridcolor": "#EBF0F8",
           "linecolor": "#EBF0F8",
           "ticks": "",
           "title": {
            "standoff": 15
           },
           "zerolinecolor": "#EBF0F8",
           "zerolinewidth": 2
          }
         }
        },
        "title": {
         "text": "Top 10 Products by Sales Lift (ISU%)"
        },
        "xaxis": {
         "anchor": "y",
         "domain": [
          0,
          1
         ],
         "title": {
          "text": "product_name"
         }
        },
        "yaxis": {
         "anchor": "x",
         "domain": [
          0,
          1
         ],
         "title": {
          "text": "avg_isu"
         }
        }
       }
      }
     },
     "metadata": {},
     "output_type": "display_data"
    }
   ],
   "source": [
    "\n",
    "fig = px.bar(\n",
    "    top_products,\n",
    "    x='product_name',\n",
    "    y='avg_isu',\n",
    "    color='category',\n",
    "    title='Top 10 Products by Sales Lift (ISU%)',\n",
    "    template='plotly_white'\n",
    ")\n",
    "fig.show()"
   ]
  },
  {
   "cell_type": "markdown",
   "id": "bb20d8f5",
   "metadata": {},
   "source": [
    "What is the correlation between product category and promotion type effectiveness?"
   ]
  },
  {
   "cell_type": "code",
   "execution_count": 90,
   "id": "150acf23",
   "metadata": {},
   "outputs": [
    {
     "name": "stdout",
     "output_type": "stream",
     "text": [
      "Promo-type Effectiveness by Category (Descending IR%):\n",
      "            category    promo_type    mean_ir    mean_isu\n",
      "3  Grocery & Staples         BOGOF  87.228826  274.457652\n",
      "4    Home Appliances         BOGOF  79.032672  258.065343\n",
      "6          Home Care         BOGOF  78.881547  257.763095\n",
      "2  Grocery & Staples       33% OFF  -4.011455   43.266485\n",
      "8      Personal Care       50% OFF -33.255387   33.489225\n",
      "1  Grocery & Staples       25% OFF -34.042430  -12.056574\n",
      "5          Home Care       25% OFF -36.748201  -15.664268\n",
      "7      Personal Care       25% OFF -38.664494  -18.219325\n",
      "0             Combo1  500 Cashback -56.304843  162.170939\n"
     ]
    }
   ],
   "source": [
    "# Create a pivot table showing mean IR% for each (category, promo_type)\n",
    "category_promo_corr = (\n",
    "    df.groupby(['category', 'promo_type'], as_index=False)\n",
    "      .agg(mean_ir=('ir%', 'mean'),\n",
    "           mean_isu=('isu%', 'mean'))\n",
    ")\n",
    "category_promo_summary = category_promo_corr.sort_values('mean_ir', ascending=False)\n",
    "print(\"Promo-type Effectiveness by Category (Descending IR%):\")\n",
    "print(category_promo_summary.head(20))"
   ]
  },
  {
   "cell_type": "code",
   "execution_count": 91,
   "id": "d8403dc4",
   "metadata": {},
   "outputs": [
    {
     "data": {
      "application/vnd.plotly.v1+json": {
       "config": {
        "plotlyServerURL": "https://plot.ly"
       },
       "data": [
        {
         "coloraxis": "coloraxis",
         "histfunc": "sum",
         "hovertemplate": "promo_type=%{x}<br>category=%{y}<br>sum of Avg Incremental Revenue (%)=%{z}<extra></extra>",
         "name": "",
         "type": "histogram2d",
         "x": [
          "500 Cashback",
          "25% OFF",
          "33% OFF",
          "BOGOF",
          "BOGOF",
          "25% OFF",
          "BOGOF",
          "25% OFF",
          "50% OFF"
         ],
         "xaxis": "x",
         "xbingroup": "x",
         "y": [
          "Combo1",
          "Grocery & Staples",
          "Grocery & Staples",
          "Grocery & Staples",
          "Home Appliances",
          "Home Care",
          "Home Care",
          "Personal Care",
          "Personal Care"
         ],
         "yaxis": "y",
         "ybingroup": "y",
         "z": {
          "bdata": "O3EQHAUnTMCsW+hZbgVBwJX3rPO6CxDAP6pKFaXOVUCpI4pKF8JTQGh8xArFX0LAaXguRmu4U0Bt38kjDlVDwMV2e4mwoEDA",
          "dtype": "f8"
         }
        }
       ],
       "layout": {
        "coloraxis": {
         "colorbar": {
          "title": {
           "text": "sum of Avg Incremental Revenue (%)"
          }
         },
         "colorscale": [
          [
           0,
           "#440154"
          ],
          [
           0.1111111111111111,
           "#482878"
          ],
          [
           0.2222222222222222,
           "#3e4989"
          ],
          [
           0.3333333333333333,
           "#31688e"
          ],
          [
           0.4444444444444444,
           "#26828e"
          ],
          [
           0.5555555555555556,
           "#1f9e89"
          ],
          [
           0.6666666666666666,
           "#35b779"
          ],
          [
           0.7777777777777778,
           "#6ece58"
          ],
          [
           0.8888888888888888,
           "#b5de2b"
          ],
          [
           1,
           "#fde725"
          ]
         ]
        },
        "legend": {
         "tracegroupgap": 0
        },
        "template": {
         "data": {
          "bar": [
           {
            "error_x": {
             "color": "#2a3f5f"
            },
            "error_y": {
             "color": "#2a3f5f"
            },
            "marker": {
             "line": {
              "color": "white",
              "width": 0.5
             },
             "pattern": {
              "fillmode": "overlay",
              "size": 10,
              "solidity": 0.2
             }
            },
            "type": "bar"
           }
          ],
          "barpolar": [
           {
            "marker": {
             "line": {
              "color": "white",
              "width": 0.5
             },
             "pattern": {
              "fillmode": "overlay",
              "size": 10,
              "solidity": 0.2
             }
            },
            "type": "barpolar"
           }
          ],
          "carpet": [
           {
            "aaxis": {
             "endlinecolor": "#2a3f5f",
             "gridcolor": "#C8D4E3",
             "linecolor": "#C8D4E3",
             "minorgridcolor": "#C8D4E3",
             "startlinecolor": "#2a3f5f"
            },
            "baxis": {
             "endlinecolor": "#2a3f5f",
             "gridcolor": "#C8D4E3",
             "linecolor": "#C8D4E3",
             "minorgridcolor": "#C8D4E3",
             "startlinecolor": "#2a3f5f"
            },
            "type": "carpet"
           }
          ],
          "choropleth": [
           {
            "colorbar": {
             "outlinewidth": 0,
             "ticks": ""
            },
            "type": "choropleth"
           }
          ],
          "contour": [
           {
            "colorbar": {
             "outlinewidth": 0,
             "ticks": ""
            },
            "colorscale": [
             [
              0,
              "#0d0887"
             ],
             [
              0.1111111111111111,
              "#46039f"
             ],
             [
              0.2222222222222222,
              "#7201a8"
             ],
             [
              0.3333333333333333,
              "#9c179e"
             ],
             [
              0.4444444444444444,
              "#bd3786"
             ],
             [
              0.5555555555555556,
              "#d8576b"
             ],
             [
              0.6666666666666666,
              "#ed7953"
             ],
             [
              0.7777777777777778,
              "#fb9f3a"
             ],
             [
              0.8888888888888888,
              "#fdca26"
             ],
             [
              1,
              "#f0f921"
             ]
            ],
            "type": "contour"
           }
          ],
          "contourcarpet": [
           {
            "colorbar": {
             "outlinewidth": 0,
             "ticks": ""
            },
            "type": "contourcarpet"
           }
          ],
          "heatmap": [
           {
            "colorbar": {
             "outlinewidth": 0,
             "ticks": ""
            },
            "colorscale": [
             [
              0,
              "#0d0887"
             ],
             [
              0.1111111111111111,
              "#46039f"
             ],
             [
              0.2222222222222222,
              "#7201a8"
             ],
             [
              0.3333333333333333,
              "#9c179e"
             ],
             [
              0.4444444444444444,
              "#bd3786"
             ],
             [
              0.5555555555555556,
              "#d8576b"
             ],
             [
              0.6666666666666666,
              "#ed7953"
             ],
             [
              0.7777777777777778,
              "#fb9f3a"
             ],
             [
              0.8888888888888888,
              "#fdca26"
             ],
             [
              1,
              "#f0f921"
             ]
            ],
            "type": "heatmap"
           }
          ],
          "histogram": [
           {
            "marker": {
             "pattern": {
              "fillmode": "overlay",
              "size": 10,
              "solidity": 0.2
             }
            },
            "type": "histogram"
           }
          ],
          "histogram2d": [
           {
            "colorbar": {
             "outlinewidth": 0,
             "ticks": ""
            },
            "colorscale": [
             [
              0,
              "#0d0887"
             ],
             [
              0.1111111111111111,
              "#46039f"
             ],
             [
              0.2222222222222222,
              "#7201a8"
             ],
             [
              0.3333333333333333,
              "#9c179e"
             ],
             [
              0.4444444444444444,
              "#bd3786"
             ],
             [
              0.5555555555555556,
              "#d8576b"
             ],
             [
              0.6666666666666666,
              "#ed7953"
             ],
             [
              0.7777777777777778,
              "#fb9f3a"
             ],
             [
              0.8888888888888888,
              "#fdca26"
             ],
             [
              1,
              "#f0f921"
             ]
            ],
            "type": "histogram2d"
           }
          ],
          "histogram2dcontour": [
           {
            "colorbar": {
             "outlinewidth": 0,
             "ticks": ""
            },
            "colorscale": [
             [
              0,
              "#0d0887"
             ],
             [
              0.1111111111111111,
              "#46039f"
             ],
             [
              0.2222222222222222,
              "#7201a8"
             ],
             [
              0.3333333333333333,
              "#9c179e"
             ],
             [
              0.4444444444444444,
              "#bd3786"
             ],
             [
              0.5555555555555556,
              "#d8576b"
             ],
             [
              0.6666666666666666,
              "#ed7953"
             ],
             [
              0.7777777777777778,
              "#fb9f3a"
             ],
             [
              0.8888888888888888,
              "#fdca26"
             ],
             [
              1,
              "#f0f921"
             ]
            ],
            "type": "histogram2dcontour"
           }
          ],
          "mesh3d": [
           {
            "colorbar": {
             "outlinewidth": 0,
             "ticks": ""
            },
            "type": "mesh3d"
           }
          ],
          "parcoords": [
           {
            "line": {
             "colorbar": {
              "outlinewidth": 0,
              "ticks": ""
             }
            },
            "type": "parcoords"
           }
          ],
          "pie": [
           {
            "automargin": true,
            "type": "pie"
           }
          ],
          "scatter": [
           {
            "fillpattern": {
             "fillmode": "overlay",
             "size": 10,
             "solidity": 0.2
            },
            "type": "scatter"
           }
          ],
          "scatter3d": [
           {
            "line": {
             "colorbar": {
              "outlinewidth": 0,
              "ticks": ""
             }
            },
            "marker": {
             "colorbar": {
              "outlinewidth": 0,
              "ticks": ""
             }
            },
            "type": "scatter3d"
           }
          ],
          "scattercarpet": [
           {
            "marker": {
             "colorbar": {
              "outlinewidth": 0,
              "ticks": ""
             }
            },
            "type": "scattercarpet"
           }
          ],
          "scattergeo": [
           {
            "marker": {
             "colorbar": {
              "outlinewidth": 0,
              "ticks": ""
             }
            },
            "type": "scattergeo"
           }
          ],
          "scattergl": [
           {
            "marker": {
             "colorbar": {
              "outlinewidth": 0,
              "ticks": ""
             }
            },
            "type": "scattergl"
           }
          ],
          "scattermap": [
           {
            "marker": {
             "colorbar": {
              "outlinewidth": 0,
              "ticks": ""
             }
            },
            "type": "scattermap"
           }
          ],
          "scattermapbox": [
           {
            "marker": {
             "colorbar": {
              "outlinewidth": 0,
              "ticks": ""
             }
            },
            "type": "scattermapbox"
           }
          ],
          "scatterpolar": [
           {
            "marker": {
             "colorbar": {
              "outlinewidth": 0,
              "ticks": ""
             }
            },
            "type": "scatterpolar"
           }
          ],
          "scatterpolargl": [
           {
            "marker": {
             "colorbar": {
              "outlinewidth": 0,
              "ticks": ""
             }
            },
            "type": "scatterpolargl"
           }
          ],
          "scatterternary": [
           {
            "marker": {
             "colorbar": {
              "outlinewidth": 0,
              "ticks": ""
             }
            },
            "type": "scatterternary"
           }
          ],
          "surface": [
           {
            "colorbar": {
             "outlinewidth": 0,
             "ticks": ""
            },
            "colorscale": [
             [
              0,
              "#0d0887"
             ],
             [
              0.1111111111111111,
              "#46039f"
             ],
             [
              0.2222222222222222,
              "#7201a8"
             ],
             [
              0.3333333333333333,
              "#9c179e"
             ],
             [
              0.4444444444444444,
              "#bd3786"
             ],
             [
              0.5555555555555556,
              "#d8576b"
             ],
             [
              0.6666666666666666,
              "#ed7953"
             ],
             [
              0.7777777777777778,
              "#fb9f3a"
             ],
             [
              0.8888888888888888,
              "#fdca26"
             ],
             [
              1,
              "#f0f921"
             ]
            ],
            "type": "surface"
           }
          ],
          "table": [
           {
            "cells": {
             "fill": {
              "color": "#EBF0F8"
             },
             "line": {
              "color": "white"
             }
            },
            "header": {
             "fill": {
              "color": "#C8D4E3"
             },
             "line": {
              "color": "white"
             }
            },
            "type": "table"
           }
          ]
         },
         "layout": {
          "annotationdefaults": {
           "arrowcolor": "#2a3f5f",
           "arrowhead": 0,
           "arrowwidth": 1
          },
          "autotypenumbers": "strict",
          "coloraxis": {
           "colorbar": {
            "outlinewidth": 0,
            "ticks": ""
           }
          },
          "colorscale": {
           "diverging": [
            [
             0,
             "#8e0152"
            ],
            [
             0.1,
             "#c51b7d"
            ],
            [
             0.2,
             "#de77ae"
            ],
            [
             0.3,
             "#f1b6da"
            ],
            [
             0.4,
             "#fde0ef"
            ],
            [
             0.5,
             "#f7f7f7"
            ],
            [
             0.6,
             "#e6f5d0"
            ],
            [
             0.7,
             "#b8e186"
            ],
            [
             0.8,
             "#7fbc41"
            ],
            [
             0.9,
             "#4d9221"
            ],
            [
             1,
             "#276419"
            ]
           ],
           "sequential": [
            [
             0,
             "#0d0887"
            ],
            [
             0.1111111111111111,
             "#46039f"
            ],
            [
             0.2222222222222222,
             "#7201a8"
            ],
            [
             0.3333333333333333,
             "#9c179e"
            ],
            [
             0.4444444444444444,
             "#bd3786"
            ],
            [
             0.5555555555555556,
             "#d8576b"
            ],
            [
             0.6666666666666666,
             "#ed7953"
            ],
            [
             0.7777777777777778,
             "#fb9f3a"
            ],
            [
             0.8888888888888888,
             "#fdca26"
            ],
            [
             1,
             "#f0f921"
            ]
           ],
           "sequentialminus": [
            [
             0,
             "#0d0887"
            ],
            [
             0.1111111111111111,
             "#46039f"
            ],
            [
             0.2222222222222222,
             "#7201a8"
            ],
            [
             0.3333333333333333,
             "#9c179e"
            ],
            [
             0.4444444444444444,
             "#bd3786"
            ],
            [
             0.5555555555555556,
             "#d8576b"
            ],
            [
             0.6666666666666666,
             "#ed7953"
            ],
            [
             0.7777777777777778,
             "#fb9f3a"
            ],
            [
             0.8888888888888888,
             "#fdca26"
            ],
            [
             1,
             "#f0f921"
            ]
           ]
          },
          "colorway": [
           "#636efa",
           "#EF553B",
           "#00cc96",
           "#ab63fa",
           "#FFA15A",
           "#19d3f3",
           "#FF6692",
           "#B6E880",
           "#FF97FF",
           "#FECB52"
          ],
          "font": {
           "color": "#2a3f5f"
          },
          "geo": {
           "bgcolor": "white",
           "lakecolor": "white",
           "landcolor": "white",
           "showlakes": true,
           "showland": true,
           "subunitcolor": "#C8D4E3"
          },
          "hoverlabel": {
           "align": "left"
          },
          "hovermode": "closest",
          "mapbox": {
           "style": "light"
          },
          "paper_bgcolor": "white",
          "plot_bgcolor": "white",
          "polar": {
           "angularaxis": {
            "gridcolor": "#EBF0F8",
            "linecolor": "#EBF0F8",
            "ticks": ""
           },
           "bgcolor": "white",
           "radialaxis": {
            "gridcolor": "#EBF0F8",
            "linecolor": "#EBF0F8",
            "ticks": ""
           }
          },
          "scene": {
           "xaxis": {
            "backgroundcolor": "white",
            "gridcolor": "#DFE8F3",
            "gridwidth": 2,
            "linecolor": "#EBF0F8",
            "showbackground": true,
            "ticks": "",
            "zerolinecolor": "#EBF0F8"
           },
           "yaxis": {
            "backgroundcolor": "white",
            "gridcolor": "#DFE8F3",
            "gridwidth": 2,
            "linecolor": "#EBF0F8",
            "showbackground": true,
            "ticks": "",
            "zerolinecolor": "#EBF0F8"
           },
           "zaxis": {
            "backgroundcolor": "white",
            "gridcolor": "#DFE8F3",
            "gridwidth": 2,
            "linecolor": "#EBF0F8",
            "showbackground": true,
            "ticks": "",
            "zerolinecolor": "#EBF0F8"
           }
          },
          "shapedefaults": {
           "line": {
            "color": "#2a3f5f"
           }
          },
          "ternary": {
           "aaxis": {
            "gridcolor": "#DFE8F3",
            "linecolor": "#A2B1C6",
            "ticks": ""
           },
           "baxis": {
            "gridcolor": "#DFE8F3",
            "linecolor": "#A2B1C6",
            "ticks": ""
           },
           "bgcolor": "white",
           "caxis": {
            "gridcolor": "#DFE8F3",
            "linecolor": "#A2B1C6",
            "ticks": ""
           }
          },
          "title": {
           "x": 0.05
          },
          "xaxis": {
           "automargin": true,
           "gridcolor": "#EBF0F8",
           "linecolor": "#EBF0F8",
           "ticks": "",
           "title": {
            "standoff": 15
           },
           "zerolinecolor": "#EBF0F8",
           "zerolinewidth": 2
          },
          "yaxis": {
           "automargin": true,
           "gridcolor": "#EBF0F8",
           "linecolor": "#EBF0F8",
           "ticks": "",
           "title": {
            "standoff": 15
           },
           "zerolinecolor": "#EBF0F8",
           "zerolinewidth": 2
          }
         }
        },
        "title": {
         "text": "Promotion Type Effectiveness by Category (Avg IR%)"
        },
        "xaxis": {
         "anchor": "y",
         "domain": [
          0,
          1
         ],
         "title": {
          "text": "promo_type"
         }
        },
        "yaxis": {
         "anchor": "x",
         "domain": [
          0,
          1
         ],
         "title": {
          "text": "category"
         }
        }
       }
      }
     },
     "metadata": {},
     "output_type": "display_data"
    }
   ],
   "source": [
    "# Visualization: Heatmap (Promotion Effectiveness by Category)\n",
    "fig = px.density_heatmap(\n",
    "    category_promo_corr,\n",
    "    x='promo_type',\n",
    "    y='category',\n",
    "    z='mean_ir',\n",
    "    color_continuous_scale='Viridis',\n",
    "    title='Promotion Type Effectiveness by Category (Avg IR%)',\n",
    "    labels={'mean_ir': 'Avg Incremental Revenue (%)'},\n",
    "    template='plotly_white'\n",
    ")\n",
    "fig.show()"
   ]
  },
  {
   "cell_type": "markdown",
   "id": "9ecd166a",
   "metadata": {},
   "source": [
    "Category-level margin impact — For categories that show large ISU but low incremental margin, flag them as volume-at-cost risks.\n",
    "Why: Protects gross margin."
   ]
  },
  {
   "cell_type": "code",
   "execution_count": 92,
   "id": "371e31b2",
   "metadata": {},
   "outputs": [
    {
     "name": "stdout",
     "output_type": "stream",
     "text": [
      "=== Category-Level Margin Impact ===\n",
      "            category     avg_isu  incremental_margin               risk_flag\n",
      "0             Combo1  162.170939          -52.778151  ⚠️ Volume-at-cost risk\n",
      "1  Grocery & Staples   87.233512            9.613908               ✅ Healthy\n",
      "2    Home Appliances  258.065343           82.606234               ✅ Healthy\n",
      "3          Home Care  121.049414           46.828760               ✅ Healthy\n",
      "4      Personal Care   20.562087          -34.199680  ⚠️ Volume-at-cost risk\n"
     ]
    }
   ],
   "source": [
    "# Compute category-level metrics\n",
    "category_margin = (\n",
    "    df.groupby('category', as_index=False)\n",
    "      .agg(\n",
    "          avg_isu=('isu%', 'mean'),\n",
    "          avg_ir=('ir%', 'mean'),\n",
    "          total_revenue_before=('revenue_before_promo', 'sum'),\n",
    "          total_revenue_after=('revenue_after_promo', 'sum')\n",
    "      )\n",
    ")\n",
    "\n",
    "# Compute incremental margin (IR%)\n",
    "category_margin['incremental_margin'] = (\n",
    "    (category_margin['total_revenue_after'] - category_margin['total_revenue_before']) /\n",
    "    category_margin['total_revenue_before'].replace(0, pd.NA)\n",
    ") * 100\n",
    "\n",
    "# Flag risk categories\n",
    "category_margin['risk_flag'] = category_margin.apply(\n",
    "    lambda x: '⚠️ Volume-at-cost risk'\n",
    "    if x['avg_isu'] > 0 and x['incremental_margin'] < 0 else '✅ Healthy',\n",
    "    axis=1\n",
    ")\n",
    "\n",
    "print(\"=== Category-Level Margin Impact ===\")\n",
    "print(category_margin[['category', 'avg_isu', 'incremental_margin', 'risk_flag']])\n"
   ]
  },
  {
   "cell_type": "code",
   "execution_count": 93,
   "id": "1ef85faa",
   "metadata": {},
   "outputs": [
    {
     "data": {
      "application/vnd.plotly.v1+json": {
       "config": {
        "plotlyServerURL": "https://plot.ly"
       },
       "data": [
        {
         "customdata": [
          [
           "Combo1"
          ],
          [
           "Personal Care"
          ]
         ],
         "hovertemplate": "risk_flag=⚠️ Volume-at-cost risk<br>Avg ISU (%)=%{x}<br>Incremental Margin (%)=%{y}<br>category=%{customdata[0]}<extra></extra>",
         "legendgroup": "⚠️ Volume-at-cost risk",
         "marker": {
          "color": "#636efa",
          "symbol": "circle"
         },
         "mode": "markers",
         "name": "⚠️ Volume-at-cost risk",
         "orientation": "v",
         "showlegend": true,
         "type": "scatter",
         "x": {
          "bdata": "KFbnVXhFZEATXFz25I80QA==",
          "dtype": "f8"
         },
         "xaxis": "x",
         "y": {
          "bdata": "fyvJd5pjSsCQM5IZjxlBwA==",
          "dtype": "f8"
         },
         "yaxis": "y"
        },
        {
         "customdata": [
          [
           "Grocery & Staples"
          ],
          [
           "Home Appliances"
          ],
          [
           "Home Care"
          ]
         ],
         "hovertemplate": "risk_flag=✅ Healthy<br>Avg ISU (%)=%{x}<br>Incremental Margin (%)=%{y}<br>category=%{customdata[0]}<extra></extra>",
         "legendgroup": "✅ Healthy",
         "marker": {
          "color": "#EF553B",
          "symbol": "circle"
         },
         "mode": "markers",
         "name": "✅ Healthy",
         "orientation": "v",
         "showlegend": true,
         "type": "scatter",
         "x": {
          "bdata": "g2eZ2/HOVUDUEUWlCyFwQJv57JcpQ15A",
          "dtype": "f8"
         },
         "xaxis": "x",
         "y": {
          "bdata": "vr+EIlI6I0CNHQ2IzKZUQHMg384UakdA",
          "dtype": "f8"
         },
         "yaxis": "y"
        }
       ],
       "layout": {
        "legend": {
         "title": {
          "text": "risk_flag"
         },
         "tracegroupgap": 0
        },
        "shapes": [
         {
          "line": {
           "color": "red",
           "dash": "dash"
          },
          "type": "line",
          "x0": 0,
          "x1": 1,
          "xref": "x domain",
          "y0": 0,
          "y1": 0,
          "yref": "y"
         },
         {
          "line": {
           "color": "gray",
           "dash": "dash"
          },
          "type": "line",
          "x0": 0,
          "x1": 0,
          "xref": "x",
          "y0": 0,
          "y1": 1,
          "yref": "y domain"
         }
        ],
        "template": {
         "data": {
          "bar": [
           {
            "error_x": {
             "color": "#2a3f5f"
            },
            "error_y": {
             "color": "#2a3f5f"
            },
            "marker": {
             "line": {
              "color": "white",
              "width": 0.5
             },
             "pattern": {
              "fillmode": "overlay",
              "size": 10,
              "solidity": 0.2
             }
            },
            "type": "bar"
           }
          ],
          "barpolar": [
           {
            "marker": {
             "line": {
              "color": "white",
              "width": 0.5
             },
             "pattern": {
              "fillmode": "overlay",
              "size": 10,
              "solidity": 0.2
             }
            },
            "type": "barpolar"
           }
          ],
          "carpet": [
           {
            "aaxis": {
             "endlinecolor": "#2a3f5f",
             "gridcolor": "#C8D4E3",
             "linecolor": "#C8D4E3",
             "minorgridcolor": "#C8D4E3",
             "startlinecolor": "#2a3f5f"
            },
            "baxis": {
             "endlinecolor": "#2a3f5f",
             "gridcolor": "#C8D4E3",
             "linecolor": "#C8D4E3",
             "minorgridcolor": "#C8D4E3",
             "startlinecolor": "#2a3f5f"
            },
            "type": "carpet"
           }
          ],
          "choropleth": [
           {
            "colorbar": {
             "outlinewidth": 0,
             "ticks": ""
            },
            "type": "choropleth"
           }
          ],
          "contour": [
           {
            "colorbar": {
             "outlinewidth": 0,
             "ticks": ""
            },
            "colorscale": [
             [
              0,
              "#0d0887"
             ],
             [
              0.1111111111111111,
              "#46039f"
             ],
             [
              0.2222222222222222,
              "#7201a8"
             ],
             [
              0.3333333333333333,
              "#9c179e"
             ],
             [
              0.4444444444444444,
              "#bd3786"
             ],
             [
              0.5555555555555556,
              "#d8576b"
             ],
             [
              0.6666666666666666,
              "#ed7953"
             ],
             [
              0.7777777777777778,
              "#fb9f3a"
             ],
             [
              0.8888888888888888,
              "#fdca26"
             ],
             [
              1,
              "#f0f921"
             ]
            ],
            "type": "contour"
           }
          ],
          "contourcarpet": [
           {
            "colorbar": {
             "outlinewidth": 0,
             "ticks": ""
            },
            "type": "contourcarpet"
           }
          ],
          "heatmap": [
           {
            "colorbar": {
             "outlinewidth": 0,
             "ticks": ""
            },
            "colorscale": [
             [
              0,
              "#0d0887"
             ],
             [
              0.1111111111111111,
              "#46039f"
             ],
             [
              0.2222222222222222,
              "#7201a8"
             ],
             [
              0.3333333333333333,
              "#9c179e"
             ],
             [
              0.4444444444444444,
              "#bd3786"
             ],
             [
              0.5555555555555556,
              "#d8576b"
             ],
             [
              0.6666666666666666,
              "#ed7953"
             ],
             [
              0.7777777777777778,
              "#fb9f3a"
             ],
             [
              0.8888888888888888,
              "#fdca26"
             ],
             [
              1,
              "#f0f921"
             ]
            ],
            "type": "heatmap"
           }
          ],
          "histogram": [
           {
            "marker": {
             "pattern": {
              "fillmode": "overlay",
              "size": 10,
              "solidity": 0.2
             }
            },
            "type": "histogram"
           }
          ],
          "histogram2d": [
           {
            "colorbar": {
             "outlinewidth": 0,
             "ticks": ""
            },
            "colorscale": [
             [
              0,
              "#0d0887"
             ],
             [
              0.1111111111111111,
              "#46039f"
             ],
             [
              0.2222222222222222,
              "#7201a8"
             ],
             [
              0.3333333333333333,
              "#9c179e"
             ],
             [
              0.4444444444444444,
              "#bd3786"
             ],
             [
              0.5555555555555556,
              "#d8576b"
             ],
             [
              0.6666666666666666,
              "#ed7953"
             ],
             [
              0.7777777777777778,
              "#fb9f3a"
             ],
             [
              0.8888888888888888,
              "#fdca26"
             ],
             [
              1,
              "#f0f921"
             ]
            ],
            "type": "histogram2d"
           }
          ],
          "histogram2dcontour": [
           {
            "colorbar": {
             "outlinewidth": 0,
             "ticks": ""
            },
            "colorscale": [
             [
              0,
              "#0d0887"
             ],
             [
              0.1111111111111111,
              "#46039f"
             ],
             [
              0.2222222222222222,
              "#7201a8"
             ],
             [
              0.3333333333333333,
              "#9c179e"
             ],
             [
              0.4444444444444444,
              "#bd3786"
             ],
             [
              0.5555555555555556,
              "#d8576b"
             ],
             [
              0.6666666666666666,
              "#ed7953"
             ],
             [
              0.7777777777777778,
              "#fb9f3a"
             ],
             [
              0.8888888888888888,
              "#fdca26"
             ],
             [
              1,
              "#f0f921"
             ]
            ],
            "type": "histogram2dcontour"
           }
          ],
          "mesh3d": [
           {
            "colorbar": {
             "outlinewidth": 0,
             "ticks": ""
            },
            "type": "mesh3d"
           }
          ],
          "parcoords": [
           {
            "line": {
             "colorbar": {
              "outlinewidth": 0,
              "ticks": ""
             }
            },
            "type": "parcoords"
           }
          ],
          "pie": [
           {
            "automargin": true,
            "type": "pie"
           }
          ],
          "scatter": [
           {
            "fillpattern": {
             "fillmode": "overlay",
             "size": 10,
             "solidity": 0.2
            },
            "type": "scatter"
           }
          ],
          "scatter3d": [
           {
            "line": {
             "colorbar": {
              "outlinewidth": 0,
              "ticks": ""
             }
            },
            "marker": {
             "colorbar": {
              "outlinewidth": 0,
              "ticks": ""
             }
            },
            "type": "scatter3d"
           }
          ],
          "scattercarpet": [
           {
            "marker": {
             "colorbar": {
              "outlinewidth": 0,
              "ticks": ""
             }
            },
            "type": "scattercarpet"
           }
          ],
          "scattergeo": [
           {
            "marker": {
             "colorbar": {
              "outlinewidth": 0,
              "ticks": ""
             }
            },
            "type": "scattergeo"
           }
          ],
          "scattergl": [
           {
            "marker": {
             "colorbar": {
              "outlinewidth": 0,
              "ticks": ""
             }
            },
            "type": "scattergl"
           }
          ],
          "scattermap": [
           {
            "marker": {
             "colorbar": {
              "outlinewidth": 0,
              "ticks": ""
             }
            },
            "type": "scattermap"
           }
          ],
          "scattermapbox": [
           {
            "marker": {
             "colorbar": {
              "outlinewidth": 0,
              "ticks": ""
             }
            },
            "type": "scattermapbox"
           }
          ],
          "scatterpolar": [
           {
            "marker": {
             "colorbar": {
              "outlinewidth": 0,
              "ticks": ""
             }
            },
            "type": "scatterpolar"
           }
          ],
          "scatterpolargl": [
           {
            "marker": {
             "colorbar": {
              "outlinewidth": 0,
              "ticks": ""
             }
            },
            "type": "scatterpolargl"
           }
          ],
          "scatterternary": [
           {
            "marker": {
             "colorbar": {
              "outlinewidth": 0,
              "ticks": ""
             }
            },
            "type": "scatterternary"
           }
          ],
          "surface": [
           {
            "colorbar": {
             "outlinewidth": 0,
             "ticks": ""
            },
            "colorscale": [
             [
              0,
              "#0d0887"
             ],
             [
              0.1111111111111111,
              "#46039f"
             ],
             [
              0.2222222222222222,
              "#7201a8"
             ],
             [
              0.3333333333333333,
              "#9c179e"
             ],
             [
              0.4444444444444444,
              "#bd3786"
             ],
             [
              0.5555555555555556,
              "#d8576b"
             ],
             [
              0.6666666666666666,
              "#ed7953"
             ],
             [
              0.7777777777777778,
              "#fb9f3a"
             ],
             [
              0.8888888888888888,
              "#fdca26"
             ],
             [
              1,
              "#f0f921"
             ]
            ],
            "type": "surface"
           }
          ],
          "table": [
           {
            "cells": {
             "fill": {
              "color": "#EBF0F8"
             },
             "line": {
              "color": "white"
             }
            },
            "header": {
             "fill": {
              "color": "#C8D4E3"
             },
             "line": {
              "color": "white"
             }
            },
            "type": "table"
           }
          ]
         },
         "layout": {
          "annotationdefaults": {
           "arrowcolor": "#2a3f5f",
           "arrowhead": 0,
           "arrowwidth": 1
          },
          "autotypenumbers": "strict",
          "coloraxis": {
           "colorbar": {
            "outlinewidth": 0,
            "ticks": ""
           }
          },
          "colorscale": {
           "diverging": [
            [
             0,
             "#8e0152"
            ],
            [
             0.1,
             "#c51b7d"
            ],
            [
             0.2,
             "#de77ae"
            ],
            [
             0.3,
             "#f1b6da"
            ],
            [
             0.4,
             "#fde0ef"
            ],
            [
             0.5,
             "#f7f7f7"
            ],
            [
             0.6,
             "#e6f5d0"
            ],
            [
             0.7,
             "#b8e186"
            ],
            [
             0.8,
             "#7fbc41"
            ],
            [
             0.9,
             "#4d9221"
            ],
            [
             1,
             "#276419"
            ]
           ],
           "sequential": [
            [
             0,
             "#0d0887"
            ],
            [
             0.1111111111111111,
             "#46039f"
            ],
            [
             0.2222222222222222,
             "#7201a8"
            ],
            [
             0.3333333333333333,
             "#9c179e"
            ],
            [
             0.4444444444444444,
             "#bd3786"
            ],
            [
             0.5555555555555556,
             "#d8576b"
            ],
            [
             0.6666666666666666,
             "#ed7953"
            ],
            [
             0.7777777777777778,
             "#fb9f3a"
            ],
            [
             0.8888888888888888,
             "#fdca26"
            ],
            [
             1,
             "#f0f921"
            ]
           ],
           "sequentialminus": [
            [
             0,
             "#0d0887"
            ],
            [
             0.1111111111111111,
             "#46039f"
            ],
            [
             0.2222222222222222,
             "#7201a8"
            ],
            [
             0.3333333333333333,
             "#9c179e"
            ],
            [
             0.4444444444444444,
             "#bd3786"
            ],
            [
             0.5555555555555556,
             "#d8576b"
            ],
            [
             0.6666666666666666,
             "#ed7953"
            ],
            [
             0.7777777777777778,
             "#fb9f3a"
            ],
            [
             0.8888888888888888,
             "#fdca26"
            ],
            [
             1,
             "#f0f921"
            ]
           ]
          },
          "colorway": [
           "#636efa",
           "#EF553B",
           "#00cc96",
           "#ab63fa",
           "#FFA15A",
           "#19d3f3",
           "#FF6692",
           "#B6E880",
           "#FF97FF",
           "#FECB52"
          ],
          "font": {
           "color": "#2a3f5f"
          },
          "geo": {
           "bgcolor": "white",
           "lakecolor": "white",
           "landcolor": "white",
           "showlakes": true,
           "showland": true,
           "subunitcolor": "#C8D4E3"
          },
          "hoverlabel": {
           "align": "left"
          },
          "hovermode": "closest",
          "mapbox": {
           "style": "light"
          },
          "paper_bgcolor": "white",
          "plot_bgcolor": "white",
          "polar": {
           "angularaxis": {
            "gridcolor": "#EBF0F8",
            "linecolor": "#EBF0F8",
            "ticks": ""
           },
           "bgcolor": "white",
           "radialaxis": {
            "gridcolor": "#EBF0F8",
            "linecolor": "#EBF0F8",
            "ticks": ""
           }
          },
          "scene": {
           "xaxis": {
            "backgroundcolor": "white",
            "gridcolor": "#DFE8F3",
            "gridwidth": 2,
            "linecolor": "#EBF0F8",
            "showbackground": true,
            "ticks": "",
            "zerolinecolor": "#EBF0F8"
           },
           "yaxis": {
            "backgroundcolor": "white",
            "gridcolor": "#DFE8F3",
            "gridwidth": 2,
            "linecolor": "#EBF0F8",
            "showbackground": true,
            "ticks": "",
            "zerolinecolor": "#EBF0F8"
           },
           "zaxis": {
            "backgroundcolor": "white",
            "gridcolor": "#DFE8F3",
            "gridwidth": 2,
            "linecolor": "#EBF0F8",
            "showbackground": true,
            "ticks": "",
            "zerolinecolor": "#EBF0F8"
           }
          },
          "shapedefaults": {
           "line": {
            "color": "#2a3f5f"
           }
          },
          "ternary": {
           "aaxis": {
            "gridcolor": "#DFE8F3",
            "linecolor": "#A2B1C6",
            "ticks": ""
           },
           "baxis": {
            "gridcolor": "#DFE8F3",
            "linecolor": "#A2B1C6",
            "ticks": ""
           },
           "bgcolor": "white",
           "caxis": {
            "gridcolor": "#DFE8F3",
            "linecolor": "#A2B1C6",
            "ticks": ""
           }
          },
          "title": {
           "x": 0.05
          },
          "xaxis": {
           "automargin": true,
           "gridcolor": "#EBF0F8",
           "linecolor": "#EBF0F8",
           "ticks": "",
           "title": {
            "standoff": 15
           },
           "zerolinecolor": "#EBF0F8",
           "zerolinewidth": 2
          },
          "yaxis": {
           "automargin": true,
           "gridcolor": "#EBF0F8",
           "linecolor": "#EBF0F8",
           "ticks": "",
           "title": {
            "standoff": 15
           },
           "zerolinecolor": "#EBF0F8",
           "zerolinewidth": 2
          }
         }
        },
        "title": {
         "text": "Category-Level Margin vs ISU (Volume-at-Cost Risk)"
        },
        "xaxis": {
         "anchor": "y",
         "domain": [
          0,
          1
         ],
         "title": {
          "text": "Avg ISU (%)"
         }
        },
        "yaxis": {
         "anchor": "x",
         "domain": [
          0,
          1
         ],
         "title": {
          "text": "Incremental Margin (%)"
         }
        }
       }
      }
     },
     "metadata": {},
     "output_type": "display_data"
    }
   ],
   "source": [
    "# Visualization\n",
    "fig = px.scatter(\n",
    "    category_margin,\n",
    "    x='avg_isu',\n",
    "    y='incremental_margin',\n",
    "    color='risk_flag',\n",
    "    hover_data=['category'],\n",
    "    title='Category-Level Margin vs ISU (Volume-at-Cost Risk)',\n",
    "    labels={'avg_isu': 'Avg ISU (%)', 'incremental_margin': 'Incremental Margin (%)'},\n",
    "    template='plotly_white'\n",
    ")\n",
    "\n",
    "fig.add_hline(y=0, line_dash='dash', line_color='red')\n",
    "fig.add_vline(x=0, line_dash='dash', line_color='gray')\n",
    "\n",
    "fig.show()"
   ]
  },
  {
   "cell_type": "markdown",
   "id": "e255a51f",
   "metadata": {},
   "source": [
    "Top-line dashboard KPIs\n",
    "Why: Quick health check for the sales team. Include: Total incremental revenue (M), IR% (weighted), ISU%, average inc_revenue per promo, #promos live.\n",
    "Data needed: aggregated df metrics."
   ]
  },
  {
   "cell_type": "code",
   "execution_count": 94,
   "id": "d418f869",
   "metadata": {},
   "outputs": [],
   "source": [
    "df['inc_revenue'] = df['revenue_after_promo'].fillna(0).astype(float) - df['revenue_before_promo'].fillna(0).astype(float)\n",
    "df['before_rev'] = df['revenue_before_promo'].fillna(0).astype(float)\n",
    "df['before_qty'] = df['quantity_sold(before_promo)'].fillna(0).astype(float)\n",
    "df['after_qty'] = df['quantity_sold(after_promo)'].fillna(0).astype(float)\n",
    "\n",
    "# 1) Total incremental revenue (millions)\n",
    "total_inc_revenue = df['inc_revenue'].sum() / 1_000_000.0\n",
    "\n",
    "# 2) Weighted IR%: weight by revenue_before (to avoid dividing by tiny bases)\n",
    "# compute IR per row safely\n",
    "df['ir_row'] = ((df['revenue_after_promo'] - df['revenue_before_promo']) / df['revenue_before_promo'].replace(0, np.nan)) * 100\n",
    "weighted_ir = (df['ir_row'] * df['before_rev']).sum() / df['before_rev'].replace(0, np.nan).sum()\n",
    "weighted_ir = weighted_ir if pd.notna(weighted_ir) else 0.0\n",
    "\n",
    "# 3) Weighted ISU%: (sum(after)-sum(before)) / sum(before) *100\n",
    "sum_before_qty = df['before_qty'].sum()\n",
    "sum_after_qty = df['after_qty'].sum()\n",
    "weighted_isu = ((sum_after_qty - sum_before_qty) / sum_before_qty * 100) if sum_before_qty > 0 else np.nan\n",
    "\n",
    "# 4) Average incremental revenue per promo (per event)\n",
    "avg_inc_rev_per_event = df['inc_revenue'].mean()\n",
    "\n",
    "# 5) #promos live: try to use campaign_data[end_date] if available and compare to today,\n",
    "# else fallback to count distinct campaign_id or distinct promo_type\n",
    "today = pd.to_datetime(datetime.now().date())"
   ]
  },
  {
   "cell_type": "code",
   "execution_count": 95,
   "id": "26b9817e",
   "metadata": {},
   "outputs": [
    {
     "data": {
      "text/plain": [
       "{'total_incremental_revenue_M': np.float64(-19.076654409999996),\n",
       " 'weighted_IR_percent': np.float64(-13.558275293311665),\n",
       " 'weighted_ISU_percent': np.float64(108.31045204496532),\n",
       " 'avg_incremental_revenue_per_event': np.float64(-12717.769606666665),\n",
       " 'promos_live_count': 0}"
      ]
     },
     "metadata": {},
     "output_type": "display_data"
    }
   ],
   "source": [
    "\n",
    "\n",
    "try:\n",
    "    # if campaign_data exists and has end_date\n",
    "    campaign_data['end_date'] = pd.to_datetime(campaign_data['end_date'], errors='coerce')\n",
    "    promos_live = campaign_data[campaign_data['end_date'] >= today]['campaign_id'].nunique()\n",
    "except Exception:\n",
    "    promos_live = df['campaign_id'].nunique()  # fallback\n",
    "\n",
    "dashboard_kpis = {\n",
    "    'total_incremental_revenue_M': total_inc_revenue,\n",
    "    'weighted_IR_percent': weighted_ir,\n",
    "    'weighted_ISU_percent': weighted_isu,\n",
    "    'avg_incremental_revenue_per_event': avg_inc_rev_per_event,\n",
    "    'promos_live_count': promos_live\n",
    "}\n",
    "\n",
    "display(dashboard_kpis)\n"
   ]
  },
  {
   "cell_type": "markdown",
   "id": "4cd565b7",
   "metadata": {},
   "source": [
    "Store-level promotional efficiency (inc_revenue per event)\n",
    "Why: Helps prioritize stores that get the most revenue per promotional event (resource allocation).\n",
    "Key metrics/data: inc_revenue / number_of_promos per store."
   ]
  },
  {
   "cell_type": "code",
   "execution_count": 96,
   "id": "3a9f94e4",
   "metadata": {},
   "outputs": [
    {
     "name": "stdout",
     "output_type": "stream",
     "text": [
      "   store_id  total_inc_revenue  num_promos  inc_revenue_per_event\n",
      "12  STCBE-2           69103.90          30            2303.463333\n",
      "7   STBLR-7          -70592.67          30           -2353.089000\n",
      "22  STCHE-7          -75339.28          30           -2511.309333\n",
      "6   STBLR-6         -113794.71          30           -3793.157000\n",
      "45  STVSK-0         -124548.77          30           -4151.625667\n",
      "38  STMYS-1         -129896.46          30           -4329.882000\n",
      "42  STTRV-1         -145443.91          30           -4848.130333\n",
      "13  STCBE-3         -146261.59          30           -4875.386333\n",
      "47  STVSK-2         -162015.91          30           -5400.530333\n",
      "18  STCHE-3         -184659.67          30           -6155.322333\n"
     ]
    }
   ],
   "source": [
    "store_eff = (\n",
    "    df.groupby('store_id', as_index=False)\n",
    "      .agg(\n",
    "          total_inc_revenue=('inc_revenue', 'sum'),\n",
    "          num_promos=('event_id', 'nunique')   # count unique events as promo events\n",
    "      )\n",
    ")\n",
    "\n",
    "store_eff['inc_revenue_per_event'] = store_eff['total_inc_revenue'] / store_eff['num_promos'].replace(0, pd.NA)\n",
    "store_eff = store_eff.sort_values('inc_revenue_per_event', ascending=False)\n",
    "\n",
    "print(store_eff.head(10))\n",
    "store_eff.to_csv('store_promotional_efficiency.csv', index=False)\n"
   ]
  },
  {
   "cell_type": "markdown",
   "id": "0be33f3e",
   "metadata": {},
   "source": [
    "Which promo types maximize IR% by category?\n",
    "Why: Different mechanics (BOGOF, % off, bundle) work differently by category — tailor promos.\n",
    "Key metrics/data: promo_type, category, IR% and ISU% aggregated."
   ]
  },
  {
   "cell_type": "code",
   "execution_count": 97,
   "id": "ff59ce40",
   "metadata": {},
   "outputs": [],
   "source": [
    "if 'ir%' not in df.columns:\n",
    "    df['ir%'] = ((df['revenue_after_promo'] - df['revenue_before_promo']) /\n",
    "                 df['revenue_before_promo'].replace(0, np.nan)) * 100\n",
    "if 'isu%' not in df.columns:\n",
    "    df['isu%'] = ((df['quantity_sold(after_promo)'] - df['quantity_sold(before_promo)']) /\n",
    "                  df['quantity_sold(before_promo)'].replace(0, np.nan)) * 100\n",
    "\n",
    "df['ir%'] = df['ir%'].fillna(0)\n",
    "df['isu%'] = df['isu%'].fillna(0)\n",
    "\n",
    "cat_promo = (\n",
    "    df.groupby(['category', 'promo_type'], as_index=False)\n",
    "      .agg(\n",
    "          mean_ir_percent=('ir%', 'mean'),\n",
    "          mean_isu_percent=('isu%', 'mean'),\n",
    "          total_inc_revenue=('revenue_after_promo', lambda s: s.sum() - df.loc[s.index, 'revenue_before_promo'].sum()),\n",
    "          events_count=('event_id', 'nunique')\n",
    "      )\n",
    ")\n"
   ]
  },
  {
   "cell_type": "code",
   "execution_count": 98,
   "id": "f90ee2b7",
   "metadata": {},
   "outputs": [
    {
     "name": "stdout",
     "output_type": "stream",
     "text": [
      "=== Best Promo Type per Category (by IR%) ===\n"
     ]
    },
    {
     "data": {
      "application/vnd.microsoft.datawrangler.viewer.v0+json": {
       "columns": [
        {
         "name": "index",
         "rawType": "int64",
         "type": "integer"
        },
        {
         "name": "category",
         "rawType": "object",
         "type": "string"
        },
        {
         "name": "promo_type",
         "rawType": "object",
         "type": "string"
        },
        {
         "name": "mean_ir_percent",
         "rawType": "float64",
         "type": "float"
        },
        {
         "name": "mean_isu_percent",
         "rawType": "float64",
         "type": "float"
        },
        {
         "name": "events_count",
         "rawType": "int64",
         "type": "integer"
        }
       ],
       "ref": "db4e03b2-b268-4f24-b3ab-0568e51418e5",
       "rows": [
        [
         "0",
         "Combo1",
         "500 Cashback",
         "-56.30484343340728",
         "162.17093939955635",
         "100"
        ],
        [
         "1",
         "Grocery & Staples",
         "BOGOF",
         "87.22882587710863",
         "274.45765175421724",
         "100"
        ],
        [
         "2",
         "Home Appliances",
         "BOGOF",
         "79.03267158022085",
         "258.06534316044167",
         "200"
        ],
        [
         "3",
         "Home Care",
         "BOGOF",
         "78.88154749429818",
         "257.7630949885963",
         "200"
        ],
        [
         "4",
         "Personal Care",
         "50% OFF",
         "-33.25538748291505",
         "33.48922503416991",
         "300"
        ]
       ],
       "shape": {
        "columns": 5,
        "rows": 5
       }
      },
      "text/html": [
       "<div>\n",
       "<style scoped>\n",
       "    .dataframe tbody tr th:only-of-type {\n",
       "        vertical-align: middle;\n",
       "    }\n",
       "\n",
       "    .dataframe tbody tr th {\n",
       "        vertical-align: top;\n",
       "    }\n",
       "\n",
       "    .dataframe thead th {\n",
       "        text-align: right;\n",
       "    }\n",
       "</style>\n",
       "<table border=\"1\" class=\"dataframe\">\n",
       "  <thead>\n",
       "    <tr style=\"text-align: right;\">\n",
       "      <th></th>\n",
       "      <th>category</th>\n",
       "      <th>promo_type</th>\n",
       "      <th>mean_ir_percent</th>\n",
       "      <th>mean_isu_percent</th>\n",
       "      <th>events_count</th>\n",
       "    </tr>\n",
       "  </thead>\n",
       "  <tbody>\n",
       "    <tr>\n",
       "      <th>0</th>\n",
       "      <td>Combo1</td>\n",
       "      <td>500 Cashback</td>\n",
       "      <td>-56.304843</td>\n",
       "      <td>162.170939</td>\n",
       "      <td>100</td>\n",
       "    </tr>\n",
       "    <tr>\n",
       "      <th>1</th>\n",
       "      <td>Grocery &amp; Staples</td>\n",
       "      <td>BOGOF</td>\n",
       "      <td>87.228826</td>\n",
       "      <td>274.457652</td>\n",
       "      <td>100</td>\n",
       "    </tr>\n",
       "    <tr>\n",
       "      <th>2</th>\n",
       "      <td>Home Appliances</td>\n",
       "      <td>BOGOF</td>\n",
       "      <td>79.032672</td>\n",
       "      <td>258.065343</td>\n",
       "      <td>200</td>\n",
       "    </tr>\n",
       "    <tr>\n",
       "      <th>3</th>\n",
       "      <td>Home Care</td>\n",
       "      <td>BOGOF</td>\n",
       "      <td>78.881547</td>\n",
       "      <td>257.763095</td>\n",
       "      <td>200</td>\n",
       "    </tr>\n",
       "    <tr>\n",
       "      <th>4</th>\n",
       "      <td>Personal Care</td>\n",
       "      <td>50% OFF</td>\n",
       "      <td>-33.255387</td>\n",
       "      <td>33.489225</td>\n",
       "      <td>300</td>\n",
       "    </tr>\n",
       "  </tbody>\n",
       "</table>\n",
       "</div>"
      ],
      "text/plain": [
       "            category    promo_type  mean_ir_percent  mean_isu_percent  \\\n",
       "0             Combo1  500 Cashback       -56.304843        162.170939   \n",
       "1  Grocery & Staples         BOGOF        87.228826        274.457652   \n",
       "2    Home Appliances         BOGOF        79.032672        258.065343   \n",
       "3          Home Care         BOGOF        78.881547        257.763095   \n",
       "4      Personal Care       50% OFF       -33.255387         33.489225   \n",
       "\n",
       "   events_count  \n",
       "0           100  \n",
       "1           100  \n",
       "2           200  \n",
       "3           200  \n",
       "4           300  "
      ]
     },
     "metadata": {},
     "output_type": "display_data"
    }
   ],
   "source": [
    "\n",
    "# For each category, pick top promo_type by mean_ir_percent\n",
    "top_promos_per_category = cat_promo.loc[cat_promo.groupby('category')['mean_ir_percent'].idxmax()].reset_index(drop=True)\n",
    "\n",
    "# Also show top N promo types per category (optional)\n",
    "topn = 3\n",
    "topn_promos = (\n",
    "    cat_promo.sort_values(['category','mean_ir_percent'], ascending=[True, False])\n",
    "             .groupby('category').head(topn)\n",
    ")\n",
    "\n",
    "print(\"=== Best Promo Type per Category (by IR%) ===\")\n",
    "display(top_promos_per_category[['category', 'promo_type', 'mean_ir_percent', 'mean_isu_percent', 'events_count']])\n",
    "\n",
    "# Save output\n",
    "top_promos_per_category.to_csv('top_promo_by_category_ir.csv', index=False)\n"
   ]
  },
  {
   "cell_type": "code",
   "execution_count": 99,
   "id": "68c4eb79",
   "metadata": {},
   "outputs": [
    {
     "data": {
      "application/vnd.microsoft.datawrangler.viewer.v0+json": {
       "columns": [
        {
         "name": "index",
         "rawType": "int64",
         "type": "integer"
        },
        {
         "name": "event_id",
         "rawType": "object",
         "type": "string"
        },
        {
         "name": "store_id",
         "rawType": "object",
         "type": "string"
        },
        {
         "name": "campaign_id",
         "rawType": "object",
         "type": "string"
        },
        {
         "name": "product_code",
         "rawType": "object",
         "type": "string"
        },
        {
         "name": "base_price",
         "rawType": "int64",
         "type": "integer"
        },
        {
         "name": "promo_type",
         "rawType": "object",
         "type": "string"
        },
        {
         "name": "quantity_sold(before_promo)",
         "rawType": "int64",
         "type": "integer"
        },
        {
         "name": "quantity_sold(after_promo)",
         "rawType": "int64",
         "type": "integer"
        },
        {
         "name": "Unnamed: 8",
         "rawType": "float64",
         "type": "float"
        },
        {
         "name": "Unnamed: 9",
         "rawType": "float64",
         "type": "float"
        },
        {
         "name": "Unnamed: 10",
         "rawType": "float64",
         "type": "float"
        },
        {
         "name": "city",
         "rawType": "object",
         "type": "string"
        },
        {
         "name": "total_quantity_sold",
         "rawType": "int64",
         "type": "integer"
        },
        {
         "name": "product_name",
         "rawType": "object",
         "type": "string"
        },
        {
         "name": "promo_discount",
         "rawType": "float64",
         "type": "float"
        },
        {
         "name": "revenue_before_promo",
         "rawType": "int64",
         "type": "integer"
        },
        {
         "name": "revenue_after_promo",
         "rawType": "float64",
         "type": "float"
        }
       ],
       "ref": "9fd85dff-423d-4646-9050-eac47ef1641e",
       "rows": [
        [
         "0",
         "7f650b",
         "STCBE-2",
         "CAMP_SAN_01",
         "P11",
         "190",
         "50% OFF",
         "34",
         "52",
         null,
         null,
         null,
         "coimbatore",
         "86",
         "Atliq_Doodh_Kesar_Body_Lotion (200ML)",
         "95.0",
         "6460",
         "4940.0"
        ],
        [
         "1",
         "a21f91",
         "STBLR-8",
         "CAMP_DIW_01",
         "P03",
         "156",
         "25% OFF",
         "393",
         "322",
         null,
         null,
         null,
         "bengaluru",
         "715",
         "Atliq_Suflower_Oil (1L)",
         "39.0",
         "61308",
         "37674.0"
        ],
        [
         "2",
         "78bc80",
         "STVJD-0",
         "CAMP_SAN_01",
         "P07",
         "300",
         "BOGOF",
         "22",
         "85",
         null,
         null,
         null,
         "vijayawada",
         "107",
         "Atliq_Curtains",
         "150.0",
         "6600",
         "12750.0"
        ],
        [
         "3",
         "a1503f",
         "STCBE-1",
         "CAMP_DIW_01",
         "P15",
         "3000",
         "500 Cashback",
         "329",
         "1000",
         null,
         null,
         null,
         "coimbatore",
         "1329",
         "Atliq_Home_Essential_8_Product_Combo",
         "2500.0",
         "987000",
         "500000.0"
        ],
        [
         "4",
         "1091cf",
         "STBLR-6",
         "CAMP_DIW_01",
         "P05",
         "55",
         "25% OFF",
         "108",
         "93",
         null,
         null,
         null,
         "bengaluru",
         "201",
         "Atliq_Scrub_Sponge_For_Dishwash",
         "13.75",
         "5940",
         "3836.25"
        ],
        [
         "5",
         "8.02E+96",
         "STBLR-4",
         "CAMP_DIW_01",
         "P11",
         "190",
         "50% OFF",
         "91",
         "116",
         null,
         null,
         null,
         "bengaluru",
         "207",
         "Atliq_Doodh_Kesar_Body_Lotion (200ML)",
         "95.0",
         "17290",
         "11020.0"
        ],
        [
         "6",
         "73d86f",
         "STVSK-2",
         "CAMP_SAN_01",
         "P10",
         "50",
         "25% OFF",
         "31",
         "26",
         null,
         null,
         null,
         "visakhapatnam",
         "57",
         "Atliq_Cream_Beauty_Bathing_Soap (125GM)",
         "12.5",
         "1550",
         "975.0"
        ],
        [
         "7",
         "fe3560",
         "STHYD-4",
         "CAMP_DIW_01",
         "P13",
         "350",
         "BOGOF",
         "73",
         "245",
         null,
         null,
         null,
         "hyderabad",
         "318",
         "Atliq_High_Glo_15W_LED_Bulb",
         "175.0",
         "25550",
         "42875.0"
        ],
        [
         "8",
         "6b2afc",
         "STCBE-4",
         "CAMP_SAN_01",
         "P08",
         "1190",
         "BOGOF",
         "30",
         "79",
         null,
         null,
         null,
         "coimbatore",
         "109",
         "Atliq_Double_Bedsheet_set",
         "595.0",
         "35700",
         "47005.0"
        ],
        [
         "9",
         "ce5851",
         "STMDU-2",
         "CAMP_SAN_01",
         "P03",
         "200",
         "BOGOF",
         "318",
         "1265",
         null,
         null,
         null,
         "madurai",
         "1583",
         "Atliq_Suflower_Oil (1L)",
         "100.0",
         "63600",
         "126500.0"
        ],
        [
         "10",
         "dd6685",
         "STMYS-2",
         "CAMP_DIW_01",
         "P06",
         "415",
         "25% OFF",
         "78",
         "70",
         null,
         null,
         null,
         "mysuru",
         "148",
         "Atliq_Fusion_Container_Set_of_3",
         "103.75",
         "32370",
         "21787.5"
        ],
        [
         "11",
         "8f25a6",
         "STHYD-6",
         "CAMP_SAN_01",
         "P15",
         "3000",
         "500 Cashback",
         "126",
         "302",
         null,
         null,
         null,
         "hyderabad",
         "428",
         "Atliq_Home_Essential_8_Product_Combo",
         "2500.0",
         "378000",
         "151000.0"
        ],
        [
         "12",
         "5c3c33",
         "STCHE-6",
         "CAMP_DIW_01",
         "P12",
         "62",
         "50% OFF",
         "154",
         "207",
         null,
         null,
         null,
         "chennai",
         "361",
         "Atliq_Lime_Cool_Bathing_Bar (125GM)",
         "31.0",
         "9548",
         "6417.0"
        ],
        [
         "13",
         "d290a1",
         "STBLR-3",
         "CAMP_DIW_01",
         "P04",
         "290",
         "25% OFF",
         "343",
         "270",
         null,
         null,
         null,
         "bengaluru",
         "613",
         "Atliq_Farm_Chakki_Atta (1KG)",
         "72.5",
         "99470",
         "58725.0"
        ],
        [
         "14",
         "635862",
         "STVSK-4",
         "CAMP_SAN_01",
         "P02",
         "860",
         "33% OFF",
         "348",
         "480",
         null,
         null,
         null,
         "visakhapatnam",
         "828",
         "Atliq_Sonamasuri_Rice (10KG)",
         "283.8",
         "299280",
         "276576.0"
        ],
        [
         "15",
         "c0ecb5",
         "STCHE-2",
         "CAMP_SAN_01",
         "P07",
         "300",
         "BOGOF",
         "43",
         "167",
         null,
         null,
         null,
         "chennai",
         "210",
         "Atliq_Curtains",
         "150.0",
         "12900",
         "25050.0"
        ],
        [
         "16",
         "182caa",
         "STCHE-5",
         "CAMP_SAN_01",
         "P06",
         "415",
         "25% OFF",
         "39",
         "33",
         null,
         null,
         null,
         "chennai",
         "72",
         "Atliq_Fusion_Container_Set_of_3",
         "103.75",
         "16185",
         "10271.25"
        ],
        [
         "17",
         "c4db5b",
         "STTRV-0",
         "CAMP_DIW_01",
         "P01",
         "172",
         "33% OFF",
         "164",
         "236",
         null,
         null,
         null,
         "trivandrum",
         "400",
         "Atliq_Masoor_Dal (1KG)",
         "56.760000000000005",
         "28208",
         "27196.64"
        ],
        [
         "18",
         "94f48c",
         "STVSK-1",
         "CAMP_SAN_01",
         "P06",
         "415",
         "25% OFF",
         "22",
         "16",
         null,
         null,
         null,
         "visakhapatnam",
         "38",
         "Atliq_Fusion_Container_Set_of_3",
         "103.75",
         "9130",
         "4980.0"
        ],
        [
         "19",
         "7ef92f",
         "STHYD-5",
         "CAMP_SAN_01",
         "P07",
         "300",
         "BOGOF",
         "55",
         "213",
         null,
         null,
         null,
         "hyderabad",
         "268",
         "Atliq_Curtains",
         "150.0",
         "16500",
         "31950.0"
        ],
        [
         "20",
         "0f422c",
         "STBLR-0",
         "CAMP_DIW_01",
         "P14",
         "1020",
         "BOGOF",
         "42",
         "168",
         null,
         null,
         null,
         "bengaluru",
         "210",
         "Atliq_waterproof_Immersion_Rod",
         "510.0",
         "42840",
         "85680.0"
        ],
        [
         "21",
         "1e9a06",
         "STCHE-4",
         "CAMP_DIW_01",
         "P13",
         "350",
         "BOGOF",
         "84",
         "338",
         null,
         null,
         null,
         "chennai",
         "422",
         "Atliq_High_Glo_15W_LED_Bulb",
         "175.0",
         "29400",
         "59150.0"
        ],
        [
         "22",
         "02ebe9",
         "STBLR-8",
         "CAMP_DIW_01",
         "P11",
         "190",
         "50% OFF",
         "66",
         "88",
         null,
         null,
         null,
         "bengaluru",
         "154",
         "Atliq_Doodh_Kesar_Body_Lotion (200ML)",
         "95.0",
         "12540",
         "8360.0"
        ],
        [
         "23",
         "260ff2",
         "STMYS-2",
         "CAMP_SAN_01",
         "P01",
         "172",
         "33% OFF",
         "204",
         "291",
         null,
         null,
         null,
         "mysuru",
         "495",
         "Atliq_Masoor_Dal (1KG)",
         "56.760000000000005",
         "35088",
         "33534.84"
        ],
        [
         "24",
         "7fc923",
         "STTRV-0",
         "CAMP_SAN_01",
         "P08",
         "1190",
         "BOGOF",
         "19",
         "74",
         null,
         null,
         null,
         "trivandrum",
         "93",
         "Atliq_Double_Bedsheet_set",
         "595.0",
         "22610",
         "44030.0"
        ],
        [
         "25",
         "b08c12",
         "STMDU-3",
         "CAMP_DIW_01",
         "P03",
         "156",
         "25% OFF",
         "227",
         "202",
         null,
         null,
         null,
         "madurai",
         "429",
         "Atliq_Suflower_Oil (1L)",
         "39.0",
         "35412",
         "23634.0"
        ],
        [
         "26",
         "ca7298",
         "STCBE-2",
         "CAMP_SAN_01",
         "P15",
         "3000",
         "500 Cashback",
         "85",
         "228",
         null,
         null,
         null,
         "coimbatore",
         "313",
         "Atliq_Home_Essential_8_Product_Combo",
         "2500.0",
         "255000",
         "114000.0"
        ],
        [
         "27",
         "bf33ae",
         "STMYS-0",
         "CAMP_DIW_01",
         "P14",
         "1020",
         "BOGOF",
         "59",
         "182",
         null,
         null,
         null,
         "mysuru",
         "241",
         "Atliq_waterproof_Immersion_Rod",
         "510.0",
         "60180",
         "92820.0"
        ],
        [
         "28",
         "35fb5b",
         "STCBE-2",
         "CAMP_DIW_01",
         "P13",
         "350",
         "BOGOF",
         "50",
         "190",
         null,
         null,
         null,
         "coimbatore",
         "240",
         "Atliq_High_Glo_15W_LED_Bulb",
         "175.0",
         "17500",
         "33250.0"
        ],
        [
         "29",
         "def6ff",
         "STMDU-0",
         "CAMP_DIW_01",
         "P11",
         "190",
         "50% OFF",
         "70",
         "89",
         null,
         null,
         null,
         "madurai",
         "159",
         "Atliq_Doodh_Kesar_Body_Lotion (200ML)",
         "95.0",
         "13300",
         "8455.0"
        ],
        [
         "30",
         "2f3e5d",
         "STCHE-2",
         "CAMP_SAN_01",
         "P01",
         "172",
         "33% OFF",
         "333",
         "402",
         null,
         null,
         null,
         "chennai",
         "735",
         "Atliq_Masoor_Dal (1KG)",
         "56.760000000000005",
         "57276",
         "46326.479999999996"
        ],
        [
         "31",
         "ca3893",
         "STMYS-1",
         "CAMP_SAN_01",
         "P09",
         "90",
         "25% OFF",
         "52",
         "39",
         null,
         null,
         null,
         "mysuru",
         "91",
         "Atliq_Body_Milk_Nourishing_Lotion (120ML)",
         "22.5",
         "4680",
         "2632.5"
        ],
        [
         "32",
         "922e6a",
         "STBLR-8",
         "CAMP_SAN_01",
         "P05",
         "55",
         "25% OFF",
         "34",
         "24",
         null,
         null,
         null,
         "bengaluru",
         "58",
         "Atliq_Scrub_Sponge_For_Dishwash",
         "13.75",
         "1870",
         "990.0"
        ],
        [
         "33",
         "4f0587",
         "STMDU-0",
         "CAMP_SAN_01",
         "P08",
         "1190",
         "BOGOF",
         "33",
         "136",
         null,
         null,
         null,
         "madurai",
         "169",
         "Atliq_Double_Bedsheet_set",
         "595.0",
         "39270",
         "80920.0"
        ],
        [
         "34",
         "fa5b45",
         "STVJD-1",
         "CAMP_SAN_01",
         "P08",
         "1190",
         "BOGOF",
         "27",
         "109",
         null,
         null,
         null,
         "vijayawada",
         "136",
         "Atliq_Double_Bedsheet_set",
         "595.0",
         "32130",
         "64855.0"
        ],
        [
         "35",
         "df45ee",
         "STHYD-3",
         "CAMP_DIW_01",
         "P01",
         "172",
         "33% OFF",
         "309",
         "534",
         null,
         null,
         null,
         "hyderabad",
         "843",
         "Atliq_Masoor_Dal (1KG)",
         "56.760000000000005",
         "53148",
         "61538.159999999996"
        ],
        [
         "36",
         "f3ac85",
         "STBLR-5",
         "CAMP_SAN_01",
         "P03",
         "200",
         "BOGOF",
         "348",
         "1350",
         null,
         null,
         null,
         "bengaluru",
         "1698",
         "Atliq_Suflower_Oil (1L)",
         "100.0",
         "69600",
         "135000.0"
        ],
        [
         "37",
         "292ca5",
         "STHYD-2",
         "CAMP_DIW_01",
         "P04",
         "290",
         "25% OFF",
         "287",
         "220",
         null,
         null,
         null,
         "hyderabad",
         "507",
         "Atliq_Farm_Chakki_Atta (1KG)",
         "72.5",
         "83230",
         "47850.0"
        ],
        [
         "38",
         "620715",
         "STMYS-3",
         "CAMP_SAN_01",
         "P03",
         "200",
         "BOGOF",
         "340",
         "1485",
         null,
         null,
         null,
         "mysuru",
         "1825",
         "Atliq_Suflower_Oil (1L)",
         "100.0",
         "68000",
         "148500.0"
        ],
        [
         "39",
         "7e9777",
         "STVJD-1",
         "CAMP_DIW_01",
         "P08",
         "1190",
         "BOGOF",
         "24",
         "82",
         null,
         null,
         null,
         "vijayawada",
         "106",
         "Atliq_Double_Bedsheet_set",
         "595.0",
         "28560",
         "48790.0"
        ],
        [
         "40",
         "761785",
         "STBLR-4",
         "CAMP_SAN_01",
         "P14",
         "1020",
         "BOGOF",
         "121",
         "474",
         null,
         null,
         null,
         "bengaluru",
         "595",
         "Atliq_waterproof_Immersion_Rod",
         "510.0",
         "123420",
         "241740.0"
        ],
        [
         "41",
         "eb3bea",
         "STVSK-2",
         "CAMP_SAN_01",
         "P15",
         "3000",
         "500 Cashback",
         "109",
         "238",
         null,
         null,
         null,
         "visakhapatnam",
         "347",
         "Atliq_Home_Essential_8_Product_Combo",
         "2500.0",
         "327000",
         "119000.0"
        ],
        [
         "42",
         "276150",
         "STCBE-3",
         "CAMP_SAN_01",
         "P07",
         "300",
         "BOGOF",
         "33",
         "128",
         null,
         null,
         null,
         "coimbatore",
         "161",
         "Atliq_Curtains",
         "150.0",
         "9900",
         "19200.0"
        ],
        [
         "43",
         "3beb46",
         "STMYS-2",
         "CAMP_SAN_01",
         "P13",
         "350",
         "BOGOF",
         "81",
         "208",
         null,
         null,
         null,
         "mysuru",
         "289",
         "Atliq_High_Glo_15W_LED_Bulb",
         "175.0",
         "28350",
         "36400.0"
        ],
        [
         "44",
         "47af00",
         "STVJD-1",
         "CAMP_DIW_01",
         "P03",
         "156",
         "25% OFF",
         "183",
         "150",
         null,
         null,
         null,
         "vijayawada",
         "333",
         "Atliq_Suflower_Oil (1L)",
         "39.0",
         "28548",
         "17550.0"
        ],
        [
         "45",
         "627200",
         "STCBE-4",
         "CAMP_DIW_01",
         "P14",
         "1020",
         "BOGOF",
         "36",
         "111",
         null,
         null,
         null,
         "coimbatore",
         "147",
         "Atliq_waterproof_Immersion_Rod",
         "510.0",
         "36720",
         "56610.0"
        ],
        [
         "46",
         "bc8315",
         "STHYD-1",
         "CAMP_DIW_01",
         "P12",
         "62",
         "50% OFF",
         "122",
         "135",
         null,
         null,
         null,
         "hyderabad",
         "257",
         "Atliq_Lime_Cool_Bathing_Bar (125GM)",
         "31.0",
         "7564",
         "4185.0"
        ],
        [
         "47",
         "1f083a",
         "STVJD-0",
         "CAMP_SAN_01",
         "P06",
         "415",
         "25% OFF",
         "16",
         "14",
         null,
         null,
         null,
         "vijayawada",
         "30",
         "Atliq_Fusion_Container_Set_of_3",
         "103.75",
         "6640",
         "4357.5"
        ],
        [
         "48",
         "c1e0b6",
         "STCHE-6",
         "CAMP_SAN_01",
         "P01",
         "172",
         "33% OFF",
         "273",
         "379",
         null,
         null,
         null,
         "chennai",
         "652",
         "Atliq_Masoor_Dal (1KG)",
         "56.760000000000005",
         "46956",
         "43675.96"
        ],
        [
         "49",
         "f60d93",
         "STCBE-0",
         "CAMP_DIW_01",
         "P05",
         "55",
         "25% OFF",
         "78",
         "75",
         null,
         null,
         null,
         "coimbatore",
         "153",
         "Atliq_Scrub_Sponge_For_Dishwash",
         "13.75",
         "4290",
         "3093.75"
        ]
       ],
       "shape": {
        "columns": 17,
        "rows": 1500
       }
      },
      "text/html": [
       "<div>\n",
       "<style scoped>\n",
       "    .dataframe tbody tr th:only-of-type {\n",
       "        vertical-align: middle;\n",
       "    }\n",
       "\n",
       "    .dataframe tbody tr th {\n",
       "        vertical-align: top;\n",
       "    }\n",
       "\n",
       "    .dataframe thead th {\n",
       "        text-align: right;\n",
       "    }\n",
       "</style>\n",
       "<table border=\"1\" class=\"dataframe\">\n",
       "  <thead>\n",
       "    <tr style=\"text-align: right;\">\n",
       "      <th></th>\n",
       "      <th>event_id</th>\n",
       "      <th>store_id</th>\n",
       "      <th>campaign_id</th>\n",
       "      <th>product_code</th>\n",
       "      <th>base_price</th>\n",
       "      <th>promo_type</th>\n",
       "      <th>quantity_sold(before_promo)</th>\n",
       "      <th>quantity_sold(after_promo)</th>\n",
       "      <th>Unnamed: 8</th>\n",
       "      <th>Unnamed: 9</th>\n",
       "      <th>Unnamed: 10</th>\n",
       "      <th>city</th>\n",
       "      <th>total_quantity_sold</th>\n",
       "      <th>product_name</th>\n",
       "      <th>promo_discount</th>\n",
       "      <th>revenue_before_promo</th>\n",
       "      <th>revenue_after_promo</th>\n",
       "    </tr>\n",
       "  </thead>\n",
       "  <tbody>\n",
       "    <tr>\n",
       "      <th>0</th>\n",
       "      <td>7f650b</td>\n",
       "      <td>STCBE-2</td>\n",
       "      <td>CAMP_SAN_01</td>\n",
       "      <td>P11</td>\n",
       "      <td>190</td>\n",
       "      <td>50% OFF</td>\n",
       "      <td>34</td>\n",
       "      <td>52</td>\n",
       "      <td>NaN</td>\n",
       "      <td>NaN</td>\n",
       "      <td>NaN</td>\n",
       "      <td>coimbatore</td>\n",
       "      <td>86</td>\n",
       "      <td>Atliq_Doodh_Kesar_Body_Lotion (200ML)</td>\n",
       "      <td>95.00</td>\n",
       "      <td>6460</td>\n",
       "      <td>4940.00</td>\n",
       "    </tr>\n",
       "    <tr>\n",
       "      <th>1</th>\n",
       "      <td>a21f91</td>\n",
       "      <td>STBLR-8</td>\n",
       "      <td>CAMP_DIW_01</td>\n",
       "      <td>P03</td>\n",
       "      <td>156</td>\n",
       "      <td>25% OFF</td>\n",
       "      <td>393</td>\n",
       "      <td>322</td>\n",
       "      <td>NaN</td>\n",
       "      <td>NaN</td>\n",
       "      <td>NaN</td>\n",
       "      <td>bengaluru</td>\n",
       "      <td>715</td>\n",
       "      <td>Atliq_Suflower_Oil (1L)</td>\n",
       "      <td>39.00</td>\n",
       "      <td>61308</td>\n",
       "      <td>37674.00</td>\n",
       "    </tr>\n",
       "    <tr>\n",
       "      <th>2</th>\n",
       "      <td>78bc80</td>\n",
       "      <td>STVJD-0</td>\n",
       "      <td>CAMP_SAN_01</td>\n",
       "      <td>P07</td>\n",
       "      <td>300</td>\n",
       "      <td>BOGOF</td>\n",
       "      <td>22</td>\n",
       "      <td>85</td>\n",
       "      <td>NaN</td>\n",
       "      <td>NaN</td>\n",
       "      <td>NaN</td>\n",
       "      <td>vijayawada</td>\n",
       "      <td>107</td>\n",
       "      <td>Atliq_Curtains</td>\n",
       "      <td>150.00</td>\n",
       "      <td>6600</td>\n",
       "      <td>12750.00</td>\n",
       "    </tr>\n",
       "    <tr>\n",
       "      <th>3</th>\n",
       "      <td>a1503f</td>\n",
       "      <td>STCBE-1</td>\n",
       "      <td>CAMP_DIW_01</td>\n",
       "      <td>P15</td>\n",
       "      <td>3000</td>\n",
       "      <td>500 Cashback</td>\n",
       "      <td>329</td>\n",
       "      <td>1000</td>\n",
       "      <td>NaN</td>\n",
       "      <td>NaN</td>\n",
       "      <td>NaN</td>\n",
       "      <td>coimbatore</td>\n",
       "      <td>1329</td>\n",
       "      <td>Atliq_Home_Essential_8_Product_Combo</td>\n",
       "      <td>2500.00</td>\n",
       "      <td>987000</td>\n",
       "      <td>500000.00</td>\n",
       "    </tr>\n",
       "    <tr>\n",
       "      <th>4</th>\n",
       "      <td>1091cf</td>\n",
       "      <td>STBLR-6</td>\n",
       "      <td>CAMP_DIW_01</td>\n",
       "      <td>P05</td>\n",
       "      <td>55</td>\n",
       "      <td>25% OFF</td>\n",
       "      <td>108</td>\n",
       "      <td>93</td>\n",
       "      <td>NaN</td>\n",
       "      <td>NaN</td>\n",
       "      <td>NaN</td>\n",
       "      <td>bengaluru</td>\n",
       "      <td>201</td>\n",
       "      <td>Atliq_Scrub_Sponge_For_Dishwash</td>\n",
       "      <td>13.75</td>\n",
       "      <td>5940</td>\n",
       "      <td>3836.25</td>\n",
       "    </tr>\n",
       "    <tr>\n",
       "      <th>...</th>\n",
       "      <td>...</td>\n",
       "      <td>...</td>\n",
       "      <td>...</td>\n",
       "      <td>...</td>\n",
       "      <td>...</td>\n",
       "      <td>...</td>\n",
       "      <td>...</td>\n",
       "      <td>...</td>\n",
       "      <td>...</td>\n",
       "      <td>...</td>\n",
       "      <td>...</td>\n",
       "      <td>...</td>\n",
       "      <td>...</td>\n",
       "      <td>...</td>\n",
       "      <td>...</td>\n",
       "      <td>...</td>\n",
       "      <td>...</td>\n",
       "    </tr>\n",
       "    <tr>\n",
       "      <th>1495</th>\n",
       "      <td>1e8961</td>\n",
       "      <td>STBLR-3</td>\n",
       "      <td>CAMP_SAN_01</td>\n",
       "      <td>P12</td>\n",
       "      <td>62</td>\n",
       "      <td>50% OFF</td>\n",
       "      <td>61</td>\n",
       "      <td>84</td>\n",
       "      <td>NaN</td>\n",
       "      <td>NaN</td>\n",
       "      <td>NaN</td>\n",
       "      <td>bengaluru</td>\n",
       "      <td>145</td>\n",
       "      <td>Atliq_Lime_Cool_Bathing_Bar (125GM)</td>\n",
       "      <td>31.00</td>\n",
       "      <td>3782</td>\n",
       "      <td>2604.00</td>\n",
       "    </tr>\n",
       "    <tr>\n",
       "      <th>1496</th>\n",
       "      <td>f957f1</td>\n",
       "      <td>STMDU-1</td>\n",
       "      <td>CAMP_SAN_01</td>\n",
       "      <td>P10</td>\n",
       "      <td>50</td>\n",
       "      <td>25% OFF</td>\n",
       "      <td>22</td>\n",
       "      <td>18</td>\n",
       "      <td>NaN</td>\n",
       "      <td>NaN</td>\n",
       "      <td>NaN</td>\n",
       "      <td>madurai</td>\n",
       "      <td>40</td>\n",
       "      <td>Atliq_Cream_Beauty_Bathing_Soap (125GM)</td>\n",
       "      <td>12.50</td>\n",
       "      <td>1100</td>\n",
       "      <td>675.00</td>\n",
       "    </tr>\n",
       "    <tr>\n",
       "      <th>1497</th>\n",
       "      <td>a9ae21</td>\n",
       "      <td>STCBE-0</td>\n",
       "      <td>CAMP_DIW_01</td>\n",
       "      <td>P12</td>\n",
       "      <td>62</td>\n",
       "      <td>50% OFF</td>\n",
       "      <td>80</td>\n",
       "      <td>119</td>\n",
       "      <td>NaN</td>\n",
       "      <td>NaN</td>\n",
       "      <td>NaN</td>\n",
       "      <td>coimbatore</td>\n",
       "      <td>199</td>\n",
       "      <td>Atliq_Lime_Cool_Bathing_Bar (125GM)</td>\n",
       "      <td>31.00</td>\n",
       "      <td>4960</td>\n",
       "      <td>3689.00</td>\n",
       "    </tr>\n",
       "    <tr>\n",
       "      <th>1498</th>\n",
       "      <td>e5d28d</td>\n",
       "      <td>STVSK-0</td>\n",
       "      <td>CAMP_SAN_01</td>\n",
       "      <td>P13</td>\n",
       "      <td>350</td>\n",
       "      <td>BOGOF</td>\n",
       "      <td>73</td>\n",
       "      <td>282</td>\n",
       "      <td>NaN</td>\n",
       "      <td>NaN</td>\n",
       "      <td>NaN</td>\n",
       "      <td>visakhapatnam</td>\n",
       "      <td>355</td>\n",
       "      <td>Atliq_High_Glo_15W_LED_Bulb</td>\n",
       "      <td>175.00</td>\n",
       "      <td>25550</td>\n",
       "      <td>49350.00</td>\n",
       "    </tr>\n",
       "    <tr>\n",
       "      <th>1499</th>\n",
       "      <td>4d22d1</td>\n",
       "      <td>STBLR-9</td>\n",
       "      <td>CAMP_SAN_01</td>\n",
       "      <td>P12</td>\n",
       "      <td>62</td>\n",
       "      <td>50% OFF</td>\n",
       "      <td>52</td>\n",
       "      <td>73</td>\n",
       "      <td>NaN</td>\n",
       "      <td>NaN</td>\n",
       "      <td>NaN</td>\n",
       "      <td>bengaluru</td>\n",
       "      <td>125</td>\n",
       "      <td>Atliq_Lime_Cool_Bathing_Bar (125GM)</td>\n",
       "      <td>31.00</td>\n",
       "      <td>3224</td>\n",
       "      <td>2263.00</td>\n",
       "    </tr>\n",
       "  </tbody>\n",
       "</table>\n",
       "<p>1500 rows × 17 columns</p>\n",
       "</div>"
      ],
      "text/plain": [
       "     event_id store_id  campaign_id product_code  base_price    promo_type  \\\n",
       "0      7f650b  STCBE-2  CAMP_SAN_01          P11         190       50% OFF   \n",
       "1      a21f91  STBLR-8  CAMP_DIW_01          P03         156       25% OFF   \n",
       "2      78bc80  STVJD-0  CAMP_SAN_01          P07         300         BOGOF   \n",
       "3      a1503f  STCBE-1  CAMP_DIW_01          P15        3000  500 Cashback   \n",
       "4      1091cf  STBLR-6  CAMP_DIW_01          P05          55       25% OFF   \n",
       "...       ...      ...          ...          ...         ...           ...   \n",
       "1495   1e8961  STBLR-3  CAMP_SAN_01          P12          62       50% OFF   \n",
       "1496   f957f1  STMDU-1  CAMP_SAN_01          P10          50       25% OFF   \n",
       "1497   a9ae21  STCBE-0  CAMP_DIW_01          P12          62       50% OFF   \n",
       "1498   e5d28d  STVSK-0  CAMP_SAN_01          P13         350         BOGOF   \n",
       "1499   4d22d1  STBLR-9  CAMP_SAN_01          P12          62       50% OFF   \n",
       "\n",
       "      quantity_sold(before_promo)  quantity_sold(after_promo)  Unnamed: 8  \\\n",
       "0                              34                          52         NaN   \n",
       "1                             393                         322         NaN   \n",
       "2                              22                          85         NaN   \n",
       "3                             329                        1000         NaN   \n",
       "4                             108                          93         NaN   \n",
       "...                           ...                         ...         ...   \n",
       "1495                           61                          84         NaN   \n",
       "1496                           22                          18         NaN   \n",
       "1497                           80                         119         NaN   \n",
       "1498                           73                         282         NaN   \n",
       "1499                           52                          73         NaN   \n",
       "\n",
       "      Unnamed: 9  Unnamed: 10           city  total_quantity_sold  \\\n",
       "0            NaN          NaN     coimbatore                   86   \n",
       "1            NaN          NaN      bengaluru                  715   \n",
       "2            NaN          NaN     vijayawada                  107   \n",
       "3            NaN          NaN     coimbatore                 1329   \n",
       "4            NaN          NaN      bengaluru                  201   \n",
       "...          ...          ...            ...                  ...   \n",
       "1495         NaN          NaN      bengaluru                  145   \n",
       "1496         NaN          NaN        madurai                   40   \n",
       "1497         NaN          NaN     coimbatore                  199   \n",
       "1498         NaN          NaN  visakhapatnam                  355   \n",
       "1499         NaN          NaN      bengaluru                  125   \n",
       "\n",
       "                                 product_name  promo_discount  \\\n",
       "0       Atliq_Doodh_Kesar_Body_Lotion (200ML)           95.00   \n",
       "1                     Atliq_Suflower_Oil (1L)           39.00   \n",
       "2                              Atliq_Curtains          150.00   \n",
       "3        Atliq_Home_Essential_8_Product_Combo         2500.00   \n",
       "4             Atliq_Scrub_Sponge_For_Dishwash           13.75   \n",
       "...                                       ...             ...   \n",
       "1495      Atliq_Lime_Cool_Bathing_Bar (125GM)           31.00   \n",
       "1496  Atliq_Cream_Beauty_Bathing_Soap (125GM)           12.50   \n",
       "1497      Atliq_Lime_Cool_Bathing_Bar (125GM)           31.00   \n",
       "1498              Atliq_High_Glo_15W_LED_Bulb          175.00   \n",
       "1499      Atliq_Lime_Cool_Bathing_Bar (125GM)           31.00   \n",
       "\n",
       "      revenue_before_promo  revenue_after_promo  \n",
       "0                     6460              4940.00  \n",
       "1                    61308             37674.00  \n",
       "2                     6600             12750.00  \n",
       "3                   987000            500000.00  \n",
       "4                     5940              3836.25  \n",
       "...                    ...                  ...  \n",
       "1495                  3782              2604.00  \n",
       "1496                  1100               675.00  \n",
       "1497                  4960              3689.00  \n",
       "1498                 25550             49350.00  \n",
       "1499                  3224              2263.00  \n",
       "\n",
       "[1500 rows x 17 columns]"
      ]
     },
     "execution_count": 99,
     "metadata": {},
     "output_type": "execute_result"
    }
   ],
   "source": [
    "event_data_clean"
   ]
  },
  {
   "cell_type": "code",
   "execution_count": 100,
   "id": "252c456d",
   "metadata": {},
   "outputs": [
    {
     "data": {
      "application/vnd.plotly.v1+json": {
       "config": {
        "plotlyServerURL": "https://plot.ly"
       },
       "data": [
        {
         "customdata": [
          [
           "Atliq_Doodh_Kesar_Body_Lotion (200ML)",
           "Personal Care",
           "coimbatore"
          ],
          [
           "Atliq_Doodh_Kesar_Body_Lotion (200ML)",
           "Personal Care",
           "bengaluru"
          ],
          [
           "Atliq_Lime_Cool_Bathing_Bar (125GM)",
           "Personal Care",
           "chennai"
          ],
          [
           "Atliq_Doodh_Kesar_Body_Lotion (200ML)",
           "Personal Care",
           "bengaluru"
          ],
          [
           "Atliq_Doodh_Kesar_Body_Lotion (200ML)",
           "Personal Care",
           "madurai"
          ],
          [
           "Atliq_Lime_Cool_Bathing_Bar (125GM)",
           "Personal Care",
           "hyderabad"
          ],
          [
           "Atliq_Doodh_Kesar_Body_Lotion (200ML)",
           "Personal Care",
           "mangalore"
          ],
          [
           "Atliq_Body_Milk_Nourishing_Lotion (120ML)",
           "Personal Care",
           "mangalore"
          ],
          [
           "Atliq_Doodh_Kesar_Body_Lotion (200ML)",
           "Personal Care",
           "vijayawada"
          ],
          [
           "Atliq_Cream_Beauty_Bathing_Soap (125GM)",
           "Personal Care",
           "vijayawada"
          ],
          [
           "Atliq_Lime_Cool_Bathing_Bar (125GM)",
           "Personal Care",
           "hyderabad"
          ],
          [
           "Atliq_Cream_Beauty_Bathing_Soap (125GM)",
           "Personal Care",
           "mangalore"
          ],
          [
           "Atliq_Doodh_Kesar_Body_Lotion (200ML)",
           "Personal Care",
           "hyderabad"
          ],
          [
           "Atliq_Doodh_Kesar_Body_Lotion (200ML)",
           "Personal Care",
           "chennai"
          ],
          [
           "Atliq_Body_Milk_Nourishing_Lotion (120ML)",
           "Personal Care",
           "bengaluru"
          ],
          [
           "Atliq_Lime_Cool_Bathing_Bar (125GM)",
           "Personal Care",
           "chennai"
          ],
          [
           "Atliq_Lime_Cool_Bathing_Bar (125GM)",
           "Personal Care",
           "mangalore"
          ],
          [
           "Atliq_Doodh_Kesar_Body_Lotion (200ML)",
           "Personal Care",
           "chennai"
          ],
          [
           "Atliq_Doodh_Kesar_Body_Lotion (200ML)",
           "Personal Care",
           "hyderabad"
          ],
          [
           "Atliq_Body_Milk_Nourishing_Lotion (120ML)",
           "Personal Care",
           "mysuru"
          ],
          [
           "Atliq_Cream_Beauty_Bathing_Soap (125GM)",
           "Personal Care",
           "madurai"
          ],
          [
           "Atliq_Cream_Beauty_Bathing_Soap (125GM)",
           "Personal Care",
           "bengaluru"
          ],
          [
           "Atliq_Cream_Beauty_Bathing_Soap (125GM)",
           "Personal Care",
           "visakhapatnam"
          ],
          [
           "Atliq_Body_Milk_Nourishing_Lotion (120ML)",
           "Personal Care",
           "hyderabad"
          ],
          [
           "Atliq_Lime_Cool_Bathing_Bar (125GM)",
           "Personal Care",
           "mangalore"
          ],
          [
           "Atliq_Cream_Beauty_Bathing_Soap (125GM)",
           "Personal Care",
           "mysuru"
          ],
          [
           "Atliq_Cream_Beauty_Bathing_Soap (125GM)",
           "Personal Care",
           "trivandrum"
          ],
          [
           "Atliq_Lime_Cool_Bathing_Bar (125GM)",
           "Personal Care",
           "hyderabad"
          ],
          [
           "Atliq_Lime_Cool_Bathing_Bar (125GM)",
           "Personal Care",
           "coimbatore"
          ],
          [
           "Atliq_Doodh_Kesar_Body_Lotion (200ML)",
           "Personal Care",
           "mysuru"
          ],
          [
           "Atliq_Doodh_Kesar_Body_Lotion (200ML)",
           "Personal Care",
           "mangalore"
          ],
          [
           "Atliq_Doodh_Kesar_Body_Lotion (200ML)",
           "Personal Care",
           "hyderabad"
          ],
          [
           "Atliq_Body_Milk_Nourishing_Lotion (120ML)",
           "Personal Care",
           "madurai"
          ],
          [
           "Atliq_Doodh_Kesar_Body_Lotion (200ML)",
           "Personal Care",
           "visakhapatnam"
          ],
          [
           "Atliq_Lime_Cool_Bathing_Bar (125GM)",
           "Personal Care",
           "coimbatore"
          ],
          [
           "Atliq_Lime_Cool_Bathing_Bar (125GM)",
           "Personal Care",
           "mangalore"
          ],
          [
           "Atliq_Cream_Beauty_Bathing_Soap (125GM)",
           "Personal Care",
           "visakhapatnam"
          ],
          [
           "Atliq_Doodh_Kesar_Body_Lotion (200ML)",
           "Personal Care",
           "coimbatore"
          ],
          [
           "Atliq_Body_Milk_Nourishing_Lotion (120ML)",
           "Personal Care",
           "bengaluru"
          ],
          [
           "Atliq_Doodh_Kesar_Body_Lotion (200ML)",
           "Personal Care",
           "chennai"
          ],
          [
           "Atliq_Cream_Beauty_Bathing_Soap (125GM)",
           "Personal Care",
           "madurai"
          ],
          [
           "Atliq_Cream_Beauty_Bathing_Soap (125GM)",
           "Personal Care",
           "bengaluru"
          ],
          [
           "Atliq_Lime_Cool_Bathing_Bar (125GM)",
           "Personal Care",
           "bengaluru"
          ],
          [
           "Atliq_Cream_Beauty_Bathing_Soap (125GM)",
           "Personal Care",
           "hyderabad"
          ],
          [
           "Atliq_Doodh_Kesar_Body_Lotion (200ML)",
           "Personal Care",
           "madurai"
          ],
          [
           "Atliq_Lime_Cool_Bathing_Bar (125GM)",
           "Personal Care",
           "hyderabad"
          ],
          [
           "Atliq_Doodh_Kesar_Body_Lotion (200ML)",
           "Personal Care",
           "mysuru"
          ],
          [
           "Atliq_Lime_Cool_Bathing_Bar (125GM)",
           "Personal Care",
           "coimbatore"
          ],
          [
           "Atliq_Doodh_Kesar_Body_Lotion (200ML)",
           "Personal Care",
           "chennai"
          ],
          [
           "Atliq_Cream_Beauty_Bathing_Soap (125GM)",
           "Personal Care",
           "hyderabad"
          ],
          [
           "Atliq_Doodh_Kesar_Body_Lotion (200ML)",
           "Personal Care",
           "chennai"
          ],
          [
           "Atliq_Cream_Beauty_Bathing_Soap (125GM)",
           "Personal Care",
           "bengaluru"
          ],
          [
           "Atliq_Lime_Cool_Bathing_Bar (125GM)",
           "Personal Care",
           "chennai"
          ],
          [
           "Atliq_Cream_Beauty_Bathing_Soap (125GM)",
           "Personal Care",
           "coimbatore"
          ],
          [
           "Atliq_Lime_Cool_Bathing_Bar (125GM)",
           "Personal Care",
           "bengaluru"
          ],
          [
           "Atliq_Doodh_Kesar_Body_Lotion (200ML)",
           "Personal Care",
           "visakhapatnam"
          ],
          [
           "Atliq_Lime_Cool_Bathing_Bar (125GM)",
           "Personal Care",
           "vijayawada"
          ],
          [
           "Atliq_Doodh_Kesar_Body_Lotion (200ML)",
           "Personal Care",
           "visakhapatnam"
          ],
          [
           "Atliq_Cream_Beauty_Bathing_Soap (125GM)",
           "Personal Care",
           "mysuru"
          ],
          [
           "Atliq_Doodh_Kesar_Body_Lotion (200ML)",
           "Personal Care",
           "hyderabad"
          ],
          [
           "Atliq_Cream_Beauty_Bathing_Soap (125GM)",
           "Personal Care",
           "vijayawada"
          ],
          [
           "Atliq_Lime_Cool_Bathing_Bar (125GM)",
           "Personal Care",
           "bengaluru"
          ],
          [
           "Atliq_Doodh_Kesar_Body_Lotion (200ML)",
           "Personal Care",
           "hyderabad"
          ],
          [
           "Atliq_Lime_Cool_Bathing_Bar (125GM)",
           "Personal Care",
           "bengaluru"
          ],
          [
           "Atliq_Body_Milk_Nourishing_Lotion (120ML)",
           "Personal Care",
           "coimbatore"
          ],
          [
           "Atliq_Lime_Cool_Bathing_Bar (125GM)",
           "Personal Care",
           "coimbatore"
          ],
          [
           "Atliq_Doodh_Kesar_Body_Lotion (200ML)",
           "Personal Care",
           "trivandrum"
          ],
          [
           "Atliq_Cream_Beauty_Bathing_Soap (125GM)",
           "Personal Care",
           "bengaluru"
          ],
          [
           "Atliq_Doodh_Kesar_Body_Lotion (200ML)",
           "Personal Care",
           "mangalore"
          ],
          [
           "Atliq_Lime_Cool_Bathing_Bar (125GM)",
           "Personal Care",
           "mysuru"
          ],
          [
           "Atliq_Doodh_Kesar_Body_Lotion (200ML)",
           "Personal Care",
           "visakhapatnam"
          ],
          [
           "Atliq_Body_Milk_Nourishing_Lotion (120ML)",
           "Personal Care",
           "hyderabad"
          ],
          [
           "Atliq_Lime_Cool_Bathing_Bar (125GM)",
           "Personal Care",
           "hyderabad"
          ],
          [
           "Atliq_Lime_Cool_Bathing_Bar (125GM)",
           "Personal Care",
           "visakhapatnam"
          ],
          [
           "Atliq_Doodh_Kesar_Body_Lotion (200ML)",
           "Personal Care",
           "bengaluru"
          ],
          [
           "Atliq_Lime_Cool_Bathing_Bar (125GM)",
           "Personal Care",
           "hyderabad"
          ],
          [
           "Atliq_Doodh_Kesar_Body_Lotion (200ML)",
           "Personal Care",
           "bengaluru"
          ],
          [
           "Atliq_Body_Milk_Nourishing_Lotion (120ML)",
           "Personal Care",
           "chennai"
          ],
          [
           "Atliq_Cream_Beauty_Bathing_Soap (125GM)",
           "Personal Care",
           "chennai"
          ],
          [
           "Atliq_Body_Milk_Nourishing_Lotion (120ML)",
           "Personal Care",
           "bengaluru"
          ],
          [
           "Atliq_Lime_Cool_Bathing_Bar (125GM)",
           "Personal Care",
           "visakhapatnam"
          ],
          [
           "Atliq_Lime_Cool_Bathing_Bar (125GM)",
           "Personal Care",
           "chennai"
          ],
          [
           "Atliq_Lime_Cool_Bathing_Bar (125GM)",
           "Personal Care",
           "madurai"
          ],
          [
           "Atliq_Lime_Cool_Bathing_Bar (125GM)",
           "Personal Care",
           "vijayawada"
          ],
          [
           "Atliq_Doodh_Kesar_Body_Lotion (200ML)",
           "Personal Care",
           "mysuru"
          ],
          [
           "Atliq_Doodh_Kesar_Body_Lotion (200ML)",
           "Personal Care",
           "vijayawada"
          ],
          [
           "Atliq_Lime_Cool_Bathing_Bar (125GM)",
           "Personal Care",
           "bengaluru"
          ],
          [
           "Atliq_Doodh_Kesar_Body_Lotion (200ML)",
           "Personal Care",
           "hyderabad"
          ],
          [
           "Atliq_Body_Milk_Nourishing_Lotion (120ML)",
           "Personal Care",
           "chennai"
          ],
          [
           "Atliq_Body_Milk_Nourishing_Lotion (120ML)",
           "Personal Care",
           "coimbatore"
          ],
          [
           "Atliq_Cream_Beauty_Bathing_Soap (125GM)",
           "Personal Care",
           "bengaluru"
          ],
          [
           "Atliq_Doodh_Kesar_Body_Lotion (200ML)",
           "Personal Care",
           "madurai"
          ],
          [
           "Atliq_Cream_Beauty_Bathing_Soap (125GM)",
           "Personal Care",
           "chennai"
          ],
          [
           "Atliq_Lime_Cool_Bathing_Bar (125GM)",
           "Personal Care",
           "chennai"
          ],
          [
           "Atliq_Body_Milk_Nourishing_Lotion (120ML)",
           "Personal Care",
           "vijayawada"
          ],
          [
           "Atliq_Cream_Beauty_Bathing_Soap (125GM)",
           "Personal Care",
           "visakhapatnam"
          ],
          [
           "Atliq_Body_Milk_Nourishing_Lotion (120ML)",
           "Personal Care",
           "vijayawada"
          ],
          [
           "Atliq_Doodh_Kesar_Body_Lotion (200ML)",
           "Personal Care",
           "madurai"
          ],
          [
           "Atliq_Body_Milk_Nourishing_Lotion (120ML)",
           "Personal Care",
           "mangalore"
          ],
          [
           "Atliq_Doodh_Kesar_Body_Lotion (200ML)",
           "Personal Care",
           "bengaluru"
          ],
          [
           "Atliq_Cream_Beauty_Bathing_Soap (125GM)",
           "Personal Care",
           "chennai"
          ],
          [
           "Atliq_Cream_Beauty_Bathing_Soap (125GM)",
           "Personal Care",
           "hyderabad"
          ],
          [
           "Atliq_Lime_Cool_Bathing_Bar (125GM)",
           "Personal Care",
           "trivandrum"
          ],
          [
           "Atliq_Body_Milk_Nourishing_Lotion (120ML)",
           "Personal Care",
           "hyderabad"
          ],
          [
           "Atliq_Lime_Cool_Bathing_Bar (125GM)",
           "Personal Care",
           "hyderabad"
          ],
          [
           "Atliq_Lime_Cool_Bathing_Bar (125GM)",
           "Personal Care",
           "coimbatore"
          ],
          [
           "Atliq_Doodh_Kesar_Body_Lotion (200ML)",
           "Personal Care",
           "madurai"
          ],
          [
           "Atliq_Doodh_Kesar_Body_Lotion (200ML)",
           "Personal Care",
           "chennai"
          ],
          [
           "Atliq_Doodh_Kesar_Body_Lotion (200ML)",
           "Personal Care",
           "mysuru"
          ],
          [
           "Atliq_Lime_Cool_Bathing_Bar (125GM)",
           "Personal Care",
           "mysuru"
          ],
          [
           "Atliq_Body_Milk_Nourishing_Lotion (120ML)",
           "Personal Care",
           "chennai"
          ],
          [
           "Atliq_Body_Milk_Nourishing_Lotion (120ML)",
           "Personal Care",
           "visakhapatnam"
          ],
          [
           "Atliq_Doodh_Kesar_Body_Lotion (200ML)",
           "Personal Care",
           "bengaluru"
          ],
          [
           "Atliq_Doodh_Kesar_Body_Lotion (200ML)",
           "Personal Care",
           "chennai"
          ],
          [
           "Atliq_Doodh_Kesar_Body_Lotion (200ML)",
           "Personal Care",
           "visakhapatnam"
          ],
          [
           "Atliq_Body_Milk_Nourishing_Lotion (120ML)",
           "Personal Care",
           "chennai"
          ],
          [
           "Atliq_Lime_Cool_Bathing_Bar (125GM)",
           "Personal Care",
           "bengaluru"
          ],
          [
           "Atliq_Lime_Cool_Bathing_Bar (125GM)",
           "Personal Care",
           "bengaluru"
          ],
          [
           "Atliq_Body_Milk_Nourishing_Lotion (120ML)",
           "Personal Care",
           "bengaluru"
          ],
          [
           "Atliq_Doodh_Kesar_Body_Lotion (200ML)",
           "Personal Care",
           "visakhapatnam"
          ],
          [
           "Atliq_Lime_Cool_Bathing_Bar (125GM)",
           "Personal Care",
           "visakhapatnam"
          ],
          [
           "Atliq_Lime_Cool_Bathing_Bar (125GM)",
           "Personal Care",
           "mangalore"
          ],
          [
           "Atliq_Lime_Cool_Bathing_Bar (125GM)",
           "Personal Care",
           "visakhapatnam"
          ],
          [
           "Atliq_Doodh_Kesar_Body_Lotion (200ML)",
           "Personal Care",
           "madurai"
          ],
          [
           "Atliq_Lime_Cool_Bathing_Bar (125GM)",
           "Personal Care",
           "mangalore"
          ],
          [
           "Atliq_Body_Milk_Nourishing_Lotion (120ML)",
           "Personal Care",
           "mysuru"
          ],
          [
           "Atliq_Lime_Cool_Bathing_Bar (125GM)",
           "Personal Care",
           "chennai"
          ],
          [
           "Atliq_Cream_Beauty_Bathing_Soap (125GM)",
           "Personal Care",
           "madurai"
          ],
          [
           "Atliq_Cream_Beauty_Bathing_Soap (125GM)",
           "Personal Care",
           "visakhapatnam"
          ],
          [
           "Atliq_Lime_Cool_Bathing_Bar (125GM)",
           "Personal Care",
           "trivandrum"
          ],
          [
           "Atliq_Body_Milk_Nourishing_Lotion (120ML)",
           "Personal Care",
           "chennai"
          ],
          [
           "Atliq_Lime_Cool_Bathing_Bar (125GM)",
           "Personal Care",
           "coimbatore"
          ],
          [
           "Atliq_Body_Milk_Nourishing_Lotion (120ML)",
           "Personal Care",
           "bengaluru"
          ],
          [
           "Atliq_Lime_Cool_Bathing_Bar (125GM)",
           "Personal Care",
           "bengaluru"
          ],
          [
           "Atliq_Cream_Beauty_Bathing_Soap (125GM)",
           "Personal Care",
           "bengaluru"
          ],
          [
           "Atliq_Doodh_Kesar_Body_Lotion (200ML)",
           "Personal Care",
           "hyderabad"
          ],
          [
           "Atliq_Doodh_Kesar_Body_Lotion (200ML)",
           "Personal Care",
           "coimbatore"
          ],
          [
           "Atliq_Lime_Cool_Bathing_Bar (125GM)",
           "Personal Care",
           "madurai"
          ],
          [
           "Atliq_Doodh_Kesar_Body_Lotion (200ML)",
           "Personal Care",
           "trivandrum"
          ],
          [
           "Atliq_Doodh_Kesar_Body_Lotion (200ML)",
           "Personal Care",
           "vijayawada"
          ],
          [
           "Atliq_Doodh_Kesar_Body_Lotion (200ML)",
           "Personal Care",
           "bengaluru"
          ],
          [
           "Atliq_Body_Milk_Nourishing_Lotion (120ML)",
           "Personal Care",
           "trivandrum"
          ],
          [
           "Atliq_Lime_Cool_Bathing_Bar (125GM)",
           "Personal Care",
           "bengaluru"
          ],
          [
           "Atliq_Doodh_Kesar_Body_Lotion (200ML)",
           "Personal Care",
           "coimbatore"
          ],
          [
           "Atliq_Cream_Beauty_Bathing_Soap (125GM)",
           "Personal Care",
           "coimbatore"
          ],
          [
           "Atliq_Cream_Beauty_Bathing_Soap (125GM)",
           "Personal Care",
           "chennai"
          ],
          [
           "Atliq_Lime_Cool_Bathing_Bar (125GM)",
           "Personal Care",
           "chennai"
          ],
          [
           "Atliq_Doodh_Kesar_Body_Lotion (200ML)",
           "Personal Care",
           "coimbatore"
          ],
          [
           "Atliq_Doodh_Kesar_Body_Lotion (200ML)",
           "Personal Care",
           "coimbatore"
          ],
          [
           "Atliq_Body_Milk_Nourishing_Lotion (120ML)",
           "Personal Care",
           "coimbatore"
          ],
          [
           "Atliq_Doodh_Kesar_Body_Lotion (200ML)",
           "Personal Care",
           "bengaluru"
          ],
          [
           "Atliq_Lime_Cool_Bathing_Bar (125GM)",
           "Personal Care",
           "madurai"
          ],
          [
           "Atliq_Cream_Beauty_Bathing_Soap (125GM)",
           "Personal Care",
           "mysuru"
          ],
          [
           "Atliq_Lime_Cool_Bathing_Bar (125GM)",
           "Personal Care",
           "chennai"
          ],
          [
           "Atliq_Cream_Beauty_Bathing_Soap (125GM)",
           "Personal Care",
           "mangalore"
          ],
          [
           "Atliq_Cream_Beauty_Bathing_Soap (125GM)",
           "Personal Care",
           "chennai"
          ],
          [
           "Atliq_Doodh_Kesar_Body_Lotion (200ML)",
           "Personal Care",
           "bengaluru"
          ],
          [
           "Atliq_Body_Milk_Nourishing_Lotion (120ML)",
           "Personal Care",
           "mysuru"
          ],
          [
           "Atliq_Doodh_Kesar_Body_Lotion (200ML)",
           "Personal Care",
           "bengaluru"
          ],
          [
           "Atliq_Doodh_Kesar_Body_Lotion (200ML)",
           "Personal Care",
           "chennai"
          ],
          [
           "Atliq_Lime_Cool_Bathing_Bar (125GM)",
           "Personal Care",
           "mysuru"
          ],
          [
           "Atliq_Lime_Cool_Bathing_Bar (125GM)",
           "Personal Care",
           "hyderabad"
          ],
          [
           "Atliq_Body_Milk_Nourishing_Lotion (120ML)",
           "Personal Care",
           "trivandrum"
          ],
          [
           "Atliq_Doodh_Kesar_Body_Lotion (200ML)",
           "Personal Care",
           "hyderabad"
          ],
          [
           "Atliq_Doodh_Kesar_Body_Lotion (200ML)",
           "Personal Care",
           "bengaluru"
          ],
          [
           "Atliq_Body_Milk_Nourishing_Lotion (120ML)",
           "Personal Care",
           "chennai"
          ],
          [
           "Atliq_Lime_Cool_Bathing_Bar (125GM)",
           "Personal Care",
           "coimbatore"
          ],
          [
           "Atliq_Cream_Beauty_Bathing_Soap (125GM)",
           "Personal Care",
           "bengaluru"
          ],
          [
           "Atliq_Body_Milk_Nourishing_Lotion (120ML)",
           "Personal Care",
           "bengaluru"
          ],
          [
           "Atliq_Doodh_Kesar_Body_Lotion (200ML)",
           "Personal Care",
           "bengaluru"
          ],
          [
           "Atliq_Doodh_Kesar_Body_Lotion (200ML)",
           "Personal Care",
           "visakhapatnam"
          ],
          [
           "Atliq_Lime_Cool_Bathing_Bar (125GM)",
           "Personal Care",
           "chennai"
          ],
          [
           "Atliq_Lime_Cool_Bathing_Bar (125GM)",
           "Personal Care",
           "bengaluru"
          ],
          [
           "Atliq_Doodh_Kesar_Body_Lotion (200ML)",
           "Personal Care",
           "mangalore"
          ],
          [
           "Atliq_Doodh_Kesar_Body_Lotion (200ML)",
           "Personal Care",
           "hyderabad"
          ],
          [
           "Atliq_Body_Milk_Nourishing_Lotion (120ML)",
           "Personal Care",
           "visakhapatnam"
          ],
          [
           "Atliq_Lime_Cool_Bathing_Bar (125GM)",
           "Personal Care",
           "mysuru"
          ],
          [
           "Atliq_Body_Milk_Nourishing_Lotion (120ML)",
           "Personal Care",
           "chennai"
          ],
          [
           "Atliq_Doodh_Kesar_Body_Lotion (200ML)",
           "Personal Care",
           "coimbatore"
          ],
          [
           "Atliq_Lime_Cool_Bathing_Bar (125GM)",
           "Personal Care",
           "trivandrum"
          ],
          [
           "Atliq_Lime_Cool_Bathing_Bar (125GM)",
           "Personal Care",
           "mangalore"
          ],
          [
           "Atliq_Doodh_Kesar_Body_Lotion (200ML)",
           "Personal Care",
           "hyderabad"
          ],
          [
           "Atliq_Body_Milk_Nourishing_Lotion (120ML)",
           "Personal Care",
           "bengaluru"
          ],
          [
           "Atliq_Doodh_Kesar_Body_Lotion (200ML)",
           "Personal Care",
           "mysuru"
          ],
          [
           "Atliq_Lime_Cool_Bathing_Bar (125GM)",
           "Personal Care",
           "visakhapatnam"
          ],
          [
           "Atliq_Doodh_Kesar_Body_Lotion (200ML)",
           "Personal Care",
           "trivandrum"
          ],
          [
           "Atliq_Doodh_Kesar_Body_Lotion (200ML)",
           "Personal Care",
           "bengaluru"
          ],
          [
           "Atliq_Doodh_Kesar_Body_Lotion (200ML)",
           "Personal Care",
           "bengaluru"
          ],
          [
           "Atliq_Lime_Cool_Bathing_Bar (125GM)",
           "Personal Care",
           "coimbatore"
          ],
          [
           "Atliq_Lime_Cool_Bathing_Bar (125GM)",
           "Personal Care",
           "mysuru"
          ],
          [
           "Atliq_Doodh_Kesar_Body_Lotion (200ML)",
           "Personal Care",
           "coimbatore"
          ],
          [
           "Atliq_Lime_Cool_Bathing_Bar (125GM)",
           "Personal Care",
           "chennai"
          ],
          [
           "Atliq_Doodh_Kesar_Body_Lotion (200ML)",
           "Personal Care",
           "vijayawada"
          ],
          [
           "Atliq_Body_Milk_Nourishing_Lotion (120ML)",
           "Personal Care",
           "visakhapatnam"
          ],
          [
           "Atliq_Lime_Cool_Bathing_Bar (125GM)",
           "Personal Care",
           "madurai"
          ],
          [
           "Atliq_Lime_Cool_Bathing_Bar (125GM)",
           "Personal Care",
           "chennai"
          ],
          [
           "Atliq_Doodh_Kesar_Body_Lotion (200ML)",
           "Personal Care",
           "visakhapatnam"
          ],
          [
           "Atliq_Lime_Cool_Bathing_Bar (125GM)",
           "Personal Care",
           "bengaluru"
          ],
          [
           "Atliq_Body_Milk_Nourishing_Lotion (120ML)",
           "Personal Care",
           "chennai"
          ],
          [
           "Atliq_Lime_Cool_Bathing_Bar (125GM)",
           "Personal Care",
           "visakhapatnam"
          ],
          [
           "Atliq_Body_Milk_Nourishing_Lotion (120ML)",
           "Personal Care",
           "madurai"
          ],
          [
           "Atliq_Lime_Cool_Bathing_Bar (125GM)",
           "Personal Care",
           "chennai"
          ],
          [
           "Atliq_Doodh_Kesar_Body_Lotion (200ML)",
           "Personal Care",
           "hyderabad"
          ],
          [
           "Atliq_Cream_Beauty_Bathing_Soap (125GM)",
           "Personal Care",
           "chennai"
          ],
          [
           "Atliq_Doodh_Kesar_Body_Lotion (200ML)",
           "Personal Care",
           "chennai"
          ],
          [
           "Atliq_Lime_Cool_Bathing_Bar (125GM)",
           "Personal Care",
           "chennai"
          ],
          [
           "Atliq_Doodh_Kesar_Body_Lotion (200ML)",
           "Personal Care",
           "bengaluru"
          ],
          [
           "Atliq_Doodh_Kesar_Body_Lotion (200ML)",
           "Personal Care",
           "madurai"
          ],
          [
           "Atliq_Cream_Beauty_Bathing_Soap (125GM)",
           "Personal Care",
           "bengaluru"
          ],
          [
           "Atliq_Cream_Beauty_Bathing_Soap (125GM)",
           "Personal Care",
           "visakhapatnam"
          ],
          [
           "Atliq_Doodh_Kesar_Body_Lotion (200ML)",
           "Personal Care",
           "visakhapatnam"
          ],
          [
           "Atliq_Cream_Beauty_Bathing_Soap (125GM)",
           "Personal Care",
           "chennai"
          ],
          [
           "Atliq_Doodh_Kesar_Body_Lotion (200ML)",
           "Personal Care",
           "mysuru"
          ],
          [
           "Atliq_Doodh_Kesar_Body_Lotion (200ML)",
           "Personal Care",
           "bengaluru"
          ],
          [
           "Atliq_Doodh_Kesar_Body_Lotion (200ML)",
           "Personal Care",
           "mysuru"
          ],
          [
           "Atliq_Lime_Cool_Bathing_Bar (125GM)",
           "Personal Care",
           "bengaluru"
          ],
          [
           "Atliq_Lime_Cool_Bathing_Bar (125GM)",
           "Personal Care",
           "chennai"
          ],
          [
           "Atliq_Doodh_Kesar_Body_Lotion (200ML)",
           "Personal Care",
           "hyderabad"
          ],
          [
           "Atliq_Cream_Beauty_Bathing_Soap (125GM)",
           "Personal Care",
           "coimbatore"
          ],
          [
           "Atliq_Cream_Beauty_Bathing_Soap (125GM)",
           "Personal Care",
           "hyderabad"
          ],
          [
           "Atliq_Lime_Cool_Bathing_Bar (125GM)",
           "Personal Care",
           "visakhapatnam"
          ],
          [
           "Atliq_Body_Milk_Nourishing_Lotion (120ML)",
           "Personal Care",
           "coimbatore"
          ],
          [
           "Atliq_Lime_Cool_Bathing_Bar (125GM)",
           "Personal Care",
           "bengaluru"
          ],
          [
           "Atliq_Lime_Cool_Bathing_Bar (125GM)",
           "Personal Care",
           "coimbatore"
          ],
          [
           "Atliq_Lime_Cool_Bathing_Bar (125GM)",
           "Personal Care",
           "madurai"
          ],
          [
           "Atliq_Doodh_Kesar_Body_Lotion (200ML)",
           "Personal Care",
           "chennai"
          ],
          [
           "Atliq_Doodh_Kesar_Body_Lotion (200ML)",
           "Personal Care",
           "trivandrum"
          ],
          [
           "Atliq_Body_Milk_Nourishing_Lotion (120ML)",
           "Personal Care",
           "coimbatore"
          ],
          [
           "Atliq_Lime_Cool_Bathing_Bar (125GM)",
           "Personal Care",
           "hyderabad"
          ],
          [
           "Atliq_Body_Milk_Nourishing_Lotion (120ML)",
           "Personal Care",
           "visakhapatnam"
          ],
          [
           "Atliq_Body_Milk_Nourishing_Lotion (120ML)",
           "Personal Care",
           "mysuru"
          ],
          [
           "Atliq_Doodh_Kesar_Body_Lotion (200ML)",
           "Personal Care",
           "mysuru"
          ],
          [
           "Atliq_Body_Milk_Nourishing_Lotion (120ML)",
           "Personal Care",
           "mangalore"
          ],
          [
           "Atliq_Body_Milk_Nourishing_Lotion (120ML)",
           "Personal Care",
           "bengaluru"
          ],
          [
           "Atliq_Lime_Cool_Bathing_Bar (125GM)",
           "Personal Care",
           "madurai"
          ],
          [
           "Atliq_Cream_Beauty_Bathing_Soap (125GM)",
           "Personal Care",
           "madurai"
          ],
          [
           "Atliq_Doodh_Kesar_Body_Lotion (200ML)",
           "Personal Care",
           "coimbatore"
          ],
          [
           "Atliq_Lime_Cool_Bathing_Bar (125GM)",
           "Personal Care",
           "chennai"
          ],
          [
           "Atliq_Doodh_Kesar_Body_Lotion (200ML)",
           "Personal Care",
           "bengaluru"
          ],
          [
           "Atliq_Lime_Cool_Bathing_Bar (125GM)",
           "Personal Care",
           "visakhapatnam"
          ],
          [
           "Atliq_Body_Milk_Nourishing_Lotion (120ML)",
           "Personal Care",
           "hyderabad"
          ],
          [
           "Atliq_Doodh_Kesar_Body_Lotion (200ML)",
           "Personal Care",
           "hyderabad"
          ],
          [
           "Atliq_Lime_Cool_Bathing_Bar (125GM)",
           "Personal Care",
           "hyderabad"
          ],
          [
           "Atliq_Lime_Cool_Bathing_Bar (125GM)",
           "Personal Care",
           "madurai"
          ],
          [
           "Atliq_Body_Milk_Nourishing_Lotion (120ML)",
           "Personal Care",
           "hyderabad"
          ],
          [
           "Atliq_Doodh_Kesar_Body_Lotion (200ML)",
           "Personal Care",
           "chennai"
          ],
          [
           "Atliq_Doodh_Kesar_Body_Lotion (200ML)",
           "Personal Care",
           "chennai"
          ],
          [
           "Atliq_Doodh_Kesar_Body_Lotion (200ML)",
           "Personal Care",
           "visakhapatnam"
          ],
          [
           "Atliq_Body_Milk_Nourishing_Lotion (120ML)",
           "Personal Care",
           "hyderabad"
          ],
          [
           "Atliq_Cream_Beauty_Bathing_Soap (125GM)",
           "Personal Care",
           "coimbatore"
          ],
          [
           "Atliq_Body_Milk_Nourishing_Lotion (120ML)",
           "Personal Care",
           "madurai"
          ],
          [
           "Atliq_Body_Milk_Nourishing_Lotion (120ML)",
           "Personal Care",
           "visakhapatnam"
          ],
          [
           "Atliq_Cream_Beauty_Bathing_Soap (125GM)",
           "Personal Care",
           "hyderabad"
          ],
          [
           "Atliq_Doodh_Kesar_Body_Lotion (200ML)",
           "Personal Care",
           "chennai"
          ],
          [
           "Atliq_Cream_Beauty_Bathing_Soap (125GM)",
           "Personal Care",
           "bengaluru"
          ],
          [
           "Atliq_Lime_Cool_Bathing_Bar (125GM)",
           "Personal Care",
           "bengaluru"
          ],
          [
           "Atliq_Lime_Cool_Bathing_Bar (125GM)",
           "Personal Care",
           "vijayawada"
          ],
          [
           "Atliq_Doodh_Kesar_Body_Lotion (200ML)",
           "Personal Care",
           "bengaluru"
          ],
          [
           "Atliq_Doodh_Kesar_Body_Lotion (200ML)",
           "Personal Care",
           "chennai"
          ],
          [
           "Atliq_Lime_Cool_Bathing_Bar (125GM)",
           "Personal Care",
           "bengaluru"
          ],
          [
           "Atliq_Cream_Beauty_Bathing_Soap (125GM)",
           "Personal Care",
           "trivandrum"
          ],
          [
           "Atliq_Lime_Cool_Bathing_Bar (125GM)",
           "Personal Care",
           "hyderabad"
          ],
          [
           "Atliq_Cream_Beauty_Bathing_Soap (125GM)",
           "Personal Care",
           "hyderabad"
          ],
          [
           "Atliq_Lime_Cool_Bathing_Bar (125GM)",
           "Personal Care",
           "bengaluru"
          ],
          [
           "Atliq_Doodh_Kesar_Body_Lotion (200ML)",
           "Personal Care",
           "chennai"
          ],
          [
           "Atliq_Doodh_Kesar_Body_Lotion (200ML)",
           "Personal Care",
           "chennai"
          ],
          [
           "Atliq_Lime_Cool_Bathing_Bar (125GM)",
           "Personal Care",
           "hyderabad"
          ],
          [
           "Atliq_Doodh_Kesar_Body_Lotion (200ML)",
           "Personal Care",
           "mangalore"
          ],
          [
           "Atliq_Doodh_Kesar_Body_Lotion (200ML)",
           "Personal Care",
           "madurai"
          ],
          [
           "Atliq_Lime_Cool_Bathing_Bar (125GM)",
           "Personal Care",
           "visakhapatnam"
          ],
          [
           "Atliq_Lime_Cool_Bathing_Bar (125GM)",
           "Personal Care",
           "trivandrum"
          ],
          [
           "Atliq_Lime_Cool_Bathing_Bar (125GM)",
           "Personal Care",
           "hyderabad"
          ],
          [
           "Atliq_Lime_Cool_Bathing_Bar (125GM)",
           "Personal Care",
           "mysuru"
          ],
          [
           "Atliq_Cream_Beauty_Bathing_Soap (125GM)",
           "Personal Care",
           "mysuru"
          ],
          [
           "Atliq_Cream_Beauty_Bathing_Soap (125GM)",
           "Personal Care",
           "hyderabad"
          ],
          [
           "Atliq_Body_Milk_Nourishing_Lotion (120ML)",
           "Personal Care",
           "madurai"
          ],
          [
           "Atliq_Lime_Cool_Bathing_Bar (125GM)",
           "Personal Care",
           "vijayawada"
          ],
          [
           "Atliq_Doodh_Kesar_Body_Lotion (200ML)",
           "Personal Care",
           "bengaluru"
          ],
          [
           "Atliq_Lime_Cool_Bathing_Bar (125GM)",
           "Personal Care",
           "mysuru"
          ],
          [
           "Atliq_Cream_Beauty_Bathing_Soap (125GM)",
           "Personal Care",
           "chennai"
          ],
          [
           "Atliq_Lime_Cool_Bathing_Bar (125GM)",
           "Personal Care",
           "visakhapatnam"
          ],
          [
           "Atliq_Lime_Cool_Bathing_Bar (125GM)",
           "Personal Care",
           "madurai"
          ],
          [
           "Atliq_Doodh_Kesar_Body_Lotion (200ML)",
           "Personal Care",
           "coimbatore"
          ],
          [
           "Atliq_Lime_Cool_Bathing_Bar (125GM)",
           "Personal Care",
           "mysuru"
          ],
          [
           "Atliq_Cream_Beauty_Bathing_Soap (125GM)",
           "Personal Care",
           "mangalore"
          ],
          [
           "Atliq_Cream_Beauty_Bathing_Soap (125GM)",
           "Personal Care",
           "coimbatore"
          ],
          [
           "Atliq_Lime_Cool_Bathing_Bar (125GM)",
           "Personal Care",
           "bengaluru"
          ],
          [
           "Atliq_Doodh_Kesar_Body_Lotion (200ML)",
           "Personal Care",
           "bengaluru"
          ],
          [
           "Atliq_Cream_Beauty_Bathing_Soap (125GM)",
           "Personal Care",
           "bengaluru"
          ],
          [
           "Atliq_Body_Milk_Nourishing_Lotion (120ML)",
           "Personal Care",
           "hyderabad"
          ],
          [
           "Atliq_Lime_Cool_Bathing_Bar (125GM)",
           "Personal Care",
           "hyderabad"
          ],
          [
           "Atliq_Body_Milk_Nourishing_Lotion (120ML)",
           "Personal Care",
           "bengaluru"
          ],
          [
           "Atliq_Doodh_Kesar_Body_Lotion (200ML)",
           "Personal Care",
           "hyderabad"
          ],
          [
           "Atliq_Lime_Cool_Bathing_Bar (125GM)",
           "Personal Care",
           "chennai"
          ],
          [
           "Atliq_Doodh_Kesar_Body_Lotion (200ML)",
           "Personal Care",
           "mangalore"
          ],
          [
           "Atliq_Lime_Cool_Bathing_Bar (125GM)",
           "Personal Care",
           "bengaluru"
          ],
          [
           "Atliq_Body_Milk_Nourishing_Lotion (120ML)",
           "Personal Care",
           "bengaluru"
          ],
          [
           "Atliq_Lime_Cool_Bathing_Bar (125GM)",
           "Personal Care",
           "bengaluru"
          ],
          [
           "Atliq_Lime_Cool_Bathing_Bar (125GM)",
           "Personal Care",
           "coimbatore"
          ],
          [
           "Atliq_Lime_Cool_Bathing_Bar (125GM)",
           "Personal Care",
           "bengaluru"
          ]
         ],
         "hovertemplate": "promo_type=%{x}<br>base_price=%{marker.size}<br>product_name=%{customdata[0]}<br>category=%{customdata[1]}<br>city=%{customdata[2]}<extra></extra>",
         "legendgroup": "50% OFF",
         "marker": {
          "color": "#636efa",
          "opacity": 0.7,
          "size": {
           "bdata": "vgC+AD4AvgC+AD4AvgBuAL4AQQA+AEEAvgC+AG4APgA+AL4AvgBuAEEAQQBBAG4APgBBAEEAPgA+AL4AvgC+AG4AvgA+AD4AQQC+AG4AvgBBAEEAPgBBAL4APgC+AD4AvgBBAL4AQQA+AEEAPgC+AD4AvgBBAL4AQQA+AL4APgBuAD4AvgBBAL4APgC+AG4APgA+AL4APgC+AG4AQQBuAD4APgA+AD4AvgC+AD4AvgBuAG4AQQC+AEEAPgBuAEEAbgC+AG4AvgBBAEEAPgBuAD4APgC+AL4AvgA+AG4AbgC+AL4AvgBuAD4APgBuAL4APgA+AD4AvgA+AG4APgBBAEEAPgBuAD4AbgA+AEEAvgC+AD4AvgC+AL4AbgA+AL4AQQBBAD4AvgC+AG4AvgA+AEEAPgBBAEEAvgBuAL4AvgA+AD4AbgC+AL4AbgA+AEEAbgC+AL4APgA+AL4AvgBuAD4AbgC+AD4APgC+AG4AvgA+AL4AvgC+AD4APgC+AD4AvgBuAD4APgC+AD4AbgA+AG4APgC+AEEAvgA+AL4AvgBBAEEAvgBBAL4AvgC+AD4APgC+AEEAQQA+AG4APgA+AD4AvgC+AG4APgBuAG4AvgBuAG4APgBBAL4APgC+AD4AbgC+AD4APgBuAL4AvgC+AG4AQQBuAG4AQQC+AEEAPgA+AL4AvgA+AEEAPgBBAD4AvgC+AD4AvgC+AD4APgA+AD4AQQBBAG4APgC+AD4AQQA+AD4AvgA+AEEAQQA+AL4AQQBuAD4AbgC+AD4AvgA+AG4APgA+AD4A",
           "dtype": "i2"
          },
          "sizemode": "area",
          "sizeref": 7.5,
          "symbol": "circle"
         },
         "mode": "markers",
         "name": "50% OFF",
         "showlegend": true,
         "type": "scattergl",
         "x": [
          "50% OFF",
          "50% OFF",
          "50% OFF",
          "50% OFF",
          "50% OFF",
          "50% OFF",
          "50% OFF",
          "50% OFF",
          "50% OFF",
          "50% OFF",
          "50% OFF",
          "50% OFF",
          "50% OFF",
          "50% OFF",
          "50% OFF",
          "50% OFF",
          "50% OFF",
          "50% OFF",
          "50% OFF",
          "50% OFF",
          "50% OFF",
          "50% OFF",
          "50% OFF",
          "50% OFF",
          "50% OFF",
          "50% OFF",
          "50% OFF",
          "50% OFF",
          "50% OFF",
          "50% OFF",
          "50% OFF",
          "50% OFF",
          "50% OFF",
          "50% OFF",
          "50% OFF",
          "50% OFF",
          "50% OFF",
          "50% OFF",
          "50% OFF",
          "50% OFF",
          "50% OFF",
          "50% OFF",
          "50% OFF",
          "50% OFF",
          "50% OFF",
          "50% OFF",
          "50% OFF",
          "50% OFF",
          "50% OFF",
          "50% OFF",
          "50% OFF",
          "50% OFF",
          "50% OFF",
          "50% OFF",
          "50% OFF",
          "50% OFF",
          "50% OFF",
          "50% OFF",
          "50% OFF",
          "50% OFF",
          "50% OFF",
          "50% OFF",
          "50% OFF",
          "50% OFF",
          "50% OFF",
          "50% OFF",
          "50% OFF",
          "50% OFF",
          "50% OFF",
          "50% OFF",
          "50% OFF",
          "50% OFF",
          "50% OFF",
          "50% OFF",
          "50% OFF",
          "50% OFF",
          "50% OFF",
          "50% OFF",
          "50% OFF",
          "50% OFF",
          "50% OFF",
          "50% OFF",
          "50% OFF",
          "50% OFF",
          "50% OFF",
          "50% OFF",
          "50% OFF",
          "50% OFF",
          "50% OFF",
          "50% OFF",
          "50% OFF",
          "50% OFF",
          "50% OFF",
          "50% OFF",
          "50% OFF",
          "50% OFF",
          "50% OFF",
          "50% OFF",
          "50% OFF",
          "50% OFF",
          "50% OFF",
          "50% OFF",
          "50% OFF",
          "50% OFF",
          "50% OFF",
          "50% OFF",
          "50% OFF",
          "50% OFF",
          "50% OFF",
          "50% OFF",
          "50% OFF",
          "50% OFF",
          "50% OFF",
          "50% OFF",
          "50% OFF",
          "50% OFF",
          "50% OFF",
          "50% OFF",
          "50% OFF",
          "50% OFF",
          "50% OFF",
          "50% OFF",
          "50% OFF",
          "50% OFF",
          "50% OFF",
          "50% OFF",
          "50% OFF",
          "50% OFF",
          "50% OFF",
          "50% OFF",
          "50% OFF",
          "50% OFF",
          "50% OFF",
          "50% OFF",
          "50% OFF",
          "50% OFF",
          "50% OFF",
          "50% OFF",
          "50% OFF",
          "50% OFF",
          "50% OFF",
          "50% OFF",
          "50% OFF",
          "50% OFF",
          "50% OFF",
          "50% OFF",
          "50% OFF",
          "50% OFF",
          "50% OFF",
          "50% OFF",
          "50% OFF",
          "50% OFF",
          "50% OFF",
          "50% OFF",
          "50% OFF",
          "50% OFF",
          "50% OFF",
          "50% OFF",
          "50% OFF",
          "50% OFF",
          "50% OFF",
          "50% OFF",
          "50% OFF",
          "50% OFF",
          "50% OFF",
          "50% OFF",
          "50% OFF",
          "50% OFF",
          "50% OFF",
          "50% OFF",
          "50% OFF",
          "50% OFF",
          "50% OFF",
          "50% OFF",
          "50% OFF",
          "50% OFF",
          "50% OFF",
          "50% OFF",
          "50% OFF",
          "50% OFF",
          "50% OFF",
          "50% OFF",
          "50% OFF",
          "50% OFF",
          "50% OFF",
          "50% OFF",
          "50% OFF",
          "50% OFF",
          "50% OFF",
          "50% OFF",
          "50% OFF",
          "50% OFF",
          "50% OFF",
          "50% OFF",
          "50% OFF",
          "50% OFF",
          "50% OFF",
          "50% OFF",
          "50% OFF",
          "50% OFF",
          "50% OFF",
          "50% OFF",
          "50% OFF",
          "50% OFF",
          "50% OFF",
          "50% OFF",
          "50% OFF",
          "50% OFF",
          "50% OFF",
          "50% OFF",
          "50% OFF",
          "50% OFF",
          "50% OFF",
          "50% OFF",
          "50% OFF",
          "50% OFF",
          "50% OFF",
          "50% OFF",
          "50% OFF",
          "50% OFF",
          "50% OFF",
          "50% OFF",
          "50% OFF",
          "50% OFF",
          "50% OFF",
          "50% OFF",
          "50% OFF",
          "50% OFF",
          "50% OFF",
          "50% OFF",
          "50% OFF",
          "50% OFF",
          "50% OFF",
          "50% OFF",
          "50% OFF",
          "50% OFF",
          "50% OFF",
          "50% OFF",
          "50% OFF",
          "50% OFF",
          "50% OFF",
          "50% OFF",
          "50% OFF",
          "50% OFF",
          "50% OFF",
          "50% OFF",
          "50% OFF",
          "50% OFF",
          "50% OFF",
          "50% OFF",
          "50% OFF",
          "50% OFF",
          "50% OFF",
          "50% OFF",
          "50% OFF",
          "50% OFF",
          "50% OFF",
          "50% OFF",
          "50% OFF",
          "50% OFF",
          "50% OFF",
          "50% OFF",
          "50% OFF",
          "50% OFF",
          "50% OFF",
          "50% OFF",
          "50% OFF",
          "50% OFF",
          "50% OFF",
          "50% OFF",
          "50% OFF",
          "50% OFF",
          "50% OFF",
          "50% OFF",
          "50% OFF",
          "50% OFF",
          "50% OFF",
          "50% OFF",
          "50% OFF",
          "50% OFF",
          "50% OFF",
          "50% OFF",
          "50% OFF",
          "50% OFF",
          "50% OFF",
          "50% OFF",
          "50% OFF",
          "50% OFF",
          "50% OFF",
          "50% OFF",
          "50% OFF",
          "50% OFF",
          "50% OFF",
          "50% OFF",
          "50% OFF",
          "50% OFF",
          "50% OFF",
          "50% OFF",
          "50% OFF",
          "50% OFF"
         ],
         "xaxis": "x",
         "y": {
          "bdata": "vgC+AD4AvgC+AD4AvgBuAL4AQQA+AEEAvgC+AG4APgA+AL4AvgBuAEEAQQBBAG4APgBBAEEAPgA+AL4AvgC+AG4AvgA+AD4AQQC+AG4AvgBBAEEAPgBBAL4APgC+AD4AvgBBAL4AQQA+AEEAPgC+AD4AvgBBAL4AQQA+AL4APgBuAD4AvgBBAL4APgC+AG4APgA+AL4APgC+AG4AQQBuAD4APgA+AD4AvgC+AD4AvgBuAG4AQQC+AEEAPgBuAEEAbgC+AG4AvgBBAEEAPgBuAD4APgC+AL4AvgA+AG4AbgC+AL4AvgBuAD4APgBuAL4APgA+AD4AvgA+AG4APgBBAEEAPgBuAD4AbgA+AEEAvgC+AD4AvgC+AL4AbgA+AL4AQQBBAD4AvgC+AG4AvgA+AEEAPgBBAEEAvgBuAL4AvgA+AD4AbgC+AL4AbgA+AEEAbgC+AL4APgA+AL4AvgBuAD4AbgC+AD4APgC+AG4AvgA+AL4AvgC+AD4APgC+AD4AvgBuAD4APgC+AD4AbgA+AG4APgC+AEEAvgA+AL4AvgBBAEEAvgBBAL4AvgC+AD4APgC+AEEAQQA+AG4APgA+AD4AvgC+AG4APgBuAG4AvgBuAG4APgBBAL4APgC+AD4AbgC+AD4APgBuAL4AvgC+AG4AQQBuAG4AQQC+AEEAPgA+AL4AvgA+AEEAPgBBAD4AvgC+AD4AvgC+AD4APgA+AD4AQQBBAG4APgC+AD4AQQA+AD4AvgA+AEEAQQA+AL4AQQBuAD4AbgC+AD4AvgA+AG4APgA+AD4A",
          "dtype": "i2"
         },
         "yaxis": "y"
        },
        {
         "customdata": [
          [
           "Atliq_Suflower_Oil (1L)",
           "Grocery & Staples",
           "bengaluru"
          ],
          [
           "Atliq_Scrub_Sponge_For_Dishwash",
           "Home Care",
           "bengaluru"
          ],
          [
           "Atliq_Cream_Beauty_Bathing_Soap (125GM)",
           "Personal Care",
           "visakhapatnam"
          ],
          [
           "Atliq_Fusion_Container_Set_of_3",
           "Home Care",
           "mysuru"
          ],
          [
           "Atliq_Farm_Chakki_Atta (1KG)",
           "Grocery & Staples",
           "bengaluru"
          ],
          [
           "Atliq_Fusion_Container_Set_of_3",
           "Home Care",
           "chennai"
          ],
          [
           "Atliq_Fusion_Container_Set_of_3",
           "Home Care",
           "visakhapatnam"
          ],
          [
           "Atliq_Suflower_Oil (1L)",
           "Grocery & Staples",
           "madurai"
          ],
          [
           "Atliq_Body_Milk_Nourishing_Lotion (120ML)",
           "Personal Care",
           "mysuru"
          ],
          [
           "Atliq_Scrub_Sponge_For_Dishwash",
           "Home Care",
           "bengaluru"
          ],
          [
           "Atliq_Farm_Chakki_Atta (1KG)",
           "Grocery & Staples",
           "hyderabad"
          ],
          [
           "Atliq_Suflower_Oil (1L)",
           "Grocery & Staples",
           "vijayawada"
          ],
          [
           "Atliq_Fusion_Container_Set_of_3",
           "Home Care",
           "vijayawada"
          ],
          [
           "Atliq_Scrub_Sponge_For_Dishwash",
           "Home Care",
           "coimbatore"
          ],
          [
           "Atliq_Cream_Beauty_Bathing_Soap (125GM)",
           "Personal Care",
           "hyderabad"
          ],
          [
           "Atliq_Cream_Beauty_Bathing_Soap (125GM)",
           "Personal Care",
           "bengaluru"
          ],
          [
           "Atliq_Scrub_Sponge_For_Dishwash",
           "Home Care",
           "chennai"
          ],
          [
           "Atliq_Fusion_Container_Set_of_3",
           "Home Care",
           "coimbatore"
          ],
          [
           "Atliq_Suflower_Oil (1L)",
           "Grocery & Staples",
           "hyderabad"
          ],
          [
           "Atliq_Scrub_Sponge_For_Dishwash",
           "Home Care",
           "bengaluru"
          ],
          [
           "Atliq_Farm_Chakki_Atta (1KG)",
           "Grocery & Staples",
           "hyderabad"
          ],
          [
           "Atliq_Suflower_Oil (1L)",
           "Grocery & Staples",
           "mangalore"
          ],
          [
           "Atliq_Scrub_Sponge_For_Dishwash",
           "Home Care",
           "mysuru"
          ],
          [
           "Atliq_Cream_Beauty_Bathing_Soap (125GM)",
           "Personal Care",
           "mangalore"
          ],
          [
           "Atliq_Farm_Chakki_Atta (1KG)",
           "Grocery & Staples",
           "chennai"
          ],
          [
           "Atliq_Fusion_Container_Set_of_3",
           "Home Care",
           "madurai"
          ],
          [
           "Atliq_Fusion_Container_Set_of_3",
           "Home Care",
           "hyderabad"
          ],
          [
           "Atliq_Cream_Beauty_Bathing_Soap (125GM)",
           "Personal Care",
           "hyderabad"
          ],
          [
           "Atliq_Scrub_Sponge_For_Dishwash",
           "Home Care",
           "bengaluru"
          ],
          [
           "Atliq_Body_Milk_Nourishing_Lotion (120ML)",
           "Personal Care",
           "bengaluru"
          ],
          [
           "Atliq_Scrub_Sponge_For_Dishwash",
           "Home Care",
           "madurai"
          ],
          [
           "Atliq_Suflower_Oil (1L)",
           "Grocery & Staples",
           "madurai"
          ],
          [
           "Atliq_Cream_Beauty_Bathing_Soap (125GM)",
           "Personal Care",
           "hyderabad"
          ],
          [
           "Atliq_Cream_Beauty_Bathing_Soap (125GM)",
           "Personal Care",
           "bengaluru"
          ],
          [
           "Atliq_Body_Milk_Nourishing_Lotion (120ML)",
           "Personal Care",
           "madurai"
          ],
          [
           "Atliq_Cream_Beauty_Bathing_Soap (125GM)",
           "Personal Care",
           "visakhapatnam"
          ],
          [
           "Atliq_Scrub_Sponge_For_Dishwash",
           "Home Care",
           "mangalore"
          ],
          [
           "Atliq_Scrub_Sponge_For_Dishwash",
           "Home Care",
           "visakhapatnam"
          ],
          [
           "Atliq_Scrub_Sponge_For_Dishwash",
           "Home Care",
           "mangalore"
          ],
          [
           "Atliq_Fusion_Container_Set_of_3",
           "Home Care",
           "hyderabad"
          ],
          [
           "Atliq_Suflower_Oil (1L)",
           "Grocery & Staples",
           "trivandrum"
          ],
          [
           "Atliq_Fusion_Container_Set_of_3",
           "Home Care",
           "bengaluru"
          ],
          [
           "Atliq_Fusion_Container_Set_of_3",
           "Home Care",
           "trivandrum"
          ],
          [
           "Atliq_Cream_Beauty_Bathing_Soap (125GM)",
           "Personal Care",
           "bengaluru"
          ],
          [
           "Atliq_Suflower_Oil (1L)",
           "Grocery & Staples",
           "visakhapatnam"
          ],
          [
           "Atliq_Fusion_Container_Set_of_3",
           "Home Care",
           "trivandrum"
          ],
          [
           "Atliq_Fusion_Container_Set_of_3",
           "Home Care",
           "madurai"
          ],
          [
           "Atliq_Suflower_Oil (1L)",
           "Grocery & Staples",
           "visakhapatnam"
          ],
          [
           "Atliq_Suflower_Oil (1L)",
           "Grocery & Staples",
           "hyderabad"
          ],
          [
           "Atliq_Scrub_Sponge_For_Dishwash",
           "Home Care",
           "bengaluru"
          ],
          [
           "Atliq_Farm_Chakki_Atta (1KG)",
           "Grocery & Staples",
           "vijayawada"
          ],
          [
           "Atliq_Suflower_Oil (1L)",
           "Grocery & Staples",
           "chennai"
          ],
          [
           "Atliq_Cream_Beauty_Bathing_Soap (125GM)",
           "Personal Care",
           "coimbatore"
          ],
          [
           "Atliq_Fusion_Container_Set_of_3",
           "Home Care",
           "bengaluru"
          ],
          [
           "Atliq_Suflower_Oil (1L)",
           "Grocery & Staples",
           "madurai"
          ],
          [
           "Atliq_Fusion_Container_Set_of_3",
           "Home Care",
           "coimbatore"
          ],
          [
           "Atliq_Scrub_Sponge_For_Dishwash",
           "Home Care",
           "bengaluru"
          ],
          [
           "Atliq_Fusion_Container_Set_of_3",
           "Home Care",
           "trivandrum"
          ],
          [
           "Atliq_Body_Milk_Nourishing_Lotion (120ML)",
           "Personal Care",
           "hyderabad"
          ],
          [
           "Atliq_Fusion_Container_Set_of_3",
           "Home Care",
           "chennai"
          ],
          [
           "Atliq_Scrub_Sponge_For_Dishwash",
           "Home Care",
           "hyderabad"
          ],
          [
           "Atliq_Scrub_Sponge_For_Dishwash",
           "Home Care",
           "chennai"
          ],
          [
           "Atliq_Farm_Chakki_Atta (1KG)",
           "Grocery & Staples",
           "chennai"
          ],
          [
           "Atliq_Body_Milk_Nourishing_Lotion (120ML)",
           "Personal Care",
           "bengaluru"
          ],
          [
           "Atliq_Fusion_Container_Set_of_3",
           "Home Care",
           "madurai"
          ],
          [
           "Atliq_Scrub_Sponge_For_Dishwash",
           "Home Care",
           "hyderabad"
          ],
          [
           "Atliq_Scrub_Sponge_For_Dishwash",
           "Home Care",
           "visakhapatnam"
          ],
          [
           "Atliq_Body_Milk_Nourishing_Lotion (120ML)",
           "Personal Care",
           "vijayawada"
          ],
          [
           "Atliq_Suflower_Oil (1L)",
           "Grocery & Staples",
           "mangalore"
          ],
          [
           "Atliq_Farm_Chakki_Atta (1KG)",
           "Grocery & Staples",
           "chennai"
          ],
          [
           "Atliq_Farm_Chakki_Atta (1KG)",
           "Grocery & Staples",
           "bengaluru"
          ],
          [
           "Atliq_Fusion_Container_Set_of_3",
           "Home Care",
           "madurai"
          ],
          [
           "Atliq_Body_Milk_Nourishing_Lotion (120ML)",
           "Personal Care",
           "mangalore"
          ],
          [
           "Atliq_Farm_Chakki_Atta (1KG)",
           "Grocery & Staples",
           "chennai"
          ],
          [
           "Atliq_Farm_Chakki_Atta (1KG)",
           "Grocery & Staples",
           "madurai"
          ],
          [
           "Atliq_Farm_Chakki_Atta (1KG)",
           "Grocery & Staples",
           "hyderabad"
          ],
          [
           "Atliq_Cream_Beauty_Bathing_Soap (125GM)",
           "Personal Care",
           "chennai"
          ],
          [
           "Atliq_Fusion_Container_Set_of_3",
           "Home Care",
           "hyderabad"
          ],
          [
           "Atliq_Fusion_Container_Set_of_3",
           "Home Care",
           "chennai"
          ],
          [
           "Atliq_Cream_Beauty_Bathing_Soap (125GM)",
           "Personal Care",
           "bengaluru"
          ],
          [
           "Atliq_Suflower_Oil (1L)",
           "Grocery & Staples",
           "bengaluru"
          ],
          [
           "Atliq_Suflower_Oil (1L)",
           "Grocery & Staples",
           "chennai"
          ],
          [
           "Atliq_Scrub_Sponge_For_Dishwash",
           "Home Care",
           "vijayawada"
          ],
          [
           "Atliq_Scrub_Sponge_For_Dishwash",
           "Home Care",
           "mysuru"
          ],
          [
           "Atliq_Scrub_Sponge_For_Dishwash",
           "Home Care",
           "bengaluru"
          ],
          [
           "Atliq_Fusion_Container_Set_of_3",
           "Home Care",
           "coimbatore"
          ],
          [
           "Atliq_Fusion_Container_Set_of_3",
           "Home Care",
           "mysuru"
          ],
          [
           "Atliq_Cream_Beauty_Bathing_Soap (125GM)",
           "Personal Care",
           "coimbatore"
          ],
          [
           "Atliq_Farm_Chakki_Atta (1KG)",
           "Grocery & Staples",
           "mangalore"
          ],
          [
           "Atliq_Scrub_Sponge_For_Dishwash",
           "Home Care",
           "chennai"
          ],
          [
           "Atliq_Fusion_Container_Set_of_3",
           "Home Care",
           "visakhapatnam"
          ],
          [
           "Atliq_Fusion_Container_Set_of_3",
           "Home Care",
           "hyderabad"
          ],
          [
           "Atliq_Fusion_Container_Set_of_3",
           "Home Care",
           "chennai"
          ],
          [
           "Atliq_Body_Milk_Nourishing_Lotion (120ML)",
           "Personal Care",
           "bengaluru"
          ],
          [
           "Atliq_Fusion_Container_Set_of_3",
           "Home Care",
           "mysuru"
          ],
          [
           "Atliq_Farm_Chakki_Atta (1KG)",
           "Grocery & Staples",
           "madurai"
          ],
          [
           "Atliq_Scrub_Sponge_For_Dishwash",
           "Home Care",
           "chennai"
          ],
          [
           "Atliq_Suflower_Oil (1L)",
           "Grocery & Staples",
           "bengaluru"
          ],
          [
           "Atliq_Fusion_Container_Set_of_3",
           "Home Care",
           "mangalore"
          ],
          [
           "Atliq_Fusion_Container_Set_of_3",
           "Home Care",
           "madurai"
          ],
          [
           "Atliq_Scrub_Sponge_For_Dishwash",
           "Home Care",
           "chennai"
          ],
          [
           "Atliq_Fusion_Container_Set_of_3",
           "Home Care",
           "mangalore"
          ],
          [
           "Atliq_Fusion_Container_Set_of_3",
           "Home Care",
           "vijayawada"
          ],
          [
           "Atliq_Scrub_Sponge_For_Dishwash",
           "Home Care",
           "chennai"
          ],
          [
           "Atliq_Scrub_Sponge_For_Dishwash",
           "Home Care",
           "coimbatore"
          ],
          [
           "Atliq_Farm_Chakki_Atta (1KG)",
           "Grocery & Staples",
           "bengaluru"
          ],
          [
           "Atliq_Fusion_Container_Set_of_3",
           "Home Care",
           "coimbatore"
          ],
          [
           "Atliq_Fusion_Container_Set_of_3",
           "Home Care",
           "bengaluru"
          ],
          [
           "Atliq_Fusion_Container_Set_of_3",
           "Home Care",
           "hyderabad"
          ],
          [
           "Atliq_Fusion_Container_Set_of_3",
           "Home Care",
           "chennai"
          ],
          [
           "Atliq_Scrub_Sponge_For_Dishwash",
           "Home Care",
           "trivandrum"
          ],
          [
           "Atliq_Scrub_Sponge_For_Dishwash",
           "Home Care",
           "chennai"
          ],
          [
           "Atliq_Body_Milk_Nourishing_Lotion (120ML)",
           "Personal Care",
           "hyderabad"
          ],
          [
           "Atliq_Scrub_Sponge_For_Dishwash",
           "Home Care",
           "visakhapatnam"
          ],
          [
           "Atliq_Fusion_Container_Set_of_3",
           "Home Care",
           "bengaluru"
          ],
          [
           "Atliq_Suflower_Oil (1L)",
           "Grocery & Staples",
           "coimbatore"
          ],
          [
           "Atliq_Farm_Chakki_Atta (1KG)",
           "Grocery & Staples",
           "bengaluru"
          ],
          [
           "Atliq_Body_Milk_Nourishing_Lotion (120ML)",
           "Personal Care",
           "bengaluru"
          ],
          [
           "Atliq_Body_Milk_Nourishing_Lotion (120ML)",
           "Personal Care",
           "chennai"
          ],
          [
           "Atliq_Fusion_Container_Set_of_3",
           "Home Care",
           "mangalore"
          ],
          [
           "Atliq_Fusion_Container_Set_of_3",
           "Home Care",
           "visakhapatnam"
          ],
          [
           "Atliq_Cream_Beauty_Bathing_Soap (125GM)",
           "Personal Care",
           "coimbatore"
          ],
          [
           "Atliq_Scrub_Sponge_For_Dishwash",
           "Home Care",
           "bengaluru"
          ],
          [
           "Atliq_Fusion_Container_Set_of_3",
           "Home Care",
           "hyderabad"
          ],
          [
           "Atliq_Farm_Chakki_Atta (1KG)",
           "Grocery & Staples",
           "bengaluru"
          ],
          [
           "Atliq_Cream_Beauty_Bathing_Soap (125GM)",
           "Personal Care",
           "mysuru"
          ],
          [
           "Atliq_Body_Milk_Nourishing_Lotion (120ML)",
           "Personal Care",
           "bengaluru"
          ],
          [
           "Atliq_Suflower_Oil (1L)",
           "Grocery & Staples",
           "hyderabad"
          ],
          [
           "Atliq_Suflower_Oil (1L)",
           "Grocery & Staples",
           "hyderabad"
          ],
          [
           "Atliq_Scrub_Sponge_For_Dishwash",
           "Home Care",
           "mangalore"
          ],
          [
           "Atliq_Scrub_Sponge_For_Dishwash",
           "Home Care",
           "trivandrum"
          ],
          [
           "Atliq_Suflower_Oil (1L)",
           "Grocery & Staples",
           "coimbatore"
          ],
          [
           "Atliq_Body_Milk_Nourishing_Lotion (120ML)",
           "Personal Care",
           "hyderabad"
          ],
          [
           "Atliq_Fusion_Container_Set_of_3",
           "Home Care",
           "chennai"
          ],
          [
           "Atliq_Scrub_Sponge_For_Dishwash",
           "Home Care",
           "chennai"
          ],
          [
           "Atliq_Fusion_Container_Set_of_3",
           "Home Care",
           "coimbatore"
          ],
          [
           "Atliq_Cream_Beauty_Bathing_Soap (125GM)",
           "Personal Care",
           "chennai"
          ],
          [
           "Atliq_Suflower_Oil (1L)",
           "Grocery & Staples",
           "hyderabad"
          ],
          [
           "Atliq_Fusion_Container_Set_of_3",
           "Home Care",
           "mysuru"
          ],
          [
           "Atliq_Cream_Beauty_Bathing_Soap (125GM)",
           "Personal Care",
           "madurai"
          ],
          [
           "Atliq_Farm_Chakki_Atta (1KG)",
           "Grocery & Staples",
           "chennai"
          ],
          [
           "Atliq_Scrub_Sponge_For_Dishwash",
           "Home Care",
           "trivandrum"
          ],
          [
           "Atliq_Scrub_Sponge_For_Dishwash",
           "Home Care",
           "hyderabad"
          ],
          [
           "Atliq_Farm_Chakki_Atta (1KG)",
           "Grocery & Staples",
           "mysuru"
          ],
          [
           "Atliq_Fusion_Container_Set_of_3",
           "Home Care",
           "bengaluru"
          ],
          [
           "Atliq_Scrub_Sponge_For_Dishwash",
           "Home Care",
           "visakhapatnam"
          ],
          [
           "Atliq_Cream_Beauty_Bathing_Soap (125GM)",
           "Personal Care",
           "mysuru"
          ],
          [
           "Atliq_Scrub_Sponge_For_Dishwash",
           "Home Care",
           "mysuru"
          ],
          [
           "Atliq_Fusion_Container_Set_of_3",
           "Home Care",
           "visakhapatnam"
          ],
          [
           "Atliq_Fusion_Container_Set_of_3",
           "Home Care",
           "bengaluru"
          ],
          [
           "Atliq_Scrub_Sponge_For_Dishwash",
           "Home Care",
           "visakhapatnam"
          ],
          [
           "Atliq_Fusion_Container_Set_of_3",
           "Home Care",
           "hyderabad"
          ],
          [
           "Atliq_Body_Milk_Nourishing_Lotion (120ML)",
           "Personal Care",
           "bengaluru"
          ],
          [
           "Atliq_Suflower_Oil (1L)",
           "Grocery & Staples",
           "coimbatore"
          ],
          [
           "Atliq_Scrub_Sponge_For_Dishwash",
           "Home Care",
           "bengaluru"
          ],
          [
           "Atliq_Fusion_Container_Set_of_3",
           "Home Care",
           "mangalore"
          ],
          [
           "Atliq_Scrub_Sponge_For_Dishwash",
           "Home Care",
           "hyderabad"
          ],
          [
           "Atliq_Suflower_Oil (1L)",
           "Grocery & Staples",
           "vijayawada"
          ],
          [
           "Atliq_Scrub_Sponge_For_Dishwash",
           "Home Care",
           "visakhapatnam"
          ],
          [
           "Atliq_Body_Milk_Nourishing_Lotion (120ML)",
           "Personal Care",
           "bengaluru"
          ],
          [
           "Atliq_Cream_Beauty_Bathing_Soap (125GM)",
           "Personal Care",
           "mangalore"
          ],
          [
           "Atliq_Body_Milk_Nourishing_Lotion (120ML)",
           "Personal Care",
           "visakhapatnam"
          ],
          [
           "Atliq_Body_Milk_Nourishing_Lotion (120ML)",
           "Personal Care",
           "chennai"
          ],
          [
           "Atliq_Body_Milk_Nourishing_Lotion (120ML)",
           "Personal Care",
           "chennai"
          ],
          [
           "Atliq_Body_Milk_Nourishing_Lotion (120ML)",
           "Personal Care",
           "madurai"
          ],
          [
           "Atliq_Scrub_Sponge_For_Dishwash",
           "Home Care",
           "hyderabad"
          ],
          [
           "Atliq_Scrub_Sponge_For_Dishwash",
           "Home Care",
           "bengaluru"
          ],
          [
           "Atliq_Cream_Beauty_Bathing_Soap (125GM)",
           "Personal Care",
           "madurai"
          ],
          [
           "Atliq_Body_Milk_Nourishing_Lotion (120ML)",
           "Personal Care",
           "visakhapatnam"
          ],
          [
           "Atliq_Farm_Chakki_Atta (1KG)",
           "Grocery & Staples",
           "madurai"
          ],
          [
           "Atliq_Farm_Chakki_Atta (1KG)",
           "Grocery & Staples",
           "coimbatore"
          ],
          [
           "Atliq_Cream_Beauty_Bathing_Soap (125GM)",
           "Personal Care",
           "vijayawada"
          ],
          [
           "Atliq_Scrub_Sponge_For_Dishwash",
           "Home Care",
           "chennai"
          ],
          [
           "Atliq_Body_Milk_Nourishing_Lotion (120ML)",
           "Personal Care",
           "coimbatore"
          ],
          [
           "Atliq_Cream_Beauty_Bathing_Soap (125GM)",
           "Personal Care",
           "hyderabad"
          ],
          [
           "Atliq_Scrub_Sponge_For_Dishwash",
           "Home Care",
           "coimbatore"
          ],
          [
           "Atliq_Body_Milk_Nourishing_Lotion (120ML)",
           "Personal Care",
           "bengaluru"
          ],
          [
           "Atliq_Body_Milk_Nourishing_Lotion (120ML)",
           "Personal Care",
           "chennai"
          ],
          [
           "Atliq_Scrub_Sponge_For_Dishwash",
           "Home Care",
           "chennai"
          ],
          [
           "Atliq_Fusion_Container_Set_of_3",
           "Home Care",
           "bengaluru"
          ],
          [
           "Atliq_Fusion_Container_Set_of_3",
           "Home Care",
           "visakhapatnam"
          ],
          [
           "Atliq_Fusion_Container_Set_of_3",
           "Home Care",
           "bengaluru"
          ],
          [
           "Atliq_Farm_Chakki_Atta (1KG)",
           "Grocery & Staples",
           "coimbatore"
          ],
          [
           "Atliq_Fusion_Container_Set_of_3",
           "Home Care",
           "coimbatore"
          ],
          [
           "Atliq_Body_Milk_Nourishing_Lotion (120ML)",
           "Personal Care",
           "chennai"
          ],
          [
           "Atliq_Fusion_Container_Set_of_3",
           "Home Care",
           "mysuru"
          ],
          [
           "Atliq_Farm_Chakki_Atta (1KG)",
           "Grocery & Staples",
           "mysuru"
          ],
          [
           "Atliq_Suflower_Oil (1L)",
           "Grocery & Staples",
           "chennai"
          ],
          [
           "Atliq_Suflower_Oil (1L)",
           "Grocery & Staples",
           "mysuru"
          ],
          [
           "Atliq_Scrub_Sponge_For_Dishwash",
           "Home Care",
           "chennai"
          ],
          [
           "Atliq_Body_Milk_Nourishing_Lotion (120ML)",
           "Personal Care",
           "mysuru"
          ],
          [
           "Atliq_Suflower_Oil (1L)",
           "Grocery & Staples",
           "bengaluru"
          ],
          [
           "Atliq_Scrub_Sponge_For_Dishwash",
           "Home Care",
           "coimbatore"
          ],
          [
           "Atliq_Scrub_Sponge_For_Dishwash",
           "Home Care",
           "madurai"
          ],
          [
           "Atliq_Fusion_Container_Set_of_3",
           "Home Care",
           "bengaluru"
          ],
          [
           "Atliq_Fusion_Container_Set_of_3",
           "Home Care",
           "coimbatore"
          ],
          [
           "Atliq_Fusion_Container_Set_of_3",
           "Home Care",
           "madurai"
          ],
          [
           "Atliq_Cream_Beauty_Bathing_Soap (125GM)",
           "Personal Care",
           "bengaluru"
          ],
          [
           "Atliq_Fusion_Container_Set_of_3",
           "Home Care",
           "visakhapatnam"
          ],
          [
           "Atliq_Fusion_Container_Set_of_3",
           "Home Care",
           "chennai"
          ],
          [
           "Atliq_Cream_Beauty_Bathing_Soap (125GM)",
           "Personal Care",
           "visakhapatnam"
          ],
          [
           "Atliq_Suflower_Oil (1L)",
           "Grocery & Staples",
           "chennai"
          ],
          [
           "Atliq_Scrub_Sponge_For_Dishwash",
           "Home Care",
           "visakhapatnam"
          ],
          [
           "Atliq_Cream_Beauty_Bathing_Soap (125GM)",
           "Personal Care",
           "chennai"
          ],
          [
           "Atliq_Suflower_Oil (1L)",
           "Grocery & Staples",
           "hyderabad"
          ],
          [
           "Atliq_Scrub_Sponge_For_Dishwash",
           "Home Care",
           "hyderabad"
          ],
          [
           "Atliq_Cream_Beauty_Bathing_Soap (125GM)",
           "Personal Care",
           "bengaluru"
          ],
          [
           "Atliq_Farm_Chakki_Atta (1KG)",
           "Grocery & Staples",
           "hyderabad"
          ],
          [
           "Atliq_Scrub_Sponge_For_Dishwash",
           "Home Care",
           "vijayawada"
          ],
          [
           "Atliq_Farm_Chakki_Atta (1KG)",
           "Grocery & Staples",
           "visakhapatnam"
          ],
          [
           "Atliq_Fusion_Container_Set_of_3",
           "Home Care",
           "coimbatore"
          ],
          [
           "Atliq_Scrub_Sponge_For_Dishwash",
           "Home Care",
           "madurai"
          ],
          [
           "Atliq_Farm_Chakki_Atta (1KG)",
           "Grocery & Staples",
           "visakhapatnam"
          ],
          [
           "Atliq_Suflower_Oil (1L)",
           "Grocery & Staples",
           "bengaluru"
          ],
          [
           "Atliq_Scrub_Sponge_For_Dishwash",
           "Home Care",
           "chennai"
          ],
          [
           "Atliq_Scrub_Sponge_For_Dishwash",
           "Home Care",
           "bengaluru"
          ],
          [
           "Atliq_Scrub_Sponge_For_Dishwash",
           "Home Care",
           "hyderabad"
          ],
          [
           "Atliq_Fusion_Container_Set_of_3",
           "Home Care",
           "hyderabad"
          ],
          [
           "Atliq_Farm_Chakki_Atta (1KG)",
           "Grocery & Staples",
           "visakhapatnam"
          ],
          [
           "Atliq_Suflower_Oil (1L)",
           "Grocery & Staples",
           "mysuru"
          ],
          [
           "Atliq_Fusion_Container_Set_of_3",
           "Home Care",
           "bengaluru"
          ],
          [
           "Atliq_Farm_Chakki_Atta (1KG)",
           "Grocery & Staples",
           "coimbatore"
          ],
          [
           "Atliq_Farm_Chakki_Atta (1KG)",
           "Grocery & Staples",
           "bengaluru"
          ],
          [
           "Atliq_Farm_Chakki_Atta (1KG)",
           "Grocery & Staples",
           "mangalore"
          ],
          [
           "Atliq_Scrub_Sponge_For_Dishwash",
           "Home Care",
           "trivandrum"
          ],
          [
           "Atliq_Fusion_Container_Set_of_3",
           "Home Care",
           "chennai"
          ],
          [
           "Atliq_Cream_Beauty_Bathing_Soap (125GM)",
           "Personal Care",
           "coimbatore"
          ],
          [
           "Atliq_Scrub_Sponge_For_Dishwash",
           "Home Care",
           "vijayawada"
          ],
          [
           "Atliq_Body_Milk_Nourishing_Lotion (120ML)",
           "Personal Care",
           "hyderabad"
          ],
          [
           "Atliq_Fusion_Container_Set_of_3",
           "Home Care",
           "chennai"
          ],
          [
           "Atliq_Farm_Chakki_Atta (1KG)",
           "Grocery & Staples",
           "chennai"
          ],
          [
           "Atliq_Scrub_Sponge_For_Dishwash",
           "Home Care",
           "madurai"
          ],
          [
           "Atliq_Scrub_Sponge_For_Dishwash",
           "Home Care",
           "coimbatore"
          ],
          [
           "Atliq_Scrub_Sponge_For_Dishwash",
           "Home Care",
           "madurai"
          ],
          [
           "Atliq_Fusion_Container_Set_of_3",
           "Home Care",
           "hyderabad"
          ],
          [
           "Atliq_Farm_Chakki_Atta (1KG)",
           "Grocery & Staples",
           "hyderabad"
          ],
          [
           "Atliq_Body_Milk_Nourishing_Lotion (120ML)",
           "Personal Care",
           "visakhapatnam"
          ],
          [
           "Atliq_Cream_Beauty_Bathing_Soap (125GM)",
           "Personal Care",
           "trivandrum"
          ],
          [
           "Atliq_Scrub_Sponge_For_Dishwash",
           "Home Care",
           "hyderabad"
          ],
          [
           "Atliq_Scrub_Sponge_For_Dishwash",
           "Home Care",
           "coimbatore"
          ],
          [
           "Atliq_Body_Milk_Nourishing_Lotion (120ML)",
           "Personal Care",
           "madurai"
          ],
          [
           "Atliq_Fusion_Container_Set_of_3",
           "Home Care",
           "mysuru"
          ],
          [
           "Atliq_Suflower_Oil (1L)",
           "Grocery & Staples",
           "bengaluru"
          ],
          [
           "Atliq_Fusion_Container_Set_of_3",
           "Home Care",
           "chennai"
          ],
          [
           "Atliq_Scrub_Sponge_For_Dishwash",
           "Home Care",
           "mangalore"
          ],
          [
           "Atliq_Suflower_Oil (1L)",
           "Grocery & Staples",
           "madurai"
          ],
          [
           "Atliq_Scrub_Sponge_For_Dishwash",
           "Home Care",
           "madurai"
          ],
          [
           "Atliq_Farm_Chakki_Atta (1KG)",
           "Grocery & Staples",
           "trivandrum"
          ],
          [
           "Atliq_Farm_Chakki_Atta (1KG)",
           "Grocery & Staples",
           "bengaluru"
          ],
          [
           "Atliq_Farm_Chakki_Atta (1KG)",
           "Grocery & Staples",
           "visakhapatnam"
          ],
          [
           "Atliq_Suflower_Oil (1L)",
           "Grocery & Staples",
           "chennai"
          ],
          [
           "Atliq_Scrub_Sponge_For_Dishwash",
           "Home Care",
           "chennai"
          ],
          [
           "Atliq_Scrub_Sponge_For_Dishwash",
           "Home Care",
           "bengaluru"
          ],
          [
           "Atliq_Scrub_Sponge_For_Dishwash",
           "Home Care",
           "mysuru"
          ],
          [
           "Atliq_Fusion_Container_Set_of_3",
           "Home Care",
           "bengaluru"
          ],
          [
           "Atliq_Suflower_Oil (1L)",
           "Grocery & Staples",
           "bengaluru"
          ],
          [
           "Atliq_Fusion_Container_Set_of_3",
           "Home Care",
           "chennai"
          ],
          [
           "Atliq_Scrub_Sponge_For_Dishwash",
           "Home Care",
           "bengaluru"
          ],
          [
           "Atliq_Fusion_Container_Set_of_3",
           "Home Care",
           "chennai"
          ],
          [
           "Atliq_Fusion_Container_Set_of_3",
           "Home Care",
           "visakhapatnam"
          ],
          [
           "Atliq_Cream_Beauty_Bathing_Soap (125GM)",
           "Personal Care",
           "chennai"
          ],
          [
           "Atliq_Body_Milk_Nourishing_Lotion (120ML)",
           "Personal Care",
           "hyderabad"
          ],
          [
           "Atliq_Fusion_Container_Set_of_3",
           "Home Care",
           "bengaluru"
          ],
          [
           "Atliq_Body_Milk_Nourishing_Lotion (120ML)",
           "Personal Care",
           "coimbatore"
          ],
          [
           "Atliq_Cream_Beauty_Bathing_Soap (125GM)",
           "Personal Care",
           "vijayawada"
          ],
          [
           "Atliq_Cream_Beauty_Bathing_Soap (125GM)",
           "Personal Care",
           "bengaluru"
          ],
          [
           "Atliq_Cream_Beauty_Bathing_Soap (125GM)",
           "Personal Care",
           "trivandrum"
          ],
          [
           "Atliq_Suflower_Oil (1L)",
           "Grocery & Staples",
           "mysuru"
          ],
          [
           "Atliq_Scrub_Sponge_For_Dishwash",
           "Home Care",
           "bengaluru"
          ],
          [
           "Atliq_Scrub_Sponge_For_Dishwash",
           "Home Care",
           "vijayawada"
          ],
          [
           "Atliq_Scrub_Sponge_For_Dishwash",
           "Home Care",
           "mysuru"
          ],
          [
           "Atliq_Body_Milk_Nourishing_Lotion (120ML)",
           "Personal Care",
           "coimbatore"
          ],
          [
           "Atliq_Fusion_Container_Set_of_3",
           "Home Care",
           "bengaluru"
          ],
          [
           "Atliq_Scrub_Sponge_For_Dishwash",
           "Home Care",
           "visakhapatnam"
          ],
          [
           "Atliq_Body_Milk_Nourishing_Lotion (120ML)",
           "Personal Care",
           "hyderabad"
          ],
          [
           "Atliq_Farm_Chakki_Atta (1KG)",
           "Grocery & Staples",
           "chennai"
          ],
          [
           "Atliq_Scrub_Sponge_For_Dishwash",
           "Home Care",
           "madurai"
          ],
          [
           "Atliq_Body_Milk_Nourishing_Lotion (120ML)",
           "Personal Care",
           "bengaluru"
          ],
          [
           "Atliq_Body_Milk_Nourishing_Lotion (120ML)",
           "Personal Care",
           "mangalore"
          ],
          [
           "Atliq_Cream_Beauty_Bathing_Soap (125GM)",
           "Personal Care",
           "bengaluru"
          ],
          [
           "Atliq_Suflower_Oil (1L)",
           "Grocery & Staples",
           "chennai"
          ],
          [
           "Atliq_Fusion_Container_Set_of_3",
           "Home Care",
           "bengaluru"
          ],
          [
           "Atliq_Suflower_Oil (1L)",
           "Grocery & Staples",
           "visakhapatnam"
          ],
          [
           "Atliq_Cream_Beauty_Bathing_Soap (125GM)",
           "Personal Care",
           "mysuru"
          ],
          [
           "Atliq_Body_Milk_Nourishing_Lotion (120ML)",
           "Personal Care",
           "chennai"
          ],
          [
           "Atliq_Farm_Chakki_Atta (1KG)",
           "Grocery & Staples",
           "hyderabad"
          ],
          [
           "Atliq_Body_Milk_Nourishing_Lotion (120ML)",
           "Personal Care",
           "madurai"
          ],
          [
           "Atliq_Body_Milk_Nourishing_Lotion (120ML)",
           "Personal Care",
           "mangalore"
          ],
          [
           "Atliq_Cream_Beauty_Bathing_Soap (125GM)",
           "Personal Care",
           "madurai"
          ],
          [
           "Atliq_Body_Milk_Nourishing_Lotion (120ML)",
           "Personal Care",
           "mysuru"
          ],
          [
           "Atliq_Suflower_Oil (1L)",
           "Grocery & Staples",
           "chennai"
          ],
          [
           "Atliq_Body_Milk_Nourishing_Lotion (120ML)",
           "Personal Care",
           "visakhapatnam"
          ],
          [
           "Atliq_Body_Milk_Nourishing_Lotion (120ML)",
           "Personal Care",
           "vijayawada"
          ],
          [
           "Atliq_Fusion_Container_Set_of_3",
           "Home Care",
           "visakhapatnam"
          ],
          [
           "Atliq_Suflower_Oil (1L)",
           "Grocery & Staples",
           "trivandrum"
          ],
          [
           "Atliq_Fusion_Container_Set_of_3",
           "Home Care",
           "bengaluru"
          ],
          [
           "Atliq_Fusion_Container_Set_of_3",
           "Home Care",
           "chennai"
          ],
          [
           "Atliq_Fusion_Container_Set_of_3",
           "Home Care",
           "hyderabad"
          ],
          [
           "Atliq_Scrub_Sponge_For_Dishwash",
           "Home Care",
           "mangalore"
          ],
          [
           "Atliq_Fusion_Container_Set_of_3",
           "Home Care",
           "chennai"
          ],
          [
           "Atliq_Cream_Beauty_Bathing_Soap (125GM)",
           "Personal Care",
           "chennai"
          ],
          [
           "Atliq_Farm_Chakki_Atta (1KG)",
           "Grocery & Staples",
           "coimbatore"
          ],
          [
           "Atliq_Scrub_Sponge_For_Dishwash",
           "Home Care",
           "visakhapatnam"
          ],
          [
           "Atliq_Scrub_Sponge_For_Dishwash",
           "Home Care",
           "madurai"
          ],
          [
           "Atliq_Fusion_Container_Set_of_3",
           "Home Care",
           "vijayawada"
          ],
          [
           "Atliq_Body_Milk_Nourishing_Lotion (120ML)",
           "Personal Care",
           "coimbatore"
          ],
          [
           "Atliq_Cream_Beauty_Bathing_Soap (125GM)",
           "Personal Care",
           "chennai"
          ],
          [
           "Atliq_Fusion_Container_Set_of_3",
           "Home Care",
           "mangalore"
          ],
          [
           "Atliq_Farm_Chakki_Atta (1KG)",
           "Grocery & Staples",
           "visakhapatnam"
          ],
          [
           "Atliq_Scrub_Sponge_For_Dishwash",
           "Home Care",
           "coimbatore"
          ],
          [
           "Atliq_Farm_Chakki_Atta (1KG)",
           "Grocery & Staples",
           "hyderabad"
          ],
          [
           "Atliq_Cream_Beauty_Bathing_Soap (125GM)",
           "Personal Care",
           "coimbatore"
          ],
          [
           "Atliq_Scrub_Sponge_For_Dishwash",
           "Home Care",
           "visakhapatnam"
          ],
          [
           "Atliq_Scrub_Sponge_For_Dishwash",
           "Home Care",
           "hyderabad"
          ],
          [
           "Atliq_Cream_Beauty_Bathing_Soap (125GM)",
           "Personal Care",
           "chennai"
          ],
          [
           "Atliq_Fusion_Container_Set_of_3",
           "Home Care",
           "hyderabad"
          ],
          [
           "Atliq_Fusion_Container_Set_of_3",
           "Home Care",
           "chennai"
          ],
          [
           "Atliq_Scrub_Sponge_For_Dishwash",
           "Home Care",
           "bengaluru"
          ],
          [
           "Atliq_Cream_Beauty_Bathing_Soap (125GM)",
           "Personal Care",
           "bengaluru"
          ],
          [
           "Atliq_Scrub_Sponge_For_Dishwash",
           "Home Care",
           "chennai"
          ],
          [
           "Atliq_Farm_Chakki_Atta (1KG)",
           "Grocery & Staples",
           "vijayawada"
          ],
          [
           "Atliq_Fusion_Container_Set_of_3",
           "Home Care",
           "bengaluru"
          ],
          [
           "Atliq_Fusion_Container_Set_of_3",
           "Home Care",
           "coimbatore"
          ],
          [
           "Atliq_Scrub_Sponge_For_Dishwash",
           "Home Care",
           "mangalore"
          ],
          [
           "Atliq_Fusion_Container_Set_of_3",
           "Home Care",
           "hyderabad"
          ],
          [
           "Atliq_Suflower_Oil (1L)",
           "Grocery & Staples",
           "bengaluru"
          ],
          [
           "Atliq_Scrub_Sponge_For_Dishwash",
           "Home Care",
           "coimbatore"
          ],
          [
           "Atliq_Farm_Chakki_Atta (1KG)",
           "Grocery & Staples",
           "mysuru"
          ],
          [
           "Atliq_Scrub_Sponge_For_Dishwash",
           "Home Care",
           "mysuru"
          ],
          [
           "Atliq_Fusion_Container_Set_of_3",
           "Home Care",
           "bengaluru"
          ],
          [
           "Atliq_Fusion_Container_Set_of_3",
           "Home Care",
           "bengaluru"
          ],
          [
           "Atliq_Farm_Chakki_Atta (1KG)",
           "Grocery & Staples",
           "chennai"
          ],
          [
           "Atliq_Suflower_Oil (1L)",
           "Grocery & Staples",
           "coimbatore"
          ],
          [
           "Atliq_Scrub_Sponge_For_Dishwash",
           "Home Care",
           "chennai"
          ],
          [
           "Atliq_Farm_Chakki_Atta (1KG)",
           "Grocery & Staples",
           "trivandrum"
          ],
          [
           "Atliq_Farm_Chakki_Atta (1KG)",
           "Grocery & Staples",
           "madurai"
          ],
          [
           "Atliq_Scrub_Sponge_For_Dishwash",
           "Home Care",
           "hyderabad"
          ],
          [
           "Atliq_Fusion_Container_Set_of_3",
           "Home Care",
           "bengaluru"
          ],
          [
           "Atliq_Cream_Beauty_Bathing_Soap (125GM)",
           "Personal Care",
           "chennai"
          ],
          [
           "Atliq_Body_Milk_Nourishing_Lotion (120ML)",
           "Personal Care",
           "hyderabad"
          ],
          [
           "Atliq_Cream_Beauty_Bathing_Soap (125GM)",
           "Personal Care",
           "visakhapatnam"
          ],
          [
           "Atliq_Cream_Beauty_Bathing_Soap (125GM)",
           "Personal Care",
           "bengaluru"
          ],
          [
           "Atliq_Fusion_Container_Set_of_3",
           "Home Care",
           "chennai"
          ],
          [
           "Atliq_Suflower_Oil (1L)",
           "Grocery & Staples",
           "chennai"
          ],
          [
           "Atliq_Fusion_Container_Set_of_3",
           "Home Care",
           "madurai"
          ],
          [
           "Atliq_Suflower_Oil (1L)",
           "Grocery & Staples",
           "hyderabad"
          ],
          [
           "Atliq_Scrub_Sponge_For_Dishwash",
           "Home Care",
           "chennai"
          ],
          [
           "Atliq_Scrub_Sponge_For_Dishwash",
           "Home Care",
           "hyderabad"
          ],
          [
           "Atliq_Fusion_Container_Set_of_3",
           "Home Care",
           "trivandrum"
          ],
          [
           "Atliq_Scrub_Sponge_For_Dishwash",
           "Home Care",
           "bengaluru"
          ],
          [
           "Atliq_Farm_Chakki_Atta (1KG)",
           "Grocery & Staples",
           "coimbatore"
          ],
          [
           "Atliq_Suflower_Oil (1L)",
           "Grocery & Staples",
           "mysuru"
          ],
          [
           "Atliq_Fusion_Container_Set_of_3",
           "Home Care",
           "visakhapatnam"
          ],
          [
           "Atliq_Body_Milk_Nourishing_Lotion (120ML)",
           "Personal Care",
           "coimbatore"
          ],
          [
           "Atliq_Farm_Chakki_Atta (1KG)",
           "Grocery & Staples",
           "mangalore"
          ],
          [
           "Atliq_Suflower_Oil (1L)",
           "Grocery & Staples",
           "bengaluru"
          ],
          [
           "Atliq_Scrub_Sponge_For_Dishwash",
           "Home Care",
           "mysuru"
          ],
          [
           "Atliq_Scrub_Sponge_For_Dishwash",
           "Home Care",
           "bengaluru"
          ],
          [
           "Atliq_Scrub_Sponge_For_Dishwash",
           "Home Care",
           "coimbatore"
          ],
          [
           "Atliq_Scrub_Sponge_For_Dishwash",
           "Home Care",
           "mysuru"
          ],
          [
           "Atliq_Scrub_Sponge_For_Dishwash",
           "Home Care",
           "hyderabad"
          ],
          [
           "Atliq_Scrub_Sponge_For_Dishwash",
           "Home Care",
           "bengaluru"
          ],
          [
           "Atliq_Suflower_Oil (1L)",
           "Grocery & Staples",
           "bengaluru"
          ],
          [
           "Atliq_Cream_Beauty_Bathing_Soap (125GM)",
           "Personal Care",
           "hyderabad"
          ],
          [
           "Atliq_Body_Milk_Nourishing_Lotion (120ML)",
           "Personal Care",
           "mysuru"
          ],
          [
           "Atliq_Fusion_Container_Set_of_3",
           "Home Care",
           "vijayawada"
          ],
          [
           "Atliq_Cream_Beauty_Bathing_Soap (125GM)",
           "Personal Care",
           "hyderabad"
          ],
          [
           "Atliq_Fusion_Container_Set_of_3",
           "Home Care",
           "mysuru"
          ],
          [
           "Atliq_Scrub_Sponge_For_Dishwash",
           "Home Care",
           "hyderabad"
          ],
          [
           "Atliq_Fusion_Container_Set_of_3",
           "Home Care",
           "hyderabad"
          ],
          [
           "Atliq_Body_Milk_Nourishing_Lotion (120ML)",
           "Personal Care",
           "trivandrum"
          ],
          [
           "Atliq_Fusion_Container_Set_of_3",
           "Home Care",
           "visakhapatnam"
          ],
          [
           "Atliq_Cream_Beauty_Bathing_Soap (125GM)",
           "Personal Care",
           "hyderabad"
          ],
          [
           "Atliq_Scrub_Sponge_For_Dishwash",
           "Home Care",
           "bengaluru"
          ],
          [
           "Atliq_Suflower_Oil (1L)",
           "Grocery & Staples",
           "visakhapatnam"
          ],
          [
           "Atliq_Body_Milk_Nourishing_Lotion (120ML)",
           "Personal Care",
           "chennai"
          ],
          [
           "Atliq_Body_Milk_Nourishing_Lotion (120ML)",
           "Personal Care",
           "bengaluru"
          ],
          [
           "Atliq_Suflower_Oil (1L)",
           "Grocery & Staples",
           "mangalore"
          ],
          [
           "Atliq_Body_Milk_Nourishing_Lotion (120ML)",
           "Personal Care",
           "visakhapatnam"
          ],
          [
           "Atliq_Cream_Beauty_Bathing_Soap (125GM)",
           "Personal Care",
           "mangalore"
          ],
          [
           "Atliq_Farm_Chakki_Atta (1KG)",
           "Grocery & Staples",
           "bengaluru"
          ],
          [
           "Atliq_Cream_Beauty_Bathing_Soap (125GM)",
           "Personal Care",
           "visakhapatnam"
          ],
          [
           "Atliq_Fusion_Container_Set_of_3",
           "Home Care",
           "madurai"
          ],
          [
           "Atliq_Body_Milk_Nourishing_Lotion (120ML)",
           "Personal Care",
           "chennai"
          ],
          [
           "Atliq_Scrub_Sponge_For_Dishwash",
           "Home Care",
           "bengaluru"
          ],
          [
           "Atliq_Fusion_Container_Set_of_3",
           "Home Care",
           "hyderabad"
          ],
          [
           "Atliq_Fusion_Container_Set_of_3",
           "Home Care",
           "mangalore"
          ],
          [
           "Atliq_Cream_Beauty_Bathing_Soap (125GM)",
           "Personal Care",
           "mysuru"
          ],
          [
           "Atliq_Fusion_Container_Set_of_3",
           "Home Care",
           "coimbatore"
          ],
          [
           "Atliq_Farm_Chakki_Atta (1KG)",
           "Grocery & Staples",
           "mysuru"
          ],
          [
           "Atliq_Farm_Chakki_Atta (1KG)",
           "Grocery & Staples",
           "bengaluru"
          ],
          [
           "Atliq_Scrub_Sponge_For_Dishwash",
           "Home Care",
           "hyderabad"
          ],
          [
           "Atliq_Suflower_Oil (1L)",
           "Grocery & Staples",
           "visakhapatnam"
          ],
          [
           "Atliq_Farm_Chakki_Atta (1KG)",
           "Grocery & Staples",
           "bengaluru"
          ],
          [
           "Atliq_Body_Milk_Nourishing_Lotion (120ML)",
           "Personal Care",
           "trivandrum"
          ],
          [
           "Atliq_Fusion_Container_Set_of_3",
           "Home Care",
           "mysuru"
          ],
          [
           "Atliq_Suflower_Oil (1L)",
           "Grocery & Staples",
           "coimbatore"
          ],
          [
           "Atliq_Scrub_Sponge_For_Dishwash",
           "Home Care",
           "coimbatore"
          ],
          [
           "Atliq_Fusion_Container_Set_of_3",
           "Home Care",
           "bengaluru"
          ],
          [
           "Atliq_Cream_Beauty_Bathing_Soap (125GM)",
           "Personal Care",
           "madurai"
          ]
         ],
         "hovertemplate": "promo_type=%{x}<br>base_price=%{marker.size}<br>product_name=%{customdata[0]}<br>category=%{customdata[1]}<br>city=%{customdata[2]}<extra></extra>",
         "legendgroup": "25% OFF",
         "marker": {
          "color": "#EF553B",
          "opacity": 0.7,
          "size": {
           "bdata": "nAA3ADIAnwEiAZ8BnwGcAFoANwAiAZwAnwE3ADIAMgA3AJ8BnAA3ACIBnAA3ADIAIgGfAZ8BMgA3AFoANwCcADIAMgBaADIANwA3ADcAnwGcAJ8BnwEyAJwAnwGfAZwAnAA3ACIBnAAyAJ8BnACfATcAnwFaAJ8BNwA3ACIBWgCfATcANwBaAJwAIgEiAZ8BWgAiASIBIgEyAJ8BnwEyAJwAnAA3ADcANwCfAZ8BMgAiATcAnwGfAZ8BWgCfASIBNwCcAJ8BnwE3AJ8BnwE3ADcAIgGfAZ8BnwGfATcANwBaADcAnwGcACIBWgBaAJ8BnwEyADcAnwEiATIAWgCcAJwANwA3AJwAWgCfATcAnwEyAJwAnwEyACIBNwA3ACIBnwE3ADIANwCfAZ8BNwCfAVoAnAA3AJ8BNwCcADcAWgAyAFoAWgBaAFoANwA3ADIAWgAiASIBMgA3AFoAMgA3AFoAWgA3AJ8BnwGfASIBnwFaAJ8BIgGcAJwANwBaAJwANwA3AJ8BnwGfATIAnwGfATIAnAA3ADIAnAA3ADIAIgE3ACIBnwE3ACIBnAA3ADcANwCfASIBnACfASIBIgEiATcAnwEyADcAWgCfASIBNwA3ADcAnwEiAVoAMgA3ADcAWgCfAZwAnwE3AJwANwAiASIBIgGcADcANwA3AJ8BnACfATcAnwGfATIAWgCfAVoAMgAyADIAnAA3ADcANwBaAJ8BNwBaACIBNwBaAFoAMgCcAJ8BnAAyAFoAIgFaAFoAMgBaAJwAWgBaAJ8BnACfAZ8BnwE3AJ8BMgAiATcANwCfAVoAMgCfASIBNwAiATIANwA3ADIAnwGfATcAMgA3ACIBnwGfATcAnwGcADcAIgE3AJ8BnwEiAZwANwAiASIBNwCfATIAWgAyADIAnwGcAJ8BnAA3ADcAnwE3ACIBnACfAVoAIgGcADcANwA3ADcANwA3AJwAMgBaAJ8BMgCfATcAnwFaAJ8BMgA3AJwAWgBaAJwAWgAyACIBMgCfAVoANwCfAZ8BMgCfASIBIgE3AJwAIgFaAJ8BnAA3AJ8BMgA=",
           "dtype": "i2"
          },
          "sizemode": "area",
          "sizeref": 7.5,
          "symbol": "circle"
         },
         "mode": "markers",
         "name": "25% OFF",
         "showlegend": true,
         "type": "scattergl",
         "x": [
          "25% OFF",
          "25% OFF",
          "25% OFF",
          "25% OFF",
          "25% OFF",
          "25% OFF",
          "25% OFF",
          "25% OFF",
          "25% OFF",
          "25% OFF",
          "25% OFF",
          "25% OFF",
          "25% OFF",
          "25% OFF",
          "25% OFF",
          "25% OFF",
          "25% OFF",
          "25% OFF",
          "25% OFF",
          "25% OFF",
          "25% OFF",
          "25% OFF",
          "25% OFF",
          "25% OFF",
          "25% OFF",
          "25% OFF",
          "25% OFF",
          "25% OFF",
          "25% OFF",
          "25% OFF",
          "25% OFF",
          "25% OFF",
          "25% OFF",
          "25% OFF",
          "25% OFF",
          "25% OFF",
          "25% OFF",
          "25% OFF",
          "25% OFF",
          "25% OFF",
          "25% OFF",
          "25% OFF",
          "25% OFF",
          "25% OFF",
          "25% OFF",
          "25% OFF",
          "25% OFF",
          "25% OFF",
          "25% OFF",
          "25% OFF",
          "25% OFF",
          "25% OFF",
          "25% OFF",
          "25% OFF",
          "25% OFF",
          "25% OFF",
          "25% OFF",
          "25% OFF",
          "25% OFF",
          "25% OFF",
          "25% OFF",
          "25% OFF",
          "25% OFF",
          "25% OFF",
          "25% OFF",
          "25% OFF",
          "25% OFF",
          "25% OFF",
          "25% OFF",
          "25% OFF",
          "25% OFF",
          "25% OFF",
          "25% OFF",
          "25% OFF",
          "25% OFF",
          "25% OFF",
          "25% OFF",
          "25% OFF",
          "25% OFF",
          "25% OFF",
          "25% OFF",
          "25% OFF",
          "25% OFF",
          "25% OFF",
          "25% OFF",
          "25% OFF",
          "25% OFF",
          "25% OFF",
          "25% OFF",
          "25% OFF",
          "25% OFF",
          "25% OFF",
          "25% OFF",
          "25% OFF",
          "25% OFF",
          "25% OFF",
          "25% OFF",
          "25% OFF",
          "25% OFF",
          "25% OFF",
          "25% OFF",
          "25% OFF",
          "25% OFF",
          "25% OFF",
          "25% OFF",
          "25% OFF",
          "25% OFF",
          "25% OFF",
          "25% OFF",
          "25% OFF",
          "25% OFF",
          "25% OFF",
          "25% OFF",
          "25% OFF",
          "25% OFF",
          "25% OFF",
          "25% OFF",
          "25% OFF",
          "25% OFF",
          "25% OFF",
          "25% OFF",
          "25% OFF",
          "25% OFF",
          "25% OFF",
          "25% OFF",
          "25% OFF",
          "25% OFF",
          "25% OFF",
          "25% OFF",
          "25% OFF",
          "25% OFF",
          "25% OFF",
          "25% OFF",
          "25% OFF",
          "25% OFF",
          "25% OFF",
          "25% OFF",
          "25% OFF",
          "25% OFF",
          "25% OFF",
          "25% OFF",
          "25% OFF",
          "25% OFF",
          "25% OFF",
          "25% OFF",
          "25% OFF",
          "25% OFF",
          "25% OFF",
          "25% OFF",
          "25% OFF",
          "25% OFF",
          "25% OFF",
          "25% OFF",
          "25% OFF",
          "25% OFF",
          "25% OFF",
          "25% OFF",
          "25% OFF",
          "25% OFF",
          "25% OFF",
          "25% OFF",
          "25% OFF",
          "25% OFF",
          "25% OFF",
          "25% OFF",
          "25% OFF",
          "25% OFF",
          "25% OFF",
          "25% OFF",
          "25% OFF",
          "25% OFF",
          "25% OFF",
          "25% OFF",
          "25% OFF",
          "25% OFF",
          "25% OFF",
          "25% OFF",
          "25% OFF",
          "25% OFF",
          "25% OFF",
          "25% OFF",
          "25% OFF",
          "25% OFF",
          "25% OFF",
          "25% OFF",
          "25% OFF",
          "25% OFF",
          "25% OFF",
          "25% OFF",
          "25% OFF",
          "25% OFF",
          "25% OFF",
          "25% OFF",
          "25% OFF",
          "25% OFF",
          "25% OFF",
          "25% OFF",
          "25% OFF",
          "25% OFF",
          "25% OFF",
          "25% OFF",
          "25% OFF",
          "25% OFF",
          "25% OFF",
          "25% OFF",
          "25% OFF",
          "25% OFF",
          "25% OFF",
          "25% OFF",
          "25% OFF",
          "25% OFF",
          "25% OFF",
          "25% OFF",
          "25% OFF",
          "25% OFF",
          "25% OFF",
          "25% OFF",
          "25% OFF",
          "25% OFF",
          "25% OFF",
          "25% OFF",
          "25% OFF",
          "25% OFF",
          "25% OFF",
          "25% OFF",
          "25% OFF",
          "25% OFF",
          "25% OFF",
          "25% OFF",
          "25% OFF",
          "25% OFF",
          "25% OFF",
          "25% OFF",
          "25% OFF",
          "25% OFF",
          "25% OFF",
          "25% OFF",
          "25% OFF",
          "25% OFF",
          "25% OFF",
          "25% OFF",
          "25% OFF",
          "25% OFF",
          "25% OFF",
          "25% OFF",
          "25% OFF",
          "25% OFF",
          "25% OFF",
          "25% OFF",
          "25% OFF",
          "25% OFF",
          "25% OFF",
          "25% OFF",
          "25% OFF",
          "25% OFF",
          "25% OFF",
          "25% OFF",
          "25% OFF",
          "25% OFF",
          "25% OFF",
          "25% OFF",
          "25% OFF",
          "25% OFF",
          "25% OFF",
          "25% OFF",
          "25% OFF",
          "25% OFF",
          "25% OFF",
          "25% OFF",
          "25% OFF",
          "25% OFF",
          "25% OFF",
          "25% OFF",
          "25% OFF",
          "25% OFF",
          "25% OFF",
          "25% OFF",
          "25% OFF",
          "25% OFF",
          "25% OFF",
          "25% OFF",
          "25% OFF",
          "25% OFF",
          "25% OFF",
          "25% OFF",
          "25% OFF",
          "25% OFF",
          "25% OFF",
          "25% OFF",
          "25% OFF",
          "25% OFF",
          "25% OFF",
          "25% OFF",
          "25% OFF",
          "25% OFF",
          "25% OFF",
          "25% OFF",
          "25% OFF",
          "25% OFF",
          "25% OFF",
          "25% OFF",
          "25% OFF",
          "25% OFF",
          "25% OFF",
          "25% OFF",
          "25% OFF",
          "25% OFF",
          "25% OFF",
          "25% OFF",
          "25% OFF",
          "25% OFF",
          "25% OFF",
          "25% OFF",
          "25% OFF",
          "25% OFF",
          "25% OFF",
          "25% OFF",
          "25% OFF",
          "25% OFF",
          "25% OFF",
          "25% OFF",
          "25% OFF",
          "25% OFF",
          "25% OFF",
          "25% OFF",
          "25% OFF",
          "25% OFF",
          "25% OFF",
          "25% OFF",
          "25% OFF",
          "25% OFF",
          "25% OFF",
          "25% OFF",
          "25% OFF",
          "25% OFF",
          "25% OFF",
          "25% OFF",
          "25% OFF",
          "25% OFF",
          "25% OFF",
          "25% OFF",
          "25% OFF",
          "25% OFF",
          "25% OFF",
          "25% OFF",
          "25% OFF",
          "25% OFF",
          "25% OFF",
          "25% OFF",
          "25% OFF",
          "25% OFF",
          "25% OFF",
          "25% OFF",
          "25% OFF",
          "25% OFF",
          "25% OFF",
          "25% OFF",
          "25% OFF",
          "25% OFF",
          "25% OFF",
          "25% OFF",
          "25% OFF",
          "25% OFF",
          "25% OFF",
          "25% OFF",
          "25% OFF",
          "25% OFF",
          "25% OFF",
          "25% OFF",
          "25% OFF",
          "25% OFF",
          "25% OFF",
          "25% OFF",
          "25% OFF",
          "25% OFF",
          "25% OFF",
          "25% OFF",
          "25% OFF",
          "25% OFF",
          "25% OFF",
          "25% OFF",
          "25% OFF",
          "25% OFF",
          "25% OFF",
          "25% OFF",
          "25% OFF",
          "25% OFF",
          "25% OFF",
          "25% OFF",
          "25% OFF",
          "25% OFF",
          "25% OFF",
          "25% OFF",
          "25% OFF",
          "25% OFF",
          "25% OFF",
          "25% OFF",
          "25% OFF",
          "25% OFF",
          "25% OFF"
         ],
         "xaxis": "x",
         "y": {
          "bdata": "nAA3ADIAnwEiAZ8BnwGcAFoANwAiAZwAnwE3ADIAMgA3AJ8BnAA3ACIBnAA3ADIAIgGfAZ8BMgA3AFoANwCcADIAMgBaADIANwA3ADcAnwGcAJ8BnwEyAJwAnwGfAZwAnAA3ACIBnAAyAJ8BnACfATcAnwFaAJ8BNwA3ACIBWgCfATcANwBaAJwAIgEiAZ8BWgAiASIBIgEyAJ8BnwEyAJwAnAA3ADcANwCfAZ8BMgAiATcAnwGfAZ8BWgCfASIBNwCcAJ8BnwE3AJ8BnwE3ADcAIgGfAZ8BnwGfATcANwBaADcAnwGcACIBWgBaAJ8BnwEyADcAnwEiATIAWgCcAJwANwA3AJwAWgCfATcAnwEyAJwAnwEyACIBNwA3ACIBnwE3ADIANwCfAZ8BNwCfAVoAnAA3AJ8BNwCcADcAWgAyAFoAWgBaAFoANwA3ADIAWgAiASIBMgA3AFoAMgA3AFoAWgA3AJ8BnwGfASIBnwFaAJ8BIgGcAJwANwBaAJwANwA3AJ8BnwGfATIAnwGfATIAnAA3ADIAnAA3ADIAIgE3ACIBnwE3ACIBnAA3ADcANwCfASIBnACfASIBIgEiATcAnwEyADcAWgCfASIBNwA3ADcAnwEiAVoAMgA3ADcAWgCfAZwAnwE3AJwANwAiASIBIgGcADcANwA3AJ8BnACfATcAnwGfATIAWgCfAVoAMgAyADIAnAA3ADcANwBaAJ8BNwBaACIBNwBaAFoAMgCcAJ8BnAAyAFoAIgFaAFoAMgBaAJwAWgBaAJ8BnACfAZ8BnwE3AJ8BMgAiATcANwCfAVoAMgCfASIBNwAiATIANwA3ADIAnwGfATcAMgA3ACIBnwGfATcAnwGcADcAIgE3AJ8BnwEiAZwANwAiASIBNwCfATIAWgAyADIAnwGcAJ8BnAA3ADcAnwE3ACIBnACfAVoAIgGcADcANwA3ADcANwA3AJwAMgBaAJ8BMgCfATcAnwFaAJ8BMgA3AJwAWgBaAJwAWgAyACIBMgCfAVoANwCfAZ8BMgCfASIBIgE3AJwAIgFaAJ8BnAA3AJ8BMgA=",
          "dtype": "i2"
         },
         "yaxis": "y"
        },
        {
         "customdata": [
          [
           "Atliq_Curtains",
           "Home Care",
           "vijayawada"
          ],
          [
           "Atliq_High_Glo_15W_LED_Bulb",
           "Home Appliances",
           "hyderabad"
          ],
          [
           "Atliq_Double_Bedsheet_set",
           "Home Care",
           "coimbatore"
          ],
          [
           "Atliq_Suflower_Oil (1L)",
           "Grocery & Staples",
           "madurai"
          ],
          [
           "Atliq_Curtains",
           "Home Care",
           "chennai"
          ],
          [
           "Atliq_Curtains",
           "Home Care",
           "hyderabad"
          ],
          [
           "Atliq_waterproof_Immersion_Rod",
           "Home Appliances",
           "bengaluru"
          ],
          [
           "Atliq_High_Glo_15W_LED_Bulb",
           "Home Appliances",
           "chennai"
          ],
          [
           "Atliq_Double_Bedsheet_set",
           "Home Care",
           "trivandrum"
          ],
          [
           "Atliq_waterproof_Immersion_Rod",
           "Home Appliances",
           "mysuru"
          ],
          [
           "Atliq_High_Glo_15W_LED_Bulb",
           "Home Appliances",
           "coimbatore"
          ],
          [
           "Atliq_Double_Bedsheet_set",
           "Home Care",
           "madurai"
          ],
          [
           "Atliq_Double_Bedsheet_set",
           "Home Care",
           "vijayawada"
          ],
          [
           "Atliq_Suflower_Oil (1L)",
           "Grocery & Staples",
           "bengaluru"
          ],
          [
           "Atliq_Suflower_Oil (1L)",
           "Grocery & Staples",
           "mysuru"
          ],
          [
           "Atliq_Double_Bedsheet_set",
           "Home Care",
           "vijayawada"
          ],
          [
           "Atliq_waterproof_Immersion_Rod",
           "Home Appliances",
           "bengaluru"
          ],
          [
           "Atliq_Curtains",
           "Home Care",
           "coimbatore"
          ],
          [
           "Atliq_High_Glo_15W_LED_Bulb",
           "Home Appliances",
           "mysuru"
          ],
          [
           "Atliq_waterproof_Immersion_Rod",
           "Home Appliances",
           "coimbatore"
          ],
          [
           "Atliq_High_Glo_15W_LED_Bulb",
           "Home Appliances",
           "mysuru"
          ],
          [
           "Atliq_Curtains",
           "Home Care",
           "chennai"
          ],
          [
           "Atliq_Farm_Chakki_Atta (1KG)",
           "Grocery & Staples",
           "vijayawada"
          ],
          [
           "Atliq_waterproof_Immersion_Rod",
           "Home Appliances",
           "hyderabad"
          ],
          [
           "Atliq_Double_Bedsheet_set",
           "Home Care",
           "visakhapatnam"
          ],
          [
           "Atliq_Suflower_Oil (1L)",
           "Grocery & Staples",
           "visakhapatnam"
          ],
          [
           "Atliq_Curtains",
           "Home Care",
           "bengaluru"
          ],
          [
           "Atliq_High_Glo_15W_LED_Bulb",
           "Home Appliances",
           "bengaluru"
          ],
          [
           "Atliq_Curtains",
           "Home Care",
           "bengaluru"
          ],
          [
           "Atliq_Double_Bedsheet_set",
           "Home Care",
           "mysuru"
          ],
          [
           "Atliq_High_Glo_15W_LED_Bulb",
           "Home Appliances",
           "chennai"
          ],
          [
           "Atliq_Farm_Chakki_Atta (1KG)",
           "Grocery & Staples",
           "chennai"
          ],
          [
           "Atliq_High_Glo_15W_LED_Bulb",
           "Home Appliances",
           "hyderabad"
          ],
          [
           "Atliq_High_Glo_15W_LED_Bulb",
           "Home Appliances",
           "hyderabad"
          ],
          [
           "Atliq_Double_Bedsheet_set",
           "Home Care",
           "chennai"
          ],
          [
           "Atliq_Suflower_Oil (1L)",
           "Grocery & Staples",
           "vijayawada"
          ],
          [
           "Atliq_High_Glo_15W_LED_Bulb",
           "Home Appliances",
           "hyderabad"
          ],
          [
           "Atliq_Curtains",
           "Home Care",
           "hyderabad"
          ],
          [
           "Atliq_Double_Bedsheet_set",
           "Home Care",
           "madurai"
          ],
          [
           "Atliq_Double_Bedsheet_set",
           "Home Care",
           "bengaluru"
          ],
          [
           "Atliq_Suflower_Oil (1L)",
           "Grocery & Staples",
           "bengaluru"
          ],
          [
           "Atliq_Curtains",
           "Home Care",
           "coimbatore"
          ],
          [
           "Atliq_Curtains",
           "Home Care",
           "visakhapatnam"
          ],
          [
           "Atliq_waterproof_Immersion_Rod",
           "Home Appliances",
           "mysuru"
          ],
          [
           "Atliq_Curtains",
           "Home Care",
           "bengaluru"
          ],
          [
           "Atliq_Curtains",
           "Home Care",
           "coimbatore"
          ],
          [
           "Atliq_waterproof_Immersion_Rod",
           "Home Appliances",
           "chennai"
          ],
          [
           "Atliq_waterproof_Immersion_Rod",
           "Home Appliances",
           "visakhapatnam"
          ],
          [
           "Atliq_waterproof_Immersion_Rod",
           "Home Appliances",
           "madurai"
          ],
          [
           "Atliq_High_Glo_15W_LED_Bulb",
           "Home Appliances",
           "hyderabad"
          ],
          [
           "Atliq_High_Glo_15W_LED_Bulb",
           "Home Appliances",
           "hyderabad"
          ],
          [
           "Atliq_Double_Bedsheet_set",
           "Home Care",
           "mangalore"
          ],
          [
           "Atliq_Farm_Chakki_Atta (1KG)",
           "Grocery & Staples",
           "coimbatore"
          ],
          [
           "Atliq_High_Glo_15W_LED_Bulb",
           "Home Appliances",
           "bengaluru"
          ],
          [
           "Atliq_Double_Bedsheet_set",
           "Home Care",
           "madurai"
          ],
          [
           "Atliq_High_Glo_15W_LED_Bulb",
           "Home Appliances",
           "mangalore"
          ],
          [
           "Atliq_Farm_Chakki_Atta (1KG)",
           "Grocery & Staples",
           "visakhapatnam"
          ],
          [
           "Atliq_Double_Bedsheet_set",
           "Home Care",
           "hyderabad"
          ],
          [
           "Atliq_waterproof_Immersion_Rod",
           "Home Appliances",
           "visakhapatnam"
          ],
          [
           "Atliq_Suflower_Oil (1L)",
           "Grocery & Staples",
           "coimbatore"
          ],
          [
           "Atliq_Curtains",
           "Home Care",
           "trivandrum"
          ],
          [
           "Atliq_Double_Bedsheet_set",
           "Home Care",
           "hyderabad"
          ],
          [
           "Atliq_Double_Bedsheet_set",
           "Home Care",
           "mangalore"
          ],
          [
           "Atliq_waterproof_Immersion_Rod",
           "Home Appliances",
           "bengaluru"
          ],
          [
           "Atliq_Curtains",
           "Home Care",
           "mangalore"
          ],
          [
           "Atliq_Curtains",
           "Home Care",
           "hyderabad"
          ],
          [
           "Atliq_High_Glo_15W_LED_Bulb",
           "Home Appliances",
           "chennai"
          ],
          [
           "Atliq_waterproof_Immersion_Rod",
           "Home Appliances",
           "visakhapatnam"
          ],
          [
           "Atliq_Double_Bedsheet_set",
           "Home Care",
           "bengaluru"
          ],
          [
           "Atliq_High_Glo_15W_LED_Bulb",
           "Home Appliances",
           "chennai"
          ],
          [
           "Atliq_High_Glo_15W_LED_Bulb",
           "Home Appliances",
           "hyderabad"
          ],
          [
           "Atliq_High_Glo_15W_LED_Bulb",
           "Home Appliances",
           "chennai"
          ],
          [
           "Atliq_waterproof_Immersion_Rod",
           "Home Appliances",
           "vijayawada"
          ],
          [
           "Atliq_waterproof_Immersion_Rod",
           "Home Appliances",
           "chennai"
          ],
          [
           "Atliq_waterproof_Immersion_Rod",
           "Home Appliances",
           "trivandrum"
          ],
          [
           "Atliq_Suflower_Oil (1L)",
           "Grocery & Staples",
           "mangalore"
          ],
          [
           "Atliq_Double_Bedsheet_set",
           "Home Care",
           "hyderabad"
          ],
          [
           "Atliq_Double_Bedsheet_set",
           "Home Care",
           "coimbatore"
          ],
          [
           "Atliq_Double_Bedsheet_set",
           "Home Care",
           "chennai"
          ],
          [
           "Atliq_High_Glo_15W_LED_Bulb",
           "Home Appliances",
           "vijayawada"
          ],
          [
           "Atliq_Curtains",
           "Home Care",
           "madurai"
          ],
          [
           "Atliq_waterproof_Immersion_Rod",
           "Home Appliances",
           "bengaluru"
          ],
          [
           "Atliq_Curtains",
           "Home Care",
           "chennai"
          ],
          [
           "Atliq_High_Glo_15W_LED_Bulb",
           "Home Appliances",
           "madurai"
          ],
          [
           "Atliq_Double_Bedsheet_set",
           "Home Care",
           "hyderabad"
          ],
          [
           "Atliq_waterproof_Immersion_Rod",
           "Home Appliances",
           "visakhapatnam"
          ],
          [
           "Atliq_Curtains",
           "Home Care",
           "mangalore"
          ],
          [
           "Atliq_waterproof_Immersion_Rod",
           "Home Appliances",
           "madurai"
          ],
          [
           "Atliq_Curtains",
           "Home Care",
           "mysuru"
          ],
          [
           "Atliq_Curtains",
           "Home Care",
           "chennai"
          ],
          [
           "Atliq_Suflower_Oil (1L)",
           "Grocery & Staples",
           "mangalore"
          ],
          [
           "Atliq_Double_Bedsheet_set",
           "Home Care",
           "chennai"
          ],
          [
           "Atliq_Curtains",
           "Home Care",
           "chennai"
          ],
          [
           "Atliq_waterproof_Immersion_Rod",
           "Home Appliances",
           "coimbatore"
          ],
          [
           "Atliq_Double_Bedsheet_set",
           "Home Care",
           "bengaluru"
          ],
          [
           "Atliq_Curtains",
           "Home Care",
           "coimbatore"
          ],
          [
           "Atliq_Curtains",
           "Home Care",
           "chennai"
          ],
          [
           "Atliq_Double_Bedsheet_set",
           "Home Care",
           "visakhapatnam"
          ],
          [
           "Atliq_Curtains",
           "Home Care",
           "bengaluru"
          ],
          [
           "Atliq_High_Glo_15W_LED_Bulb",
           "Home Appliances",
           "chennai"
          ],
          [
           "Atliq_waterproof_Immersion_Rod",
           "Home Appliances",
           "chennai"
          ],
          [
           "Atliq_Double_Bedsheet_set",
           "Home Care",
           "hyderabad"
          ],
          [
           "Atliq_waterproof_Immersion_Rod",
           "Home Appliances",
           "mangalore"
          ],
          [
           "Atliq_Double_Bedsheet_set",
           "Home Care",
           "vijayawada"
          ],
          [
           "Atliq_Double_Bedsheet_set",
           "Home Care",
           "bengaluru"
          ],
          [
           "Atliq_Curtains",
           "Home Care",
           "coimbatore"
          ],
          [
           "Atliq_Double_Bedsheet_set",
           "Home Care",
           "bengaluru"
          ],
          [
           "Atliq_Curtains",
           "Home Care",
           "visakhapatnam"
          ],
          [
           "Atliq_Curtains",
           "Home Care",
           "trivandrum"
          ],
          [
           "Atliq_Farm_Chakki_Atta (1KG)",
           "Grocery & Staples",
           "trivandrum"
          ],
          [
           "Atliq_Double_Bedsheet_set",
           "Home Care",
           "bengaluru"
          ],
          [
           "Atliq_Curtains",
           "Home Care",
           "chennai"
          ],
          [
           "Atliq_Curtains",
           "Home Care",
           "coimbatore"
          ],
          [
           "Atliq_High_Glo_15W_LED_Bulb",
           "Home Appliances",
           "chennai"
          ],
          [
           "Atliq_waterproof_Immersion_Rod",
           "Home Appliances",
           "coimbatore"
          ],
          [
           "Atliq_Farm_Chakki_Atta (1KG)",
           "Grocery & Staples",
           "chennai"
          ],
          [
           "Atliq_High_Glo_15W_LED_Bulb",
           "Home Appliances",
           "trivandrum"
          ],
          [
           "Atliq_waterproof_Immersion_Rod",
           "Home Appliances",
           "hyderabad"
          ],
          [
           "Atliq_Curtains",
           "Home Care",
           "bengaluru"
          ],
          [
           "Atliq_waterproof_Immersion_Rod",
           "Home Appliances",
           "madurai"
          ],
          [
           "Atliq_Curtains",
           "Home Care",
           "coimbatore"
          ],
          [
           "Atliq_High_Glo_15W_LED_Bulb",
           "Home Appliances",
           "bengaluru"
          ],
          [
           "Atliq_waterproof_Immersion_Rod",
           "Home Appliances",
           "mangalore"
          ],
          [
           "Atliq_Curtains",
           "Home Care",
           "bengaluru"
          ],
          [
           "Atliq_Suflower_Oil (1L)",
           "Grocery & Staples",
           "mangalore"
          ],
          [
           "Atliq_Curtains",
           "Home Care",
           "vijayawada"
          ],
          [
           "Atliq_waterproof_Immersion_Rod",
           "Home Appliances",
           "mangalore"
          ],
          [
           "Atliq_High_Glo_15W_LED_Bulb",
           "Home Appliances",
           "coimbatore"
          ],
          [
           "Atliq_High_Glo_15W_LED_Bulb",
           "Home Appliances",
           "coimbatore"
          ],
          [
           "Atliq_Double_Bedsheet_set",
           "Home Care",
           "bengaluru"
          ],
          [
           "Atliq_Curtains",
           "Home Care",
           "hyderabad"
          ],
          [
           "Atliq_Curtains",
           "Home Care",
           "bengaluru"
          ],
          [
           "Atliq_Curtains",
           "Home Care",
           "visakhapatnam"
          ],
          [
           "Atliq_Double_Bedsheet_set",
           "Home Care",
           "bengaluru"
          ],
          [
           "Atliq_High_Glo_15W_LED_Bulb",
           "Home Appliances",
           "mangalore"
          ],
          [
           "Atliq_Suflower_Oil (1L)",
           "Grocery & Staples",
           "coimbatore"
          ],
          [
           "Atliq_Double_Bedsheet_set",
           "Home Care",
           "hyderabad"
          ],
          [
           "Atliq_waterproof_Immersion_Rod",
           "Home Appliances",
           "coimbatore"
          ],
          [
           "Atliq_waterproof_Immersion_Rod",
           "Home Appliances",
           "bengaluru"
          ],
          [
           "Atliq_waterproof_Immersion_Rod",
           "Home Appliances",
           "mysuru"
          ],
          [
           "Atliq_Suflower_Oil (1L)",
           "Grocery & Staples",
           "chennai"
          ],
          [
           "Atliq_Suflower_Oil (1L)",
           "Grocery & Staples",
           "mysuru"
          ],
          [
           "Atliq_waterproof_Immersion_Rod",
           "Home Appliances",
           "chennai"
          ],
          [
           "Atliq_Double_Bedsheet_set",
           "Home Care",
           "madurai"
          ],
          [
           "Atliq_Suflower_Oil (1L)",
           "Grocery & Staples",
           "visakhapatnam"
          ],
          [
           "Atliq_Double_Bedsheet_set",
           "Home Care",
           "bengaluru"
          ],
          [
           "Atliq_High_Glo_15W_LED_Bulb",
           "Home Appliances",
           "mangalore"
          ],
          [
           "Atliq_Double_Bedsheet_set",
           "Home Care",
           "chennai"
          ],
          [
           "Atliq_Double_Bedsheet_set",
           "Home Care",
           "chennai"
          ],
          [
           "Atliq_High_Glo_15W_LED_Bulb",
           "Home Appliances",
           "bengaluru"
          ],
          [
           "Atliq_waterproof_Immersion_Rod",
           "Home Appliances",
           "chennai"
          ],
          [
           "Atliq_High_Glo_15W_LED_Bulb",
           "Home Appliances",
           "bengaluru"
          ],
          [
           "Atliq_waterproof_Immersion_Rod",
           "Home Appliances",
           "mangalore"
          ],
          [
           "Atliq_Suflower_Oil (1L)",
           "Grocery & Staples",
           "chennai"
          ],
          [
           "Atliq_waterproof_Immersion_Rod",
           "Home Appliances",
           "bengaluru"
          ],
          [
           "Atliq_waterproof_Immersion_Rod",
           "Home Appliances",
           "hyderabad"
          ],
          [
           "Atliq_Suflower_Oil (1L)",
           "Grocery & Staples",
           "hyderabad"
          ],
          [
           "Atliq_Double_Bedsheet_set",
           "Home Care",
           "coimbatore"
          ],
          [
           "Atliq_Farm_Chakki_Atta (1KG)",
           "Grocery & Staples",
           "bengaluru"
          ],
          [
           "Atliq_Suflower_Oil (1L)",
           "Grocery & Staples",
           "trivandrum"
          ],
          [
           "Atliq_Double_Bedsheet_set",
           "Home Care",
           "coimbatore"
          ],
          [
           "Atliq_High_Glo_15W_LED_Bulb",
           "Home Appliances",
           "visakhapatnam"
          ],
          [
           "Atliq_waterproof_Immersion_Rod",
           "Home Appliances",
           "chennai"
          ],
          [
           "Atliq_Curtains",
           "Home Care",
           "chennai"
          ],
          [
           "Atliq_Double_Bedsheet_set",
           "Home Care",
           "madurai"
          ],
          [
           "Atliq_Suflower_Oil (1L)",
           "Grocery & Staples",
           "hyderabad"
          ],
          [
           "Atliq_Farm_Chakki_Atta (1KG)",
           "Grocery & Staples",
           "hyderabad"
          ],
          [
           "Atliq_Double_Bedsheet_set",
           "Home Care",
           "hyderabad"
          ],
          [
           "Atliq_Double_Bedsheet_set",
           "Home Care",
           "coimbatore"
          ],
          [
           "Atliq_Double_Bedsheet_set",
           "Home Care",
           "chennai"
          ],
          [
           "Atliq_High_Glo_15W_LED_Bulb",
           "Home Appliances",
           "visakhapatnam"
          ],
          [
           "Atliq_waterproof_Immersion_Rod",
           "Home Appliances",
           "hyderabad"
          ],
          [
           "Atliq_waterproof_Immersion_Rod",
           "Home Appliances",
           "bengaluru"
          ],
          [
           "Atliq_High_Glo_15W_LED_Bulb",
           "Home Appliances",
           "bengaluru"
          ],
          [
           "Atliq_Double_Bedsheet_set",
           "Home Care",
           "coimbatore"
          ],
          [
           "Atliq_Farm_Chakki_Atta (1KG)",
           "Grocery & Staples",
           "bengaluru"
          ],
          [
           "Atliq_Curtains",
           "Home Care",
           "coimbatore"
          ],
          [
           "Atliq_waterproof_Immersion_Rod",
           "Home Appliances",
           "hyderabad"
          ],
          [
           "Atliq_Double_Bedsheet_set",
           "Home Care",
           "hyderabad"
          ],
          [
           "Atliq_Suflower_Oil (1L)",
           "Grocery & Staples",
           "hyderabad"
          ],
          [
           "Atliq_High_Glo_15W_LED_Bulb",
           "Home Appliances",
           "bengaluru"
          ],
          [
           "Atliq_Curtains",
           "Home Care",
           "chennai"
          ],
          [
           "Atliq_Double_Bedsheet_set",
           "Home Care",
           "hyderabad"
          ],
          [
           "Atliq_Double_Bedsheet_set",
           "Home Care",
           "mangalore"
          ],
          [
           "Atliq_waterproof_Immersion_Rod",
           "Home Appliances",
           "visakhapatnam"
          ],
          [
           "Atliq_Curtains",
           "Home Care",
           "bengaluru"
          ],
          [
           "Atliq_High_Glo_15W_LED_Bulb",
           "Home Appliances",
           "bengaluru"
          ],
          [
           "Atliq_Farm_Chakki_Atta (1KG)",
           "Grocery & Staples",
           "mangalore"
          ],
          [
           "Atliq_High_Glo_15W_LED_Bulb",
           "Home Appliances",
           "mysuru"
          ],
          [
           "Atliq_waterproof_Immersion_Rod",
           "Home Appliances",
           "bengaluru"
          ],
          [
           "Atliq_High_Glo_15W_LED_Bulb",
           "Home Appliances",
           "hyderabad"
          ],
          [
           "Atliq_Curtains",
           "Home Care",
           "chennai"
          ],
          [
           "Atliq_waterproof_Immersion_Rod",
           "Home Appliances",
           "madurai"
          ],
          [
           "Atliq_Suflower_Oil (1L)",
           "Grocery & Staples",
           "coimbatore"
          ],
          [
           "Atliq_Suflower_Oil (1L)",
           "Grocery & Staples",
           "hyderabad"
          ],
          [
           "Atliq_High_Glo_15W_LED_Bulb",
           "Home Appliances",
           "bengaluru"
          ],
          [
           "Atliq_Farm_Chakki_Atta (1KG)",
           "Grocery & Staples",
           "chennai"
          ],
          [
           "Atliq_Double_Bedsheet_set",
           "Home Care",
           "bengaluru"
          ],
          [
           "Atliq_Curtains",
           "Home Care",
           "trivandrum"
          ],
          [
           "Atliq_Farm_Chakki_Atta (1KG)",
           "Grocery & Staples",
           "chennai"
          ],
          [
           "Atliq_waterproof_Immersion_Rod",
           "Home Appliances",
           "chennai"
          ],
          [
           "Atliq_Double_Bedsheet_set",
           "Home Care",
           "hyderabad"
          ],
          [
           "Atliq_Curtains",
           "Home Care",
           "visakhapatnam"
          ],
          [
           "Atliq_Suflower_Oil (1L)",
           "Grocery & Staples",
           "trivandrum"
          ],
          [
           "Atliq_Farm_Chakki_Atta (1KG)",
           "Grocery & Staples",
           "visakhapatnam"
          ],
          [
           "Atliq_Double_Bedsheet_set",
           "Home Care",
           "mangalore"
          ],
          [
           "Atliq_High_Glo_15W_LED_Bulb",
           "Home Appliances",
           "trivandrum"
          ],
          [
           "Atliq_Suflower_Oil (1L)",
           "Grocery & Staples",
           "chennai"
          ],
          [
           "Atliq_waterproof_Immersion_Rod",
           "Home Appliances",
           "hyderabad"
          ],
          [
           "Atliq_Double_Bedsheet_set",
           "Home Care",
           "chennai"
          ],
          [
           "Atliq_High_Glo_15W_LED_Bulb",
           "Home Appliances",
           "coimbatore"
          ],
          [
           "Atliq_High_Glo_15W_LED_Bulb",
           "Home Appliances",
           "hyderabad"
          ],
          [
           "Atliq_waterproof_Immersion_Rod",
           "Home Appliances",
           "visakhapatnam"
          ],
          [
           "Atliq_waterproof_Immersion_Rod",
           "Home Appliances",
           "mysuru"
          ],
          [
           "Atliq_Suflower_Oil (1L)",
           "Grocery & Staples",
           "visakhapatnam"
          ],
          [
           "Atliq_Farm_Chakki_Atta (1KG)",
           "Grocery & Staples",
           "bengaluru"
          ],
          [
           "Atliq_Curtains",
           "Home Care",
           "madurai"
          ],
          [
           "Atliq_Double_Bedsheet_set",
           "Home Care",
           "madurai"
          ],
          [
           "Atliq_Curtains",
           "Home Care",
           "bengaluru"
          ],
          [
           "Atliq_Double_Bedsheet_set",
           "Home Care",
           "chennai"
          ],
          [
           "Atliq_Double_Bedsheet_set",
           "Home Care",
           "bengaluru"
          ],
          [
           "Atliq_waterproof_Immersion_Rod",
           "Home Appliances",
           "mysuru"
          ],
          [
           "Atliq_High_Glo_15W_LED_Bulb",
           "Home Appliances",
           "bengaluru"
          ],
          [
           "Atliq_Double_Bedsheet_set",
           "Home Care",
           "coimbatore"
          ],
          [
           "Atliq_Curtains",
           "Home Care",
           "hyderabad"
          ],
          [
           "Atliq_Curtains",
           "Home Care",
           "mangalore"
          ],
          [
           "Atliq_Curtains",
           "Home Care",
           "mysuru"
          ],
          [
           "Atliq_Double_Bedsheet_set",
           "Home Care",
           "madurai"
          ],
          [
           "Atliq_Curtains",
           "Home Care",
           "hyderabad"
          ],
          [
           "Atliq_Suflower_Oil (1L)",
           "Grocery & Staples",
           "chennai"
          ],
          [
           "Atliq_Suflower_Oil (1L)",
           "Grocery & Staples",
           "hyderabad"
          ],
          [
           "Atliq_Curtains",
           "Home Care",
           "mangalore"
          ],
          [
           "Atliq_Farm_Chakki_Atta (1KG)",
           "Grocery & Staples",
           "madurai"
          ],
          [
           "Atliq_Double_Bedsheet_set",
           "Home Care",
           "hyderabad"
          ],
          [
           "Atliq_Double_Bedsheet_set",
           "Home Care",
           "visakhapatnam"
          ],
          [
           "Atliq_Farm_Chakki_Atta (1KG)",
           "Grocery & Staples",
           "chennai"
          ],
          [
           "Atliq_Curtains",
           "Home Care",
           "bengaluru"
          ],
          [
           "Atliq_Farm_Chakki_Atta (1KG)",
           "Grocery & Staples",
           "chennai"
          ],
          [
           "Atliq_Double_Bedsheet_set",
           "Home Care",
           "bengaluru"
          ],
          [
           "Atliq_waterproof_Immersion_Rod",
           "Home Appliances",
           "madurai"
          ],
          [
           "Atliq_Suflower_Oil (1L)",
           "Grocery & Staples",
           "mysuru"
          ],
          [
           "Atliq_High_Glo_15W_LED_Bulb",
           "Home Appliances",
           "chennai"
          ],
          [
           "Atliq_High_Glo_15W_LED_Bulb",
           "Home Appliances",
           "coimbatore"
          ],
          [
           "Atliq_Farm_Chakki_Atta (1KG)",
           "Grocery & Staples",
           "visakhapatnam"
          ],
          [
           "Atliq_Farm_Chakki_Atta (1KG)",
           "Grocery & Staples",
           "hyderabad"
          ],
          [
           "Atliq_Double_Bedsheet_set",
           "Home Care",
           "bengaluru"
          ],
          [
           "Atliq_Curtains",
           "Home Care",
           "bengaluru"
          ],
          [
           "Atliq_Curtains",
           "Home Care",
           "chennai"
          ],
          [
           "Atliq_Suflower_Oil (1L)",
           "Grocery & Staples",
           "chennai"
          ],
          [
           "Atliq_waterproof_Immersion_Rod",
           "Home Appliances",
           "bengaluru"
          ],
          [
           "Atliq_waterproof_Immersion_Rod",
           "Home Appliances",
           "hyderabad"
          ],
          [
           "Atliq_Double_Bedsheet_set",
           "Home Care",
           "mysuru"
          ],
          [
           "Atliq_Suflower_Oil (1L)",
           "Grocery & Staples",
           "vijayawada"
          ],
          [
           "Atliq_Curtains",
           "Home Care",
           "bengaluru"
          ],
          [
           "Atliq_waterproof_Immersion_Rod",
           "Home Appliances",
           "visakhapatnam"
          ],
          [
           "Atliq_Double_Bedsheet_set",
           "Home Care",
           "bengaluru"
          ],
          [
           "Atliq_High_Glo_15W_LED_Bulb",
           "Home Appliances",
           "visakhapatnam"
          ],
          [
           "Atliq_Farm_Chakki_Atta (1KG)",
           "Grocery & Staples",
           "hyderabad"
          ],
          [
           "Atliq_Curtains",
           "Home Care",
           "visakhapatnam"
          ],
          [
           "Atliq_Farm_Chakki_Atta (1KG)",
           "Grocery & Staples",
           "bengaluru"
          ],
          [
           "Atliq_High_Glo_15W_LED_Bulb",
           "Home Appliances",
           "bengaluru"
          ],
          [
           "Atliq_Double_Bedsheet_set",
           "Home Care",
           "mangalore"
          ],
          [
           "Atliq_Farm_Chakki_Atta (1KG)",
           "Grocery & Staples",
           "coimbatore"
          ],
          [
           "Atliq_High_Glo_15W_LED_Bulb",
           "Home Appliances",
           "visakhapatnam"
          ],
          [
           "Atliq_Suflower_Oil (1L)",
           "Grocery & Staples",
           "chennai"
          ],
          [
           "Atliq_High_Glo_15W_LED_Bulb",
           "Home Appliances",
           "bengaluru"
          ],
          [
           "Atliq_Curtains",
           "Home Care",
           "madurai"
          ],
          [
           "Atliq_waterproof_Immersion_Rod",
           "Home Appliances",
           "chennai"
          ],
          [
           "Atliq_Double_Bedsheet_set",
           "Home Care",
           "visakhapatnam"
          ],
          [
           "Atliq_Farm_Chakki_Atta (1KG)",
           "Grocery & Staples",
           "coimbatore"
          ],
          [
           "Atliq_Farm_Chakki_Atta (1KG)",
           "Grocery & Staples",
           "hyderabad"
          ],
          [
           "Atliq_waterproof_Immersion_Rod",
           "Home Appliances",
           "vijayawada"
          ],
          [
           "Atliq_Double_Bedsheet_set",
           "Home Care",
           "mysuru"
          ],
          [
           "Atliq_Farm_Chakki_Atta (1KG)",
           "Grocery & Staples",
           "hyderabad"
          ],
          [
           "Atliq_High_Glo_15W_LED_Bulb",
           "Home Appliances",
           "mysuru"
          ],
          [
           "Atliq_Double_Bedsheet_set",
           "Home Care",
           "chennai"
          ],
          [
           "Atliq_High_Glo_15W_LED_Bulb",
           "Home Appliances",
           "visakhapatnam"
          ],
          [
           "Atliq_Curtains",
           "Home Care",
           "mysuru"
          ],
          [
           "Atliq_High_Glo_15W_LED_Bulb",
           "Home Appliances",
           "coimbatore"
          ],
          [
           "Atliq_Suflower_Oil (1L)",
           "Grocery & Staples",
           "madurai"
          ],
          [
           "Atliq_Double_Bedsheet_set",
           "Home Care",
           "hyderabad"
          ],
          [
           "Atliq_High_Glo_15W_LED_Bulb",
           "Home Appliances",
           "bengaluru"
          ],
          [
           "Atliq_Double_Bedsheet_set",
           "Home Care",
           "bengaluru"
          ],
          [
           "Atliq_Curtains",
           "Home Care",
           "bengaluru"
          ],
          [
           "Atliq_waterproof_Immersion_Rod",
           "Home Appliances",
           "bengaluru"
          ],
          [
           "Atliq_Double_Bedsheet_set",
           "Home Care",
           "chennai"
          ],
          [
           "Atliq_High_Glo_15W_LED_Bulb",
           "Home Appliances",
           "madurai"
          ],
          [
           "Atliq_High_Glo_15W_LED_Bulb",
           "Home Appliances",
           "visakhapatnam"
          ],
          [
           "Atliq_High_Glo_15W_LED_Bulb",
           "Home Appliances",
           "mangalore"
          ],
          [
           "Atliq_Curtains",
           "Home Care",
           "visakhapatnam"
          ],
          [
           "Atliq_Curtains",
           "Home Care",
           "bengaluru"
          ],
          [
           "Atliq_High_Glo_15W_LED_Bulb",
           "Home Appliances",
           "bengaluru"
          ],
          [
           "Atliq_Double_Bedsheet_set",
           "Home Care",
           "coimbatore"
          ],
          [
           "Atliq_High_Glo_15W_LED_Bulb",
           "Home Appliances",
           "mysuru"
          ],
          [
           "Atliq_Double_Bedsheet_set",
           "Home Care",
           "chennai"
          ],
          [
           "Atliq_High_Glo_15W_LED_Bulb",
           "Home Appliances",
           "bengaluru"
          ],
          [
           "Atliq_Farm_Chakki_Atta (1KG)",
           "Grocery & Staples",
           "bengaluru"
          ],
          [
           "Atliq_Farm_Chakki_Atta (1KG)",
           "Grocery & Staples",
           "chennai"
          ],
          [
           "Atliq_Farm_Chakki_Atta (1KG)",
           "Grocery & Staples",
           "bengaluru"
          ],
          [
           "Atliq_Double_Bedsheet_set",
           "Home Care",
           "vijayawada"
          ],
          [
           "Atliq_Double_Bedsheet_set",
           "Home Care",
           "chennai"
          ],
          [
           "Atliq_High_Glo_15W_LED_Bulb",
           "Home Appliances",
           "mangalore"
          ],
          [
           "Atliq_High_Glo_15W_LED_Bulb",
           "Home Appliances",
           "coimbatore"
          ],
          [
           "Atliq_Farm_Chakki_Atta (1KG)",
           "Grocery & Staples",
           "madurai"
          ],
          [
           "Atliq_High_Glo_15W_LED_Bulb",
           "Home Appliances",
           "trivandrum"
          ],
          [
           "Atliq_waterproof_Immersion_Rod",
           "Home Appliances",
           "chennai"
          ],
          [
           "Atliq_waterproof_Immersion_Rod",
           "Home Appliances",
           "bengaluru"
          ],
          [
           "Atliq_Curtains",
           "Home Care",
           "bengaluru"
          ],
          [
           "Atliq_Double_Bedsheet_set",
           "Home Care",
           "mysuru"
          ],
          [
           "Atliq_waterproof_Immersion_Rod",
           "Home Appliances",
           "mysuru"
          ],
          [
           "Atliq_Farm_Chakki_Atta (1KG)",
           "Grocery & Staples",
           "mysuru"
          ],
          [
           "Atliq_High_Glo_15W_LED_Bulb",
           "Home Appliances",
           "vijayawada"
          ],
          [
           "Atliq_Curtains",
           "Home Care",
           "mysuru"
          ],
          [
           "Atliq_Farm_Chakki_Atta (1KG)",
           "Grocery & Staples",
           "mangalore"
          ],
          [
           "Atliq_Double_Bedsheet_set",
           "Home Care",
           "trivandrum"
          ],
          [
           "Atliq_Curtains",
           "Home Care",
           "hyderabad"
          ],
          [
           "Atliq_Curtains",
           "Home Care",
           "bengaluru"
          ],
          [
           "Atliq_waterproof_Immersion_Rod",
           "Home Appliances",
           "visakhapatnam"
          ],
          [
           "Atliq_Curtains",
           "Home Care",
           "coimbatore"
          ],
          [
           "Atliq_High_Glo_15W_LED_Bulb",
           "Home Appliances",
           "chennai"
          ],
          [
           "Atliq_waterproof_Immersion_Rod",
           "Home Appliances",
           "chennai"
          ],
          [
           "Atliq_High_Glo_15W_LED_Bulb",
           "Home Appliances",
           "vijayawada"
          ],
          [
           "Atliq_waterproof_Immersion_Rod",
           "Home Appliances",
           "bengaluru"
          ],
          [
           "Atliq_waterproof_Immersion_Rod",
           "Home Appliances",
           "hyderabad"
          ],
          [
           "Atliq_Double_Bedsheet_set",
           "Home Care",
           "bengaluru"
          ],
          [
           "Atliq_High_Glo_15W_LED_Bulb",
           "Home Appliances",
           "madurai"
          ],
          [
           "Atliq_Suflower_Oil (1L)",
           "Grocery & Staples",
           "bengaluru"
          ],
          [
           "Atliq_Double_Bedsheet_set",
           "Home Care",
           "chennai"
          ],
          [
           "Atliq_Curtains",
           "Home Care",
           "coimbatore"
          ],
          [
           "Atliq_High_Glo_15W_LED_Bulb",
           "Home Appliances",
           "madurai"
          ],
          [
           "Atliq_High_Glo_15W_LED_Bulb",
           "Home Appliances",
           "madurai"
          ],
          [
           "Atliq_Suflower_Oil (1L)",
           "Grocery & Staples",
           "chennai"
          ],
          [
           "Atliq_High_Glo_15W_LED_Bulb",
           "Home Appliances",
           "bengaluru"
          ],
          [
           "Atliq_High_Glo_15W_LED_Bulb",
           "Home Appliances",
           "mysuru"
          ],
          [
           "Atliq_Curtains",
           "Home Care",
           "hyderabad"
          ],
          [
           "Atliq_waterproof_Immersion_Rod",
           "Home Appliances",
           "madurai"
          ],
          [
           "Atliq_Suflower_Oil (1L)",
           "Grocery & Staples",
           "bengaluru"
          ],
          [
           "Atliq_Curtains",
           "Home Care",
           "visakhapatnam"
          ],
          [
           "Atliq_High_Glo_15W_LED_Bulb",
           "Home Appliances",
           "chennai"
          ],
          [
           "Atliq_Curtains",
           "Home Care",
           "hyderabad"
          ],
          [
           "Atliq_High_Glo_15W_LED_Bulb",
           "Home Appliances",
           "chennai"
          ],
          [
           "Atliq_High_Glo_15W_LED_Bulb",
           "Home Appliances",
           "madurai"
          ],
          [
           "Atliq_waterproof_Immersion_Rod",
           "Home Appliances",
           "bengaluru"
          ],
          [
           "Atliq_waterproof_Immersion_Rod",
           "Home Appliances",
           "chennai"
          ],
          [
           "Atliq_High_Glo_15W_LED_Bulb",
           "Home Appliances",
           "hyderabad"
          ],
          [
           "Atliq_High_Glo_15W_LED_Bulb",
           "Home Appliances",
           "chennai"
          ],
          [
           "Atliq_Curtains",
           "Home Care",
           "mysuru"
          ],
          [
           "Atliq_waterproof_Immersion_Rod",
           "Home Appliances",
           "trivandrum"
          ],
          [
           "Atliq_High_Glo_15W_LED_Bulb",
           "Home Appliances",
           "madurai"
          ],
          [
           "Atliq_Farm_Chakki_Atta (1KG)",
           "Grocery & Staples",
           "bengaluru"
          ],
          [
           "Atliq_waterproof_Immersion_Rod",
           "Home Appliances",
           "coimbatore"
          ],
          [
           "Atliq_Curtains",
           "Home Care",
           "vijayawada"
          ],
          [
           "Atliq_High_Glo_15W_LED_Bulb",
           "Home Appliances",
           "bengaluru"
          ],
          [
           "Atliq_Curtains",
           "Home Care",
           "chennai"
          ],
          [
           "Atliq_Double_Bedsheet_set",
           "Home Care",
           "madurai"
          ],
          [
           "Atliq_High_Glo_15W_LED_Bulb",
           "Home Appliances",
           "bengaluru"
          ],
          [
           "Atliq_waterproof_Immersion_Rod",
           "Home Appliances",
           "hyderabad"
          ],
          [
           "Atliq_waterproof_Immersion_Rod",
           "Home Appliances",
           "chennai"
          ],
          [
           "Atliq_High_Glo_15W_LED_Bulb",
           "Home Appliances",
           "visakhapatnam"
          ],
          [
           "Atliq_waterproof_Immersion_Rod",
           "Home Appliances",
           "chennai"
          ],
          [
           "Atliq_waterproof_Immersion_Rod",
           "Home Appliances",
           "visakhapatnam"
          ],
          [
           "Atliq_Curtains",
           "Home Care",
           "chennai"
          ],
          [
           "Atliq_Farm_Chakki_Atta (1KG)",
           "Grocery & Staples",
           "hyderabad"
          ],
          [
           "Atliq_Double_Bedsheet_set",
           "Home Care",
           "bengaluru"
          ],
          [
           "Atliq_waterproof_Immersion_Rod",
           "Home Appliances",
           "visakhapatnam"
          ],
          [
           "Atliq_Double_Bedsheet_set",
           "Home Care",
           "visakhapatnam"
          ],
          [
           "Atliq_High_Glo_15W_LED_Bulb",
           "Home Appliances",
           "bengaluru"
          ],
          [
           "Atliq_Suflower_Oil (1L)",
           "Grocery & Staples",
           "coimbatore"
          ],
          [
           "Atliq_waterproof_Immersion_Rod",
           "Home Appliances",
           "vijayawada"
          ],
          [
           "Atliq_Double_Bedsheet_set",
           "Home Care",
           "bengaluru"
          ],
          [
           "Atliq_High_Glo_15W_LED_Bulb",
           "Home Appliances",
           "mysuru"
          ],
          [
           "Atliq_Suflower_Oil (1L)",
           "Grocery & Staples",
           "visakhapatnam"
          ],
          [
           "Atliq_Double_Bedsheet_set",
           "Home Care",
           "hyderabad"
          ],
          [
           "Atliq_Curtains",
           "Home Care",
           "bengaluru"
          ],
          [
           "Atliq_waterproof_Immersion_Rod",
           "Home Appliances",
           "mangalore"
          ],
          [
           "Atliq_Curtains",
           "Home Care",
           "chennai"
          ],
          [
           "Atliq_High_Glo_15W_LED_Bulb",
           "Home Appliances",
           "mangalore"
          ],
          [
           "Atliq_Farm_Chakki_Atta (1KG)",
           "Grocery & Staples",
           "bengaluru"
          ],
          [
           "Atliq_waterproof_Immersion_Rod",
           "Home Appliances",
           "bengaluru"
          ],
          [
           "Atliq_Curtains",
           "Home Care",
           "bengaluru"
          ],
          [
           "Atliq_Double_Bedsheet_set",
           "Home Care",
           "visakhapatnam"
          ],
          [
           "Atliq_Curtains",
           "Home Care",
           "hyderabad"
          ],
          [
           "Atliq_waterproof_Immersion_Rod",
           "Home Appliances",
           "bengaluru"
          ],
          [
           "Atliq_Double_Bedsheet_set",
           "Home Care",
           "chennai"
          ],
          [
           "Atliq_Double_Bedsheet_set",
           "Home Care",
           "hyderabad"
          ],
          [
           "Atliq_High_Glo_15W_LED_Bulb",
           "Home Appliances",
           "hyderabad"
          ],
          [
           "Atliq_waterproof_Immersion_Rod",
           "Home Appliances",
           "madurai"
          ],
          [
           "Atliq_Farm_Chakki_Atta (1KG)",
           "Grocery & Staples",
           "trivandrum"
          ],
          [
           "Atliq_Double_Bedsheet_set",
           "Home Care",
           "coimbatore"
          ],
          [
           "Atliq_Double_Bedsheet_set",
           "Home Care",
           "mysuru"
          ],
          [
           "Atliq_Suflower_Oil (1L)",
           "Grocery & Staples",
           "madurai"
          ],
          [
           "Atliq_High_Glo_15W_LED_Bulb",
           "Home Appliances",
           "bengaluru"
          ],
          [
           "Atliq_Curtains",
           "Home Care",
           "mysuru"
          ],
          [
           "Atliq_Farm_Chakki_Atta (1KG)",
           "Grocery & Staples",
           "chennai"
          ],
          [
           "Atliq_Curtains",
           "Home Care",
           "madurai"
          ],
          [
           "Atliq_Suflower_Oil (1L)",
           "Grocery & Staples",
           "bengaluru"
          ],
          [
           "Atliq_Double_Bedsheet_set",
           "Home Care",
           "coimbatore"
          ],
          [
           "Atliq_High_Glo_15W_LED_Bulb",
           "Home Appliances",
           "visakhapatnam"
          ],
          [
           "Atliq_Suflower_Oil (1L)",
           "Grocery & Staples",
           "hyderabad"
          ],
          [
           "Atliq_Suflower_Oil (1L)",
           "Grocery & Staples",
           "visakhapatnam"
          ],
          [
           "Atliq_waterproof_Immersion_Rod",
           "Home Appliances",
           "coimbatore"
          ],
          [
           "Atliq_waterproof_Immersion_Rod",
           "Home Appliances",
           "hyderabad"
          ],
          [
           "Atliq_Curtains",
           "Home Care",
           "madurai"
          ],
          [
           "Atliq_Curtains",
           "Home Care",
           "chennai"
          ],
          [
           "Atliq_waterproof_Immersion_Rod",
           "Home Appliances",
           "vijayawada"
          ],
          [
           "Atliq_Farm_Chakki_Atta (1KG)",
           "Grocery & Staples",
           "bengaluru"
          ],
          [
           "Atliq_Curtains",
           "Home Care",
           "hyderabad"
          ],
          [
           "Atliq_Curtains",
           "Home Care",
           "bengaluru"
          ],
          [
           "Atliq_waterproof_Immersion_Rod",
           "Home Appliances",
           "mysuru"
          ],
          [
           "Atliq_waterproof_Immersion_Rod",
           "Home Appliances",
           "bengaluru"
          ],
          [
           "Atliq_Curtains",
           "Home Care",
           "madurai"
          ],
          [
           "Atliq_Suflower_Oil (1L)",
           "Grocery & Staples",
           "mysuru"
          ],
          [
           "Atliq_waterproof_Immersion_Rod",
           "Home Appliances",
           "coimbatore"
          ],
          [
           "Atliq_Suflower_Oil (1L)",
           "Grocery & Staples",
           "bengaluru"
          ],
          [
           "Atliq_waterproof_Immersion_Rod",
           "Home Appliances",
           "chennai"
          ],
          [
           "Atliq_Curtains",
           "Home Care",
           "chennai"
          ],
          [
           "Atliq_waterproof_Immersion_Rod",
           "Home Appliances",
           "bengaluru"
          ],
          [
           "Atliq_Farm_Chakki_Atta (1KG)",
           "Grocery & Staples",
           "coimbatore"
          ],
          [
           "Atliq_Suflower_Oil (1L)",
           "Grocery & Staples",
           "bengaluru"
          ],
          [
           "Atliq_waterproof_Immersion_Rod",
           "Home Appliances",
           "coimbatore"
          ],
          [
           "Atliq_High_Glo_15W_LED_Bulb",
           "Home Appliances",
           "vijayawada"
          ],
          [
           "Atliq_Suflower_Oil (1L)",
           "Grocery & Staples",
           "coimbatore"
          ],
          [
           "Atliq_Farm_Chakki_Atta (1KG)",
           "Grocery & Staples",
           "visakhapatnam"
          ],
          [
           "Atliq_waterproof_Immersion_Rod",
           "Home Appliances",
           "bengaluru"
          ],
          [
           "Atliq_Farm_Chakki_Atta (1KG)",
           "Grocery & Staples",
           "mysuru"
          ],
          [
           "Atliq_Double_Bedsheet_set",
           "Home Care",
           "chennai"
          ],
          [
           "Atliq_Suflower_Oil (1L)",
           "Grocery & Staples",
           "bengaluru"
          ],
          [
           "Atliq_Farm_Chakki_Atta (1KG)",
           "Grocery & Staples",
           "visakhapatnam"
          ],
          [
           "Atliq_Curtains",
           "Home Care",
           "mangalore"
          ],
          [
           "Atliq_Double_Bedsheet_set",
           "Home Care",
           "trivandrum"
          ],
          [
           "Atliq_Curtains",
           "Home Care",
           "vijayawada"
          ],
          [
           "Atliq_Double_Bedsheet_set",
           "Home Care",
           "mangalore"
          ],
          [
           "Atliq_High_Glo_15W_LED_Bulb",
           "Home Appliances",
           "hyderabad"
          ],
          [
           "Atliq_waterproof_Immersion_Rod",
           "Home Appliances",
           "madurai"
          ],
          [
           "Atliq_High_Glo_15W_LED_Bulb",
           "Home Appliances",
           "mysuru"
          ],
          [
           "Atliq_Curtains",
           "Home Care",
           "visakhapatnam"
          ],
          [
           "Atliq_Curtains",
           "Home Care",
           "visakhapatnam"
          ],
          [
           "Atliq_Double_Bedsheet_set",
           "Home Care",
           "trivandrum"
          ],
          [
           "Atliq_High_Glo_15W_LED_Bulb",
           "Home Appliances",
           "madurai"
          ],
          [
           "Atliq_waterproof_Immersion_Rod",
           "Home Appliances",
           "mysuru"
          ],
          [
           "Atliq_Farm_Chakki_Atta (1KG)",
           "Grocery & Staples",
           "madurai"
          ],
          [
           "Atliq_Double_Bedsheet_set",
           "Home Care",
           "bengaluru"
          ],
          [
           "Atliq_High_Glo_15W_LED_Bulb",
           "Home Appliances",
           "chennai"
          ],
          [
           "Atliq_High_Glo_15W_LED_Bulb",
           "Home Appliances",
           "trivandrum"
          ],
          [
           "Atliq_Double_Bedsheet_set",
           "Home Care",
           "mysuru"
          ],
          [
           "Atliq_High_Glo_15W_LED_Bulb",
           "Home Appliances",
           "coimbatore"
          ],
          [
           "Atliq_Farm_Chakki_Atta (1KG)",
           "Grocery & Staples",
           "vijayawada"
          ],
          [
           "Atliq_Double_Bedsheet_set",
           "Home Care",
           "visakhapatnam"
          ],
          [
           "Atliq_Suflower_Oil (1L)",
           "Grocery & Staples",
           "madurai"
          ],
          [
           "Atliq_Suflower_Oil (1L)",
           "Grocery & Staples",
           "bengaluru"
          ],
          [
           "Atliq_waterproof_Immersion_Rod",
           "Home Appliances",
           "coimbatore"
          ],
          [
           "Atliq_Curtains",
           "Home Care",
           "mysuru"
          ],
          [
           "Atliq_High_Glo_15W_LED_Bulb",
           "Home Appliances",
           "coimbatore"
          ],
          [
           "Atliq_Farm_Chakki_Atta (1KG)",
           "Grocery & Staples",
           "bengaluru"
          ],
          [
           "Atliq_Double_Bedsheet_set",
           "Home Care",
           "mysuru"
          ],
          [
           "Atliq_Curtains",
           "Home Care",
           "bengaluru"
          ],
          [
           "Atliq_High_Glo_15W_LED_Bulb",
           "Home Appliances",
           "hyderabad"
          ],
          [
           "Atliq_Double_Bedsheet_set",
           "Home Care",
           "visakhapatnam"
          ],
          [
           "Atliq_High_Glo_15W_LED_Bulb",
           "Home Appliances",
           "hyderabad"
          ],
          [
           "Atliq_waterproof_Immersion_Rod",
           "Home Appliances",
           "hyderabad"
          ],
          [
           "Atliq_waterproof_Immersion_Rod",
           "Home Appliances",
           "chennai"
          ],
          [
           "Atliq_Farm_Chakki_Atta (1KG)",
           "Grocery & Staples",
           "mysuru"
          ],
          [
           "Atliq_waterproof_Immersion_Rod",
           "Home Appliances",
           "coimbatore"
          ],
          [
           "Atliq_Farm_Chakki_Atta (1KG)",
           "Grocery & Staples",
           "mysuru"
          ],
          [
           "Atliq_High_Glo_15W_LED_Bulb",
           "Home Appliances",
           "chennai"
          ],
          [
           "Atliq_Curtains",
           "Home Care",
           "mysuru"
          ],
          [
           "Atliq_waterproof_Immersion_Rod",
           "Home Appliances",
           "mangalore"
          ],
          [
           "Atliq_Farm_Chakki_Atta (1KG)",
           "Grocery & Staples",
           "madurai"
          ],
          [
           "Atliq_Curtains",
           "Home Care",
           "visakhapatnam"
          ],
          [
           "Atliq_Suflower_Oil (1L)",
           "Grocery & Staples",
           "chennai"
          ],
          [
           "Atliq_Double_Bedsheet_set",
           "Home Care",
           "bengaluru"
          ],
          [
           "Atliq_Curtains",
           "Home Care",
           "hyderabad"
          ],
          [
           "Atliq_Curtains",
           "Home Care",
           "mangalore"
          ],
          [
           "Atliq_High_Glo_15W_LED_Bulb",
           "Home Appliances",
           "chennai"
          ],
          [
           "Atliq_Curtains",
           "Home Care",
           "madurai"
          ],
          [
           "Atliq_Double_Bedsheet_set",
           "Home Care",
           "visakhapatnam"
          ],
          [
           "Atliq_Curtains",
           "Home Care",
           "madurai"
          ],
          [
           "Atliq_Farm_Chakki_Atta (1KG)",
           "Grocery & Staples",
           "coimbatore"
          ],
          [
           "Atliq_waterproof_Immersion_Rod",
           "Home Appliances",
           "bengaluru"
          ],
          [
           "Atliq_High_Glo_15W_LED_Bulb",
           "Home Appliances",
           "visakhapatnam"
          ],
          [
           "Atliq_waterproof_Immersion_Rod",
           "Home Appliances",
           "trivandrum"
          ],
          [
           "Atliq_waterproof_Immersion_Rod",
           "Home Appliances",
           "hyderabad"
          ],
          [
           "Atliq_Farm_Chakki_Atta (1KG)",
           "Grocery & Staples",
           "hyderabad"
          ],
          [
           "Atliq_Double_Bedsheet_set",
           "Home Care",
           "chennai"
          ],
          [
           "Atliq_Suflower_Oil (1L)",
           "Grocery & Staples",
           "bengaluru"
          ],
          [
           "Atliq_waterproof_Immersion_Rod",
           "Home Appliances",
           "hyderabad"
          ],
          [
           "Atliq_Curtains",
           "Home Care",
           "hyderabad"
          ],
          [
           "Atliq_High_Glo_15W_LED_Bulb",
           "Home Appliances",
           "chennai"
          ],
          [
           "Atliq_Curtains",
           "Home Care",
           "trivandrum"
          ],
          [
           "Atliq_waterproof_Immersion_Rod",
           "Home Appliances",
           "trivandrum"
          ],
          [
           "Atliq_Curtains",
           "Home Care",
           "hyderabad"
          ],
          [
           "Atliq_waterproof_Immersion_Rod",
           "Home Appliances",
           "bengaluru"
          ],
          [
           "Atliq_Farm_Chakki_Atta (1KG)",
           "Grocery & Staples",
           "mangalore"
          ],
          [
           "Atliq_Suflower_Oil (1L)",
           "Grocery & Staples",
           "hyderabad"
          ],
          [
           "Atliq_Double_Bedsheet_set",
           "Home Care",
           "visakhapatnam"
          ],
          [
           "Atliq_Double_Bedsheet_set",
           "Home Care",
           "mysuru"
          ],
          [
           "Atliq_waterproof_Immersion_Rod",
           "Home Appliances",
           "chennai"
          ],
          [
           "Atliq_High_Glo_15W_LED_Bulb",
           "Home Appliances",
           "coimbatore"
          ],
          [
           "Atliq_waterproof_Immersion_Rod",
           "Home Appliances",
           "hyderabad"
          ],
          [
           "Atliq_High_Glo_15W_LED_Bulb",
           "Home Appliances",
           "visakhapatnam"
          ]
         ],
         "hovertemplate": "promo_type=%{x}<br>base_price=%{marker.size}<br>product_name=%{customdata[0]}<br>category=%{customdata[1]}<br>city=%{customdata[2]}<extra></extra>",
         "legendgroup": "BOGOF",
         "marker": {
          "color": "#00cc96",
          "opacity": 0.7,
          "size": {
           "bdata": "LAFeAaYEyAAsASwB/ANeAaYE/ANeAaYEpgTIAMgApgT8AywBXgH8A14BLAFyAfwDpgTIACwBXgEsAaYEXgFyAV4BXgGmBMgAXgEsAaYEpgTIACwBLAH8AywBLAH8A/wD/ANeAV4BpgRyAV4BpgReAXIBpgT8A8gALAGmBKYE/AMsASwBXgH8A6YEXgFeAV4B/AP8A/wDyACmBKYEpgReASwB/AMsAV4BpgT8AywB/AMsASwByACmBCwB/AOmBCwBLAGmBCwBXgH8A6YE/AOmBKYELAGmBCwBLAFyAaYELAEsAV4B/ANyAV4B/AMsAfwDLAFeAfwDLAHIACwB/ANeAV4BpgQsASwBLAGmBF4ByACmBPwD/AP8A8gAyAD8A6YEyACmBF4BpgSmBF4B/ANeAfwDyAD8A/wDyACmBHIByACmBF4B/AMsAaYEyAByAaYEpgSmBF4B/AP8A14BpgRyASwB/AOmBMgAXgEsAaYEpgT8AywBXgFyAV4B/ANeASwB/APIAMgAXgFyAaYELAFyAfwDpgQsAcgAcgGmBF4ByAD8A6YEXgFeAfwD/APIAHIBLAGmBCwBpgSmBPwDXgGmBCwBLAEsAaYELAHIAMgALAFyAaYEpgRyASwBcgGmBPwDyABeAV4BcgFyAaYELAEsAcgA/AP8A6YEyAAsAfwDpgReAXIBLAFyAV4BpgRyAV4ByABeASwB/AOmBHIBcgH8A6YEcgFeAaYEXgEsAV4ByACmBF4BpgQsAfwDpgReAV4BXgEsASwBXgGmBF4BpgReAXIBcgFyAaYEpgReAV4BcgFeAfwD/AMsAaYE/ANyAV4BLAFyAaYELAEsAfwDLAFeAfwDXgH8A/wDpgReAcgApgQsAV4BXgHIAF4BXgEsAfwDyAAsAV4BLAFeAV4B/AP8A14BXgEsAfwDXgFyAfwDLAFeASwBpgReAfwD/ANeAfwD/AMsAXIBpgT8A6YEXgHIAPwDpgReAcgApgQsAfwDLAFeAXIB/AMsAaYELAH8A6YEpgReAfwDcgGmBKYEyABeASwBcgEsAcgApgReAcgAyAD8A/wDLAEsAfwDcgEsASwB/AP8AywByAD8A8gA/AMsAfwDcgHIAPwDXgHIAHIB/ANyAaYEyAByASwBpgQsAaYEXgH8A14BLAEsAaYEXgH8A3IBpgReAV4BpgReAXIBpgTIAMgA/AMsAV4BcgGmBCwBXgGmBF4B/AP8A3IB/ANyAV4BLAH8A3IBLAHIAKYELAEsAV4BLAGmBCwBcgH8A14B/AP8A3IBpgTIAPwDLAFeASwB/AMsAfwDcgHIAKYEpgT8A14B/ANeAQ==",
           "dtype": "i2"
          },
          "sizemode": "area",
          "sizeref": 7.5,
          "symbol": "circle"
         },
         "mode": "markers",
         "name": "BOGOF",
         "showlegend": true,
         "type": "scattergl",
         "x": [
          "BOGOF",
          "BOGOF",
          "BOGOF",
          "BOGOF",
          "BOGOF",
          "BOGOF",
          "BOGOF",
          "BOGOF",
          "BOGOF",
          "BOGOF",
          "BOGOF",
          "BOGOF",
          "BOGOF",
          "BOGOF",
          "BOGOF",
          "BOGOF",
          "BOGOF",
          "BOGOF",
          "BOGOF",
          "BOGOF",
          "BOGOF",
          "BOGOF",
          "BOGOF",
          "BOGOF",
          "BOGOF",
          "BOGOF",
          "BOGOF",
          "BOGOF",
          "BOGOF",
          "BOGOF",
          "BOGOF",
          "BOGOF",
          "BOGOF",
          "BOGOF",
          "BOGOF",
          "BOGOF",
          "BOGOF",
          "BOGOF",
          "BOGOF",
          "BOGOF",
          "BOGOF",
          "BOGOF",
          "BOGOF",
          "BOGOF",
          "BOGOF",
          "BOGOF",
          "BOGOF",
          "BOGOF",
          "BOGOF",
          "BOGOF",
          "BOGOF",
          "BOGOF",
          "BOGOF",
          "BOGOF",
          "BOGOF",
          "BOGOF",
          "BOGOF",
          "BOGOF",
          "BOGOF",
          "BOGOF",
          "BOGOF",
          "BOGOF",
          "BOGOF",
          "BOGOF",
          "BOGOF",
          "BOGOF",
          "BOGOF",
          "BOGOF",
          "BOGOF",
          "BOGOF",
          "BOGOF",
          "BOGOF",
          "BOGOF",
          "BOGOF",
          "BOGOF",
          "BOGOF",
          "BOGOF",
          "BOGOF",
          "BOGOF",
          "BOGOF",
          "BOGOF",
          "BOGOF",
          "BOGOF",
          "BOGOF",
          "BOGOF",
          "BOGOF",
          "BOGOF",
          "BOGOF",
          "BOGOF",
          "BOGOF",
          "BOGOF",
          "BOGOF",
          "BOGOF",
          "BOGOF",
          "BOGOF",
          "BOGOF",
          "BOGOF",
          "BOGOF",
          "BOGOF",
          "BOGOF",
          "BOGOF",
          "BOGOF",
          "BOGOF",
          "BOGOF",
          "BOGOF",
          "BOGOF",
          "BOGOF",
          "BOGOF",
          "BOGOF",
          "BOGOF",
          "BOGOF",
          "BOGOF",
          "BOGOF",
          "BOGOF",
          "BOGOF",
          "BOGOF",
          "BOGOF",
          "BOGOF",
          "BOGOF",
          "BOGOF",
          "BOGOF",
          "BOGOF",
          "BOGOF",
          "BOGOF",
          "BOGOF",
          "BOGOF",
          "BOGOF",
          "BOGOF",
          "BOGOF",
          "BOGOF",
          "BOGOF",
          "BOGOF",
          "BOGOF",
          "BOGOF",
          "BOGOF",
          "BOGOF",
          "BOGOF",
          "BOGOF",
          "BOGOF",
          "BOGOF",
          "BOGOF",
          "BOGOF",
          "BOGOF",
          "BOGOF",
          "BOGOF",
          "BOGOF",
          "BOGOF",
          "BOGOF",
          "BOGOF",
          "BOGOF",
          "BOGOF",
          "BOGOF",
          "BOGOF",
          "BOGOF",
          "BOGOF",
          "BOGOF",
          "BOGOF",
          "BOGOF",
          "BOGOF",
          "BOGOF",
          "BOGOF",
          "BOGOF",
          "BOGOF",
          "BOGOF",
          "BOGOF",
          "BOGOF",
          "BOGOF",
          "BOGOF",
          "BOGOF",
          "BOGOF",
          "BOGOF",
          "BOGOF",
          "BOGOF",
          "BOGOF",
          "BOGOF",
          "BOGOF",
          "BOGOF",
          "BOGOF",
          "BOGOF",
          "BOGOF",
          "BOGOF",
          "BOGOF",
          "BOGOF",
          "BOGOF",
          "BOGOF",
          "BOGOF",
          "BOGOF",
          "BOGOF",
          "BOGOF",
          "BOGOF",
          "BOGOF",
          "BOGOF",
          "BOGOF",
          "BOGOF",
          "BOGOF",
          "BOGOF",
          "BOGOF",
          "BOGOF",
          "BOGOF",
          "BOGOF",
          "BOGOF",
          "BOGOF",
          "BOGOF",
          "BOGOF",
          "BOGOF",
          "BOGOF",
          "BOGOF",
          "BOGOF",
          "BOGOF",
          "BOGOF",
          "BOGOF",
          "BOGOF",
          "BOGOF",
          "BOGOF",
          "BOGOF",
          "BOGOF",
          "BOGOF",
          "BOGOF",
          "BOGOF",
          "BOGOF",
          "BOGOF",
          "BOGOF",
          "BOGOF",
          "BOGOF",
          "BOGOF",
          "BOGOF",
          "BOGOF",
          "BOGOF",
          "BOGOF",
          "BOGOF",
          "BOGOF",
          "BOGOF",
          "BOGOF",
          "BOGOF",
          "BOGOF",
          "BOGOF",
          "BOGOF",
          "BOGOF",
          "BOGOF",
          "BOGOF",
          "BOGOF",
          "BOGOF",
          "BOGOF",
          "BOGOF",
          "BOGOF",
          "BOGOF",
          "BOGOF",
          "BOGOF",
          "BOGOF",
          "BOGOF",
          "BOGOF",
          "BOGOF",
          "BOGOF",
          "BOGOF",
          "BOGOF",
          "BOGOF",
          "BOGOF",
          "BOGOF",
          "BOGOF",
          "BOGOF",
          "BOGOF",
          "BOGOF",
          "BOGOF",
          "BOGOF",
          "BOGOF",
          "BOGOF",
          "BOGOF",
          "BOGOF",
          "BOGOF",
          "BOGOF",
          "BOGOF",
          "BOGOF",
          "BOGOF",
          "BOGOF",
          "BOGOF",
          "BOGOF",
          "BOGOF",
          "BOGOF",
          "BOGOF",
          "BOGOF",
          "BOGOF",
          "BOGOF",
          "BOGOF",
          "BOGOF",
          "BOGOF",
          "BOGOF",
          "BOGOF",
          "BOGOF",
          "BOGOF",
          "BOGOF",
          "BOGOF",
          "BOGOF",
          "BOGOF",
          "BOGOF",
          "BOGOF",
          "BOGOF",
          "BOGOF",
          "BOGOF",
          "BOGOF",
          "BOGOF",
          "BOGOF",
          "BOGOF",
          "BOGOF",
          "BOGOF",
          "BOGOF",
          "BOGOF",
          "BOGOF",
          "BOGOF",
          "BOGOF",
          "BOGOF",
          "BOGOF",
          "BOGOF",
          "BOGOF",
          "BOGOF",
          "BOGOF",
          "BOGOF",
          "BOGOF",
          "BOGOF",
          "BOGOF",
          "BOGOF",
          "BOGOF",
          "BOGOF",
          "BOGOF",
          "BOGOF",
          "BOGOF",
          "BOGOF",
          "BOGOF",
          "BOGOF",
          "BOGOF",
          "BOGOF",
          "BOGOF",
          "BOGOF",
          "BOGOF",
          "BOGOF",
          "BOGOF",
          "BOGOF",
          "BOGOF",
          "BOGOF",
          "BOGOF",
          "BOGOF",
          "BOGOF",
          "BOGOF",
          "BOGOF",
          "BOGOF",
          "BOGOF",
          "BOGOF",
          "BOGOF",
          "BOGOF",
          "BOGOF",
          "BOGOF",
          "BOGOF",
          "BOGOF",
          "BOGOF",
          "BOGOF",
          "BOGOF",
          "BOGOF",
          "BOGOF",
          "BOGOF",
          "BOGOF",
          "BOGOF",
          "BOGOF",
          "BOGOF",
          "BOGOF",
          "BOGOF",
          "BOGOF",
          "BOGOF",
          "BOGOF",
          "BOGOF",
          "BOGOF",
          "BOGOF",
          "BOGOF",
          "BOGOF",
          "BOGOF",
          "BOGOF",
          "BOGOF",
          "BOGOF",
          "BOGOF",
          "BOGOF",
          "BOGOF",
          "BOGOF",
          "BOGOF",
          "BOGOF",
          "BOGOF",
          "BOGOF",
          "BOGOF",
          "BOGOF",
          "BOGOF",
          "BOGOF",
          "BOGOF",
          "BOGOF",
          "BOGOF",
          "BOGOF",
          "BOGOF",
          "BOGOF",
          "BOGOF",
          "BOGOF",
          "BOGOF",
          "BOGOF",
          "BOGOF",
          "BOGOF",
          "BOGOF",
          "BOGOF",
          "BOGOF",
          "BOGOF",
          "BOGOF",
          "BOGOF",
          "BOGOF",
          "BOGOF",
          "BOGOF",
          "BOGOF",
          "BOGOF",
          "BOGOF",
          "BOGOF",
          "BOGOF",
          "BOGOF",
          "BOGOF",
          "BOGOF",
          "BOGOF",
          "BOGOF",
          "BOGOF",
          "BOGOF",
          "BOGOF",
          "BOGOF",
          "BOGOF",
          "BOGOF",
          "BOGOF",
          "BOGOF",
          "BOGOF",
          "BOGOF",
          "BOGOF",
          "BOGOF",
          "BOGOF",
          "BOGOF",
          "BOGOF",
          "BOGOF",
          "BOGOF",
          "BOGOF",
          "BOGOF",
          "BOGOF",
          "BOGOF",
          "BOGOF",
          "BOGOF",
          "BOGOF",
          "BOGOF",
          "BOGOF",
          "BOGOF",
          "BOGOF",
          "BOGOF",
          "BOGOF",
          "BOGOF",
          "BOGOF",
          "BOGOF",
          "BOGOF",
          "BOGOF",
          "BOGOF",
          "BOGOF",
          "BOGOF",
          "BOGOF",
          "BOGOF",
          "BOGOF",
          "BOGOF",
          "BOGOF",
          "BOGOF",
          "BOGOF",
          "BOGOF",
          "BOGOF",
          "BOGOF",
          "BOGOF",
          "BOGOF",
          "BOGOF",
          "BOGOF",
          "BOGOF",
          "BOGOF",
          "BOGOF",
          "BOGOF",
          "BOGOF",
          "BOGOF",
          "BOGOF",
          "BOGOF",
          "BOGOF",
          "BOGOF",
          "BOGOF",
          "BOGOF",
          "BOGOF",
          "BOGOF",
          "BOGOF",
          "BOGOF",
          "BOGOF",
          "BOGOF",
          "BOGOF",
          "BOGOF",
          "BOGOF",
          "BOGOF",
          "BOGOF",
          "BOGOF",
          "BOGOF",
          "BOGOF",
          "BOGOF",
          "BOGOF",
          "BOGOF"
         ],
         "xaxis": "x",
         "y": {
          "bdata": "LAFeAaYEyAAsASwB/ANeAaYE/ANeAaYEpgTIAMgApgT8AywBXgH8A14BLAFyAfwDpgTIACwBXgEsAaYEXgFyAV4BXgGmBMgAXgEsAaYEpgTIACwBLAH8AywBLAH8A/wD/ANeAV4BpgRyAV4BpgReAXIBpgT8A8gALAGmBKYE/AMsASwBXgH8A6YEXgFeAV4B/AP8A/wDyACmBKYEpgReASwB/AMsAV4BpgT8AywB/AMsASwByACmBCwB/AOmBCwBLAGmBCwBXgH8A6YE/AOmBKYELAGmBCwBLAFyAaYELAEsAV4B/ANyAV4B/AMsAfwDLAFeAfwDLAHIACwB/ANeAV4BpgQsASwBLAGmBF4ByACmBPwD/AP8A8gAyAD8A6YEyACmBF4BpgSmBF4B/ANeAfwDyAD8A/wDyACmBHIByACmBF4B/AMsAaYEyAByAaYEpgSmBF4B/AP8A14BpgRyASwB/AOmBMgAXgEsAaYEpgT8AywBXgFyAV4B/ANeASwB/APIAMgAXgFyAaYELAFyAfwDpgQsAcgAcgGmBF4ByAD8A6YEXgFeAfwD/APIAHIBLAGmBCwBpgSmBPwDXgGmBCwBLAEsAaYELAHIAMgALAFyAaYEpgRyASwBcgGmBPwDyABeAV4BcgFyAaYELAEsAcgA/AP8A6YEyAAsAfwDpgReAXIBLAFyAV4BpgRyAV4ByABeASwB/AOmBHIBcgH8A6YEcgFeAaYEXgEsAV4ByACmBF4BpgQsAfwDpgReAV4BXgEsASwBXgGmBF4BpgReAXIBcgFyAaYEpgReAV4BcgFeAfwD/AMsAaYE/ANyAV4BLAFyAaYELAEsAfwDLAFeAfwDXgH8A/wDpgReAcgApgQsAV4BXgHIAF4BXgEsAfwDyAAsAV4BLAFeAV4B/AP8A14BXgEsAfwDXgFyAfwDLAFeASwBpgReAfwD/ANeAfwD/AMsAXIBpgT8A6YEXgHIAPwDpgReAcgApgQsAfwDLAFeAXIB/AMsAaYELAH8A6YEpgReAfwDcgGmBKYEyABeASwBcgEsAcgApgReAcgAyAD8A/wDLAEsAfwDcgEsASwB/AP8AywByAD8A8gA/AMsAfwDcgHIAPwDXgHIAHIB/ANyAaYEyAByASwBpgQsAaYEXgH8A14BLAEsAaYEXgH8A3IBpgReAV4BpgReAXIBpgTIAMgA/AMsAV4BcgGmBCwBXgGmBF4B/AP8A3IB/ANyAV4BLAH8A3IBLAHIAKYELAEsAV4BLAGmBCwBcgH8A14B/AP8A3IBpgTIAPwDLAFeASwB/AMsAfwDcgHIAKYEpgT8A14B/ANeAQ==",
          "dtype": "i2"
         },
         "yaxis": "y"
        },
        {
         "customdata": [
          [
           "Atliq_Home_Essential_8_Product_Combo",
           "Combo1",
           "coimbatore"
          ],
          [
           "Atliq_Home_Essential_8_Product_Combo",
           "Combo1",
           "hyderabad"
          ],
          [
           "Atliq_Home_Essential_8_Product_Combo",
           "Combo1",
           "coimbatore"
          ],
          [
           "Atliq_Home_Essential_8_Product_Combo",
           "Combo1",
           "visakhapatnam"
          ],
          [
           "Atliq_Home_Essential_8_Product_Combo",
           "Combo1",
           "madurai"
          ],
          [
           "Atliq_Home_Essential_8_Product_Combo",
           "Combo1",
           "coimbatore"
          ],
          [
           "Atliq_Home_Essential_8_Product_Combo",
           "Combo1",
           "vijayawada"
          ],
          [
           "Atliq_Home_Essential_8_Product_Combo",
           "Combo1",
           "visakhapatnam"
          ],
          [
           "Atliq_Home_Essential_8_Product_Combo",
           "Combo1",
           "mangalore"
          ],
          [
           "Atliq_Home_Essential_8_Product_Combo",
           "Combo1",
           "mangalore"
          ],
          [
           "Atliq_Home_Essential_8_Product_Combo",
           "Combo1",
           "bengaluru"
          ],
          [
           "Atliq_Home_Essential_8_Product_Combo",
           "Combo1",
           "visakhapatnam"
          ],
          [
           "Atliq_Home_Essential_8_Product_Combo",
           "Combo1",
           "chennai"
          ],
          [
           "Atliq_Home_Essential_8_Product_Combo",
           "Combo1",
           "madurai"
          ],
          [
           "Atliq_Home_Essential_8_Product_Combo",
           "Combo1",
           "hyderabad"
          ],
          [
           "Atliq_Home_Essential_8_Product_Combo",
           "Combo1",
           "visakhapatnam"
          ],
          [
           "Atliq_Home_Essential_8_Product_Combo",
           "Combo1",
           "bengaluru"
          ],
          [
           "Atliq_Home_Essential_8_Product_Combo",
           "Combo1",
           "hyderabad"
          ],
          [
           "Atliq_Home_Essential_8_Product_Combo",
           "Combo1",
           "hyderabad"
          ],
          [
           "Atliq_Home_Essential_8_Product_Combo",
           "Combo1",
           "visakhapatnam"
          ],
          [
           "Atliq_Home_Essential_8_Product_Combo",
           "Combo1",
           "chennai"
          ],
          [
           "Atliq_Home_Essential_8_Product_Combo",
           "Combo1",
           "hyderabad"
          ],
          [
           "Atliq_Home_Essential_8_Product_Combo",
           "Combo1",
           "bengaluru"
          ],
          [
           "Atliq_Home_Essential_8_Product_Combo",
           "Combo1",
           "bengaluru"
          ],
          [
           "Atliq_Home_Essential_8_Product_Combo",
           "Combo1",
           "hyderabad"
          ],
          [
           "Atliq_Home_Essential_8_Product_Combo",
           "Combo1",
           "chennai"
          ],
          [
           "Atliq_Home_Essential_8_Product_Combo",
           "Combo1",
           "mysuru"
          ],
          [
           "Atliq_Home_Essential_8_Product_Combo",
           "Combo1",
           "visakhapatnam"
          ],
          [
           "Atliq_Home_Essential_8_Product_Combo",
           "Combo1",
           "madurai"
          ],
          [
           "Atliq_Home_Essential_8_Product_Combo",
           "Combo1",
           "chennai"
          ],
          [
           "Atliq_Home_Essential_8_Product_Combo",
           "Combo1",
           "vijayawada"
          ],
          [
           "Atliq_Home_Essential_8_Product_Combo",
           "Combo1",
           "coimbatore"
          ],
          [
           "Atliq_Home_Essential_8_Product_Combo",
           "Combo1",
           "chennai"
          ],
          [
           "Atliq_Home_Essential_8_Product_Combo",
           "Combo1",
           "mysuru"
          ],
          [
           "Atliq_Home_Essential_8_Product_Combo",
           "Combo1",
           "coimbatore"
          ],
          [
           "Atliq_Home_Essential_8_Product_Combo",
           "Combo1",
           "mysuru"
          ],
          [
           "Atliq_Home_Essential_8_Product_Combo",
           "Combo1",
           "chennai"
          ],
          [
           "Atliq_Home_Essential_8_Product_Combo",
           "Combo1",
           "visakhapatnam"
          ],
          [
           "Atliq_Home_Essential_8_Product_Combo",
           "Combo1",
           "coimbatore"
          ],
          [
           "Atliq_Home_Essential_8_Product_Combo",
           "Combo1",
           "coimbatore"
          ],
          [
           "Atliq_Home_Essential_8_Product_Combo",
           "Combo1",
           "visakhapatnam"
          ],
          [
           "Atliq_Home_Essential_8_Product_Combo",
           "Combo1",
           "chennai"
          ],
          [
           "Atliq_Home_Essential_8_Product_Combo",
           "Combo1",
           "bengaluru"
          ],
          [
           "Atliq_Home_Essential_8_Product_Combo",
           "Combo1",
           "chennai"
          ],
          [
           "Atliq_Home_Essential_8_Product_Combo",
           "Combo1",
           "mysuru"
          ],
          [
           "Atliq_Home_Essential_8_Product_Combo",
           "Combo1",
           "coimbatore"
          ],
          [
           "Atliq_Home_Essential_8_Product_Combo",
           "Combo1",
           "hyderabad"
          ],
          [
           "Atliq_Home_Essential_8_Product_Combo",
           "Combo1",
           "bengaluru"
          ],
          [
           "Atliq_Home_Essential_8_Product_Combo",
           "Combo1",
           "mysuru"
          ],
          [
           "Atliq_Home_Essential_8_Product_Combo",
           "Combo1",
           "bengaluru"
          ],
          [
           "Atliq_Home_Essential_8_Product_Combo",
           "Combo1",
           "vijayawada"
          ],
          [
           "Atliq_Home_Essential_8_Product_Combo",
           "Combo1",
           "madurai"
          ],
          [
           "Atliq_Home_Essential_8_Product_Combo",
           "Combo1",
           "hyderabad"
          ],
          [
           "Atliq_Home_Essential_8_Product_Combo",
           "Combo1",
           "bengaluru"
          ],
          [
           "Atliq_Home_Essential_8_Product_Combo",
           "Combo1",
           "madurai"
          ],
          [
           "Atliq_Home_Essential_8_Product_Combo",
           "Combo1",
           "chennai"
          ],
          [
           "Atliq_Home_Essential_8_Product_Combo",
           "Combo1",
           "madurai"
          ],
          [
           "Atliq_Home_Essential_8_Product_Combo",
           "Combo1",
           "hyderabad"
          ],
          [
           "Atliq_Home_Essential_8_Product_Combo",
           "Combo1",
           "mangalore"
          ],
          [
           "Atliq_Home_Essential_8_Product_Combo",
           "Combo1",
           "trivandrum"
          ],
          [
           "Atliq_Home_Essential_8_Product_Combo",
           "Combo1",
           "trivandrum"
          ],
          [
           "Atliq_Home_Essential_8_Product_Combo",
           "Combo1",
           "bengaluru"
          ],
          [
           "Atliq_Home_Essential_8_Product_Combo",
           "Combo1",
           "mangalore"
          ],
          [
           "Atliq_Home_Essential_8_Product_Combo",
           "Combo1",
           "bengaluru"
          ],
          [
           "Atliq_Home_Essential_8_Product_Combo",
           "Combo1",
           "mysuru"
          ],
          [
           "Atliq_Home_Essential_8_Product_Combo",
           "Combo1",
           "bengaluru"
          ],
          [
           "Atliq_Home_Essential_8_Product_Combo",
           "Combo1",
           "mangalore"
          ],
          [
           "Atliq_Home_Essential_8_Product_Combo",
           "Combo1",
           "coimbatore"
          ],
          [
           "Atliq_Home_Essential_8_Product_Combo",
           "Combo1",
           "bengaluru"
          ],
          [
           "Atliq_Home_Essential_8_Product_Combo",
           "Combo1",
           "bengaluru"
          ],
          [
           "Atliq_Home_Essential_8_Product_Combo",
           "Combo1",
           "chennai"
          ],
          [
           "Atliq_Home_Essential_8_Product_Combo",
           "Combo1",
           "chennai"
          ],
          [
           "Atliq_Home_Essential_8_Product_Combo",
           "Combo1",
           "vijayawada"
          ],
          [
           "Atliq_Home_Essential_8_Product_Combo",
           "Combo1",
           "visakhapatnam"
          ],
          [
           "Atliq_Home_Essential_8_Product_Combo",
           "Combo1",
           "hyderabad"
          ],
          [
           "Atliq_Home_Essential_8_Product_Combo",
           "Combo1",
           "bengaluru"
          ],
          [
           "Atliq_Home_Essential_8_Product_Combo",
           "Combo1",
           "bengaluru"
          ],
          [
           "Atliq_Home_Essential_8_Product_Combo",
           "Combo1",
           "chennai"
          ],
          [
           "Atliq_Home_Essential_8_Product_Combo",
           "Combo1",
           "hyderabad"
          ],
          [
           "Atliq_Home_Essential_8_Product_Combo",
           "Combo1",
           "trivandrum"
          ],
          [
           "Atliq_Home_Essential_8_Product_Combo",
           "Combo1",
           "chennai"
          ],
          [
           "Atliq_Home_Essential_8_Product_Combo",
           "Combo1",
           "hyderabad"
          ],
          [
           "Atliq_Home_Essential_8_Product_Combo",
           "Combo1",
           "madurai"
          ],
          [
           "Atliq_Home_Essential_8_Product_Combo",
           "Combo1",
           "mysuru"
          ],
          [
           "Atliq_Home_Essential_8_Product_Combo",
           "Combo1",
           "bengaluru"
          ],
          [
           "Atliq_Home_Essential_8_Product_Combo",
           "Combo1",
           "mysuru"
          ],
          [
           "Atliq_Home_Essential_8_Product_Combo",
           "Combo1",
           "hyderabad"
          ],
          [
           "Atliq_Home_Essential_8_Product_Combo",
           "Combo1",
           "chennai"
          ],
          [
           "Atliq_Home_Essential_8_Product_Combo",
           "Combo1",
           "bengaluru"
          ],
          [
           "Atliq_Home_Essential_8_Product_Combo",
           "Combo1",
           "chennai"
          ],
          [
           "Atliq_Home_Essential_8_Product_Combo",
           "Combo1",
           "hyderabad"
          ],
          [
           "Atliq_Home_Essential_8_Product_Combo",
           "Combo1",
           "chennai"
          ],
          [
           "Atliq_Home_Essential_8_Product_Combo",
           "Combo1",
           "trivandrum"
          ],
          [
           "Atliq_Home_Essential_8_Product_Combo",
           "Combo1",
           "bengaluru"
          ],
          [
           "Atliq_Home_Essential_8_Product_Combo",
           "Combo1",
           "bengaluru"
          ],
          [
           "Atliq_Home_Essential_8_Product_Combo",
           "Combo1",
           "mangalore"
          ],
          [
           "Atliq_Home_Essential_8_Product_Combo",
           "Combo1",
           "bengaluru"
          ],
          [
           "Atliq_Home_Essential_8_Product_Combo",
           "Combo1",
           "coimbatore"
          ],
          [
           "Atliq_Home_Essential_8_Product_Combo",
           "Combo1",
           "madurai"
          ],
          [
           "Atliq_Home_Essential_8_Product_Combo",
           "Combo1",
           "visakhapatnam"
          ]
         ],
         "hovertemplate": "promo_type=%{x}<br>base_price=%{marker.size}<br>product_name=%{customdata[0]}<br>category=%{customdata[1]}<br>city=%{customdata[2]}<extra></extra>",
         "legendgroup": "500 Cashback",
         "marker": {
          "color": "#ab63fa",
          "opacity": 0.7,
          "size": {
           "bdata": "uAu4C7gLuAu4C7gLuAu4C7gLuAu4C7gLuAu4C7gLuAu4C7gLuAu4C7gLuAu4C7gLuAu4C7gLuAu4C7gLuAu4C7gLuAu4C7gLuAu4C7gLuAu4C7gLuAu4C7gLuAu4C7gLuAu4C7gLuAu4C7gLuAu4C7gLuAu4C7gLuAu4C7gLuAu4C7gLuAu4C7gLuAu4C7gLuAu4C7gLuAu4C7gLuAu4C7gLuAu4C7gLuAu4C7gLuAu4C7gLuAu4C7gLuAu4C7gLuAu4C7gLuAs=",
           "dtype": "i2"
          },
          "sizemode": "area",
          "sizeref": 7.5,
          "symbol": "circle"
         },
         "mode": "markers",
         "name": "500 Cashback",
         "showlegend": true,
         "type": "scattergl",
         "x": [
          "500 Cashback",
          "500 Cashback",
          "500 Cashback",
          "500 Cashback",
          "500 Cashback",
          "500 Cashback",
          "500 Cashback",
          "500 Cashback",
          "500 Cashback",
          "500 Cashback",
          "500 Cashback",
          "500 Cashback",
          "500 Cashback",
          "500 Cashback",
          "500 Cashback",
          "500 Cashback",
          "500 Cashback",
          "500 Cashback",
          "500 Cashback",
          "500 Cashback",
          "500 Cashback",
          "500 Cashback",
          "500 Cashback",
          "500 Cashback",
          "500 Cashback",
          "500 Cashback",
          "500 Cashback",
          "500 Cashback",
          "500 Cashback",
          "500 Cashback",
          "500 Cashback",
          "500 Cashback",
          "500 Cashback",
          "500 Cashback",
          "500 Cashback",
          "500 Cashback",
          "500 Cashback",
          "500 Cashback",
          "500 Cashback",
          "500 Cashback",
          "500 Cashback",
          "500 Cashback",
          "500 Cashback",
          "500 Cashback",
          "500 Cashback",
          "500 Cashback",
          "500 Cashback",
          "500 Cashback",
          "500 Cashback",
          "500 Cashback",
          "500 Cashback",
          "500 Cashback",
          "500 Cashback",
          "500 Cashback",
          "500 Cashback",
          "500 Cashback",
          "500 Cashback",
          "500 Cashback",
          "500 Cashback",
          "500 Cashback",
          "500 Cashback",
          "500 Cashback",
          "500 Cashback",
          "500 Cashback",
          "500 Cashback",
          "500 Cashback",
          "500 Cashback",
          "500 Cashback",
          "500 Cashback",
          "500 Cashback",
          "500 Cashback",
          "500 Cashback",
          "500 Cashback",
          "500 Cashback",
          "500 Cashback",
          "500 Cashback",
          "500 Cashback",
          "500 Cashback",
          "500 Cashback",
          "500 Cashback",
          "500 Cashback",
          "500 Cashback",
          "500 Cashback",
          "500 Cashback",
          "500 Cashback",
          "500 Cashback",
          "500 Cashback",
          "500 Cashback",
          "500 Cashback",
          "500 Cashback",
          "500 Cashback",
          "500 Cashback",
          "500 Cashback",
          "500 Cashback",
          "500 Cashback",
          "500 Cashback",
          "500 Cashback",
          "500 Cashback",
          "500 Cashback",
          "500 Cashback"
         ],
         "xaxis": "x",
         "y": {
          "bdata": "uAu4C7gLuAu4C7gLuAu4C7gLuAu4C7gLuAu4C7gLuAu4C7gLuAu4C7gLuAu4C7gLuAu4C7gLuAu4C7gLuAu4C7gLuAu4C7gLuAu4C7gLuAu4C7gLuAu4C7gLuAu4C7gLuAu4C7gLuAu4C7gLuAu4C7gLuAu4C7gLuAu4C7gLuAu4C7gLuAu4C7gLuAu4C7gLuAu4C7gLuAu4C7gLuAu4C7gLuAu4C7gLuAu4C7gLuAu4C7gLuAu4C7gLuAu4C7gLuAu4C7gLuAs=",
          "dtype": "i2"
         },
         "yaxis": "y"
        },
        {
         "customdata": [
          [
           "Atliq_Sonamasuri_Rice (10KG)",
           "Grocery & Staples",
           "visakhapatnam"
          ],
          [
           "Atliq_Masoor_Dal (1KG)",
           "Grocery & Staples",
           "trivandrum"
          ],
          [
           "Atliq_Masoor_Dal (1KG)",
           "Grocery & Staples",
           "mysuru"
          ],
          [
           "Atliq_Masoor_Dal (1KG)",
           "Grocery & Staples",
           "chennai"
          ],
          [
           "Atliq_Masoor_Dal (1KG)",
           "Grocery & Staples",
           "hyderabad"
          ],
          [
           "Atliq_Masoor_Dal (1KG)",
           "Grocery & Staples",
           "chennai"
          ],
          [
           "Atliq_Sonamasuri_Rice (10KG)",
           "Grocery & Staples",
           "visakhapatnam"
          ],
          [
           "Atliq_Masoor_Dal (1KG)",
           "Grocery & Staples",
           "chennai"
          ],
          [
           "Atliq_Sonamasuri_Rice (10KG)",
           "Grocery & Staples",
           "hyderabad"
          ],
          [
           "Atliq_Sonamasuri_Rice (10KG)",
           "Grocery & Staples",
           "hyderabad"
          ],
          [
           "Atliq_Sonamasuri_Rice (10KG)",
           "Grocery & Staples",
           "hyderabad"
          ],
          [
           "Atliq_Sonamasuri_Rice (10KG)",
           "Grocery & Staples",
           "trivandrum"
          ],
          [
           "Atliq_Masoor_Dal (1KG)",
           "Grocery & Staples",
           "mysuru"
          ],
          [
           "Atliq_Sonamasuri_Rice (10KG)",
           "Grocery & Staples",
           "madurai"
          ],
          [
           "Atliq_Sonamasuri_Rice (10KG)",
           "Grocery & Staples",
           "vijayawada"
          ],
          [
           "Atliq_Sonamasuri_Rice (10KG)",
           "Grocery & Staples",
           "hyderabad"
          ],
          [
           "Atliq_Masoor_Dal (1KG)",
           "Grocery & Staples",
           "vijayawada"
          ],
          [
           "Atliq_Sonamasuri_Rice (10KG)",
           "Grocery & Staples",
           "chennai"
          ],
          [
           "Atliq_Sonamasuri_Rice (10KG)",
           "Grocery & Staples",
           "madurai"
          ],
          [
           "Atliq_Masoor_Dal (1KG)",
           "Grocery & Staples",
           "mangalore"
          ],
          [
           "Atliq_Masoor_Dal (1KG)",
           "Grocery & Staples",
           "visakhapatnam"
          ],
          [
           "Atliq_Masoor_Dal (1KG)",
           "Grocery & Staples",
           "bengaluru"
          ],
          [
           "Atliq_Sonamasuri_Rice (10KG)",
           "Grocery & Staples",
           "mysuru"
          ],
          [
           "Atliq_Sonamasuri_Rice (10KG)",
           "Grocery & Staples",
           "trivandrum"
          ],
          [
           "Atliq_Sonamasuri_Rice (10KG)",
           "Grocery & Staples",
           "visakhapatnam"
          ],
          [
           "Atliq_Masoor_Dal (1KG)",
           "Grocery & Staples",
           "bengaluru"
          ],
          [
           "Atliq_Sonamasuri_Rice (10KG)",
           "Grocery & Staples",
           "vijayawada"
          ],
          [
           "Atliq_Masoor_Dal (1KG)",
           "Grocery & Staples",
           "bengaluru"
          ],
          [
           "Atliq_Masoor_Dal (1KG)",
           "Grocery & Staples",
           "visakhapatnam"
          ],
          [
           "Atliq_Masoor_Dal (1KG)",
           "Grocery & Staples",
           "madurai"
          ],
          [
           "Atliq_Sonamasuri_Rice (10KG)",
           "Grocery & Staples",
           "coimbatore"
          ],
          [
           "Atliq_Masoor_Dal (1KG)",
           "Grocery & Staples",
           "bengaluru"
          ],
          [
           "Atliq_Sonamasuri_Rice (10KG)",
           "Grocery & Staples",
           "hyderabad"
          ],
          [
           "Atliq_Masoor_Dal (1KG)",
           "Grocery & Staples",
           "coimbatore"
          ],
          [
           "Atliq_Sonamasuri_Rice (10KG)",
           "Grocery & Staples",
           "mangalore"
          ],
          [
           "Atliq_Masoor_Dal (1KG)",
           "Grocery & Staples",
           "mangalore"
          ],
          [
           "Atliq_Masoor_Dal (1KG)",
           "Grocery & Staples",
           "mangalore"
          ],
          [
           "Atliq_Sonamasuri_Rice (10KG)",
           "Grocery & Staples",
           "bengaluru"
          ],
          [
           "Atliq_Sonamasuri_Rice (10KG)",
           "Grocery & Staples",
           "visakhapatnam"
          ],
          [
           "Atliq_Sonamasuri_Rice (10KG)",
           "Grocery & Staples",
           "chennai"
          ],
          [
           "Atliq_Sonamasuri_Rice (10KG)",
           "Grocery & Staples",
           "coimbatore"
          ],
          [
           "Atliq_Masoor_Dal (1KG)",
           "Grocery & Staples",
           "mysuru"
          ],
          [
           "Atliq_Masoor_Dal (1KG)",
           "Grocery & Staples",
           "trivandrum"
          ],
          [
           "Atliq_Masoor_Dal (1KG)",
           "Grocery & Staples",
           "madurai"
          ],
          [
           "Atliq_Sonamasuri_Rice (10KG)",
           "Grocery & Staples",
           "bengaluru"
          ],
          [
           "Atliq_Masoor_Dal (1KG)",
           "Grocery & Staples",
           "bengaluru"
          ],
          [
           "Atliq_Sonamasuri_Rice (10KG)",
           "Grocery & Staples",
           "hyderabad"
          ],
          [
           "Atliq_Masoor_Dal (1KG)",
           "Grocery & Staples",
           "bengaluru"
          ],
          [
           "Atliq_Masoor_Dal (1KG)",
           "Grocery & Staples",
           "chennai"
          ],
          [
           "Atliq_Masoor_Dal (1KG)",
           "Grocery & Staples",
           "visakhapatnam"
          ],
          [
           "Atliq_Sonamasuri_Rice (10KG)",
           "Grocery & Staples",
           "bengaluru"
          ],
          [
           "Atliq_Masoor_Dal (1KG)",
           "Grocery & Staples",
           "hyderabad"
          ],
          [
           "Atliq_Masoor_Dal (1KG)",
           "Grocery & Staples",
           "chennai"
          ],
          [
           "Atliq_Masoor_Dal (1KG)",
           "Grocery & Staples",
           "coimbatore"
          ],
          [
           "Atliq_Sonamasuri_Rice (10KG)",
           "Grocery & Staples",
           "hyderabad"
          ],
          [
           "Atliq_Masoor_Dal (1KG)",
           "Grocery & Staples",
           "hyderabad"
          ],
          [
           "Atliq_Masoor_Dal (1KG)",
           "Grocery & Staples",
           "bengaluru"
          ],
          [
           "Atliq_Masoor_Dal (1KG)",
           "Grocery & Staples",
           "visakhapatnam"
          ],
          [
           "Atliq_Sonamasuri_Rice (10KG)",
           "Grocery & Staples",
           "chennai"
          ],
          [
           "Atliq_Sonamasuri_Rice (10KG)",
           "Grocery & Staples",
           "coimbatore"
          ],
          [
           "Atliq_Sonamasuri_Rice (10KG)",
           "Grocery & Staples",
           "mangalore"
          ],
          [
           "Atliq_Sonamasuri_Rice (10KG)",
           "Grocery & Staples",
           "chennai"
          ],
          [
           "Atliq_Masoor_Dal (1KG)",
           "Grocery & Staples",
           "hyderabad"
          ],
          [
           "Atliq_Sonamasuri_Rice (10KG)",
           "Grocery & Staples",
           "mysuru"
          ],
          [
           "Atliq_Sonamasuri_Rice (10KG)",
           "Grocery & Staples",
           "chennai"
          ],
          [
           "Atliq_Masoor_Dal (1KG)",
           "Grocery & Staples",
           "bengaluru"
          ],
          [
           "Atliq_Sonamasuri_Rice (10KG)",
           "Grocery & Staples",
           "coimbatore"
          ],
          [
           "Atliq_Sonamasuri_Rice (10KG)",
           "Grocery & Staples",
           "chennai"
          ],
          [
           "Atliq_Masoor_Dal (1KG)",
           "Grocery & Staples",
           "chennai"
          ],
          [
           "Atliq_Masoor_Dal (1KG)",
           "Grocery & Staples",
           "bengaluru"
          ],
          [
           "Atliq_Sonamasuri_Rice (10KG)",
           "Grocery & Staples",
           "chennai"
          ],
          [
           "Atliq_Masoor_Dal (1KG)",
           "Grocery & Staples",
           "bengaluru"
          ],
          [
           "Atliq_Sonamasuri_Rice (10KG)",
           "Grocery & Staples",
           "bengaluru"
          ],
          [
           "Atliq_Masoor_Dal (1KG)",
           "Grocery & Staples",
           "hyderabad"
          ],
          [
           "Atliq_Masoor_Dal (1KG)",
           "Grocery & Staples",
           "chennai"
          ],
          [
           "Atliq_Sonamasuri_Rice (10KG)",
           "Grocery & Staples",
           "mysuru"
          ],
          [
           "Atliq_Masoor_Dal (1KG)",
           "Grocery & Staples",
           "coimbatore"
          ],
          [
           "Atliq_Masoor_Dal (1KG)",
           "Grocery & Staples",
           "hyderabad"
          ],
          [
           "Atliq_Sonamasuri_Rice (10KG)",
           "Grocery & Staples",
           "chennai"
          ],
          [
           "Atliq_Masoor_Dal (1KG)",
           "Grocery & Staples",
           "vijayawada"
          ],
          [
           "Atliq_Sonamasuri_Rice (10KG)",
           "Grocery & Staples",
           "hyderabad"
          ],
          [
           "Atliq_Masoor_Dal (1KG)",
           "Grocery & Staples",
           "mysuru"
          ],
          [
           "Atliq_Masoor_Dal (1KG)",
           "Grocery & Staples",
           "mangalore"
          ],
          [
           "Atliq_Masoor_Dal (1KG)",
           "Grocery & Staples",
           "bengaluru"
          ],
          [
           "Atliq_Masoor_Dal (1KG)",
           "Grocery & Staples",
           "chennai"
          ],
          [
           "Atliq_Sonamasuri_Rice (10KG)",
           "Grocery & Staples",
           "bengaluru"
          ],
          [
           "Atliq_Masoor_Dal (1KG)",
           "Grocery & Staples",
           "chennai"
          ],
          [
           "Atliq_Sonamasuri_Rice (10KG)",
           "Grocery & Staples",
           "bengaluru"
          ],
          [
           "Atliq_Sonamasuri_Rice (10KG)",
           "Grocery & Staples",
           "chennai"
          ],
          [
           "Atliq_Masoor_Dal (1KG)",
           "Grocery & Staples",
           "visakhapatnam"
          ],
          [
           "Atliq_Sonamasuri_Rice (10KG)",
           "Grocery & Staples",
           "mysuru"
          ],
          [
           "Atliq_Masoor_Dal (1KG)",
           "Grocery & Staples",
           "mangalore"
          ],
          [
           "Atliq_Sonamasuri_Rice (10KG)",
           "Grocery & Staples",
           "hyderabad"
          ],
          [
           "Atliq_Sonamasuri_Rice (10KG)",
           "Grocery & Staples",
           "bengaluru"
          ],
          [
           "Atliq_Masoor_Dal (1KG)",
           "Grocery & Staples",
           "hyderabad"
          ],
          [
           "Atliq_Sonamasuri_Rice (10KG)",
           "Grocery & Staples",
           "mangalore"
          ],
          [
           "Atliq_Sonamasuri_Rice (10KG)",
           "Grocery & Staples",
           "bengaluru"
          ],
          [
           "Atliq_Sonamasuri_Rice (10KG)",
           "Grocery & Staples",
           "bengaluru"
          ],
          [
           "Atliq_Sonamasuri_Rice (10KG)",
           "Grocery & Staples",
           "bengaluru"
          ],
          [
           "Atliq_Sonamasuri_Rice (10KG)",
           "Grocery & Staples",
           "mysuru"
          ],
          [
           "Atliq_Sonamasuri_Rice (10KG)",
           "Grocery & Staples",
           "visakhapatnam"
          ],
          [
           "Atliq_Sonamasuri_Rice (10KG)",
           "Grocery & Staples",
           "hyderabad"
          ],
          [
           "Atliq_Sonamasuri_Rice (10KG)",
           "Grocery & Staples",
           "bengaluru"
          ],
          [
           "Atliq_Masoor_Dal (1KG)",
           "Grocery & Staples",
           "coimbatore"
          ],
          [
           "Atliq_Masoor_Dal (1KG)",
           "Grocery & Staples",
           "chennai"
          ],
          [
           "Atliq_Masoor_Dal (1KG)",
           "Grocery & Staples",
           "bengaluru"
          ],
          [
           "Atliq_Sonamasuri_Rice (10KG)",
           "Grocery & Staples",
           "bengaluru"
          ],
          [
           "Atliq_Sonamasuri_Rice (10KG)",
           "Grocery & Staples",
           "hyderabad"
          ],
          [
           "Atliq_Masoor_Dal (1KG)",
           "Grocery & Staples",
           "trivandrum"
          ],
          [
           "Atliq_Masoor_Dal (1KG)",
           "Grocery & Staples",
           "coimbatore"
          ],
          [
           "Atliq_Sonamasuri_Rice (10KG)",
           "Grocery & Staples",
           "madurai"
          ],
          [
           "Atliq_Sonamasuri_Rice (10KG)",
           "Grocery & Staples",
           "visakhapatnam"
          ],
          [
           "Atliq_Masoor_Dal (1KG)",
           "Grocery & Staples",
           "madurai"
          ],
          [
           "Atliq_Masoor_Dal (1KG)",
           "Grocery & Staples",
           "madurai"
          ],
          [
           "Atliq_Sonamasuri_Rice (10KG)",
           "Grocery & Staples",
           "bengaluru"
          ],
          [
           "Atliq_Sonamasuri_Rice (10KG)",
           "Grocery & Staples",
           "madurai"
          ],
          [
           "Atliq_Sonamasuri_Rice (10KG)",
           "Grocery & Staples",
           "chennai"
          ],
          [
           "Atliq_Masoor_Dal (1KG)",
           "Grocery & Staples",
           "coimbatore"
          ],
          [
           "Atliq_Masoor_Dal (1KG)",
           "Grocery & Staples",
           "mysuru"
          ],
          [
           "Atliq_Masoor_Dal (1KG)",
           "Grocery & Staples",
           "hyderabad"
          ],
          [
           "Atliq_Sonamasuri_Rice (10KG)",
           "Grocery & Staples",
           "mangalore"
          ],
          [
           "Atliq_Masoor_Dal (1KG)",
           "Grocery & Staples",
           "chennai"
          ],
          [
           "Atliq_Sonamasuri_Rice (10KG)",
           "Grocery & Staples",
           "visakhapatnam"
          ],
          [
           "Atliq_Masoor_Dal (1KG)",
           "Grocery & Staples",
           "hyderabad"
          ],
          [
           "Atliq_Masoor_Dal (1KG)",
           "Grocery & Staples",
           "hyderabad"
          ],
          [
           "Atliq_Sonamasuri_Rice (10KG)",
           "Grocery & Staples",
           "bengaluru"
          ],
          [
           "Atliq_Sonamasuri_Rice (10KG)",
           "Grocery & Staples",
           "mysuru"
          ],
          [
           "Atliq_Sonamasuri_Rice (10KG)",
           "Grocery & Staples",
           "madurai"
          ],
          [
           "Atliq_Masoor_Dal (1KG)",
           "Grocery & Staples",
           "visakhapatnam"
          ],
          [
           "Atliq_Masoor_Dal (1KG)",
           "Grocery & Staples",
           "hyderabad"
          ],
          [
           "Atliq_Sonamasuri_Rice (10KG)",
           "Grocery & Staples",
           "chennai"
          ],
          [
           "Atliq_Masoor_Dal (1KG)",
           "Grocery & Staples",
           "coimbatore"
          ],
          [
           "Atliq_Sonamasuri_Rice (10KG)",
           "Grocery & Staples",
           "coimbatore"
          ],
          [
           "Atliq_Sonamasuri_Rice (10KG)",
           "Grocery & Staples",
           "coimbatore"
          ],
          [
           "Atliq_Masoor_Dal (1KG)",
           "Grocery & Staples",
           "chennai"
          ],
          [
           "Atliq_Masoor_Dal (1KG)",
           "Grocery & Staples",
           "chennai"
          ],
          [
           "Atliq_Sonamasuri_Rice (10KG)",
           "Grocery & Staples",
           "coimbatore"
          ],
          [
           "Atliq_Sonamasuri_Rice (10KG)",
           "Grocery & Staples",
           "trivandrum"
          ],
          [
           "Atliq_Masoor_Dal (1KG)",
           "Grocery & Staples",
           "bengaluru"
          ],
          [
           "Atliq_Sonamasuri_Rice (10KG)",
           "Grocery & Staples",
           "mangalore"
          ],
          [
           "Atliq_Masoor_Dal (1KG)",
           "Grocery & Staples",
           "hyderabad"
          ],
          [
           "Atliq_Sonamasuri_Rice (10KG)",
           "Grocery & Staples",
           "mysuru"
          ],
          [
           "Atliq_Sonamasuri_Rice (10KG)",
           "Grocery & Staples",
           "chennai"
          ],
          [
           "Atliq_Masoor_Dal (1KG)",
           "Grocery & Staples",
           "chennai"
          ],
          [
           "Atliq_Sonamasuri_Rice (10KG)",
           "Grocery & Staples",
           "bengaluru"
          ],
          [
           "Atliq_Masoor_Dal (1KG)",
           "Grocery & Staples",
           "vijayawada"
          ],
          [
           "Atliq_Masoor_Dal (1KG)",
           "Grocery & Staples",
           "mysuru"
          ],
          [
           "Atliq_Sonamasuri_Rice (10KG)",
           "Grocery & Staples",
           "vijayawada"
          ],
          [
           "Atliq_Masoor_Dal (1KG)",
           "Grocery & Staples",
           "bengaluru"
          ],
          [
           "Atliq_Masoor_Dal (1KG)",
           "Grocery & Staples",
           "chennai"
          ],
          [
           "Atliq_Sonamasuri_Rice (10KG)",
           "Grocery & Staples",
           "chennai"
          ],
          [
           "Atliq_Masoor_Dal (1KG)",
           "Grocery & Staples",
           "visakhapatnam"
          ],
          [
           "Atliq_Masoor_Dal (1KG)",
           "Grocery & Staples",
           "bengaluru"
          ],
          [
           "Atliq_Sonamasuri_Rice (10KG)",
           "Grocery & Staples",
           "chennai"
          ],
          [
           "Atliq_Sonamasuri_Rice (10KG)",
           "Grocery & Staples",
           "hyderabad"
          ],
          [
           "Atliq_Masoor_Dal (1KG)",
           "Grocery & Staples",
           "bengaluru"
          ],
          [
           "Atliq_Masoor_Dal (1KG)",
           "Grocery & Staples",
           "hyderabad"
          ],
          [
           "Atliq_Masoor_Dal (1KG)",
           "Grocery & Staples",
           "chennai"
          ],
          [
           "Atliq_Sonamasuri_Rice (10KG)",
           "Grocery & Staples",
           "mysuru"
          ],
          [
           "Atliq_Sonamasuri_Rice (10KG)",
           "Grocery & Staples",
           "mangalore"
          ],
          [
           "Atliq_Sonamasuri_Rice (10KG)",
           "Grocery & Staples",
           "chennai"
          ],
          [
           "Atliq_Sonamasuri_Rice (10KG)",
           "Grocery & Staples",
           "hyderabad"
          ],
          [
           "Atliq_Masoor_Dal (1KG)",
           "Grocery & Staples",
           "visakhapatnam"
          ],
          [
           "Atliq_Masoor_Dal (1KG)",
           "Grocery & Staples",
           "bengaluru"
          ],
          [
           "Atliq_Sonamasuri_Rice (10KG)",
           "Grocery & Staples",
           "coimbatore"
          ],
          [
           "Atliq_Masoor_Dal (1KG)",
           "Grocery & Staples",
           "madurai"
          ],
          [
           "Atliq_Sonamasuri_Rice (10KG)",
           "Grocery & Staples",
           "trivandrum"
          ],
          [
           "Atliq_Sonamasuri_Rice (10KG)",
           "Grocery & Staples",
           "bengaluru"
          ],
          [
           "Atliq_Masoor_Dal (1KG)",
           "Grocery & Staples",
           "madurai"
          ],
          [
           "Atliq_Sonamasuri_Rice (10KG)",
           "Grocery & Staples",
           "madurai"
          ],
          [
           "Atliq_Masoor_Dal (1KG)",
           "Grocery & Staples",
           "bengaluru"
          ],
          [
           "Atliq_Sonamasuri_Rice (10KG)",
           "Grocery & Staples",
           "visakhapatnam"
          ],
          [
           "Atliq_Masoor_Dal (1KG)",
           "Grocery & Staples",
           "visakhapatnam"
          ],
          [
           "Atliq_Masoor_Dal (1KG)",
           "Grocery & Staples",
           "mangalore"
          ],
          [
           "Atliq_Masoor_Dal (1KG)",
           "Grocery & Staples",
           "vijayawada"
          ],
          [
           "Atliq_Masoor_Dal (1KG)",
           "Grocery & Staples",
           "visakhapatnam"
          ],
          [
           "Atliq_Masoor_Dal (1KG)",
           "Grocery & Staples",
           "bengaluru"
          ],
          [
           "Atliq_Sonamasuri_Rice (10KG)",
           "Grocery & Staples",
           "bengaluru"
          ],
          [
           "Atliq_Sonamasuri_Rice (10KG)",
           "Grocery & Staples",
           "coimbatore"
          ],
          [
           "Atliq_Sonamasuri_Rice (10KG)",
           "Grocery & Staples",
           "madurai"
          ],
          [
           "Atliq_Sonamasuri_Rice (10KG)",
           "Grocery & Staples",
           "visakhapatnam"
          ],
          [
           "Atliq_Sonamasuri_Rice (10KG)",
           "Grocery & Staples",
           "chennai"
          ],
          [
           "Atliq_Masoor_Dal (1KG)",
           "Grocery & Staples",
           "madurai"
          ],
          [
           "Atliq_Sonamasuri_Rice (10KG)",
           "Grocery & Staples",
           "bengaluru"
          ],
          [
           "Atliq_Masoor_Dal (1KG)",
           "Grocery & Staples",
           "mysuru"
          ],
          [
           "Atliq_Masoor_Dal (1KG)",
           "Grocery & Staples",
           "coimbatore"
          ],
          [
           "Atliq_Masoor_Dal (1KG)",
           "Grocery & Staples",
           "coimbatore"
          ],
          [
           "Atliq_Sonamasuri_Rice (10KG)",
           "Grocery & Staples",
           "bengaluru"
          ],
          [
           "Atliq_Sonamasuri_Rice (10KG)",
           "Grocery & Staples",
           "bengaluru"
          ],
          [
           "Atliq_Masoor_Dal (1KG)",
           "Grocery & Staples",
           "coimbatore"
          ],
          [
           "Atliq_Masoor_Dal (1KG)",
           "Grocery & Staples",
           "trivandrum"
          ],
          [
           "Atliq_Sonamasuri_Rice (10KG)",
           "Grocery & Staples",
           "coimbatore"
          ],
          [
           "Atliq_Sonamasuri_Rice (10KG)",
           "Grocery & Staples",
           "hyderabad"
          ],
          [
           "Atliq_Masoor_Dal (1KG)",
           "Grocery & Staples",
           "hyderabad"
          ],
          [
           "Atliq_Masoor_Dal (1KG)",
           "Grocery & Staples",
           "mysuru"
          ],
          [
           "Atliq_Masoor_Dal (1KG)",
           "Grocery & Staples",
           "bengaluru"
          ],
          [
           "Atliq_Sonamasuri_Rice (10KG)",
           "Grocery & Staples",
           "vijayawada"
          ],
          [
           "Atliq_Masoor_Dal (1KG)",
           "Grocery & Staples",
           "madurai"
          ],
          [
           "Atliq_Sonamasuri_Rice (10KG)",
           "Grocery & Staples",
           "madurai"
          ],
          [
           "Atliq_Sonamasuri_Rice (10KG)",
           "Grocery & Staples",
           "visakhapatnam"
          ]
         ],
         "hovertemplate": "promo_type=%{x}<br>base_price=%{marker.size}<br>product_name=%{customdata[0]}<br>category=%{customdata[1]}<br>city=%{customdata[2]}<extra></extra>",
         "legendgroup": "33% OFF",
         "marker": {
          "color": "#FFA15A",
          "opacity": 0.7,
          "size": {
           "bdata": "XAOsAKwArACsAKwAXAOsAFwDXANcA1wDrABcA1wDXAOsAFwDXAOsAKwArABcA1wDXAOsAFwDrACsAKwAXAOsAFwDrABcA6wArABcA1wDXANcA6wArACsAFwDrABcA6wArACsAFwDrACsAKwAXAOsAKwArABcA1wDXANcA6wAXANcA6wAXANcA6wArABcA6wAXAOsAKwAXAOsAKwAXAOsAFwDrACsAKwArABcA6wAXANcA6wAXAOsAFwDXAOsAFwDXANcA1wDXANcA1wDXAOsAKwArABcA1wDrACsAFwDXAOsAKwAXANcA1wDrACsAKwAXAOsAFwDrACsAFwDXANcA6wArABcA6wAXANcA6wArABcA1wDrABcA6wAXANcA6wAXAOsAKwAXAOsAKwAXAOsAKwAXANcA6wArACsAFwDXANcA1wDrACsAFwDrABcA1wDrABcA6wAXAOsAKwArACsAKwAXANcA1wDXANcA6wAXAOsAKwArABcA1wDrACsAFwDXAOsAKwArABcA6wAXANcAw==",
           "dtype": "i2"
          },
          "sizemode": "area",
          "sizeref": 7.5,
          "symbol": "circle"
         },
         "mode": "markers",
         "name": "33% OFF",
         "showlegend": true,
         "type": "scattergl",
         "x": [
          "33% OFF",
          "33% OFF",
          "33% OFF",
          "33% OFF",
          "33% OFF",
          "33% OFF",
          "33% OFF",
          "33% OFF",
          "33% OFF",
          "33% OFF",
          "33% OFF",
          "33% OFF",
          "33% OFF",
          "33% OFF",
          "33% OFF",
          "33% OFF",
          "33% OFF",
          "33% OFF",
          "33% OFF",
          "33% OFF",
          "33% OFF",
          "33% OFF",
          "33% OFF",
          "33% OFF",
          "33% OFF",
          "33% OFF",
          "33% OFF",
          "33% OFF",
          "33% OFF",
          "33% OFF",
          "33% OFF",
          "33% OFF",
          "33% OFF",
          "33% OFF",
          "33% OFF",
          "33% OFF",
          "33% OFF",
          "33% OFF",
          "33% OFF",
          "33% OFF",
          "33% OFF",
          "33% OFF",
          "33% OFF",
          "33% OFF",
          "33% OFF",
          "33% OFF",
          "33% OFF",
          "33% OFF",
          "33% OFF",
          "33% OFF",
          "33% OFF",
          "33% OFF",
          "33% OFF",
          "33% OFF",
          "33% OFF",
          "33% OFF",
          "33% OFF",
          "33% OFF",
          "33% OFF",
          "33% OFF",
          "33% OFF",
          "33% OFF",
          "33% OFF",
          "33% OFF",
          "33% OFF",
          "33% OFF",
          "33% OFF",
          "33% OFF",
          "33% OFF",
          "33% OFF",
          "33% OFF",
          "33% OFF",
          "33% OFF",
          "33% OFF",
          "33% OFF",
          "33% OFF",
          "33% OFF",
          "33% OFF",
          "33% OFF",
          "33% OFF",
          "33% OFF",
          "33% OFF",
          "33% OFF",
          "33% OFF",
          "33% OFF",
          "33% OFF",
          "33% OFF",
          "33% OFF",
          "33% OFF",
          "33% OFF",
          "33% OFF",
          "33% OFF",
          "33% OFF",
          "33% OFF",
          "33% OFF",
          "33% OFF",
          "33% OFF",
          "33% OFF",
          "33% OFF",
          "33% OFF",
          "33% OFF",
          "33% OFF",
          "33% OFF",
          "33% OFF",
          "33% OFF",
          "33% OFF",
          "33% OFF",
          "33% OFF",
          "33% OFF",
          "33% OFF",
          "33% OFF",
          "33% OFF",
          "33% OFF",
          "33% OFF",
          "33% OFF",
          "33% OFF",
          "33% OFF",
          "33% OFF",
          "33% OFF",
          "33% OFF",
          "33% OFF",
          "33% OFF",
          "33% OFF",
          "33% OFF",
          "33% OFF",
          "33% OFF",
          "33% OFF",
          "33% OFF",
          "33% OFF",
          "33% OFF",
          "33% OFF",
          "33% OFF",
          "33% OFF",
          "33% OFF",
          "33% OFF",
          "33% OFF",
          "33% OFF",
          "33% OFF",
          "33% OFF",
          "33% OFF",
          "33% OFF",
          "33% OFF",
          "33% OFF",
          "33% OFF",
          "33% OFF",
          "33% OFF",
          "33% OFF",
          "33% OFF",
          "33% OFF",
          "33% OFF",
          "33% OFF",
          "33% OFF",
          "33% OFF",
          "33% OFF",
          "33% OFF",
          "33% OFF",
          "33% OFF",
          "33% OFF",
          "33% OFF",
          "33% OFF",
          "33% OFF",
          "33% OFF",
          "33% OFF",
          "33% OFF",
          "33% OFF",
          "33% OFF",
          "33% OFF",
          "33% OFF",
          "33% OFF",
          "33% OFF",
          "33% OFF",
          "33% OFF",
          "33% OFF",
          "33% OFF",
          "33% OFF",
          "33% OFF",
          "33% OFF",
          "33% OFF",
          "33% OFF",
          "33% OFF",
          "33% OFF",
          "33% OFF",
          "33% OFF",
          "33% OFF",
          "33% OFF",
          "33% OFF",
          "33% OFF",
          "33% OFF",
          "33% OFF",
          "33% OFF",
          "33% OFF",
          "33% OFF",
          "33% OFF",
          "33% OFF",
          "33% OFF",
          "33% OFF",
          "33% OFF",
          "33% OFF",
          "33% OFF",
          "33% OFF"
         ],
         "xaxis": "x",
         "y": {
          "bdata": "XAOsAKwArACsAKwAXAOsAFwDXANcA1wDrABcA1wDXAOsAFwDXAOsAKwArABcA1wDXAOsAFwDrACsAKwAXAOsAFwDrABcA6wArABcA1wDXANcA6wArACsAFwDrABcA6wArACsAFwDrACsAKwAXAOsAKwArABcA1wDXANcA6wAXANcA6wAXANcA6wArABcA6wAXAOsAKwAXAOsAKwAXAOsAFwDrACsAKwArABcA6wAXANcA6wAXAOsAFwDXAOsAFwDXANcA1wDXANcA1wDXAOsAKwArABcA1wDrACsAFwDXAOsAKwAXANcA1wDrACsAKwAXAOsAFwDrACsAFwDXANcA6wArABcA6wAXANcA6wArABcA1wDrABcA6wAXANcA6wAXAOsAKwAXAOsAKwAXAOsAKwAXANcA6wArACsAFwDXANcA1wDrACsAFwDrABcA1wDrABcA6wAXAOsAKwArACsAKwAXANcA1wDXANcA6wAXAOsAKwArABcA1wDrACsAFwDXAOsAKwArABcA6wAXANcAw==",
          "dtype": "i2"
         },
         "yaxis": "y"
        }
       ],
       "layout": {
        "legend": {
         "itemsizing": "constant",
         "title": {
          "text": "promo_type"
         },
         "tracegroupgap": 0
        },
        "showlegend": false,
        "template": {
         "data": {
          "bar": [
           {
            "error_x": {
             "color": "#f2f5fa"
            },
            "error_y": {
             "color": "#f2f5fa"
            },
            "marker": {
             "line": {
              "color": "rgb(17,17,17)",
              "width": 0.5
             },
             "pattern": {
              "fillmode": "overlay",
              "size": 10,
              "solidity": 0.2
             }
            },
            "type": "bar"
           }
          ],
          "barpolar": [
           {
            "marker": {
             "line": {
              "color": "rgb(17,17,17)",
              "width": 0.5
             },
             "pattern": {
              "fillmode": "overlay",
              "size": 10,
              "solidity": 0.2
             }
            },
            "type": "barpolar"
           }
          ],
          "carpet": [
           {
            "aaxis": {
             "endlinecolor": "#A2B1C6",
             "gridcolor": "#506784",
             "linecolor": "#506784",
             "minorgridcolor": "#506784",
             "startlinecolor": "#A2B1C6"
            },
            "baxis": {
             "endlinecolor": "#A2B1C6",
             "gridcolor": "#506784",
             "linecolor": "#506784",
             "minorgridcolor": "#506784",
             "startlinecolor": "#A2B1C6"
            },
            "type": "carpet"
           }
          ],
          "choropleth": [
           {
            "colorbar": {
             "outlinewidth": 0,
             "ticks": ""
            },
            "type": "choropleth"
           }
          ],
          "contour": [
           {
            "colorbar": {
             "outlinewidth": 0,
             "ticks": ""
            },
            "colorscale": [
             [
              0,
              "#0d0887"
             ],
             [
              0.1111111111111111,
              "#46039f"
             ],
             [
              0.2222222222222222,
              "#7201a8"
             ],
             [
              0.3333333333333333,
              "#9c179e"
             ],
             [
              0.4444444444444444,
              "#bd3786"
             ],
             [
              0.5555555555555556,
              "#d8576b"
             ],
             [
              0.6666666666666666,
              "#ed7953"
             ],
             [
              0.7777777777777778,
              "#fb9f3a"
             ],
             [
              0.8888888888888888,
              "#fdca26"
             ],
             [
              1,
              "#f0f921"
             ]
            ],
            "type": "contour"
           }
          ],
          "contourcarpet": [
           {
            "colorbar": {
             "outlinewidth": 0,
             "ticks": ""
            },
            "type": "contourcarpet"
           }
          ],
          "heatmap": [
           {
            "colorbar": {
             "outlinewidth": 0,
             "ticks": ""
            },
            "colorscale": [
             [
              0,
              "#0d0887"
             ],
             [
              0.1111111111111111,
              "#46039f"
             ],
             [
              0.2222222222222222,
              "#7201a8"
             ],
             [
              0.3333333333333333,
              "#9c179e"
             ],
             [
              0.4444444444444444,
              "#bd3786"
             ],
             [
              0.5555555555555556,
              "#d8576b"
             ],
             [
              0.6666666666666666,
              "#ed7953"
             ],
             [
              0.7777777777777778,
              "#fb9f3a"
             ],
             [
              0.8888888888888888,
              "#fdca26"
             ],
             [
              1,
              "#f0f921"
             ]
            ],
            "type": "heatmap"
           }
          ],
          "histogram": [
           {
            "marker": {
             "pattern": {
              "fillmode": "overlay",
              "size": 10,
              "solidity": 0.2
             }
            },
            "type": "histogram"
           }
          ],
          "histogram2d": [
           {
            "colorbar": {
             "outlinewidth": 0,
             "ticks": ""
            },
            "colorscale": [
             [
              0,
              "#0d0887"
             ],
             [
              0.1111111111111111,
              "#46039f"
             ],
             [
              0.2222222222222222,
              "#7201a8"
             ],
             [
              0.3333333333333333,
              "#9c179e"
             ],
             [
              0.4444444444444444,
              "#bd3786"
             ],
             [
              0.5555555555555556,
              "#d8576b"
             ],
             [
              0.6666666666666666,
              "#ed7953"
             ],
             [
              0.7777777777777778,
              "#fb9f3a"
             ],
             [
              0.8888888888888888,
              "#fdca26"
             ],
             [
              1,
              "#f0f921"
             ]
            ],
            "type": "histogram2d"
           }
          ],
          "histogram2dcontour": [
           {
            "colorbar": {
             "outlinewidth": 0,
             "ticks": ""
            },
            "colorscale": [
             [
              0,
              "#0d0887"
             ],
             [
              0.1111111111111111,
              "#46039f"
             ],
             [
              0.2222222222222222,
              "#7201a8"
             ],
             [
              0.3333333333333333,
              "#9c179e"
             ],
             [
              0.4444444444444444,
              "#bd3786"
             ],
             [
              0.5555555555555556,
              "#d8576b"
             ],
             [
              0.6666666666666666,
              "#ed7953"
             ],
             [
              0.7777777777777778,
              "#fb9f3a"
             ],
             [
              0.8888888888888888,
              "#fdca26"
             ],
             [
              1,
              "#f0f921"
             ]
            ],
            "type": "histogram2dcontour"
           }
          ],
          "mesh3d": [
           {
            "colorbar": {
             "outlinewidth": 0,
             "ticks": ""
            },
            "type": "mesh3d"
           }
          ],
          "parcoords": [
           {
            "line": {
             "colorbar": {
              "outlinewidth": 0,
              "ticks": ""
             }
            },
            "type": "parcoords"
           }
          ],
          "pie": [
           {
            "automargin": true,
            "type": "pie"
           }
          ],
          "scatter": [
           {
            "marker": {
             "line": {
              "color": "#283442"
             }
            },
            "type": "scatter"
           }
          ],
          "scatter3d": [
           {
            "line": {
             "colorbar": {
              "outlinewidth": 0,
              "ticks": ""
             }
            },
            "marker": {
             "colorbar": {
              "outlinewidth": 0,
              "ticks": ""
             }
            },
            "type": "scatter3d"
           }
          ],
          "scattercarpet": [
           {
            "marker": {
             "colorbar": {
              "outlinewidth": 0,
              "ticks": ""
             }
            },
            "type": "scattercarpet"
           }
          ],
          "scattergeo": [
           {
            "marker": {
             "colorbar": {
              "outlinewidth": 0,
              "ticks": ""
             }
            },
            "type": "scattergeo"
           }
          ],
          "scattergl": [
           {
            "marker": {
             "line": {
              "color": "#283442"
             }
            },
            "type": "scattergl"
           }
          ],
          "scattermap": [
           {
            "marker": {
             "colorbar": {
              "outlinewidth": 0,
              "ticks": ""
             }
            },
            "type": "scattermap"
           }
          ],
          "scattermapbox": [
           {
            "marker": {
             "colorbar": {
              "outlinewidth": 0,
              "ticks": ""
             }
            },
            "type": "scattermapbox"
           }
          ],
          "scatterpolar": [
           {
            "marker": {
             "colorbar": {
              "outlinewidth": 0,
              "ticks": ""
             }
            },
            "type": "scatterpolar"
           }
          ],
          "scatterpolargl": [
           {
            "marker": {
             "colorbar": {
              "outlinewidth": 0,
              "ticks": ""
             }
            },
            "type": "scatterpolargl"
           }
          ],
          "scatterternary": [
           {
            "marker": {
             "colorbar": {
              "outlinewidth": 0,
              "ticks": ""
             }
            },
            "type": "scatterternary"
           }
          ],
          "surface": [
           {
            "colorbar": {
             "outlinewidth": 0,
             "ticks": ""
            },
            "colorscale": [
             [
              0,
              "#0d0887"
             ],
             [
              0.1111111111111111,
              "#46039f"
             ],
             [
              0.2222222222222222,
              "#7201a8"
             ],
             [
              0.3333333333333333,
              "#9c179e"
             ],
             [
              0.4444444444444444,
              "#bd3786"
             ],
             [
              0.5555555555555556,
              "#d8576b"
             ],
             [
              0.6666666666666666,
              "#ed7953"
             ],
             [
              0.7777777777777778,
              "#fb9f3a"
             ],
             [
              0.8888888888888888,
              "#fdca26"
             ],
             [
              1,
              "#f0f921"
             ]
            ],
            "type": "surface"
           }
          ],
          "table": [
           {
            "cells": {
             "fill": {
              "color": "#506784"
             },
             "line": {
              "color": "rgb(17,17,17)"
             }
            },
            "header": {
             "fill": {
              "color": "#2a3f5f"
             },
             "line": {
              "color": "rgb(17,17,17)"
             }
            },
            "type": "table"
           }
          ]
         },
         "layout": {
          "annotationdefaults": {
           "arrowcolor": "#f2f5fa",
           "arrowhead": 0,
           "arrowwidth": 1
          },
          "autotypenumbers": "strict",
          "coloraxis": {
           "colorbar": {
            "outlinewidth": 0,
            "ticks": ""
           }
          },
          "colorscale": {
           "diverging": [
            [
             0,
             "#8e0152"
            ],
            [
             0.1,
             "#c51b7d"
            ],
            [
             0.2,
             "#de77ae"
            ],
            [
             0.3,
             "#f1b6da"
            ],
            [
             0.4,
             "#fde0ef"
            ],
            [
             0.5,
             "#f7f7f7"
            ],
            [
             0.6,
             "#e6f5d0"
            ],
            [
             0.7,
             "#b8e186"
            ],
            [
             0.8,
             "#7fbc41"
            ],
            [
             0.9,
             "#4d9221"
            ],
            [
             1,
             "#276419"
            ]
           ],
           "sequential": [
            [
             0,
             "#0d0887"
            ],
            [
             0.1111111111111111,
             "#46039f"
            ],
            [
             0.2222222222222222,
             "#7201a8"
            ],
            [
             0.3333333333333333,
             "#9c179e"
            ],
            [
             0.4444444444444444,
             "#bd3786"
            ],
            [
             0.5555555555555556,
             "#d8576b"
            ],
            [
             0.6666666666666666,
             "#ed7953"
            ],
            [
             0.7777777777777778,
             "#fb9f3a"
            ],
            [
             0.8888888888888888,
             "#fdca26"
            ],
            [
             1,
             "#f0f921"
            ]
           ],
           "sequentialminus": [
            [
             0,
             "#0d0887"
            ],
            [
             0.1111111111111111,
             "#46039f"
            ],
            [
             0.2222222222222222,
             "#7201a8"
            ],
            [
             0.3333333333333333,
             "#9c179e"
            ],
            [
             0.4444444444444444,
             "#bd3786"
            ],
            [
             0.5555555555555556,
             "#d8576b"
            ],
            [
             0.6666666666666666,
             "#ed7953"
            ],
            [
             0.7777777777777778,
             "#fb9f3a"
            ],
            [
             0.8888888888888888,
             "#fdca26"
            ],
            [
             1,
             "#f0f921"
            ]
           ]
          },
          "colorway": [
           "#636efa",
           "#EF553B",
           "#00cc96",
           "#ab63fa",
           "#FFA15A",
           "#19d3f3",
           "#FF6692",
           "#B6E880",
           "#FF97FF",
           "#FECB52"
          ],
          "font": {
           "color": "#f2f5fa"
          },
          "geo": {
           "bgcolor": "rgb(17,17,17)",
           "lakecolor": "rgb(17,17,17)",
           "landcolor": "rgb(17,17,17)",
           "showlakes": true,
           "showland": true,
           "subunitcolor": "#506784"
          },
          "hoverlabel": {
           "align": "left"
          },
          "hovermode": "closest",
          "mapbox": {
           "style": "dark"
          },
          "paper_bgcolor": "rgb(17,17,17)",
          "plot_bgcolor": "rgb(17,17,17)",
          "polar": {
           "angularaxis": {
            "gridcolor": "#506784",
            "linecolor": "#506784",
            "ticks": ""
           },
           "bgcolor": "rgb(17,17,17)",
           "radialaxis": {
            "gridcolor": "#506784",
            "linecolor": "#506784",
            "ticks": ""
           }
          },
          "scene": {
           "xaxis": {
            "backgroundcolor": "rgb(17,17,17)",
            "gridcolor": "#506784",
            "gridwidth": 2,
            "linecolor": "#506784",
            "showbackground": true,
            "ticks": "",
            "zerolinecolor": "#C8D4E3"
           },
           "yaxis": {
            "backgroundcolor": "rgb(17,17,17)",
            "gridcolor": "#506784",
            "gridwidth": 2,
            "linecolor": "#506784",
            "showbackground": true,
            "ticks": "",
            "zerolinecolor": "#C8D4E3"
           },
           "zaxis": {
            "backgroundcolor": "rgb(17,17,17)",
            "gridcolor": "#506784",
            "gridwidth": 2,
            "linecolor": "#506784",
            "showbackground": true,
            "ticks": "",
            "zerolinecolor": "#C8D4E3"
           }
          },
          "shapedefaults": {
           "line": {
            "color": "#f2f5fa"
           }
          },
          "sliderdefaults": {
           "bgcolor": "#C8D4E3",
           "bordercolor": "rgb(17,17,17)",
           "borderwidth": 1,
           "tickwidth": 0
          },
          "ternary": {
           "aaxis": {
            "gridcolor": "#506784",
            "linecolor": "#506784",
            "ticks": ""
           },
           "baxis": {
            "gridcolor": "#506784",
            "linecolor": "#506784",
            "ticks": ""
           },
           "bgcolor": "rgb(17,17,17)",
           "caxis": {
            "gridcolor": "#506784",
            "linecolor": "#506784",
            "ticks": ""
           }
          },
          "title": {
           "x": 0.05
          },
          "updatemenudefaults": {
           "bgcolor": "#506784",
           "borderwidth": 0
          },
          "xaxis": {
           "automargin": true,
           "gridcolor": "#283442",
           "linecolor": "#506784",
           "ticks": "",
           "title": {
            "standoff": 15
           },
           "zerolinecolor": "#283442",
           "zerolinewidth": 2
          },
          "yaxis": {
           "automargin": true,
           "gridcolor": "#283442",
           "linecolor": "#506784",
           "ticks": "",
           "title": {
            "standoff": 15
           },
           "zerolinecolor": "#283442",
           "zerolinewidth": 2
          }
         }
        },
        "title": {
         "text": "Base Price Distribution by Promotion Type with Product Details",
         "x": 0.5
        },
        "xaxis": {
         "anchor": "y",
         "categoryarray": [
          "50% OFF",
          "25% OFF",
          "BOGOF",
          "500 Cashback",
          "33% OFF"
         ],
         "categoryorder": "array",
         "domain": [
          0,
          1
         ],
         "title": {
          "text": "Promotion Type"
         }
        },
        "yaxis": {
         "anchor": "x",
         "domain": [
          0,
          1
         ],
         "title": {
          "text": "Base Price"
         }
        }
       }
      }
     },
     "metadata": {},
     "output_type": "display_data"
    }
   ],
   "source": [
    "\n",
    "# Scatter plot: base price vs. promotion type, showing product names\n",
    "fig = px.scatter(\n",
    "    df,\n",
    "    x='promo_type',\n",
    "    y='base_price',\n",
    "    color='promo_type',\n",
    "    hover_data=['product_name', 'category', 'city'],\n",
    "    title='Base Price Distribution by Promotion Type with Product Details',\n",
    "    template='plotly_dark',\n",
    "    size='base_price',   # bubble size shows magnitude of price\n",
    "    size_max=20,\n",
    "    opacity=0.7\n",
    ")\n",
    "\n",
    "fig.update_layout(\n",
    "    xaxis_title='Promotion Type',\n",
    "    yaxis_title='Base Price',\n",
    "    title_x=0.5,\n",
    "    showlegend=False\n",
    ")\n",
    "\n",
    "fig.show()\n"
   ]
  },
  {
   "cell_type": "code",
   "execution_count": 101,
   "id": "af6aacdb",
   "metadata": {},
   "outputs": [],
   "source": [
    "event_data_clean\n",
    "event_data_clean.to_csv('clean_revenue.csv', index=False)"
   ]
  },
  {
   "cell_type": "code",
   "execution_count": 102,
   "id": "62cc6ef8",
   "metadata": {},
   "outputs": [],
   "source": [
    "df\n",
    "df.to_csv('clean_all.csv', index=False)"
   ]
  },
  {
   "cell_type": "code",
   "execution_count": null,
   "id": "2aa4767d",
   "metadata": {},
   "outputs": [],
   "source": []
  }
 ],
 "metadata": {
  "kernelspec": {
   "display_name": "Python 3",
   "language": "python",
   "name": "python3"
  },
  "language_info": {
   "codemirror_mode": {
    "name": "ipython",
    "version": 3
   },
   "file_extension": ".py",
   "mimetype": "text/x-python",
   "name": "python",
   "nbconvert_exporter": "python",
   "pygments_lexer": "ipython3",
   "version": "3.13.2"
  }
 },
 "nbformat": 4,
 "nbformat_minor": 5
}
