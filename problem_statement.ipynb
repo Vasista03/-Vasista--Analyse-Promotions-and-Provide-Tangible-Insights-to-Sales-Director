{
 "cells": [
  {
   "cell_type": "markdown",
   "id": "ac4c3853",
   "metadata": {},
   "source": [
    "### Problem Statement"
   ]
  },
  {
   "cell_type": "markdown",
   "id": "5d2cafcd",
   "metadata": {},
   "source": [
    "Domain: FMCG\n",
    "\n",
    "Function: Sales / Promotions\n",
    "\n",
    "FreshMart is a leading retail chain with more than 60 supermarkets across the southern states of India. During the festive seasons of Diwali 2023 and Sankranti 2024, all FreshMart outlets launched large-scale promotional campaigns on their in-house branded products. Now, the Sales Director is keen to evaluate the performance of these promotions — to identify which campaigns were successful and which fell short — in order to plan more effective promotional strategies for the next festive season.\n",
    "\n",
    "While the Sales Director, Mr. Kunal Deshpande, wanted the results urgently, the analytics manager, Rohit Menon, was already occupied with another priority project. To ensure the task was completed on time, Rohit delegated the responsibility to Aditi Sharma, a data analyst at FreshMart known for her curiosity and problem-solving skills.\n",
    "\n",
    "Since the analysis outcomes will directly guide strategic sales decisions, Rohit also shared some initial guidance and notes with Aditi to support her work in preparing actionable insights for the Sales Director."
   ]
  },
  {
   "cell_type": "markdown",
   "id": "f045d05c",
   "metadata": {},
   "source": []
  },
  {
   "cell_type": "markdown",
   "id": "5520b87b",
   "metadata": {},
   "source": [
    "This file contains all the meta information regarding the columns described in the CSV files. We have provided 4 CSV files:\n",
    "1. dim_campaigns\n",
    "2. dim_products\n",
    "3. dim_stores\n",
    "4. fact_events\n",
    "\n",
    "\n",
    "Column Description for dim_campaigns:\n",
    "- campaign_id: Unique identifier for each promotional campaign.\n",
    "- campaign_name: Descriptive name of the campaign (e.g., Diwali, Sankranti).\n",
    "- start_date: The date on which the campaign begins, formatted as DD-MM-YYYY.\n",
    "- end_date: The date on which the campaign ends, formatted as DD-MM-YYYY.\n",
    "\n",
    "\n",
    "*******************************************\n",
    "\n",
    "\n",
    "Column Description for dim_products:\n",
    "- product_code: Unique code assigned to each product for identification.\n",
    "- product_name: The full name of the product, including brand and specifics (e.g., quantity, size).\n",
    "- category: The classification of the product into broader categories such as Grocery & Staples, Home Care, Personal Care, Home Appliances, etc.\n",
    "\n",
    "\n",
    "*******************************************\n",
    "\n",
    "\n",
    "\n",
    "Column Description for dim_stores:\n",
    "- store_id: Unique code identifying each store location.\n",
    "- city: The city where the store is located, indicating the geographical market.\n",
    "\n",
    "\n",
    "*******************************************\n",
    "\n",
    "\n",
    "\n",
    "Column Description for fact_events:\n",
    "\n",
    "event_id: Unique identifier for each sales event.\n",
    "\n",
    "store_id: Refers to the store where the event took place, linked to the dim_stores table.\n",
    "\n",
    "campaign_id: Indicates the campaign under which the event was recorded, linked to the dim_campaigns table.\n",
    "\n",
    "product_code: The code of the product involved in the sales event, linked to the dim_products table.\n",
    "\n",
    "base_price: The standard price of the product before any promotional discount.\n",
    "\n",
    "promo_type: The type of promotion applied (e.g., percentage discount, BOGOF(Buy One Get One Free), cashback).\n",
    "\n",
    "quantity_sold(before_promo): The number of units sold in the week immediately preceding the start of the campaign, serving as a baseline for comparison with promotional sales.\n",
    "\n",
    "quantity_sold(after_promo): The quantity of the product sold after the promotion was applied.\n",
    "\n",
    "\n",
    "*******************************************\n",
    "\n",
    "\n",
    "\n",
    "Note: The database named `retail_events_db` includes all the tables mentioned above. This is useful while writing SQL queries to find answers to business questions."
   ]
  },
  {
   "cell_type": "markdown",
   "id": "d601908f",
   "metadata": {},
   "source": []
  }
 ],
 "metadata": {
  "kernelspec": {
   "display_name": "Python 3",
   "language": "python",
   "name": "python3"
  },
  "language_info": {
   "codemirror_mode": {
    "name": "ipython",
    "version": 3
   },
   "file_extension": ".py",
   "mimetype": "text/x-python",
   "name": "python",
   "nbconvert_exporter": "python",
   "pygments_lexer": "ipython3",
   "version": "3.13.2"
  }
 },
 "nbformat": 4,
 "nbformat_minor": 5
}
